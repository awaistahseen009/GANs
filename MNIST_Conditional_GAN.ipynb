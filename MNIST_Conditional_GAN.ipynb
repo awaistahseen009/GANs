{
  "cells": [
    {
      "cell_type": "markdown",
      "source": [
        "## Importing the necessary libraries"
      ],
      "metadata": {
        "id": "Sq6DjV7Vdygr"
      }
    },
    {
      "cell_type": "code",
      "execution_count": null,
      "metadata": {
        "id": "Q8Gh0IMQOdrI"
      },
      "outputs": [],
      "source": [
        "import tensorflow as tf\n",
        "import numpy as np\n",
        "import pandas as pd\n",
        "import keras\n",
        "from keras import backend\n",
        "from keras.layers import *\n",
        "from keras.models import Model\n",
        "from keras.optimizers import Adam"
      ]
    },
    {
      "cell_type": "markdown",
      "source": [
        "## Loading mnist dataset from keras"
      ],
      "metadata": {
        "id": "17OBn4Xdd4hf"
      }
    },
    {
      "cell_type": "code",
      "execution_count": null,
      "metadata": {
        "id": "9UpfxazoPF8J"
      },
      "outputs": [],
      "source": [
        "from keras.datasets.mnist import load_data"
      ]
    },
    {
      "cell_type": "code",
      "execution_count": null,
      "metadata": {
        "id": "y91Tnl2bPmEK"
      },
      "outputs": [],
      "source": [
        "(x,y),(_,_)=load_data()"
      ]
    },
    {
      "cell_type": "markdown",
      "source": [
        "## Preparing the dataset\n"
      ],
      "metadata": {
        "id": "ZegTEobCeIrP"
      }
    },
    {
      "cell_type": "code",
      "execution_count": null,
      "metadata": {
        "id": "_gGqafmKQmmA"
      },
      "outputs": [],
      "source": [
        "def prepare_dataset(x_train,y_train):\n",
        "  x_train=np.expand_dims(x,axis=3)\n",
        "  x_train=(x.astype('float32')-127.5)/127.5\n",
        "  return [x_train,y_train]"
      ]
    },
    {
      "cell_type": "markdown",
      "source": [
        "## Fetching some real samples from dataset"
      ],
      "metadata": {
        "id": "1Dq_fO7feVh3"
      }
    },
    {
      "cell_type": "code",
      "execution_count": null,
      "metadata": {
        "id": "iBC-L8u3VU90"
      },
      "outputs": [],
      "source": [
        "def gen_real_samples(dataset,n_samples):\n",
        "  x,labels=dataset\n",
        "  indices=np.random.randint(0,x.shape[0],n_samples)\n",
        "  x_train,labels= x[indices],labels[indices]\n",
        "  y=np.ones((n_samples,1))\n",
        "  return [x_train,labels],y"
      ]
    },
    {
      "cell_type": "markdown",
      "source": [
        "## Getting latent vector from latent space"
      ],
      "metadata": {
        "id": "sCXg3bgEecBX"
      }
    },
    {
      "cell_type": "code",
      "execution_count": null,
      "metadata": {
        "id": "DAdQhe4FXUDA"
      },
      "outputs": [],
      "source": [
        "def get_latent_vector(n_samples,dimension,n_classes=10):\n",
        "  points=np.random.randn(n_samples*dimension)\n",
        "  points=points.reshape(n_samples,dimension)\n",
        "  labels=np.random.randint(0,n_classes,n_samples)\n",
        "  return [points,labels]"
      ]
    },
    {
      "cell_type": "markdown",
      "source": [
        "## Getting fake samples by passing latent vector"
      ],
      "metadata": {
        "id": "L2A0UXN_enVS"
      }
    },
    {
      "cell_type": "code",
      "execution_count": null,
      "metadata": {
        "id": "kVGvOhYUWie1"
      },
      "outputs": [],
      "source": [
        "def gen_fake_samples(generator,n_samples,latent_dimension):\n",
        "  latent_vector,labels=get_latent_vector(n_samples,latent_dimension)\n",
        "  image=generator.predict([latent_vector,labels])\n",
        "  y=np.zeros((n_samples,1))\n",
        "  return [image,labels],y"
      ]
    },
    {
      "cell_type": "markdown",
      "source": [
        "## Discriminator Model for classification"
      ],
      "metadata": {
        "id": "erjRTvG5ettQ"
      }
    },
    {
      "cell_type": "code",
      "execution_count": null,
      "metadata": {
        "id": "i_kGg88_Z8nN"
      },
      "outputs": [],
      "source": [
        "def discriminator(input_shape=(28,28,1),n_classes=10):\n",
        "  inp1=Input(shape=(1,))\n",
        "  ao=Embedding(n_classes,50)(inp1)\n",
        "  nodes = input_shape[0] * input_shape[1]\n",
        "  ao=Dense(nodes)(ao)\n",
        "  ao=Reshape((input_shape[0],input_shape[1],1))(ao)\n",
        "  inp2=Input(shape=input_shape)\n",
        "  conc=Concatenate()([inp2,ao])\n",
        "  fl=Conv2D(128,3,2,padding='same')(conc)\n",
        "  fl=LeakyReLU(alpha=0.2)(fl)\n",
        "  fl=Conv2D(128,3,2,padding='same')(fl)\n",
        "  fl=LeakyReLU(alpha=0.2)(fl)\n",
        "  fl=Flatten()(fl)\n",
        "  fl=Dropout(0.4)(fl)\n",
        "  last=Dense(1,activation='sigmoid')(fl)\n",
        "  model=Model([inp2,inp1],last)\n",
        "  opt=keras.optimizers.Adam(learning_rate=0.0002, beta_1=0.5)\n",
        "  model.compile(optimizer=opt,loss='binary_crossentropy',metrics=['accuracy'])\n",
        "  model.summary()\n",
        "  return model\n"
      ]
    },
    {
      "cell_type": "code",
      "execution_count": null,
      "metadata": {
        "colab": {
          "base_uri": "https://localhost:8080/"
        },
        "id": "jZM6wVuIh5wY",
        "outputId": "513a16fc-667a-4fb9-e201-20c2a6f8ae4c"
      },
      "outputs": [
        {
          "name": "stdout",
          "output_type": "stream",
          "text": [
            "Model: \"model_86\"\n",
            "__________________________________________________________________________________________________\n",
            " Layer (type)                   Output Shape         Param #     Connected to                     \n",
            "==================================================================================================\n",
            " input_115 (InputLayer)         [(None, 1)]          0           []                               \n",
            "                                                                                                  \n",
            " embedding_57 (Embedding)       (None, 1, 50)        500         ['input_115[0][0]']              \n",
            "                                                                                                  \n",
            " dense_114 (Dense)              (None, 1, 784)       39984       ['embedding_57[0][0]']           \n",
            "                                                                                                  \n",
            " input_116 (InputLayer)         [(None, 28, 28, 1)]  0           []                               \n",
            "                                                                                                  \n",
            " reshape_86 (Reshape)           (None, 28, 28, 1)    0           ['dense_114[0][0]']              \n",
            "                                                                                                  \n",
            " concatenate_57 (Concatenate)   (None, 28, 28, 2)    0           ['input_116[0][0]',              \n",
            "                                                                  'reshape_86[0][0]']             \n",
            "                                                                                                  \n",
            " conv2d_85 (Conv2D)             (None, 14, 14, 128)  2432        ['concatenate_57[0][0]']         \n",
            "                                                                                                  \n",
            " leaky_re_lu_143 (LeakyReLU)    (None, 14, 14, 128)  0           ['conv2d_85[0][0]']              \n",
            "                                                                                                  \n",
            " conv2d_86 (Conv2D)             (None, 7, 7, 128)    147584      ['leaky_re_lu_143[0][0]']        \n",
            "                                                                                                  \n",
            " leaky_re_lu_144 (LeakyReLU)    (None, 7, 7, 128)    0           ['conv2d_86[0][0]']              \n",
            "                                                                                                  \n",
            " flatten_28 (Flatten)           (None, 6272)         0           ['leaky_re_lu_144[0][0]']        \n",
            "                                                                                                  \n",
            " dropout_28 (Dropout)           (None, 6272)         0           ['flatten_28[0][0]']             \n",
            "                                                                                                  \n",
            " dense_115 (Dense)              (None, 1)            6273        ['dropout_28[0][0]']             \n",
            "                                                                                                  \n",
            "==================================================================================================\n",
            "Total params: 196,773\n",
            "Trainable params: 196,773\n",
            "Non-trainable params: 0\n",
            "__________________________________________________________________________________________________\n"
          ]
        }
      ],
      "source": [
        "disc_model=discriminator()"
      ]
    },
    {
      "cell_type": "markdown",
      "source": [
        "## Generator Model for gerating fake images from noise"
      ],
      "metadata": {
        "id": "-Fcyd3kSfAOe"
      }
    },
    {
      "cell_type": "code",
      "execution_count": null,
      "metadata": {
        "id": "dN0k_A2ch88g"
      },
      "outputs": [],
      "source": [
        "def generator(latent_dimension,n_classes=10):\n",
        "  inp1=Input(shape=(1,))\n",
        "  ol=Embedding(n_classes,50)(inp1)\n",
        "  nodes=7*7\n",
        "  ol=Dense(nodes)(ol)\n",
        "  ol=Reshape((7,7,1))(ol)\n",
        "  inp2=Input(shape=(latent_dimension,))\n",
        "  nodes=128*7*7\n",
        "  fl=Dense(nodes)(inp2)\n",
        "  fl=LeakyReLU(alpha=0.2)(fl)\n",
        "  fl=Reshape((7,7,128))(fl)\n",
        "  concat=Concatenate()([fl,ol])\n",
        "  conv=Conv2DTranspose(128,4,2,padding='same')(concat)\n",
        "  conv=LeakyReLU(alpha=0.2)(conv)\n",
        "  conv=Conv2DTranspose(128,4,2,padding='same')(conv)\n",
        "  conv=LeakyReLU(alpha=0.2)(conv)\n",
        "  last=Conv2D(1,(7,7),activation='tanh',padding='same')(conv)\n",
        "  model=Model([inp2,inp1],last)\n",
        "  return model\n"
      ]
    },
    {
      "cell_type": "markdown",
      "source": [
        "## GAN Model\n"
      ],
      "metadata": {
        "id": "0MupVVLdfFFZ"
      }
    },
    {
      "cell_type": "code",
      "execution_count": null,
      "metadata": {
        "id": "Z_Vhp-ZvoQdr"
      },
      "outputs": [],
      "source": [
        "def gan(gen,disc):\n",
        "  disc.trainable=False\n",
        "  latent_vector,label=gen.input\n",
        "  gen_output=gen.output\n",
        "  gan_output=disc([gen_output,label])\n",
        "  model = Model([latent_vector,label], gan_output)\n",
        "  opt = keras.optimizers.Adam(lr=0.0002, beta_1=0.5)\n",
        "  model.compile(loss='binary_crossentropy', optimizer=opt)\n",
        "  return model"
      ]
    },
    {
      "cell_type": "markdown",
      "source": [
        "## Training of GAN"
      ],
      "metadata": {
        "id": "OqOWnCExfISC"
      }
    },
    {
      "cell_type": "code",
      "execution_count": null,
      "metadata": {
        "id": "Do64bja0qci4"
      },
      "outputs": [],
      "source": [
        "def train(g_model, d_model, gan_model, dataset, latent_dim, n_epochs=20, n_batch=128):\n",
        "    bat_per_epo = int(dataset[0].shape[0] / n_batch)\n",
        "    half_batch = int(n_batch / 2)\n",
        "\n",
        "    # Manually enumerate epochs\n",
        "    for i in range(n_epochs):\n",
        "        # Enumerate batches over the training set\n",
        "        for j in range(bat_per_epo):\n",
        "            # Get randomly selected 'real' samples\n",
        "            [X_real, labels_real], y_real = gen_real_samples(dataset, half_batch)\n",
        "\n",
        "            # Update discriminator model weights\n",
        "            d_loss1, _ = d_model.train_on_batch([X_real, labels_real], y_real)\n",
        "\n",
        "            # Generate 'fake' examples\n",
        "            [X_fake, labels], y_fake = gen_fake_samples(g_model, half_batch, latent_dim)\n",
        "\n",
        "            # Update discriminator model weights\n",
        "            d_loss2, _ = d_model.train_on_batch([X_fake, labels], y_fake)\n",
        "\n",
        "            # Prepare points in latent space as input for the generator\n",
        "            [z_input, labels_input] = get_latent_vector( n_batch,latent_dim)\n",
        "\n",
        "            # Create inverted labels for the fake samples\n",
        "            y_gan = np.ones((n_batch, 1))\n",
        "\n",
        "            # Update the generator via the discriminator's error\n",
        "            g_loss = gan_model.train_on_batch([z_input, labels_input], y_gan)\n",
        "\n",
        "            # Summarize loss on this batch\n",
        "            print('>Epoch: %d,Batch: %d/%d, disc_real_loss=%.3f, disc_fake_loss=%.3f gan_loss=%.3f' %\n",
        "                  (i+1, j+1, bat_per_epo, d_loss1, d_loss2, g_loss))\n",
        "\n",
        "            if (i+1)%5==0:\n",
        "                # Save the generator model\n",
        "              g_model.save('cgan_generator.h5')\n"
      ]
    },
    {
      "cell_type": "code",
      "execution_count": null,
      "metadata": {
        "colab": {
          "base_uri": "https://localhost:8080/"
        },
        "id": "xVivHyXqGpqd",
        "outputId": "5ae2042a-f5ab-442d-ffde-4057bb55f39c"
      },
      "outputs": [
        {
          "name": "stderr",
          "output_type": "stream",
          "text": [
            "WARNING:tensorflow:No training configuration found in the save file, so the model was *not* compiled. Compile it manually.\n"
          ]
        }
      ],
      "source": [
        "model = keras.models.load_model('cgan_generator.h5')"
      ]
    },
    {
      "cell_type": "code",
      "execution_count": null,
      "metadata": {
        "colab": {
          "base_uri": "https://localhost:8080/",
          "height": 1000
        },
        "id": "RLYW_f3qs7XC",
        "outputId": "9069c541-8137-41d6-a267-1550bac604fa"
      },
      "outputs": [
        {
          "name": "stdout",
          "output_type": "stream",
          "text": [
            "2/2 [==============================] - 0s 6ms/step\n",
            ">Epoch: 1,Batch: 1/468, disc_real_loss=0.000, disc_fake_loss=12.401 gan_loss=5.532\n",
            "2/2 [==============================] - 0s 6ms/step\n",
            ">Epoch: 1,Batch: 2/468, disc_real_loss=0.038, disc_fake_loss=6.479 gan_loss=5.916\n",
            "2/2 [==============================] - 0s 5ms/step\n",
            ">Epoch: 1,Batch: 3/468, disc_real_loss=0.414, disc_fake_loss=2.045 gan_loss=6.015\n",
            "2/2 [==============================] - 0s 6ms/step\n",
            ">Epoch: 1,Batch: 4/468, disc_real_loss=2.206, disc_fake_loss=0.922 gan_loss=5.644\n",
            "2/2 [==============================] - 0s 4ms/step\n",
            ">Epoch: 1,Batch: 5/468, disc_real_loss=1.725, disc_fake_loss=1.140 gan_loss=5.484\n",
            "2/2 [==============================] - 0s 5ms/step\n",
            ">Epoch: 1,Batch: 6/468, disc_real_loss=0.881, disc_fake_loss=1.001 gan_loss=5.562\n",
            "2/2 [==============================] - 0s 4ms/step\n",
            ">Epoch: 1,Batch: 7/468, disc_real_loss=0.913, disc_fake_loss=0.981 gan_loss=5.498\n",
            "2/2 [==============================] - 0s 5ms/step\n",
            ">Epoch: 1,Batch: 8/468, disc_real_loss=0.727, disc_fake_loss=0.942 gan_loss=5.224\n",
            "2/2 [==============================] - 0s 5ms/step\n",
            ">Epoch: 1,Batch: 9/468, disc_real_loss=0.861, disc_fake_loss=0.672 gan_loss=4.950\n",
            "2/2 [==============================] - 0s 5ms/step\n",
            ">Epoch: 1,Batch: 10/468, disc_real_loss=0.823, disc_fake_loss=0.871 gan_loss=4.393\n",
            "2/2 [==============================] - 0s 5ms/step\n",
            ">Epoch: 1,Batch: 11/468, disc_real_loss=0.818, disc_fake_loss=0.898 gan_loss=3.777\n",
            "2/2 [==============================] - 0s 5ms/step\n",
            ">Epoch: 1,Batch: 12/468, disc_real_loss=0.757, disc_fake_loss=0.784 gan_loss=3.206\n",
            "2/2 [==============================] - 0s 6ms/step\n",
            ">Epoch: 1,Batch: 13/468, disc_real_loss=0.717, disc_fake_loss=0.761 gan_loss=2.539\n",
            "2/2 [==============================] - 0s 6ms/step\n",
            ">Epoch: 1,Batch: 14/468, disc_real_loss=0.748, disc_fake_loss=0.750 gan_loss=1.725\n",
            "2/2 [==============================] - 0s 5ms/step\n",
            ">Epoch: 1,Batch: 15/468, disc_real_loss=0.813, disc_fake_loss=0.761 gan_loss=1.103\n",
            "2/2 [==============================] - 0s 5ms/step\n",
            ">Epoch: 1,Batch: 16/468, disc_real_loss=0.872, disc_fake_loss=0.756 gan_loss=0.651\n",
            "2/2 [==============================] - 0s 5ms/step\n",
            ">Epoch: 1,Batch: 17/468, disc_real_loss=0.800, disc_fake_loss=0.824 gan_loss=0.449\n",
            "2/2 [==============================] - 0s 5ms/step\n",
            ">Epoch: 1,Batch: 18/468, disc_real_loss=0.765, disc_fake_loss=0.726 gan_loss=0.302\n",
            "2/2 [==============================] - 0s 5ms/step\n",
            ">Epoch: 1,Batch: 19/468, disc_real_loss=0.684, disc_fake_loss=0.721 gan_loss=0.259\n",
            "2/2 [==============================] - 0s 5ms/step\n",
            ">Epoch: 1,Batch: 20/468, disc_real_loss=0.720, disc_fake_loss=0.733 gan_loss=0.220\n",
            "2/2 [==============================] - 0s 5ms/step\n",
            ">Epoch: 1,Batch: 21/468, disc_real_loss=0.773, disc_fake_loss=0.798 gan_loss=0.199\n",
            "2/2 [==============================] - 0s 4ms/step\n",
            ">Epoch: 1,Batch: 22/468, disc_real_loss=0.714, disc_fake_loss=0.743 gan_loss=0.187\n",
            "2/2 [==============================] - 0s 5ms/step\n",
            ">Epoch: 1,Batch: 23/468, disc_real_loss=0.818, disc_fake_loss=0.685 gan_loss=0.174\n",
            "2/2 [==============================] - 0s 5ms/step\n",
            ">Epoch: 1,Batch: 24/468, disc_real_loss=0.643, disc_fake_loss=0.656 gan_loss=0.164\n",
            "2/2 [==============================] - 0s 5ms/step\n",
            ">Epoch: 1,Batch: 25/468, disc_real_loss=0.638, disc_fake_loss=0.758 gan_loss=0.170\n",
            "2/2 [==============================] - 0s 5ms/step\n",
            ">Epoch: 1,Batch: 26/468, disc_real_loss=0.769, disc_fake_loss=0.716 gan_loss=0.158\n",
            "2/2 [==============================] - 0s 4ms/step\n",
            ">Epoch: 1,Batch: 27/468, disc_real_loss=0.713, disc_fake_loss=0.717 gan_loss=0.158\n",
            "2/2 [==============================] - 0s 5ms/step\n",
            ">Epoch: 1,Batch: 28/468, disc_real_loss=0.683, disc_fake_loss=0.732 gan_loss=0.149\n",
            "2/2 [==============================] - 0s 5ms/step\n",
            ">Epoch: 1,Batch: 29/468, disc_real_loss=0.670, disc_fake_loss=0.724 gan_loss=0.147\n",
            "2/2 [==============================] - 0s 5ms/step\n",
            ">Epoch: 1,Batch: 30/468, disc_real_loss=0.722, disc_fake_loss=0.720 gan_loss=0.148\n",
            "2/2 [==============================] - 0s 5ms/step\n",
            ">Epoch: 1,Batch: 31/468, disc_real_loss=0.691, disc_fake_loss=0.679 gan_loss=0.140\n",
            "2/2 [==============================] - 0s 5ms/step\n",
            ">Epoch: 1,Batch: 32/468, disc_real_loss=0.844, disc_fake_loss=0.663 gan_loss=0.127\n",
            "2/2 [==============================] - 0s 5ms/step\n",
            ">Epoch: 1,Batch: 33/468, disc_real_loss=0.668, disc_fake_loss=0.708 gan_loss=0.135\n",
            "2/2 [==============================] - 0s 4ms/step\n",
            ">Epoch: 1,Batch: 34/468, disc_real_loss=0.659, disc_fake_loss=0.714 gan_loss=0.130\n",
            "2/2 [==============================] - 0s 5ms/step\n",
            ">Epoch: 1,Batch: 35/468, disc_real_loss=0.708, disc_fake_loss=0.754 gan_loss=0.119\n",
            "2/2 [==============================] - 0s 7ms/step\n",
            ">Epoch: 1,Batch: 36/468, disc_real_loss=0.669, disc_fake_loss=0.668 gan_loss=0.123\n",
            "2/2 [==============================] - 0s 10ms/step\n",
            ">Epoch: 1,Batch: 37/468, disc_real_loss=0.728, disc_fake_loss=0.635 gan_loss=0.112\n",
            "2/2 [==============================] - 0s 4ms/step\n",
            ">Epoch: 1,Batch: 38/468, disc_real_loss=0.744, disc_fake_loss=0.698 gan_loss=0.104\n",
            "2/2 [==============================] - 0s 5ms/step\n",
            ">Epoch: 1,Batch: 39/468, disc_real_loss=0.658, disc_fake_loss=0.729 gan_loss=0.108\n",
            "2/2 [==============================] - 0s 5ms/step\n",
            ">Epoch: 1,Batch: 40/468, disc_real_loss=0.685, disc_fake_loss=0.658 gan_loss=0.094\n",
            "2/2 [==============================] - 0s 5ms/step\n",
            ">Epoch: 1,Batch: 41/468, disc_real_loss=0.678, disc_fake_loss=0.639 gan_loss=0.080\n",
            "2/2 [==============================] - 0s 5ms/step\n",
            ">Epoch: 1,Batch: 42/468, disc_real_loss=0.754, disc_fake_loss=0.727 gan_loss=0.069\n",
            "2/2 [==============================] - 0s 4ms/step\n",
            ">Epoch: 1,Batch: 43/468, disc_real_loss=0.708, disc_fake_loss=0.713 gan_loss=0.067\n",
            "2/2 [==============================] - 0s 6ms/step\n",
            ">Epoch: 1,Batch: 44/468, disc_real_loss=0.655, disc_fake_loss=0.657 gan_loss=0.061\n",
            "2/2 [==============================] - 0s 5ms/step\n",
            ">Epoch: 1,Batch: 45/468, disc_real_loss=0.650, disc_fake_loss=0.651 gan_loss=0.054\n",
            "2/2 [==============================] - 0s 5ms/step\n",
            ">Epoch: 1,Batch: 46/468, disc_real_loss=0.717, disc_fake_loss=0.731 gan_loss=0.051\n",
            "2/2 [==============================] - 0s 8ms/step\n",
            ">Epoch: 1,Batch: 47/468, disc_real_loss=0.689, disc_fake_loss=0.692 gan_loss=0.048\n",
            "2/2 [==============================] - 0s 5ms/step\n",
            ">Epoch: 1,Batch: 48/468, disc_real_loss=0.699, disc_fake_loss=0.681 gan_loss=0.041\n",
            "2/2 [==============================] - 0s 5ms/step\n",
            ">Epoch: 1,Batch: 49/468, disc_real_loss=0.735, disc_fake_loss=0.690 gan_loss=0.040\n",
            "2/2 [==============================] - 0s 5ms/step\n",
            ">Epoch: 1,Batch: 50/468, disc_real_loss=0.668, disc_fake_loss=0.734 gan_loss=0.039\n",
            "2/2 [==============================] - 0s 5ms/step\n",
            ">Epoch: 1,Batch: 51/468, disc_real_loss=0.682, disc_fake_loss=0.648 gan_loss=0.037\n",
            "2/2 [==============================] - 0s 5ms/step\n",
            ">Epoch: 1,Batch: 52/468, disc_real_loss=0.664, disc_fake_loss=0.671 gan_loss=0.033\n",
            "2/2 [==============================] - 0s 5ms/step\n",
            ">Epoch: 1,Batch: 53/468, disc_real_loss=0.760, disc_fake_loss=0.655 gan_loss=0.032\n",
            "2/2 [==============================] - 0s 5ms/step\n",
            ">Epoch: 1,Batch: 54/468, disc_real_loss=0.655, disc_fake_loss=0.742 gan_loss=0.029\n",
            "2/2 [==============================] - 0s 4ms/step\n",
            ">Epoch: 1,Batch: 55/468, disc_real_loss=0.715, disc_fake_loss=0.697 gan_loss=0.030\n",
            "2/2 [==============================] - 0s 5ms/step\n",
            ">Epoch: 1,Batch: 56/468, disc_real_loss=0.618, disc_fake_loss=0.635 gan_loss=0.030\n",
            "2/2 [==============================] - 0s 5ms/step\n",
            ">Epoch: 1,Batch: 57/468, disc_real_loss=0.676, disc_fake_loss=0.651 gan_loss=0.028\n",
            "2/2 [==============================] - 0s 5ms/step\n",
            ">Epoch: 1,Batch: 58/468, disc_real_loss=0.674, disc_fake_loss=0.626 gan_loss=0.029\n",
            "2/2 [==============================] - 0s 7ms/step\n",
            ">Epoch: 1,Batch: 59/468, disc_real_loss=0.735, disc_fake_loss=0.657 gan_loss=0.027\n",
            "2/2 [==============================] - 0s 5ms/step\n",
            ">Epoch: 1,Batch: 60/468, disc_real_loss=0.689, disc_fake_loss=0.626 gan_loss=0.025\n",
            "2/2 [==============================] - 0s 5ms/step\n",
            ">Epoch: 1,Batch: 61/468, disc_real_loss=0.622, disc_fake_loss=0.646 gan_loss=0.027\n",
            "2/2 [==============================] - 0s 5ms/step\n",
            ">Epoch: 1,Batch: 62/468, disc_real_loss=0.595, disc_fake_loss=0.705 gan_loss=0.027\n",
            "2/2 [==============================] - 0s 5ms/step\n",
            ">Epoch: 1,Batch: 63/468, disc_real_loss=0.650, disc_fake_loss=0.667 gan_loss=0.028\n",
            "2/2 [==============================] - 0s 5ms/step\n",
            ">Epoch: 1,Batch: 64/468, disc_real_loss=0.622, disc_fake_loss=0.634 gan_loss=0.028\n",
            "2/2 [==============================] - 0s 5ms/step\n",
            ">Epoch: 1,Batch: 65/468, disc_real_loss=0.620, disc_fake_loss=0.645 gan_loss=0.027\n",
            "2/2 [==============================] - 0s 5ms/step\n",
            ">Epoch: 1,Batch: 66/468, disc_real_loss=0.714, disc_fake_loss=0.686 gan_loss=0.027\n",
            "2/2 [==============================] - 0s 5ms/step\n",
            ">Epoch: 1,Batch: 67/468, disc_real_loss=0.660, disc_fake_loss=0.651 gan_loss=0.029\n",
            "2/2 [==============================] - 0s 6ms/step\n",
            ">Epoch: 1,Batch: 68/468, disc_real_loss=0.723, disc_fake_loss=0.625 gan_loss=0.026\n",
            "2/2 [==============================] - 0s 4ms/step\n",
            ">Epoch: 1,Batch: 69/468, disc_real_loss=0.703, disc_fake_loss=0.650 gan_loss=0.027\n",
            "2/2 [==============================] - 0s 4ms/step\n",
            ">Epoch: 1,Batch: 70/468, disc_real_loss=0.617, disc_fake_loss=0.664 gan_loss=0.028\n",
            "2/2 [==============================] - 0s 11ms/step\n",
            ">Epoch: 1,Batch: 71/468, disc_real_loss=0.698, disc_fake_loss=0.646 gan_loss=0.031\n",
            "2/2 [==============================] - 0s 7ms/step\n",
            ">Epoch: 1,Batch: 72/468, disc_real_loss=0.654, disc_fake_loss=0.651 gan_loss=0.029\n",
            "2/2 [==============================] - 0s 11ms/step\n",
            ">Epoch: 1,Batch: 73/468, disc_real_loss=0.631, disc_fake_loss=0.685 gan_loss=0.028\n",
            "2/2 [==============================] - 0s 7ms/step\n",
            ">Epoch: 1,Batch: 74/468, disc_real_loss=0.663, disc_fake_loss=0.686 gan_loss=0.028\n",
            "2/2 [==============================] - 0s 8ms/step\n",
            ">Epoch: 1,Batch: 75/468, disc_real_loss=0.594, disc_fake_loss=0.700 gan_loss=0.031\n",
            "2/2 [==============================] - 0s 8ms/step\n",
            ">Epoch: 1,Batch: 76/468, disc_real_loss=0.673, disc_fake_loss=0.647 gan_loss=0.029\n",
            "2/2 [==============================] - 0s 7ms/step\n",
            ">Epoch: 1,Batch: 77/468, disc_real_loss=0.726, disc_fake_loss=0.665 gan_loss=0.029\n",
            "2/2 [==============================] - 0s 7ms/step\n",
            ">Epoch: 1,Batch: 78/468, disc_real_loss=0.655, disc_fake_loss=0.624 gan_loss=0.032\n",
            "2/2 [==============================] - 0s 5ms/step\n",
            ">Epoch: 1,Batch: 79/468, disc_real_loss=0.666, disc_fake_loss=0.679 gan_loss=0.033\n",
            "2/2 [==============================] - 0s 8ms/step\n",
            ">Epoch: 1,Batch: 80/468, disc_real_loss=0.638, disc_fake_loss=0.635 gan_loss=0.034\n",
            "2/2 [==============================] - 0s 5ms/step\n",
            ">Epoch: 1,Batch: 81/468, disc_real_loss=0.615, disc_fake_loss=0.627 gan_loss=0.032\n",
            "2/2 [==============================] - 0s 5ms/step\n",
            ">Epoch: 1,Batch: 82/468, disc_real_loss=0.674, disc_fake_loss=0.611 gan_loss=0.032\n",
            "2/2 [==============================] - 0s 5ms/step\n",
            ">Epoch: 1,Batch: 83/468, disc_real_loss=0.681, disc_fake_loss=0.649 gan_loss=0.033\n",
            "2/2 [==============================] - 0s 5ms/step\n",
            ">Epoch: 1,Batch: 84/468, disc_real_loss=0.677, disc_fake_loss=0.646 gan_loss=0.031\n",
            "2/2 [==============================] - 0s 5ms/step\n",
            ">Epoch: 1,Batch: 85/468, disc_real_loss=0.607, disc_fake_loss=0.684 gan_loss=0.032\n",
            "2/2 [==============================] - 0s 7ms/step\n",
            ">Epoch: 1,Batch: 86/468, disc_real_loss=0.642, disc_fake_loss=0.632 gan_loss=0.033\n",
            "2/2 [==============================] - 0s 5ms/step\n",
            ">Epoch: 1,Batch: 87/468, disc_real_loss=0.626, disc_fake_loss=0.594 gan_loss=0.029\n",
            "2/2 [==============================] - 0s 5ms/step\n",
            ">Epoch: 1,Batch: 88/468, disc_real_loss=0.623, disc_fake_loss=0.633 gan_loss=0.031\n",
            "2/2 [==============================] - 0s 4ms/step\n",
            ">Epoch: 1,Batch: 89/468, disc_real_loss=0.721, disc_fake_loss=0.662 gan_loss=0.031\n",
            "2/2 [==============================] - 0s 5ms/step\n",
            ">Epoch: 1,Batch: 90/468, disc_real_loss=0.614, disc_fake_loss=0.661 gan_loss=0.034\n",
            "2/2 [==============================] - 0s 6ms/step\n",
            ">Epoch: 1,Batch: 91/468, disc_real_loss=0.653, disc_fake_loss=0.649 gan_loss=0.032\n",
            "2/2 [==============================] - 0s 5ms/step\n",
            ">Epoch: 1,Batch: 92/468, disc_real_loss=0.676, disc_fake_loss=0.633 gan_loss=0.031\n",
            "2/2 [==============================] - 0s 5ms/step\n",
            ">Epoch: 1,Batch: 93/468, disc_real_loss=0.700, disc_fake_loss=0.656 gan_loss=0.031\n",
            "2/2 [==============================] - 0s 9ms/step\n",
            ">Epoch: 1,Batch: 94/468, disc_real_loss=0.620, disc_fake_loss=0.681 gan_loss=0.031\n",
            "2/2 [==============================] - 0s 5ms/step\n",
            ">Epoch: 1,Batch: 95/468, disc_real_loss=0.648, disc_fake_loss=0.621 gan_loss=0.031\n",
            "2/2 [==============================] - 0s 5ms/step\n",
            ">Epoch: 1,Batch: 96/468, disc_real_loss=0.584, disc_fake_loss=0.668 gan_loss=0.032\n",
            "2/2 [==============================] - 0s 5ms/step\n",
            ">Epoch: 1,Batch: 97/468, disc_real_loss=0.630, disc_fake_loss=0.591 gan_loss=0.034\n",
            "2/2 [==============================] - 0s 6ms/step\n",
            ">Epoch: 1,Batch: 98/468, disc_real_loss=0.648, disc_fake_loss=0.580 gan_loss=0.031\n",
            "2/2 [==============================] - 0s 6ms/step\n",
            ">Epoch: 1,Batch: 99/468, disc_real_loss=0.622, disc_fake_loss=0.676 gan_loss=0.036\n",
            "2/2 [==============================] - 0s 6ms/step\n",
            ">Epoch: 1,Batch: 100/468, disc_real_loss=0.601, disc_fake_loss=0.626 gan_loss=0.036\n",
            "2/2 [==============================] - 0s 5ms/step\n",
            ">Epoch: 1,Batch: 101/468, disc_real_loss=0.662, disc_fake_loss=0.615 gan_loss=0.031\n",
            "2/2 [==============================] - 0s 6ms/step\n",
            ">Epoch: 1,Batch: 102/468, disc_real_loss=0.674, disc_fake_loss=0.598 gan_loss=0.037\n",
            "2/2 [==============================] - 0s 6ms/step\n",
            ">Epoch: 1,Batch: 103/468, disc_real_loss=0.691, disc_fake_loss=0.568 gan_loss=0.033\n",
            "2/2 [==============================] - 0s 6ms/step\n",
            ">Epoch: 1,Batch: 104/468, disc_real_loss=0.581, disc_fake_loss=0.713 gan_loss=0.033\n",
            "2/2 [==============================] - 0s 5ms/step\n",
            ">Epoch: 1,Batch: 105/468, disc_real_loss=0.618, disc_fake_loss=0.632 gan_loss=0.033\n",
            "2/2 [==============================] - 0s 5ms/step\n",
            ">Epoch: 1,Batch: 106/468, disc_real_loss=0.677, disc_fake_loss=0.636 gan_loss=0.032\n",
            "2/2 [==============================] - 0s 5ms/step\n",
            ">Epoch: 1,Batch: 107/468, disc_real_loss=0.593, disc_fake_loss=0.652 gan_loss=0.034\n",
            "2/2 [==============================] - 0s 6ms/step\n",
            ">Epoch: 1,Batch: 108/468, disc_real_loss=0.615, disc_fake_loss=0.673 gan_loss=0.035\n",
            "2/2 [==============================] - 0s 5ms/step\n",
            ">Epoch: 1,Batch: 109/468, disc_real_loss=0.747, disc_fake_loss=0.670 gan_loss=0.039\n",
            "2/2 [==============================] - 0s 6ms/step\n",
            ">Epoch: 1,Batch: 110/468, disc_real_loss=0.669, disc_fake_loss=0.626 gan_loss=0.037\n",
            "2/2 [==============================] - 0s 5ms/step\n",
            ">Epoch: 1,Batch: 111/468, disc_real_loss=0.696, disc_fake_loss=0.644 gan_loss=0.035\n",
            "2/2 [==============================] - 0s 6ms/step\n",
            ">Epoch: 1,Batch: 112/468, disc_real_loss=0.607, disc_fake_loss=0.643 gan_loss=0.037\n",
            "2/2 [==============================] - 0s 5ms/step\n",
            ">Epoch: 1,Batch: 113/468, disc_real_loss=0.633, disc_fake_loss=0.639 gan_loss=0.038\n",
            "2/2 [==============================] - 0s 6ms/step\n",
            ">Epoch: 1,Batch: 114/468, disc_real_loss=0.617, disc_fake_loss=0.648 gan_loss=0.037\n",
            "2/2 [==============================] - 0s 11ms/step\n",
            ">Epoch: 1,Batch: 115/468, disc_real_loss=0.602, disc_fake_loss=0.568 gan_loss=0.040\n",
            "2/2 [==============================] - 0s 6ms/step\n",
            ">Epoch: 1,Batch: 116/468, disc_real_loss=0.678, disc_fake_loss=0.600 gan_loss=0.037\n",
            "2/2 [==============================] - 0s 7ms/step\n",
            ">Epoch: 1,Batch: 117/468, disc_real_loss=0.611, disc_fake_loss=0.685 gan_loss=0.039\n",
            "2/2 [==============================] - 0s 6ms/step\n",
            ">Epoch: 1,Batch: 118/468, disc_real_loss=0.583, disc_fake_loss=0.566 gan_loss=0.040\n",
            "2/2 [==============================] - 0s 5ms/step\n",
            ">Epoch: 1,Batch: 119/468, disc_real_loss=0.602, disc_fake_loss=0.594 gan_loss=0.038\n",
            "2/2 [==============================] - 0s 6ms/step\n",
            ">Epoch: 1,Batch: 120/468, disc_real_loss=0.758, disc_fake_loss=0.644 gan_loss=0.037\n",
            "2/2 [==============================] - 0s 5ms/step\n",
            ">Epoch: 1,Batch: 121/468, disc_real_loss=0.605, disc_fake_loss=0.642 gan_loss=0.036\n",
            "2/2 [==============================] - 0s 5ms/step\n",
            ">Epoch: 1,Batch: 122/468, disc_real_loss=0.620, disc_fake_loss=0.598 gan_loss=0.037\n",
            "2/2 [==============================] - 0s 6ms/step\n",
            ">Epoch: 1,Batch: 123/468, disc_real_loss=0.608, disc_fake_loss=0.675 gan_loss=0.037\n",
            "2/2 [==============================] - 0s 5ms/step\n",
            ">Epoch: 1,Batch: 124/468, disc_real_loss=0.590, disc_fake_loss=0.607 gan_loss=0.038\n",
            "2/2 [==============================] - 0s 7ms/step\n",
            ">Epoch: 1,Batch: 125/468, disc_real_loss=0.563, disc_fake_loss=0.620 gan_loss=0.043\n",
            "2/2 [==============================] - 0s 6ms/step\n",
            ">Epoch: 1,Batch: 126/468, disc_real_loss=0.640, disc_fake_loss=0.541 gan_loss=0.041\n",
            "2/2 [==============================] - 0s 6ms/step\n",
            ">Epoch: 1,Batch: 127/468, disc_real_loss=0.656, disc_fake_loss=0.685 gan_loss=0.041\n",
            "2/2 [==============================] - 0s 4ms/step\n",
            ">Epoch: 1,Batch: 128/468, disc_real_loss=0.623, disc_fake_loss=0.640 gan_loss=0.042\n",
            "2/2 [==============================] - 0s 6ms/step\n",
            ">Epoch: 1,Batch: 129/468, disc_real_loss=0.613, disc_fake_loss=0.581 gan_loss=0.038\n",
            "2/2 [==============================] - 0s 5ms/step\n",
            ">Epoch: 1,Batch: 130/468, disc_real_loss=0.625, disc_fake_loss=0.608 gan_loss=0.041\n",
            "2/2 [==============================] - 0s 5ms/step\n",
            ">Epoch: 1,Batch: 131/468, disc_real_loss=0.616, disc_fake_loss=0.618 gan_loss=0.042\n",
            "2/2 [==============================] - 0s 5ms/step\n",
            ">Epoch: 1,Batch: 132/468, disc_real_loss=0.655, disc_fake_loss=0.600 gan_loss=0.036\n",
            "2/2 [==============================] - 0s 6ms/step\n",
            ">Epoch: 1,Batch: 133/468, disc_real_loss=0.656, disc_fake_loss=0.646 gan_loss=0.038\n",
            "2/2 [==============================] - 0s 9ms/step\n",
            ">Epoch: 1,Batch: 134/468, disc_real_loss=0.564, disc_fake_loss=0.632 gan_loss=0.043\n",
            "2/2 [==============================] - 0s 4ms/step\n",
            ">Epoch: 1,Batch: 135/468, disc_real_loss=0.615, disc_fake_loss=0.613 gan_loss=0.046\n",
            "2/2 [==============================] - 0s 6ms/step\n",
            ">Epoch: 1,Batch: 136/468, disc_real_loss=0.636, disc_fake_loss=0.583 gan_loss=0.042\n",
            "2/2 [==============================] - 0s 5ms/step\n",
            ">Epoch: 1,Batch: 137/468, disc_real_loss=0.616, disc_fake_loss=0.603 gan_loss=0.043\n",
            "2/2 [==============================] - 0s 12ms/step\n",
            ">Epoch: 1,Batch: 138/468, disc_real_loss=0.598, disc_fake_loss=0.590 gan_loss=0.042\n",
            "2/2 [==============================] - 0s 6ms/step\n",
            ">Epoch: 1,Batch: 139/468, disc_real_loss=0.631, disc_fake_loss=0.585 gan_loss=0.044\n",
            "2/2 [==============================] - 0s 6ms/step\n",
            ">Epoch: 1,Batch: 140/468, disc_real_loss=0.638, disc_fake_loss=0.601 gan_loss=0.042\n",
            "2/2 [==============================] - 0s 6ms/step\n",
            ">Epoch: 1,Batch: 141/468, disc_real_loss=0.650, disc_fake_loss=0.590 gan_loss=0.035\n",
            "2/2 [==============================] - 0s 6ms/step\n",
            ">Epoch: 1,Batch: 142/468, disc_real_loss=0.577, disc_fake_loss=0.606 gan_loss=0.040\n",
            "2/2 [==============================] - 0s 5ms/step\n",
            ">Epoch: 1,Batch: 143/468, disc_real_loss=0.587, disc_fake_loss=0.613 gan_loss=0.039\n",
            "2/2 [==============================] - 0s 5ms/step\n",
            ">Epoch: 1,Batch: 144/468, disc_real_loss=0.537, disc_fake_loss=0.675 gan_loss=0.042\n",
            "2/2 [==============================] - 0s 5ms/step\n",
            ">Epoch: 1,Batch: 145/468, disc_real_loss=0.573, disc_fake_loss=0.590 gan_loss=0.041\n",
            "2/2 [==============================] - 0s 6ms/step\n",
            ">Epoch: 1,Batch: 146/468, disc_real_loss=0.626, disc_fake_loss=0.557 gan_loss=0.041\n",
            "2/2 [==============================] - 0s 6ms/step\n",
            ">Epoch: 1,Batch: 147/468, disc_real_loss=0.623, disc_fake_loss=0.601 gan_loss=0.042\n",
            "2/2 [==============================] - 0s 6ms/step\n",
            ">Epoch: 1,Batch: 148/468, disc_real_loss=0.575, disc_fake_loss=0.652 gan_loss=0.042\n",
            "2/2 [==============================] - 0s 5ms/step\n",
            ">Epoch: 1,Batch: 149/468, disc_real_loss=0.585, disc_fake_loss=0.631 gan_loss=0.042\n",
            "2/2 [==============================] - 0s 6ms/step\n",
            ">Epoch: 1,Batch: 150/468, disc_real_loss=0.567, disc_fake_loss=0.548 gan_loss=0.041\n",
            "2/2 [==============================] - 0s 6ms/step\n",
            ">Epoch: 1,Batch: 151/468, disc_real_loss=0.650, disc_fake_loss=0.626 gan_loss=0.037\n",
            "2/2 [==============================] - 0s 7ms/step\n",
            ">Epoch: 1,Batch: 152/468, disc_real_loss=0.618, disc_fake_loss=0.647 gan_loss=0.041\n",
            "2/2 [==============================] - 0s 5ms/step\n",
            ">Epoch: 1,Batch: 153/468, disc_real_loss=0.580, disc_fake_loss=0.584 gan_loss=0.037\n",
            "2/2 [==============================] - 0s 5ms/step\n",
            ">Epoch: 1,Batch: 154/468, disc_real_loss=0.608, disc_fake_loss=0.589 gan_loss=0.041\n",
            "2/2 [==============================] - 0s 6ms/step\n",
            ">Epoch: 1,Batch: 155/468, disc_real_loss=0.672, disc_fake_loss=0.623 gan_loss=0.043\n",
            "2/2 [==============================] - 0s 4ms/step\n",
            ">Epoch: 1,Batch: 156/468, disc_real_loss=0.620, disc_fake_loss=0.558 gan_loss=0.040\n",
            "2/2 [==============================] - 0s 5ms/step\n",
            ">Epoch: 1,Batch: 157/468, disc_real_loss=0.596, disc_fake_loss=0.626 gan_loss=0.041\n",
            "2/2 [==============================] - 0s 8ms/step\n",
            ">Epoch: 1,Batch: 158/468, disc_real_loss=0.583, disc_fake_loss=0.612 gan_loss=0.042\n",
            "2/2 [==============================] - 0s 4ms/step\n",
            ">Epoch: 1,Batch: 159/468, disc_real_loss=0.569, disc_fake_loss=0.593 gan_loss=0.042\n",
            "2/2 [==============================] - 0s 9ms/step\n",
            ">Epoch: 1,Batch: 160/468, disc_real_loss=0.617, disc_fake_loss=0.577 gan_loss=0.042\n",
            "2/2 [==============================] - 0s 7ms/step\n",
            ">Epoch: 1,Batch: 161/468, disc_real_loss=0.641, disc_fake_loss=0.624 gan_loss=0.041\n",
            "2/2 [==============================] - 0s 7ms/step\n",
            ">Epoch: 1,Batch: 162/468, disc_real_loss=0.616, disc_fake_loss=0.619 gan_loss=0.042\n",
            "2/2 [==============================] - 0s 9ms/step\n",
            ">Epoch: 1,Batch: 163/468, disc_real_loss=0.631, disc_fake_loss=0.608 gan_loss=0.040\n",
            "2/2 [==============================] - 0s 9ms/step\n",
            ">Epoch: 1,Batch: 164/468, disc_real_loss=0.603, disc_fake_loss=0.670 gan_loss=0.041\n",
            "2/2 [==============================] - 0s 8ms/step\n",
            ">Epoch: 1,Batch: 165/468, disc_real_loss=0.604, disc_fake_loss=0.620 gan_loss=0.040\n",
            "2/2 [==============================] - 0s 8ms/step\n",
            ">Epoch: 1,Batch: 166/468, disc_real_loss=0.612, disc_fake_loss=0.568 gan_loss=0.045\n",
            "2/2 [==============================] - 0s 9ms/step\n",
            ">Epoch: 1,Batch: 167/468, disc_real_loss=0.565, disc_fake_loss=0.624 gan_loss=0.045\n",
            "2/2 [==============================] - 0s 5ms/step\n",
            ">Epoch: 1,Batch: 168/468, disc_real_loss=0.613, disc_fake_loss=0.569 gan_loss=0.047\n",
            "2/2 [==============================] - 0s 6ms/step\n",
            ">Epoch: 1,Batch: 169/468, disc_real_loss=0.613, disc_fake_loss=0.597 gan_loss=0.048\n",
            "2/2 [==============================] - 0s 5ms/step\n",
            ">Epoch: 1,Batch: 170/468, disc_real_loss=0.582, disc_fake_loss=0.616 gan_loss=0.051\n",
            "2/2 [==============================] - 0s 6ms/step\n",
            ">Epoch: 1,Batch: 171/468, disc_real_loss=0.611, disc_fake_loss=0.601 gan_loss=0.053\n",
            "2/2 [==============================] - 0s 6ms/step\n",
            ">Epoch: 1,Batch: 172/468, disc_real_loss=0.596, disc_fake_loss=0.568 gan_loss=0.045\n",
            "2/2 [==============================] - 0s 6ms/step\n",
            ">Epoch: 1,Batch: 173/468, disc_real_loss=0.613, disc_fake_loss=0.584 gan_loss=0.045\n",
            "2/2 [==============================] - 0s 7ms/step\n",
            ">Epoch: 1,Batch: 174/468, disc_real_loss=0.662, disc_fake_loss=0.583 gan_loss=0.044\n",
            "2/2 [==============================] - 0s 7ms/step\n",
            ">Epoch: 1,Batch: 175/468, disc_real_loss=0.558, disc_fake_loss=0.682 gan_loss=0.045\n",
            "2/2 [==============================] - 0s 6ms/step\n",
            ">Epoch: 1,Batch: 176/468, disc_real_loss=0.632, disc_fake_loss=0.595 gan_loss=0.046\n",
            "2/2 [==============================] - 0s 5ms/step\n",
            ">Epoch: 1,Batch: 177/468, disc_real_loss=0.626, disc_fake_loss=0.605 gan_loss=0.039\n",
            "2/2 [==============================] - 0s 6ms/step\n",
            ">Epoch: 1,Batch: 178/468, disc_real_loss=0.584, disc_fake_loss=0.665 gan_loss=0.044\n",
            "2/2 [==============================] - 0s 6ms/step\n",
            ">Epoch: 1,Batch: 179/468, disc_real_loss=0.637, disc_fake_loss=0.615 gan_loss=0.041\n",
            "2/2 [==============================] - 0s 5ms/step\n",
            ">Epoch: 1,Batch: 180/468, disc_real_loss=0.566, disc_fake_loss=0.629 gan_loss=0.037\n",
            "2/2 [==============================] - 0s 6ms/step\n",
            ">Epoch: 1,Batch: 181/468, disc_real_loss=0.604, disc_fake_loss=0.617 gan_loss=0.043\n",
            "2/2 [==============================] - 0s 6ms/step\n",
            ">Epoch: 1,Batch: 182/468, disc_real_loss=0.688, disc_fake_loss=0.619 gan_loss=0.048\n",
            "2/2 [==============================] - 0s 6ms/step\n",
            ">Epoch: 1,Batch: 183/468, disc_real_loss=0.621, disc_fake_loss=0.605 gan_loss=0.043\n",
            "2/2 [==============================] - 0s 6ms/step\n",
            ">Epoch: 1,Batch: 184/468, disc_real_loss=0.609, disc_fake_loss=0.517 gan_loss=0.045\n",
            "2/2 [==============================] - 0s 4ms/step\n",
            ">Epoch: 1,Batch: 185/468, disc_real_loss=0.593, disc_fake_loss=0.533 gan_loss=0.045\n",
            "2/2 [==============================] - 0s 4ms/step\n",
            ">Epoch: 1,Batch: 186/468, disc_real_loss=0.634, disc_fake_loss=0.576 gan_loss=0.044\n",
            "2/2 [==============================] - 0s 7ms/step\n",
            ">Epoch: 1,Batch: 187/468, disc_real_loss=0.690, disc_fake_loss=0.575 gan_loss=0.042\n",
            "2/2 [==============================] - 0s 7ms/step\n",
            ">Epoch: 1,Batch: 188/468, disc_real_loss=0.645, disc_fake_loss=0.641 gan_loss=0.043\n",
            "2/2 [==============================] - 0s 6ms/step\n",
            ">Epoch: 1,Batch: 189/468, disc_real_loss=0.594, disc_fake_loss=0.646 gan_loss=0.038\n",
            "2/2 [==============================] - 0s 6ms/step\n",
            ">Epoch: 1,Batch: 190/468, disc_real_loss=0.524, disc_fake_loss=0.568 gan_loss=0.045\n",
            "2/2 [==============================] - 0s 6ms/step\n",
            ">Epoch: 1,Batch: 191/468, disc_real_loss=0.581, disc_fake_loss=0.577 gan_loss=0.042\n",
            "2/2 [==============================] - 0s 7ms/step\n",
            ">Epoch: 1,Batch: 192/468, disc_real_loss=0.575, disc_fake_loss=0.493 gan_loss=0.044\n",
            "2/2 [==============================] - 0s 6ms/step\n",
            ">Epoch: 1,Batch: 193/468, disc_real_loss=0.592, disc_fake_loss=0.592 gan_loss=0.036\n",
            "2/2 [==============================] - 0s 6ms/step\n",
            ">Epoch: 1,Batch: 194/468, disc_real_loss=0.569, disc_fake_loss=0.631 gan_loss=0.038\n",
            "2/2 [==============================] - 0s 7ms/step\n",
            ">Epoch: 1,Batch: 195/468, disc_real_loss=0.625, disc_fake_loss=0.567 gan_loss=0.039\n",
            "2/2 [==============================] - 0s 5ms/step\n",
            ">Epoch: 1,Batch: 196/468, disc_real_loss=0.542, disc_fake_loss=0.637 gan_loss=0.039\n",
            "2/2 [==============================] - 0s 6ms/step\n",
            ">Epoch: 1,Batch: 197/468, disc_real_loss=0.555, disc_fake_loss=0.599 gan_loss=0.043\n",
            "2/2 [==============================] - 0s 12ms/step\n",
            ">Epoch: 1,Batch: 198/468, disc_real_loss=0.620, disc_fake_loss=0.586 gan_loss=0.039\n",
            "2/2 [==============================] - 0s 4ms/step\n",
            ">Epoch: 1,Batch: 199/468, disc_real_loss=0.621, disc_fake_loss=0.648 gan_loss=0.039\n",
            "2/2 [==============================] - 0s 8ms/step\n",
            ">Epoch: 1,Batch: 200/468, disc_real_loss=0.535, disc_fake_loss=0.608 gan_loss=0.037\n",
            "2/2 [==============================] - 0s 6ms/step\n",
            ">Epoch: 1,Batch: 201/468, disc_real_loss=0.602, disc_fake_loss=0.559 gan_loss=0.038\n",
            "2/2 [==============================] - 0s 7ms/step\n",
            ">Epoch: 1,Batch: 202/468, disc_real_loss=0.615, disc_fake_loss=0.635 gan_loss=0.043\n",
            "2/2 [==============================] - 0s 6ms/step\n",
            ">Epoch: 1,Batch: 203/468, disc_real_loss=0.641, disc_fake_loss=0.597 gan_loss=0.039\n",
            "2/2 [==============================] - 0s 6ms/step\n",
            ">Epoch: 1,Batch: 204/468, disc_real_loss=0.603, disc_fake_loss=0.597 gan_loss=0.039\n",
            "2/2 [==============================] - 0s 6ms/step\n",
            ">Epoch: 1,Batch: 205/468, disc_real_loss=0.581, disc_fake_loss=0.615 gan_loss=0.039\n",
            "2/2 [==============================] - 0s 6ms/step\n",
            ">Epoch: 1,Batch: 206/468, disc_real_loss=0.615, disc_fake_loss=0.613 gan_loss=0.038\n",
            "2/2 [==============================] - 0s 6ms/step\n",
            ">Epoch: 1,Batch: 207/468, disc_real_loss=0.614, disc_fake_loss=0.594 gan_loss=0.042\n",
            "2/2 [==============================] - 0s 6ms/step\n",
            ">Epoch: 1,Batch: 208/468, disc_real_loss=0.602, disc_fake_loss=0.625 gan_loss=0.039\n",
            "2/2 [==============================] - 0s 9ms/step\n",
            ">Epoch: 1,Batch: 209/468, disc_real_loss=0.632, disc_fake_loss=0.660 gan_loss=0.043\n",
            "2/2 [==============================] - 0s 7ms/step\n",
            ">Epoch: 1,Batch: 210/468, disc_real_loss=0.616, disc_fake_loss=0.603 gan_loss=0.051\n",
            "2/2 [==============================] - 0s 7ms/step\n",
            ">Epoch: 1,Batch: 211/468, disc_real_loss=0.584, disc_fake_loss=0.593 gan_loss=0.044\n",
            "2/2 [==============================] - 0s 6ms/step\n",
            ">Epoch: 1,Batch: 212/468, disc_real_loss=0.640, disc_fake_loss=0.638 gan_loss=0.050\n",
            "2/2 [==============================] - 0s 5ms/step\n",
            ">Epoch: 1,Batch: 213/468, disc_real_loss=0.588, disc_fake_loss=0.573 gan_loss=0.045\n",
            "2/2 [==============================] - 0s 6ms/step\n",
            ">Epoch: 1,Batch: 214/468, disc_real_loss=0.555, disc_fake_loss=0.541 gan_loss=0.048\n",
            "2/2 [==============================] - 0s 7ms/step\n",
            ">Epoch: 1,Batch: 215/468, disc_real_loss=0.547, disc_fake_loss=0.560 gan_loss=0.046\n",
            "2/2 [==============================] - 0s 8ms/step\n",
            ">Epoch: 1,Batch: 216/468, disc_real_loss=0.626, disc_fake_loss=0.556 gan_loss=0.044\n",
            "2/2 [==============================] - 0s 6ms/step\n",
            ">Epoch: 1,Batch: 217/468, disc_real_loss=0.567, disc_fake_loss=0.606 gan_loss=0.044\n",
            "2/2 [==============================] - 0s 7ms/step\n",
            ">Epoch: 1,Batch: 218/468, disc_real_loss=0.564, disc_fake_loss=0.570 gan_loss=0.049\n",
            "2/2 [==============================] - 0s 7ms/step\n",
            ">Epoch: 1,Batch: 219/468, disc_real_loss=0.632, disc_fake_loss=0.615 gan_loss=0.046\n",
            "2/2 [==============================] - 0s 7ms/step\n",
            ">Epoch: 1,Batch: 220/468, disc_real_loss=0.549, disc_fake_loss=0.612 gan_loss=0.048\n",
            "2/2 [==============================] - 0s 6ms/step\n",
            ">Epoch: 1,Batch: 221/468, disc_real_loss=0.615, disc_fake_loss=0.526 gan_loss=0.046\n",
            "2/2 [==============================] - 0s 8ms/step\n",
            ">Epoch: 1,Batch: 222/468, disc_real_loss=0.614, disc_fake_loss=0.501 gan_loss=0.042\n",
            "2/2 [==============================] - 0s 6ms/step\n",
            ">Epoch: 1,Batch: 223/468, disc_real_loss=0.547, disc_fake_loss=0.607 gan_loss=0.041\n",
            "2/2 [==============================] - 0s 6ms/step\n",
            ">Epoch: 1,Batch: 224/468, disc_real_loss=0.610, disc_fake_loss=0.619 gan_loss=0.037\n",
            "2/2 [==============================] - 0s 5ms/step\n",
            ">Epoch: 1,Batch: 225/468, disc_real_loss=0.615, disc_fake_loss=0.646 gan_loss=0.039\n",
            "2/2 [==============================] - 0s 7ms/step\n",
            ">Epoch: 1,Batch: 226/468, disc_real_loss=0.617, disc_fake_loss=0.578 gan_loss=0.038\n",
            "2/2 [==============================] - 0s 7ms/step\n",
            ">Epoch: 1,Batch: 227/468, disc_real_loss=0.608, disc_fake_loss=0.524 gan_loss=0.035\n",
            "2/2 [==============================] - 0s 5ms/step\n",
            ">Epoch: 1,Batch: 228/468, disc_real_loss=0.529, disc_fake_loss=0.570 gan_loss=0.038\n",
            "2/2 [==============================] - 0s 6ms/step\n",
            ">Epoch: 1,Batch: 229/468, disc_real_loss=0.550, disc_fake_loss=0.555 gan_loss=0.034\n",
            "2/2 [==============================] - 0s 6ms/step\n",
            ">Epoch: 1,Batch: 230/468, disc_real_loss=0.575, disc_fake_loss=0.573 gan_loss=0.034\n",
            "2/2 [==============================] - 0s 6ms/step\n",
            ">Epoch: 1,Batch: 231/468, disc_real_loss=0.531, disc_fake_loss=0.613 gan_loss=0.038\n",
            "2/2 [==============================] - 0s 6ms/step\n",
            ">Epoch: 1,Batch: 232/468, disc_real_loss=0.664, disc_fake_loss=0.599 gan_loss=0.034\n",
            "2/2 [==============================] - 0s 7ms/step\n",
            ">Epoch: 1,Batch: 233/468, disc_real_loss=0.642, disc_fake_loss=0.640 gan_loss=0.032\n",
            "2/2 [==============================] - 0s 7ms/step\n",
            ">Epoch: 1,Batch: 234/468, disc_real_loss=0.541, disc_fake_loss=0.561 gan_loss=0.033\n",
            "2/2 [==============================] - 0s 7ms/step\n",
            ">Epoch: 1,Batch: 235/468, disc_real_loss=0.599, disc_fake_loss=0.550 gan_loss=0.032\n",
            "2/2 [==============================] - 0s 7ms/step\n",
            ">Epoch: 1,Batch: 236/468, disc_real_loss=0.557, disc_fake_loss=0.564 gan_loss=0.035\n",
            "2/2 [==============================] - 0s 6ms/step\n",
            ">Epoch: 1,Batch: 237/468, disc_real_loss=0.630, disc_fake_loss=0.615 gan_loss=0.034\n",
            "2/2 [==============================] - 0s 4ms/step\n",
            ">Epoch: 1,Batch: 238/468, disc_real_loss=0.573, disc_fake_loss=0.576 gan_loss=0.031\n",
            "2/2 [==============================] - 0s 7ms/step\n",
            ">Epoch: 1,Batch: 239/468, disc_real_loss=0.599, disc_fake_loss=0.637 gan_loss=0.030\n",
            "2/2 [==============================] - 0s 6ms/step\n",
            ">Epoch: 1,Batch: 240/468, disc_real_loss=0.629, disc_fake_loss=0.606 gan_loss=0.032\n",
            "2/2 [==============================] - 0s 5ms/step\n",
            ">Epoch: 1,Batch: 241/468, disc_real_loss=0.489, disc_fake_loss=0.553 gan_loss=0.034\n",
            "2/2 [==============================] - 0s 7ms/step\n",
            ">Epoch: 1,Batch: 242/468, disc_real_loss=0.586, disc_fake_loss=0.506 gan_loss=0.032\n",
            "2/2 [==============================] - 0s 8ms/step\n",
            ">Epoch: 1,Batch: 243/468, disc_real_loss=0.677, disc_fake_loss=0.616 gan_loss=0.031\n",
            "2/2 [==============================] - 0s 7ms/step\n",
            ">Epoch: 1,Batch: 244/468, disc_real_loss=0.641, disc_fake_loss=0.668 gan_loss=0.030\n",
            "2/2 [==============================] - 0s 7ms/step\n",
            ">Epoch: 1,Batch: 245/468, disc_real_loss=0.599, disc_fake_loss=0.502 gan_loss=0.029\n",
            "2/2 [==============================] - 0s 4ms/step\n",
            ">Epoch: 1,Batch: 246/468, disc_real_loss=0.545, disc_fake_loss=0.609 gan_loss=0.029\n",
            "2/2 [==============================] - 0s 4ms/step\n",
            ">Epoch: 1,Batch: 247/468, disc_real_loss=0.562, disc_fake_loss=0.681 gan_loss=0.029\n",
            "2/2 [==============================] - 0s 7ms/step\n",
            ">Epoch: 1,Batch: 248/468, disc_real_loss=0.569, disc_fake_loss=0.562 gan_loss=0.031\n",
            "2/2 [==============================] - 0s 4ms/step\n",
            ">Epoch: 1,Batch: 249/468, disc_real_loss=0.642, disc_fake_loss=0.582 gan_loss=0.030\n",
            "2/2 [==============================] - 0s 8ms/step\n",
            ">Epoch: 1,Batch: 250/468, disc_real_loss=0.592, disc_fake_loss=0.597 gan_loss=0.030\n",
            "2/2 [==============================] - 0s 8ms/step\n",
            ">Epoch: 1,Batch: 251/468, disc_real_loss=0.541, disc_fake_loss=0.555 gan_loss=0.032\n",
            "2/2 [==============================] - 0s 5ms/step\n",
            ">Epoch: 1,Batch: 252/468, disc_real_loss=0.616, disc_fake_loss=0.564 gan_loss=0.031\n",
            "2/2 [==============================] - 0s 7ms/step\n",
            ">Epoch: 1,Batch: 253/468, disc_real_loss=0.576, disc_fake_loss=0.607 gan_loss=0.029\n",
            "2/2 [==============================] - 0s 10ms/step\n",
            ">Epoch: 1,Batch: 254/468, disc_real_loss=0.583, disc_fake_loss=0.575 gan_loss=0.026\n",
            "2/2 [==============================] - 0s 4ms/step\n",
            ">Epoch: 1,Batch: 255/468, disc_real_loss=0.583, disc_fake_loss=0.588 gan_loss=0.029\n",
            "2/2 [==============================] - 0s 6ms/step\n",
            ">Epoch: 1,Batch: 256/468, disc_real_loss=0.599, disc_fake_loss=0.592 gan_loss=0.030\n",
            "2/2 [==============================] - 0s 4ms/step\n",
            ">Epoch: 1,Batch: 257/468, disc_real_loss=0.547, disc_fake_loss=0.588 gan_loss=0.029\n",
            "2/2 [==============================] - 0s 9ms/step\n",
            ">Epoch: 1,Batch: 258/468, disc_real_loss=0.597, disc_fake_loss=0.579 gan_loss=0.029\n",
            "2/2 [==============================] - 0s 7ms/step\n",
            ">Epoch: 1,Batch: 259/468, disc_real_loss=0.659, disc_fake_loss=0.605 gan_loss=0.030\n",
            "2/2 [==============================] - 0s 6ms/step\n",
            ">Epoch: 1,Batch: 260/468, disc_real_loss=0.539, disc_fake_loss=0.597 gan_loss=0.030\n",
            "2/2 [==============================] - 0s 7ms/step\n",
            ">Epoch: 1,Batch: 261/468, disc_real_loss=0.592, disc_fake_loss=0.574 gan_loss=0.029\n",
            "2/2 [==============================] - 0s 7ms/step\n",
            ">Epoch: 1,Batch: 262/468, disc_real_loss=0.617, disc_fake_loss=0.494 gan_loss=0.026\n",
            "2/2 [==============================] - 0s 5ms/step\n",
            ">Epoch: 1,Batch: 263/468, disc_real_loss=0.612, disc_fake_loss=0.618 gan_loss=0.026\n",
            "2/2 [==============================] - 0s 8ms/step\n",
            ">Epoch: 1,Batch: 264/468, disc_real_loss=0.518, disc_fake_loss=0.572 gan_loss=0.026\n",
            "2/2 [==============================] - 0s 6ms/step\n",
            ">Epoch: 1,Batch: 265/468, disc_real_loss=0.582, disc_fake_loss=0.522 gan_loss=0.025\n",
            "2/2 [==============================] - 0s 6ms/step\n",
            ">Epoch: 1,Batch: 266/468, disc_real_loss=0.497, disc_fake_loss=0.613 gan_loss=0.028\n",
            "2/2 [==============================] - 0s 8ms/step\n",
            ">Epoch: 1,Batch: 267/468, disc_real_loss=0.641, disc_fake_loss=0.598 gan_loss=0.029\n",
            "2/2 [==============================] - 0s 8ms/step\n",
            ">Epoch: 1,Batch: 268/468, disc_real_loss=0.583, disc_fake_loss=0.530 gan_loss=0.027\n",
            "2/2 [==============================] - 0s 12ms/step\n",
            ">Epoch: 1,Batch: 269/468, disc_real_loss=0.597, disc_fake_loss=0.531 gan_loss=0.023\n",
            "2/2 [==============================] - 0s 7ms/step\n",
            ">Epoch: 1,Batch: 270/468, disc_real_loss=0.571, disc_fake_loss=0.630 gan_loss=0.024\n",
            "2/2 [==============================] - 0s 7ms/step\n",
            ">Epoch: 1,Batch: 271/468, disc_real_loss=0.635, disc_fake_loss=0.597 gan_loss=0.024\n",
            "2/2 [==============================] - 0s 7ms/step\n",
            ">Epoch: 1,Batch: 272/468, disc_real_loss=0.567, disc_fake_loss=0.582 gan_loss=0.025\n",
            "2/2 [==============================] - 0s 7ms/step\n",
            ">Epoch: 1,Batch: 273/468, disc_real_loss=0.522, disc_fake_loss=0.607 gan_loss=0.027\n",
            "2/2 [==============================] - 0s 7ms/step\n",
            ">Epoch: 1,Batch: 274/468, disc_real_loss=0.645, disc_fake_loss=0.596 gan_loss=0.027\n",
            "2/2 [==============================] - 0s 7ms/step\n",
            ">Epoch: 1,Batch: 275/468, disc_real_loss=0.569, disc_fake_loss=0.573 gan_loss=0.027\n",
            "2/2 [==============================] - 0s 7ms/step\n",
            ">Epoch: 1,Batch: 276/468, disc_real_loss=0.569, disc_fake_loss=0.592 gan_loss=0.026\n",
            "2/2 [==============================] - 0s 7ms/step\n",
            ">Epoch: 1,Batch: 277/468, disc_real_loss=0.613, disc_fake_loss=0.600 gan_loss=0.026\n",
            "2/2 [==============================] - 0s 8ms/step\n",
            ">Epoch: 1,Batch: 278/468, disc_real_loss=0.550, disc_fake_loss=0.591 gan_loss=0.026\n",
            "2/2 [==============================] - 0s 5ms/step\n",
            ">Epoch: 1,Batch: 279/468, disc_real_loss=0.595, disc_fake_loss=0.574 gan_loss=0.028\n",
            "2/2 [==============================] - 0s 4ms/step\n",
            ">Epoch: 1,Batch: 280/468, disc_real_loss=0.563, disc_fake_loss=0.605 gan_loss=0.026\n",
            "2/2 [==============================] - 0s 7ms/step\n",
            ">Epoch: 1,Batch: 281/468, disc_real_loss=0.596, disc_fake_loss=0.618 gan_loss=0.025\n",
            "2/2 [==============================] - 0s 5ms/step\n",
            ">Epoch: 1,Batch: 282/468, disc_real_loss=0.678, disc_fake_loss=0.591 gan_loss=0.025\n",
            "2/2 [==============================] - 0s 6ms/step\n",
            ">Epoch: 1,Batch: 283/468, disc_real_loss=0.614, disc_fake_loss=0.548 gan_loss=0.026\n",
            "2/2 [==============================] - 0s 7ms/step\n",
            ">Epoch: 1,Batch: 284/468, disc_real_loss=0.592, disc_fake_loss=0.555 gan_loss=0.024\n",
            "2/2 [==============================] - 0s 8ms/step\n",
            ">Epoch: 1,Batch: 285/468, disc_real_loss=0.550, disc_fake_loss=0.533 gan_loss=0.022\n",
            "2/2 [==============================] - 0s 9ms/step\n",
            ">Epoch: 1,Batch: 286/468, disc_real_loss=0.574, disc_fake_loss=0.647 gan_loss=0.026\n",
            "2/2 [==============================] - 0s 5ms/step\n",
            ">Epoch: 1,Batch: 287/468, disc_real_loss=0.550, disc_fake_loss=0.533 gan_loss=0.026\n",
            "2/2 [==============================] - 0s 6ms/step\n",
            ">Epoch: 1,Batch: 288/468, disc_real_loss=0.608, disc_fake_loss=0.511 gan_loss=0.026\n",
            "2/2 [==============================] - 0s 5ms/step\n",
            ">Epoch: 1,Batch: 289/468, disc_real_loss=0.569, disc_fake_loss=0.598 gan_loss=0.026\n",
            "2/2 [==============================] - 0s 9ms/step\n",
            ">Epoch: 1,Batch: 290/468, disc_real_loss=0.568, disc_fake_loss=0.614 gan_loss=0.026\n",
            "2/2 [==============================] - 0s 7ms/step\n",
            ">Epoch: 1,Batch: 291/468, disc_real_loss=0.614, disc_fake_loss=0.538 gan_loss=0.024\n",
            "2/2 [==============================] - 0s 5ms/step\n",
            ">Epoch: 1,Batch: 292/468, disc_real_loss=0.564, disc_fake_loss=0.591 gan_loss=0.026\n",
            "2/2 [==============================] - 0s 9ms/step\n",
            ">Epoch: 1,Batch: 293/468, disc_real_loss=0.575, disc_fake_loss=0.624 gan_loss=0.025\n",
            "2/2 [==============================] - 0s 6ms/step\n",
            ">Epoch: 1,Batch: 294/468, disc_real_loss=0.571, disc_fake_loss=0.586 gan_loss=0.023\n",
            "2/2 [==============================] - 0s 9ms/step\n",
            ">Epoch: 1,Batch: 295/468, disc_real_loss=0.599, disc_fake_loss=0.566 gan_loss=0.026\n",
            "2/2 [==============================] - 0s 9ms/step\n",
            ">Epoch: 1,Batch: 296/468, disc_real_loss=0.527, disc_fake_loss=0.618 gan_loss=0.025\n",
            "2/2 [==============================] - 0s 6ms/step\n",
            ">Epoch: 1,Batch: 297/468, disc_real_loss=0.607, disc_fake_loss=0.563 gan_loss=0.021\n",
            "2/2 [==============================] - 0s 4ms/step\n",
            ">Epoch: 1,Batch: 298/468, disc_real_loss=0.586, disc_fake_loss=0.597 gan_loss=0.021\n",
            "2/2 [==============================] - 0s 7ms/step\n",
            ">Epoch: 1,Batch: 299/468, disc_real_loss=0.506, disc_fake_loss=0.597 gan_loss=0.021\n",
            "2/2 [==============================] - 0s 8ms/step\n",
            ">Epoch: 1,Batch: 300/468, disc_real_loss=0.577, disc_fake_loss=0.577 gan_loss=0.021\n",
            "2/2 [==============================] - 0s 8ms/step\n",
            ">Epoch: 1,Batch: 301/468, disc_real_loss=0.553, disc_fake_loss=0.583 gan_loss=0.022\n",
            "2/2 [==============================] - 0s 8ms/step\n",
            ">Epoch: 1,Batch: 302/468, disc_real_loss=0.594, disc_fake_loss=0.585 gan_loss=0.023\n",
            "2/2 [==============================] - 0s 5ms/step\n",
            ">Epoch: 1,Batch: 303/468, disc_real_loss=0.554, disc_fake_loss=0.525 gan_loss=0.023\n",
            "2/2 [==============================] - 0s 5ms/step\n",
            ">Epoch: 1,Batch: 304/468, disc_real_loss=0.631, disc_fake_loss=0.507 gan_loss=0.021\n",
            "2/2 [==============================] - 0s 8ms/step\n",
            ">Epoch: 1,Batch: 305/468, disc_real_loss=0.583, disc_fake_loss=0.530 gan_loss=0.020\n",
            "2/2 [==============================] - 0s 9ms/step\n",
            ">Epoch: 1,Batch: 306/468, disc_real_loss=0.516, disc_fake_loss=0.547 gan_loss=0.019\n",
            "2/2 [==============================] - 0s 10ms/step\n",
            ">Epoch: 1,Batch: 307/468, disc_real_loss=0.644, disc_fake_loss=0.629 gan_loss=0.017\n",
            "2/2 [==============================] - 0s 8ms/step\n",
            ">Epoch: 1,Batch: 308/468, disc_real_loss=0.523, disc_fake_loss=0.598 gan_loss=0.019\n",
            "2/2 [==============================] - 0s 9ms/step\n",
            ">Epoch: 1,Batch: 309/468, disc_real_loss=0.478, disc_fake_loss=0.591 gan_loss=0.020\n",
            "2/2 [==============================] - 0s 8ms/step\n",
            ">Epoch: 1,Batch: 310/468, disc_real_loss=0.571, disc_fake_loss=0.514 gan_loss=0.021\n",
            "2/2 [==============================] - 0s 6ms/step\n",
            ">Epoch: 1,Batch: 311/468, disc_real_loss=0.505, disc_fake_loss=0.508 gan_loss=0.021\n",
            "2/2 [==============================] - 0s 6ms/step\n",
            ">Epoch: 1,Batch: 312/468, disc_real_loss=0.644, disc_fake_loss=0.583 gan_loss=0.020\n",
            "2/2 [==============================] - 0s 8ms/step\n",
            ">Epoch: 1,Batch: 313/468, disc_real_loss=0.583, disc_fake_loss=0.500 gan_loss=0.018\n",
            "2/2 [==============================] - 0s 9ms/step\n",
            ">Epoch: 1,Batch: 314/468, disc_real_loss=0.542, disc_fake_loss=0.622 gan_loss=0.019\n",
            "2/2 [==============================] - 0s 8ms/step\n",
            ">Epoch: 1,Batch: 315/468, disc_real_loss=0.593, disc_fake_loss=0.521 gan_loss=0.018\n",
            "2/2 [==============================] - 0s 7ms/step\n",
            ">Epoch: 1,Batch: 316/468, disc_real_loss=0.588, disc_fake_loss=0.535 gan_loss=0.018\n",
            "2/2 [==============================] - 0s 12ms/step\n",
            ">Epoch: 1,Batch: 317/468, disc_real_loss=0.511, disc_fake_loss=0.579 gan_loss=0.017\n",
            "2/2 [==============================] - 0s 7ms/step\n",
            ">Epoch: 1,Batch: 318/468, disc_real_loss=0.479, disc_fake_loss=0.553 gan_loss=0.018\n",
            "2/2 [==============================] - 0s 6ms/step\n",
            ">Epoch: 1,Batch: 319/468, disc_real_loss=0.599, disc_fake_loss=0.574 gan_loss=0.018\n",
            "2/2 [==============================] - 0s 6ms/step\n",
            ">Epoch: 1,Batch: 320/468, disc_real_loss=0.652, disc_fake_loss=0.614 gan_loss=0.017\n",
            "2/2 [==============================] - 0s 9ms/step\n",
            ">Epoch: 1,Batch: 321/468, disc_real_loss=0.570, disc_fake_loss=0.595 gan_loss=0.017\n",
            "2/2 [==============================] - 0s 8ms/step\n",
            ">Epoch: 1,Batch: 322/468, disc_real_loss=0.665, disc_fake_loss=0.563 gan_loss=0.016\n",
            "2/2 [==============================] - 0s 7ms/step\n",
            ">Epoch: 1,Batch: 323/468, disc_real_loss=0.553, disc_fake_loss=0.587 gan_loss=0.016\n",
            "2/2 [==============================] - 0s 10ms/step\n",
            ">Epoch: 1,Batch: 324/468, disc_real_loss=0.566, disc_fake_loss=0.579 gan_loss=0.015\n",
            "2/2 [==============================] - 0s 9ms/step\n",
            ">Epoch: 1,Batch: 325/468, disc_real_loss=0.538, disc_fake_loss=0.491 gan_loss=0.017\n",
            "2/2 [==============================] - 0s 9ms/step\n",
            ">Epoch: 1,Batch: 326/468, disc_real_loss=0.521, disc_fake_loss=0.579 gan_loss=0.017\n",
            "2/2 [==============================] - 0s 6ms/step\n",
            ">Epoch: 1,Batch: 327/468, disc_real_loss=0.580, disc_fake_loss=0.549 gan_loss=0.016\n",
            "2/2 [==============================] - 0s 7ms/step\n",
            ">Epoch: 1,Batch: 328/468, disc_real_loss=0.572, disc_fake_loss=0.557 gan_loss=0.016\n",
            "2/2 [==============================] - 0s 9ms/step\n",
            ">Epoch: 1,Batch: 329/468, disc_real_loss=0.555, disc_fake_loss=0.594 gan_loss=0.015\n",
            "2/2 [==============================] - 0s 8ms/step\n",
            ">Epoch: 1,Batch: 330/468, disc_real_loss=0.564, disc_fake_loss=0.546 gan_loss=0.015\n",
            "2/2 [==============================] - 0s 29ms/step\n",
            ">Epoch: 1,Batch: 331/468, disc_real_loss=0.573, disc_fake_loss=0.536 gan_loss=0.017\n",
            "2/2 [==============================] - 0s 11ms/step\n",
            ">Epoch: 1,Batch: 332/468, disc_real_loss=0.569, disc_fake_loss=0.561 gan_loss=0.015\n",
            "2/2 [==============================] - 0s 7ms/step\n",
            ">Epoch: 1,Batch: 333/468, disc_real_loss=0.595, disc_fake_loss=0.528 gan_loss=0.015\n",
            "2/2 [==============================] - 0s 9ms/step\n",
            ">Epoch: 1,Batch: 334/468, disc_real_loss=0.532, disc_fake_loss=0.610 gan_loss=0.014\n",
            "2/2 [==============================] - 0s 16ms/step\n",
            ">Epoch: 1,Batch: 335/468, disc_real_loss=0.558, disc_fake_loss=0.558 gan_loss=0.015\n",
            "2/2 [==============================] - 0s 5ms/step\n",
            ">Epoch: 1,Batch: 336/468, disc_real_loss=0.578, disc_fake_loss=0.550 gan_loss=0.015\n",
            "2/2 [==============================] - 0s 7ms/step\n",
            ">Epoch: 1,Batch: 337/468, disc_real_loss=0.598, disc_fake_loss=0.613 gan_loss=0.014\n",
            "2/2 [==============================] - 0s 8ms/step\n",
            ">Epoch: 1,Batch: 338/468, disc_real_loss=0.586, disc_fake_loss=0.567 gan_loss=0.014\n",
            "2/2 [==============================] - 0s 5ms/step\n",
            ">Epoch: 1,Batch: 339/468, disc_real_loss=0.558, disc_fake_loss=0.572 gan_loss=0.014\n",
            "2/2 [==============================] - 0s 13ms/step\n",
            ">Epoch: 1,Batch: 340/468, disc_real_loss=0.637, disc_fake_loss=0.585 gan_loss=0.014\n",
            "2/2 [==============================] - 0s 6ms/step\n",
            ">Epoch: 1,Batch: 341/468, disc_real_loss=0.548, disc_fake_loss=0.600 gan_loss=0.014\n",
            "2/2 [==============================] - 0s 6ms/step\n",
            ">Epoch: 1,Batch: 342/468, disc_real_loss=0.524, disc_fake_loss=0.561 gan_loss=0.015\n",
            "2/2 [==============================] - 0s 9ms/step\n",
            ">Epoch: 1,Batch: 343/468, disc_real_loss=0.573, disc_fake_loss=0.524 gan_loss=0.015\n",
            "2/2 [==============================] - 0s 8ms/step\n",
            ">Epoch: 1,Batch: 344/468, disc_real_loss=0.560, disc_fake_loss=0.504 gan_loss=0.015\n",
            "2/2 [==============================] - 0s 10ms/step\n",
            ">Epoch: 1,Batch: 345/468, disc_real_loss=0.612, disc_fake_loss=0.601 gan_loss=0.014\n",
            "2/2 [==============================] - 0s 4ms/step\n",
            ">Epoch: 1,Batch: 346/468, disc_real_loss=0.609, disc_fake_loss=0.594 gan_loss=0.014\n",
            "2/2 [==============================] - 0s 9ms/step\n",
            ">Epoch: 1,Batch: 347/468, disc_real_loss=0.550, disc_fake_loss=0.609 gan_loss=0.014\n",
            "2/2 [==============================] - 0s 9ms/step\n",
            ">Epoch: 1,Batch: 348/468, disc_real_loss=0.608, disc_fake_loss=0.503 gan_loss=0.014\n",
            "2/2 [==============================] - 0s 11ms/step\n",
            ">Epoch: 1,Batch: 349/468, disc_real_loss=0.593, disc_fake_loss=0.589 gan_loss=0.013\n",
            "2/2 [==============================] - 0s 5ms/step\n",
            ">Epoch: 1,Batch: 350/468, disc_real_loss=0.477, disc_fake_loss=0.559 gan_loss=0.014\n",
            "2/2 [==============================] - 0s 4ms/step\n",
            ">Epoch: 1,Batch: 351/468, disc_real_loss=0.520, disc_fake_loss=0.581 gan_loss=0.015\n",
            "2/2 [==============================] - 0s 9ms/step\n",
            ">Epoch: 1,Batch: 352/468, disc_real_loss=0.507, disc_fake_loss=0.558 gan_loss=0.015\n",
            "2/2 [==============================] - 0s 5ms/step\n",
            ">Epoch: 1,Batch: 353/468, disc_real_loss=0.624, disc_fake_loss=0.531 gan_loss=0.015\n",
            "2/2 [==============================] - 0s 6ms/step\n",
            ">Epoch: 1,Batch: 354/468, disc_real_loss=0.575, disc_fake_loss=0.565 gan_loss=0.015\n",
            "2/2 [==============================] - 0s 6ms/step\n",
            ">Epoch: 1,Batch: 355/468, disc_real_loss=0.591, disc_fake_loss=0.573 gan_loss=0.017\n",
            "2/2 [==============================] - 0s 8ms/step\n",
            ">Epoch: 1,Batch: 356/468, disc_real_loss=0.535, disc_fake_loss=0.604 gan_loss=0.016\n",
            "2/2 [==============================] - 0s 8ms/step\n",
            ">Epoch: 1,Batch: 357/468, disc_real_loss=0.582, disc_fake_loss=0.539 gan_loss=0.016\n",
            "2/2 [==============================] - 0s 6ms/step\n",
            ">Epoch: 1,Batch: 358/468, disc_real_loss=0.572, disc_fake_loss=0.578 gan_loss=0.015\n",
            "2/2 [==============================] - 0s 9ms/step\n",
            ">Epoch: 1,Batch: 359/468, disc_real_loss=0.479, disc_fake_loss=0.554 gan_loss=0.016\n",
            "2/2 [==============================] - 0s 9ms/step\n",
            ">Epoch: 1,Batch: 360/468, disc_real_loss=0.526, disc_fake_loss=0.553 gan_loss=0.016\n",
            "2/2 [==============================] - 0s 6ms/step\n",
            ">Epoch: 1,Batch: 361/468, disc_real_loss=0.584, disc_fake_loss=0.524 gan_loss=0.016\n",
            "2/2 [==============================] - 0s 8ms/step\n",
            ">Epoch: 1,Batch: 362/468, disc_real_loss=0.685, disc_fake_loss=0.613 gan_loss=0.014\n",
            "2/2 [==============================] - 0s 5ms/step\n",
            ">Epoch: 1,Batch: 363/468, disc_real_loss=0.509, disc_fake_loss=0.522 gan_loss=0.014\n",
            "2/2 [==============================] - 0s 8ms/step\n",
            ">Epoch: 1,Batch: 364/468, disc_real_loss=0.514, disc_fake_loss=0.541 gan_loss=0.015\n",
            "2/2 [==============================] - 0s 9ms/step\n",
            ">Epoch: 1,Batch: 365/468, disc_real_loss=0.519, disc_fake_loss=0.572 gan_loss=0.014\n",
            "2/2 [==============================] - 0s 9ms/step\n",
            ">Epoch: 1,Batch: 366/468, disc_real_loss=0.603, disc_fake_loss=0.485 gan_loss=0.014\n",
            "2/2 [==============================] - 0s 5ms/step\n",
            ">Epoch: 1,Batch: 367/468, disc_real_loss=0.496, disc_fake_loss=0.512 gan_loss=0.014\n",
            "2/2 [==============================] - 0s 9ms/step\n",
            ">Epoch: 1,Batch: 368/468, disc_real_loss=0.582, disc_fake_loss=0.571 gan_loss=0.013\n",
            "2/2 [==============================] - 0s 10ms/step\n",
            ">Epoch: 1,Batch: 369/468, disc_real_loss=0.524, disc_fake_loss=0.569 gan_loss=0.014\n",
            "2/2 [==============================] - 0s 6ms/step\n",
            ">Epoch: 1,Batch: 370/468, disc_real_loss=0.572, disc_fake_loss=0.599 gan_loss=0.015\n",
            "2/2 [==============================] - 0s 9ms/step\n",
            ">Epoch: 1,Batch: 371/468, disc_real_loss=0.529, disc_fake_loss=0.548 gan_loss=0.017\n",
            "2/2 [==============================] - 0s 9ms/step\n",
            ">Epoch: 1,Batch: 372/468, disc_real_loss=0.631, disc_fake_loss=0.553 gan_loss=0.016\n",
            "2/2 [==============================] - 0s 12ms/step\n",
            ">Epoch: 1,Batch: 373/468, disc_real_loss=0.572, disc_fake_loss=0.526 gan_loss=0.016\n",
            "2/2 [==============================] - 0s 4ms/step\n",
            ">Epoch: 1,Batch: 374/468, disc_real_loss=0.578, disc_fake_loss=0.583 gan_loss=0.016\n",
            "2/2 [==============================] - 0s 10ms/step\n",
            ">Epoch: 1,Batch: 375/468, disc_real_loss=0.565, disc_fake_loss=0.551 gan_loss=0.014\n",
            "2/2 [==============================] - 0s 6ms/step\n",
            ">Epoch: 1,Batch: 376/468, disc_real_loss=0.537, disc_fake_loss=0.553 gan_loss=0.014\n",
            "2/2 [==============================] - 0s 8ms/step\n",
            ">Epoch: 1,Batch: 377/468, disc_real_loss=0.549, disc_fake_loss=0.606 gan_loss=0.015\n",
            "2/2 [==============================] - 0s 9ms/step\n",
            ">Epoch: 1,Batch: 378/468, disc_real_loss=0.568, disc_fake_loss=0.547 gan_loss=0.014\n",
            "2/2 [==============================] - 0s 5ms/step\n",
            ">Epoch: 1,Batch: 379/468, disc_real_loss=0.574, disc_fake_loss=0.634 gan_loss=0.014\n",
            "2/2 [==============================] - 0s 8ms/step\n",
            ">Epoch: 1,Batch: 380/468, disc_real_loss=0.558, disc_fake_loss=0.516 gan_loss=0.014\n",
            "2/2 [==============================] - 0s 4ms/step\n",
            ">Epoch: 1,Batch: 381/468, disc_real_loss=0.545, disc_fake_loss=0.660 gan_loss=0.015\n",
            "2/2 [==============================] - 0s 9ms/step\n",
            ">Epoch: 1,Batch: 382/468, disc_real_loss=0.598, disc_fake_loss=0.515 gan_loss=0.014\n",
            "2/2 [==============================] - 0s 6ms/step\n",
            ">Epoch: 1,Batch: 383/468, disc_real_loss=0.607, disc_fake_loss=0.567 gan_loss=0.015\n",
            "2/2 [==============================] - 0s 9ms/step\n",
            ">Epoch: 1,Batch: 384/468, disc_real_loss=0.568, disc_fake_loss=0.566 gan_loss=0.014\n",
            "2/2 [==============================] - 0s 4ms/step\n",
            ">Epoch: 1,Batch: 385/468, disc_real_loss=0.538, disc_fake_loss=0.521 gan_loss=0.014\n",
            "2/2 [==============================] - 0s 6ms/step\n",
            ">Epoch: 1,Batch: 386/468, disc_real_loss=0.601, disc_fake_loss=0.496 gan_loss=0.013\n",
            "2/2 [==============================] - 0s 10ms/step\n",
            ">Epoch: 1,Batch: 387/468, disc_real_loss=0.539, disc_fake_loss=0.561 gan_loss=0.013\n",
            "2/2 [==============================] - 0s 5ms/step\n",
            ">Epoch: 1,Batch: 388/468, disc_real_loss=0.552, disc_fake_loss=0.578 gan_loss=0.013\n",
            "2/2 [==============================] - 0s 9ms/step\n",
            ">Epoch: 1,Batch: 389/468, disc_real_loss=0.619, disc_fake_loss=0.541 gan_loss=0.013\n",
            "2/2 [==============================] - 0s 8ms/step\n",
            ">Epoch: 1,Batch: 390/468, disc_real_loss=0.592, disc_fake_loss=0.606 gan_loss=0.012\n",
            "2/2 [==============================] - 0s 10ms/step\n",
            ">Epoch: 1,Batch: 391/468, disc_real_loss=0.544, disc_fake_loss=0.585 gan_loss=0.013\n",
            "2/2 [==============================] - 0s 4ms/step\n",
            ">Epoch: 1,Batch: 392/468, disc_real_loss=0.510, disc_fake_loss=0.545 gan_loss=0.013\n",
            "2/2 [==============================] - 0s 4ms/step\n",
            ">Epoch: 1,Batch: 393/468, disc_real_loss=0.578, disc_fake_loss=0.618 gan_loss=0.014\n",
            "2/2 [==============================] - 0s 9ms/step\n",
            ">Epoch: 1,Batch: 394/468, disc_real_loss=0.548, disc_fake_loss=0.552 gan_loss=0.015\n",
            "2/2 [==============================] - 0s 4ms/step\n",
            ">Epoch: 1,Batch: 395/468, disc_real_loss=0.586, disc_fake_loss=0.529 gan_loss=0.013\n",
            "2/2 [==============================] - 0s 5ms/step\n",
            ">Epoch: 1,Batch: 396/468, disc_real_loss=0.490, disc_fake_loss=0.563 gan_loss=0.014\n",
            "2/2 [==============================] - 0s 9ms/step\n",
            ">Epoch: 1,Batch: 397/468, disc_real_loss=0.603, disc_fake_loss=0.508 gan_loss=0.013\n",
            "2/2 [==============================] - 0s 9ms/step\n",
            ">Epoch: 1,Batch: 398/468, disc_real_loss=0.543, disc_fake_loss=0.553 gan_loss=0.013\n",
            "2/2 [==============================] - 0s 6ms/step\n",
            ">Epoch: 1,Batch: 399/468, disc_real_loss=0.609, disc_fake_loss=0.537 gan_loss=0.014\n",
            "2/2 [==============================] - 0s 9ms/step\n",
            ">Epoch: 1,Batch: 400/468, disc_real_loss=0.534, disc_fake_loss=0.536 gan_loss=0.014\n",
            "2/2 [==============================] - 0s 6ms/step\n",
            ">Epoch: 1,Batch: 401/468, disc_real_loss=0.527, disc_fake_loss=0.557 gan_loss=0.014\n",
            "2/2 [==============================] - 0s 10ms/step\n",
            ">Epoch: 1,Batch: 402/468, disc_real_loss=0.518, disc_fake_loss=0.560 gan_loss=0.014\n",
            "2/2 [==============================] - 0s 9ms/step\n",
            ">Epoch: 1,Batch: 403/468, disc_real_loss=0.522, disc_fake_loss=0.561 gan_loss=0.015\n",
            "2/2 [==============================] - 0s 7ms/step\n",
            ">Epoch: 1,Batch: 404/468, disc_real_loss=0.518, disc_fake_loss=0.547 gan_loss=0.016\n",
            "2/2 [==============================] - 0s 12ms/step\n",
            ">Epoch: 1,Batch: 405/468, disc_real_loss=0.534, disc_fake_loss=0.481 gan_loss=0.015\n",
            "2/2 [==============================] - 0s 9ms/step\n",
            ">Epoch: 1,Batch: 406/468, disc_real_loss=0.581, disc_fake_loss=0.522 gan_loss=0.015\n",
            "2/2 [==============================] - 0s 6ms/step\n",
            ">Epoch: 1,Batch: 407/468, disc_real_loss=0.601, disc_fake_loss=0.471 gan_loss=0.013\n",
            "2/2 [==============================] - 0s 6ms/step\n",
            ">Epoch: 1,Batch: 408/468, disc_real_loss=0.580, disc_fake_loss=0.537 gan_loss=0.012\n",
            "2/2 [==============================] - 0s 9ms/step\n",
            ">Epoch: 1,Batch: 409/468, disc_real_loss=0.629, disc_fake_loss=0.590 gan_loss=0.013\n",
            "2/2 [==============================] - 0s 10ms/step\n",
            ">Epoch: 1,Batch: 410/468, disc_real_loss=0.571, disc_fake_loss=0.574 gan_loss=0.013\n",
            "2/2 [==============================] - 0s 9ms/step\n",
            ">Epoch: 1,Batch: 411/468, disc_real_loss=0.545, disc_fake_loss=0.553 gan_loss=0.013\n",
            "2/2 [==============================] - 0s 9ms/step\n",
            ">Epoch: 1,Batch: 412/468, disc_real_loss=0.544, disc_fake_loss=0.539 gan_loss=0.013\n",
            "2/2 [==============================] - 0s 8ms/step\n",
            ">Epoch: 1,Batch: 413/468, disc_real_loss=0.464, disc_fake_loss=0.501 gan_loss=0.012\n",
            "2/2 [==============================] - 0s 9ms/step\n",
            ">Epoch: 1,Batch: 414/468, disc_real_loss=0.548, disc_fake_loss=0.513 gan_loss=0.013\n",
            "2/2 [==============================] - 0s 4ms/step\n",
            ">Epoch: 1,Batch: 415/468, disc_real_loss=0.476, disc_fake_loss=0.575 gan_loss=0.014\n",
            "2/2 [==============================] - 0s 9ms/step\n",
            ">Epoch: 1,Batch: 416/468, disc_real_loss=0.526, disc_fake_loss=0.523 gan_loss=0.015\n",
            "2/2 [==============================] - 0s 16ms/step\n",
            ">Epoch: 1,Batch: 417/468, disc_real_loss=0.574, disc_fake_loss=0.516 gan_loss=0.015\n",
            "2/2 [==============================] - 0s 6ms/step\n",
            ">Epoch: 1,Batch: 418/468, disc_real_loss=0.536, disc_fake_loss=0.507 gan_loss=0.014\n",
            "2/2 [==============================] - 0s 9ms/step\n",
            ">Epoch: 1,Batch: 419/468, disc_real_loss=0.521, disc_fake_loss=0.572 gan_loss=0.013\n",
            "2/2 [==============================] - 0s 4ms/step\n",
            ">Epoch: 1,Batch: 420/468, disc_real_loss=0.678, disc_fake_loss=0.519 gan_loss=0.012\n",
            "2/2 [==============================] - 0s 7ms/step\n",
            ">Epoch: 1,Batch: 421/468, disc_real_loss=0.506, disc_fake_loss=0.537 gan_loss=0.012\n",
            "2/2 [==============================] - 0s 9ms/step\n",
            ">Epoch: 1,Batch: 422/468, disc_real_loss=0.529, disc_fake_loss=0.565 gan_loss=0.012\n",
            "2/2 [==============================] - 0s 9ms/step\n",
            ">Epoch: 1,Batch: 423/468, disc_real_loss=0.541, disc_fake_loss=0.608 gan_loss=0.012\n",
            "2/2 [==============================] - 0s 8ms/step\n",
            ">Epoch: 1,Batch: 424/468, disc_real_loss=0.576, disc_fake_loss=0.559 gan_loss=0.011\n",
            "2/2 [==============================] - 0s 5ms/step\n",
            ">Epoch: 1,Batch: 425/468, disc_real_loss=0.467, disc_fake_loss=0.504 gan_loss=0.012\n",
            "2/2 [==============================] - 0s 8ms/step\n",
            ">Epoch: 1,Batch: 426/468, disc_real_loss=0.555, disc_fake_loss=0.489 gan_loss=0.011\n",
            "2/2 [==============================] - 0s 9ms/step\n",
            ">Epoch: 1,Batch: 427/468, disc_real_loss=0.578, disc_fake_loss=0.514 gan_loss=0.012\n",
            "2/2 [==============================] - 0s 5ms/step\n",
            ">Epoch: 1,Batch: 428/468, disc_real_loss=0.631, disc_fake_loss=0.571 gan_loss=0.010\n",
            "2/2 [==============================] - 0s 5ms/step\n",
            ">Epoch: 1,Batch: 429/468, disc_real_loss=0.501, disc_fake_loss=0.582 gan_loss=0.010\n",
            "2/2 [==============================] - 0s 5ms/step\n",
            ">Epoch: 1,Batch: 430/468, disc_real_loss=0.530, disc_fake_loss=0.566 gan_loss=0.011\n",
            "2/2 [==============================] - 0s 5ms/step\n",
            ">Epoch: 1,Batch: 431/468, disc_real_loss=0.658, disc_fake_loss=0.531 gan_loss=0.011\n",
            "2/2 [==============================] - 0s 4ms/step\n",
            ">Epoch: 1,Batch: 432/468, disc_real_loss=0.530, disc_fake_loss=0.537 gan_loss=0.011\n",
            "2/2 [==============================] - 0s 9ms/step\n",
            ">Epoch: 1,Batch: 433/468, disc_real_loss=0.480, disc_fake_loss=0.533 gan_loss=0.011\n",
            "2/2 [==============================] - 0s 10ms/step\n",
            ">Epoch: 1,Batch: 434/468, disc_real_loss=0.605, disc_fake_loss=0.500 gan_loss=0.011\n",
            "2/2 [==============================] - 0s 10ms/step\n",
            ">Epoch: 1,Batch: 435/468, disc_real_loss=0.550, disc_fake_loss=0.579 gan_loss=0.011\n",
            "2/2 [==============================] - 0s 5ms/step\n",
            ">Epoch: 1,Batch: 436/468, disc_real_loss=0.498, disc_fake_loss=0.571 gan_loss=0.011\n",
            "2/2 [==============================] - 0s 9ms/step\n",
            ">Epoch: 1,Batch: 437/468, disc_real_loss=0.584, disc_fake_loss=0.515 gan_loss=0.012\n",
            "2/2 [==============================] - 0s 9ms/step\n",
            ">Epoch: 1,Batch: 438/468, disc_real_loss=0.559, disc_fake_loss=0.566 gan_loss=0.011\n",
            "2/2 [==============================] - 0s 9ms/step\n",
            ">Epoch: 1,Batch: 439/468, disc_real_loss=0.552, disc_fake_loss=0.575 gan_loss=0.010\n",
            "2/2 [==============================] - 0s 8ms/step\n",
            ">Epoch: 1,Batch: 440/468, disc_real_loss=0.519, disc_fake_loss=0.525 gan_loss=0.011\n",
            "2/2 [==============================] - 0s 10ms/step\n",
            ">Epoch: 1,Batch: 441/468, disc_real_loss=0.593, disc_fake_loss=0.500 gan_loss=0.010\n",
            "2/2 [==============================] - 0s 11ms/step\n",
            ">Epoch: 1,Batch: 442/468, disc_real_loss=0.511, disc_fake_loss=0.614 gan_loss=0.009\n",
            "2/2 [==============================] - 0s 10ms/step\n",
            ">Epoch: 1,Batch: 443/468, disc_real_loss=0.508, disc_fake_loss=0.523 gan_loss=0.011\n",
            "2/2 [==============================] - 0s 4ms/step\n",
            ">Epoch: 1,Batch: 444/468, disc_real_loss=0.520, disc_fake_loss=0.528 gan_loss=0.011\n",
            "2/2 [==============================] - 0s 6ms/step\n",
            ">Epoch: 1,Batch: 445/468, disc_real_loss=0.584, disc_fake_loss=0.553 gan_loss=0.010\n",
            "2/2 [==============================] - 0s 7ms/step\n",
            ">Epoch: 1,Batch: 446/468, disc_real_loss=0.461, disc_fake_loss=0.527 gan_loss=0.011\n",
            "2/2 [==============================] - 0s 7ms/step\n",
            ">Epoch: 1,Batch: 447/468, disc_real_loss=0.531, disc_fake_loss=0.502 gan_loss=0.011\n",
            "2/2 [==============================] - 0s 9ms/step\n",
            ">Epoch: 1,Batch: 448/468, disc_real_loss=0.593, disc_fake_loss=0.523 gan_loss=0.010\n",
            "2/2 [==============================] - 0s 8ms/step\n",
            ">Epoch: 1,Batch: 449/468, disc_real_loss=0.524, disc_fake_loss=0.553 gan_loss=0.010\n",
            "2/2 [==============================] - 0s 5ms/step\n",
            ">Epoch: 1,Batch: 450/468, disc_real_loss=0.599, disc_fake_loss=0.572 gan_loss=0.010\n",
            "2/2 [==============================] - 0s 7ms/step\n",
            ">Epoch: 1,Batch: 451/468, disc_real_loss=0.575, disc_fake_loss=0.559 gan_loss=0.010\n",
            "2/2 [==============================] - 0s 7ms/step\n",
            ">Epoch: 1,Batch: 452/468, disc_real_loss=0.495, disc_fake_loss=0.565 gan_loss=0.010\n",
            "2/2 [==============================] - 0s 7ms/step\n",
            ">Epoch: 1,Batch: 453/468, disc_real_loss=0.603, disc_fake_loss=0.529 gan_loss=0.009\n",
            "2/2 [==============================] - 0s 7ms/step\n",
            ">Epoch: 1,Batch: 454/468, disc_real_loss=0.564, disc_fake_loss=0.602 gan_loss=0.009\n",
            "2/2 [==============================] - 0s 8ms/step\n",
            ">Epoch: 1,Batch: 455/468, disc_real_loss=0.510, disc_fake_loss=0.527 gan_loss=0.009\n",
            "2/2 [==============================] - 0s 11ms/step\n",
            ">Epoch: 1,Batch: 456/468, disc_real_loss=0.488, disc_fake_loss=0.554 gan_loss=0.009\n",
            "2/2 [==============================] - 0s 10ms/step\n",
            ">Epoch: 1,Batch: 457/468, disc_real_loss=0.534, disc_fake_loss=0.535 gan_loss=0.010\n",
            "2/2 [==============================] - 0s 9ms/step\n",
            ">Epoch: 1,Batch: 458/468, disc_real_loss=0.497, disc_fake_loss=0.499 gan_loss=0.011\n",
            "2/2 [==============================] - 0s 10ms/step\n",
            ">Epoch: 1,Batch: 459/468, disc_real_loss=0.543, disc_fake_loss=0.536 gan_loss=0.010\n",
            "2/2 [==============================] - 0s 8ms/step\n",
            ">Epoch: 1,Batch: 460/468, disc_real_loss=0.547, disc_fake_loss=0.568 gan_loss=0.011\n",
            "2/2 [==============================] - 0s 7ms/step\n",
            ">Epoch: 1,Batch: 461/468, disc_real_loss=0.475, disc_fake_loss=0.491 gan_loss=0.011\n",
            "2/2 [==============================] - 0s 7ms/step\n",
            ">Epoch: 1,Batch: 462/468, disc_real_loss=0.478, disc_fake_loss=0.468 gan_loss=0.011\n",
            "2/2 [==============================] - 0s 10ms/step\n",
            ">Epoch: 1,Batch: 463/468, disc_real_loss=0.554, disc_fake_loss=0.503 gan_loss=0.009\n",
            "2/2 [==============================] - 0s 6ms/step\n",
            ">Epoch: 1,Batch: 464/468, disc_real_loss=0.582, disc_fake_loss=0.547 gan_loss=0.010\n",
            "2/2 [==============================] - 0s 10ms/step\n",
            ">Epoch: 1,Batch: 465/468, disc_real_loss=0.568, disc_fake_loss=0.494 gan_loss=0.009\n",
            "2/2 [==============================] - 0s 9ms/step\n",
            ">Epoch: 1,Batch: 466/468, disc_real_loss=0.551, disc_fake_loss=0.566 gan_loss=0.009\n",
            "2/2 [==============================] - 0s 6ms/step\n",
            ">Epoch: 1,Batch: 467/468, disc_real_loss=0.485, disc_fake_loss=0.536 gan_loss=0.009\n",
            "2/2 [==============================] - 0s 6ms/step\n",
            ">Epoch: 1,Batch: 468/468, disc_real_loss=0.492, disc_fake_loss=0.537 gan_loss=0.008\n",
            "2/2 [==============================] - 0s 4ms/step\n",
            ">Epoch: 2,Batch: 1/468, disc_real_loss=0.499, disc_fake_loss=0.472 gan_loss=0.010\n",
            "2/2 [==============================] - 0s 7ms/step\n",
            ">Epoch: 2,Batch: 2/468, disc_real_loss=0.445, disc_fake_loss=0.538 gan_loss=0.010\n",
            "2/2 [==============================] - 0s 6ms/step\n",
            ">Epoch: 2,Batch: 3/468, disc_real_loss=0.673, disc_fake_loss=0.562 gan_loss=0.009\n",
            "2/2 [==============================] - 0s 10ms/step\n",
            ">Epoch: 2,Batch: 4/468, disc_real_loss=0.562, disc_fake_loss=0.590 gan_loss=0.008\n",
            "2/2 [==============================] - 0s 8ms/step\n",
            ">Epoch: 2,Batch: 5/468, disc_real_loss=0.511, disc_fake_loss=0.529 gan_loss=0.009\n",
            "2/2 [==============================] - 0s 10ms/step\n",
            ">Epoch: 2,Batch: 6/468, disc_real_loss=0.555, disc_fake_loss=0.468 gan_loss=0.009\n",
            "2/2 [==============================] - 0s 10ms/step\n",
            ">Epoch: 2,Batch: 7/468, disc_real_loss=0.513, disc_fake_loss=0.502 gan_loss=0.009\n",
            "2/2 [==============================] - 0s 10ms/step\n",
            ">Epoch: 2,Batch: 8/468, disc_real_loss=0.519, disc_fake_loss=0.546 gan_loss=0.009\n",
            "2/2 [==============================] - 0s 9ms/step\n",
            ">Epoch: 2,Batch: 9/468, disc_real_loss=0.511, disc_fake_loss=0.541 gan_loss=0.009\n",
            "2/2 [==============================] - 0s 8ms/step\n",
            ">Epoch: 2,Batch: 10/468, disc_real_loss=0.530, disc_fake_loss=0.586 gan_loss=0.010\n",
            "2/2 [==============================] - 0s 10ms/step\n",
            ">Epoch: 2,Batch: 11/468, disc_real_loss=0.536, disc_fake_loss=0.488 gan_loss=0.009\n",
            "2/2 [==============================] - 0s 10ms/step\n",
            ">Epoch: 2,Batch: 12/468, disc_real_loss=0.504, disc_fake_loss=0.529 gan_loss=0.010\n",
            "2/2 [==============================] - 0s 10ms/step\n",
            ">Epoch: 2,Batch: 13/468, disc_real_loss=0.566, disc_fake_loss=0.519 gan_loss=0.009\n",
            "2/2 [==============================] - 0s 6ms/step\n",
            ">Epoch: 2,Batch: 14/468, disc_real_loss=0.549, disc_fake_loss=0.559 gan_loss=0.010\n",
            "2/2 [==============================] - 0s 4ms/step\n",
            ">Epoch: 2,Batch: 15/468, disc_real_loss=0.550, disc_fake_loss=0.652 gan_loss=0.009\n",
            "2/2 [==============================] - 0s 10ms/step\n",
            ">Epoch: 2,Batch: 16/468, disc_real_loss=0.542, disc_fake_loss=0.484 gan_loss=0.010\n",
            "2/2 [==============================] - 0s 8ms/step\n",
            ">Epoch: 2,Batch: 17/468, disc_real_loss=0.521, disc_fake_loss=0.524 gan_loss=0.011\n",
            "2/2 [==============================] - 0s 5ms/step\n",
            ">Epoch: 2,Batch: 18/468, disc_real_loss=0.556, disc_fake_loss=0.486 gan_loss=0.010\n",
            "2/2 [==============================] - 0s 10ms/step\n",
            ">Epoch: 2,Batch: 19/468, disc_real_loss=0.519, disc_fake_loss=0.460 gan_loss=0.009\n",
            "2/2 [==============================] - 0s 8ms/step\n",
            ">Epoch: 2,Batch: 20/468, disc_real_loss=0.563, disc_fake_loss=0.523 gan_loss=0.008\n",
            "2/2 [==============================] - 0s 11ms/step\n",
            ">Epoch: 2,Batch: 21/468, disc_real_loss=0.478, disc_fake_loss=0.515 gan_loss=0.009\n",
            "2/2 [==============================] - 0s 10ms/step\n",
            ">Epoch: 2,Batch: 22/468, disc_real_loss=0.543, disc_fake_loss=0.564 gan_loss=0.009\n",
            "2/2 [==============================] - 0s 9ms/step\n",
            ">Epoch: 2,Batch: 23/468, disc_real_loss=0.445, disc_fake_loss=0.546 gan_loss=0.009\n",
            "2/2 [==============================] - 0s 6ms/step\n",
            ">Epoch: 2,Batch: 24/468, disc_real_loss=0.555, disc_fake_loss=0.541 gan_loss=0.009\n",
            "2/2 [==============================] - 0s 10ms/step\n",
            ">Epoch: 2,Batch: 25/468, disc_real_loss=0.458, disc_fake_loss=0.517 gan_loss=0.010\n",
            "2/2 [==============================] - 0s 5ms/step\n",
            ">Epoch: 2,Batch: 26/468, disc_real_loss=0.505, disc_fake_loss=0.489 gan_loss=0.010\n",
            "2/2 [==============================] - 0s 9ms/step\n",
            ">Epoch: 2,Batch: 27/468, disc_real_loss=0.565, disc_fake_loss=0.519 gan_loss=0.010\n",
            "2/2 [==============================] - 0s 4ms/step\n",
            ">Epoch: 2,Batch: 28/468, disc_real_loss=0.553, disc_fake_loss=0.568 gan_loss=0.010\n",
            "2/2 [==============================] - 0s 10ms/step\n",
            ">Epoch: 2,Batch: 29/468, disc_real_loss=0.518, disc_fake_loss=0.424 gan_loss=0.009\n",
            "2/2 [==============================] - 0s 10ms/step\n",
            ">Epoch: 2,Batch: 30/468, disc_real_loss=0.541, disc_fake_loss=0.556 gan_loss=0.009\n",
            "2/2 [==============================] - 0s 10ms/step\n",
            ">Epoch: 2,Batch: 31/468, disc_real_loss=0.518, disc_fake_loss=0.540 gan_loss=0.008\n",
            "2/2 [==============================] - 0s 7ms/step\n",
            ">Epoch: 2,Batch: 32/468, disc_real_loss=0.546, disc_fake_loss=0.591 gan_loss=0.009\n",
            "2/2 [==============================] - 0s 4ms/step\n",
            ">Epoch: 2,Batch: 33/468, disc_real_loss=0.407, disc_fake_loss=0.501 gan_loss=0.009\n",
            "2/2 [==============================] - 0s 4ms/step\n",
            ">Epoch: 2,Batch: 34/468, disc_real_loss=0.501, disc_fake_loss=0.488 gan_loss=0.009\n",
            "2/2 [==============================] - 0s 9ms/step\n",
            ">Epoch: 2,Batch: 35/468, disc_real_loss=0.544, disc_fake_loss=0.457 gan_loss=0.010\n",
            "2/2 [==============================] - 0s 4ms/step\n",
            ">Epoch: 2,Batch: 36/468, disc_real_loss=0.617, disc_fake_loss=0.566 gan_loss=0.009\n",
            "2/2 [==============================] - 0s 5ms/step\n",
            ">Epoch: 2,Batch: 37/468, disc_real_loss=0.552, disc_fake_loss=0.506 gan_loss=0.007\n",
            "2/2 [==============================] - 0s 10ms/step\n",
            ">Epoch: 2,Batch: 38/468, disc_real_loss=0.555, disc_fake_loss=0.556 gan_loss=0.008\n",
            "2/2 [==============================] - 0s 8ms/step\n",
            ">Epoch: 2,Batch: 39/468, disc_real_loss=0.409, disc_fake_loss=0.527 gan_loss=0.008\n",
            "2/2 [==============================] - 0s 6ms/step\n",
            ">Epoch: 2,Batch: 40/468, disc_real_loss=0.513, disc_fake_loss=0.562 gan_loss=0.008\n",
            "2/2 [==============================] - 0s 8ms/step\n",
            ">Epoch: 2,Batch: 41/468, disc_real_loss=0.509, disc_fake_loss=0.461 gan_loss=0.008\n",
            "2/2 [==============================] - 0s 10ms/step\n",
            ">Epoch: 2,Batch: 42/468, disc_real_loss=0.503, disc_fake_loss=0.552 gan_loss=0.008\n",
            "2/2 [==============================] - 0s 4ms/step\n",
            ">Epoch: 2,Batch: 43/468, disc_real_loss=0.547, disc_fake_loss=0.525 gan_loss=0.008\n",
            "2/2 [==============================] - 0s 11ms/step\n",
            ">Epoch: 2,Batch: 44/468, disc_real_loss=0.511, disc_fake_loss=0.529 gan_loss=0.008\n",
            "2/2 [==============================] - 0s 5ms/step\n",
            ">Epoch: 2,Batch: 45/468, disc_real_loss=0.447, disc_fake_loss=0.459 gan_loss=0.009\n",
            "2/2 [==============================] - 0s 11ms/step\n",
            ">Epoch: 2,Batch: 46/468, disc_real_loss=0.575, disc_fake_loss=0.546 gan_loss=0.008\n",
            "2/2 [==============================] - 0s 13ms/step\n",
            ">Epoch: 2,Batch: 47/468, disc_real_loss=0.563, disc_fake_loss=0.513 gan_loss=0.008\n",
            "2/2 [==============================] - 0s 10ms/step\n",
            ">Epoch: 2,Batch: 48/468, disc_real_loss=0.557, disc_fake_loss=0.542 gan_loss=0.008\n",
            "2/2 [==============================] - 0s 7ms/step\n",
            ">Epoch: 2,Batch: 49/468, disc_real_loss=0.622, disc_fake_loss=0.513 gan_loss=0.007\n",
            "2/2 [==============================] - 0s 4ms/step\n",
            ">Epoch: 2,Batch: 50/468, disc_real_loss=0.444, disc_fake_loss=0.543 gan_loss=0.008\n",
            "2/2 [==============================] - 0s 7ms/step\n",
            ">Epoch: 2,Batch: 51/468, disc_real_loss=0.473, disc_fake_loss=0.565 gan_loss=0.008\n",
            "2/2 [==============================] - 0s 7ms/step\n",
            ">Epoch: 2,Batch: 52/468, disc_real_loss=0.520, disc_fake_loss=0.586 gan_loss=0.008\n",
            "2/2 [==============================] - 0s 9ms/step\n",
            ">Epoch: 2,Batch: 53/468, disc_real_loss=0.543, disc_fake_loss=0.530 gan_loss=0.007\n",
            "2/2 [==============================] - 0s 9ms/step\n",
            ">Epoch: 2,Batch: 54/468, disc_real_loss=0.543, disc_fake_loss=0.577 gan_loss=0.007\n",
            "2/2 [==============================] - 0s 10ms/step\n",
            ">Epoch: 2,Batch: 55/468, disc_real_loss=0.482, disc_fake_loss=0.523 gan_loss=0.008\n",
            "2/2 [==============================] - 0s 4ms/step\n",
            ">Epoch: 2,Batch: 56/468, disc_real_loss=0.572, disc_fake_loss=0.514 gan_loss=0.008\n",
            "2/2 [==============================] - 0s 10ms/step\n",
            ">Epoch: 2,Batch: 57/468, disc_real_loss=0.554, disc_fake_loss=0.488 gan_loss=0.007\n",
            "2/2 [==============================] - 0s 10ms/step\n",
            ">Epoch: 2,Batch: 58/468, disc_real_loss=0.450, disc_fake_loss=0.526 gan_loss=0.007\n",
            "2/2 [==============================] - 0s 10ms/step\n",
            ">Epoch: 2,Batch: 59/468, disc_real_loss=0.522, disc_fake_loss=0.535 gan_loss=0.008\n",
            "2/2 [==============================] - 0s 10ms/step\n",
            ">Epoch: 2,Batch: 60/468, disc_real_loss=0.529, disc_fake_loss=0.450 gan_loss=0.008\n",
            "2/2 [==============================] - 0s 4ms/step\n",
            ">Epoch: 2,Batch: 61/468, disc_real_loss=0.565, disc_fake_loss=0.518 gan_loss=0.006\n",
            "2/2 [==============================] - 0s 10ms/step\n",
            ">Epoch: 2,Batch: 62/468, disc_real_loss=0.515, disc_fake_loss=0.508 gan_loss=0.007\n",
            "2/2 [==============================] - 0s 10ms/step\n",
            ">Epoch: 2,Batch: 63/468, disc_real_loss=0.545, disc_fake_loss=0.552 gan_loss=0.008\n",
            "2/2 [==============================] - 0s 10ms/step\n",
            ">Epoch: 2,Batch: 64/468, disc_real_loss=0.514, disc_fake_loss=0.555 gan_loss=0.008\n",
            "2/2 [==============================] - 0s 9ms/step\n",
            ">Epoch: 2,Batch: 65/468, disc_real_loss=0.515, disc_fake_loss=0.564 gan_loss=0.007\n",
            "2/2 [==============================] - 0s 8ms/step\n",
            ">Epoch: 2,Batch: 66/468, disc_real_loss=0.612, disc_fake_loss=0.574 gan_loss=0.007\n",
            "2/2 [==============================] - 0s 11ms/step\n",
            ">Epoch: 2,Batch: 67/468, disc_real_loss=0.467, disc_fake_loss=0.541 gan_loss=0.008\n",
            "2/2 [==============================] - 0s 12ms/step\n",
            ">Epoch: 2,Batch: 68/468, disc_real_loss=0.556, disc_fake_loss=0.497 gan_loss=0.007\n",
            "2/2 [==============================] - 0s 7ms/step\n",
            ">Epoch: 2,Batch: 69/468, disc_real_loss=0.521, disc_fake_loss=0.469 gan_loss=0.007\n",
            "2/2 [==============================] - 0s 10ms/step\n",
            ">Epoch: 2,Batch: 70/468, disc_real_loss=0.504, disc_fake_loss=0.545 gan_loss=0.008\n",
            "2/2 [==============================] - 0s 5ms/step\n",
            ">Epoch: 2,Batch: 71/468, disc_real_loss=0.544, disc_fake_loss=0.565 gan_loss=0.007\n",
            "2/2 [==============================] - 0s 10ms/step\n",
            ">Epoch: 2,Batch: 72/468, disc_real_loss=0.460, disc_fake_loss=0.545 gan_loss=0.009\n",
            "2/2 [==============================] - 0s 6ms/step\n",
            ">Epoch: 2,Batch: 73/468, disc_real_loss=0.555, disc_fake_loss=0.538 gan_loss=0.008\n",
            "2/2 [==============================] - 0s 7ms/step\n",
            ">Epoch: 2,Batch: 74/468, disc_real_loss=0.526, disc_fake_loss=0.504 gan_loss=0.008\n",
            "2/2 [==============================] - 0s 10ms/step\n",
            ">Epoch: 2,Batch: 75/468, disc_real_loss=0.619, disc_fake_loss=0.532 gan_loss=0.007\n",
            "2/2 [==============================] - 0s 4ms/step\n",
            ">Epoch: 2,Batch: 76/468, disc_real_loss=0.496, disc_fake_loss=0.555 gan_loss=0.007\n",
            "2/2 [==============================] - 0s 10ms/step\n",
            ">Epoch: 2,Batch: 77/468, disc_real_loss=0.491, disc_fake_loss=0.589 gan_loss=0.007\n",
            "2/2 [==============================] - 0s 6ms/step\n",
            ">Epoch: 2,Batch: 78/468, disc_real_loss=0.531, disc_fake_loss=0.503 gan_loss=0.008\n",
            "2/2 [==============================] - 0s 5ms/step\n",
            ">Epoch: 2,Batch: 79/468, disc_real_loss=0.588, disc_fake_loss=0.477 gan_loss=0.007\n",
            "2/2 [==============================] - 0s 6ms/step\n",
            ">Epoch: 2,Batch: 80/468, disc_real_loss=0.606, disc_fake_loss=0.533 gan_loss=0.007\n",
            "2/2 [==============================] - 0s 6ms/step\n",
            ">Epoch: 2,Batch: 81/468, disc_real_loss=0.511, disc_fake_loss=0.674 gan_loss=0.008\n",
            "2/2 [==============================] - 0s 10ms/step\n",
            ">Epoch: 2,Batch: 82/468, disc_real_loss=0.563, disc_fake_loss=0.469 gan_loss=0.007\n",
            "2/2 [==============================] - 0s 7ms/step\n",
            ">Epoch: 2,Batch: 83/468, disc_real_loss=0.566, disc_fake_loss=0.581 gan_loss=0.008\n",
            "2/2 [==============================] - 0s 8ms/step\n",
            ">Epoch: 2,Batch: 84/468, disc_real_loss=0.512, disc_fake_loss=0.484 gan_loss=0.008\n",
            "2/2 [==============================] - 0s 11ms/step\n",
            ">Epoch: 2,Batch: 85/468, disc_real_loss=0.510, disc_fake_loss=0.520 gan_loss=0.007\n",
            "2/2 [==============================] - 0s 10ms/step\n",
            ">Epoch: 2,Batch: 86/468, disc_real_loss=0.529, disc_fake_loss=0.476 gan_loss=0.007\n",
            "2/2 [==============================] - 0s 6ms/step\n",
            ">Epoch: 2,Batch: 87/468, disc_real_loss=0.610, disc_fake_loss=0.529 gan_loss=0.007\n",
            "2/2 [==============================] - 0s 5ms/step\n",
            ">Epoch: 2,Batch: 88/468, disc_real_loss=0.498, disc_fake_loss=0.562 gan_loss=0.007\n",
            "2/2 [==============================] - 0s 11ms/step\n",
            ">Epoch: 2,Batch: 89/468, disc_real_loss=0.501, disc_fake_loss=0.503 gan_loss=0.007\n",
            "2/2 [==============================] - 0s 10ms/step\n",
            ">Epoch: 2,Batch: 90/468, disc_real_loss=0.475, disc_fake_loss=0.525 gan_loss=0.007\n",
            "2/2 [==============================] - 0s 10ms/step\n",
            ">Epoch: 2,Batch: 91/468, disc_real_loss=0.542, disc_fake_loss=0.520 gan_loss=0.007\n",
            "2/2 [==============================] - 0s 10ms/step\n",
            ">Epoch: 2,Batch: 92/468, disc_real_loss=0.560, disc_fake_loss=0.536 gan_loss=0.007\n",
            "2/2 [==============================] - 0s 6ms/step\n",
            ">Epoch: 2,Batch: 93/468, disc_real_loss=0.550, disc_fake_loss=0.514 gan_loss=0.008\n",
            "2/2 [==============================] - 0s 11ms/step\n",
            ">Epoch: 2,Batch: 94/468, disc_real_loss=0.548, disc_fake_loss=0.527 gan_loss=0.007\n",
            "2/2 [==============================] - 0s 6ms/step\n",
            ">Epoch: 2,Batch: 95/468, disc_real_loss=0.545, disc_fake_loss=0.498 gan_loss=0.007\n",
            "2/2 [==============================] - 0s 7ms/step\n",
            ">Epoch: 2,Batch: 96/468, disc_real_loss=0.603, disc_fake_loss=0.648 gan_loss=0.007\n",
            "2/2 [==============================] - 0s 5ms/step\n",
            ">Epoch: 2,Batch: 97/468, disc_real_loss=0.468, disc_fake_loss=0.512 gan_loss=0.008\n",
            "2/2 [==============================] - 0s 8ms/step\n",
            ">Epoch: 2,Batch: 98/468, disc_real_loss=0.471, disc_fake_loss=0.505 gan_loss=0.008\n",
            "2/2 [==============================] - 0s 11ms/step\n",
            ">Epoch: 2,Batch: 99/468, disc_real_loss=0.535, disc_fake_loss=0.493 gan_loss=0.007\n",
            "2/2 [==============================] - 0s 11ms/step\n",
            ">Epoch: 2,Batch: 100/468, disc_real_loss=0.573, disc_fake_loss=0.501 gan_loss=0.007\n",
            "2/2 [==============================] - 0s 7ms/step\n",
            ">Epoch: 2,Batch: 101/468, disc_real_loss=0.522, disc_fake_loss=0.576 gan_loss=0.007\n",
            "2/2 [==============================] - 0s 10ms/step\n",
            ">Epoch: 2,Batch: 102/468, disc_real_loss=0.477, disc_fake_loss=0.522 gan_loss=0.007\n",
            "2/2 [==============================] - 0s 15ms/step\n",
            ">Epoch: 2,Batch: 103/468, disc_real_loss=0.544, disc_fake_loss=0.476 gan_loss=0.007\n",
            "2/2 [==============================] - 0s 9ms/step\n",
            ">Epoch: 2,Batch: 104/468, disc_real_loss=0.485, disc_fake_loss=0.506 gan_loss=0.006\n",
            "2/2 [==============================] - 0s 11ms/step\n",
            ">Epoch: 2,Batch: 105/468, disc_real_loss=0.463, disc_fake_loss=0.502 gan_loss=0.007\n",
            "2/2 [==============================] - 0s 8ms/step\n",
            ">Epoch: 2,Batch: 106/468, disc_real_loss=0.549, disc_fake_loss=0.490 gan_loss=0.007\n",
            "2/2 [==============================] - 0s 5ms/step\n",
            ">Epoch: 2,Batch: 107/468, disc_real_loss=0.468, disc_fake_loss=0.549 gan_loss=0.007\n",
            "2/2 [==============================] - 0s 7ms/step\n",
            ">Epoch: 2,Batch: 108/468, disc_real_loss=0.572, disc_fake_loss=0.472 gan_loss=0.007\n",
            "2/2 [==============================] - 0s 8ms/step\n",
            ">Epoch: 2,Batch: 109/468, disc_real_loss=0.435, disc_fake_loss=0.503 gan_loss=0.007\n",
            "2/2 [==============================] - 0s 9ms/step\n",
            ">Epoch: 2,Batch: 110/468, disc_real_loss=0.486, disc_fake_loss=0.463 gan_loss=0.007\n",
            "2/2 [==============================] - 0s 11ms/step\n",
            ">Epoch: 2,Batch: 111/468, disc_real_loss=0.479, disc_fake_loss=0.560 gan_loss=0.008\n",
            "2/2 [==============================] - 0s 6ms/step\n",
            ">Epoch: 2,Batch: 112/468, disc_real_loss=0.497, disc_fake_loss=0.459 gan_loss=0.007\n",
            "2/2 [==============================] - 0s 9ms/step\n",
            ">Epoch: 2,Batch: 113/468, disc_real_loss=0.538, disc_fake_loss=0.516 gan_loss=0.008\n",
            "2/2 [==============================] - 0s 8ms/step\n",
            ">Epoch: 2,Batch: 114/468, disc_real_loss=0.510, disc_fake_loss=0.498 gan_loss=0.007\n",
            "2/2 [==============================] - 0s 7ms/step\n",
            ">Epoch: 2,Batch: 115/468, disc_real_loss=0.577, disc_fake_loss=0.560 gan_loss=0.006\n",
            "2/2 [==============================] - 0s 8ms/step\n",
            ">Epoch: 2,Batch: 116/468, disc_real_loss=0.515, disc_fake_loss=0.507 gan_loss=0.007\n",
            "2/2 [==============================] - 0s 4ms/step\n",
            ">Epoch: 2,Batch: 117/468, disc_real_loss=0.415, disc_fake_loss=0.507 gan_loss=0.008\n",
            "2/2 [==============================] - 0s 9ms/step\n",
            ">Epoch: 2,Batch: 118/468, disc_real_loss=0.542, disc_fake_loss=0.506 gan_loss=0.008\n",
            "2/2 [==============================] - 0s 4ms/step\n",
            ">Epoch: 2,Batch: 119/468, disc_real_loss=0.574, disc_fake_loss=0.567 gan_loss=0.007\n",
            "2/2 [==============================] - 0s 5ms/step\n",
            ">Epoch: 2,Batch: 120/468, disc_real_loss=0.557, disc_fake_loss=0.489 gan_loss=0.007\n",
            "2/2 [==============================] - 0s 4ms/step\n",
            ">Epoch: 2,Batch: 121/468, disc_real_loss=0.518, disc_fake_loss=0.502 gan_loss=0.007\n",
            "2/2 [==============================] - 0s 4ms/step\n",
            ">Epoch: 2,Batch: 122/468, disc_real_loss=0.482, disc_fake_loss=0.525 gan_loss=0.007\n",
            "2/2 [==============================] - 0s 11ms/step\n",
            ">Epoch: 2,Batch: 123/468, disc_real_loss=0.537, disc_fake_loss=0.456 gan_loss=0.006\n",
            "2/2 [==============================] - 0s 4ms/step\n",
            ">Epoch: 2,Batch: 124/468, disc_real_loss=0.550, disc_fake_loss=0.517 gan_loss=0.006\n",
            "2/2 [==============================] - 0s 8ms/step\n",
            ">Epoch: 2,Batch: 125/468, disc_real_loss=0.500, disc_fake_loss=0.570 gan_loss=0.006\n",
            "2/2 [==============================] - 0s 5ms/step\n",
            ">Epoch: 2,Batch: 126/468, disc_real_loss=0.520, disc_fake_loss=0.480 gan_loss=0.005\n",
            "2/2 [==============================] - 0s 10ms/step\n",
            ">Epoch: 2,Batch: 127/468, disc_real_loss=0.498, disc_fake_loss=0.502 gan_loss=0.006\n",
            "2/2 [==============================] - 0s 14ms/step\n",
            ">Epoch: 2,Batch: 128/468, disc_real_loss=0.412, disc_fake_loss=0.543 gan_loss=0.006\n",
            "2/2 [==============================] - 0s 10ms/step\n",
            ">Epoch: 2,Batch: 129/468, disc_real_loss=0.539, disc_fake_loss=0.478 gan_loss=0.007\n",
            "2/2 [==============================] - 0s 6ms/step\n",
            ">Epoch: 2,Batch: 130/468, disc_real_loss=0.506, disc_fake_loss=0.541 gan_loss=0.007\n",
            "2/2 [==============================] - 0s 6ms/step\n",
            ">Epoch: 2,Batch: 131/468, disc_real_loss=0.530, disc_fake_loss=0.498 gan_loss=0.007\n",
            "2/2 [==============================] - 0s 11ms/step\n",
            ">Epoch: 2,Batch: 132/468, disc_real_loss=0.502, disc_fake_loss=0.533 gan_loss=0.007\n",
            "2/2 [==============================] - 0s 8ms/step\n",
            ">Epoch: 2,Batch: 133/468, disc_real_loss=0.521, disc_fake_loss=0.517 gan_loss=0.007\n",
            "2/2 [==============================] - 0s 7ms/step\n",
            ">Epoch: 2,Batch: 134/468, disc_real_loss=0.520, disc_fake_loss=0.514 gan_loss=0.008\n",
            "2/2 [==============================] - 0s 6ms/step\n",
            ">Epoch: 2,Batch: 135/468, disc_real_loss=0.555, disc_fake_loss=0.584 gan_loss=0.008\n",
            "2/2 [==============================] - 0s 11ms/step\n",
            ">Epoch: 2,Batch: 136/468, disc_real_loss=0.498, disc_fake_loss=0.544 gan_loss=0.007\n",
            "2/2 [==============================] - 0s 11ms/step\n",
            ">Epoch: 2,Batch: 137/468, disc_real_loss=0.523, disc_fake_loss=0.539 gan_loss=0.008\n",
            "2/2 [==============================] - 0s 10ms/step\n",
            ">Epoch: 2,Batch: 138/468, disc_real_loss=0.571, disc_fake_loss=0.485 gan_loss=0.008\n",
            "2/2 [==============================] - 0s 9ms/step\n",
            ">Epoch: 2,Batch: 139/468, disc_real_loss=0.459, disc_fake_loss=0.483 gan_loss=0.008\n",
            "2/2 [==============================] - 0s 4ms/step\n",
            ">Epoch: 2,Batch: 140/468, disc_real_loss=0.482, disc_fake_loss=0.500 gan_loss=0.008\n",
            "2/2 [==============================] - 0s 5ms/step\n",
            ">Epoch: 2,Batch: 141/468, disc_real_loss=0.528, disc_fake_loss=0.494 gan_loss=0.007\n",
            "2/2 [==============================] - 0s 9ms/step\n",
            ">Epoch: 2,Batch: 142/468, disc_real_loss=0.496, disc_fake_loss=0.496 gan_loss=0.007\n",
            "2/2 [==============================] - 0s 9ms/step\n",
            ">Epoch: 2,Batch: 143/468, disc_real_loss=0.687, disc_fake_loss=0.567 gan_loss=0.007\n",
            "2/2 [==============================] - 0s 9ms/step\n",
            ">Epoch: 2,Batch: 144/468, disc_real_loss=0.461, disc_fake_loss=0.552 gan_loss=0.007\n",
            "2/2 [==============================] - 0s 11ms/step\n",
            ">Epoch: 2,Batch: 145/468, disc_real_loss=0.562, disc_fake_loss=0.533 gan_loss=0.008\n",
            "2/2 [==============================] - 0s 13ms/step\n",
            ">Epoch: 2,Batch: 146/468, disc_real_loss=0.438, disc_fake_loss=0.480 gan_loss=0.007\n",
            "2/2 [==============================] - 0s 4ms/step\n",
            ">Epoch: 2,Batch: 147/468, disc_real_loss=0.549, disc_fake_loss=0.547 gan_loss=0.008\n",
            "2/2 [==============================] - 0s 11ms/step\n",
            ">Epoch: 2,Batch: 148/468, disc_real_loss=0.471, disc_fake_loss=0.524 gan_loss=0.008\n",
            "2/2 [==============================] - 0s 9ms/step\n",
            ">Epoch: 2,Batch: 149/468, disc_real_loss=0.550, disc_fake_loss=0.466 gan_loss=0.007\n",
            "2/2 [==============================] - 0s 11ms/step\n",
            ">Epoch: 2,Batch: 150/468, disc_real_loss=0.473, disc_fake_loss=0.497 gan_loss=0.007\n",
            "2/2 [==============================] - 0s 11ms/step\n",
            ">Epoch: 2,Batch: 151/468, disc_real_loss=0.572, disc_fake_loss=0.525 gan_loss=0.006\n",
            "2/2 [==============================] - 0s 11ms/step\n",
            ">Epoch: 2,Batch: 152/468, disc_real_loss=0.553, disc_fake_loss=0.520 gan_loss=0.006\n",
            "2/2 [==============================] - 0s 11ms/step\n",
            ">Epoch: 2,Batch: 153/468, disc_real_loss=0.486, disc_fake_loss=0.526 gan_loss=0.006\n",
            "2/2 [==============================] - 0s 11ms/step\n",
            ">Epoch: 2,Batch: 154/468, disc_real_loss=0.503, disc_fake_loss=0.527 gan_loss=0.006\n",
            "2/2 [==============================] - 0s 11ms/step\n",
            ">Epoch: 2,Batch: 155/468, disc_real_loss=0.485, disc_fake_loss=0.417 gan_loss=0.007\n",
            "2/2 [==============================] - 0s 7ms/step\n",
            ">Epoch: 2,Batch: 156/468, disc_real_loss=0.506, disc_fake_loss=0.479 gan_loss=0.006\n",
            "2/2 [==============================] - 0s 11ms/step\n",
            ">Epoch: 2,Batch: 157/468, disc_real_loss=0.508, disc_fake_loss=0.563 gan_loss=0.006\n",
            "2/2 [==============================] - 0s 11ms/step\n",
            ">Epoch: 2,Batch: 158/468, disc_real_loss=0.508, disc_fake_loss=0.497 gan_loss=0.007\n",
            "2/2 [==============================] - 0s 12ms/step\n",
            ">Epoch: 2,Batch: 159/468, disc_real_loss=0.476, disc_fake_loss=0.481 gan_loss=0.006\n",
            "2/2 [==============================] - 0s 7ms/step\n",
            ">Epoch: 2,Batch: 160/468, disc_real_loss=0.467, disc_fake_loss=0.479 gan_loss=0.006\n",
            "2/2 [==============================] - 0s 9ms/step\n",
            ">Epoch: 2,Batch: 161/468, disc_real_loss=0.566, disc_fake_loss=0.508 gan_loss=0.006\n",
            "2/2 [==============================] - 0s 11ms/step\n",
            ">Epoch: 2,Batch: 162/468, disc_real_loss=0.479, disc_fake_loss=0.591 gan_loss=0.006\n",
            "2/2 [==============================] - 0s 5ms/step\n",
            ">Epoch: 2,Batch: 163/468, disc_real_loss=0.512, disc_fake_loss=0.523 gan_loss=0.006\n",
            "2/2 [==============================] - 0s 6ms/step\n",
            ">Epoch: 2,Batch: 164/468, disc_real_loss=0.515, disc_fake_loss=0.473 gan_loss=0.006\n",
            "2/2 [==============================] - 0s 8ms/step\n",
            ">Epoch: 2,Batch: 165/468, disc_real_loss=0.473, disc_fake_loss=0.468 gan_loss=0.006\n",
            "2/2 [==============================] - 0s 11ms/step\n",
            ">Epoch: 2,Batch: 166/468, disc_real_loss=0.569, disc_fake_loss=0.548 gan_loss=0.006\n",
            "2/2 [==============================] - 0s 12ms/step\n",
            ">Epoch: 2,Batch: 167/468, disc_real_loss=0.500, disc_fake_loss=0.500 gan_loss=0.006\n",
            "2/2 [==============================] - 0s 10ms/step\n",
            ">Epoch: 2,Batch: 168/468, disc_real_loss=0.495, disc_fake_loss=0.493 gan_loss=0.005\n",
            "2/2 [==============================] - 0s 9ms/step\n",
            ">Epoch: 2,Batch: 169/468, disc_real_loss=0.503, disc_fake_loss=0.612 gan_loss=0.006\n",
            "2/2 [==============================] - 0s 5ms/step\n",
            ">Epoch: 2,Batch: 170/468, disc_real_loss=0.484, disc_fake_loss=0.487 gan_loss=0.006\n",
            "2/2 [==============================] - 0s 11ms/step\n",
            ">Epoch: 2,Batch: 171/468, disc_real_loss=0.536, disc_fake_loss=0.513 gan_loss=0.006\n",
            "2/2 [==============================] - 0s 7ms/step\n",
            ">Epoch: 2,Batch: 172/468, disc_real_loss=0.515, disc_fake_loss=0.434 gan_loss=0.006\n",
            "2/2 [==============================] - 0s 6ms/step\n",
            ">Epoch: 2,Batch: 173/468, disc_real_loss=0.474, disc_fake_loss=0.530 gan_loss=0.006\n",
            "2/2 [==============================] - 0s 10ms/step\n",
            ">Epoch: 2,Batch: 174/468, disc_real_loss=0.489, disc_fake_loss=0.558 gan_loss=0.007\n",
            "2/2 [==============================] - 0s 10ms/step\n",
            ">Epoch: 2,Batch: 175/468, disc_real_loss=0.446, disc_fake_loss=0.436 gan_loss=0.006\n",
            "2/2 [==============================] - 0s 4ms/step\n",
            ">Epoch: 2,Batch: 176/468, disc_real_loss=0.573, disc_fake_loss=0.553 gan_loss=0.006\n",
            "2/2 [==============================] - 0s 8ms/step\n",
            ">Epoch: 2,Batch: 177/468, disc_real_loss=0.511, disc_fake_loss=0.507 gan_loss=0.007\n",
            "2/2 [==============================] - 0s 9ms/step\n",
            ">Epoch: 2,Batch: 178/468, disc_real_loss=0.448, disc_fake_loss=0.492 gan_loss=0.007\n",
            "2/2 [==============================] - 0s 6ms/step\n",
            ">Epoch: 2,Batch: 179/468, disc_real_loss=0.534, disc_fake_loss=0.518 gan_loss=0.006\n",
            "2/2 [==============================] - 0s 6ms/step\n",
            ">Epoch: 2,Batch: 180/468, disc_real_loss=0.492, disc_fake_loss=0.581 gan_loss=0.006\n",
            "2/2 [==============================] - 0s 13ms/step\n",
            ">Epoch: 2,Batch: 181/468, disc_real_loss=0.489, disc_fake_loss=0.467 gan_loss=0.006\n",
            "2/2 [==============================] - 0s 9ms/step\n",
            ">Epoch: 2,Batch: 182/468, disc_real_loss=0.508, disc_fake_loss=0.518 gan_loss=0.006\n",
            "2/2 [==============================] - 0s 8ms/step\n",
            ">Epoch: 2,Batch: 183/468, disc_real_loss=0.499, disc_fake_loss=0.528 gan_loss=0.006\n",
            "2/2 [==============================] - 0s 12ms/step\n",
            ">Epoch: 2,Batch: 184/468, disc_real_loss=0.487, disc_fake_loss=0.538 gan_loss=0.006\n",
            "2/2 [==============================] - 0s 12ms/step\n",
            ">Epoch: 2,Batch: 185/468, disc_real_loss=0.525, disc_fake_loss=0.422 gan_loss=0.006\n",
            "2/2 [==============================] - 0s 4ms/step\n",
            ">Epoch: 2,Batch: 186/468, disc_real_loss=0.458, disc_fake_loss=0.497 gan_loss=0.006\n",
            "2/2 [==============================] - 0s 7ms/step\n",
            ">Epoch: 2,Batch: 187/468, disc_real_loss=0.536, disc_fake_loss=0.519 gan_loss=0.006\n",
            "2/2 [==============================] - 0s 7ms/step\n",
            ">Epoch: 2,Batch: 188/468, disc_real_loss=0.513, disc_fake_loss=0.459 gan_loss=0.005\n",
            "2/2 [==============================] - 0s 10ms/step\n",
            ">Epoch: 2,Batch: 189/468, disc_real_loss=0.507, disc_fake_loss=0.450 gan_loss=0.005\n",
            "2/2 [==============================] - 0s 7ms/step\n",
            ">Epoch: 2,Batch: 190/468, disc_real_loss=0.482, disc_fake_loss=0.619 gan_loss=0.005\n",
            "2/2 [==============================] - 0s 4ms/step\n",
            ">Epoch: 2,Batch: 191/468, disc_real_loss=0.462, disc_fake_loss=0.531 gan_loss=0.006\n",
            "2/2 [==============================] - 0s 8ms/step\n",
            ">Epoch: 2,Batch: 192/468, disc_real_loss=0.467, disc_fake_loss=0.484 gan_loss=0.006\n",
            "2/2 [==============================] - 0s 15ms/step\n",
            ">Epoch: 2,Batch: 193/468, disc_real_loss=0.655, disc_fake_loss=0.464 gan_loss=0.005\n",
            "2/2 [==============================] - 0s 8ms/step\n",
            ">Epoch: 2,Batch: 194/468, disc_real_loss=0.462, disc_fake_loss=0.518 gan_loss=0.005\n",
            "2/2 [==============================] - 0s 4ms/step\n",
            ">Epoch: 2,Batch: 195/468, disc_real_loss=0.520, disc_fake_loss=0.529 gan_loss=0.005\n",
            "2/2 [==============================] - 0s 8ms/step\n",
            ">Epoch: 2,Batch: 196/468, disc_real_loss=0.451, disc_fake_loss=0.538 gan_loss=0.006\n",
            "2/2 [==============================] - 0s 10ms/step\n",
            ">Epoch: 2,Batch: 197/468, disc_real_loss=0.484, disc_fake_loss=0.557 gan_loss=0.006\n",
            "2/2 [==============================] - 0s 16ms/step\n",
            ">Epoch: 2,Batch: 198/468, disc_real_loss=0.517, disc_fake_loss=0.513 gan_loss=0.006\n",
            "2/2 [==============================] - 0s 6ms/step\n",
            ">Epoch: 2,Batch: 199/468, disc_real_loss=0.451, disc_fake_loss=0.456 gan_loss=0.006\n",
            "2/2 [==============================] - 0s 7ms/step\n",
            ">Epoch: 2,Batch: 200/468, disc_real_loss=0.504, disc_fake_loss=0.489 gan_loss=0.005\n",
            "2/2 [==============================] - 0s 10ms/step\n",
            ">Epoch: 2,Batch: 201/468, disc_real_loss=0.517, disc_fake_loss=0.461 gan_loss=0.005\n",
            "2/2 [==============================] - 0s 12ms/step\n",
            ">Epoch: 2,Batch: 202/468, disc_real_loss=0.470, disc_fake_loss=0.505 gan_loss=0.005\n",
            "2/2 [==============================] - 0s 13ms/step\n",
            ">Epoch: 2,Batch: 203/468, disc_real_loss=0.463, disc_fake_loss=0.506 gan_loss=0.005\n",
            "2/2 [==============================] - 0s 6ms/step\n",
            ">Epoch: 2,Batch: 204/468, disc_real_loss=0.536, disc_fake_loss=0.505 gan_loss=0.005\n",
            "2/2 [==============================] - 0s 12ms/step\n",
            ">Epoch: 2,Batch: 205/468, disc_real_loss=0.511, disc_fake_loss=0.491 gan_loss=0.005\n",
            "2/2 [==============================] - 0s 12ms/step\n",
            ">Epoch: 2,Batch: 206/468, disc_real_loss=0.519, disc_fake_loss=0.579 gan_loss=0.005\n",
            "2/2 [==============================] - 0s 5ms/step\n",
            ">Epoch: 2,Batch: 207/468, disc_real_loss=0.479, disc_fake_loss=0.512 gan_loss=0.005\n",
            "2/2 [==============================] - 0s 14ms/step\n",
            ">Epoch: 2,Batch: 208/468, disc_real_loss=0.566, disc_fake_loss=0.459 gan_loss=0.005\n",
            "2/2 [==============================] - 0s 10ms/step\n",
            ">Epoch: 2,Batch: 209/468, disc_real_loss=0.495, disc_fake_loss=0.445 gan_loss=0.005\n",
            "2/2 [==============================] - 0s 11ms/step\n",
            ">Epoch: 2,Batch: 210/468, disc_real_loss=0.493, disc_fake_loss=0.567 gan_loss=0.005\n",
            "2/2 [==============================] - 0s 12ms/step\n",
            ">Epoch: 2,Batch: 211/468, disc_real_loss=0.476, disc_fake_loss=0.479 gan_loss=0.005\n",
            "2/2 [==============================] - 0s 9ms/step\n",
            ">Epoch: 2,Batch: 212/468, disc_real_loss=0.576, disc_fake_loss=0.476 gan_loss=0.005\n",
            "2/2 [==============================] - 0s 12ms/step\n",
            ">Epoch: 2,Batch: 213/468, disc_real_loss=0.436, disc_fake_loss=0.600 gan_loss=0.006\n",
            "2/2 [==============================] - 0s 5ms/step\n",
            ">Epoch: 2,Batch: 214/468, disc_real_loss=0.520, disc_fake_loss=0.545 gan_loss=0.006\n",
            "2/2 [==============================] - 0s 13ms/step\n",
            ">Epoch: 2,Batch: 215/468, disc_real_loss=0.524, disc_fake_loss=0.466 gan_loss=0.006\n",
            "2/2 [==============================] - 0s 5ms/step\n",
            ">Epoch: 2,Batch: 216/468, disc_real_loss=0.475, disc_fake_loss=0.521 gan_loss=0.006\n",
            "2/2 [==============================] - 0s 11ms/step\n",
            ">Epoch: 2,Batch: 217/468, disc_real_loss=0.544, disc_fake_loss=0.531 gan_loss=0.006\n",
            "2/2 [==============================] - 0s 5ms/step\n",
            ">Epoch: 2,Batch: 218/468, disc_real_loss=0.501, disc_fake_loss=0.468 gan_loss=0.006\n",
            "2/2 [==============================] - 0s 11ms/step\n",
            ">Epoch: 2,Batch: 219/468, disc_real_loss=0.512, disc_fake_loss=0.529 gan_loss=0.006\n",
            "2/2 [==============================] - 0s 7ms/step\n",
            ">Epoch: 2,Batch: 220/468, disc_real_loss=0.527, disc_fake_loss=0.503 gan_loss=0.006\n",
            "2/2 [==============================] - 0s 11ms/step\n",
            ">Epoch: 2,Batch: 221/468, disc_real_loss=0.526, disc_fake_loss=0.475 gan_loss=0.005\n",
            "2/2 [==============================] - 0s 11ms/step\n",
            ">Epoch: 2,Batch: 222/468, disc_real_loss=0.477, disc_fake_loss=0.439 gan_loss=0.006\n",
            "2/2 [==============================] - 0s 8ms/step\n",
            ">Epoch: 2,Batch: 223/468, disc_real_loss=0.482, disc_fake_loss=0.568 gan_loss=0.006\n",
            "2/2 [==============================] - 0s 7ms/step\n",
            ">Epoch: 2,Batch: 224/468, disc_real_loss=0.464, disc_fake_loss=0.554 gan_loss=0.007\n",
            "2/2 [==============================] - 0s 12ms/step\n",
            ">Epoch: 2,Batch: 225/468, disc_real_loss=0.479, disc_fake_loss=0.428 gan_loss=0.007\n",
            "2/2 [==============================] - 0s 12ms/step\n",
            ">Epoch: 2,Batch: 226/468, disc_real_loss=0.454, disc_fake_loss=0.522 gan_loss=0.006\n",
            "2/2 [==============================] - 0s 13ms/step\n",
            ">Epoch: 2,Batch: 227/468, disc_real_loss=0.580, disc_fake_loss=0.521 gan_loss=0.005\n",
            "2/2 [==============================] - 0s 8ms/step\n",
            ">Epoch: 2,Batch: 228/468, disc_real_loss=0.497, disc_fake_loss=0.510 gan_loss=0.006\n",
            "2/2 [==============================] - 0s 9ms/step\n",
            ">Epoch: 2,Batch: 229/468, disc_real_loss=0.493, disc_fake_loss=0.466 gan_loss=0.006\n",
            "2/2 [==============================] - 0s 6ms/step\n",
            ">Epoch: 2,Batch: 230/468, disc_real_loss=0.514, disc_fake_loss=0.512 gan_loss=0.006\n",
            "2/2 [==============================] - 0s 5ms/step\n",
            ">Epoch: 2,Batch: 231/468, disc_real_loss=0.547, disc_fake_loss=0.541 gan_loss=0.005\n",
            "2/2 [==============================] - 0s 11ms/step\n",
            ">Epoch: 2,Batch: 232/468, disc_real_loss=0.517, disc_fake_loss=0.535 gan_loss=0.006\n",
            "2/2 [==============================] - 0s 13ms/step\n",
            ">Epoch: 2,Batch: 233/468, disc_real_loss=0.454, disc_fake_loss=0.448 gan_loss=0.006\n",
            "2/2 [==============================] - 0s 11ms/step\n",
            ">Epoch: 2,Batch: 234/468, disc_real_loss=0.550, disc_fake_loss=0.453 gan_loss=0.004\n",
            "2/2 [==============================] - 0s 12ms/step\n",
            ">Epoch: 2,Batch: 235/468, disc_real_loss=0.510, disc_fake_loss=0.532 gan_loss=0.005\n",
            "2/2 [==============================] - 0s 5ms/step\n",
            ">Epoch: 2,Batch: 236/468, disc_real_loss=0.469, disc_fake_loss=0.533 gan_loss=0.005\n",
            "2/2 [==============================] - 0s 6ms/step\n",
            ">Epoch: 2,Batch: 237/468, disc_real_loss=0.507, disc_fake_loss=0.450 gan_loss=0.005\n",
            "2/2 [==============================] - 0s 8ms/step\n",
            ">Epoch: 2,Batch: 238/468, disc_real_loss=0.525, disc_fake_loss=0.513 gan_loss=0.005\n",
            "2/2 [==============================] - 0s 12ms/step\n",
            ">Epoch: 2,Batch: 239/468, disc_real_loss=0.514, disc_fake_loss=0.440 gan_loss=0.005\n",
            "2/2 [==============================] - 0s 13ms/step\n",
            ">Epoch: 2,Batch: 240/468, disc_real_loss=0.472, disc_fake_loss=0.521 gan_loss=0.006\n",
            "2/2 [==============================] - 0s 11ms/step\n",
            ">Epoch: 2,Batch: 241/468, disc_real_loss=0.429, disc_fake_loss=0.530 gan_loss=0.006\n",
            "2/2 [==============================] - 0s 6ms/step\n",
            ">Epoch: 2,Batch: 242/468, disc_real_loss=0.521, disc_fake_loss=0.572 gan_loss=0.007\n",
            "2/2 [==============================] - 0s 12ms/step\n",
            ">Epoch: 2,Batch: 243/468, disc_real_loss=0.474, disc_fake_loss=0.417 gan_loss=0.006\n",
            "2/2 [==============================] - 0s 11ms/step\n",
            ">Epoch: 2,Batch: 244/468, disc_real_loss=0.500, disc_fake_loss=0.402 gan_loss=0.005\n",
            "2/2 [==============================] - 0s 12ms/step\n",
            ">Epoch: 2,Batch: 245/468, disc_real_loss=0.505, disc_fake_loss=0.521 gan_loss=0.005\n",
            "2/2 [==============================] - 0s 11ms/step\n",
            ">Epoch: 2,Batch: 246/468, disc_real_loss=0.500, disc_fake_loss=0.526 gan_loss=0.006\n",
            "2/2 [==============================] - 0s 13ms/step\n",
            ">Epoch: 2,Batch: 247/468, disc_real_loss=0.504, disc_fake_loss=0.558 gan_loss=0.006\n",
            "2/2 [==============================] - 0s 11ms/step\n",
            ">Epoch: 2,Batch: 248/468, disc_real_loss=0.530, disc_fake_loss=0.518 gan_loss=0.006\n",
            "2/2 [==============================] - 0s 11ms/step\n",
            ">Epoch: 2,Batch: 249/468, disc_real_loss=0.579, disc_fake_loss=0.479 gan_loss=0.006\n",
            "2/2 [==============================] - 0s 9ms/step\n",
            ">Epoch: 2,Batch: 250/468, disc_real_loss=0.448, disc_fake_loss=0.526 gan_loss=0.006\n",
            "2/2 [==============================] - 0s 11ms/step\n",
            ">Epoch: 2,Batch: 251/468, disc_real_loss=0.413, disc_fake_loss=0.497 gan_loss=0.006\n",
            "2/2 [==============================] - 0s 6ms/step\n",
            ">Epoch: 2,Batch: 252/468, disc_real_loss=0.455, disc_fake_loss=0.567 gan_loss=0.007\n",
            "2/2 [==============================] - 0s 5ms/step\n",
            ">Epoch: 2,Batch: 253/468, disc_real_loss=0.594, disc_fake_loss=0.505 gan_loss=0.006\n",
            "2/2 [==============================] - 0s 13ms/step\n",
            ">Epoch: 2,Batch: 254/468, disc_real_loss=0.548, disc_fake_loss=0.477 gan_loss=0.006\n",
            "2/2 [==============================] - 0s 10ms/step\n",
            ">Epoch: 2,Batch: 255/468, disc_real_loss=0.488, disc_fake_loss=0.460 gan_loss=0.005\n",
            "2/2 [==============================] - 0s 11ms/step\n",
            ">Epoch: 2,Batch: 256/468, disc_real_loss=0.464, disc_fake_loss=0.502 gan_loss=0.006\n",
            "2/2 [==============================] - 0s 9ms/step\n",
            ">Epoch: 2,Batch: 257/468, disc_real_loss=0.498, disc_fake_loss=0.492 gan_loss=0.007\n",
            "2/2 [==============================] - 0s 6ms/step\n",
            ">Epoch: 2,Batch: 258/468, disc_real_loss=0.566, disc_fake_loss=0.485 gan_loss=0.006\n",
            "2/2 [==============================] - 0s 4ms/step\n",
            ">Epoch: 2,Batch: 259/468, disc_real_loss=0.505, disc_fake_loss=0.579 gan_loss=0.006\n",
            "2/2 [==============================] - 0s 9ms/step\n",
            ">Epoch: 2,Batch: 260/468, disc_real_loss=0.446, disc_fake_loss=0.429 gan_loss=0.007\n",
            "2/2 [==============================] - 0s 5ms/step\n",
            ">Epoch: 2,Batch: 261/468, disc_real_loss=0.525, disc_fake_loss=0.472 gan_loss=0.006\n",
            "2/2 [==============================] - 0s 4ms/step\n",
            ">Epoch: 2,Batch: 262/468, disc_real_loss=0.487, disc_fake_loss=0.467 gan_loss=0.007\n",
            "2/2 [==============================] - 0s 5ms/step\n",
            ">Epoch: 2,Batch: 263/468, disc_real_loss=0.501, disc_fake_loss=0.471 gan_loss=0.006\n",
            "2/2 [==============================] - 0s 7ms/step\n",
            ">Epoch: 2,Batch: 264/468, disc_real_loss=0.440, disc_fake_loss=0.471 gan_loss=0.005\n",
            "2/2 [==============================] - 0s 8ms/step\n",
            ">Epoch: 2,Batch: 265/468, disc_real_loss=0.505, disc_fake_loss=0.457 gan_loss=0.005\n",
            "2/2 [==============================] - 0s 9ms/step\n",
            ">Epoch: 2,Batch: 266/468, disc_real_loss=0.497, disc_fake_loss=0.547 gan_loss=0.006\n",
            "2/2 [==============================] - 0s 7ms/step\n",
            ">Epoch: 2,Batch: 267/468, disc_real_loss=0.519, disc_fake_loss=0.456 gan_loss=0.006\n",
            "2/2 [==============================] - 0s 10ms/step\n",
            ">Epoch: 2,Batch: 268/468, disc_real_loss=0.460, disc_fake_loss=0.498 gan_loss=0.006\n",
            "2/2 [==============================] - 0s 7ms/step\n",
            ">Epoch: 2,Batch: 269/468, disc_real_loss=0.405, disc_fake_loss=0.517 gan_loss=0.006\n",
            "2/2 [==============================] - 0s 11ms/step\n",
            ">Epoch: 2,Batch: 270/468, disc_real_loss=0.523, disc_fake_loss=0.498 gan_loss=0.005\n",
            "2/2 [==============================] - 0s 5ms/step\n",
            ">Epoch: 2,Batch: 271/468, disc_real_loss=0.434, disc_fake_loss=0.473 gan_loss=0.005\n",
            "2/2 [==============================] - 0s 12ms/step\n",
            ">Epoch: 2,Batch: 272/468, disc_real_loss=0.502, disc_fake_loss=0.504 gan_loss=0.006\n",
            "2/2 [==============================] - 0s 10ms/step\n",
            ">Epoch: 2,Batch: 273/468, disc_real_loss=0.486, disc_fake_loss=0.483 gan_loss=0.005\n",
            "2/2 [==============================] - 0s 7ms/step\n",
            ">Epoch: 2,Batch: 274/468, disc_real_loss=0.573, disc_fake_loss=0.476 gan_loss=0.005\n",
            "2/2 [==============================] - 0s 14ms/step\n",
            ">Epoch: 2,Batch: 275/468, disc_real_loss=0.465, disc_fake_loss=0.448 gan_loss=0.006\n",
            "2/2 [==============================] - 0s 5ms/step\n",
            ">Epoch: 2,Batch: 276/468, disc_real_loss=0.523, disc_fake_loss=0.520 gan_loss=0.006\n",
            "2/2 [==============================] - 0s 13ms/step\n",
            ">Epoch: 2,Batch: 277/468, disc_real_loss=0.434, disc_fake_loss=0.531 gan_loss=0.006\n",
            "2/2 [==============================] - 0s 10ms/step\n",
            ">Epoch: 2,Batch: 278/468, disc_real_loss=0.545, disc_fake_loss=0.468 gan_loss=0.006\n",
            "2/2 [==============================] - 0s 5ms/step\n",
            ">Epoch: 2,Batch: 279/468, disc_real_loss=0.516, disc_fake_loss=0.512 gan_loss=0.006\n",
            "2/2 [==============================] - 0s 5ms/step\n",
            ">Epoch: 2,Batch: 280/468, disc_real_loss=0.534, disc_fake_loss=0.441 gan_loss=0.005\n",
            "2/2 [==============================] - 0s 11ms/step\n",
            ">Epoch: 2,Batch: 281/468, disc_real_loss=0.501, disc_fake_loss=0.559 gan_loss=0.006\n",
            "2/2 [==============================] - 0s 5ms/step\n",
            ">Epoch: 2,Batch: 282/468, disc_real_loss=0.488, disc_fake_loss=0.567 gan_loss=0.006\n",
            "2/2 [==============================] - 0s 5ms/step\n",
            ">Epoch: 2,Batch: 283/468, disc_real_loss=0.536, disc_fake_loss=0.466 gan_loss=0.006\n",
            "2/2 [==============================] - 0s 12ms/step\n",
            ">Epoch: 2,Batch: 284/468, disc_real_loss=0.460, disc_fake_loss=0.511 gan_loss=0.006\n",
            "2/2 [==============================] - 0s 10ms/step\n",
            ">Epoch: 2,Batch: 285/468, disc_real_loss=0.496, disc_fake_loss=0.561 gan_loss=0.006\n",
            "2/2 [==============================] - 0s 8ms/step\n",
            ">Epoch: 2,Batch: 286/468, disc_real_loss=0.480, disc_fake_loss=0.539 gan_loss=0.006\n",
            "2/2 [==============================] - 0s 10ms/step\n",
            ">Epoch: 2,Batch: 287/468, disc_real_loss=0.462, disc_fake_loss=0.520 gan_loss=0.006\n",
            "2/2 [==============================] - 0s 6ms/step\n",
            ">Epoch: 2,Batch: 288/468, disc_real_loss=0.542, disc_fake_loss=0.513 gan_loss=0.006\n",
            "2/2 [==============================] - 0s 6ms/step\n",
            ">Epoch: 2,Batch: 289/468, disc_real_loss=0.544, disc_fake_loss=0.443 gan_loss=0.006\n",
            "2/2 [==============================] - 0s 8ms/step\n",
            ">Epoch: 2,Batch: 290/468, disc_real_loss=0.469, disc_fake_loss=0.481 gan_loss=0.005\n",
            "2/2 [==============================] - 0s 7ms/step\n",
            ">Epoch: 2,Batch: 291/468, disc_real_loss=0.474, disc_fake_loss=0.457 gan_loss=0.006\n",
            "2/2 [==============================] - 0s 12ms/step\n",
            ">Epoch: 2,Batch: 292/468, disc_real_loss=0.459, disc_fake_loss=0.435 gan_loss=0.006\n",
            "2/2 [==============================] - 0s 9ms/step\n",
            ">Epoch: 2,Batch: 293/468, disc_real_loss=0.479, disc_fake_loss=0.488 gan_loss=0.005\n",
            "2/2 [==============================] - 0s 11ms/step\n",
            ">Epoch: 2,Batch: 294/468, disc_real_loss=0.575, disc_fake_loss=0.464 gan_loss=0.005\n",
            "2/2 [==============================] - 0s 7ms/step\n",
            ">Epoch: 2,Batch: 295/468, disc_real_loss=0.473, disc_fake_loss=0.467 gan_loss=0.005\n",
            "2/2 [==============================] - 0s 12ms/step\n",
            ">Epoch: 2,Batch: 296/468, disc_real_loss=0.520, disc_fake_loss=0.439 gan_loss=0.005\n",
            "2/2 [==============================] - 0s 4ms/step\n",
            ">Epoch: 2,Batch: 297/468, disc_real_loss=0.471, disc_fake_loss=0.522 gan_loss=0.005\n",
            "2/2 [==============================] - 0s 5ms/step\n",
            ">Epoch: 2,Batch: 298/468, disc_real_loss=0.394, disc_fake_loss=0.532 gan_loss=0.005\n",
            "2/2 [==============================] - 0s 13ms/step\n",
            ">Epoch: 2,Batch: 299/468, disc_real_loss=0.549, disc_fake_loss=0.408 gan_loss=0.005\n",
            "2/2 [==============================] - 0s 6ms/step\n",
            ">Epoch: 2,Batch: 300/468, disc_real_loss=0.443, disc_fake_loss=0.514 gan_loss=0.005\n",
            "2/2 [==============================] - 0s 11ms/step\n",
            ">Epoch: 2,Batch: 301/468, disc_real_loss=0.473, disc_fake_loss=0.461 gan_loss=0.005\n",
            "2/2 [==============================] - 0s 6ms/step\n",
            ">Epoch: 2,Batch: 302/468, disc_real_loss=0.459, disc_fake_loss=0.515 gan_loss=0.005\n",
            "2/2 [==============================] - 0s 12ms/step\n",
            ">Epoch: 2,Batch: 303/468, disc_real_loss=0.475, disc_fake_loss=0.434 gan_loss=0.005\n",
            "2/2 [==============================] - 0s 4ms/step\n",
            ">Epoch: 2,Batch: 304/468, disc_real_loss=0.485, disc_fake_loss=0.455 gan_loss=0.006\n",
            "2/2 [==============================] - 0s 12ms/step\n",
            ">Epoch: 2,Batch: 305/468, disc_real_loss=0.474, disc_fake_loss=0.544 gan_loss=0.006\n",
            "2/2 [==============================] - 0s 13ms/step\n",
            ">Epoch: 2,Batch: 306/468, disc_real_loss=0.477, disc_fake_loss=0.463 gan_loss=0.005\n",
            "2/2 [==============================] - 0s 4ms/step\n",
            ">Epoch: 2,Batch: 307/468, disc_real_loss=0.545, disc_fake_loss=0.485 gan_loss=0.005\n",
            "2/2 [==============================] - 0s 5ms/step\n",
            ">Epoch: 2,Batch: 308/468, disc_real_loss=0.507, disc_fake_loss=0.532 gan_loss=0.005\n",
            "2/2 [==============================] - 0s 8ms/step\n",
            ">Epoch: 2,Batch: 309/468, disc_real_loss=0.493, disc_fake_loss=0.515 gan_loss=0.005\n",
            "2/2 [==============================] - 0s 12ms/step\n",
            ">Epoch: 2,Batch: 310/468, disc_real_loss=0.445, disc_fake_loss=0.590 gan_loss=0.005\n",
            "2/2 [==============================] - 0s 9ms/step\n",
            ">Epoch: 2,Batch: 311/468, disc_real_loss=0.533, disc_fake_loss=0.535 gan_loss=0.005\n",
            "2/2 [==============================] - 0s 6ms/step\n",
            ">Epoch: 2,Batch: 312/468, disc_real_loss=0.559, disc_fake_loss=0.528 gan_loss=0.006\n",
            "2/2 [==============================] - 0s 5ms/step\n",
            ">Epoch: 2,Batch: 313/468, disc_real_loss=0.502, disc_fake_loss=0.514 gan_loss=0.006\n",
            "2/2 [==============================] - 0s 9ms/step\n",
            ">Epoch: 2,Batch: 314/468, disc_real_loss=0.495, disc_fake_loss=0.451 gan_loss=0.006\n",
            "2/2 [==============================] - 0s 9ms/step\n",
            ">Epoch: 2,Batch: 315/468, disc_real_loss=0.508, disc_fake_loss=0.485 gan_loss=0.006\n",
            "2/2 [==============================] - 0s 5ms/step\n",
            ">Epoch: 2,Batch: 316/468, disc_real_loss=0.548, disc_fake_loss=0.486 gan_loss=0.005\n",
            "2/2 [==============================] - 0s 10ms/step\n",
            ">Epoch: 2,Batch: 317/468, disc_real_loss=0.440, disc_fake_loss=0.503 gan_loss=0.005\n",
            "2/2 [==============================] - 0s 10ms/step\n",
            ">Epoch: 2,Batch: 318/468, disc_real_loss=0.482, disc_fake_loss=0.514 gan_loss=0.005\n",
            "2/2 [==============================] - 0s 9ms/step\n",
            ">Epoch: 2,Batch: 319/468, disc_real_loss=0.443, disc_fake_loss=0.504 gan_loss=0.006\n",
            "2/2 [==============================] - 0s 11ms/step\n",
            ">Epoch: 2,Batch: 320/468, disc_real_loss=0.536, disc_fake_loss=0.424 gan_loss=0.005\n",
            "2/2 [==============================] - 0s 13ms/step\n",
            ">Epoch: 2,Batch: 321/468, disc_real_loss=0.440, disc_fake_loss=0.482 gan_loss=0.005\n",
            "2/2 [==============================] - 0s 7ms/step\n",
            ">Epoch: 2,Batch: 322/468, disc_real_loss=0.502, disc_fake_loss=0.453 gan_loss=0.006\n",
            "2/2 [==============================] - 0s 4ms/step\n",
            ">Epoch: 2,Batch: 323/468, disc_real_loss=0.455, disc_fake_loss=0.512 gan_loss=0.005\n",
            "2/2 [==============================] - 0s 5ms/step\n",
            ">Epoch: 2,Batch: 324/468, disc_real_loss=0.463, disc_fake_loss=0.394 gan_loss=0.005\n",
            "2/2 [==============================] - 0s 10ms/step\n",
            ">Epoch: 2,Batch: 325/468, disc_real_loss=0.374, disc_fake_loss=0.468 gan_loss=0.005\n",
            "2/2 [==============================] - 0s 4ms/step\n",
            ">Epoch: 2,Batch: 326/468, disc_real_loss=0.474, disc_fake_loss=0.446 gan_loss=0.006\n",
            "2/2 [==============================] - 0s 11ms/step\n",
            ">Epoch: 2,Batch: 327/468, disc_real_loss=0.506, disc_fake_loss=0.425 gan_loss=0.006\n",
            "2/2 [==============================] - 0s 13ms/step\n",
            ">Epoch: 2,Batch: 328/468, disc_real_loss=0.467, disc_fake_loss=0.568 gan_loss=0.005\n",
            "2/2 [==============================] - 0s 8ms/step\n",
            ">Epoch: 2,Batch: 329/468, disc_real_loss=0.461, disc_fake_loss=0.477 gan_loss=0.006\n",
            "2/2 [==============================] - 0s 10ms/step\n",
            ">Epoch: 2,Batch: 330/468, disc_real_loss=0.479, disc_fake_loss=0.431 gan_loss=0.005\n",
            "2/2 [==============================] - 0s 4ms/step\n",
            ">Epoch: 2,Batch: 331/468, disc_real_loss=0.442, disc_fake_loss=0.525 gan_loss=0.005\n",
            "2/2 [==============================] - 0s 4ms/step\n",
            ">Epoch: 2,Batch: 332/468, disc_real_loss=0.452, disc_fake_loss=0.457 gan_loss=0.005\n",
            "2/2 [==============================] - 0s 5ms/step\n",
            ">Epoch: 2,Batch: 333/468, disc_real_loss=0.453, disc_fake_loss=0.410 gan_loss=0.005\n",
            "2/2 [==============================] - 0s 8ms/step\n",
            ">Epoch: 2,Batch: 334/468, disc_real_loss=0.502, disc_fake_loss=0.431 gan_loss=0.005\n",
            "2/2 [==============================] - 0s 8ms/step\n",
            ">Epoch: 2,Batch: 335/468, disc_real_loss=0.475, disc_fake_loss=0.475 gan_loss=0.004\n",
            "2/2 [==============================] - 0s 10ms/step\n",
            ">Epoch: 2,Batch: 336/468, disc_real_loss=0.382, disc_fake_loss=0.499 gan_loss=0.005\n",
            "2/2 [==============================] - 0s 9ms/step\n",
            ">Epoch: 2,Batch: 337/468, disc_real_loss=0.508, disc_fake_loss=0.422 gan_loss=0.004\n",
            "2/2 [==============================] - 0s 5ms/step\n",
            ">Epoch: 2,Batch: 338/468, disc_real_loss=0.443, disc_fake_loss=0.505 gan_loss=0.004\n",
            "2/2 [==============================] - 0s 8ms/step\n",
            ">Epoch: 2,Batch: 339/468, disc_real_loss=0.501, disc_fake_loss=0.509 gan_loss=0.004\n",
            "2/2 [==============================] - 0s 10ms/step\n",
            ">Epoch: 2,Batch: 340/468, disc_real_loss=0.489, disc_fake_loss=0.470 gan_loss=0.004\n",
            "2/2 [==============================] - 0s 8ms/step\n",
            ">Epoch: 2,Batch: 341/468, disc_real_loss=0.475, disc_fake_loss=0.428 gan_loss=0.004\n",
            "2/2 [==============================] - 0s 6ms/step\n",
            ">Epoch: 2,Batch: 342/468, disc_real_loss=0.455, disc_fake_loss=0.491 gan_loss=0.004\n",
            "2/2 [==============================] - 0s 6ms/step\n",
            ">Epoch: 2,Batch: 343/468, disc_real_loss=0.454, disc_fake_loss=0.489 gan_loss=0.005\n",
            "2/2 [==============================] - 0s 10ms/step\n",
            ">Epoch: 2,Batch: 344/468, disc_real_loss=0.495, disc_fake_loss=0.511 gan_loss=0.005\n",
            "2/2 [==============================] - 0s 12ms/step\n",
            ">Epoch: 2,Batch: 345/468, disc_real_loss=0.463, disc_fake_loss=0.492 gan_loss=0.005\n",
            "2/2 [==============================] - 0s 7ms/step\n",
            ">Epoch: 2,Batch: 346/468, disc_real_loss=0.526, disc_fake_loss=0.481 gan_loss=0.005\n",
            "2/2 [==============================] - 0s 4ms/step\n",
            ">Epoch: 2,Batch: 347/468, disc_real_loss=0.432, disc_fake_loss=0.503 gan_loss=0.005\n",
            "2/2 [==============================] - 0s 7ms/step\n",
            ">Epoch: 2,Batch: 348/468, disc_real_loss=0.513, disc_fake_loss=0.456 gan_loss=0.005\n",
            "2/2 [==============================] - 0s 5ms/step\n",
            ">Epoch: 2,Batch: 349/468, disc_real_loss=0.518, disc_fake_loss=0.489 gan_loss=0.004\n",
            "2/2 [==============================] - 0s 4ms/step\n",
            ">Epoch: 2,Batch: 350/468, disc_real_loss=0.490, disc_fake_loss=0.540 gan_loss=0.004\n",
            "2/2 [==============================] - 0s 12ms/step\n",
            ">Epoch: 2,Batch: 351/468, disc_real_loss=0.478, disc_fake_loss=0.502 gan_loss=0.004\n",
            "2/2 [==============================] - 0s 7ms/step\n",
            ">Epoch: 2,Batch: 352/468, disc_real_loss=0.383, disc_fake_loss=0.492 gan_loss=0.004\n",
            "2/2 [==============================] - 0s 10ms/step\n",
            ">Epoch: 2,Batch: 353/468, disc_real_loss=0.475, disc_fake_loss=0.462 gan_loss=0.005\n",
            "2/2 [==============================] - 0s 6ms/step\n",
            ">Epoch: 2,Batch: 354/468, disc_real_loss=0.574, disc_fake_loss=0.527 gan_loss=0.005\n",
            "2/2 [==============================] - 0s 8ms/step\n",
            ">Epoch: 2,Batch: 355/468, disc_real_loss=0.604, disc_fake_loss=0.351 gan_loss=0.004\n",
            "2/2 [==============================] - 0s 7ms/step\n",
            ">Epoch: 2,Batch: 356/468, disc_real_loss=0.505, disc_fake_loss=0.561 gan_loss=0.004\n",
            "2/2 [==============================] - 0s 7ms/step\n",
            ">Epoch: 2,Batch: 357/468, disc_real_loss=0.425, disc_fake_loss=0.439 gan_loss=0.004\n",
            "2/2 [==============================] - 0s 6ms/step\n",
            ">Epoch: 2,Batch: 358/468, disc_real_loss=0.457, disc_fake_loss=0.519 gan_loss=0.004\n",
            "2/2 [==============================] - 0s 5ms/step\n",
            ">Epoch: 2,Batch: 359/468, disc_real_loss=0.436, disc_fake_loss=0.446 gan_loss=0.004\n",
            "2/2 [==============================] - 0s 12ms/step\n",
            ">Epoch: 2,Batch: 360/468, disc_real_loss=0.573, disc_fake_loss=0.512 gan_loss=0.004\n",
            "2/2 [==============================] - 0s 5ms/step\n",
            ">Epoch: 2,Batch: 361/468, disc_real_loss=0.536, disc_fake_loss=0.463 gan_loss=0.004\n",
            "2/2 [==============================] - 0s 10ms/step\n",
            ">Epoch: 2,Batch: 362/468, disc_real_loss=0.433, disc_fake_loss=0.484 gan_loss=0.004\n",
            "2/2 [==============================] - 0s 13ms/step\n",
            ">Epoch: 2,Batch: 363/468, disc_real_loss=0.382, disc_fake_loss=0.480 gan_loss=0.004\n",
            "2/2 [==============================] - 0s 6ms/step\n",
            ">Epoch: 2,Batch: 364/468, disc_real_loss=0.522, disc_fake_loss=0.510 gan_loss=0.005\n",
            "2/2 [==============================] - 0s 9ms/step\n",
            ">Epoch: 2,Batch: 365/468, disc_real_loss=0.533, disc_fake_loss=0.395 gan_loss=0.004\n",
            "2/2 [==============================] - 0s 12ms/step\n",
            ">Epoch: 2,Batch: 366/468, disc_real_loss=0.443, disc_fake_loss=0.471 gan_loss=0.004\n",
            "2/2 [==============================] - 0s 6ms/step\n",
            ">Epoch: 2,Batch: 367/468, disc_real_loss=0.459, disc_fake_loss=0.552 gan_loss=0.004\n",
            "2/2 [==============================] - 0s 6ms/step\n",
            ">Epoch: 2,Batch: 368/468, disc_real_loss=0.527, disc_fake_loss=0.439 gan_loss=0.004\n",
            "2/2 [==============================] - 0s 6ms/step\n",
            ">Epoch: 2,Batch: 369/468, disc_real_loss=0.507, disc_fake_loss=0.482 gan_loss=0.004\n",
            "2/2 [==============================] - 0s 13ms/step\n",
            ">Epoch: 2,Batch: 370/468, disc_real_loss=0.446, disc_fake_loss=0.564 gan_loss=0.004\n",
            "2/2 [==============================] - 0s 11ms/step\n",
            ">Epoch: 2,Batch: 371/468, disc_real_loss=0.432, disc_fake_loss=0.460 gan_loss=0.005\n",
            "2/2 [==============================] - 0s 9ms/step\n",
            ">Epoch: 2,Batch: 372/468, disc_real_loss=0.489, disc_fake_loss=0.462 gan_loss=0.005\n",
            "2/2 [==============================] - 0s 6ms/step\n",
            ">Epoch: 2,Batch: 373/468, disc_real_loss=0.510, disc_fake_loss=0.535 gan_loss=0.004\n",
            "2/2 [==============================] - 0s 5ms/step\n",
            ">Epoch: 2,Batch: 374/468, disc_real_loss=0.528, disc_fake_loss=0.445 gan_loss=0.004\n",
            "2/2 [==============================] - 0s 12ms/step\n",
            ">Epoch: 2,Batch: 375/468, disc_real_loss=0.547, disc_fake_loss=0.602 gan_loss=0.004\n",
            "2/2 [==============================] - 0s 10ms/step\n",
            ">Epoch: 2,Batch: 376/468, disc_real_loss=0.468, disc_fake_loss=0.404 gan_loss=0.005\n",
            "2/2 [==============================] - 0s 12ms/step\n",
            ">Epoch: 2,Batch: 377/468, disc_real_loss=0.453, disc_fake_loss=0.535 gan_loss=0.004\n",
            "2/2 [==============================] - 0s 5ms/step\n",
            ">Epoch: 2,Batch: 378/468, disc_real_loss=0.520, disc_fake_loss=0.475 gan_loss=0.005\n",
            "2/2 [==============================] - 0s 9ms/step\n",
            ">Epoch: 2,Batch: 379/468, disc_real_loss=0.475, disc_fake_loss=0.514 gan_loss=0.005\n",
            "2/2 [==============================] - 0s 4ms/step\n",
            ">Epoch: 2,Batch: 380/468, disc_real_loss=0.518, disc_fake_loss=0.487 gan_loss=0.005\n",
            "2/2 [==============================] - 0s 11ms/step\n",
            ">Epoch: 2,Batch: 381/468, disc_real_loss=0.509, disc_fake_loss=0.515 gan_loss=0.005\n",
            "2/2 [==============================] - 0s 6ms/step\n",
            ">Epoch: 2,Batch: 382/468, disc_real_loss=0.526, disc_fake_loss=0.456 gan_loss=0.004\n",
            "2/2 [==============================] - 0s 6ms/step\n",
            ">Epoch: 2,Batch: 383/468, disc_real_loss=0.506, disc_fake_loss=0.530 gan_loss=0.004\n",
            "2/2 [==============================] - 0s 5ms/step\n",
            ">Epoch: 2,Batch: 384/468, disc_real_loss=0.525, disc_fake_loss=0.506 gan_loss=0.004\n",
            "2/2 [==============================] - 0s 9ms/step\n",
            ">Epoch: 2,Batch: 385/468, disc_real_loss=0.399, disc_fake_loss=0.501 gan_loss=0.004\n",
            "2/2 [==============================] - 0s 12ms/step\n",
            ">Epoch: 2,Batch: 386/468, disc_real_loss=0.485, disc_fake_loss=0.492 gan_loss=0.004\n",
            "2/2 [==============================] - 0s 11ms/step\n",
            ">Epoch: 2,Batch: 387/468, disc_real_loss=0.417, disc_fake_loss=0.502 gan_loss=0.004\n",
            "2/2 [==============================] - 0s 5ms/step\n",
            ">Epoch: 2,Batch: 388/468, disc_real_loss=0.537, disc_fake_loss=0.426 gan_loss=0.003\n",
            "2/2 [==============================] - 0s 7ms/step\n",
            ">Epoch: 2,Batch: 389/468, disc_real_loss=0.457, disc_fake_loss=0.451 gan_loss=0.003\n",
            "2/2 [==============================] - 0s 12ms/step\n",
            ">Epoch: 2,Batch: 390/468, disc_real_loss=0.458, disc_fake_loss=0.477 gan_loss=0.004\n",
            "2/2 [==============================] - 0s 13ms/step\n",
            ">Epoch: 2,Batch: 391/468, disc_real_loss=0.486, disc_fake_loss=0.466 gan_loss=0.003\n",
            "2/2 [==============================] - 0s 12ms/step\n",
            ">Epoch: 2,Batch: 392/468, disc_real_loss=0.455, disc_fake_loss=0.374 gan_loss=0.003\n",
            "2/2 [==============================] - 0s 4ms/step\n",
            ">Epoch: 2,Batch: 393/468, disc_real_loss=0.522, disc_fake_loss=0.448 gan_loss=0.003\n",
            "2/2 [==============================] - 0s 11ms/step\n",
            ">Epoch: 2,Batch: 394/468, disc_real_loss=0.389, disc_fake_loss=0.495 gan_loss=0.004\n",
            "2/2 [==============================] - 0s 10ms/step\n",
            ">Epoch: 2,Batch: 395/468, disc_real_loss=0.379, disc_fake_loss=0.457 gan_loss=0.004\n",
            "2/2 [==============================] - 0s 5ms/step\n",
            ">Epoch: 2,Batch: 396/468, disc_real_loss=0.421, disc_fake_loss=0.433 gan_loss=0.004\n",
            "2/2 [==============================] - 0s 12ms/step\n",
            ">Epoch: 2,Batch: 397/468, disc_real_loss=0.519, disc_fake_loss=0.533 gan_loss=0.004\n",
            "2/2 [==============================] - 0s 7ms/step\n",
            ">Epoch: 2,Batch: 398/468, disc_real_loss=0.478, disc_fake_loss=0.480 gan_loss=0.004\n",
            "2/2 [==============================] - 0s 8ms/step\n",
            ">Epoch: 2,Batch: 399/468, disc_real_loss=0.511, disc_fake_loss=0.460 gan_loss=0.004\n",
            "2/2 [==============================] - 0s 9ms/step\n",
            ">Epoch: 2,Batch: 400/468, disc_real_loss=0.502, disc_fake_loss=0.447 gan_loss=0.003\n",
            "2/2 [==============================] - 0s 9ms/step\n",
            ">Epoch: 2,Batch: 401/468, disc_real_loss=0.518, disc_fake_loss=0.476 gan_loss=0.003\n",
            "2/2 [==============================] - 0s 15ms/step\n",
            ">Epoch: 2,Batch: 402/468, disc_real_loss=0.436, disc_fake_loss=0.509 gan_loss=0.003\n",
            "2/2 [==============================] - 0s 5ms/step\n",
            ">Epoch: 2,Batch: 403/468, disc_real_loss=0.497, disc_fake_loss=0.407 gan_loss=0.004\n",
            "2/2 [==============================] - 0s 12ms/step\n",
            ">Epoch: 2,Batch: 404/468, disc_real_loss=0.442, disc_fake_loss=0.437 gan_loss=0.003\n",
            "2/2 [==============================] - 0s 9ms/step\n",
            ">Epoch: 2,Batch: 405/468, disc_real_loss=0.456, disc_fake_loss=0.478 gan_loss=0.003\n",
            "2/2 [==============================] - 0s 13ms/step\n",
            ">Epoch: 2,Batch: 406/468, disc_real_loss=0.434, disc_fake_loss=0.518 gan_loss=0.003\n",
            "2/2 [==============================] - 0s 5ms/step\n",
            ">Epoch: 2,Batch: 407/468, disc_real_loss=0.546, disc_fake_loss=0.471 gan_loss=0.003\n",
            "2/2 [==============================] - 0s 12ms/step\n",
            ">Epoch: 2,Batch: 408/468, disc_real_loss=0.458, disc_fake_loss=0.522 gan_loss=0.004\n",
            "2/2 [==============================] - 0s 6ms/step\n",
            ">Epoch: 2,Batch: 409/468, disc_real_loss=0.509, disc_fake_loss=0.533 gan_loss=0.004\n",
            "2/2 [==============================] - 0s 4ms/step\n",
            ">Epoch: 2,Batch: 410/468, disc_real_loss=0.434, disc_fake_loss=0.538 gan_loss=0.004\n",
            "2/2 [==============================] - 0s 5ms/step\n",
            ">Epoch: 2,Batch: 411/468, disc_real_loss=0.496, disc_fake_loss=0.423 gan_loss=0.004\n",
            "2/2 [==============================] - 0s 5ms/step\n",
            ">Epoch: 2,Batch: 412/468, disc_real_loss=0.511, disc_fake_loss=0.448 gan_loss=0.004\n",
            "2/2 [==============================] - 0s 8ms/step\n",
            ">Epoch: 2,Batch: 413/468, disc_real_loss=0.393, disc_fake_loss=0.498 gan_loss=0.004\n",
            "2/2 [==============================] - 0s 4ms/step\n",
            ">Epoch: 2,Batch: 414/468, disc_real_loss=0.428, disc_fake_loss=0.466 gan_loss=0.005\n",
            "2/2 [==============================] - 0s 4ms/step\n",
            ">Epoch: 2,Batch: 415/468, disc_real_loss=0.520, disc_fake_loss=0.474 gan_loss=0.004\n",
            "2/2 [==============================] - 0s 4ms/step\n",
            ">Epoch: 2,Batch: 416/468, disc_real_loss=0.465, disc_fake_loss=0.475 gan_loss=0.004\n",
            "2/2 [==============================] - 0s 9ms/step\n",
            ">Epoch: 2,Batch: 417/468, disc_real_loss=0.403, disc_fake_loss=0.446 gan_loss=0.004\n",
            "2/2 [==============================] - 0s 5ms/step\n",
            ">Epoch: 2,Batch: 418/468, disc_real_loss=0.504, disc_fake_loss=0.405 gan_loss=0.004\n",
            "2/2 [==============================] - 0s 9ms/step\n",
            ">Epoch: 2,Batch: 419/468, disc_real_loss=0.430, disc_fake_loss=0.462 gan_loss=0.004\n",
            "2/2 [==============================] - 0s 6ms/step\n",
            ">Epoch: 2,Batch: 420/468, disc_real_loss=0.387, disc_fake_loss=0.428 gan_loss=0.004\n",
            "2/2 [==============================] - 0s 9ms/step\n",
            ">Epoch: 2,Batch: 421/468, disc_real_loss=0.553, disc_fake_loss=0.467 gan_loss=0.004\n",
            "2/2 [==============================] - 0s 5ms/step\n",
            ">Epoch: 2,Batch: 422/468, disc_real_loss=0.439, disc_fake_loss=0.510 gan_loss=0.004\n",
            "2/2 [==============================] - 0s 7ms/step\n",
            ">Epoch: 2,Batch: 423/468, disc_real_loss=0.461, disc_fake_loss=0.419 gan_loss=0.004\n",
            "2/2 [==============================] - 0s 9ms/step\n",
            ">Epoch: 2,Batch: 424/468, disc_real_loss=0.459, disc_fake_loss=0.571 gan_loss=0.004\n",
            "2/2 [==============================] - 0s 13ms/step\n",
            ">Epoch: 2,Batch: 425/468, disc_real_loss=0.478, disc_fake_loss=0.425 gan_loss=0.004\n",
            "2/2 [==============================] - 0s 14ms/step\n",
            ">Epoch: 2,Batch: 426/468, disc_real_loss=0.453, disc_fake_loss=0.414 gan_loss=0.004\n",
            "2/2 [==============================] - 0s 13ms/step\n",
            ">Epoch: 2,Batch: 427/468, disc_real_loss=0.516, disc_fake_loss=0.534 gan_loss=0.004\n",
            "2/2 [==============================] - 0s 8ms/step\n",
            ">Epoch: 2,Batch: 428/468, disc_real_loss=0.450, disc_fake_loss=0.518 gan_loss=0.004\n",
            "2/2 [==============================] - 0s 14ms/step\n",
            ">Epoch: 2,Batch: 429/468, disc_real_loss=0.514, disc_fake_loss=0.497 gan_loss=0.003\n",
            "2/2 [==============================] - 0s 13ms/step\n",
            ">Epoch: 2,Batch: 430/468, disc_real_loss=0.462, disc_fake_loss=0.502 gan_loss=0.003\n",
            "2/2 [==============================] - 0s 11ms/step\n",
            ">Epoch: 2,Batch: 431/468, disc_real_loss=0.438, disc_fake_loss=0.424 gan_loss=0.004\n",
            "2/2 [==============================] - 0s 10ms/step\n",
            ">Epoch: 2,Batch: 432/468, disc_real_loss=0.494, disc_fake_loss=0.447 gan_loss=0.004\n",
            "2/2 [==============================] - 0s 4ms/step\n",
            ">Epoch: 2,Batch: 433/468, disc_real_loss=0.448, disc_fake_loss=0.410 gan_loss=0.004\n",
            "2/2 [==============================] - 0s 5ms/step\n",
            ">Epoch: 2,Batch: 434/468, disc_real_loss=0.466, disc_fake_loss=0.520 gan_loss=0.003\n",
            "2/2 [==============================] - 0s 6ms/step\n",
            ">Epoch: 2,Batch: 435/468, disc_real_loss=0.516, disc_fake_loss=0.424 gan_loss=0.004\n",
            "2/2 [==============================] - 0s 15ms/step\n",
            ">Epoch: 2,Batch: 436/468, disc_real_loss=0.393, disc_fake_loss=0.538 gan_loss=0.004\n",
            "2/2 [==============================] - 0s 14ms/step\n",
            ">Epoch: 2,Batch: 437/468, disc_real_loss=0.465, disc_fake_loss=0.485 gan_loss=0.004\n",
            "2/2 [==============================] - 0s 4ms/step\n",
            ">Epoch: 2,Batch: 438/468, disc_real_loss=0.464, disc_fake_loss=0.378 gan_loss=0.004\n",
            "2/2 [==============================] - 0s 14ms/step\n",
            ">Epoch: 2,Batch: 439/468, disc_real_loss=0.484, disc_fake_loss=0.509 gan_loss=0.004\n",
            "2/2 [==============================] - 0s 6ms/step\n",
            ">Epoch: 2,Batch: 440/468, disc_real_loss=0.528, disc_fake_loss=0.473 gan_loss=0.004\n",
            "2/2 [==============================] - 0s 10ms/step\n",
            ">Epoch: 2,Batch: 441/468, disc_real_loss=0.460, disc_fake_loss=0.480 gan_loss=0.003\n",
            "2/2 [==============================] - 0s 10ms/step\n",
            ">Epoch: 2,Batch: 442/468, disc_real_loss=0.434, disc_fake_loss=0.510 gan_loss=0.004\n",
            "2/2 [==============================] - 0s 10ms/step\n",
            ">Epoch: 2,Batch: 443/468, disc_real_loss=0.464, disc_fake_loss=0.409 gan_loss=0.005\n",
            "2/2 [==============================] - 0s 13ms/step\n",
            ">Epoch: 2,Batch: 444/468, disc_real_loss=0.425, disc_fake_loss=0.340 gan_loss=0.004\n",
            "2/2 [==============================] - 0s 5ms/step\n",
            ">Epoch: 2,Batch: 445/468, disc_real_loss=0.427, disc_fake_loss=0.458 gan_loss=0.004\n",
            "2/2 [==============================] - 0s 6ms/step\n",
            ">Epoch: 2,Batch: 446/468, disc_real_loss=0.499, disc_fake_loss=0.475 gan_loss=0.004\n",
            "2/2 [==============================] - 0s 11ms/step\n",
            ">Epoch: 2,Batch: 447/468, disc_real_loss=0.381, disc_fake_loss=0.508 gan_loss=0.004\n",
            "2/2 [==============================] - 0s 15ms/step\n",
            ">Epoch: 2,Batch: 448/468, disc_real_loss=0.477, disc_fake_loss=0.442 gan_loss=0.004\n",
            "2/2 [==============================] - 0s 10ms/step\n",
            ">Epoch: 2,Batch: 449/468, disc_real_loss=0.500, disc_fake_loss=0.445 gan_loss=0.004\n",
            "2/2 [==============================] - 0s 6ms/step\n",
            ">Epoch: 2,Batch: 450/468, disc_real_loss=0.399, disc_fake_loss=0.494 gan_loss=0.004\n",
            "2/2 [==============================] - 0s 9ms/step\n",
            ">Epoch: 2,Batch: 451/468, disc_real_loss=0.478, disc_fake_loss=0.454 gan_loss=0.003\n",
            "2/2 [==============================] - 0s 7ms/step\n",
            ">Epoch: 2,Batch: 452/468, disc_real_loss=0.402, disc_fake_loss=0.555 gan_loss=0.004\n",
            "2/2 [==============================] - 0s 9ms/step\n",
            ">Epoch: 2,Batch: 453/468, disc_real_loss=0.470, disc_fake_loss=0.528 gan_loss=0.003\n",
            "2/2 [==============================] - 0s 6ms/step\n",
            ">Epoch: 2,Batch: 454/468, disc_real_loss=0.505, disc_fake_loss=0.429 gan_loss=0.004\n",
            "2/2 [==============================] - 0s 6ms/step\n",
            ">Epoch: 2,Batch: 455/468, disc_real_loss=0.503, disc_fake_loss=0.414 gan_loss=0.003\n",
            "2/2 [==============================] - 0s 13ms/step\n",
            ">Epoch: 2,Batch: 456/468, disc_real_loss=0.483, disc_fake_loss=0.448 gan_loss=0.003\n",
            "2/2 [==============================] - 0s 13ms/step\n",
            ">Epoch: 2,Batch: 457/468, disc_real_loss=0.440, disc_fake_loss=0.457 gan_loss=0.003\n",
            "2/2 [==============================] - 0s 7ms/step\n",
            ">Epoch: 2,Batch: 458/468, disc_real_loss=0.447, disc_fake_loss=0.535 gan_loss=0.003\n",
            "2/2 [==============================] - 0s 9ms/step\n",
            ">Epoch: 2,Batch: 459/468, disc_real_loss=0.529, disc_fake_loss=0.549 gan_loss=0.003\n",
            "2/2 [==============================] - 0s 6ms/step\n",
            ">Epoch: 2,Batch: 460/468, disc_real_loss=0.452, disc_fake_loss=0.422 gan_loss=0.003\n",
            "2/2 [==============================] - 0s 13ms/step\n",
            ">Epoch: 2,Batch: 461/468, disc_real_loss=0.492, disc_fake_loss=0.456 gan_loss=0.003\n",
            "2/2 [==============================] - 0s 5ms/step\n",
            ">Epoch: 2,Batch: 462/468, disc_real_loss=0.458, disc_fake_loss=0.492 gan_loss=0.003\n",
            "2/2 [==============================] - 0s 12ms/step\n",
            ">Epoch: 2,Batch: 463/468, disc_real_loss=0.537, disc_fake_loss=0.442 gan_loss=0.003\n",
            "2/2 [==============================] - 0s 14ms/step\n",
            ">Epoch: 2,Batch: 464/468, disc_real_loss=0.401, disc_fake_loss=0.464 gan_loss=0.003\n",
            "2/2 [==============================] - 0s 7ms/step\n",
            ">Epoch: 2,Batch: 465/468, disc_real_loss=0.462, disc_fake_loss=0.407 gan_loss=0.003\n",
            "2/2 [==============================] - 0s 10ms/step\n",
            ">Epoch: 2,Batch: 466/468, disc_real_loss=0.441, disc_fake_loss=0.438 gan_loss=0.002\n",
            "2/2 [==============================] - 0s 9ms/step\n",
            ">Epoch: 2,Batch: 467/468, disc_real_loss=0.338, disc_fake_loss=0.517 gan_loss=0.003\n",
            "2/2 [==============================] - 0s 7ms/step\n",
            ">Epoch: 2,Batch: 468/468, disc_real_loss=0.624, disc_fake_loss=0.382 gan_loss=0.002\n",
            "2/2 [==============================] - 0s 9ms/step\n",
            ">Epoch: 3,Batch: 1/468, disc_real_loss=0.371, disc_fake_loss=0.560 gan_loss=0.003\n",
            "2/2 [==============================] - 0s 5ms/step\n",
            ">Epoch: 3,Batch: 2/468, disc_real_loss=0.466, disc_fake_loss=0.447 gan_loss=0.003\n",
            "2/2 [==============================] - 0s 13ms/step\n",
            ">Epoch: 3,Batch: 3/468, disc_real_loss=0.401, disc_fake_loss=0.435 gan_loss=0.003\n",
            "2/2 [==============================] - 0s 10ms/step\n",
            ">Epoch: 3,Batch: 4/468, disc_real_loss=0.470, disc_fake_loss=0.476 gan_loss=0.002\n",
            "2/2 [==============================] - 0s 7ms/step\n",
            ">Epoch: 3,Batch: 5/468, disc_real_loss=0.489, disc_fake_loss=0.435 gan_loss=0.003\n",
            "2/2 [==============================] - 0s 15ms/step\n",
            ">Epoch: 3,Batch: 6/468, disc_real_loss=0.409, disc_fake_loss=0.460 gan_loss=0.003\n",
            "2/2 [==============================] - 0s 7ms/step\n",
            ">Epoch: 3,Batch: 7/468, disc_real_loss=0.374, disc_fake_loss=0.431 gan_loss=0.003\n",
            "2/2 [==============================] - 0s 6ms/step\n",
            ">Epoch: 3,Batch: 8/468, disc_real_loss=0.429, disc_fake_loss=0.394 gan_loss=0.003\n",
            "2/2 [==============================] - 0s 10ms/step\n",
            ">Epoch: 3,Batch: 9/468, disc_real_loss=0.501, disc_fake_loss=0.500 gan_loss=0.003\n",
            "2/2 [==============================] - 0s 11ms/step\n",
            ">Epoch: 3,Batch: 10/468, disc_real_loss=0.449, disc_fake_loss=0.442 gan_loss=0.003\n",
            "2/2 [==============================] - 0s 5ms/step\n",
            ">Epoch: 3,Batch: 11/468, disc_real_loss=0.412, disc_fake_loss=0.425 gan_loss=0.003\n",
            "2/2 [==============================] - 0s 5ms/step\n",
            ">Epoch: 3,Batch: 12/468, disc_real_loss=0.538, disc_fake_loss=0.440 gan_loss=0.003\n",
            "2/2 [==============================] - 0s 9ms/step\n",
            ">Epoch: 3,Batch: 13/468, disc_real_loss=0.457, disc_fake_loss=0.419 gan_loss=0.003\n",
            "2/2 [==============================] - 0s 4ms/step\n",
            ">Epoch: 3,Batch: 14/468, disc_real_loss=0.428, disc_fake_loss=0.403 gan_loss=0.003\n",
            "2/2 [==============================] - 0s 4ms/step\n",
            ">Epoch: 3,Batch: 15/468, disc_real_loss=0.492, disc_fake_loss=0.397 gan_loss=0.002\n",
            "2/2 [==============================] - 0s 11ms/step\n",
            ">Epoch: 3,Batch: 16/468, disc_real_loss=0.507, disc_fake_loss=0.447 gan_loss=0.003\n",
            "2/2 [==============================] - 0s 6ms/step\n",
            ">Epoch: 3,Batch: 17/468, disc_real_loss=0.401, disc_fake_loss=0.548 gan_loss=0.003\n",
            "2/2 [==============================] - 0s 10ms/step\n",
            ">Epoch: 3,Batch: 18/468, disc_real_loss=0.416, disc_fake_loss=0.432 gan_loss=0.003\n",
            "2/2 [==============================] - 0s 6ms/step\n",
            ">Epoch: 3,Batch: 19/468, disc_real_loss=0.496, disc_fake_loss=0.441 gan_loss=0.003\n",
            "2/2 [==============================] - 0s 4ms/step\n",
            ">Epoch: 3,Batch: 20/468, disc_real_loss=0.416, disc_fake_loss=0.386 gan_loss=0.003\n",
            "2/2 [==============================] - 0s 9ms/step\n",
            ">Epoch: 3,Batch: 21/468, disc_real_loss=0.445, disc_fake_loss=0.403 gan_loss=0.002\n",
            "2/2 [==============================] - 0s 4ms/step\n",
            ">Epoch: 3,Batch: 22/468, disc_real_loss=0.424, disc_fake_loss=0.527 gan_loss=0.003\n",
            "2/2 [==============================] - 0s 6ms/step\n",
            ">Epoch: 3,Batch: 23/468, disc_real_loss=0.435, disc_fake_loss=0.518 gan_loss=0.003\n",
            "2/2 [==============================] - 0s 7ms/step\n",
            ">Epoch: 3,Batch: 24/468, disc_real_loss=0.525, disc_fake_loss=0.529 gan_loss=0.003\n",
            "2/2 [==============================] - 0s 8ms/step\n",
            ">Epoch: 3,Batch: 25/468, disc_real_loss=0.529, disc_fake_loss=0.460 gan_loss=0.003\n",
            "2/2 [==============================] - 0s 7ms/step\n",
            ">Epoch: 3,Batch: 26/468, disc_real_loss=0.345, disc_fake_loss=0.370 gan_loss=0.003\n",
            "2/2 [==============================] - 0s 10ms/step\n",
            ">Epoch: 3,Batch: 27/468, disc_real_loss=0.395, disc_fake_loss=0.432 gan_loss=0.003\n",
            "2/2 [==============================] - 0s 11ms/step\n",
            ">Epoch: 3,Batch: 28/468, disc_real_loss=0.432, disc_fake_loss=0.493 gan_loss=0.004\n",
            "2/2 [==============================] - 0s 6ms/step\n",
            ">Epoch: 3,Batch: 29/468, disc_real_loss=0.456, disc_fake_loss=0.469 gan_loss=0.004\n",
            "2/2 [==============================] - 0s 10ms/step\n",
            ">Epoch: 3,Batch: 30/468, disc_real_loss=0.452, disc_fake_loss=0.505 gan_loss=0.003\n",
            "2/2 [==============================] - 0s 6ms/step\n",
            ">Epoch: 3,Batch: 31/468, disc_real_loss=0.504, disc_fake_loss=0.479 gan_loss=0.003\n",
            "2/2 [==============================] - 0s 5ms/step\n",
            ">Epoch: 3,Batch: 32/468, disc_real_loss=0.383, disc_fake_loss=0.338 gan_loss=0.003\n",
            "2/2 [==============================] - 0s 11ms/step\n",
            ">Epoch: 3,Batch: 33/468, disc_real_loss=0.482, disc_fake_loss=0.507 gan_loss=0.003\n",
            "2/2 [==============================] - 0s 13ms/step\n",
            ">Epoch: 3,Batch: 34/468, disc_real_loss=0.403, disc_fake_loss=0.472 gan_loss=0.003\n",
            "2/2 [==============================] - 0s 5ms/step\n",
            ">Epoch: 3,Batch: 35/468, disc_real_loss=0.443, disc_fake_loss=0.426 gan_loss=0.003\n",
            "2/2 [==============================] - 0s 4ms/step\n",
            ">Epoch: 3,Batch: 36/468, disc_real_loss=0.462, disc_fake_loss=0.410 gan_loss=0.003\n",
            "2/2 [==============================] - 0s 4ms/step\n",
            ">Epoch: 3,Batch: 37/468, disc_real_loss=0.447, disc_fake_loss=0.383 gan_loss=0.003\n",
            "2/2 [==============================] - 0s 8ms/step\n",
            ">Epoch: 3,Batch: 38/468, disc_real_loss=0.372, disc_fake_loss=0.406 gan_loss=0.003\n",
            "2/2 [==============================] - 0s 13ms/step\n",
            ">Epoch: 3,Batch: 39/468, disc_real_loss=0.390, disc_fake_loss=0.451 gan_loss=0.003\n",
            "2/2 [==============================] - 0s 9ms/step\n",
            ">Epoch: 3,Batch: 40/468, disc_real_loss=0.416, disc_fake_loss=0.423 gan_loss=0.003\n",
            "2/2 [==============================] - 0s 5ms/step\n",
            ">Epoch: 3,Batch: 41/468, disc_real_loss=0.548, disc_fake_loss=0.524 gan_loss=0.003\n",
            "2/2 [==============================] - 0s 12ms/step\n",
            ">Epoch: 3,Batch: 42/468, disc_real_loss=0.485, disc_fake_loss=0.443 gan_loss=0.003\n",
            "2/2 [==============================] - 0s 6ms/step\n",
            ">Epoch: 3,Batch: 43/468, disc_real_loss=0.499, disc_fake_loss=0.426 gan_loss=0.003\n",
            "2/2 [==============================] - 0s 5ms/step\n",
            ">Epoch: 3,Batch: 44/468, disc_real_loss=0.409, disc_fake_loss=0.508 gan_loss=0.003\n",
            "2/2 [==============================] - 0s 11ms/step\n",
            ">Epoch: 3,Batch: 45/468, disc_real_loss=0.439, disc_fake_loss=0.516 gan_loss=0.003\n",
            "2/2 [==============================] - 0s 15ms/step\n",
            ">Epoch: 3,Batch: 46/468, disc_real_loss=0.415, disc_fake_loss=0.367 gan_loss=0.003\n",
            "2/2 [==============================] - 0s 13ms/step\n",
            ">Epoch: 3,Batch: 47/468, disc_real_loss=0.517, disc_fake_loss=0.451 gan_loss=0.003\n",
            "2/2 [==============================] - 0s 7ms/step\n",
            ">Epoch: 3,Batch: 48/468, disc_real_loss=0.431, disc_fake_loss=0.489 gan_loss=0.003\n",
            "2/2 [==============================] - 0s 12ms/step\n",
            ">Epoch: 3,Batch: 49/468, disc_real_loss=0.426, disc_fake_loss=0.504 gan_loss=0.003\n",
            "2/2 [==============================] - 0s 14ms/step\n",
            ">Epoch: 3,Batch: 50/468, disc_real_loss=0.462, disc_fake_loss=0.439 gan_loss=0.003\n",
            "2/2 [==============================] - 0s 5ms/step\n",
            ">Epoch: 3,Batch: 51/468, disc_real_loss=0.483, disc_fake_loss=0.484 gan_loss=0.003\n",
            "2/2 [==============================] - 0s 12ms/step\n",
            ">Epoch: 3,Batch: 52/468, disc_real_loss=0.551, disc_fake_loss=0.409 gan_loss=0.003\n",
            "2/2 [==============================] - 0s 13ms/step\n",
            ">Epoch: 3,Batch: 53/468, disc_real_loss=0.402, disc_fake_loss=0.531 gan_loss=0.003\n",
            "2/2 [==============================] - 0s 6ms/step\n",
            ">Epoch: 3,Batch: 54/468, disc_real_loss=0.434, disc_fake_loss=0.344 gan_loss=0.003\n",
            "2/2 [==============================] - 0s 14ms/step\n",
            ">Epoch: 3,Batch: 55/468, disc_real_loss=0.461, disc_fake_loss=0.467 gan_loss=0.003\n",
            "2/2 [==============================] - 0s 11ms/step\n",
            ">Epoch: 3,Batch: 56/468, disc_real_loss=0.474, disc_fake_loss=0.444 gan_loss=0.003\n",
            "2/2 [==============================] - 0s 6ms/step\n",
            ">Epoch: 3,Batch: 57/468, disc_real_loss=0.502, disc_fake_loss=0.412 gan_loss=0.003\n",
            "2/2 [==============================] - 0s 5ms/step\n",
            ">Epoch: 3,Batch: 58/468, disc_real_loss=0.484, disc_fake_loss=0.483 gan_loss=0.002\n",
            "2/2 [==============================] - 0s 4ms/step\n",
            ">Epoch: 3,Batch: 59/468, disc_real_loss=0.436, disc_fake_loss=0.514 gan_loss=0.003\n",
            "2/2 [==============================] - 0s 6ms/step\n",
            ">Epoch: 3,Batch: 60/468, disc_real_loss=0.490, disc_fake_loss=0.482 gan_loss=0.002\n",
            "2/2 [==============================] - 0s 9ms/step\n",
            ">Epoch: 3,Batch: 61/468, disc_real_loss=0.435, disc_fake_loss=0.489 gan_loss=0.003\n",
            "2/2 [==============================] - 0s 4ms/step\n",
            ">Epoch: 3,Batch: 62/468, disc_real_loss=0.453, disc_fake_loss=0.467 gan_loss=0.003\n",
            "2/2 [==============================] - 0s 9ms/step\n",
            ">Epoch: 3,Batch: 63/468, disc_real_loss=0.501, disc_fake_loss=0.498 gan_loss=0.002\n",
            "2/2 [==============================] - 0s 7ms/step\n",
            ">Epoch: 3,Batch: 64/468, disc_real_loss=0.467, disc_fake_loss=0.498 gan_loss=0.003\n",
            "2/2 [==============================] - 0s 10ms/step\n",
            ">Epoch: 3,Batch: 65/468, disc_real_loss=0.411, disc_fake_loss=0.489 gan_loss=0.003\n",
            "2/2 [==============================] - 0s 8ms/step\n",
            ">Epoch: 3,Batch: 66/468, disc_real_loss=0.504, disc_fake_loss=0.460 gan_loss=0.003\n",
            "2/2 [==============================] - 0s 10ms/step\n",
            ">Epoch: 3,Batch: 67/468, disc_real_loss=0.467, disc_fake_loss=0.461 gan_loss=0.002\n",
            "2/2 [==============================] - 0s 7ms/step\n",
            ">Epoch: 3,Batch: 68/468, disc_real_loss=0.524, disc_fake_loss=0.413 gan_loss=0.002\n",
            "2/2 [==============================] - 0s 12ms/step\n",
            ">Epoch: 3,Batch: 69/468, disc_real_loss=0.438, disc_fake_loss=0.446 gan_loss=0.002\n",
            "2/2 [==============================] - 0s 10ms/step\n",
            ">Epoch: 3,Batch: 70/468, disc_real_loss=0.386, disc_fake_loss=0.406 gan_loss=0.003\n",
            "2/2 [==============================] - 0s 9ms/step\n",
            ">Epoch: 3,Batch: 71/468, disc_real_loss=0.419, disc_fake_loss=0.431 gan_loss=0.002\n",
            "2/2 [==============================] - 0s 7ms/step\n",
            ">Epoch: 3,Batch: 72/468, disc_real_loss=0.487, disc_fake_loss=0.395 gan_loss=0.002\n",
            "2/2 [==============================] - 0s 11ms/step\n",
            ">Epoch: 3,Batch: 73/468, disc_real_loss=0.379, disc_fake_loss=0.353 gan_loss=0.002\n",
            "2/2 [==============================] - 0s 6ms/step\n",
            ">Epoch: 3,Batch: 74/468, disc_real_loss=0.420, disc_fake_loss=0.467 gan_loss=0.002\n",
            "2/2 [==============================] - 0s 5ms/step\n",
            ">Epoch: 3,Batch: 75/468, disc_real_loss=0.405, disc_fake_loss=0.476 gan_loss=0.002\n",
            "2/2 [==============================] - 0s 13ms/step\n",
            ">Epoch: 3,Batch: 76/468, disc_real_loss=0.495, disc_fake_loss=0.445 gan_loss=0.002\n",
            "2/2 [==============================] - 0s 4ms/step\n",
            ">Epoch: 3,Batch: 77/468, disc_real_loss=0.494, disc_fake_loss=0.505 gan_loss=0.002\n",
            "2/2 [==============================] - 0s 7ms/step\n",
            ">Epoch: 3,Batch: 78/468, disc_real_loss=0.493, disc_fake_loss=0.458 gan_loss=0.002\n",
            "2/2 [==============================] - 0s 11ms/step\n",
            ">Epoch: 3,Batch: 79/468, disc_real_loss=0.466, disc_fake_loss=0.442 gan_loss=0.002\n",
            "2/2 [==============================] - 0s 13ms/step\n",
            ">Epoch: 3,Batch: 80/468, disc_real_loss=0.394, disc_fake_loss=0.487 gan_loss=0.002\n",
            "2/2 [==============================] - 0s 5ms/step\n",
            ">Epoch: 3,Batch: 81/468, disc_real_loss=0.501, disc_fake_loss=0.471 gan_loss=0.002\n",
            "2/2 [==============================] - 0s 11ms/step\n",
            ">Epoch: 3,Batch: 82/468, disc_real_loss=0.357, disc_fake_loss=0.440 gan_loss=0.002\n",
            "2/2 [==============================] - 0s 11ms/step\n",
            ">Epoch: 3,Batch: 83/468, disc_real_loss=0.430, disc_fake_loss=0.500 gan_loss=0.002\n",
            "2/2 [==============================] - 0s 7ms/step\n",
            ">Epoch: 3,Batch: 84/468, disc_real_loss=0.480, disc_fake_loss=0.395 gan_loss=0.002\n",
            "2/2 [==============================] - 0s 4ms/step\n",
            ">Epoch: 3,Batch: 85/468, disc_real_loss=0.377, disc_fake_loss=0.433 gan_loss=0.002\n",
            "2/2 [==============================] - 0s 14ms/step\n",
            ">Epoch: 3,Batch: 86/468, disc_real_loss=0.491, disc_fake_loss=0.372 gan_loss=0.002\n",
            "2/2 [==============================] - 0s 13ms/step\n",
            ">Epoch: 3,Batch: 87/468, disc_real_loss=0.462, disc_fake_loss=0.381 gan_loss=0.002\n",
            "2/2 [==============================] - 0s 4ms/step\n",
            ">Epoch: 3,Batch: 88/468, disc_real_loss=0.389, disc_fake_loss=0.447 gan_loss=0.002\n",
            "2/2 [==============================] - 0s 14ms/step\n",
            ">Epoch: 3,Batch: 89/468, disc_real_loss=0.564, disc_fake_loss=0.429 gan_loss=0.002\n",
            "2/2 [==============================] - 0s 12ms/step\n",
            ">Epoch: 3,Batch: 90/468, disc_real_loss=0.417, disc_fake_loss=0.385 gan_loss=0.002\n",
            "2/2 [==============================] - 0s 9ms/step\n",
            ">Epoch: 3,Batch: 91/468, disc_real_loss=0.460, disc_fake_loss=0.481 gan_loss=0.002\n",
            "2/2 [==============================] - 0s 10ms/step\n",
            ">Epoch: 3,Batch: 92/468, disc_real_loss=0.400, disc_fake_loss=0.475 gan_loss=0.002\n",
            "2/2 [==============================] - 0s 10ms/step\n",
            ">Epoch: 3,Batch: 93/468, disc_real_loss=0.367, disc_fake_loss=0.533 gan_loss=0.002\n",
            "2/2 [==============================] - 0s 9ms/step\n",
            ">Epoch: 3,Batch: 94/468, disc_real_loss=0.517, disc_fake_loss=0.466 gan_loss=0.002\n",
            "2/2 [==============================] - 0s 4ms/step\n",
            ">Epoch: 3,Batch: 95/468, disc_real_loss=0.500, disc_fake_loss=0.373 gan_loss=0.002\n",
            "2/2 [==============================] - 0s 4ms/step\n",
            ">Epoch: 3,Batch: 96/468, disc_real_loss=0.480, disc_fake_loss=0.463 gan_loss=0.002\n",
            "2/2 [==============================] - 0s 7ms/step\n",
            ">Epoch: 3,Batch: 97/468, disc_real_loss=0.403, disc_fake_loss=0.505 gan_loss=0.002\n",
            "2/2 [==============================] - 0s 4ms/step\n",
            ">Epoch: 3,Batch: 98/468, disc_real_loss=0.429, disc_fake_loss=0.395 gan_loss=0.002\n",
            "2/2 [==============================] - 0s 4ms/step\n",
            ">Epoch: 3,Batch: 99/468, disc_real_loss=0.475, disc_fake_loss=0.383 gan_loss=0.002\n",
            "2/2 [==============================] - 0s 10ms/step\n",
            ">Epoch: 3,Batch: 100/468, disc_real_loss=0.400, disc_fake_loss=0.371 gan_loss=0.002\n",
            "2/2 [==============================] - 0s 7ms/step\n",
            ">Epoch: 3,Batch: 101/468, disc_real_loss=0.360, disc_fake_loss=0.433 gan_loss=0.002\n",
            "2/2 [==============================] - 0s 8ms/step\n",
            ">Epoch: 3,Batch: 102/468, disc_real_loss=0.405, disc_fake_loss=0.460 gan_loss=0.002\n",
            "2/2 [==============================] - 0s 5ms/step\n",
            ">Epoch: 3,Batch: 103/468, disc_real_loss=0.544, disc_fake_loss=0.547 gan_loss=0.002\n",
            "2/2 [==============================] - 0s 11ms/step\n",
            ">Epoch: 3,Batch: 104/468, disc_real_loss=0.396, disc_fake_loss=0.409 gan_loss=0.002\n",
            "2/2 [==============================] - 0s 10ms/step\n",
            ">Epoch: 3,Batch: 105/468, disc_real_loss=0.543, disc_fake_loss=0.387 gan_loss=0.002\n",
            "2/2 [==============================] - 0s 7ms/step\n",
            ">Epoch: 3,Batch: 106/468, disc_real_loss=0.433, disc_fake_loss=0.593 gan_loss=0.002\n",
            "2/2 [==============================] - 0s 8ms/step\n",
            ">Epoch: 3,Batch: 107/468, disc_real_loss=0.415, disc_fake_loss=0.401 gan_loss=0.002\n",
            "2/2 [==============================] - 0s 14ms/step\n",
            ">Epoch: 3,Batch: 108/468, disc_real_loss=0.366, disc_fake_loss=0.357 gan_loss=0.002\n",
            "2/2 [==============================] - 0s 12ms/step\n",
            ">Epoch: 3,Batch: 109/468, disc_real_loss=0.496, disc_fake_loss=0.482 gan_loss=0.002\n",
            "2/2 [==============================] - 0s 12ms/step\n",
            ">Epoch: 3,Batch: 110/468, disc_real_loss=0.461, disc_fake_loss=0.505 gan_loss=0.002\n",
            "2/2 [==============================] - 0s 7ms/step\n",
            ">Epoch: 3,Batch: 111/468, disc_real_loss=0.479, disc_fake_loss=0.448 gan_loss=0.002\n",
            "2/2 [==============================] - 0s 11ms/step\n",
            ">Epoch: 3,Batch: 112/468, disc_real_loss=0.451, disc_fake_loss=0.424 gan_loss=0.002\n",
            "2/2 [==============================] - 0s 7ms/step\n",
            ">Epoch: 3,Batch: 113/468, disc_real_loss=0.418, disc_fake_loss=0.471 gan_loss=0.002\n",
            "2/2 [==============================] - 0s 11ms/step\n",
            ">Epoch: 3,Batch: 114/468, disc_real_loss=0.458, disc_fake_loss=0.419 gan_loss=0.002\n",
            "2/2 [==============================] - 0s 15ms/step\n",
            ">Epoch: 3,Batch: 115/468, disc_real_loss=0.427, disc_fake_loss=0.479 gan_loss=0.002\n",
            "2/2 [==============================] - 0s 12ms/step\n",
            ">Epoch: 3,Batch: 116/468, disc_real_loss=0.496, disc_fake_loss=0.457 gan_loss=0.002\n",
            "2/2 [==============================] - 0s 11ms/step\n",
            ">Epoch: 3,Batch: 117/468, disc_real_loss=0.458, disc_fake_loss=0.431 gan_loss=0.002\n",
            "2/2 [==============================] - 0s 7ms/step\n",
            ">Epoch: 3,Batch: 118/468, disc_real_loss=0.424, disc_fake_loss=0.405 gan_loss=0.002\n",
            "2/2 [==============================] - 0s 10ms/step\n",
            ">Epoch: 3,Batch: 119/468, disc_real_loss=0.458, disc_fake_loss=0.462 gan_loss=0.002\n",
            "2/2 [==============================] - 0s 9ms/step\n",
            ">Epoch: 3,Batch: 120/468, disc_real_loss=0.521, disc_fake_loss=0.413 gan_loss=0.002\n",
            "2/2 [==============================] - 0s 5ms/step\n",
            ">Epoch: 3,Batch: 121/468, disc_real_loss=0.388, disc_fake_loss=0.448 gan_loss=0.002\n",
            "2/2 [==============================] - 0s 4ms/step\n",
            ">Epoch: 3,Batch: 122/468, disc_real_loss=0.416, disc_fake_loss=0.468 gan_loss=0.002\n",
            "2/2 [==============================] - 0s 6ms/step\n",
            ">Epoch: 3,Batch: 123/468, disc_real_loss=0.451, disc_fake_loss=0.399 gan_loss=0.002\n",
            "2/2 [==============================] - 0s 4ms/step\n",
            ">Epoch: 3,Batch: 124/468, disc_real_loss=0.388, disc_fake_loss=0.379 gan_loss=0.002\n",
            "2/2 [==============================] - 0s 6ms/step\n",
            ">Epoch: 3,Batch: 125/468, disc_real_loss=0.508, disc_fake_loss=0.431 gan_loss=0.002\n",
            "2/2 [==============================] - 0s 11ms/step\n",
            ">Epoch: 3,Batch: 126/468, disc_real_loss=0.410, disc_fake_loss=0.388 gan_loss=0.002\n",
            "2/2 [==============================] - 0s 11ms/step\n",
            ">Epoch: 3,Batch: 127/468, disc_real_loss=0.408, disc_fake_loss=0.349 gan_loss=0.002\n",
            "2/2 [==============================] - 0s 12ms/step\n",
            ">Epoch: 3,Batch: 128/468, disc_real_loss=0.456, disc_fake_loss=0.547 gan_loss=0.002\n",
            "2/2 [==============================] - 0s 8ms/step\n",
            ">Epoch: 3,Batch: 129/468, disc_real_loss=0.429, disc_fake_loss=0.464 gan_loss=0.002\n",
            "2/2 [==============================] - 0s 13ms/step\n",
            ">Epoch: 3,Batch: 130/468, disc_real_loss=0.483, disc_fake_loss=0.378 gan_loss=0.002\n",
            "2/2 [==============================] - 0s 6ms/step\n",
            ">Epoch: 3,Batch: 131/468, disc_real_loss=0.494, disc_fake_loss=0.497 gan_loss=0.002\n",
            "2/2 [==============================] - 0s 11ms/step\n",
            ">Epoch: 3,Batch: 132/468, disc_real_loss=0.363, disc_fake_loss=0.437 gan_loss=0.002\n",
            "2/2 [==============================] - 0s 6ms/step\n",
            ">Epoch: 3,Batch: 133/468, disc_real_loss=0.444, disc_fake_loss=0.461 gan_loss=0.002\n",
            "2/2 [==============================] - 0s 5ms/step\n",
            ">Epoch: 3,Batch: 134/468, disc_real_loss=0.452, disc_fake_loss=0.484 gan_loss=0.002\n",
            "2/2 [==============================] - 0s 8ms/step\n",
            ">Epoch: 3,Batch: 135/468, disc_real_loss=0.466, disc_fake_loss=0.418 gan_loss=0.002\n",
            "2/2 [==============================] - 0s 19ms/step\n",
            ">Epoch: 3,Batch: 136/468, disc_real_loss=0.463, disc_fake_loss=0.457 gan_loss=0.002\n",
            "2/2 [==============================] - 0s 7ms/step\n",
            ">Epoch: 3,Batch: 137/468, disc_real_loss=0.353, disc_fake_loss=0.455 gan_loss=0.002\n",
            "2/2 [==============================] - 0s 5ms/step\n",
            ">Epoch: 3,Batch: 138/468, disc_real_loss=0.409, disc_fake_loss=0.425 gan_loss=0.002\n",
            "2/2 [==============================] - 0s 11ms/step\n",
            ">Epoch: 3,Batch: 139/468, disc_real_loss=0.476, disc_fake_loss=0.387 gan_loss=0.002\n",
            "2/2 [==============================] - 0s 14ms/step\n",
            ">Epoch: 3,Batch: 140/468, disc_real_loss=0.472, disc_fake_loss=0.441 gan_loss=0.002\n",
            "2/2 [==============================] - 0s 10ms/step\n",
            ">Epoch: 3,Batch: 141/468, disc_real_loss=0.490, disc_fake_loss=0.422 gan_loss=0.001\n",
            "2/2 [==============================] - 0s 6ms/step\n",
            ">Epoch: 3,Batch: 142/468, disc_real_loss=0.377, disc_fake_loss=0.386 gan_loss=0.001\n",
            "2/2 [==============================] - 0s 13ms/step\n",
            ">Epoch: 3,Batch: 143/468, disc_real_loss=0.413, disc_fake_loss=0.418 gan_loss=0.002\n",
            "2/2 [==============================] - 0s 3ms/step\n",
            ">Epoch: 3,Batch: 144/468, disc_real_loss=0.490, disc_fake_loss=0.516 gan_loss=0.001\n",
            "2/2 [==============================] - 0s 8ms/step\n",
            ">Epoch: 3,Batch: 145/468, disc_real_loss=0.388, disc_fake_loss=0.501 gan_loss=0.002\n",
            "2/2 [==============================] - 0s 7ms/step\n",
            ">Epoch: 3,Batch: 146/468, disc_real_loss=0.466, disc_fake_loss=0.388 gan_loss=0.002\n",
            "2/2 [==============================] - 0s 5ms/step\n",
            ">Epoch: 3,Batch: 147/468, disc_real_loss=0.388, disc_fake_loss=0.425 gan_loss=0.001\n",
            "2/2 [==============================] - 0s 11ms/step\n",
            ">Epoch: 3,Batch: 148/468, disc_real_loss=0.513, disc_fake_loss=0.392 gan_loss=0.002\n",
            "2/2 [==============================] - 0s 7ms/step\n",
            ">Epoch: 3,Batch: 149/468, disc_real_loss=0.369, disc_fake_loss=0.436 gan_loss=0.002\n",
            "2/2 [==============================] - 0s 8ms/step\n",
            ">Epoch: 3,Batch: 150/468, disc_real_loss=0.396, disc_fake_loss=0.425 gan_loss=0.002\n",
            "2/2 [==============================] - 0s 9ms/step\n",
            ">Epoch: 3,Batch: 151/468, disc_real_loss=0.536, disc_fake_loss=0.504 gan_loss=0.001\n",
            "2/2 [==============================] - 0s 6ms/step\n",
            ">Epoch: 3,Batch: 152/468, disc_real_loss=0.435, disc_fake_loss=0.469 gan_loss=0.002\n",
            "2/2 [==============================] - 0s 4ms/step\n",
            ">Epoch: 3,Batch: 153/468, disc_real_loss=0.339, disc_fake_loss=0.475 gan_loss=0.002\n",
            "2/2 [==============================] - 0s 15ms/step\n",
            ">Epoch: 3,Batch: 154/468, disc_real_loss=0.380, disc_fake_loss=0.404 gan_loss=0.002\n",
            "2/2 [==============================] - 0s 5ms/step\n",
            ">Epoch: 3,Batch: 155/468, disc_real_loss=0.452, disc_fake_loss=0.416 gan_loss=0.002\n",
            "2/2 [==============================] - 0s 9ms/step\n",
            ">Epoch: 3,Batch: 156/468, disc_real_loss=0.458, disc_fake_loss=0.403 gan_loss=0.002\n",
            "2/2 [==============================] - 0s 13ms/step\n",
            ">Epoch: 3,Batch: 157/468, disc_real_loss=0.394, disc_fake_loss=0.477 gan_loss=0.002\n",
            "2/2 [==============================] - 0s 7ms/step\n",
            ">Epoch: 3,Batch: 158/468, disc_real_loss=0.477, disc_fake_loss=0.389 gan_loss=0.001\n",
            "2/2 [==============================] - 0s 9ms/step\n",
            ">Epoch: 3,Batch: 159/468, disc_real_loss=0.555, disc_fake_loss=0.425 gan_loss=0.001\n",
            "2/2 [==============================] - 0s 10ms/step\n",
            ">Epoch: 3,Batch: 160/468, disc_real_loss=0.367, disc_fake_loss=0.509 gan_loss=0.001\n",
            "2/2 [==============================] - 0s 12ms/step\n",
            ">Epoch: 3,Batch: 161/468, disc_real_loss=0.418, disc_fake_loss=0.428 gan_loss=0.001\n",
            "2/2 [==============================] - 0s 9ms/step\n",
            ">Epoch: 3,Batch: 162/468, disc_real_loss=0.498, disc_fake_loss=0.417 gan_loss=0.001\n",
            "2/2 [==============================] - 0s 12ms/step\n",
            ">Epoch: 3,Batch: 163/468, disc_real_loss=0.405, disc_fake_loss=0.600 gan_loss=0.001\n",
            "2/2 [==============================] - 0s 6ms/step\n",
            ">Epoch: 3,Batch: 164/468, disc_real_loss=0.387, disc_fake_loss=0.468 gan_loss=0.001\n",
            "2/2 [==============================] - 0s 5ms/step\n",
            ">Epoch: 3,Batch: 165/468, disc_real_loss=0.457, disc_fake_loss=0.411 gan_loss=0.001\n",
            "2/2 [==============================] - 0s 8ms/step\n",
            ">Epoch: 3,Batch: 166/468, disc_real_loss=0.424, disc_fake_loss=0.444 gan_loss=0.001\n",
            "2/2 [==============================] - 0s 11ms/step\n",
            ">Epoch: 3,Batch: 167/468, disc_real_loss=0.574, disc_fake_loss=0.386 gan_loss=0.001\n",
            "2/2 [==============================] - 0s 4ms/step\n",
            ">Epoch: 3,Batch: 168/468, disc_real_loss=0.453, disc_fake_loss=0.457 gan_loss=0.001\n",
            "2/2 [==============================] - 0s 4ms/step\n",
            ">Epoch: 3,Batch: 169/468, disc_real_loss=0.550, disc_fake_loss=0.521 gan_loss=0.001\n",
            "2/2 [==============================] - 0s 10ms/step\n",
            ">Epoch: 3,Batch: 170/468, disc_real_loss=0.372, disc_fake_loss=0.500 gan_loss=0.001\n",
            "2/2 [==============================] - 0s 5ms/step\n",
            ">Epoch: 3,Batch: 171/468, disc_real_loss=0.487, disc_fake_loss=0.444 gan_loss=0.001\n",
            "2/2 [==============================] - 0s 5ms/step\n",
            ">Epoch: 3,Batch: 172/468, disc_real_loss=0.426, disc_fake_loss=0.371 gan_loss=0.001\n",
            "2/2 [==============================] - 0s 13ms/step\n",
            ">Epoch: 3,Batch: 173/468, disc_real_loss=0.564, disc_fake_loss=0.502 gan_loss=0.001\n",
            "2/2 [==============================] - 0s 4ms/step\n",
            ">Epoch: 3,Batch: 174/468, disc_real_loss=0.393, disc_fake_loss=0.398 gan_loss=0.001\n",
            "2/2 [==============================] - 0s 9ms/step\n",
            ">Epoch: 3,Batch: 175/468, disc_real_loss=0.375, disc_fake_loss=0.503 gan_loss=0.001\n",
            "2/2 [==============================] - 0s 11ms/step\n",
            ">Epoch: 3,Batch: 176/468, disc_real_loss=0.532, disc_fake_loss=0.415 gan_loss=0.001\n",
            "2/2 [==============================] - 0s 5ms/step\n",
            ">Epoch: 3,Batch: 177/468, disc_real_loss=0.337, disc_fake_loss=0.419 gan_loss=0.001\n",
            "2/2 [==============================] - 0s 5ms/step\n",
            ">Epoch: 3,Batch: 178/468, disc_real_loss=0.448, disc_fake_loss=0.485 gan_loss=0.001\n",
            "2/2 [==============================] - 0s 4ms/step\n",
            ">Epoch: 3,Batch: 179/468, disc_real_loss=0.440, disc_fake_loss=0.470 gan_loss=0.001\n",
            "2/2 [==============================] - 0s 10ms/step\n",
            ">Epoch: 3,Batch: 180/468, disc_real_loss=0.498, disc_fake_loss=0.449 gan_loss=0.001\n",
            "2/2 [==============================] - 0s 5ms/step\n",
            ">Epoch: 3,Batch: 181/468, disc_real_loss=0.451, disc_fake_loss=0.415 gan_loss=0.001\n",
            "2/2 [==============================] - 0s 8ms/step\n",
            ">Epoch: 3,Batch: 182/468, disc_real_loss=0.445, disc_fake_loss=0.479 gan_loss=0.001\n",
            "2/2 [==============================] - 0s 7ms/step\n",
            ">Epoch: 3,Batch: 183/468, disc_real_loss=0.474, disc_fake_loss=0.338 gan_loss=0.001\n",
            "2/2 [==============================] - 0s 13ms/step\n",
            ">Epoch: 3,Batch: 184/468, disc_real_loss=0.398, disc_fake_loss=0.390 gan_loss=0.001\n",
            "2/2 [==============================] - 0s 12ms/step\n",
            ">Epoch: 3,Batch: 185/468, disc_real_loss=0.402, disc_fake_loss=0.491 gan_loss=0.001\n",
            "2/2 [==============================] - 0s 9ms/step\n",
            ">Epoch: 3,Batch: 186/468, disc_real_loss=0.346, disc_fake_loss=0.417 gan_loss=0.001\n",
            "2/2 [==============================] - 0s 10ms/step\n",
            ">Epoch: 3,Batch: 187/468, disc_real_loss=0.499, disc_fake_loss=0.412 gan_loss=0.001\n",
            "2/2 [==============================] - 0s 8ms/step\n",
            ">Epoch: 3,Batch: 188/468, disc_real_loss=0.489, disc_fake_loss=0.457 gan_loss=0.001\n",
            "2/2 [==============================] - 0s 4ms/step\n",
            ">Epoch: 3,Batch: 189/468, disc_real_loss=0.443, disc_fake_loss=0.523 gan_loss=0.001\n",
            "2/2 [==============================] - 0s 10ms/step\n",
            ">Epoch: 3,Batch: 190/468, disc_real_loss=0.416, disc_fake_loss=0.381 gan_loss=0.001\n",
            "2/2 [==============================] - 0s 6ms/step\n",
            ">Epoch: 3,Batch: 191/468, disc_real_loss=0.416, disc_fake_loss=0.403 gan_loss=0.001\n",
            "2/2 [==============================] - 0s 12ms/step\n",
            ">Epoch: 3,Batch: 192/468, disc_real_loss=0.363, disc_fake_loss=0.418 gan_loss=0.001\n",
            "2/2 [==============================] - 0s 6ms/step\n",
            ">Epoch: 3,Batch: 193/468, disc_real_loss=0.475, disc_fake_loss=0.474 gan_loss=0.001\n",
            "2/2 [==============================] - 0s 11ms/step\n",
            ">Epoch: 3,Batch: 194/468, disc_real_loss=0.392, disc_fake_loss=0.419 gan_loss=0.001\n",
            "2/2 [==============================] - 0s 13ms/step\n",
            ">Epoch: 3,Batch: 195/468, disc_real_loss=0.416, disc_fake_loss=0.347 gan_loss=0.001\n",
            "2/2 [==============================] - 0s 10ms/step\n",
            ">Epoch: 3,Batch: 196/468, disc_real_loss=0.423, disc_fake_loss=0.544 gan_loss=0.001\n",
            "2/2 [==============================] - 0s 11ms/step\n",
            ">Epoch: 3,Batch: 197/468, disc_real_loss=0.520, disc_fake_loss=0.421 gan_loss=0.001\n",
            "2/2 [==============================] - 0s 10ms/step\n",
            ">Epoch: 3,Batch: 198/468, disc_real_loss=0.443, disc_fake_loss=0.443 gan_loss=0.001\n",
            "2/2 [==============================] - 0s 9ms/step\n",
            ">Epoch: 3,Batch: 199/468, disc_real_loss=0.498, disc_fake_loss=0.378 gan_loss=0.001\n",
            "2/2 [==============================] - 0s 12ms/step\n",
            ">Epoch: 3,Batch: 200/468, disc_real_loss=0.451, disc_fake_loss=0.478 gan_loss=0.001\n",
            "2/2 [==============================] - 0s 10ms/step\n",
            ">Epoch: 3,Batch: 201/468, disc_real_loss=0.413, disc_fake_loss=0.448 gan_loss=0.001\n",
            "2/2 [==============================] - 0s 5ms/step\n",
            ">Epoch: 3,Batch: 202/468, disc_real_loss=0.474, disc_fake_loss=0.457 gan_loss=0.001\n",
            "2/2 [==============================] - 0s 12ms/step\n",
            ">Epoch: 3,Batch: 203/468, disc_real_loss=0.424, disc_fake_loss=0.531 gan_loss=0.001\n",
            "2/2 [==============================] - 0s 9ms/step\n",
            ">Epoch: 3,Batch: 204/468, disc_real_loss=0.379, disc_fake_loss=0.380 gan_loss=0.001\n",
            "2/2 [==============================] - 0s 4ms/step\n",
            ">Epoch: 3,Batch: 205/468, disc_real_loss=0.442, disc_fake_loss=0.404 gan_loss=0.001\n",
            "2/2 [==============================] - 0s 6ms/step\n",
            ">Epoch: 3,Batch: 206/468, disc_real_loss=0.379, disc_fake_loss=0.406 gan_loss=0.001\n",
            "2/2 [==============================] - 0s 9ms/step\n",
            ">Epoch: 3,Batch: 207/468, disc_real_loss=0.407, disc_fake_loss=0.454 gan_loss=0.001\n",
            "2/2 [==============================] - 0s 6ms/step\n",
            ">Epoch: 3,Batch: 208/468, disc_real_loss=0.537, disc_fake_loss=0.407 gan_loss=0.001\n",
            "2/2 [==============================] - 0s 14ms/step\n",
            ">Epoch: 3,Batch: 209/468, disc_real_loss=0.426, disc_fake_loss=0.468 gan_loss=0.001\n",
            "2/2 [==============================] - 0s 6ms/step\n",
            ">Epoch: 3,Batch: 210/468, disc_real_loss=0.367, disc_fake_loss=0.388 gan_loss=0.001\n",
            "2/2 [==============================] - 0s 8ms/step\n",
            ">Epoch: 3,Batch: 211/468, disc_real_loss=0.517, disc_fake_loss=0.393 gan_loss=0.001\n",
            "2/2 [==============================] - 0s 8ms/step\n",
            ">Epoch: 3,Batch: 212/468, disc_real_loss=0.458, disc_fake_loss=0.536 gan_loss=0.000\n",
            "2/2 [==============================] - 0s 7ms/step\n",
            ">Epoch: 3,Batch: 213/468, disc_real_loss=0.438, disc_fake_loss=0.435 gan_loss=0.000\n",
            "2/2 [==============================] - 0s 4ms/step\n",
            ">Epoch: 3,Batch: 214/468, disc_real_loss=0.402, disc_fake_loss=0.534 gan_loss=0.001\n",
            "2/2 [==============================] - 0s 15ms/step\n",
            ">Epoch: 3,Batch: 215/468, disc_real_loss=0.455, disc_fake_loss=0.440 gan_loss=0.001\n",
            "2/2 [==============================] - 0s 11ms/step\n",
            ">Epoch: 3,Batch: 216/468, disc_real_loss=0.422, disc_fake_loss=0.501 gan_loss=0.001\n",
            "2/2 [==============================] - 0s 10ms/step\n",
            ">Epoch: 3,Batch: 217/468, disc_real_loss=0.494, disc_fake_loss=0.356 gan_loss=0.001\n",
            "2/2 [==============================] - 0s 10ms/step\n",
            ">Epoch: 3,Batch: 218/468, disc_real_loss=0.559, disc_fake_loss=0.491 gan_loss=0.001\n",
            "2/2 [==============================] - 0s 10ms/step\n",
            ">Epoch: 3,Batch: 219/468, disc_real_loss=0.415, disc_fake_loss=0.450 gan_loss=0.001\n",
            "2/2 [==============================] - 0s 6ms/step\n",
            ">Epoch: 3,Batch: 220/468, disc_real_loss=0.433, disc_fake_loss=0.389 gan_loss=0.000\n",
            "2/2 [==============================] - 0s 15ms/step\n",
            ">Epoch: 3,Batch: 221/468, disc_real_loss=0.444, disc_fake_loss=0.380 gan_loss=0.001\n",
            "2/2 [==============================] - 0s 6ms/step\n",
            ">Epoch: 3,Batch: 222/468, disc_real_loss=0.388, disc_fake_loss=0.424 gan_loss=0.000\n",
            "2/2 [==============================] - 0s 16ms/step\n",
            ">Epoch: 3,Batch: 223/468, disc_real_loss=0.387, disc_fake_loss=0.377 gan_loss=0.000\n",
            "2/2 [==============================] - 0s 6ms/step\n",
            ">Epoch: 3,Batch: 224/468, disc_real_loss=0.457, disc_fake_loss=0.485 gan_loss=0.000\n",
            "2/2 [==============================] - 0s 5ms/step\n",
            ">Epoch: 3,Batch: 225/468, disc_real_loss=0.398, disc_fake_loss=0.496 gan_loss=0.001\n",
            "2/2 [==============================] - 0s 12ms/step\n",
            ">Epoch: 3,Batch: 226/468, disc_real_loss=0.421, disc_fake_loss=0.432 gan_loss=0.001\n",
            "2/2 [==============================] - 0s 6ms/step\n",
            ">Epoch: 3,Batch: 227/468, disc_real_loss=0.438, disc_fake_loss=0.474 gan_loss=0.001\n",
            "2/2 [==============================] - 0s 13ms/step\n",
            ">Epoch: 3,Batch: 228/468, disc_real_loss=0.462, disc_fake_loss=0.438 gan_loss=0.000\n",
            "2/2 [==============================] - 0s 7ms/step\n",
            ">Epoch: 3,Batch: 229/468, disc_real_loss=0.413, disc_fake_loss=0.360 gan_loss=0.001\n",
            "2/2 [==============================] - 0s 13ms/step\n",
            ">Epoch: 3,Batch: 230/468, disc_real_loss=0.352, disc_fake_loss=0.336 gan_loss=0.001\n",
            "2/2 [==============================] - 0s 4ms/step\n",
            ">Epoch: 3,Batch: 231/468, disc_real_loss=0.498, disc_fake_loss=0.477 gan_loss=0.000\n",
            "2/2 [==============================] - 0s 5ms/step\n",
            ">Epoch: 3,Batch: 232/468, disc_real_loss=0.445, disc_fake_loss=0.421 gan_loss=0.001\n",
            "2/2 [==============================] - 0s 15ms/step\n",
            ">Epoch: 3,Batch: 233/468, disc_real_loss=0.427, disc_fake_loss=0.398 gan_loss=0.000\n",
            "2/2 [==============================] - 0s 13ms/step\n",
            ">Epoch: 3,Batch: 234/468, disc_real_loss=0.417, disc_fake_loss=0.488 gan_loss=0.000\n",
            "2/2 [==============================] - 0s 10ms/step\n",
            ">Epoch: 3,Batch: 235/468, disc_real_loss=0.448, disc_fake_loss=0.433 gan_loss=0.000\n",
            "2/2 [==============================] - 0s 12ms/step\n",
            ">Epoch: 3,Batch: 236/468, disc_real_loss=0.444, disc_fake_loss=0.384 gan_loss=0.000\n",
            "2/2 [==============================] - 0s 12ms/step\n",
            ">Epoch: 3,Batch: 237/468, disc_real_loss=0.413, disc_fake_loss=0.490 gan_loss=0.000\n",
            "2/2 [==============================] - 0s 14ms/step\n",
            ">Epoch: 3,Batch: 238/468, disc_real_loss=0.375, disc_fake_loss=0.425 gan_loss=0.001\n",
            "2/2 [==============================] - 0s 4ms/step\n",
            ">Epoch: 3,Batch: 239/468, disc_real_loss=0.413, disc_fake_loss=0.391 gan_loss=0.001\n",
            "2/2 [==============================] - 0s 15ms/step\n",
            ">Epoch: 3,Batch: 240/468, disc_real_loss=0.430, disc_fake_loss=0.461 gan_loss=0.001\n",
            "2/2 [==============================] - 0s 7ms/step\n",
            ">Epoch: 3,Batch: 241/468, disc_real_loss=0.506, disc_fake_loss=0.350 gan_loss=0.001\n",
            "2/2 [==============================] - 0s 4ms/step\n",
            ">Epoch: 3,Batch: 242/468, disc_real_loss=0.376, disc_fake_loss=0.547 gan_loss=0.001\n",
            "2/2 [==============================] - 0s 4ms/step\n",
            ">Epoch: 3,Batch: 243/468, disc_real_loss=0.462, disc_fake_loss=0.407 gan_loss=0.001\n",
            "2/2 [==============================] - 0s 11ms/step\n",
            ">Epoch: 3,Batch: 244/468, disc_real_loss=0.415, disc_fake_loss=0.382 gan_loss=0.000\n",
            "2/2 [==============================] - 0s 8ms/step\n",
            ">Epoch: 3,Batch: 245/468, disc_real_loss=0.376, disc_fake_loss=0.353 gan_loss=0.001\n",
            "2/2 [==============================] - 0s 7ms/step\n",
            ">Epoch: 3,Batch: 246/468, disc_real_loss=0.444, disc_fake_loss=0.448 gan_loss=0.000\n",
            "2/2 [==============================] - 0s 4ms/step\n",
            ">Epoch: 3,Batch: 247/468, disc_real_loss=0.385, disc_fake_loss=0.472 gan_loss=0.000\n",
            "2/2 [==============================] - 0s 4ms/step\n",
            ">Epoch: 3,Batch: 248/468, disc_real_loss=0.474, disc_fake_loss=0.398 gan_loss=0.000\n",
            "2/2 [==============================] - 0s 5ms/step\n",
            ">Epoch: 3,Batch: 249/468, disc_real_loss=0.459, disc_fake_loss=0.486 gan_loss=0.000\n",
            "2/2 [==============================] - 0s 7ms/step\n",
            ">Epoch: 3,Batch: 250/468, disc_real_loss=0.450, disc_fake_loss=0.406 gan_loss=0.000\n",
            "2/2 [==============================] - 0s 4ms/step\n",
            ">Epoch: 3,Batch: 251/468, disc_real_loss=0.426, disc_fake_loss=0.402 gan_loss=0.000\n",
            "2/2 [==============================] - 0s 7ms/step\n",
            ">Epoch: 3,Batch: 252/468, disc_real_loss=0.381, disc_fake_loss=0.367 gan_loss=0.000\n",
            "2/2 [==============================] - 0s 13ms/step\n",
            ">Epoch: 3,Batch: 253/468, disc_real_loss=0.379, disc_fake_loss=0.467 gan_loss=0.000\n",
            "2/2 [==============================] - 0s 10ms/step\n",
            ">Epoch: 3,Batch: 254/468, disc_real_loss=0.482, disc_fake_loss=0.451 gan_loss=0.000\n",
            "2/2 [==============================] - 0s 5ms/step\n",
            ">Epoch: 3,Batch: 255/468, disc_real_loss=0.318, disc_fake_loss=0.446 gan_loss=0.000\n",
            "2/2 [==============================] - 0s 12ms/step\n",
            ">Epoch: 3,Batch: 256/468, disc_real_loss=0.537, disc_fake_loss=0.425 gan_loss=0.000\n",
            "2/2 [==============================] - 0s 12ms/step\n",
            ">Epoch: 3,Batch: 257/468, disc_real_loss=0.357, disc_fake_loss=0.446 gan_loss=0.000\n",
            "2/2 [==============================] - 0s 16ms/step\n",
            ">Epoch: 3,Batch: 258/468, disc_real_loss=0.449, disc_fake_loss=0.408 gan_loss=0.000\n",
            "2/2 [==============================] - 0s 15ms/step\n",
            ">Epoch: 3,Batch: 259/468, disc_real_loss=0.425, disc_fake_loss=0.287 gan_loss=0.000\n",
            "2/2 [==============================] - 0s 10ms/step\n",
            ">Epoch: 3,Batch: 260/468, disc_real_loss=0.433, disc_fake_loss=0.463 gan_loss=0.000\n",
            "2/2 [==============================] - 0s 6ms/step\n",
            ">Epoch: 3,Batch: 261/468, disc_real_loss=0.372, disc_fake_loss=0.422 gan_loss=0.000\n",
            "2/2 [==============================] - 0s 5ms/step\n",
            ">Epoch: 3,Batch: 262/468, disc_real_loss=0.362, disc_fake_loss=0.373 gan_loss=0.000\n",
            "2/2 [==============================] - 0s 14ms/step\n",
            ">Epoch: 3,Batch: 263/468, disc_real_loss=0.468, disc_fake_loss=0.427 gan_loss=0.000\n",
            "2/2 [==============================] - 0s 5ms/step\n",
            ">Epoch: 3,Batch: 264/468, disc_real_loss=0.373, disc_fake_loss=0.489 gan_loss=0.000\n",
            "2/2 [==============================] - 0s 12ms/step\n",
            ">Epoch: 3,Batch: 265/468, disc_real_loss=0.480, disc_fake_loss=0.383 gan_loss=0.000\n",
            "2/2 [==============================] - 0s 10ms/step\n",
            ">Epoch: 3,Batch: 266/468, disc_real_loss=0.458, disc_fake_loss=0.332 gan_loss=0.000\n",
            "2/2 [==============================] - 0s 10ms/step\n",
            ">Epoch: 3,Batch: 267/468, disc_real_loss=0.500, disc_fake_loss=0.425 gan_loss=0.000\n",
            "2/2 [==============================] - 0s 13ms/step\n",
            ">Epoch: 3,Batch: 268/468, disc_real_loss=0.372, disc_fake_loss=0.449 gan_loss=0.000\n",
            "2/2 [==============================] - 0s 16ms/step\n",
            ">Epoch: 3,Batch: 269/468, disc_real_loss=0.442, disc_fake_loss=0.448 gan_loss=0.000\n",
            "2/2 [==============================] - 0s 16ms/step\n",
            ">Epoch: 3,Batch: 270/468, disc_real_loss=0.458, disc_fake_loss=0.435 gan_loss=0.000\n",
            "2/2 [==============================] - 0s 6ms/step\n",
            ">Epoch: 3,Batch: 271/468, disc_real_loss=0.380, disc_fake_loss=0.454 gan_loss=0.000\n",
            "2/2 [==============================] - 0s 13ms/step\n",
            ">Epoch: 3,Batch: 272/468, disc_real_loss=0.404, disc_fake_loss=0.352 gan_loss=0.000\n",
            "2/2 [==============================] - 0s 10ms/step\n",
            ">Epoch: 3,Batch: 273/468, disc_real_loss=0.402, disc_fake_loss=0.511 gan_loss=0.000\n",
            "2/2 [==============================] - 0s 14ms/step\n",
            ">Epoch: 3,Batch: 274/468, disc_real_loss=0.379, disc_fake_loss=0.384 gan_loss=0.000\n",
            "2/2 [==============================] - 0s 10ms/step\n",
            ">Epoch: 3,Batch: 275/468, disc_real_loss=0.460, disc_fake_loss=0.365 gan_loss=0.000\n",
            "2/2 [==============================] - 0s 12ms/step\n",
            ">Epoch: 3,Batch: 276/468, disc_real_loss=0.413, disc_fake_loss=0.497 gan_loss=0.000\n",
            "2/2 [==============================] - 0s 12ms/step\n",
            ">Epoch: 3,Batch: 277/468, disc_real_loss=0.359, disc_fake_loss=0.325 gan_loss=0.001\n",
            "2/2 [==============================] - 0s 8ms/step\n",
            ">Epoch: 3,Batch: 278/468, disc_real_loss=0.439, disc_fake_loss=0.466 gan_loss=0.000\n",
            "2/2 [==============================] - 0s 5ms/step\n",
            ">Epoch: 3,Batch: 279/468, disc_real_loss=0.473, disc_fake_loss=0.430 gan_loss=0.000\n",
            "2/2 [==============================] - 0s 6ms/step\n",
            ">Epoch: 3,Batch: 280/468, disc_real_loss=0.408, disc_fake_loss=0.426 gan_loss=0.000\n",
            "2/2 [==============================] - 0s 9ms/step\n",
            ">Epoch: 3,Batch: 281/468, disc_real_loss=0.450, disc_fake_loss=0.462 gan_loss=0.001\n",
            "2/2 [==============================] - 0s 10ms/step\n",
            ">Epoch: 3,Batch: 282/468, disc_real_loss=0.484, disc_fake_loss=0.410 gan_loss=0.000\n",
            "2/2 [==============================] - 0s 10ms/step\n",
            ">Epoch: 3,Batch: 283/468, disc_real_loss=0.377, disc_fake_loss=0.432 gan_loss=0.000\n",
            "2/2 [==============================] - 0s 16ms/step\n",
            ">Epoch: 3,Batch: 284/468, disc_real_loss=0.430, disc_fake_loss=0.434 gan_loss=0.001\n",
            "2/2 [==============================] - 0s 7ms/step\n",
            ">Epoch: 3,Batch: 285/468, disc_real_loss=0.471, disc_fake_loss=0.384 gan_loss=0.000\n",
            "2/2 [==============================] - 0s 8ms/step\n",
            ">Epoch: 3,Batch: 286/468, disc_real_loss=0.391, disc_fake_loss=0.442 gan_loss=0.001\n",
            "2/2 [==============================] - 0s 9ms/step\n",
            ">Epoch: 3,Batch: 287/468, disc_real_loss=0.373, disc_fake_loss=0.489 gan_loss=0.001\n",
            "2/2 [==============================] - 0s 7ms/step\n",
            ">Epoch: 3,Batch: 288/468, disc_real_loss=0.380, disc_fake_loss=0.428 gan_loss=0.001\n",
            "2/2 [==============================] - 0s 12ms/step\n",
            ">Epoch: 3,Batch: 289/468, disc_real_loss=0.439, disc_fake_loss=0.462 gan_loss=0.001\n",
            "2/2 [==============================] - 0s 9ms/step\n",
            ">Epoch: 3,Batch: 290/468, disc_real_loss=0.431, disc_fake_loss=0.342 gan_loss=0.000\n",
            "2/2 [==============================] - 0s 8ms/step\n",
            ">Epoch: 3,Batch: 291/468, disc_real_loss=0.493, disc_fake_loss=0.477 gan_loss=0.000\n",
            "2/2 [==============================] - 0s 8ms/step\n",
            ">Epoch: 3,Batch: 292/468, disc_real_loss=0.415, disc_fake_loss=0.417 gan_loss=0.000\n",
            "2/2 [==============================] - 0s 6ms/step\n",
            ">Epoch: 3,Batch: 293/468, disc_real_loss=0.421, disc_fake_loss=0.440 gan_loss=0.001\n",
            "2/2 [==============================] - 0s 7ms/step\n",
            ">Epoch: 3,Batch: 294/468, disc_real_loss=0.408, disc_fake_loss=0.403 gan_loss=0.000\n",
            "2/2 [==============================] - 0s 6ms/step\n",
            ">Epoch: 3,Batch: 295/468, disc_real_loss=0.350, disc_fake_loss=0.403 gan_loss=0.000\n",
            "2/2 [==============================] - 0s 7ms/step\n",
            ">Epoch: 3,Batch: 296/468, disc_real_loss=0.402, disc_fake_loss=0.382 gan_loss=0.000\n",
            "2/2 [==============================] - 0s 10ms/step\n",
            ">Epoch: 3,Batch: 297/468, disc_real_loss=0.458, disc_fake_loss=0.351 gan_loss=0.000\n",
            "2/2 [==============================] - 0s 5ms/step\n",
            ">Epoch: 3,Batch: 298/468, disc_real_loss=0.394, disc_fake_loss=0.483 gan_loss=0.000\n",
            "2/2 [==============================] - 0s 13ms/step\n",
            ">Epoch: 3,Batch: 299/468, disc_real_loss=0.403, disc_fake_loss=0.430 gan_loss=0.000\n",
            "2/2 [==============================] - 0s 7ms/step\n",
            ">Epoch: 3,Batch: 300/468, disc_real_loss=0.417, disc_fake_loss=0.381 gan_loss=0.000\n",
            "2/2 [==============================] - 0s 11ms/step\n",
            ">Epoch: 3,Batch: 301/468, disc_real_loss=0.376, disc_fake_loss=0.434 gan_loss=0.000\n",
            "2/2 [==============================] - 0s 9ms/step\n",
            ">Epoch: 3,Batch: 302/468, disc_real_loss=0.390, disc_fake_loss=0.380 gan_loss=0.000\n",
            "2/2 [==============================] - 0s 4ms/step\n",
            ">Epoch: 3,Batch: 303/468, disc_real_loss=0.410, disc_fake_loss=0.401 gan_loss=0.000\n",
            "2/2 [==============================] - 0s 11ms/step\n",
            ">Epoch: 3,Batch: 304/468, disc_real_loss=0.383, disc_fake_loss=0.427 gan_loss=0.000\n",
            "2/2 [==============================] - 0s 7ms/step\n",
            ">Epoch: 3,Batch: 305/468, disc_real_loss=0.451, disc_fake_loss=0.409 gan_loss=0.000\n",
            "2/2 [==============================] - 0s 14ms/step\n",
            ">Epoch: 3,Batch: 306/468, disc_real_loss=0.394, disc_fake_loss=0.358 gan_loss=0.000\n",
            "2/2 [==============================] - 0s 6ms/step\n",
            ">Epoch: 3,Batch: 307/468, disc_real_loss=0.370, disc_fake_loss=0.495 gan_loss=0.000\n",
            "2/2 [==============================] - 0s 5ms/step\n",
            ">Epoch: 3,Batch: 308/468, disc_real_loss=0.395, disc_fake_loss=0.389 gan_loss=0.000\n",
            "2/2 [==============================] - 0s 9ms/step\n",
            ">Epoch: 3,Batch: 309/468, disc_real_loss=0.408, disc_fake_loss=0.346 gan_loss=0.000\n",
            "2/2 [==============================] - 0s 10ms/step\n",
            ">Epoch: 3,Batch: 310/468, disc_real_loss=0.430, disc_fake_loss=0.358 gan_loss=0.000\n",
            "2/2 [==============================] - 0s 17ms/step\n",
            ">Epoch: 3,Batch: 311/468, disc_real_loss=0.353, disc_fake_loss=0.451 gan_loss=0.000\n",
            "2/2 [==============================] - 0s 14ms/step\n",
            ">Epoch: 3,Batch: 312/468, disc_real_loss=0.445, disc_fake_loss=0.393 gan_loss=0.000\n",
            "2/2 [==============================] - 0s 12ms/step\n",
            ">Epoch: 3,Batch: 313/468, disc_real_loss=0.383, disc_fake_loss=0.429 gan_loss=0.000\n",
            "2/2 [==============================] - 0s 9ms/step\n",
            ">Epoch: 3,Batch: 314/468, disc_real_loss=0.545, disc_fake_loss=0.435 gan_loss=0.000\n",
            "2/2 [==============================] - 0s 11ms/step\n",
            ">Epoch: 3,Batch: 315/468, disc_real_loss=0.402, disc_fake_loss=0.371 gan_loss=0.000\n",
            "2/2 [==============================] - 0s 5ms/step\n",
            ">Epoch: 3,Batch: 316/468, disc_real_loss=0.412, disc_fake_loss=0.391 gan_loss=0.000\n",
            "2/2 [==============================] - 0s 9ms/step\n",
            ">Epoch: 3,Batch: 317/468, disc_real_loss=0.436, disc_fake_loss=0.469 gan_loss=0.000\n",
            "2/2 [==============================] - 0s 4ms/step\n",
            ">Epoch: 3,Batch: 318/468, disc_real_loss=0.388, disc_fake_loss=0.442 gan_loss=0.000\n",
            "2/2 [==============================] - 0s 7ms/step\n",
            ">Epoch: 3,Batch: 319/468, disc_real_loss=0.431, disc_fake_loss=0.438 gan_loss=0.000\n",
            "2/2 [==============================] - 0s 5ms/step\n",
            ">Epoch: 3,Batch: 320/468, disc_real_loss=0.355, disc_fake_loss=0.403 gan_loss=0.000\n",
            "2/2 [==============================] - 0s 11ms/step\n",
            ">Epoch: 3,Batch: 321/468, disc_real_loss=0.465, disc_fake_loss=0.435 gan_loss=0.000\n",
            "2/2 [==============================] - 0s 7ms/step\n",
            ">Epoch: 3,Batch: 322/468, disc_real_loss=0.356, disc_fake_loss=0.525 gan_loss=0.000\n",
            "2/2 [==============================] - 0s 4ms/step\n",
            ">Epoch: 3,Batch: 323/468, disc_real_loss=0.404, disc_fake_loss=0.352 gan_loss=0.000\n",
            "2/2 [==============================] - 0s 8ms/step\n",
            ">Epoch: 3,Batch: 324/468, disc_real_loss=0.459, disc_fake_loss=0.361 gan_loss=0.000\n",
            "2/2 [==============================] - 0s 7ms/step\n",
            ">Epoch: 3,Batch: 325/468, disc_real_loss=0.487, disc_fake_loss=0.453 gan_loss=0.000\n",
            "2/2 [==============================] - 0s 15ms/step\n",
            ">Epoch: 3,Batch: 326/468, disc_real_loss=0.566, disc_fake_loss=0.409 gan_loss=0.000\n",
            "2/2 [==============================] - 0s 10ms/step\n",
            ">Epoch: 3,Batch: 327/468, disc_real_loss=0.383, disc_fake_loss=0.519 gan_loss=0.000\n",
            "2/2 [==============================] - 0s 6ms/step\n",
            ">Epoch: 3,Batch: 328/468, disc_real_loss=0.462, disc_fake_loss=0.445 gan_loss=0.000\n",
            "2/2 [==============================] - 0s 12ms/step\n",
            ">Epoch: 3,Batch: 329/468, disc_real_loss=0.375, disc_fake_loss=0.474 gan_loss=0.000\n",
            "2/2 [==============================] - 0s 6ms/step\n",
            ">Epoch: 3,Batch: 330/468, disc_real_loss=0.431, disc_fake_loss=0.439 gan_loss=0.000\n",
            "2/2 [==============================] - 0s 6ms/step\n",
            ">Epoch: 3,Batch: 331/468, disc_real_loss=0.409, disc_fake_loss=0.452 gan_loss=0.001\n",
            "2/2 [==============================] - 0s 10ms/step\n",
            ">Epoch: 3,Batch: 332/468, disc_real_loss=0.462, disc_fake_loss=0.424 gan_loss=0.000\n",
            "2/2 [==============================] - 0s 4ms/step\n",
            ">Epoch: 3,Batch: 333/468, disc_real_loss=0.391, disc_fake_loss=0.398 gan_loss=0.000\n",
            "2/2 [==============================] - 0s 13ms/step\n",
            ">Epoch: 3,Batch: 334/468, disc_real_loss=0.405, disc_fake_loss=0.421 gan_loss=0.001\n",
            "2/2 [==============================] - 0s 7ms/step\n",
            ">Epoch: 3,Batch: 335/468, disc_real_loss=0.459, disc_fake_loss=0.548 gan_loss=0.001\n",
            "2/2 [==============================] - 0s 10ms/step\n",
            ">Epoch: 3,Batch: 336/468, disc_real_loss=0.415, disc_fake_loss=0.439 gan_loss=0.001\n",
            "2/2 [==============================] - 0s 16ms/step\n",
            ">Epoch: 3,Batch: 337/468, disc_real_loss=0.387, disc_fake_loss=0.387 gan_loss=0.001\n",
            "2/2 [==============================] - 0s 4ms/step\n",
            ">Epoch: 3,Batch: 338/468, disc_real_loss=0.555, disc_fake_loss=0.386 gan_loss=0.000\n",
            "2/2 [==============================] - 0s 4ms/step\n",
            ">Epoch: 3,Batch: 339/468, disc_real_loss=0.379, disc_fake_loss=0.433 gan_loss=0.000\n",
            "2/2 [==============================] - 0s 11ms/step\n",
            ">Epoch: 3,Batch: 340/468, disc_real_loss=0.411, disc_fake_loss=0.565 gan_loss=0.001\n",
            "2/2 [==============================] - 0s 10ms/step\n",
            ">Epoch: 3,Batch: 341/468, disc_real_loss=0.452, disc_fake_loss=0.471 gan_loss=0.001\n",
            "2/2 [==============================] - 0s 4ms/step\n",
            ">Epoch: 3,Batch: 342/468, disc_real_loss=0.415, disc_fake_loss=0.420 gan_loss=0.000\n",
            "2/2 [==============================] - 0s 12ms/step\n",
            ">Epoch: 3,Batch: 343/468, disc_real_loss=0.401, disc_fake_loss=0.412 gan_loss=0.000\n",
            "2/2 [==============================] - 0s 6ms/step\n",
            ">Epoch: 3,Batch: 344/468, disc_real_loss=0.395, disc_fake_loss=0.472 gan_loss=0.000\n",
            "2/2 [==============================] - 0s 4ms/step\n",
            ">Epoch: 3,Batch: 345/468, disc_real_loss=0.354, disc_fake_loss=0.356 gan_loss=0.000\n",
            "2/2 [==============================] - 0s 12ms/step\n",
            ">Epoch: 3,Batch: 346/468, disc_real_loss=0.455, disc_fake_loss=0.387 gan_loss=0.000\n",
            "2/2 [==============================] - 0s 7ms/step\n",
            ">Epoch: 3,Batch: 347/468, disc_real_loss=0.403, disc_fake_loss=0.377 gan_loss=0.000\n",
            "2/2 [==============================] - 0s 6ms/step\n",
            ">Epoch: 3,Batch: 348/468, disc_real_loss=0.430, disc_fake_loss=0.379 gan_loss=0.000\n",
            "2/2 [==============================] - 0s 8ms/step\n",
            ">Epoch: 3,Batch: 349/468, disc_real_loss=0.376, disc_fake_loss=0.440 gan_loss=0.000\n",
            "2/2 [==============================] - 0s 5ms/step\n",
            ">Epoch: 3,Batch: 350/468, disc_real_loss=0.453, disc_fake_loss=0.422 gan_loss=0.000\n",
            "2/2 [==============================] - 0s 7ms/step\n",
            ">Epoch: 3,Batch: 351/468, disc_real_loss=0.433, disc_fake_loss=0.427 gan_loss=0.000\n",
            "2/2 [==============================] - 0s 8ms/step\n",
            ">Epoch: 3,Batch: 352/468, disc_real_loss=0.411, disc_fake_loss=0.445 gan_loss=0.000\n",
            "2/2 [==============================] - 0s 6ms/step\n",
            ">Epoch: 3,Batch: 353/468, disc_real_loss=0.370, disc_fake_loss=0.404 gan_loss=0.000\n",
            "2/2 [==============================] - 0s 14ms/step\n",
            ">Epoch: 3,Batch: 354/468, disc_real_loss=0.439, disc_fake_loss=0.417 gan_loss=0.000\n",
            "2/2 [==============================] - 0s 8ms/step\n",
            ">Epoch: 3,Batch: 355/468, disc_real_loss=0.406, disc_fake_loss=0.422 gan_loss=0.000\n",
            "2/2 [==============================] - 0s 7ms/step\n",
            ">Epoch: 3,Batch: 356/468, disc_real_loss=0.391, disc_fake_loss=0.343 gan_loss=0.000\n",
            "2/2 [==============================] - 0s 10ms/step\n",
            ">Epoch: 3,Batch: 357/468, disc_real_loss=0.480, disc_fake_loss=0.407 gan_loss=0.000\n",
            "2/2 [==============================] - 0s 13ms/step\n",
            ">Epoch: 3,Batch: 358/468, disc_real_loss=0.382, disc_fake_loss=0.432 gan_loss=0.000\n",
            "2/2 [==============================] - 0s 4ms/step\n",
            ">Epoch: 3,Batch: 359/468, disc_real_loss=0.402, disc_fake_loss=0.414 gan_loss=0.000\n",
            "2/2 [==============================] - 0s 11ms/step\n",
            ">Epoch: 3,Batch: 360/468, disc_real_loss=0.450, disc_fake_loss=0.365 gan_loss=0.000\n",
            "2/2 [==============================] - 0s 11ms/step\n",
            ">Epoch: 3,Batch: 361/468, disc_real_loss=0.367, disc_fake_loss=0.446 gan_loss=0.000\n",
            "2/2 [==============================] - 0s 15ms/step\n",
            ">Epoch: 3,Batch: 362/468, disc_real_loss=0.347, disc_fake_loss=0.378 gan_loss=0.000\n",
            "2/2 [==============================] - 0s 10ms/step\n",
            ">Epoch: 3,Batch: 363/468, disc_real_loss=0.434, disc_fake_loss=0.471 gan_loss=0.000\n",
            "2/2 [==============================] - 0s 6ms/step\n",
            ">Epoch: 3,Batch: 364/468, disc_real_loss=0.435, disc_fake_loss=0.410 gan_loss=0.000\n",
            "2/2 [==============================] - 0s 9ms/step\n",
            ">Epoch: 3,Batch: 365/468, disc_real_loss=0.506, disc_fake_loss=0.411 gan_loss=0.000\n",
            "2/2 [==============================] - 0s 11ms/step\n",
            ">Epoch: 3,Batch: 366/468, disc_real_loss=0.398, disc_fake_loss=0.488 gan_loss=0.000\n",
            "2/2 [==============================] - 0s 4ms/step\n",
            ">Epoch: 3,Batch: 367/468, disc_real_loss=0.406, disc_fake_loss=0.413 gan_loss=0.000\n",
            "2/2 [==============================] - 0s 14ms/step\n",
            ">Epoch: 3,Batch: 368/468, disc_real_loss=0.361, disc_fake_loss=0.397 gan_loss=0.000\n",
            "2/2 [==============================] - 0s 4ms/step\n",
            ">Epoch: 3,Batch: 369/468, disc_real_loss=0.431, disc_fake_loss=0.390 gan_loss=0.000\n",
            "2/2 [==============================] - 0s 5ms/step\n",
            ">Epoch: 3,Batch: 370/468, disc_real_loss=0.392, disc_fake_loss=0.321 gan_loss=0.000\n",
            "2/2 [==============================] - 0s 4ms/step\n",
            ">Epoch: 3,Batch: 371/468, disc_real_loss=0.436, disc_fake_loss=0.467 gan_loss=0.000\n",
            "2/2 [==============================] - 0s 11ms/step\n",
            ">Epoch: 3,Batch: 372/468, disc_real_loss=0.444, disc_fake_loss=0.406 gan_loss=0.000\n",
            "2/2 [==============================] - 0s 6ms/step\n",
            ">Epoch: 3,Batch: 373/468, disc_real_loss=0.529, disc_fake_loss=0.444 gan_loss=0.000\n",
            "2/2 [==============================] - 0s 6ms/step\n",
            ">Epoch: 3,Batch: 374/468, disc_real_loss=0.307, disc_fake_loss=0.440 gan_loss=0.000\n",
            "2/2 [==============================] - 0s 10ms/step\n",
            ">Epoch: 3,Batch: 375/468, disc_real_loss=0.445, disc_fake_loss=0.373 gan_loss=0.000\n",
            "2/2 [==============================] - 0s 10ms/step\n",
            ">Epoch: 3,Batch: 376/468, disc_real_loss=0.361, disc_fake_loss=0.458 gan_loss=0.000\n",
            "2/2 [==============================] - 0s 7ms/step\n",
            ">Epoch: 3,Batch: 377/468, disc_real_loss=0.416, disc_fake_loss=0.445 gan_loss=0.000\n",
            "2/2 [==============================] - 0s 7ms/step\n",
            ">Epoch: 3,Batch: 378/468, disc_real_loss=0.435, disc_fake_loss=0.453 gan_loss=0.000\n",
            "2/2 [==============================] - 0s 5ms/step\n",
            ">Epoch: 3,Batch: 379/468, disc_real_loss=0.475, disc_fake_loss=0.443 gan_loss=0.000\n",
            "2/2 [==============================] - 0s 9ms/step\n",
            ">Epoch: 3,Batch: 380/468, disc_real_loss=0.471, disc_fake_loss=0.424 gan_loss=0.000\n",
            "2/2 [==============================] - 0s 14ms/step\n",
            ">Epoch: 3,Batch: 381/468, disc_real_loss=0.437, disc_fake_loss=0.398 gan_loss=0.000\n",
            "2/2 [==============================] - 0s 11ms/step\n",
            ">Epoch: 3,Batch: 382/468, disc_real_loss=0.425, disc_fake_loss=0.425 gan_loss=0.000\n",
            "2/2 [==============================] - 0s 8ms/step\n",
            ">Epoch: 3,Batch: 383/468, disc_real_loss=0.278, disc_fake_loss=0.437 gan_loss=0.000\n",
            "2/2 [==============================] - 0s 5ms/step\n",
            ">Epoch: 3,Batch: 384/468, disc_real_loss=0.460, disc_fake_loss=0.466 gan_loss=0.000\n",
            "2/2 [==============================] - 0s 9ms/step\n",
            ">Epoch: 3,Batch: 385/468, disc_real_loss=0.433, disc_fake_loss=0.324 gan_loss=0.000\n",
            "2/2 [==============================] - 0s 5ms/step\n",
            ">Epoch: 3,Batch: 386/468, disc_real_loss=0.362, disc_fake_loss=0.347 gan_loss=0.000\n",
            "2/2 [==============================] - 0s 14ms/step\n",
            ">Epoch: 3,Batch: 387/468, disc_real_loss=0.402, disc_fake_loss=0.395 gan_loss=0.000\n",
            "2/2 [==============================] - 0s 12ms/step\n",
            ">Epoch: 3,Batch: 388/468, disc_real_loss=0.400, disc_fake_loss=0.399 gan_loss=0.000\n",
            "2/2 [==============================] - 0s 16ms/step\n",
            ">Epoch: 3,Batch: 389/468, disc_real_loss=0.275, disc_fake_loss=0.339 gan_loss=0.000\n",
            "2/2 [==============================] - 0s 4ms/step\n",
            ">Epoch: 3,Batch: 390/468, disc_real_loss=0.372, disc_fake_loss=0.431 gan_loss=0.000\n",
            "2/2 [==============================] - 0s 4ms/step\n",
            ">Epoch: 3,Batch: 391/468, disc_real_loss=0.424, disc_fake_loss=0.391 gan_loss=0.000\n",
            "2/2 [==============================] - 0s 8ms/step\n",
            ">Epoch: 3,Batch: 392/468, disc_real_loss=0.428, disc_fake_loss=0.377 gan_loss=0.000\n",
            "2/2 [==============================] - 0s 7ms/step\n",
            ">Epoch: 3,Batch: 393/468, disc_real_loss=0.348, disc_fake_loss=0.453 gan_loss=0.000\n",
            "2/2 [==============================] - 0s 9ms/step\n",
            ">Epoch: 3,Batch: 394/468, disc_real_loss=0.442, disc_fake_loss=0.425 gan_loss=0.000\n",
            "2/2 [==============================] - 0s 10ms/step\n",
            ">Epoch: 3,Batch: 395/468, disc_real_loss=0.326, disc_fake_loss=0.435 gan_loss=0.000\n",
            "2/2 [==============================] - 0s 6ms/step\n",
            ">Epoch: 3,Batch: 396/468, disc_real_loss=0.376, disc_fake_loss=0.414 gan_loss=0.000\n",
            "2/2 [==============================] - 0s 11ms/step\n",
            ">Epoch: 3,Batch: 397/468, disc_real_loss=0.478, disc_fake_loss=0.283 gan_loss=0.000\n",
            "2/2 [==============================] - 0s 10ms/step\n",
            ">Epoch: 3,Batch: 398/468, disc_real_loss=0.415, disc_fake_loss=0.474 gan_loss=0.000\n",
            "2/2 [==============================] - 0s 10ms/step\n",
            ">Epoch: 3,Batch: 399/468, disc_real_loss=0.539, disc_fake_loss=0.470 gan_loss=0.000\n",
            "2/2 [==============================] - 0s 8ms/step\n",
            ">Epoch: 3,Batch: 400/468, disc_real_loss=0.440, disc_fake_loss=0.421 gan_loss=0.000\n",
            "2/2 [==============================] - 0s 12ms/step\n",
            ">Epoch: 3,Batch: 401/468, disc_real_loss=0.281, disc_fake_loss=0.547 gan_loss=0.000\n",
            "2/2 [==============================] - 0s 10ms/step\n",
            ">Epoch: 3,Batch: 402/468, disc_real_loss=0.367, disc_fake_loss=0.324 gan_loss=0.000\n",
            "2/2 [==============================] - 0s 9ms/step\n",
            ">Epoch: 3,Batch: 403/468, disc_real_loss=0.453, disc_fake_loss=0.357 gan_loss=0.000\n",
            "2/2 [==============================] - 0s 9ms/step\n",
            ">Epoch: 3,Batch: 404/468, disc_real_loss=0.476, disc_fake_loss=0.530 gan_loss=0.000\n",
            "2/2 [==============================] - 0s 12ms/step\n",
            ">Epoch: 3,Batch: 405/468, disc_real_loss=0.400, disc_fake_loss=0.516 gan_loss=0.000\n",
            "2/2 [==============================] - 0s 10ms/step\n",
            ">Epoch: 3,Batch: 406/468, disc_real_loss=0.503, disc_fake_loss=0.363 gan_loss=0.000\n",
            "2/2 [==============================] - 0s 12ms/step\n",
            ">Epoch: 3,Batch: 407/468, disc_real_loss=0.396, disc_fake_loss=0.371 gan_loss=0.000\n",
            "2/2 [==============================] - 0s 8ms/step\n",
            ">Epoch: 3,Batch: 408/468, disc_real_loss=0.379, disc_fake_loss=0.364 gan_loss=0.000\n",
            "2/2 [==============================] - 0s 12ms/step\n",
            ">Epoch: 3,Batch: 409/468, disc_real_loss=0.439, disc_fake_loss=0.510 gan_loss=0.000\n",
            "2/2 [==============================] - 0s 7ms/step\n",
            ">Epoch: 3,Batch: 410/468, disc_real_loss=0.416, disc_fake_loss=0.379 gan_loss=0.000\n",
            "2/2 [==============================] - 0s 5ms/step\n",
            ">Epoch: 3,Batch: 411/468, disc_real_loss=0.486, disc_fake_loss=0.491 gan_loss=0.000\n",
            "2/2 [==============================] - 0s 12ms/step\n",
            ">Epoch: 3,Batch: 412/468, disc_real_loss=0.395, disc_fake_loss=0.399 gan_loss=0.000\n",
            "2/2 [==============================] - 0s 5ms/step\n",
            ">Epoch: 3,Batch: 413/468, disc_real_loss=0.384, disc_fake_loss=0.455 gan_loss=0.000\n",
            "2/2 [==============================] - 0s 10ms/step\n",
            ">Epoch: 3,Batch: 414/468, disc_real_loss=0.388, disc_fake_loss=0.415 gan_loss=0.000\n",
            "2/2 [==============================] - 0s 16ms/step\n",
            ">Epoch: 3,Batch: 415/468, disc_real_loss=0.448, disc_fake_loss=0.343 gan_loss=0.000\n",
            "2/2 [==============================] - 0s 6ms/step\n",
            ">Epoch: 3,Batch: 416/468, disc_real_loss=0.365, disc_fake_loss=0.391 gan_loss=0.000\n",
            "2/2 [==============================] - 0s 6ms/step\n",
            ">Epoch: 3,Batch: 417/468, disc_real_loss=0.405, disc_fake_loss=0.413 gan_loss=0.000\n",
            "2/2 [==============================] - 0s 7ms/step\n",
            ">Epoch: 3,Batch: 418/468, disc_real_loss=0.403, disc_fake_loss=0.369 gan_loss=0.000\n",
            "2/2 [==============================] - 0s 13ms/step\n",
            ">Epoch: 3,Batch: 419/468, disc_real_loss=0.368, disc_fake_loss=0.392 gan_loss=0.000\n",
            "2/2 [==============================] - 0s 7ms/step\n",
            ">Epoch: 3,Batch: 420/468, disc_real_loss=0.382, disc_fake_loss=0.414 gan_loss=0.000\n",
            "2/2 [==============================] - 0s 14ms/step\n",
            ">Epoch: 3,Batch: 421/468, disc_real_loss=0.425, disc_fake_loss=0.356 gan_loss=0.000\n",
            "2/2 [==============================] - 0s 10ms/step\n",
            ">Epoch: 3,Batch: 422/468, disc_real_loss=0.346, disc_fake_loss=0.410 gan_loss=0.000\n",
            "2/2 [==============================] - 0s 13ms/step\n",
            ">Epoch: 3,Batch: 423/468, disc_real_loss=0.386, disc_fake_loss=0.417 gan_loss=0.000\n",
            "2/2 [==============================] - 0s 13ms/step\n",
            ">Epoch: 3,Batch: 424/468, disc_real_loss=0.418, disc_fake_loss=0.395 gan_loss=0.000\n",
            "2/2 [==============================] - 0s 7ms/step\n",
            ">Epoch: 3,Batch: 425/468, disc_real_loss=0.338, disc_fake_loss=0.380 gan_loss=0.000\n",
            "2/2 [==============================] - 0s 9ms/step\n",
            ">Epoch: 3,Batch: 426/468, disc_real_loss=0.417, disc_fake_loss=0.402 gan_loss=0.000\n",
            "2/2 [==============================] - 0s 17ms/step\n",
            ">Epoch: 3,Batch: 427/468, disc_real_loss=0.523, disc_fake_loss=0.450 gan_loss=0.000\n",
            "2/2 [==============================] - 0s 5ms/step\n",
            ">Epoch: 3,Batch: 428/468, disc_real_loss=0.414, disc_fake_loss=0.425 gan_loss=0.000\n",
            "2/2 [==============================] - 0s 6ms/step\n",
            ">Epoch: 3,Batch: 429/468, disc_real_loss=0.401, disc_fake_loss=0.438 gan_loss=0.000\n",
            "2/2 [==============================] - 0s 5ms/step\n",
            ">Epoch: 3,Batch: 430/468, disc_real_loss=0.354, disc_fake_loss=0.369 gan_loss=0.000\n",
            "2/2 [==============================] - 0s 6ms/step\n",
            ">Epoch: 3,Batch: 431/468, disc_real_loss=0.434, disc_fake_loss=0.368 gan_loss=0.000\n",
            "2/2 [==============================] - 0s 4ms/step\n",
            ">Epoch: 3,Batch: 432/468, disc_real_loss=0.361, disc_fake_loss=0.445 gan_loss=0.000\n",
            "2/2 [==============================] - 0s 9ms/step\n",
            ">Epoch: 3,Batch: 433/468, disc_real_loss=0.531, disc_fake_loss=0.417 gan_loss=0.000\n",
            "2/2 [==============================] - 0s 14ms/step\n",
            ">Epoch: 3,Batch: 434/468, disc_real_loss=0.419, disc_fake_loss=0.393 gan_loss=0.000\n",
            "2/2 [==============================] - 0s 10ms/step\n",
            ">Epoch: 3,Batch: 435/468, disc_real_loss=0.457, disc_fake_loss=0.429 gan_loss=0.000\n",
            "2/2 [==============================] - 0s 16ms/step\n",
            ">Epoch: 3,Batch: 436/468, disc_real_loss=0.305, disc_fake_loss=0.424 gan_loss=0.000\n",
            "2/2 [==============================] - 0s 9ms/step\n",
            ">Epoch: 3,Batch: 437/468, disc_real_loss=0.441, disc_fake_loss=0.404 gan_loss=0.000\n",
            "2/2 [==============================] - 0s 5ms/step\n",
            ">Epoch: 3,Batch: 438/468, disc_real_loss=0.376, disc_fake_loss=0.362 gan_loss=0.000\n",
            "2/2 [==============================] - 0s 6ms/step\n",
            ">Epoch: 3,Batch: 439/468, disc_real_loss=0.436, disc_fake_loss=0.465 gan_loss=0.000\n",
            "2/2 [==============================] - 0s 14ms/step\n",
            ">Epoch: 3,Batch: 440/468, disc_real_loss=0.428, disc_fake_loss=0.451 gan_loss=0.000\n",
            "2/2 [==============================] - 0s 9ms/step\n",
            ">Epoch: 3,Batch: 441/468, disc_real_loss=0.402, disc_fake_loss=0.475 gan_loss=0.000\n",
            "2/2 [==============================] - 0s 6ms/step\n",
            ">Epoch: 3,Batch: 442/468, disc_real_loss=0.418, disc_fake_loss=0.340 gan_loss=0.000\n",
            "2/2 [==============================] - 0s 7ms/step\n",
            ">Epoch: 3,Batch: 443/468, disc_real_loss=0.327, disc_fake_loss=0.342 gan_loss=0.000\n",
            "2/2 [==============================] - 0s 7ms/step\n",
            ">Epoch: 3,Batch: 444/468, disc_real_loss=0.398, disc_fake_loss=0.440 gan_loss=0.000\n",
            "2/2 [==============================] - 0s 8ms/step\n",
            ">Epoch: 3,Batch: 445/468, disc_real_loss=0.335, disc_fake_loss=0.359 gan_loss=0.000\n",
            "2/2 [==============================] - 0s 8ms/step\n",
            ">Epoch: 3,Batch: 446/468, disc_real_loss=0.417, disc_fake_loss=0.410 gan_loss=0.000\n",
            "2/2 [==============================] - 0s 5ms/step\n",
            ">Epoch: 3,Batch: 447/468, disc_real_loss=0.357, disc_fake_loss=0.357 gan_loss=0.000\n",
            "2/2 [==============================] - 0s 10ms/step\n",
            ">Epoch: 3,Batch: 448/468, disc_real_loss=0.447, disc_fake_loss=0.364 gan_loss=0.000\n",
            "2/2 [==============================] - 0s 11ms/step\n",
            ">Epoch: 3,Batch: 449/468, disc_real_loss=0.373, disc_fake_loss=0.386 gan_loss=0.000\n",
            "2/2 [==============================] - 0s 9ms/step\n",
            ">Epoch: 3,Batch: 450/468, disc_real_loss=0.371, disc_fake_loss=0.329 gan_loss=0.000\n",
            "2/2 [==============================] - 0s 6ms/step\n",
            ">Epoch: 3,Batch: 451/468, disc_real_loss=0.340, disc_fake_loss=0.435 gan_loss=0.000\n",
            "2/2 [==============================] - 0s 4ms/step\n",
            ">Epoch: 3,Batch: 452/468, disc_real_loss=0.353, disc_fake_loss=0.480 gan_loss=0.000\n",
            "2/2 [==============================] - 0s 5ms/step\n",
            ">Epoch: 3,Batch: 453/468, disc_real_loss=0.418, disc_fake_loss=0.356 gan_loss=0.000\n",
            "2/2 [==============================] - 0s 15ms/step\n",
            ">Epoch: 3,Batch: 454/468, disc_real_loss=0.416, disc_fake_loss=0.272 gan_loss=0.000\n",
            "2/2 [==============================] - 0s 13ms/step\n",
            ">Epoch: 3,Batch: 455/468, disc_real_loss=0.376, disc_fake_loss=0.376 gan_loss=0.000\n",
            "2/2 [==============================] - 0s 12ms/step\n",
            ">Epoch: 3,Batch: 456/468, disc_real_loss=0.352, disc_fake_loss=0.509 gan_loss=0.000\n",
            "2/2 [==============================] - 0s 5ms/step\n",
            ">Epoch: 3,Batch: 457/468, disc_real_loss=0.466, disc_fake_loss=0.394 gan_loss=0.000\n",
            "2/2 [==============================] - 0s 17ms/step\n",
            ">Epoch: 3,Batch: 458/468, disc_real_loss=0.422, disc_fake_loss=0.412 gan_loss=0.000\n",
            "2/2 [==============================] - 0s 12ms/step\n",
            ">Epoch: 3,Batch: 459/468, disc_real_loss=0.413, disc_fake_loss=0.454 gan_loss=0.000\n",
            "2/2 [==============================] - 0s 6ms/step\n",
            ">Epoch: 3,Batch: 460/468, disc_real_loss=0.386, disc_fake_loss=0.352 gan_loss=0.000\n",
            "2/2 [==============================] - 0s 9ms/step\n",
            ">Epoch: 3,Batch: 461/468, disc_real_loss=0.398, disc_fake_loss=0.454 gan_loss=0.000\n",
            "2/2 [==============================] - 0s 10ms/step\n",
            ">Epoch: 3,Batch: 462/468, disc_real_loss=0.379, disc_fake_loss=0.397 gan_loss=0.000\n",
            "2/2 [==============================] - 0s 10ms/step\n",
            ">Epoch: 3,Batch: 463/468, disc_real_loss=0.489, disc_fake_loss=0.387 gan_loss=0.000\n",
            "2/2 [==============================] - 0s 9ms/step\n",
            ">Epoch: 3,Batch: 464/468, disc_real_loss=0.361, disc_fake_loss=0.405 gan_loss=0.000\n",
            "2/2 [==============================] - 0s 9ms/step\n",
            ">Epoch: 3,Batch: 465/468, disc_real_loss=0.393, disc_fake_loss=0.430 gan_loss=0.000\n",
            "2/2 [==============================] - 0s 7ms/step\n",
            ">Epoch: 3,Batch: 466/468, disc_real_loss=0.396, disc_fake_loss=0.399 gan_loss=0.000\n",
            "2/2 [==============================] - 0s 6ms/step\n",
            ">Epoch: 3,Batch: 467/468, disc_real_loss=0.438, disc_fake_loss=0.464 gan_loss=0.000\n",
            "2/2 [==============================] - 0s 5ms/step\n",
            ">Epoch: 3,Batch: 468/468, disc_real_loss=0.422, disc_fake_loss=0.450 gan_loss=0.000\n",
            "2/2 [==============================] - 0s 12ms/step\n",
            ">Epoch: 4,Batch: 1/468, disc_real_loss=0.482, disc_fake_loss=0.372 gan_loss=0.000\n",
            "2/2 [==============================] - 0s 6ms/step\n",
            ">Epoch: 4,Batch: 2/468, disc_real_loss=0.403, disc_fake_loss=0.406 gan_loss=0.000\n",
            "2/2 [==============================] - 0s 13ms/step\n",
            ">Epoch: 4,Batch: 3/468, disc_real_loss=0.380, disc_fake_loss=0.426 gan_loss=0.000\n",
            "2/2 [==============================] - 0s 7ms/step\n",
            ">Epoch: 4,Batch: 4/468, disc_real_loss=0.419, disc_fake_loss=0.358 gan_loss=0.000\n",
            "2/2 [==============================] - 0s 5ms/step\n",
            ">Epoch: 4,Batch: 5/468, disc_real_loss=0.286, disc_fake_loss=0.423 gan_loss=0.000\n",
            "2/2 [==============================] - 0s 6ms/step\n",
            ">Epoch: 4,Batch: 6/468, disc_real_loss=0.415, disc_fake_loss=0.400 gan_loss=0.000\n",
            "2/2 [==============================] - 0s 8ms/step\n",
            ">Epoch: 4,Batch: 7/468, disc_real_loss=0.371, disc_fake_loss=0.419 gan_loss=0.000\n",
            "2/2 [==============================] - 0s 6ms/step\n",
            ">Epoch: 4,Batch: 8/468, disc_real_loss=0.388, disc_fake_loss=0.418 gan_loss=0.000\n",
            "2/2 [==============================] - 0s 8ms/step\n",
            ">Epoch: 4,Batch: 9/468, disc_real_loss=0.346, disc_fake_loss=0.338 gan_loss=0.000\n",
            "2/2 [==============================] - 0s 6ms/step\n",
            ">Epoch: 4,Batch: 10/468, disc_real_loss=0.420, disc_fake_loss=0.472 gan_loss=0.000\n",
            "2/2 [==============================] - 0s 7ms/step\n",
            ">Epoch: 4,Batch: 11/468, disc_real_loss=0.386, disc_fake_loss=0.334 gan_loss=0.000\n",
            "2/2 [==============================] - 0s 10ms/step\n",
            ">Epoch: 4,Batch: 12/468, disc_real_loss=0.407, disc_fake_loss=0.463 gan_loss=0.000\n",
            "2/2 [==============================] - 0s 6ms/step\n",
            ">Epoch: 4,Batch: 13/468, disc_real_loss=0.457, disc_fake_loss=0.387 gan_loss=0.000\n",
            "2/2 [==============================] - 0s 7ms/step\n",
            ">Epoch: 4,Batch: 14/468, disc_real_loss=0.369, disc_fake_loss=0.395 gan_loss=0.000\n",
            "2/2 [==============================] - 0s 6ms/step\n",
            ">Epoch: 4,Batch: 15/468, disc_real_loss=0.419, disc_fake_loss=0.399 gan_loss=0.000\n",
            "2/2 [==============================] - 0s 9ms/step\n",
            ">Epoch: 4,Batch: 16/468, disc_real_loss=0.360, disc_fake_loss=0.376 gan_loss=0.000\n",
            "2/2 [==============================] - 0s 4ms/step\n",
            ">Epoch: 4,Batch: 17/468, disc_real_loss=0.519, disc_fake_loss=0.314 gan_loss=0.000\n",
            "2/2 [==============================] - 0s 8ms/step\n",
            ">Epoch: 4,Batch: 18/468, disc_real_loss=0.381, disc_fake_loss=0.464 gan_loss=0.000\n",
            "2/2 [==============================] - 0s 11ms/step\n",
            ">Epoch: 4,Batch: 19/468, disc_real_loss=0.352, disc_fake_loss=0.443 gan_loss=0.000\n",
            "2/2 [==============================] - 0s 7ms/step\n",
            ">Epoch: 4,Batch: 20/468, disc_real_loss=0.416, disc_fake_loss=0.415 gan_loss=0.000\n",
            "2/2 [==============================] - 0s 9ms/step\n",
            ">Epoch: 4,Batch: 21/468, disc_real_loss=0.427, disc_fake_loss=0.438 gan_loss=0.000\n",
            "2/2 [==============================] - 0s 6ms/step\n",
            ">Epoch: 4,Batch: 22/468, disc_real_loss=0.523, disc_fake_loss=0.380 gan_loss=0.000\n",
            "2/2 [==============================] - 0s 7ms/step\n",
            ">Epoch: 4,Batch: 23/468, disc_real_loss=0.433, disc_fake_loss=0.406 gan_loss=0.000\n",
            "2/2 [==============================] - 0s 8ms/step\n",
            ">Epoch: 4,Batch: 24/468, disc_real_loss=0.355, disc_fake_loss=0.477 gan_loss=0.000\n",
            "2/2 [==============================] - 0s 5ms/step\n",
            ">Epoch: 4,Batch: 25/468, disc_real_loss=0.437, disc_fake_loss=0.381 gan_loss=0.000\n",
            "2/2 [==============================] - 0s 13ms/step\n",
            ">Epoch: 4,Batch: 26/468, disc_real_loss=0.441, disc_fake_loss=0.442 gan_loss=0.000\n",
            "2/2 [==============================] - 0s 16ms/step\n",
            ">Epoch: 4,Batch: 27/468, disc_real_loss=0.437, disc_fake_loss=0.352 gan_loss=0.000\n",
            "2/2 [==============================] - 0s 13ms/step\n",
            ">Epoch: 4,Batch: 28/468, disc_real_loss=0.511, disc_fake_loss=0.470 gan_loss=0.000\n",
            "2/2 [==============================] - 0s 7ms/step\n",
            ">Epoch: 4,Batch: 29/468, disc_real_loss=0.321, disc_fake_loss=0.520 gan_loss=0.000\n",
            "2/2 [==============================] - 0s 6ms/step\n",
            ">Epoch: 4,Batch: 30/468, disc_real_loss=0.392, disc_fake_loss=0.429 gan_loss=0.000\n",
            "2/2 [==============================] - 0s 4ms/step\n",
            ">Epoch: 4,Batch: 31/468, disc_real_loss=0.431, disc_fake_loss=0.329 gan_loss=0.000\n",
            "2/2 [==============================] - 0s 4ms/step\n",
            ">Epoch: 4,Batch: 32/468, disc_real_loss=0.396, disc_fake_loss=0.442 gan_loss=0.000\n",
            "2/2 [==============================] - 0s 6ms/step\n",
            ">Epoch: 4,Batch: 33/468, disc_real_loss=0.356, disc_fake_loss=0.460 gan_loss=0.000\n",
            "2/2 [==============================] - 0s 6ms/step\n",
            ">Epoch: 4,Batch: 34/468, disc_real_loss=0.406, disc_fake_loss=0.401 gan_loss=0.000\n",
            "2/2 [==============================] - 0s 11ms/step\n",
            ">Epoch: 4,Batch: 35/468, disc_real_loss=0.414, disc_fake_loss=0.391 gan_loss=0.000\n",
            "2/2 [==============================] - 0s 8ms/step\n",
            ">Epoch: 4,Batch: 36/468, disc_real_loss=0.370, disc_fake_loss=0.353 gan_loss=0.000\n",
            "2/2 [==============================] - 0s 7ms/step\n",
            ">Epoch: 4,Batch: 37/468, disc_real_loss=0.363, disc_fake_loss=0.371 gan_loss=0.000\n",
            "2/2 [==============================] - 0s 12ms/step\n",
            ">Epoch: 4,Batch: 38/468, disc_real_loss=0.395, disc_fake_loss=0.388 gan_loss=0.000\n",
            "2/2 [==============================] - 0s 5ms/step\n",
            ">Epoch: 4,Batch: 39/468, disc_real_loss=0.341, disc_fake_loss=0.397 gan_loss=0.000\n",
            "2/2 [==============================] - 0s 9ms/step\n",
            ">Epoch: 4,Batch: 40/468, disc_real_loss=0.454, disc_fake_loss=0.357 gan_loss=0.000\n",
            "2/2 [==============================] - 0s 6ms/step\n",
            ">Epoch: 4,Batch: 41/468, disc_real_loss=0.470, disc_fake_loss=0.441 gan_loss=0.000\n",
            "2/2 [==============================] - 0s 10ms/step\n",
            ">Epoch: 4,Batch: 42/468, disc_real_loss=0.381, disc_fake_loss=0.345 gan_loss=0.000\n",
            "2/2 [==============================] - 0s 10ms/step\n",
            ">Epoch: 4,Batch: 43/468, disc_real_loss=0.394, disc_fake_loss=0.381 gan_loss=0.000\n",
            "2/2 [==============================] - 0s 5ms/step\n",
            ">Epoch: 4,Batch: 44/468, disc_real_loss=0.322, disc_fake_loss=0.389 gan_loss=0.000\n",
            "2/2 [==============================] - 0s 8ms/step\n",
            ">Epoch: 4,Batch: 45/468, disc_real_loss=0.477, disc_fake_loss=0.386 gan_loss=0.000\n",
            "2/2 [==============================] - 0s 8ms/step\n",
            ">Epoch: 4,Batch: 46/468, disc_real_loss=0.391, disc_fake_loss=0.428 gan_loss=0.000\n",
            "2/2 [==============================] - 0s 9ms/step\n",
            ">Epoch: 4,Batch: 47/468, disc_real_loss=0.457, disc_fake_loss=0.411 gan_loss=0.000\n",
            "2/2 [==============================] - 0s 7ms/step\n",
            ">Epoch: 4,Batch: 48/468, disc_real_loss=0.339, disc_fake_loss=0.423 gan_loss=0.000\n",
            "2/2 [==============================] - 0s 8ms/step\n",
            ">Epoch: 4,Batch: 49/468, disc_real_loss=0.337, disc_fake_loss=0.372 gan_loss=0.000\n",
            "2/2 [==============================] - 0s 10ms/step\n",
            ">Epoch: 4,Batch: 50/468, disc_real_loss=0.467, disc_fake_loss=0.310 gan_loss=0.000\n",
            "2/2 [==============================] - 0s 7ms/step\n",
            ">Epoch: 4,Batch: 51/468, disc_real_loss=0.373, disc_fake_loss=0.331 gan_loss=0.000\n",
            "2/2 [==============================] - 0s 16ms/step\n",
            ">Epoch: 4,Batch: 52/468, disc_real_loss=0.415, disc_fake_loss=0.427 gan_loss=0.000\n",
            "2/2 [==============================] - 0s 12ms/step\n",
            ">Epoch: 4,Batch: 53/468, disc_real_loss=0.365, disc_fake_loss=0.399 gan_loss=0.000\n",
            "2/2 [==============================] - 0s 9ms/step\n",
            ">Epoch: 4,Batch: 54/468, disc_real_loss=0.404, disc_fake_loss=0.355 gan_loss=0.000\n",
            "2/2 [==============================] - 0s 6ms/step\n",
            ">Epoch: 4,Batch: 55/468, disc_real_loss=0.430, disc_fake_loss=0.407 gan_loss=0.000\n",
            "2/2 [==============================] - 0s 8ms/step\n",
            ">Epoch: 4,Batch: 56/468, disc_real_loss=0.357, disc_fake_loss=0.495 gan_loss=0.000\n",
            "2/2 [==============================] - 0s 8ms/step\n",
            ">Epoch: 4,Batch: 57/468, disc_real_loss=0.390, disc_fake_loss=0.415 gan_loss=0.000\n",
            "2/2 [==============================] - 0s 9ms/step\n",
            ">Epoch: 4,Batch: 58/468, disc_real_loss=0.351, disc_fake_loss=0.409 gan_loss=0.000\n",
            "2/2 [==============================] - 0s 8ms/step\n",
            ">Epoch: 4,Batch: 59/468, disc_real_loss=0.421, disc_fake_loss=0.406 gan_loss=0.000\n",
            "2/2 [==============================] - 0s 4ms/step\n",
            ">Epoch: 4,Batch: 60/468, disc_real_loss=0.496, disc_fake_loss=0.377 gan_loss=0.000\n",
            "2/2 [==============================] - 0s 9ms/step\n",
            ">Epoch: 4,Batch: 61/468, disc_real_loss=0.349, disc_fake_loss=0.427 gan_loss=0.000\n",
            "2/2 [==============================] - 0s 8ms/step\n",
            ">Epoch: 4,Batch: 62/468, disc_real_loss=0.375, disc_fake_loss=0.468 gan_loss=0.000\n",
            "2/2 [==============================] - 0s 10ms/step\n",
            ">Epoch: 4,Batch: 63/468, disc_real_loss=0.375, disc_fake_loss=0.378 gan_loss=0.000\n",
            "2/2 [==============================] - 0s 7ms/step\n",
            ">Epoch: 4,Batch: 64/468, disc_real_loss=0.370, disc_fake_loss=0.346 gan_loss=0.000\n",
            "2/2 [==============================] - 0s 5ms/step\n",
            ">Epoch: 4,Batch: 65/468, disc_real_loss=0.318, disc_fake_loss=0.432 gan_loss=0.000\n",
            "2/2 [==============================] - 0s 11ms/step\n",
            ">Epoch: 4,Batch: 66/468, disc_real_loss=0.407, disc_fake_loss=0.373 gan_loss=0.000\n",
            "2/2 [==============================] - 0s 8ms/step\n",
            ">Epoch: 4,Batch: 67/468, disc_real_loss=0.460, disc_fake_loss=0.334 gan_loss=0.000\n",
            "2/2 [==============================] - 0s 10ms/step\n",
            ">Epoch: 4,Batch: 68/468, disc_real_loss=0.351, disc_fake_loss=0.429 gan_loss=0.000\n",
            "2/2 [==============================] - 0s 6ms/step\n",
            ">Epoch: 4,Batch: 69/468, disc_real_loss=0.373, disc_fake_loss=0.360 gan_loss=0.000\n",
            "2/2 [==============================] - 0s 9ms/step\n",
            ">Epoch: 4,Batch: 70/468, disc_real_loss=0.388, disc_fake_loss=0.409 gan_loss=0.000\n",
            "2/2 [==============================] - 0s 14ms/step\n",
            ">Epoch: 4,Batch: 71/468, disc_real_loss=0.440, disc_fake_loss=0.406 gan_loss=0.000\n",
            "2/2 [==============================] - 0s 11ms/step\n",
            ">Epoch: 4,Batch: 72/468, disc_real_loss=0.311, disc_fake_loss=0.407 gan_loss=0.000\n",
            "2/2 [==============================] - 0s 6ms/step\n",
            ">Epoch: 4,Batch: 73/468, disc_real_loss=0.334, disc_fake_loss=0.322 gan_loss=0.000\n",
            "2/2 [==============================] - 0s 10ms/step\n",
            ">Epoch: 4,Batch: 74/468, disc_real_loss=0.456, disc_fake_loss=0.414 gan_loss=0.000\n",
            "2/2 [==============================] - 0s 6ms/step\n",
            ">Epoch: 4,Batch: 75/468, disc_real_loss=0.404, disc_fake_loss=0.398 gan_loss=0.000\n",
            "2/2 [==============================] - 0s 10ms/step\n",
            ">Epoch: 4,Batch: 76/468, disc_real_loss=0.333, disc_fake_loss=0.398 gan_loss=0.000\n",
            "2/2 [==============================] - 0s 13ms/step\n",
            ">Epoch: 4,Batch: 77/468, disc_real_loss=0.425, disc_fake_loss=0.392 gan_loss=0.000\n",
            "2/2 [==============================] - 0s 12ms/step\n",
            ">Epoch: 4,Batch: 78/468, disc_real_loss=0.477, disc_fake_loss=0.339 gan_loss=0.000\n",
            "2/2 [==============================] - 0s 9ms/step\n",
            ">Epoch: 4,Batch: 79/468, disc_real_loss=0.322, disc_fake_loss=0.398 gan_loss=0.000\n",
            "2/2 [==============================] - 0s 10ms/step\n",
            ">Epoch: 4,Batch: 80/468, disc_real_loss=0.381, disc_fake_loss=0.420 gan_loss=0.000\n",
            "2/2 [==============================] - 0s 10ms/step\n",
            ">Epoch: 4,Batch: 81/468, disc_real_loss=0.404, disc_fake_loss=0.422 gan_loss=0.000\n",
            "2/2 [==============================] - 0s 8ms/step\n",
            ">Epoch: 4,Batch: 82/468, disc_real_loss=0.357, disc_fake_loss=0.379 gan_loss=0.000\n",
            "2/2 [==============================] - 0s 9ms/step\n",
            ">Epoch: 4,Batch: 83/468, disc_real_loss=0.316, disc_fake_loss=0.371 gan_loss=0.000\n",
            "2/2 [==============================] - 0s 5ms/step\n",
            ">Epoch: 4,Batch: 84/468, disc_real_loss=0.483, disc_fake_loss=0.429 gan_loss=0.000\n",
            "2/2 [==============================] - 0s 5ms/step\n",
            ">Epoch: 4,Batch: 85/468, disc_real_loss=0.461, disc_fake_loss=0.458 gan_loss=0.000\n",
            "2/2 [==============================] - 0s 6ms/step\n",
            ">Epoch: 4,Batch: 86/468, disc_real_loss=0.365, disc_fake_loss=0.504 gan_loss=0.000\n",
            "2/2 [==============================] - 0s 4ms/step\n",
            ">Epoch: 4,Batch: 87/468, disc_real_loss=0.318, disc_fake_loss=0.382 gan_loss=0.000\n",
            "2/2 [==============================] - 0s 11ms/step\n",
            ">Epoch: 4,Batch: 88/468, disc_real_loss=0.490, disc_fake_loss=0.319 gan_loss=0.000\n",
            "2/2 [==============================] - 0s 10ms/step\n",
            ">Epoch: 4,Batch: 89/468, disc_real_loss=0.444, disc_fake_loss=0.340 gan_loss=0.000\n",
            "2/2 [==============================] - 0s 4ms/step\n",
            ">Epoch: 4,Batch: 90/468, disc_real_loss=0.269, disc_fake_loss=0.425 gan_loss=0.000\n",
            "2/2 [==============================] - 0s 7ms/step\n",
            ">Epoch: 4,Batch: 91/468, disc_real_loss=0.402, disc_fake_loss=0.389 gan_loss=0.000\n",
            "2/2 [==============================] - 0s 11ms/step\n",
            ">Epoch: 4,Batch: 92/468, disc_real_loss=0.289, disc_fake_loss=0.401 gan_loss=0.000\n",
            "2/2 [==============================] - 0s 5ms/step\n",
            ">Epoch: 4,Batch: 93/468, disc_real_loss=0.493, disc_fake_loss=0.335 gan_loss=0.000\n",
            "2/2 [==============================] - 0s 10ms/step\n",
            ">Epoch: 4,Batch: 94/468, disc_real_loss=0.442, disc_fake_loss=0.376 gan_loss=0.000\n",
            "2/2 [==============================] - 0s 14ms/step\n",
            ">Epoch: 4,Batch: 95/468, disc_real_loss=0.342, disc_fake_loss=0.450 gan_loss=0.000\n",
            "2/2 [==============================] - 0s 12ms/step\n",
            ">Epoch: 4,Batch: 96/468, disc_real_loss=0.410, disc_fake_loss=0.346 gan_loss=0.000\n",
            "2/2 [==============================] - 0s 7ms/step\n",
            ">Epoch: 4,Batch: 97/468, disc_real_loss=0.351, disc_fake_loss=0.354 gan_loss=0.000\n",
            "2/2 [==============================] - 0s 8ms/step\n",
            ">Epoch: 4,Batch: 98/468, disc_real_loss=0.442, disc_fake_loss=0.397 gan_loss=0.000\n",
            "2/2 [==============================] - 0s 9ms/step\n",
            ">Epoch: 4,Batch: 99/468, disc_real_loss=0.451, disc_fake_loss=0.368 gan_loss=0.000\n",
            "2/2 [==============================] - 0s 5ms/step\n",
            ">Epoch: 4,Batch: 100/468, disc_real_loss=0.483, disc_fake_loss=0.409 gan_loss=0.000\n",
            "2/2 [==============================] - 0s 11ms/step\n",
            ">Epoch: 4,Batch: 101/468, disc_real_loss=0.382, disc_fake_loss=0.338 gan_loss=0.000\n",
            "2/2 [==============================] - 0s 14ms/step\n",
            ">Epoch: 4,Batch: 102/468, disc_real_loss=0.404, disc_fake_loss=0.514 gan_loss=0.000\n",
            "2/2 [==============================] - 0s 7ms/step\n",
            ">Epoch: 4,Batch: 103/468, disc_real_loss=0.280, disc_fake_loss=0.467 gan_loss=0.000\n",
            "2/2 [==============================] - 0s 7ms/step\n",
            ">Epoch: 4,Batch: 104/468, disc_real_loss=0.299, disc_fake_loss=0.277 gan_loss=0.000\n",
            "2/2 [==============================] - 0s 9ms/step\n",
            ">Epoch: 4,Batch: 105/468, disc_real_loss=0.464, disc_fake_loss=0.303 gan_loss=0.000\n",
            "2/2 [==============================] - 0s 13ms/step\n",
            ">Epoch: 4,Batch: 106/468, disc_real_loss=0.295, disc_fake_loss=0.293 gan_loss=0.000\n",
            "2/2 [==============================] - 0s 5ms/step\n",
            ">Epoch: 4,Batch: 107/468, disc_real_loss=0.345, disc_fake_loss=0.337 gan_loss=0.000\n",
            "2/2 [==============================] - 0s 6ms/step\n",
            ">Epoch: 4,Batch: 108/468, disc_real_loss=0.336, disc_fake_loss=0.428 gan_loss=0.000\n",
            "2/2 [==============================] - 0s 15ms/step\n",
            ">Epoch: 4,Batch: 109/468, disc_real_loss=0.402, disc_fake_loss=0.395 gan_loss=0.000\n",
            "2/2 [==============================] - 0s 7ms/step\n",
            ">Epoch: 4,Batch: 110/468, disc_real_loss=0.266, disc_fake_loss=0.419 gan_loss=0.000\n",
            "2/2 [==============================] - 0s 5ms/step\n",
            ">Epoch: 4,Batch: 111/468, disc_real_loss=0.343, disc_fake_loss=0.479 gan_loss=0.000\n",
            "2/2 [==============================] - 0s 7ms/step\n",
            ">Epoch: 4,Batch: 112/468, disc_real_loss=0.428, disc_fake_loss=0.244 gan_loss=0.000\n",
            "2/2 [==============================] - 0s 5ms/step\n",
            ">Epoch: 4,Batch: 113/468, disc_real_loss=0.356, disc_fake_loss=0.327 gan_loss=0.000\n",
            "2/2 [==============================] - 0s 11ms/step\n",
            ">Epoch: 4,Batch: 114/468, disc_real_loss=0.358, disc_fake_loss=0.365 gan_loss=0.000\n",
            "2/2 [==============================] - 0s 9ms/step\n",
            ">Epoch: 4,Batch: 115/468, disc_real_loss=0.319, disc_fake_loss=0.354 gan_loss=0.000\n",
            "2/2 [==============================] - 0s 9ms/step\n",
            ">Epoch: 4,Batch: 116/468, disc_real_loss=0.337, disc_fake_loss=0.414 gan_loss=0.000\n",
            "2/2 [==============================] - 0s 18ms/step\n",
            ">Epoch: 4,Batch: 117/468, disc_real_loss=0.459, disc_fake_loss=0.447 gan_loss=0.000\n",
            "2/2 [==============================] - 0s 6ms/step\n",
            ">Epoch: 4,Batch: 118/468, disc_real_loss=0.470, disc_fake_loss=0.305 gan_loss=0.000\n",
            "2/2 [==============================] - 0s 13ms/step\n",
            ">Epoch: 4,Batch: 119/468, disc_real_loss=0.414, disc_fake_loss=0.359 gan_loss=0.000\n",
            "2/2 [==============================] - 0s 6ms/step\n",
            ">Epoch: 4,Batch: 120/468, disc_real_loss=0.367, disc_fake_loss=0.429 gan_loss=0.000\n",
            "2/2 [==============================] - 0s 12ms/step\n",
            ">Epoch: 4,Batch: 121/468, disc_real_loss=0.338, disc_fake_loss=0.418 gan_loss=0.000\n",
            "2/2 [==============================] - 0s 10ms/step\n",
            ">Epoch: 4,Batch: 122/468, disc_real_loss=0.337, disc_fake_loss=0.295 gan_loss=0.000\n",
            "2/2 [==============================] - 0s 9ms/step\n",
            ">Epoch: 4,Batch: 123/468, disc_real_loss=0.381, disc_fake_loss=0.353 gan_loss=0.000\n",
            "2/2 [==============================] - 0s 19ms/step\n",
            ">Epoch: 4,Batch: 124/468, disc_real_loss=0.435, disc_fake_loss=0.501 gan_loss=0.000\n",
            "2/2 [==============================] - 0s 10ms/step\n",
            ">Epoch: 4,Batch: 125/468, disc_real_loss=0.349, disc_fake_loss=0.405 gan_loss=0.000\n",
            "2/2 [==============================] - 0s 7ms/step\n",
            ">Epoch: 4,Batch: 126/468, disc_real_loss=0.392, disc_fake_loss=0.340 gan_loss=0.000\n",
            "2/2 [==============================] - 0s 8ms/step\n",
            ">Epoch: 4,Batch: 127/468, disc_real_loss=0.375, disc_fake_loss=0.430 gan_loss=0.000\n",
            "2/2 [==============================] - 0s 8ms/step\n",
            ">Epoch: 4,Batch: 128/468, disc_real_loss=0.458, disc_fake_loss=0.470 gan_loss=0.000\n",
            "2/2 [==============================] - 0s 9ms/step\n",
            ">Epoch: 4,Batch: 129/468, disc_real_loss=0.381, disc_fake_loss=0.375 gan_loss=0.000\n",
            "2/2 [==============================] - 0s 6ms/step\n",
            ">Epoch: 4,Batch: 130/468, disc_real_loss=0.434, disc_fake_loss=0.401 gan_loss=0.000\n",
            "2/2 [==============================] - 0s 6ms/step\n",
            ">Epoch: 4,Batch: 131/468, disc_real_loss=0.440, disc_fake_loss=0.306 gan_loss=0.000\n",
            "2/2 [==============================] - 0s 8ms/step\n",
            ">Epoch: 4,Batch: 132/468, disc_real_loss=0.343, disc_fake_loss=0.410 gan_loss=0.000\n",
            "2/2 [==============================] - 0s 12ms/step\n",
            ">Epoch: 4,Batch: 133/468, disc_real_loss=0.461, disc_fake_loss=0.474 gan_loss=0.000\n",
            "2/2 [==============================] - 0s 8ms/step\n",
            ">Epoch: 4,Batch: 134/468, disc_real_loss=0.361, disc_fake_loss=0.469 gan_loss=0.000\n",
            "2/2 [==============================] - 0s 8ms/step\n",
            ">Epoch: 4,Batch: 135/468, disc_real_loss=0.375, disc_fake_loss=0.382 gan_loss=0.000\n",
            "2/2 [==============================] - 0s 17ms/step\n",
            ">Epoch: 4,Batch: 136/468, disc_real_loss=0.310, disc_fake_loss=0.337 gan_loss=0.000\n",
            "2/2 [==============================] - 0s 9ms/step\n",
            ">Epoch: 4,Batch: 137/468, disc_real_loss=0.351, disc_fake_loss=0.354 gan_loss=0.000\n",
            "2/2 [==============================] - 0s 10ms/step\n",
            ">Epoch: 4,Batch: 138/468, disc_real_loss=0.409, disc_fake_loss=0.360 gan_loss=0.000\n",
            "2/2 [==============================] - 0s 9ms/step\n",
            ">Epoch: 4,Batch: 139/468, disc_real_loss=0.479, disc_fake_loss=0.366 gan_loss=0.000\n",
            "2/2 [==============================] - 0s 6ms/step\n",
            ">Epoch: 4,Batch: 140/468, disc_real_loss=0.358, disc_fake_loss=0.501 gan_loss=0.000\n",
            "2/2 [==============================] - 0s 13ms/step\n",
            ">Epoch: 4,Batch: 141/468, disc_real_loss=0.340, disc_fake_loss=0.377 gan_loss=0.000\n",
            "2/2 [==============================] - 0s 7ms/step\n",
            ">Epoch: 4,Batch: 142/468, disc_real_loss=0.383, disc_fake_loss=0.405 gan_loss=0.000\n",
            "2/2 [==============================] - 0s 8ms/step\n",
            ">Epoch: 4,Batch: 143/468, disc_real_loss=0.513, disc_fake_loss=0.311 gan_loss=0.000\n",
            "2/2 [==============================] - 0s 5ms/step\n",
            ">Epoch: 4,Batch: 144/468, disc_real_loss=0.298, disc_fake_loss=0.353 gan_loss=0.000\n",
            "2/2 [==============================] - 0s 8ms/step\n",
            ">Epoch: 4,Batch: 145/468, disc_real_loss=0.385, disc_fake_loss=0.484 gan_loss=0.000\n",
            "2/2 [==============================] - 0s 6ms/step\n",
            ">Epoch: 4,Batch: 146/468, disc_real_loss=0.406, disc_fake_loss=0.336 gan_loss=0.000\n",
            "2/2 [==============================] - 0s 4ms/step\n",
            ">Epoch: 4,Batch: 147/468, disc_real_loss=0.440, disc_fake_loss=0.409 gan_loss=0.000\n",
            "2/2 [==============================] - 0s 7ms/step\n",
            ">Epoch: 4,Batch: 148/468, disc_real_loss=0.297, disc_fake_loss=0.415 gan_loss=0.000\n",
            "2/2 [==============================] - 0s 12ms/step\n",
            ">Epoch: 4,Batch: 149/468, disc_real_loss=0.337, disc_fake_loss=0.335 gan_loss=0.000\n",
            "2/2 [==============================] - 0s 7ms/step\n",
            ">Epoch: 4,Batch: 150/468, disc_real_loss=0.399, disc_fake_loss=0.300 gan_loss=0.000\n",
            "2/2 [==============================] - 0s 13ms/step\n",
            ">Epoch: 4,Batch: 151/468, disc_real_loss=0.325, disc_fake_loss=0.407 gan_loss=0.000\n",
            "2/2 [==============================] - 0s 7ms/step\n",
            ">Epoch: 4,Batch: 152/468, disc_real_loss=0.369, disc_fake_loss=0.332 gan_loss=0.000\n",
            "2/2 [==============================] - 0s 7ms/step\n",
            ">Epoch: 4,Batch: 153/468, disc_real_loss=0.336, disc_fake_loss=0.408 gan_loss=0.000\n",
            "2/2 [==============================] - 0s 11ms/step\n",
            ">Epoch: 4,Batch: 154/468, disc_real_loss=0.395, disc_fake_loss=0.400 gan_loss=0.000\n",
            "2/2 [==============================] - 0s 5ms/step\n",
            ">Epoch: 4,Batch: 155/468, disc_real_loss=0.375, disc_fake_loss=0.369 gan_loss=0.000\n",
            "2/2 [==============================] - 0s 4ms/step\n",
            ">Epoch: 4,Batch: 156/468, disc_real_loss=0.349, disc_fake_loss=0.378 gan_loss=0.000\n",
            "2/2 [==============================] - 0s 6ms/step\n",
            ">Epoch: 4,Batch: 157/468, disc_real_loss=0.308, disc_fake_loss=0.327 gan_loss=0.000\n",
            "2/2 [==============================] - 0s 4ms/step\n",
            ">Epoch: 4,Batch: 158/468, disc_real_loss=0.353, disc_fake_loss=0.341 gan_loss=0.000\n",
            "2/2 [==============================] - 0s 4ms/step\n",
            ">Epoch: 4,Batch: 159/468, disc_real_loss=0.426, disc_fake_loss=0.489 gan_loss=0.000\n",
            "2/2 [==============================] - 0s 11ms/step\n",
            ">Epoch: 4,Batch: 160/468, disc_real_loss=0.340, disc_fake_loss=0.337 gan_loss=0.000\n",
            "2/2 [==============================] - 0s 13ms/step\n",
            ">Epoch: 4,Batch: 161/468, disc_real_loss=0.427, disc_fake_loss=0.340 gan_loss=0.000\n",
            "2/2 [==============================] - 0s 16ms/step\n",
            ">Epoch: 4,Batch: 162/468, disc_real_loss=0.417, disc_fake_loss=0.390 gan_loss=0.000\n",
            "2/2 [==============================] - 0s 11ms/step\n",
            ">Epoch: 4,Batch: 163/468, disc_real_loss=0.331, disc_fake_loss=0.426 gan_loss=0.000\n",
            "2/2 [==============================] - 0s 14ms/step\n",
            ">Epoch: 4,Batch: 164/468, disc_real_loss=0.427, disc_fake_loss=0.366 gan_loss=0.000\n",
            "2/2 [==============================] - 0s 11ms/step\n",
            ">Epoch: 4,Batch: 165/468, disc_real_loss=0.449, disc_fake_loss=0.405 gan_loss=0.000\n",
            "2/2 [==============================] - 0s 11ms/step\n",
            ">Epoch: 4,Batch: 166/468, disc_real_loss=0.381, disc_fake_loss=0.404 gan_loss=0.000\n",
            "2/2 [==============================] - 0s 7ms/step\n",
            ">Epoch: 4,Batch: 167/468, disc_real_loss=0.382, disc_fake_loss=0.336 gan_loss=0.000\n",
            "2/2 [==============================] - 0s 11ms/step\n",
            ">Epoch: 4,Batch: 168/468, disc_real_loss=0.317, disc_fake_loss=0.441 gan_loss=0.000\n",
            "2/2 [==============================] - 0s 7ms/step\n",
            ">Epoch: 4,Batch: 169/468, disc_real_loss=0.365, disc_fake_loss=0.376 gan_loss=0.000\n",
            "2/2 [==============================] - 0s 10ms/step\n",
            ">Epoch: 4,Batch: 170/468, disc_real_loss=0.294, disc_fake_loss=0.381 gan_loss=0.000\n",
            "2/2 [==============================] - 0s 9ms/step\n",
            ">Epoch: 4,Batch: 171/468, disc_real_loss=0.408, disc_fake_loss=0.337 gan_loss=0.000\n",
            "2/2 [==============================] - 0s 11ms/step\n",
            ">Epoch: 4,Batch: 172/468, disc_real_loss=0.429, disc_fake_loss=0.382 gan_loss=0.000\n",
            "2/2 [==============================] - 0s 10ms/step\n",
            ">Epoch: 4,Batch: 173/468, disc_real_loss=0.435, disc_fake_loss=0.379 gan_loss=0.000\n",
            "2/2 [==============================] - 0s 4ms/step\n",
            ">Epoch: 4,Batch: 174/468, disc_real_loss=0.347, disc_fake_loss=0.329 gan_loss=0.000\n",
            "2/2 [==============================] - 0s 5ms/step\n",
            ">Epoch: 4,Batch: 175/468, disc_real_loss=0.307, disc_fake_loss=0.460 gan_loss=0.000\n",
            "2/2 [==============================] - 0s 11ms/step\n",
            ">Epoch: 4,Batch: 176/468, disc_real_loss=0.466, disc_fake_loss=0.429 gan_loss=0.000\n",
            "2/2 [==============================] - 0s 6ms/step\n",
            ">Epoch: 4,Batch: 177/468, disc_real_loss=0.326, disc_fake_loss=0.357 gan_loss=0.000\n",
            "2/2 [==============================] - 0s 6ms/step\n",
            ">Epoch: 4,Batch: 178/468, disc_real_loss=0.436, disc_fake_loss=0.299 gan_loss=0.000\n",
            "2/2 [==============================] - 0s 11ms/step\n",
            ">Epoch: 4,Batch: 179/468, disc_real_loss=0.376, disc_fake_loss=0.401 gan_loss=0.000\n",
            "2/2 [==============================] - 0s 14ms/step\n",
            ">Epoch: 4,Batch: 180/468, disc_real_loss=0.371, disc_fake_loss=0.424 gan_loss=0.000\n",
            "2/2 [==============================] - 0s 7ms/step\n",
            ">Epoch: 4,Batch: 181/468, disc_real_loss=0.331, disc_fake_loss=0.432 gan_loss=0.000\n",
            "2/2 [==============================] - 0s 7ms/step\n",
            ">Epoch: 4,Batch: 182/468, disc_real_loss=0.446, disc_fake_loss=0.364 gan_loss=0.000\n",
            "2/2 [==============================] - 0s 6ms/step\n",
            ">Epoch: 4,Batch: 183/468, disc_real_loss=0.365, disc_fake_loss=0.410 gan_loss=0.000\n",
            "2/2 [==============================] - 0s 8ms/step\n",
            ">Epoch: 4,Batch: 184/468, disc_real_loss=0.365, disc_fake_loss=0.382 gan_loss=0.000\n",
            "2/2 [==============================] - 0s 7ms/step\n",
            ">Epoch: 4,Batch: 185/468, disc_real_loss=0.338, disc_fake_loss=0.374 gan_loss=0.000\n",
            "2/2 [==============================] - 0s 5ms/step\n",
            ">Epoch: 4,Batch: 186/468, disc_real_loss=0.377, disc_fake_loss=0.425 gan_loss=0.000\n",
            "2/2 [==============================] - 0s 4ms/step\n",
            ">Epoch: 4,Batch: 187/468, disc_real_loss=0.468, disc_fake_loss=0.343 gan_loss=0.000\n",
            "2/2 [==============================] - 0s 5ms/step\n",
            ">Epoch: 4,Batch: 188/468, disc_real_loss=0.371, disc_fake_loss=0.380 gan_loss=0.000\n",
            "2/2 [==============================] - 0s 6ms/step\n",
            ">Epoch: 4,Batch: 189/468, disc_real_loss=0.361, disc_fake_loss=0.360 gan_loss=0.000\n",
            "2/2 [==============================] - 0s 10ms/step\n",
            ">Epoch: 4,Batch: 190/468, disc_real_loss=0.341, disc_fake_loss=0.336 gan_loss=0.000\n",
            "2/2 [==============================] - 0s 15ms/step\n",
            ">Epoch: 4,Batch: 191/468, disc_real_loss=0.372, disc_fake_loss=0.435 gan_loss=0.000\n",
            "2/2 [==============================] - 0s 14ms/step\n",
            ">Epoch: 4,Batch: 192/468, disc_real_loss=0.304, disc_fake_loss=0.337 gan_loss=0.000\n",
            "2/2 [==============================] - 0s 5ms/step\n",
            ">Epoch: 4,Batch: 193/468, disc_real_loss=0.429, disc_fake_loss=0.375 gan_loss=0.000\n",
            "2/2 [==============================] - 0s 7ms/step\n",
            ">Epoch: 4,Batch: 194/468, disc_real_loss=0.349, disc_fake_loss=0.340 gan_loss=0.000\n",
            "2/2 [==============================] - 0s 9ms/step\n",
            ">Epoch: 4,Batch: 195/468, disc_real_loss=0.381, disc_fake_loss=0.367 gan_loss=0.000\n",
            "2/2 [==============================] - 0s 6ms/step\n",
            ">Epoch: 4,Batch: 196/468, disc_real_loss=0.345, disc_fake_loss=0.335 gan_loss=0.000\n",
            "2/2 [==============================] - 0s 10ms/step\n",
            ">Epoch: 4,Batch: 197/468, disc_real_loss=0.354, disc_fake_loss=0.371 gan_loss=0.000\n",
            "2/2 [==============================] - 0s 9ms/step\n",
            ">Epoch: 4,Batch: 198/468, disc_real_loss=0.314, disc_fake_loss=0.326 gan_loss=0.000\n",
            "2/2 [==============================] - 0s 8ms/step\n",
            ">Epoch: 4,Batch: 199/468, disc_real_loss=0.411, disc_fake_loss=0.381 gan_loss=0.000\n",
            "2/2 [==============================] - 0s 7ms/step\n",
            ">Epoch: 4,Batch: 200/468, disc_real_loss=0.347, disc_fake_loss=0.426 gan_loss=0.000\n",
            "2/2 [==============================] - 0s 7ms/step\n",
            ">Epoch: 4,Batch: 201/468, disc_real_loss=0.390, disc_fake_loss=0.362 gan_loss=0.000\n",
            "2/2 [==============================] - 0s 15ms/step\n",
            ">Epoch: 4,Batch: 202/468, disc_real_loss=0.508, disc_fake_loss=0.333 gan_loss=0.000\n",
            "2/2 [==============================] - 0s 9ms/step\n",
            ">Epoch: 4,Batch: 203/468, disc_real_loss=0.291, disc_fake_loss=0.407 gan_loss=0.000\n",
            "2/2 [==============================] - 0s 6ms/step\n",
            ">Epoch: 4,Batch: 204/468, disc_real_loss=0.442, disc_fake_loss=0.469 gan_loss=0.000\n",
            "2/2 [==============================] - 0s 6ms/step\n",
            ">Epoch: 4,Batch: 205/468, disc_real_loss=0.375, disc_fake_loss=0.260 gan_loss=0.000\n",
            "2/2 [==============================] - 0s 11ms/step\n",
            ">Epoch: 4,Batch: 206/468, disc_real_loss=0.407, disc_fake_loss=0.392 gan_loss=0.000\n",
            "2/2 [==============================] - 0s 16ms/step\n",
            ">Epoch: 4,Batch: 207/468, disc_real_loss=0.414, disc_fake_loss=0.487 gan_loss=0.000\n",
            "2/2 [==============================] - 0s 6ms/step\n",
            ">Epoch: 4,Batch: 208/468, disc_real_loss=0.278, disc_fake_loss=0.417 gan_loss=0.000\n",
            "2/2 [==============================] - 0s 5ms/step\n",
            ">Epoch: 4,Batch: 209/468, disc_real_loss=0.477, disc_fake_loss=0.348 gan_loss=0.000\n",
            "2/2 [==============================] - 0s 8ms/step\n",
            ">Epoch: 4,Batch: 210/468, disc_real_loss=0.305, disc_fake_loss=0.377 gan_loss=0.000\n",
            "2/2 [==============================] - 0s 7ms/step\n",
            ">Epoch: 4,Batch: 211/468, disc_real_loss=0.438, disc_fake_loss=0.354 gan_loss=0.000\n",
            "2/2 [==============================] - 0s 6ms/step\n",
            ">Epoch: 4,Batch: 212/468, disc_real_loss=0.385, disc_fake_loss=0.356 gan_loss=0.000\n",
            "2/2 [==============================] - 0s 15ms/step\n",
            ">Epoch: 4,Batch: 213/468, disc_real_loss=0.428, disc_fake_loss=0.295 gan_loss=0.000\n",
            "2/2 [==============================] - 0s 11ms/step\n",
            ">Epoch: 4,Batch: 214/468, disc_real_loss=0.341, disc_fake_loss=0.287 gan_loss=0.000\n",
            "2/2 [==============================] - 0s 5ms/step\n",
            ">Epoch: 4,Batch: 215/468, disc_real_loss=0.320, disc_fake_loss=0.462 gan_loss=0.000\n",
            "2/2 [==============================] - 0s 6ms/step\n",
            ">Epoch: 4,Batch: 216/468, disc_real_loss=0.337, disc_fake_loss=0.365 gan_loss=0.000\n",
            "2/2 [==============================] - 0s 9ms/step\n",
            ">Epoch: 4,Batch: 217/468, disc_real_loss=0.337, disc_fake_loss=0.352 gan_loss=0.000\n",
            "2/2 [==============================] - 0s 6ms/step\n",
            ">Epoch: 4,Batch: 218/468, disc_real_loss=0.474, disc_fake_loss=0.466 gan_loss=0.000\n",
            "2/2 [==============================] - 0s 14ms/step\n",
            ">Epoch: 4,Batch: 219/468, disc_real_loss=0.317, disc_fake_loss=0.386 gan_loss=0.000\n",
            "2/2 [==============================] - 0s 4ms/step\n",
            ">Epoch: 4,Batch: 220/468, disc_real_loss=0.388, disc_fake_loss=0.335 gan_loss=0.000\n",
            "2/2 [==============================] - 0s 5ms/step\n",
            ">Epoch: 4,Batch: 221/468, disc_real_loss=0.354, disc_fake_loss=0.384 gan_loss=0.000\n",
            "2/2 [==============================] - 0s 6ms/step\n",
            ">Epoch: 4,Batch: 222/468, disc_real_loss=0.336, disc_fake_loss=0.275 gan_loss=0.000\n",
            "2/2 [==============================] - 0s 6ms/step\n",
            ">Epoch: 4,Batch: 223/468, disc_real_loss=0.456, disc_fake_loss=0.365 gan_loss=0.000\n",
            "2/2 [==============================] - 0s 8ms/step\n",
            ">Epoch: 4,Batch: 224/468, disc_real_loss=0.359, disc_fake_loss=0.432 gan_loss=0.000\n",
            "2/2 [==============================] - 0s 13ms/step\n",
            ">Epoch: 4,Batch: 225/468, disc_real_loss=0.338, disc_fake_loss=0.294 gan_loss=0.000\n",
            "2/2 [==============================] - 0s 15ms/step\n",
            ">Epoch: 4,Batch: 226/468, disc_real_loss=0.362, disc_fake_loss=0.311 gan_loss=0.000\n",
            "2/2 [==============================] - 0s 7ms/step\n",
            ">Epoch: 4,Batch: 227/468, disc_real_loss=0.385, disc_fake_loss=0.388 gan_loss=0.000\n",
            "2/2 [==============================] - 0s 10ms/step\n",
            ">Epoch: 4,Batch: 228/468, disc_real_loss=0.345, disc_fake_loss=0.393 gan_loss=0.000\n",
            "2/2 [==============================] - 0s 10ms/step\n",
            ">Epoch: 4,Batch: 229/468, disc_real_loss=0.314, disc_fake_loss=0.358 gan_loss=0.000\n",
            "2/2 [==============================] - 0s 6ms/step\n",
            ">Epoch: 4,Batch: 230/468, disc_real_loss=0.392, disc_fake_loss=0.352 gan_loss=0.000\n",
            "2/2 [==============================] - 0s 11ms/step\n",
            ">Epoch: 4,Batch: 231/468, disc_real_loss=0.369, disc_fake_loss=0.478 gan_loss=0.000\n",
            "2/2 [==============================] - 0s 10ms/step\n",
            ">Epoch: 4,Batch: 232/468, disc_real_loss=0.392, disc_fake_loss=0.343 gan_loss=0.000\n",
            "2/2 [==============================] - 0s 7ms/step\n",
            ">Epoch: 4,Batch: 233/468, disc_real_loss=0.388, disc_fake_loss=0.332 gan_loss=0.000\n",
            "2/2 [==============================] - 0s 4ms/step\n",
            ">Epoch: 4,Batch: 234/468, disc_real_loss=0.320, disc_fake_loss=0.337 gan_loss=0.000\n",
            "2/2 [==============================] - 0s 5ms/step\n",
            ">Epoch: 4,Batch: 235/468, disc_real_loss=0.367, disc_fake_loss=0.286 gan_loss=0.000\n",
            "2/2 [==============================] - 0s 6ms/step\n",
            ">Epoch: 4,Batch: 236/468, disc_real_loss=0.442, disc_fake_loss=0.395 gan_loss=0.000\n",
            "2/2 [==============================] - 0s 7ms/step\n",
            ">Epoch: 4,Batch: 237/468, disc_real_loss=0.315, disc_fake_loss=0.498 gan_loss=0.000\n",
            "2/2 [==============================] - 0s 8ms/step\n",
            ">Epoch: 4,Batch: 238/468, disc_real_loss=0.408, disc_fake_loss=0.325 gan_loss=0.000\n",
            "2/2 [==============================] - 0s 9ms/step\n",
            ">Epoch: 4,Batch: 239/468, disc_real_loss=0.360, disc_fake_loss=0.437 gan_loss=0.000\n",
            "2/2 [==============================] - 0s 8ms/step\n",
            ">Epoch: 4,Batch: 240/468, disc_real_loss=0.391, disc_fake_loss=0.318 gan_loss=0.000\n",
            "2/2 [==============================] - 0s 8ms/step\n",
            ">Epoch: 4,Batch: 241/468, disc_real_loss=0.332, disc_fake_loss=0.374 gan_loss=0.000\n",
            "2/2 [==============================] - 0s 6ms/step\n",
            ">Epoch: 4,Batch: 242/468, disc_real_loss=0.361, disc_fake_loss=0.396 gan_loss=0.000\n",
            "2/2 [==============================] - 0s 9ms/step\n",
            ">Epoch: 4,Batch: 243/468, disc_real_loss=0.399, disc_fake_loss=0.355 gan_loss=0.000\n",
            "2/2 [==============================] - 0s 15ms/step\n",
            ">Epoch: 4,Batch: 244/468, disc_real_loss=0.270, disc_fake_loss=0.316 gan_loss=0.000\n",
            "2/2 [==============================] - 0s 7ms/step\n",
            ">Epoch: 4,Batch: 245/468, disc_real_loss=0.413, disc_fake_loss=0.353 gan_loss=0.000\n",
            "2/2 [==============================] - 0s 8ms/step\n",
            ">Epoch: 4,Batch: 246/468, disc_real_loss=0.376, disc_fake_loss=0.379 gan_loss=0.000\n",
            "2/2 [==============================] - 0s 11ms/step\n",
            ">Epoch: 4,Batch: 247/468, disc_real_loss=0.401, disc_fake_loss=0.501 gan_loss=0.000\n",
            "2/2 [==============================] - 0s 9ms/step\n",
            ">Epoch: 4,Batch: 248/468, disc_real_loss=0.284, disc_fake_loss=0.455 gan_loss=0.000\n",
            "2/2 [==============================] - 0s 7ms/step\n",
            ">Epoch: 4,Batch: 249/468, disc_real_loss=0.476, disc_fake_loss=0.335 gan_loss=0.000\n",
            "2/2 [==============================] - 0s 6ms/step\n",
            ">Epoch: 4,Batch: 250/468, disc_real_loss=0.450, disc_fake_loss=0.287 gan_loss=0.000\n",
            "2/2 [==============================] - 0s 8ms/step\n",
            ">Epoch: 4,Batch: 251/468, disc_real_loss=0.329, disc_fake_loss=0.471 gan_loss=0.000\n",
            "2/2 [==============================] - 0s 10ms/step\n",
            ">Epoch: 4,Batch: 252/468, disc_real_loss=0.301, disc_fake_loss=0.414 gan_loss=0.000\n",
            "2/2 [==============================] - 0s 8ms/step\n",
            ">Epoch: 4,Batch: 253/468, disc_real_loss=0.390, disc_fake_loss=0.414 gan_loss=0.000\n",
            "2/2 [==============================] - 0s 5ms/step\n",
            ">Epoch: 4,Batch: 254/468, disc_real_loss=0.382, disc_fake_loss=0.254 gan_loss=0.000\n",
            "2/2 [==============================] - 0s 9ms/step\n",
            ">Epoch: 4,Batch: 255/468, disc_real_loss=0.375, disc_fake_loss=0.374 gan_loss=0.000\n",
            "2/2 [==============================] - 0s 5ms/step\n",
            ">Epoch: 4,Batch: 256/468, disc_real_loss=0.523, disc_fake_loss=0.444 gan_loss=0.000\n",
            "2/2 [==============================] - 0s 13ms/step\n",
            ">Epoch: 4,Batch: 257/468, disc_real_loss=0.364, disc_fake_loss=0.408 gan_loss=0.000\n",
            "2/2 [==============================] - 0s 11ms/step\n",
            ">Epoch: 4,Batch: 258/468, disc_real_loss=0.253, disc_fake_loss=0.406 gan_loss=0.000\n",
            "2/2 [==============================] - 0s 15ms/step\n",
            ">Epoch: 4,Batch: 259/468, disc_real_loss=0.397, disc_fake_loss=0.250 gan_loss=0.000\n",
            "2/2 [==============================] - 0s 8ms/step\n",
            ">Epoch: 4,Batch: 260/468, disc_real_loss=0.451, disc_fake_loss=0.404 gan_loss=0.000\n",
            "2/2 [==============================] - 0s 8ms/step\n",
            ">Epoch: 4,Batch: 261/468, disc_real_loss=0.325, disc_fake_loss=0.373 gan_loss=0.000\n",
            "2/2 [==============================] - 0s 9ms/step\n",
            ">Epoch: 4,Batch: 262/468, disc_real_loss=0.376, disc_fake_loss=0.372 gan_loss=0.000\n",
            "2/2 [==============================] - 0s 9ms/step\n",
            ">Epoch: 4,Batch: 263/468, disc_real_loss=0.414, disc_fake_loss=0.527 gan_loss=0.000\n",
            "2/2 [==============================] - 0s 7ms/step\n",
            ">Epoch: 4,Batch: 264/468, disc_real_loss=0.391, disc_fake_loss=0.435 gan_loss=0.000\n",
            "2/2 [==============================] - 0s 12ms/step\n",
            ">Epoch: 4,Batch: 265/468, disc_real_loss=0.487, disc_fake_loss=0.389 gan_loss=0.000\n",
            "2/2 [==============================] - 0s 11ms/step\n",
            ">Epoch: 4,Batch: 266/468, disc_real_loss=0.298, disc_fake_loss=0.328 gan_loss=0.000\n",
            "2/2 [==============================] - 0s 4ms/step\n",
            ">Epoch: 4,Batch: 267/468, disc_real_loss=0.357, disc_fake_loss=0.317 gan_loss=0.000\n",
            "2/2 [==============================] - 0s 11ms/step\n",
            ">Epoch: 4,Batch: 268/468, disc_real_loss=0.363, disc_fake_loss=0.366 gan_loss=0.000\n",
            "2/2 [==============================] - 0s 9ms/step\n",
            ">Epoch: 4,Batch: 269/468, disc_real_loss=0.367, disc_fake_loss=0.316 gan_loss=0.000\n",
            "2/2 [==============================] - 0s 11ms/step\n",
            ">Epoch: 4,Batch: 270/468, disc_real_loss=0.331, disc_fake_loss=0.320 gan_loss=0.000\n",
            "2/2 [==============================] - 0s 5ms/step\n",
            ">Epoch: 4,Batch: 271/468, disc_real_loss=0.367, disc_fake_loss=0.428 gan_loss=0.000\n",
            "2/2 [==============================] - 0s 5ms/step\n",
            ">Epoch: 4,Batch: 272/468, disc_real_loss=0.340, disc_fake_loss=0.340 gan_loss=0.000\n",
            "2/2 [==============================] - 0s 13ms/step\n",
            ">Epoch: 4,Batch: 273/468, disc_real_loss=0.370, disc_fake_loss=0.244 gan_loss=0.000\n",
            "2/2 [==============================] - 0s 5ms/step\n",
            ">Epoch: 4,Batch: 274/468, disc_real_loss=0.404, disc_fake_loss=0.400 gan_loss=0.000\n",
            "2/2 [==============================] - 0s 9ms/step\n",
            ">Epoch: 4,Batch: 275/468, disc_real_loss=0.276, disc_fake_loss=0.458 gan_loss=0.000\n",
            "2/2 [==============================] - 0s 11ms/step\n",
            ">Epoch: 4,Batch: 276/468, disc_real_loss=0.294, disc_fake_loss=0.349 gan_loss=0.000\n",
            "2/2 [==============================] - 0s 5ms/step\n",
            ">Epoch: 4,Batch: 277/468, disc_real_loss=0.462, disc_fake_loss=0.299 gan_loss=0.000\n",
            "2/2 [==============================] - 0s 7ms/step\n",
            ">Epoch: 4,Batch: 278/468, disc_real_loss=0.397, disc_fake_loss=0.235 gan_loss=0.000\n",
            "2/2 [==============================] - 0s 4ms/step\n",
            ">Epoch: 4,Batch: 279/468, disc_real_loss=0.347, disc_fake_loss=0.551 gan_loss=0.000\n",
            "2/2 [==============================] - 0s 6ms/step\n",
            ">Epoch: 4,Batch: 280/468, disc_real_loss=0.315, disc_fake_loss=0.404 gan_loss=0.000\n",
            "2/2 [==============================] - 0s 14ms/step\n",
            ">Epoch: 4,Batch: 281/468, disc_real_loss=0.357, disc_fake_loss=0.340 gan_loss=0.000\n",
            "2/2 [==============================] - 0s 4ms/step\n",
            ">Epoch: 4,Batch: 282/468, disc_real_loss=0.378, disc_fake_loss=0.413 gan_loss=0.000\n",
            "2/2 [==============================] - 0s 4ms/step\n",
            ">Epoch: 4,Batch: 283/468, disc_real_loss=0.432, disc_fake_loss=0.426 gan_loss=0.000\n",
            "2/2 [==============================] - 0s 9ms/step\n",
            ">Epoch: 4,Batch: 284/468, disc_real_loss=0.348, disc_fake_loss=0.448 gan_loss=0.000\n",
            "2/2 [==============================] - 0s 8ms/step\n",
            ">Epoch: 4,Batch: 285/468, disc_real_loss=0.485, disc_fake_loss=0.328 gan_loss=0.000\n",
            "2/2 [==============================] - 0s 6ms/step\n",
            ">Epoch: 4,Batch: 286/468, disc_real_loss=0.376, disc_fake_loss=0.464 gan_loss=0.000\n",
            "2/2 [==============================] - 0s 9ms/step\n",
            ">Epoch: 4,Batch: 287/468, disc_real_loss=0.439, disc_fake_loss=0.348 gan_loss=0.000\n",
            "2/2 [==============================] - 0s 15ms/step\n",
            ">Epoch: 4,Batch: 288/468, disc_real_loss=0.381, disc_fake_loss=0.358 gan_loss=0.000\n",
            "2/2 [==============================] - 0s 8ms/step\n",
            ">Epoch: 4,Batch: 289/468, disc_real_loss=0.298, disc_fake_loss=0.356 gan_loss=0.000\n",
            "2/2 [==============================] - 0s 8ms/step\n",
            ">Epoch: 4,Batch: 290/468, disc_real_loss=0.384, disc_fake_loss=0.316 gan_loss=0.000\n",
            "2/2 [==============================] - 0s 7ms/step\n",
            ">Epoch: 4,Batch: 291/468, disc_real_loss=0.287, disc_fake_loss=0.372 gan_loss=0.000\n",
            "2/2 [==============================] - 0s 12ms/step\n",
            ">Epoch: 4,Batch: 292/468, disc_real_loss=0.343, disc_fake_loss=0.301 gan_loss=0.000\n",
            "2/2 [==============================] - 0s 8ms/step\n",
            ">Epoch: 4,Batch: 293/468, disc_real_loss=0.359, disc_fake_loss=0.376 gan_loss=0.000\n",
            "2/2 [==============================] - 0s 8ms/step\n",
            ">Epoch: 4,Batch: 294/468, disc_real_loss=0.448, disc_fake_loss=0.280 gan_loss=0.000\n",
            "2/2 [==============================] - 0s 9ms/step\n",
            ">Epoch: 4,Batch: 295/468, disc_real_loss=0.461, disc_fake_loss=0.397 gan_loss=0.000\n",
            "2/2 [==============================] - 0s 13ms/step\n",
            ">Epoch: 4,Batch: 296/468, disc_real_loss=0.250, disc_fake_loss=0.402 gan_loss=0.000\n",
            "2/2 [==============================] - 0s 18ms/step\n",
            ">Epoch: 4,Batch: 297/468, disc_real_loss=0.328, disc_fake_loss=0.381 gan_loss=0.000\n",
            "2/2 [==============================] - 0s 14ms/step\n",
            ">Epoch: 4,Batch: 298/468, disc_real_loss=0.265, disc_fake_loss=0.302 gan_loss=0.000\n",
            "2/2 [==============================] - 0s 6ms/step\n",
            ">Epoch: 4,Batch: 299/468, disc_real_loss=0.291, disc_fake_loss=0.331 gan_loss=0.000\n",
            "2/2 [==============================] - 0s 9ms/step\n",
            ">Epoch: 4,Batch: 300/468, disc_real_loss=0.435, disc_fake_loss=0.342 gan_loss=0.000\n",
            "2/2 [==============================] - 0s 9ms/step\n",
            ">Epoch: 4,Batch: 301/468, disc_real_loss=0.387, disc_fake_loss=0.429 gan_loss=0.000\n",
            "2/2 [==============================] - 0s 13ms/step\n",
            ">Epoch: 4,Batch: 302/468, disc_real_loss=0.360, disc_fake_loss=0.368 gan_loss=0.000\n",
            "2/2 [==============================] - 0s 9ms/step\n",
            ">Epoch: 4,Batch: 303/468, disc_real_loss=0.345, disc_fake_loss=0.324 gan_loss=0.000\n",
            "2/2 [==============================] - 0s 7ms/step\n",
            ">Epoch: 4,Batch: 304/468, disc_real_loss=0.341, disc_fake_loss=0.341 gan_loss=0.000\n",
            "2/2 [==============================] - 0s 9ms/step\n",
            ">Epoch: 4,Batch: 305/468, disc_real_loss=0.430, disc_fake_loss=0.277 gan_loss=0.000\n",
            "2/2 [==============================] - 0s 6ms/step\n",
            ">Epoch: 4,Batch: 306/468, disc_real_loss=0.304, disc_fake_loss=0.391 gan_loss=0.000\n",
            "2/2 [==============================] - 0s 9ms/step\n",
            ">Epoch: 4,Batch: 307/468, disc_real_loss=0.363, disc_fake_loss=0.325 gan_loss=0.000\n",
            "2/2 [==============================] - 0s 10ms/step\n",
            ">Epoch: 4,Batch: 308/468, disc_real_loss=0.329, disc_fake_loss=0.450 gan_loss=0.000\n",
            "2/2 [==============================] - 0s 4ms/step\n",
            ">Epoch: 4,Batch: 309/468, disc_real_loss=0.244, disc_fake_loss=0.453 gan_loss=0.000\n",
            "2/2 [==============================] - 0s 11ms/step\n",
            ">Epoch: 4,Batch: 310/468, disc_real_loss=0.302, disc_fake_loss=0.346 gan_loss=0.000\n",
            "2/2 [==============================] - 0s 9ms/step\n",
            ">Epoch: 4,Batch: 311/468, disc_real_loss=0.434, disc_fake_loss=0.290 gan_loss=0.000\n",
            "2/2 [==============================] - 0s 8ms/step\n",
            ">Epoch: 4,Batch: 312/468, disc_real_loss=0.348, disc_fake_loss=0.382 gan_loss=0.000\n",
            "2/2 [==============================] - 0s 5ms/step\n",
            ">Epoch: 4,Batch: 313/468, disc_real_loss=0.410, disc_fake_loss=0.350 gan_loss=0.000\n",
            "2/2 [==============================] - 0s 13ms/step\n",
            ">Epoch: 4,Batch: 314/468, disc_real_loss=0.401, disc_fake_loss=0.396 gan_loss=0.000\n",
            "2/2 [==============================] - 0s 6ms/step\n",
            ">Epoch: 4,Batch: 315/468, disc_real_loss=0.363, disc_fake_loss=0.479 gan_loss=0.000\n",
            "2/2 [==============================] - 0s 14ms/step\n",
            ">Epoch: 4,Batch: 316/468, disc_real_loss=0.404, disc_fake_loss=0.377 gan_loss=0.000\n",
            "2/2 [==============================] - 0s 6ms/step\n",
            ">Epoch: 4,Batch: 317/468, disc_real_loss=0.401, disc_fake_loss=0.384 gan_loss=0.000\n",
            "2/2 [==============================] - 0s 9ms/step\n",
            ">Epoch: 4,Batch: 318/468, disc_real_loss=0.333, disc_fake_loss=0.407 gan_loss=0.000\n",
            "2/2 [==============================] - 0s 8ms/step\n",
            ">Epoch: 4,Batch: 319/468, disc_real_loss=0.418, disc_fake_loss=0.318 gan_loss=0.000\n",
            "2/2 [==============================] - 0s 13ms/step\n",
            ">Epoch: 4,Batch: 320/468, disc_real_loss=0.429, disc_fake_loss=0.315 gan_loss=0.000\n",
            "2/2 [==============================] - 0s 16ms/step\n",
            ">Epoch: 4,Batch: 321/468, disc_real_loss=0.351, disc_fake_loss=0.393 gan_loss=0.000\n",
            "2/2 [==============================] - 0s 5ms/step\n",
            ">Epoch: 4,Batch: 322/468, disc_real_loss=0.300, disc_fake_loss=0.429 gan_loss=0.000\n",
            "2/2 [==============================] - 0s 15ms/step\n",
            ">Epoch: 4,Batch: 323/468, disc_real_loss=0.349, disc_fake_loss=0.319 gan_loss=0.000\n",
            "2/2 [==============================] - 0s 13ms/step\n",
            ">Epoch: 4,Batch: 324/468, disc_real_loss=0.294, disc_fake_loss=0.325 gan_loss=0.000\n",
            "2/2 [==============================] - 0s 10ms/step\n",
            ">Epoch: 4,Batch: 325/468, disc_real_loss=0.356, disc_fake_loss=0.345 gan_loss=0.000\n",
            "2/2 [==============================] - 0s 5ms/step\n",
            ">Epoch: 4,Batch: 326/468, disc_real_loss=0.359, disc_fake_loss=0.301 gan_loss=0.000\n",
            "2/2 [==============================] - 0s 8ms/step\n",
            ">Epoch: 4,Batch: 327/468, disc_real_loss=0.309, disc_fake_loss=0.328 gan_loss=0.000\n",
            "2/2 [==============================] - 0s 9ms/step\n",
            ">Epoch: 4,Batch: 328/468, disc_real_loss=0.278, disc_fake_loss=0.281 gan_loss=0.000\n",
            "2/2 [==============================] - 0s 6ms/step\n",
            ">Epoch: 4,Batch: 329/468, disc_real_loss=0.388, disc_fake_loss=0.345 gan_loss=0.000\n",
            "2/2 [==============================] - 0s 8ms/step\n",
            ">Epoch: 4,Batch: 330/468, disc_real_loss=0.266, disc_fake_loss=0.360 gan_loss=0.000\n",
            "2/2 [==============================] - 0s 9ms/step\n",
            ">Epoch: 4,Batch: 331/468, disc_real_loss=0.324, disc_fake_loss=0.338 gan_loss=0.000\n",
            "2/2 [==============================] - 0s 12ms/step\n",
            ">Epoch: 4,Batch: 332/468, disc_real_loss=0.380, disc_fake_loss=0.369 gan_loss=0.000\n",
            "2/2 [==============================] - 0s 14ms/step\n",
            ">Epoch: 4,Batch: 333/468, disc_real_loss=0.265, disc_fake_loss=0.317 gan_loss=0.000\n",
            "2/2 [==============================] - 0s 7ms/step\n",
            ">Epoch: 4,Batch: 334/468, disc_real_loss=0.306, disc_fake_loss=0.315 gan_loss=0.000\n",
            "2/2 [==============================] - 0s 5ms/step\n",
            ">Epoch: 4,Batch: 335/468, disc_real_loss=0.411, disc_fake_loss=0.341 gan_loss=0.000\n",
            "2/2 [==============================] - 0s 8ms/step\n",
            ">Epoch: 4,Batch: 336/468, disc_real_loss=0.358, disc_fake_loss=0.335 gan_loss=0.000\n",
            "2/2 [==============================] - 0s 4ms/step\n",
            ">Epoch: 4,Batch: 337/468, disc_real_loss=0.307, disc_fake_loss=0.382 gan_loss=0.000\n",
            "2/2 [==============================] - 0s 5ms/step\n",
            ">Epoch: 4,Batch: 338/468, disc_real_loss=0.491, disc_fake_loss=0.352 gan_loss=0.000\n",
            "2/2 [==============================] - 0s 6ms/step\n",
            ">Epoch: 4,Batch: 339/468, disc_real_loss=0.270, disc_fake_loss=0.397 gan_loss=0.000\n",
            "2/2 [==============================] - 0s 7ms/step\n",
            ">Epoch: 4,Batch: 340/468, disc_real_loss=0.299, disc_fake_loss=0.297 gan_loss=0.000\n",
            "2/2 [==============================] - 0s 9ms/step\n",
            ">Epoch: 4,Batch: 341/468, disc_real_loss=0.305, disc_fake_loss=0.376 gan_loss=0.000\n",
            "2/2 [==============================] - 0s 4ms/step\n",
            ">Epoch: 4,Batch: 342/468, disc_real_loss=0.370, disc_fake_loss=0.386 gan_loss=0.000\n",
            "2/2 [==============================] - 0s 4ms/step\n",
            ">Epoch: 4,Batch: 343/468, disc_real_loss=0.426, disc_fake_loss=0.403 gan_loss=0.000\n",
            "2/2 [==============================] - 0s 4ms/step\n",
            ">Epoch: 4,Batch: 344/468, disc_real_loss=0.369, disc_fake_loss=0.376 gan_loss=0.000\n",
            "2/2 [==============================] - 0s 4ms/step\n",
            ">Epoch: 4,Batch: 345/468, disc_real_loss=0.362, disc_fake_loss=0.377 gan_loss=0.000\n",
            "2/2 [==============================] - 0s 6ms/step\n",
            ">Epoch: 4,Batch: 346/468, disc_real_loss=0.349, disc_fake_loss=0.320 gan_loss=0.000\n",
            "2/2 [==============================] - 0s 6ms/step\n",
            ">Epoch: 4,Batch: 347/468, disc_real_loss=0.281, disc_fake_loss=0.463 gan_loss=0.000\n",
            "2/2 [==============================] - 0s 5ms/step\n",
            ">Epoch: 4,Batch: 348/468, disc_real_loss=0.388, disc_fake_loss=0.309 gan_loss=0.000\n",
            "2/2 [==============================] - 0s 6ms/step\n",
            ">Epoch: 4,Batch: 349/468, disc_real_loss=0.404, disc_fake_loss=0.320 gan_loss=0.000\n",
            "2/2 [==============================] - 0s 6ms/step\n",
            ">Epoch: 4,Batch: 350/468, disc_real_loss=0.321, disc_fake_loss=0.320 gan_loss=0.000\n",
            "2/2 [==============================] - 0s 5ms/step\n",
            ">Epoch: 4,Batch: 351/468, disc_real_loss=0.402, disc_fake_loss=0.311 gan_loss=0.000\n",
            "2/2 [==============================] - 0s 5ms/step\n",
            ">Epoch: 4,Batch: 352/468, disc_real_loss=0.294, disc_fake_loss=0.403 gan_loss=0.000\n",
            "2/2 [==============================] - 0s 5ms/step\n",
            ">Epoch: 4,Batch: 353/468, disc_real_loss=0.396, disc_fake_loss=0.369 gan_loss=0.000\n",
            "2/2 [==============================] - 0s 8ms/step\n",
            ">Epoch: 4,Batch: 354/468, disc_real_loss=0.325, disc_fake_loss=0.368 gan_loss=0.000\n",
            "2/2 [==============================] - 0s 11ms/step\n",
            ">Epoch: 4,Batch: 355/468, disc_real_loss=0.327, disc_fake_loss=0.269 gan_loss=0.000\n",
            "2/2 [==============================] - 0s 7ms/step\n",
            ">Epoch: 4,Batch: 356/468, disc_real_loss=0.266, disc_fake_loss=0.341 gan_loss=0.000\n",
            "2/2 [==============================] - 0s 6ms/step\n",
            ">Epoch: 4,Batch: 357/468, disc_real_loss=0.348, disc_fake_loss=0.264 gan_loss=0.000\n",
            "2/2 [==============================] - 0s 8ms/step\n",
            ">Epoch: 4,Batch: 358/468, disc_real_loss=0.357, disc_fake_loss=0.366 gan_loss=0.000\n",
            "2/2 [==============================] - 0s 13ms/step\n",
            ">Epoch: 4,Batch: 359/468, disc_real_loss=0.361, disc_fake_loss=0.422 gan_loss=0.000\n",
            "2/2 [==============================] - 0s 10ms/step\n",
            ">Epoch: 4,Batch: 360/468, disc_real_loss=0.410, disc_fake_loss=0.361 gan_loss=0.000\n",
            "2/2 [==============================] - 0s 6ms/step\n",
            ">Epoch: 4,Batch: 361/468, disc_real_loss=0.344, disc_fake_loss=0.310 gan_loss=0.000\n",
            "2/2 [==============================] - 0s 10ms/step\n",
            ">Epoch: 4,Batch: 362/468, disc_real_loss=0.349, disc_fake_loss=0.378 gan_loss=0.000\n",
            "2/2 [==============================] - 0s 7ms/step\n",
            ">Epoch: 4,Batch: 363/468, disc_real_loss=0.335, disc_fake_loss=0.405 gan_loss=0.000\n",
            "2/2 [==============================] - 0s 11ms/step\n",
            ">Epoch: 4,Batch: 364/468, disc_real_loss=0.412, disc_fake_loss=0.344 gan_loss=0.000\n",
            "2/2 [==============================] - 0s 19ms/step\n",
            ">Epoch: 4,Batch: 365/468, disc_real_loss=0.437, disc_fake_loss=0.317 gan_loss=0.000\n",
            "2/2 [==============================] - 0s 4ms/step\n",
            ">Epoch: 4,Batch: 366/468, disc_real_loss=0.236, disc_fake_loss=0.344 gan_loss=0.000\n",
            "2/2 [==============================] - 0s 8ms/step\n",
            ">Epoch: 4,Batch: 367/468, disc_real_loss=0.309, disc_fake_loss=0.326 gan_loss=0.000\n",
            "2/2 [==============================] - 0s 4ms/step\n",
            ">Epoch: 4,Batch: 368/468, disc_real_loss=0.249, disc_fake_loss=0.288 gan_loss=0.000\n",
            "2/2 [==============================] - 0s 10ms/step\n",
            ">Epoch: 4,Batch: 369/468, disc_real_loss=0.423, disc_fake_loss=0.463 gan_loss=0.000\n",
            "2/2 [==============================] - 0s 7ms/step\n",
            ">Epoch: 4,Batch: 370/468, disc_real_loss=0.345, disc_fake_loss=0.274 gan_loss=0.000\n",
            "2/2 [==============================] - 0s 13ms/step\n",
            ">Epoch: 4,Batch: 371/468, disc_real_loss=0.340, disc_fake_loss=0.381 gan_loss=0.000\n",
            "2/2 [==============================] - 0s 7ms/step\n",
            ">Epoch: 4,Batch: 372/468, disc_real_loss=0.329, disc_fake_loss=0.353 gan_loss=0.000\n",
            "2/2 [==============================] - 0s 7ms/step\n",
            ">Epoch: 4,Batch: 373/468, disc_real_loss=0.331, disc_fake_loss=0.297 gan_loss=0.000\n",
            "2/2 [==============================] - 0s 10ms/step\n",
            ">Epoch: 4,Batch: 374/468, disc_real_loss=0.359, disc_fake_loss=0.360 gan_loss=0.000\n",
            "2/2 [==============================] - 0s 9ms/step\n",
            ">Epoch: 4,Batch: 375/468, disc_real_loss=0.305, disc_fake_loss=0.306 gan_loss=0.000\n",
            "2/2 [==============================] - 0s 11ms/step\n",
            ">Epoch: 4,Batch: 376/468, disc_real_loss=0.376, disc_fake_loss=0.359 gan_loss=0.000\n",
            "2/2 [==============================] - 0s 10ms/step\n",
            ">Epoch: 4,Batch: 377/468, disc_real_loss=0.403, disc_fake_loss=0.437 gan_loss=0.000\n",
            "2/2 [==============================] - 0s 6ms/step\n",
            ">Epoch: 4,Batch: 378/468, disc_real_loss=0.342, disc_fake_loss=0.364 gan_loss=0.000\n",
            "2/2 [==============================] - 0s 14ms/step\n",
            ">Epoch: 4,Batch: 379/468, disc_real_loss=0.356, disc_fake_loss=0.355 gan_loss=0.000\n",
            "2/2 [==============================] - 0s 7ms/step\n",
            ">Epoch: 4,Batch: 380/468, disc_real_loss=0.306, disc_fake_loss=0.340 gan_loss=0.000\n",
            "2/2 [==============================] - 0s 10ms/step\n",
            ">Epoch: 4,Batch: 381/468, disc_real_loss=0.340, disc_fake_loss=0.330 gan_loss=0.000\n",
            "2/2 [==============================] - 0s 4ms/step\n",
            ">Epoch: 4,Batch: 382/468, disc_real_loss=0.410, disc_fake_loss=0.363 gan_loss=0.000\n",
            "2/2 [==============================] - 0s 6ms/step\n",
            ">Epoch: 4,Batch: 383/468, disc_real_loss=0.338, disc_fake_loss=0.393 gan_loss=0.000\n",
            "2/2 [==============================] - 0s 4ms/step\n",
            ">Epoch: 4,Batch: 384/468, disc_real_loss=0.303, disc_fake_loss=0.325 gan_loss=0.000\n",
            "2/2 [==============================] - 0s 7ms/step\n",
            ">Epoch: 4,Batch: 385/468, disc_real_loss=0.282, disc_fake_loss=0.298 gan_loss=0.000\n",
            "2/2 [==============================] - 0s 7ms/step\n",
            ">Epoch: 4,Batch: 386/468, disc_real_loss=0.373, disc_fake_loss=0.354 gan_loss=0.000\n",
            "2/2 [==============================] - 0s 5ms/step\n",
            ">Epoch: 4,Batch: 387/468, disc_real_loss=0.395, disc_fake_loss=0.408 gan_loss=0.000\n",
            "2/2 [==============================] - 0s 4ms/step\n",
            ">Epoch: 4,Batch: 388/468, disc_real_loss=0.353, disc_fake_loss=0.317 gan_loss=0.000\n",
            "2/2 [==============================] - 0s 13ms/step\n",
            ">Epoch: 4,Batch: 389/468, disc_real_loss=0.365, disc_fake_loss=0.310 gan_loss=0.000\n",
            "2/2 [==============================] - 0s 6ms/step\n",
            ">Epoch: 4,Batch: 390/468, disc_real_loss=0.326, disc_fake_loss=0.354 gan_loss=0.000\n",
            "2/2 [==============================] - 0s 6ms/step\n",
            ">Epoch: 4,Batch: 391/468, disc_real_loss=0.314, disc_fake_loss=0.463 gan_loss=0.000\n",
            "2/2 [==============================] - 0s 6ms/step\n",
            ">Epoch: 4,Batch: 392/468, disc_real_loss=0.390, disc_fake_loss=0.362 gan_loss=0.000\n",
            "2/2 [==============================] - 0s 7ms/step\n",
            ">Epoch: 4,Batch: 393/468, disc_real_loss=0.346, disc_fake_loss=0.283 gan_loss=0.000\n",
            "2/2 [==============================] - 0s 8ms/step\n",
            ">Epoch: 4,Batch: 394/468, disc_real_loss=0.341, disc_fake_loss=0.344 gan_loss=0.000\n",
            "2/2 [==============================] - 0s 14ms/step\n",
            ">Epoch: 4,Batch: 395/468, disc_real_loss=0.384, disc_fake_loss=0.370 gan_loss=0.000\n",
            "2/2 [==============================] - 0s 6ms/step\n",
            ">Epoch: 4,Batch: 396/468, disc_real_loss=0.304, disc_fake_loss=0.353 gan_loss=0.000\n",
            "2/2 [==============================] - 0s 9ms/step\n",
            ">Epoch: 4,Batch: 397/468, disc_real_loss=0.364, disc_fake_loss=0.289 gan_loss=0.000\n",
            "2/2 [==============================] - 0s 5ms/step\n",
            ">Epoch: 4,Batch: 398/468, disc_real_loss=0.382, disc_fake_loss=0.357 gan_loss=0.000\n",
            "2/2 [==============================] - 0s 7ms/step\n",
            ">Epoch: 4,Batch: 399/468, disc_real_loss=0.335, disc_fake_loss=0.365 gan_loss=0.000\n",
            "2/2 [==============================] - 0s 8ms/step\n",
            ">Epoch: 4,Batch: 400/468, disc_real_loss=0.370, disc_fake_loss=0.432 gan_loss=0.000\n",
            "2/2 [==============================] - 0s 19ms/step\n",
            ">Epoch: 4,Batch: 401/468, disc_real_loss=0.370, disc_fake_loss=0.424 gan_loss=0.000\n",
            "2/2 [==============================] - 0s 9ms/step\n",
            ">Epoch: 4,Batch: 402/468, disc_real_loss=0.305, disc_fake_loss=0.304 gan_loss=0.000\n",
            "2/2 [==============================] - 0s 7ms/step\n",
            ">Epoch: 4,Batch: 403/468, disc_real_loss=0.420, disc_fake_loss=0.275 gan_loss=0.000\n",
            "2/2 [==============================] - 0s 7ms/step\n",
            ">Epoch: 4,Batch: 404/468, disc_real_loss=0.358, disc_fake_loss=0.362 gan_loss=0.000\n",
            "2/2 [==============================] - 0s 4ms/step\n",
            ">Epoch: 4,Batch: 405/468, disc_real_loss=0.227, disc_fake_loss=0.332 gan_loss=0.000\n",
            "2/2 [==============================] - 0s 10ms/step\n",
            ">Epoch: 4,Batch: 406/468, disc_real_loss=0.357, disc_fake_loss=0.382 gan_loss=0.000\n",
            "2/2 [==============================] - 0s 9ms/step\n",
            ">Epoch: 4,Batch: 407/468, disc_real_loss=0.351, disc_fake_loss=0.241 gan_loss=0.000\n",
            "2/2 [==============================] - 0s 11ms/step\n",
            ">Epoch: 4,Batch: 408/468, disc_real_loss=0.409, disc_fake_loss=0.334 gan_loss=0.000\n",
            "2/2 [==============================] - 0s 9ms/step\n",
            ">Epoch: 4,Batch: 409/468, disc_real_loss=0.310, disc_fake_loss=0.419 gan_loss=0.000\n",
            "2/2 [==============================] - 0s 9ms/step\n",
            ">Epoch: 4,Batch: 410/468, disc_real_loss=0.300, disc_fake_loss=0.321 gan_loss=0.000\n",
            "2/2 [==============================] - 0s 7ms/step\n",
            ">Epoch: 4,Batch: 411/468, disc_real_loss=0.304, disc_fake_loss=0.416 gan_loss=0.000\n",
            "2/2 [==============================] - 0s 12ms/step\n",
            ">Epoch: 4,Batch: 412/468, disc_real_loss=0.341, disc_fake_loss=0.315 gan_loss=0.000\n",
            "2/2 [==============================] - 0s 8ms/step\n",
            ">Epoch: 4,Batch: 413/468, disc_real_loss=0.364, disc_fake_loss=0.340 gan_loss=0.000\n",
            "2/2 [==============================] - 0s 12ms/step\n",
            ">Epoch: 4,Batch: 414/468, disc_real_loss=0.373, disc_fake_loss=0.419 gan_loss=0.000\n",
            "2/2 [==============================] - 0s 7ms/step\n",
            ">Epoch: 4,Batch: 415/468, disc_real_loss=0.422, disc_fake_loss=0.277 gan_loss=0.000\n",
            "2/2 [==============================] - 0s 5ms/step\n",
            ">Epoch: 4,Batch: 416/468, disc_real_loss=0.345, disc_fake_loss=0.360 gan_loss=0.000\n",
            "2/2 [==============================] - 0s 6ms/step\n",
            ">Epoch: 4,Batch: 417/468, disc_real_loss=0.310, disc_fake_loss=0.397 gan_loss=0.000\n",
            "2/2 [==============================] - 0s 4ms/step\n",
            ">Epoch: 4,Batch: 418/468, disc_real_loss=0.361, disc_fake_loss=0.348 gan_loss=0.000\n",
            "2/2 [==============================] - 0s 6ms/step\n",
            ">Epoch: 4,Batch: 419/468, disc_real_loss=0.430, disc_fake_loss=0.280 gan_loss=0.000\n",
            "2/2 [==============================] - 0s 4ms/step\n",
            ">Epoch: 4,Batch: 420/468, disc_real_loss=0.354, disc_fake_loss=0.360 gan_loss=0.000\n",
            "2/2 [==============================] - 0s 4ms/step\n",
            ">Epoch: 4,Batch: 421/468, disc_real_loss=0.370, disc_fake_loss=0.481 gan_loss=0.000\n",
            "2/2 [==============================] - 0s 7ms/step\n",
            ">Epoch: 4,Batch: 422/468, disc_real_loss=0.253, disc_fake_loss=0.329 gan_loss=0.000\n",
            "2/2 [==============================] - 0s 9ms/step\n",
            ">Epoch: 4,Batch: 423/468, disc_real_loss=0.372, disc_fake_loss=0.386 gan_loss=0.000\n",
            "2/2 [==============================] - 0s 10ms/step\n",
            ">Epoch: 4,Batch: 424/468, disc_real_loss=0.324, disc_fake_loss=0.335 gan_loss=0.000\n",
            "2/2 [==============================] - 0s 12ms/step\n",
            ">Epoch: 4,Batch: 425/468, disc_real_loss=0.462, disc_fake_loss=0.315 gan_loss=0.000\n",
            "2/2 [==============================] - 0s 6ms/step\n",
            ">Epoch: 4,Batch: 426/468, disc_real_loss=0.346, disc_fake_loss=0.344 gan_loss=0.000\n",
            "2/2 [==============================] - 0s 5ms/step\n",
            ">Epoch: 4,Batch: 427/468, disc_real_loss=0.244, disc_fake_loss=0.371 gan_loss=0.000\n",
            "2/2 [==============================] - 0s 4ms/step\n",
            ">Epoch: 4,Batch: 428/468, disc_real_loss=0.351, disc_fake_loss=0.422 gan_loss=0.000\n",
            "2/2 [==============================] - 0s 5ms/step\n",
            ">Epoch: 4,Batch: 429/468, disc_real_loss=0.339, disc_fake_loss=0.277 gan_loss=0.000\n",
            "2/2 [==============================] - 0s 6ms/step\n",
            ">Epoch: 4,Batch: 430/468, disc_real_loss=0.378, disc_fake_loss=0.392 gan_loss=0.000\n",
            "2/2 [==============================] - 0s 6ms/step\n",
            ">Epoch: 4,Batch: 431/468, disc_real_loss=0.357, disc_fake_loss=0.356 gan_loss=0.000\n",
            "2/2 [==============================] - 0s 8ms/step\n",
            ">Epoch: 4,Batch: 432/468, disc_real_loss=0.324, disc_fake_loss=0.333 gan_loss=0.000\n",
            "2/2 [==============================] - 0s 9ms/step\n",
            ">Epoch: 4,Batch: 433/468, disc_real_loss=0.293, disc_fake_loss=0.365 gan_loss=0.000\n",
            "2/2 [==============================] - 0s 5ms/step\n",
            ">Epoch: 4,Batch: 434/468, disc_real_loss=0.236, disc_fake_loss=0.304 gan_loss=0.000\n",
            "2/2 [==============================] - 0s 8ms/step\n",
            ">Epoch: 4,Batch: 435/468, disc_real_loss=0.338, disc_fake_loss=0.268 gan_loss=0.000\n",
            "2/2 [==============================] - 0s 11ms/step\n",
            ">Epoch: 4,Batch: 436/468, disc_real_loss=0.381, disc_fake_loss=0.355 gan_loss=0.000\n",
            "2/2 [==============================] - 0s 7ms/step\n",
            ">Epoch: 4,Batch: 437/468, disc_real_loss=0.424, disc_fake_loss=0.321 gan_loss=0.000\n",
            "2/2 [==============================] - 0s 12ms/step\n",
            ">Epoch: 4,Batch: 438/468, disc_real_loss=0.293, disc_fake_loss=0.386 gan_loss=0.000\n",
            "2/2 [==============================] - 0s 4ms/step\n",
            ">Epoch: 4,Batch: 439/468, disc_real_loss=0.327, disc_fake_loss=0.473 gan_loss=0.000\n",
            "2/2 [==============================] - 0s 4ms/step\n",
            ">Epoch: 4,Batch: 440/468, disc_real_loss=0.367, disc_fake_loss=0.321 gan_loss=0.000\n",
            "2/2 [==============================] - 0s 4ms/step\n",
            ">Epoch: 4,Batch: 441/468, disc_real_loss=0.463, disc_fake_loss=0.382 gan_loss=0.000\n",
            "2/2 [==============================] - 0s 10ms/step\n",
            ">Epoch: 4,Batch: 442/468, disc_real_loss=0.415, disc_fake_loss=0.412 gan_loss=0.000\n",
            "2/2 [==============================] - 0s 7ms/step\n",
            ">Epoch: 4,Batch: 443/468, disc_real_loss=0.372, disc_fake_loss=0.386 gan_loss=0.000\n",
            "2/2 [==============================] - 0s 6ms/step\n",
            ">Epoch: 4,Batch: 444/468, disc_real_loss=0.264, disc_fake_loss=0.386 gan_loss=0.000\n",
            "2/2 [==============================] - 0s 4ms/step\n",
            ">Epoch: 4,Batch: 445/468, disc_real_loss=0.333, disc_fake_loss=0.385 gan_loss=0.000\n",
            "2/2 [==============================] - 0s 11ms/step\n",
            ">Epoch: 4,Batch: 446/468, disc_real_loss=0.347, disc_fake_loss=0.343 gan_loss=0.000\n",
            "2/2 [==============================] - 0s 6ms/step\n",
            ">Epoch: 4,Batch: 447/468, disc_real_loss=0.387, disc_fake_loss=0.325 gan_loss=0.000\n",
            "2/2 [==============================] - 0s 8ms/step\n",
            ">Epoch: 4,Batch: 448/468, disc_real_loss=0.311, disc_fake_loss=0.376 gan_loss=0.000\n",
            "2/2 [==============================] - 0s 7ms/step\n",
            ">Epoch: 4,Batch: 449/468, disc_real_loss=0.381, disc_fake_loss=0.439 gan_loss=0.000\n",
            "2/2 [==============================] - 0s 7ms/step\n",
            ">Epoch: 4,Batch: 450/468, disc_real_loss=0.376, disc_fake_loss=0.291 gan_loss=0.000\n",
            "2/2 [==============================] - 0s 6ms/step\n",
            ">Epoch: 4,Batch: 451/468, disc_real_loss=0.365, disc_fake_loss=0.399 gan_loss=0.000\n",
            "2/2 [==============================] - 0s 4ms/step\n",
            ">Epoch: 4,Batch: 452/468, disc_real_loss=0.363, disc_fake_loss=0.305 gan_loss=0.000\n",
            "2/2 [==============================] - 0s 9ms/step\n",
            ">Epoch: 4,Batch: 453/468, disc_real_loss=0.303, disc_fake_loss=0.431 gan_loss=0.000\n",
            "2/2 [==============================] - 0s 9ms/step\n",
            ">Epoch: 4,Batch: 454/468, disc_real_loss=0.361, disc_fake_loss=0.386 gan_loss=0.000\n",
            "2/2 [==============================] - 0s 5ms/step\n",
            ">Epoch: 4,Batch: 455/468, disc_real_loss=0.347, disc_fake_loss=0.326 gan_loss=0.000\n",
            "2/2 [==============================] - 0s 9ms/step\n",
            ">Epoch: 4,Batch: 456/468, disc_real_loss=0.356, disc_fake_loss=0.336 gan_loss=0.000\n",
            "2/2 [==============================] - 0s 4ms/step\n",
            ">Epoch: 4,Batch: 457/468, disc_real_loss=0.327, disc_fake_loss=0.258 gan_loss=0.000\n",
            "2/2 [==============================] - 0s 5ms/step\n",
            ">Epoch: 4,Batch: 458/468, disc_real_loss=0.448, disc_fake_loss=0.429 gan_loss=0.000\n",
            "2/2 [==============================] - 0s 6ms/step\n",
            ">Epoch: 4,Batch: 459/468, disc_real_loss=0.343, disc_fake_loss=0.287 gan_loss=0.000\n",
            "2/2 [==============================] - 0s 13ms/step\n",
            ">Epoch: 4,Batch: 460/468, disc_real_loss=0.296, disc_fake_loss=0.488 gan_loss=0.000\n",
            "2/2 [==============================] - 0s 6ms/step\n",
            ">Epoch: 4,Batch: 461/468, disc_real_loss=0.273, disc_fake_loss=0.244 gan_loss=0.000\n",
            "2/2 [==============================] - 0s 13ms/step\n",
            ">Epoch: 4,Batch: 462/468, disc_real_loss=0.394, disc_fake_loss=0.328 gan_loss=0.000\n",
            "2/2 [==============================] - 0s 8ms/step\n",
            ">Epoch: 4,Batch: 463/468, disc_real_loss=0.298, disc_fake_loss=0.296 gan_loss=0.000\n",
            "2/2 [==============================] - 0s 4ms/step\n",
            ">Epoch: 4,Batch: 464/468, disc_real_loss=0.330, disc_fake_loss=0.326 gan_loss=0.000\n",
            "2/2 [==============================] - 0s 18ms/step\n",
            ">Epoch: 4,Batch: 465/468, disc_real_loss=0.364, disc_fake_loss=0.305 gan_loss=0.000\n",
            "2/2 [==============================] - 0s 6ms/step\n",
            ">Epoch: 4,Batch: 466/468, disc_real_loss=0.324, disc_fake_loss=0.385 gan_loss=0.000\n",
            "2/2 [==============================] - 0s 10ms/step\n",
            ">Epoch: 4,Batch: 467/468, disc_real_loss=0.358, disc_fake_loss=0.362 gan_loss=0.000\n",
            "2/2 [==============================] - 0s 16ms/step\n",
            ">Epoch: 4,Batch: 468/468, disc_real_loss=0.387, disc_fake_loss=0.357 gan_loss=0.000\n",
            "2/2 [==============================] - 0s 4ms/step\n"
          ]
        },
        {
          "name": "stderr",
          "output_type": "stream",
          "text": [
            "WARNING:tensorflow:Compiled the loaded model, but the compiled metrics have yet to be built. `model.compile_metrics` will be empty until you train or evaluate the model.\n"
          ]
        },
        {
          "name": "stdout",
          "output_type": "stream",
          "text": [
            ">Epoch: 5,Batch: 1/468, disc_real_loss=0.221, disc_fake_loss=0.335 gan_loss=0.000\n",
            "2/2 [==============================] - 0s 8ms/step\n"
          ]
        },
        {
          "name": "stderr",
          "output_type": "stream",
          "text": [
            "WARNING:tensorflow:Compiled the loaded model, but the compiled metrics have yet to be built. `model.compile_metrics` will be empty until you train or evaluate the model.\n"
          ]
        },
        {
          "name": "stdout",
          "output_type": "stream",
          "text": [
            ">Epoch: 5,Batch: 2/468, disc_real_loss=0.387, disc_fake_loss=0.285 gan_loss=0.000\n",
            "2/2 [==============================] - 0s 9ms/step\n"
          ]
        },
        {
          "name": "stderr",
          "output_type": "stream",
          "text": [
            "WARNING:tensorflow:Compiled the loaded model, but the compiled metrics have yet to be built. `model.compile_metrics` will be empty until you train or evaluate the model.\n"
          ]
        },
        {
          "name": "stdout",
          "output_type": "stream",
          "text": [
            ">Epoch: 5,Batch: 3/468, disc_real_loss=0.328, disc_fake_loss=0.342 gan_loss=0.000\n",
            "2/2 [==============================] - 0s 4ms/step\n"
          ]
        },
        {
          "name": "stderr",
          "output_type": "stream",
          "text": [
            "WARNING:tensorflow:Compiled the loaded model, but the compiled metrics have yet to be built. `model.compile_metrics` will be empty until you train or evaluate the model.\n"
          ]
        },
        {
          "name": "stdout",
          "output_type": "stream",
          "text": [
            ">Epoch: 5,Batch: 4/468, disc_real_loss=0.304, disc_fake_loss=0.324 gan_loss=0.000\n",
            "2/2 [==============================] - 0s 7ms/step\n"
          ]
        },
        {
          "name": "stderr",
          "output_type": "stream",
          "text": [
            "WARNING:tensorflow:Compiled the loaded model, but the compiled metrics have yet to be built. `model.compile_metrics` will be empty until you train or evaluate the model.\n"
          ]
        },
        {
          "name": "stdout",
          "output_type": "stream",
          "text": [
            ">Epoch: 5,Batch: 5/468, disc_real_loss=0.396, disc_fake_loss=0.314 gan_loss=0.000\n",
            "2/2 [==============================] - 0s 8ms/step\n"
          ]
        },
        {
          "name": "stderr",
          "output_type": "stream",
          "text": [
            "WARNING:tensorflow:Compiled the loaded model, but the compiled metrics have yet to be built. `model.compile_metrics` will be empty until you train or evaluate the model.\n"
          ]
        },
        {
          "name": "stdout",
          "output_type": "stream",
          "text": [
            ">Epoch: 5,Batch: 6/468, disc_real_loss=0.271, disc_fake_loss=0.343 gan_loss=0.000\n",
            "2/2 [==============================] - 0s 7ms/step\n"
          ]
        },
        {
          "name": "stderr",
          "output_type": "stream",
          "text": [
            "WARNING:tensorflow:Compiled the loaded model, but the compiled metrics have yet to be built. `model.compile_metrics` will be empty until you train or evaluate the model.\n"
          ]
        },
        {
          "name": "stdout",
          "output_type": "stream",
          "text": [
            ">Epoch: 5,Batch: 7/468, disc_real_loss=0.283, disc_fake_loss=0.289 gan_loss=0.000\n",
            "2/2 [==============================] - 0s 8ms/step\n"
          ]
        },
        {
          "name": "stderr",
          "output_type": "stream",
          "text": [
            "WARNING:tensorflow:Compiled the loaded model, but the compiled metrics have yet to be built. `model.compile_metrics` will be empty until you train or evaluate the model.\n"
          ]
        },
        {
          "name": "stdout",
          "output_type": "stream",
          "text": [
            ">Epoch: 5,Batch: 8/468, disc_real_loss=0.393, disc_fake_loss=0.351 gan_loss=0.000\n",
            "2/2 [==============================] - 0s 6ms/step\n"
          ]
        },
        {
          "name": "stderr",
          "output_type": "stream",
          "text": [
            "WARNING:tensorflow:Compiled the loaded model, but the compiled metrics have yet to be built. `model.compile_metrics` will be empty until you train or evaluate the model.\n"
          ]
        },
        {
          "name": "stdout",
          "output_type": "stream",
          "text": [
            ">Epoch: 5,Batch: 9/468, disc_real_loss=0.387, disc_fake_loss=0.459 gan_loss=0.000\n",
            "2/2 [==============================] - 0s 7ms/step\n"
          ]
        },
        {
          "name": "stderr",
          "output_type": "stream",
          "text": [
            "WARNING:tensorflow:Compiled the loaded model, but the compiled metrics have yet to be built. `model.compile_metrics` will be empty until you train or evaluate the model.\n"
          ]
        },
        {
          "name": "stdout",
          "output_type": "stream",
          "text": [
            ">Epoch: 5,Batch: 10/468, disc_real_loss=0.313, disc_fake_loss=0.320 gan_loss=0.000\n",
            "2/2 [==============================] - 0s 9ms/step\n"
          ]
        },
        {
          "name": "stderr",
          "output_type": "stream",
          "text": [
            "WARNING:tensorflow:Compiled the loaded model, but the compiled metrics have yet to be built. `model.compile_metrics` will be empty until you train or evaluate the model.\n"
          ]
        },
        {
          "name": "stdout",
          "output_type": "stream",
          "text": [
            ">Epoch: 5,Batch: 11/468, disc_real_loss=0.337, disc_fake_loss=0.452 gan_loss=0.000\n",
            "2/2 [==============================] - 0s 8ms/step\n"
          ]
        },
        {
          "name": "stderr",
          "output_type": "stream",
          "text": [
            "WARNING:tensorflow:Compiled the loaded model, but the compiled metrics have yet to be built. `model.compile_metrics` will be empty until you train or evaluate the model.\n"
          ]
        },
        {
          "name": "stdout",
          "output_type": "stream",
          "text": [
            ">Epoch: 5,Batch: 12/468, disc_real_loss=0.242, disc_fake_loss=0.294 gan_loss=0.000\n",
            "2/2 [==============================] - 0s 9ms/step\n"
          ]
        },
        {
          "name": "stderr",
          "output_type": "stream",
          "text": [
            "WARNING:tensorflow:Compiled the loaded model, but the compiled metrics have yet to be built. `model.compile_metrics` will be empty until you train or evaluate the model.\n"
          ]
        },
        {
          "name": "stdout",
          "output_type": "stream",
          "text": [
            ">Epoch: 5,Batch: 13/468, disc_real_loss=0.310, disc_fake_loss=0.361 gan_loss=0.000\n",
            "2/2 [==============================] - 0s 9ms/step\n"
          ]
        },
        {
          "name": "stderr",
          "output_type": "stream",
          "text": [
            "WARNING:tensorflow:Compiled the loaded model, but the compiled metrics have yet to be built. `model.compile_metrics` will be empty until you train or evaluate the model.\n"
          ]
        },
        {
          "name": "stdout",
          "output_type": "stream",
          "text": [
            ">Epoch: 5,Batch: 14/468, disc_real_loss=0.423, disc_fake_loss=0.289 gan_loss=0.000\n",
            "2/2 [==============================] - 0s 9ms/step\n"
          ]
        },
        {
          "name": "stderr",
          "output_type": "stream",
          "text": [
            "WARNING:tensorflow:Compiled the loaded model, but the compiled metrics have yet to be built. `model.compile_metrics` will be empty until you train or evaluate the model.\n"
          ]
        },
        {
          "name": "stdout",
          "output_type": "stream",
          "text": [
            ">Epoch: 5,Batch: 15/468, disc_real_loss=0.422, disc_fake_loss=0.395 gan_loss=0.000\n",
            "2/2 [==============================] - 0s 6ms/step\n"
          ]
        },
        {
          "name": "stderr",
          "output_type": "stream",
          "text": [
            "WARNING:tensorflow:Compiled the loaded model, but the compiled metrics have yet to be built. `model.compile_metrics` will be empty until you train or evaluate the model.\n"
          ]
        },
        {
          "name": "stdout",
          "output_type": "stream",
          "text": [
            ">Epoch: 5,Batch: 16/468, disc_real_loss=0.296, disc_fake_loss=0.336 gan_loss=0.000\n",
            "2/2 [==============================] - 0s 8ms/step\n"
          ]
        },
        {
          "name": "stderr",
          "output_type": "stream",
          "text": [
            "WARNING:tensorflow:Compiled the loaded model, but the compiled metrics have yet to be built. `model.compile_metrics` will be empty until you train or evaluate the model.\n"
          ]
        },
        {
          "name": "stdout",
          "output_type": "stream",
          "text": [
            ">Epoch: 5,Batch: 17/468, disc_real_loss=0.352, disc_fake_loss=0.390 gan_loss=0.000\n",
            "2/2 [==============================] - 0s 11ms/step\n"
          ]
        },
        {
          "name": "stderr",
          "output_type": "stream",
          "text": [
            "WARNING:tensorflow:Compiled the loaded model, but the compiled metrics have yet to be built. `model.compile_metrics` will be empty until you train or evaluate the model.\n"
          ]
        },
        {
          "name": "stdout",
          "output_type": "stream",
          "text": [
            ">Epoch: 5,Batch: 18/468, disc_real_loss=0.342, disc_fake_loss=0.357 gan_loss=0.000\n",
            "2/2 [==============================] - 0s 5ms/step\n"
          ]
        },
        {
          "name": "stderr",
          "output_type": "stream",
          "text": [
            "WARNING:tensorflow:Compiled the loaded model, but the compiled metrics have yet to be built. `model.compile_metrics` will be empty until you train or evaluate the model.\n"
          ]
        },
        {
          "name": "stdout",
          "output_type": "stream",
          "text": [
            ">Epoch: 5,Batch: 19/468, disc_real_loss=0.290, disc_fake_loss=0.306 gan_loss=0.000\n",
            "2/2 [==============================] - 0s 5ms/step\n"
          ]
        },
        {
          "name": "stderr",
          "output_type": "stream",
          "text": [
            "WARNING:tensorflow:Compiled the loaded model, but the compiled metrics have yet to be built. `model.compile_metrics` will be empty until you train or evaluate the model.\n"
          ]
        },
        {
          "name": "stdout",
          "output_type": "stream",
          "text": [
            ">Epoch: 5,Batch: 20/468, disc_real_loss=0.251, disc_fake_loss=0.337 gan_loss=0.000\n",
            "2/2 [==============================] - 0s 10ms/step\n"
          ]
        },
        {
          "name": "stderr",
          "output_type": "stream",
          "text": [
            "WARNING:tensorflow:Compiled the loaded model, but the compiled metrics have yet to be built. `model.compile_metrics` will be empty until you train or evaluate the model.\n"
          ]
        },
        {
          "name": "stdout",
          "output_type": "stream",
          "text": [
            ">Epoch: 5,Batch: 21/468, disc_real_loss=0.371, disc_fake_loss=0.288 gan_loss=0.000\n",
            "2/2 [==============================] - 0s 7ms/step\n"
          ]
        },
        {
          "name": "stderr",
          "output_type": "stream",
          "text": [
            "WARNING:tensorflow:Compiled the loaded model, but the compiled metrics have yet to be built. `model.compile_metrics` will be empty until you train or evaluate the model.\n"
          ]
        },
        {
          "name": "stdout",
          "output_type": "stream",
          "text": [
            ">Epoch: 5,Batch: 22/468, disc_real_loss=0.384, disc_fake_loss=0.301 gan_loss=0.000\n",
            "2/2 [==============================] - 0s 7ms/step\n"
          ]
        },
        {
          "name": "stderr",
          "output_type": "stream",
          "text": [
            "WARNING:tensorflow:Compiled the loaded model, but the compiled metrics have yet to be built. `model.compile_metrics` will be empty until you train or evaluate the model.\n"
          ]
        },
        {
          "name": "stdout",
          "output_type": "stream",
          "text": [
            ">Epoch: 5,Batch: 23/468, disc_real_loss=0.374, disc_fake_loss=0.365 gan_loss=0.000\n",
            "2/2 [==============================] - 0s 10ms/step\n"
          ]
        },
        {
          "name": "stderr",
          "output_type": "stream",
          "text": [
            "WARNING:tensorflow:Compiled the loaded model, but the compiled metrics have yet to be built. `model.compile_metrics` will be empty until you train or evaluate the model.\n"
          ]
        },
        {
          "name": "stdout",
          "output_type": "stream",
          "text": [
            ">Epoch: 5,Batch: 24/468, disc_real_loss=0.279, disc_fake_loss=0.405 gan_loss=0.000\n",
            "2/2 [==============================] - 0s 7ms/step\n"
          ]
        },
        {
          "name": "stderr",
          "output_type": "stream",
          "text": [
            "WARNING:tensorflow:Compiled the loaded model, but the compiled metrics have yet to be built. `model.compile_metrics` will be empty until you train or evaluate the model.\n"
          ]
        },
        {
          "name": "stdout",
          "output_type": "stream",
          "text": [
            ">Epoch: 5,Batch: 25/468, disc_real_loss=0.279, disc_fake_loss=0.392 gan_loss=0.000\n",
            "2/2 [==============================] - 0s 9ms/step\n"
          ]
        },
        {
          "name": "stderr",
          "output_type": "stream",
          "text": [
            "WARNING:tensorflow:Compiled the loaded model, but the compiled metrics have yet to be built. `model.compile_metrics` will be empty until you train or evaluate the model.\n"
          ]
        },
        {
          "name": "stdout",
          "output_type": "stream",
          "text": [
            ">Epoch: 5,Batch: 26/468, disc_real_loss=0.310, disc_fake_loss=0.296 gan_loss=0.000\n",
            "2/2 [==============================] - 0s 6ms/step\n"
          ]
        },
        {
          "name": "stderr",
          "output_type": "stream",
          "text": [
            "WARNING:tensorflow:Compiled the loaded model, but the compiled metrics have yet to be built. `model.compile_metrics` will be empty until you train or evaluate the model.\n"
          ]
        },
        {
          "name": "stdout",
          "output_type": "stream",
          "text": [
            ">Epoch: 5,Batch: 27/468, disc_real_loss=0.466, disc_fake_loss=0.274 gan_loss=0.000\n",
            "2/2 [==============================] - 0s 7ms/step\n"
          ]
        },
        {
          "name": "stderr",
          "output_type": "stream",
          "text": [
            "WARNING:tensorflow:Compiled the loaded model, but the compiled metrics have yet to be built. `model.compile_metrics` will be empty until you train or evaluate the model.\n"
          ]
        },
        {
          "name": "stdout",
          "output_type": "stream",
          "text": [
            ">Epoch: 5,Batch: 28/468, disc_real_loss=0.414, disc_fake_loss=0.344 gan_loss=0.000\n",
            "2/2 [==============================] - 0s 10ms/step\n"
          ]
        },
        {
          "name": "stderr",
          "output_type": "stream",
          "text": [
            "WARNING:tensorflow:Compiled the loaded model, but the compiled metrics have yet to be built. `model.compile_metrics` will be empty until you train or evaluate the model.\n"
          ]
        },
        {
          "name": "stdout",
          "output_type": "stream",
          "text": [
            ">Epoch: 5,Batch: 29/468, disc_real_loss=0.294, disc_fake_loss=0.440 gan_loss=0.000\n",
            "2/2 [==============================] - 0s 10ms/step\n"
          ]
        },
        {
          "name": "stderr",
          "output_type": "stream",
          "text": [
            "WARNING:tensorflow:Compiled the loaded model, but the compiled metrics have yet to be built. `model.compile_metrics` will be empty until you train or evaluate the model.\n"
          ]
        },
        {
          "name": "stdout",
          "output_type": "stream",
          "text": [
            ">Epoch: 5,Batch: 30/468, disc_real_loss=0.248, disc_fake_loss=0.325 gan_loss=0.000\n",
            "2/2 [==============================] - 0s 10ms/step\n"
          ]
        },
        {
          "name": "stderr",
          "output_type": "stream",
          "text": [
            "WARNING:tensorflow:Compiled the loaded model, but the compiled metrics have yet to be built. `model.compile_metrics` will be empty until you train or evaluate the model.\n"
          ]
        },
        {
          "name": "stdout",
          "output_type": "stream",
          "text": [
            ">Epoch: 5,Batch: 31/468, disc_real_loss=0.390, disc_fake_loss=0.382 gan_loss=0.000\n",
            "2/2 [==============================] - 0s 8ms/step\n"
          ]
        },
        {
          "name": "stderr",
          "output_type": "stream",
          "text": [
            "WARNING:tensorflow:Compiled the loaded model, but the compiled metrics have yet to be built. `model.compile_metrics` will be empty until you train or evaluate the model.\n"
          ]
        },
        {
          "name": "stdout",
          "output_type": "stream",
          "text": [
            ">Epoch: 5,Batch: 32/468, disc_real_loss=0.287, disc_fake_loss=0.318 gan_loss=0.000\n",
            "2/2 [==============================] - 0s 8ms/step\n"
          ]
        },
        {
          "name": "stderr",
          "output_type": "stream",
          "text": [
            "WARNING:tensorflow:Compiled the loaded model, but the compiled metrics have yet to be built. `model.compile_metrics` will be empty until you train or evaluate the model.\n"
          ]
        },
        {
          "name": "stdout",
          "output_type": "stream",
          "text": [
            ">Epoch: 5,Batch: 33/468, disc_real_loss=0.314, disc_fake_loss=0.408 gan_loss=0.000\n",
            "2/2 [==============================] - 0s 8ms/step\n"
          ]
        },
        {
          "name": "stderr",
          "output_type": "stream",
          "text": [
            "WARNING:tensorflow:Compiled the loaded model, but the compiled metrics have yet to be built. `model.compile_metrics` will be empty until you train or evaluate the model.\n"
          ]
        },
        {
          "name": "stdout",
          "output_type": "stream",
          "text": [
            ">Epoch: 5,Batch: 34/468, disc_real_loss=0.401, disc_fake_loss=0.312 gan_loss=0.000\n",
            "2/2 [==============================] - 0s 8ms/step\n"
          ]
        },
        {
          "name": "stderr",
          "output_type": "stream",
          "text": [
            "WARNING:tensorflow:Compiled the loaded model, but the compiled metrics have yet to be built. `model.compile_metrics` will be empty until you train or evaluate the model.\n"
          ]
        },
        {
          "name": "stdout",
          "output_type": "stream",
          "text": [
            ">Epoch: 5,Batch: 35/468, disc_real_loss=0.315, disc_fake_loss=0.260 gan_loss=0.000\n",
            "2/2 [==============================] - 0s 8ms/step\n"
          ]
        },
        {
          "name": "stderr",
          "output_type": "stream",
          "text": [
            "WARNING:tensorflow:Compiled the loaded model, but the compiled metrics have yet to be built. `model.compile_metrics` will be empty until you train or evaluate the model.\n"
          ]
        },
        {
          "name": "stdout",
          "output_type": "stream",
          "text": [
            ">Epoch: 5,Batch: 36/468, disc_real_loss=0.406, disc_fake_loss=0.410 gan_loss=0.000\n",
            "2/2 [==============================] - 0s 9ms/step\n"
          ]
        },
        {
          "name": "stderr",
          "output_type": "stream",
          "text": [
            "WARNING:tensorflow:Compiled the loaded model, but the compiled metrics have yet to be built. `model.compile_metrics` will be empty until you train or evaluate the model.\n"
          ]
        },
        {
          "name": "stdout",
          "output_type": "stream",
          "text": [
            ">Epoch: 5,Batch: 37/468, disc_real_loss=0.344, disc_fake_loss=0.291 gan_loss=0.000\n",
            "2/2 [==============================] - 0s 7ms/step\n"
          ]
        },
        {
          "name": "stderr",
          "output_type": "stream",
          "text": [
            "WARNING:tensorflow:Compiled the loaded model, but the compiled metrics have yet to be built. `model.compile_metrics` will be empty until you train or evaluate the model.\n"
          ]
        },
        {
          "name": "stdout",
          "output_type": "stream",
          "text": [
            ">Epoch: 5,Batch: 38/468, disc_real_loss=0.334, disc_fake_loss=0.363 gan_loss=0.000\n",
            "2/2 [==============================] - 0s 10ms/step\n"
          ]
        },
        {
          "name": "stderr",
          "output_type": "stream",
          "text": [
            "WARNING:tensorflow:Compiled the loaded model, but the compiled metrics have yet to be built. `model.compile_metrics` will be empty until you train or evaluate the model.\n"
          ]
        },
        {
          "name": "stdout",
          "output_type": "stream",
          "text": [
            ">Epoch: 5,Batch: 39/468, disc_real_loss=0.265, disc_fake_loss=0.373 gan_loss=0.000\n",
            "2/2 [==============================] - 0s 5ms/step\n"
          ]
        },
        {
          "name": "stderr",
          "output_type": "stream",
          "text": [
            "WARNING:tensorflow:Compiled the loaded model, but the compiled metrics have yet to be built. `model.compile_metrics` will be empty until you train or evaluate the model.\n"
          ]
        },
        {
          "name": "stdout",
          "output_type": "stream",
          "text": [
            ">Epoch: 5,Batch: 40/468, disc_real_loss=0.335, disc_fake_loss=0.262 gan_loss=0.000\n",
            "2/2 [==============================] - 0s 5ms/step\n"
          ]
        },
        {
          "name": "stderr",
          "output_type": "stream",
          "text": [
            "WARNING:tensorflow:Compiled the loaded model, but the compiled metrics have yet to be built. `model.compile_metrics` will be empty until you train or evaluate the model.\n"
          ]
        },
        {
          "name": "stdout",
          "output_type": "stream",
          "text": [
            ">Epoch: 5,Batch: 41/468, disc_real_loss=0.475, disc_fake_loss=0.421 gan_loss=0.000\n",
            "2/2 [==============================] - 0s 8ms/step\n"
          ]
        },
        {
          "name": "stderr",
          "output_type": "stream",
          "text": [
            "WARNING:tensorflow:Compiled the loaded model, but the compiled metrics have yet to be built. `model.compile_metrics` will be empty until you train or evaluate the model.\n"
          ]
        },
        {
          "name": "stdout",
          "output_type": "stream",
          "text": [
            ">Epoch: 5,Batch: 42/468, disc_real_loss=0.257, disc_fake_loss=0.358 gan_loss=0.000\n",
            "2/2 [==============================] - 0s 7ms/step\n"
          ]
        },
        {
          "name": "stderr",
          "output_type": "stream",
          "text": [
            "WARNING:tensorflow:Compiled the loaded model, but the compiled metrics have yet to be built. `model.compile_metrics` will be empty until you train or evaluate the model.\n"
          ]
        },
        {
          "name": "stdout",
          "output_type": "stream",
          "text": [
            ">Epoch: 5,Batch: 43/468, disc_real_loss=0.341, disc_fake_loss=0.337 gan_loss=0.000\n",
            "2/2 [==============================] - 0s 7ms/step\n"
          ]
        },
        {
          "name": "stderr",
          "output_type": "stream",
          "text": [
            "WARNING:tensorflow:Compiled the loaded model, but the compiled metrics have yet to be built. `model.compile_metrics` will be empty until you train or evaluate the model.\n"
          ]
        },
        {
          "name": "stdout",
          "output_type": "stream",
          "text": [
            ">Epoch: 5,Batch: 44/468, disc_real_loss=0.314, disc_fake_loss=0.377 gan_loss=0.000\n",
            "2/2 [==============================] - 0s 9ms/step\n"
          ]
        },
        {
          "name": "stderr",
          "output_type": "stream",
          "text": [
            "WARNING:tensorflow:Compiled the loaded model, but the compiled metrics have yet to be built. `model.compile_metrics` will be empty until you train or evaluate the model.\n"
          ]
        },
        {
          "name": "stdout",
          "output_type": "stream",
          "text": [
            ">Epoch: 5,Batch: 45/468, disc_real_loss=0.306, disc_fake_loss=0.362 gan_loss=0.000\n",
            "2/2 [==============================] - 0s 9ms/step\n"
          ]
        },
        {
          "name": "stderr",
          "output_type": "stream",
          "text": [
            "WARNING:tensorflow:Compiled the loaded model, but the compiled metrics have yet to be built. `model.compile_metrics` will be empty until you train or evaluate the model.\n"
          ]
        },
        {
          "name": "stdout",
          "output_type": "stream",
          "text": [
            ">Epoch: 5,Batch: 46/468, disc_real_loss=0.388, disc_fake_loss=0.330 gan_loss=0.000\n",
            "2/2 [==============================] - 0s 7ms/step\n"
          ]
        },
        {
          "name": "stderr",
          "output_type": "stream",
          "text": [
            "WARNING:tensorflow:Compiled the loaded model, but the compiled metrics have yet to be built. `model.compile_metrics` will be empty until you train or evaluate the model.\n"
          ]
        },
        {
          "name": "stdout",
          "output_type": "stream",
          "text": [
            ">Epoch: 5,Batch: 47/468, disc_real_loss=0.307, disc_fake_loss=0.357 gan_loss=0.000\n",
            "2/2 [==============================] - 0s 10ms/step\n"
          ]
        },
        {
          "name": "stderr",
          "output_type": "stream",
          "text": [
            "WARNING:tensorflow:Compiled the loaded model, but the compiled metrics have yet to be built. `model.compile_metrics` will be empty until you train or evaluate the model.\n"
          ]
        },
        {
          "name": "stdout",
          "output_type": "stream",
          "text": [
            ">Epoch: 5,Batch: 48/468, disc_real_loss=0.324, disc_fake_loss=0.370 gan_loss=0.000\n",
            "2/2 [==============================] - 0s 8ms/step\n"
          ]
        },
        {
          "name": "stderr",
          "output_type": "stream",
          "text": [
            "WARNING:tensorflow:Compiled the loaded model, but the compiled metrics have yet to be built. `model.compile_metrics` will be empty until you train or evaluate the model.\n"
          ]
        },
        {
          "name": "stdout",
          "output_type": "stream",
          "text": [
            ">Epoch: 5,Batch: 49/468, disc_real_loss=0.411, disc_fake_loss=0.312 gan_loss=0.000\n",
            "2/2 [==============================] - 0s 5ms/step\n"
          ]
        },
        {
          "name": "stderr",
          "output_type": "stream",
          "text": [
            "WARNING:tensorflow:Compiled the loaded model, but the compiled metrics have yet to be built. `model.compile_metrics` will be empty until you train or evaluate the model.\n"
          ]
        },
        {
          "name": "stdout",
          "output_type": "stream",
          "text": [
            ">Epoch: 5,Batch: 50/468, disc_real_loss=0.372, disc_fake_loss=0.353 gan_loss=0.000\n",
            "2/2 [==============================] - 0s 8ms/step\n"
          ]
        },
        {
          "name": "stderr",
          "output_type": "stream",
          "text": [
            "WARNING:tensorflow:Compiled the loaded model, but the compiled metrics have yet to be built. `model.compile_metrics` will be empty until you train or evaluate the model.\n"
          ]
        },
        {
          "name": "stdout",
          "output_type": "stream",
          "text": [
            ">Epoch: 5,Batch: 51/468, disc_real_loss=0.351, disc_fake_loss=0.317 gan_loss=0.000\n",
            "2/2 [==============================] - 0s 8ms/step\n"
          ]
        },
        {
          "name": "stderr",
          "output_type": "stream",
          "text": [
            "WARNING:tensorflow:Compiled the loaded model, but the compiled metrics have yet to be built. `model.compile_metrics` will be empty until you train or evaluate the model.\n"
          ]
        },
        {
          "name": "stdout",
          "output_type": "stream",
          "text": [
            ">Epoch: 5,Batch: 52/468, disc_real_loss=0.309, disc_fake_loss=0.516 gan_loss=0.000\n",
            "2/2 [==============================] - 0s 9ms/step\n"
          ]
        },
        {
          "name": "stderr",
          "output_type": "stream",
          "text": [
            "WARNING:tensorflow:Compiled the loaded model, but the compiled metrics have yet to be built. `model.compile_metrics` will be empty until you train or evaluate the model.\n"
          ]
        },
        {
          "name": "stdout",
          "output_type": "stream",
          "text": [
            ">Epoch: 5,Batch: 53/468, disc_real_loss=0.309, disc_fake_loss=0.308 gan_loss=0.000\n",
            "2/2 [==============================] - 0s 10ms/step\n"
          ]
        },
        {
          "name": "stderr",
          "output_type": "stream",
          "text": [
            "WARNING:tensorflow:Compiled the loaded model, but the compiled metrics have yet to be built. `model.compile_metrics` will be empty until you train or evaluate the model.\n"
          ]
        },
        {
          "name": "stdout",
          "output_type": "stream",
          "text": [
            ">Epoch: 5,Batch: 54/468, disc_real_loss=0.407, disc_fake_loss=0.282 gan_loss=0.000\n",
            "2/2 [==============================] - 0s 8ms/step\n"
          ]
        },
        {
          "name": "stderr",
          "output_type": "stream",
          "text": [
            "WARNING:tensorflow:Compiled the loaded model, but the compiled metrics have yet to be built. `model.compile_metrics` will be empty until you train or evaluate the model.\n"
          ]
        },
        {
          "name": "stdout",
          "output_type": "stream",
          "text": [
            ">Epoch: 5,Batch: 55/468, disc_real_loss=0.389, disc_fake_loss=0.317 gan_loss=0.000\n",
            "2/2 [==============================] - 0s 7ms/step\n"
          ]
        },
        {
          "name": "stderr",
          "output_type": "stream",
          "text": [
            "WARNING:tensorflow:Compiled the loaded model, but the compiled metrics have yet to be built. `model.compile_metrics` will be empty until you train or evaluate the model.\n"
          ]
        },
        {
          "name": "stdout",
          "output_type": "stream",
          "text": [
            ">Epoch: 5,Batch: 56/468, disc_real_loss=0.383, disc_fake_loss=0.418 gan_loss=0.000\n",
            "2/2 [==============================] - 0s 8ms/step\n"
          ]
        },
        {
          "name": "stderr",
          "output_type": "stream",
          "text": [
            "WARNING:tensorflow:Compiled the loaded model, but the compiled metrics have yet to be built. `model.compile_metrics` will be empty until you train or evaluate the model.\n"
          ]
        },
        {
          "name": "stdout",
          "output_type": "stream",
          "text": [
            ">Epoch: 5,Batch: 57/468, disc_real_loss=0.292, disc_fake_loss=0.350 gan_loss=0.000\n",
            "2/2 [==============================] - 0s 9ms/step\n"
          ]
        },
        {
          "name": "stderr",
          "output_type": "stream",
          "text": [
            "WARNING:tensorflow:Compiled the loaded model, but the compiled metrics have yet to be built. `model.compile_metrics` will be empty until you train or evaluate the model.\n"
          ]
        },
        {
          "name": "stdout",
          "output_type": "stream",
          "text": [
            ">Epoch: 5,Batch: 58/468, disc_real_loss=0.355, disc_fake_loss=0.361 gan_loss=0.000\n",
            "2/2 [==============================] - 0s 7ms/step\n"
          ]
        },
        {
          "name": "stderr",
          "output_type": "stream",
          "text": [
            "WARNING:tensorflow:Compiled the loaded model, but the compiled metrics have yet to be built. `model.compile_metrics` will be empty until you train or evaluate the model.\n"
          ]
        },
        {
          "name": "stdout",
          "output_type": "stream",
          "text": [
            ">Epoch: 5,Batch: 59/468, disc_real_loss=0.307, disc_fake_loss=0.287 gan_loss=0.000\n",
            "2/2 [==============================] - 0s 6ms/step\n"
          ]
        },
        {
          "name": "stderr",
          "output_type": "stream",
          "text": [
            "WARNING:tensorflow:Compiled the loaded model, but the compiled metrics have yet to be built. `model.compile_metrics` will be empty until you train or evaluate the model.\n"
          ]
        },
        {
          "name": "stdout",
          "output_type": "stream",
          "text": [
            ">Epoch: 5,Batch: 60/468, disc_real_loss=0.296, disc_fake_loss=0.242 gan_loss=0.000\n",
            "2/2 [==============================] - 0s 7ms/step\n"
          ]
        },
        {
          "name": "stderr",
          "output_type": "stream",
          "text": [
            "WARNING:tensorflow:Compiled the loaded model, but the compiled metrics have yet to be built. `model.compile_metrics` will be empty until you train or evaluate the model.\n"
          ]
        },
        {
          "name": "stdout",
          "output_type": "stream",
          "text": [
            ">Epoch: 5,Batch: 61/468, disc_real_loss=0.338, disc_fake_loss=0.374 gan_loss=0.000\n",
            "2/2 [==============================] - 0s 7ms/step\n"
          ]
        },
        {
          "name": "stderr",
          "output_type": "stream",
          "text": [
            "WARNING:tensorflow:Compiled the loaded model, but the compiled metrics have yet to be built. `model.compile_metrics` will be empty until you train or evaluate the model.\n"
          ]
        },
        {
          "name": "stdout",
          "output_type": "stream",
          "text": [
            ">Epoch: 5,Batch: 62/468, disc_real_loss=0.336, disc_fake_loss=0.337 gan_loss=0.000\n",
            "2/2 [==============================] - 0s 9ms/step\n"
          ]
        },
        {
          "name": "stderr",
          "output_type": "stream",
          "text": [
            "WARNING:tensorflow:Compiled the loaded model, but the compiled metrics have yet to be built. `model.compile_metrics` will be empty until you train or evaluate the model.\n"
          ]
        },
        {
          "name": "stdout",
          "output_type": "stream",
          "text": [
            ">Epoch: 5,Batch: 63/468, disc_real_loss=0.329, disc_fake_loss=0.265 gan_loss=0.000\n",
            "2/2 [==============================] - 0s 8ms/step\n"
          ]
        },
        {
          "name": "stderr",
          "output_type": "stream",
          "text": [
            "WARNING:tensorflow:Compiled the loaded model, but the compiled metrics have yet to be built. `model.compile_metrics` will be empty until you train or evaluate the model.\n"
          ]
        },
        {
          "name": "stdout",
          "output_type": "stream",
          "text": [
            ">Epoch: 5,Batch: 64/468, disc_real_loss=0.298, disc_fake_loss=0.408 gan_loss=0.000\n",
            "2/2 [==============================] - 0s 7ms/step\n"
          ]
        },
        {
          "name": "stderr",
          "output_type": "stream",
          "text": [
            "WARNING:tensorflow:Compiled the loaded model, but the compiled metrics have yet to be built. `model.compile_metrics` will be empty until you train or evaluate the model.\n"
          ]
        },
        {
          "name": "stdout",
          "output_type": "stream",
          "text": [
            ">Epoch: 5,Batch: 65/468, disc_real_loss=0.400, disc_fake_loss=0.286 gan_loss=0.000\n",
            "2/2 [==============================] - 0s 6ms/step\n"
          ]
        },
        {
          "name": "stderr",
          "output_type": "stream",
          "text": [
            "WARNING:tensorflow:Compiled the loaded model, but the compiled metrics have yet to be built. `model.compile_metrics` will be empty until you train or evaluate the model.\n"
          ]
        },
        {
          "name": "stdout",
          "output_type": "stream",
          "text": [
            ">Epoch: 5,Batch: 66/468, disc_real_loss=0.297, disc_fake_loss=0.441 gan_loss=0.000\n",
            "2/2 [==============================] - 0s 9ms/step\n"
          ]
        },
        {
          "name": "stderr",
          "output_type": "stream",
          "text": [
            "WARNING:tensorflow:Compiled the loaded model, but the compiled metrics have yet to be built. `model.compile_metrics` will be empty until you train or evaluate the model.\n"
          ]
        },
        {
          "name": "stdout",
          "output_type": "stream",
          "text": [
            ">Epoch: 5,Batch: 67/468, disc_real_loss=0.349, disc_fake_loss=0.355 gan_loss=0.000\n",
            "2/2 [==============================] - 0s 11ms/step\n"
          ]
        },
        {
          "name": "stderr",
          "output_type": "stream",
          "text": [
            "WARNING:tensorflow:Compiled the loaded model, but the compiled metrics have yet to be built. `model.compile_metrics` will be empty until you train or evaluate the model.\n"
          ]
        },
        {
          "name": "stdout",
          "output_type": "stream",
          "text": [
            ">Epoch: 5,Batch: 68/468, disc_real_loss=0.257, disc_fake_loss=0.367 gan_loss=0.000\n",
            "2/2 [==============================] - 0s 9ms/step\n"
          ]
        },
        {
          "name": "stderr",
          "output_type": "stream",
          "text": [
            "WARNING:tensorflow:Compiled the loaded model, but the compiled metrics have yet to be built. `model.compile_metrics` will be empty until you train or evaluate the model.\n"
          ]
        },
        {
          "name": "stdout",
          "output_type": "stream",
          "text": [
            ">Epoch: 5,Batch: 69/468, disc_real_loss=0.356, disc_fake_loss=0.290 gan_loss=0.000\n",
            "2/2 [==============================] - 0s 9ms/step\n"
          ]
        },
        {
          "name": "stderr",
          "output_type": "stream",
          "text": [
            "WARNING:tensorflow:Compiled the loaded model, but the compiled metrics have yet to be built. `model.compile_metrics` will be empty until you train or evaluate the model.\n"
          ]
        },
        {
          "name": "stdout",
          "output_type": "stream",
          "text": [
            ">Epoch: 5,Batch: 70/468, disc_real_loss=0.435, disc_fake_loss=0.373 gan_loss=0.000\n",
            "2/2 [==============================] - 0s 8ms/step\n"
          ]
        },
        {
          "name": "stderr",
          "output_type": "stream",
          "text": [
            "WARNING:tensorflow:Compiled the loaded model, but the compiled metrics have yet to be built. `model.compile_metrics` will be empty until you train or evaluate the model.\n"
          ]
        },
        {
          "name": "stdout",
          "output_type": "stream",
          "text": [
            ">Epoch: 5,Batch: 71/468, disc_real_loss=0.246, disc_fake_loss=0.327 gan_loss=0.000\n",
            "2/2 [==============================] - 0s 9ms/step\n"
          ]
        },
        {
          "name": "stderr",
          "output_type": "stream",
          "text": [
            "WARNING:tensorflow:Compiled the loaded model, but the compiled metrics have yet to be built. `model.compile_metrics` will be empty until you train or evaluate the model.\n"
          ]
        },
        {
          "name": "stdout",
          "output_type": "stream",
          "text": [
            ">Epoch: 5,Batch: 72/468, disc_real_loss=0.420, disc_fake_loss=0.382 gan_loss=0.000\n",
            "2/2 [==============================] - 0s 6ms/step\n"
          ]
        },
        {
          "name": "stderr",
          "output_type": "stream",
          "text": [
            "WARNING:tensorflow:Compiled the loaded model, but the compiled metrics have yet to be built. `model.compile_metrics` will be empty until you train or evaluate the model.\n"
          ]
        },
        {
          "name": "stdout",
          "output_type": "stream",
          "text": [
            ">Epoch: 5,Batch: 73/468, disc_real_loss=0.322, disc_fake_loss=0.345 gan_loss=0.000\n",
            "2/2 [==============================] - 0s 8ms/step\n"
          ]
        },
        {
          "name": "stderr",
          "output_type": "stream",
          "text": [
            "WARNING:tensorflow:Compiled the loaded model, but the compiled metrics have yet to be built. `model.compile_metrics` will be empty until you train or evaluate the model.\n"
          ]
        },
        {
          "name": "stdout",
          "output_type": "stream",
          "text": [
            ">Epoch: 5,Batch: 74/468, disc_real_loss=0.357, disc_fake_loss=0.309 gan_loss=0.000\n",
            "2/2 [==============================] - 0s 9ms/step\n"
          ]
        },
        {
          "name": "stderr",
          "output_type": "stream",
          "text": [
            "WARNING:tensorflow:Compiled the loaded model, but the compiled metrics have yet to be built. `model.compile_metrics` will be empty until you train or evaluate the model.\n"
          ]
        },
        {
          "name": "stdout",
          "output_type": "stream",
          "text": [
            ">Epoch: 5,Batch: 75/468, disc_real_loss=0.371, disc_fake_loss=0.477 gan_loss=0.000\n",
            "2/2 [==============================] - 0s 8ms/step\n"
          ]
        },
        {
          "name": "stderr",
          "output_type": "stream",
          "text": [
            "WARNING:tensorflow:Compiled the loaded model, but the compiled metrics have yet to be built. `model.compile_metrics` will be empty until you train or evaluate the model.\n"
          ]
        },
        {
          "name": "stdout",
          "output_type": "stream",
          "text": [
            ">Epoch: 5,Batch: 76/468, disc_real_loss=0.356, disc_fake_loss=0.380 gan_loss=0.000\n",
            "2/2 [==============================] - 0s 8ms/step\n"
          ]
        },
        {
          "name": "stderr",
          "output_type": "stream",
          "text": [
            "WARNING:tensorflow:Compiled the loaded model, but the compiled metrics have yet to be built. `model.compile_metrics` will be empty until you train or evaluate the model.\n"
          ]
        },
        {
          "name": "stdout",
          "output_type": "stream",
          "text": [
            ">Epoch: 5,Batch: 77/468, disc_real_loss=0.323, disc_fake_loss=0.298 gan_loss=0.000\n",
            "2/2 [==============================] - 0s 8ms/step\n"
          ]
        },
        {
          "name": "stderr",
          "output_type": "stream",
          "text": [
            "WARNING:tensorflow:Compiled the loaded model, but the compiled metrics have yet to be built. `model.compile_metrics` will be empty until you train or evaluate the model.\n"
          ]
        },
        {
          "name": "stdout",
          "output_type": "stream",
          "text": [
            ">Epoch: 5,Batch: 78/468, disc_real_loss=0.245, disc_fake_loss=0.323 gan_loss=0.000\n",
            "2/2 [==============================] - 0s 8ms/step\n"
          ]
        },
        {
          "name": "stderr",
          "output_type": "stream",
          "text": [
            "WARNING:tensorflow:Compiled the loaded model, but the compiled metrics have yet to be built. `model.compile_metrics` will be empty until you train or evaluate the model.\n"
          ]
        },
        {
          "name": "stdout",
          "output_type": "stream",
          "text": [
            ">Epoch: 5,Batch: 79/468, disc_real_loss=0.323, disc_fake_loss=0.301 gan_loss=0.000\n",
            "2/2 [==============================] - 0s 8ms/step\n"
          ]
        },
        {
          "name": "stderr",
          "output_type": "stream",
          "text": [
            "WARNING:tensorflow:Compiled the loaded model, but the compiled metrics have yet to be built. `model.compile_metrics` will be empty until you train or evaluate the model.\n"
          ]
        },
        {
          "name": "stdout",
          "output_type": "stream",
          "text": [
            ">Epoch: 5,Batch: 80/468, disc_real_loss=0.368, disc_fake_loss=0.331 gan_loss=0.000\n",
            "2/2 [==============================] - 0s 9ms/step\n"
          ]
        },
        {
          "name": "stderr",
          "output_type": "stream",
          "text": [
            "WARNING:tensorflow:Compiled the loaded model, but the compiled metrics have yet to be built. `model.compile_metrics` will be empty until you train or evaluate the model.\n"
          ]
        },
        {
          "name": "stdout",
          "output_type": "stream",
          "text": [
            ">Epoch: 5,Batch: 81/468, disc_real_loss=0.369, disc_fake_loss=0.276 gan_loss=0.000\n",
            "2/2 [==============================] - 0s 6ms/step\n"
          ]
        },
        {
          "name": "stderr",
          "output_type": "stream",
          "text": [
            "WARNING:tensorflow:Compiled the loaded model, but the compiled metrics have yet to be built. `model.compile_metrics` will be empty until you train or evaluate the model.\n"
          ]
        },
        {
          "name": "stdout",
          "output_type": "stream",
          "text": [
            ">Epoch: 5,Batch: 82/468, disc_real_loss=0.426, disc_fake_loss=0.344 gan_loss=0.000\n",
            "2/2 [==============================] - 0s 6ms/step\n"
          ]
        },
        {
          "name": "stderr",
          "output_type": "stream",
          "text": [
            "WARNING:tensorflow:Compiled the loaded model, but the compiled metrics have yet to be built. `model.compile_metrics` will be empty until you train or evaluate the model.\n"
          ]
        },
        {
          "name": "stdout",
          "output_type": "stream",
          "text": [
            ">Epoch: 5,Batch: 83/468, disc_real_loss=0.233, disc_fake_loss=0.331 gan_loss=0.000\n",
            "2/2 [==============================] - 0s 9ms/step\n"
          ]
        },
        {
          "name": "stderr",
          "output_type": "stream",
          "text": [
            "WARNING:tensorflow:Compiled the loaded model, but the compiled metrics have yet to be built. `model.compile_metrics` will be empty until you train or evaluate the model.\n"
          ]
        },
        {
          "name": "stdout",
          "output_type": "stream",
          "text": [
            ">Epoch: 5,Batch: 84/468, disc_real_loss=0.255, disc_fake_loss=0.316 gan_loss=0.000\n",
            "2/2 [==============================] - 0s 4ms/step\n"
          ]
        },
        {
          "name": "stderr",
          "output_type": "stream",
          "text": [
            "WARNING:tensorflow:Compiled the loaded model, but the compiled metrics have yet to be built. `model.compile_metrics` will be empty until you train or evaluate the model.\n"
          ]
        },
        {
          "name": "stdout",
          "output_type": "stream",
          "text": [
            ">Epoch: 5,Batch: 85/468, disc_real_loss=0.388, disc_fake_loss=0.276 gan_loss=0.000\n",
            "2/2 [==============================] - 0s 8ms/step\n"
          ]
        },
        {
          "name": "stderr",
          "output_type": "stream",
          "text": [
            "WARNING:tensorflow:Compiled the loaded model, but the compiled metrics have yet to be built. `model.compile_metrics` will be empty until you train or evaluate the model.\n"
          ]
        },
        {
          "name": "stdout",
          "output_type": "stream",
          "text": [
            ">Epoch: 5,Batch: 86/468, disc_real_loss=0.322, disc_fake_loss=0.357 gan_loss=0.000\n",
            "2/2 [==============================] - 0s 7ms/step\n"
          ]
        },
        {
          "name": "stderr",
          "output_type": "stream",
          "text": [
            "WARNING:tensorflow:Compiled the loaded model, but the compiled metrics have yet to be built. `model.compile_metrics` will be empty until you train or evaluate the model.\n"
          ]
        },
        {
          "name": "stdout",
          "output_type": "stream",
          "text": [
            ">Epoch: 5,Batch: 87/468, disc_real_loss=0.243, disc_fake_loss=0.296 gan_loss=0.000\n",
            "2/2 [==============================] - 0s 8ms/step\n"
          ]
        },
        {
          "name": "stderr",
          "output_type": "stream",
          "text": [
            "WARNING:tensorflow:Compiled the loaded model, but the compiled metrics have yet to be built. `model.compile_metrics` will be empty until you train or evaluate the model.\n"
          ]
        },
        {
          "name": "stdout",
          "output_type": "stream",
          "text": [
            ">Epoch: 5,Batch: 88/468, disc_real_loss=0.223, disc_fake_loss=0.272 gan_loss=0.000\n",
            "2/2 [==============================] - 0s 6ms/step\n"
          ]
        },
        {
          "name": "stderr",
          "output_type": "stream",
          "text": [
            "WARNING:tensorflow:Compiled the loaded model, but the compiled metrics have yet to be built. `model.compile_metrics` will be empty until you train or evaluate the model.\n"
          ]
        },
        {
          "name": "stdout",
          "output_type": "stream",
          "text": [
            ">Epoch: 5,Batch: 89/468, disc_real_loss=0.342, disc_fake_loss=0.321 gan_loss=0.000\n",
            "2/2 [==============================] - 0s 11ms/step\n"
          ]
        },
        {
          "name": "stderr",
          "output_type": "stream",
          "text": [
            "WARNING:tensorflow:Compiled the loaded model, but the compiled metrics have yet to be built. `model.compile_metrics` will be empty until you train or evaluate the model.\n"
          ]
        },
        {
          "name": "stdout",
          "output_type": "stream",
          "text": [
            ">Epoch: 5,Batch: 90/468, disc_real_loss=0.350, disc_fake_loss=0.355 gan_loss=0.000\n",
            "2/2 [==============================] - 0s 9ms/step\n"
          ]
        },
        {
          "name": "stderr",
          "output_type": "stream",
          "text": [
            "WARNING:tensorflow:Compiled the loaded model, but the compiled metrics have yet to be built. `model.compile_metrics` will be empty until you train or evaluate the model.\n"
          ]
        },
        {
          "name": "stdout",
          "output_type": "stream",
          "text": [
            ">Epoch: 5,Batch: 91/468, disc_real_loss=0.476, disc_fake_loss=0.335 gan_loss=0.000\n",
            "2/2 [==============================] - 0s 9ms/step\n"
          ]
        },
        {
          "name": "stderr",
          "output_type": "stream",
          "text": [
            "WARNING:tensorflow:Compiled the loaded model, but the compiled metrics have yet to be built. `model.compile_metrics` will be empty until you train or evaluate the model.\n"
          ]
        },
        {
          "name": "stdout",
          "output_type": "stream",
          "text": [
            ">Epoch: 5,Batch: 92/468, disc_real_loss=0.326, disc_fake_loss=0.315 gan_loss=0.000\n",
            "2/2 [==============================] - 0s 7ms/step\n"
          ]
        },
        {
          "name": "stderr",
          "output_type": "stream",
          "text": [
            "WARNING:tensorflow:Compiled the loaded model, but the compiled metrics have yet to be built. `model.compile_metrics` will be empty until you train or evaluate the model.\n"
          ]
        },
        {
          "name": "stdout",
          "output_type": "stream",
          "text": [
            ">Epoch: 5,Batch: 93/468, disc_real_loss=0.285, disc_fake_loss=0.332 gan_loss=0.000\n",
            "2/2 [==============================] - 0s 8ms/step\n"
          ]
        },
        {
          "name": "stderr",
          "output_type": "stream",
          "text": [
            "WARNING:tensorflow:Compiled the loaded model, but the compiled metrics have yet to be built. `model.compile_metrics` will be empty until you train or evaluate the model.\n"
          ]
        },
        {
          "name": "stdout",
          "output_type": "stream",
          "text": [
            ">Epoch: 5,Batch: 94/468, disc_real_loss=0.295, disc_fake_loss=0.389 gan_loss=0.000\n",
            "2/2 [==============================] - 0s 11ms/step\n"
          ]
        },
        {
          "name": "stderr",
          "output_type": "stream",
          "text": [
            "WARNING:tensorflow:Compiled the loaded model, but the compiled metrics have yet to be built. `model.compile_metrics` will be empty until you train or evaluate the model.\n"
          ]
        },
        {
          "name": "stdout",
          "output_type": "stream",
          "text": [
            ">Epoch: 5,Batch: 95/468, disc_real_loss=0.394, disc_fake_loss=0.483 gan_loss=0.000\n",
            "2/2 [==============================] - 0s 9ms/step\n"
          ]
        },
        {
          "name": "stderr",
          "output_type": "stream",
          "text": [
            "WARNING:tensorflow:Compiled the loaded model, but the compiled metrics have yet to be built. `model.compile_metrics` will be empty until you train or evaluate the model.\n"
          ]
        },
        {
          "name": "stdout",
          "output_type": "stream",
          "text": [
            ">Epoch: 5,Batch: 96/468, disc_real_loss=0.338, disc_fake_loss=0.255 gan_loss=0.000\n",
            "2/2 [==============================] - 0s 9ms/step\n"
          ]
        },
        {
          "name": "stderr",
          "output_type": "stream",
          "text": [
            "WARNING:tensorflow:Compiled the loaded model, but the compiled metrics have yet to be built. `model.compile_metrics` will be empty until you train or evaluate the model.\n"
          ]
        },
        {
          "name": "stdout",
          "output_type": "stream",
          "text": [
            ">Epoch: 5,Batch: 97/468, disc_real_loss=0.366, disc_fake_loss=0.360 gan_loss=0.000\n",
            "2/2 [==============================] - 0s 9ms/step\n"
          ]
        },
        {
          "name": "stderr",
          "output_type": "stream",
          "text": [
            "WARNING:tensorflow:Compiled the loaded model, but the compiled metrics have yet to be built. `model.compile_metrics` will be empty until you train or evaluate the model.\n"
          ]
        },
        {
          "name": "stdout",
          "output_type": "stream",
          "text": [
            ">Epoch: 5,Batch: 98/468, disc_real_loss=0.270, disc_fake_loss=0.228 gan_loss=0.000\n",
            "2/2 [==============================] - 0s 7ms/step\n"
          ]
        },
        {
          "name": "stderr",
          "output_type": "stream",
          "text": [
            "WARNING:tensorflow:Compiled the loaded model, but the compiled metrics have yet to be built. `model.compile_metrics` will be empty until you train or evaluate the model.\n"
          ]
        },
        {
          "name": "stdout",
          "output_type": "stream",
          "text": [
            ">Epoch: 5,Batch: 99/468, disc_real_loss=0.343, disc_fake_loss=0.340 gan_loss=0.000\n",
            "2/2 [==============================] - 0s 8ms/step\n"
          ]
        },
        {
          "name": "stderr",
          "output_type": "stream",
          "text": [
            "WARNING:tensorflow:Compiled the loaded model, but the compiled metrics have yet to be built. `model.compile_metrics` will be empty until you train or evaluate the model.\n"
          ]
        },
        {
          "name": "stdout",
          "output_type": "stream",
          "text": [
            ">Epoch: 5,Batch: 100/468, disc_real_loss=0.306, disc_fake_loss=0.386 gan_loss=0.000\n",
            "2/2 [==============================] - 0s 9ms/step\n"
          ]
        },
        {
          "name": "stderr",
          "output_type": "stream",
          "text": [
            "WARNING:tensorflow:Compiled the loaded model, but the compiled metrics have yet to be built. `model.compile_metrics` will be empty until you train or evaluate the model.\n"
          ]
        },
        {
          "name": "stdout",
          "output_type": "stream",
          "text": [
            ">Epoch: 5,Batch: 101/468, disc_real_loss=0.282, disc_fake_loss=0.371 gan_loss=0.000\n",
            "2/2 [==============================] - 0s 10ms/step\n"
          ]
        },
        {
          "name": "stderr",
          "output_type": "stream",
          "text": [
            "WARNING:tensorflow:Compiled the loaded model, but the compiled metrics have yet to be built. `model.compile_metrics` will be empty until you train or evaluate the model.\n"
          ]
        },
        {
          "name": "stdout",
          "output_type": "stream",
          "text": [
            ">Epoch: 5,Batch: 102/468, disc_real_loss=0.327, disc_fake_loss=0.287 gan_loss=0.000\n",
            "2/2 [==============================] - 0s 5ms/step\n"
          ]
        },
        {
          "name": "stderr",
          "output_type": "stream",
          "text": [
            "WARNING:tensorflow:Compiled the loaded model, but the compiled metrics have yet to be built. `model.compile_metrics` will be empty until you train or evaluate the model.\n"
          ]
        },
        {
          "name": "stdout",
          "output_type": "stream",
          "text": [
            ">Epoch: 5,Batch: 103/468, disc_real_loss=0.308, disc_fake_loss=0.348 gan_loss=0.000\n",
            "2/2 [==============================] - 0s 10ms/step\n"
          ]
        },
        {
          "name": "stderr",
          "output_type": "stream",
          "text": [
            "WARNING:tensorflow:Compiled the loaded model, but the compiled metrics have yet to be built. `model.compile_metrics` will be empty until you train or evaluate the model.\n"
          ]
        },
        {
          "name": "stdout",
          "output_type": "stream",
          "text": [
            ">Epoch: 5,Batch: 104/468, disc_real_loss=0.297, disc_fake_loss=0.284 gan_loss=0.000\n",
            "2/2 [==============================] - 0s 8ms/step\n"
          ]
        },
        {
          "name": "stderr",
          "output_type": "stream",
          "text": [
            "WARNING:tensorflow:Compiled the loaded model, but the compiled metrics have yet to be built. `model.compile_metrics` will be empty until you train or evaluate the model.\n"
          ]
        },
        {
          "name": "stdout",
          "output_type": "stream",
          "text": [
            ">Epoch: 5,Batch: 105/468, disc_real_loss=0.400, disc_fake_loss=0.314 gan_loss=0.000\n",
            "2/2 [==============================] - 0s 6ms/step\n"
          ]
        },
        {
          "name": "stderr",
          "output_type": "stream",
          "text": [
            "WARNING:tensorflow:Compiled the loaded model, but the compiled metrics have yet to be built. `model.compile_metrics` will be empty until you train or evaluate the model.\n"
          ]
        },
        {
          "name": "stdout",
          "output_type": "stream",
          "text": [
            ">Epoch: 5,Batch: 106/468, disc_real_loss=0.382, disc_fake_loss=0.323 gan_loss=0.000\n",
            "2/2 [==============================] - 0s 10ms/step\n"
          ]
        },
        {
          "name": "stderr",
          "output_type": "stream",
          "text": [
            "WARNING:tensorflow:Compiled the loaded model, but the compiled metrics have yet to be built. `model.compile_metrics` will be empty until you train or evaluate the model.\n"
          ]
        },
        {
          "name": "stdout",
          "output_type": "stream",
          "text": [
            ">Epoch: 5,Batch: 107/468, disc_real_loss=0.352, disc_fake_loss=0.347 gan_loss=0.000\n",
            "2/2 [==============================] - 0s 5ms/step\n"
          ]
        },
        {
          "name": "stderr",
          "output_type": "stream",
          "text": [
            "WARNING:tensorflow:Compiled the loaded model, but the compiled metrics have yet to be built. `model.compile_metrics` will be empty until you train or evaluate the model.\n"
          ]
        },
        {
          "name": "stdout",
          "output_type": "stream",
          "text": [
            ">Epoch: 5,Batch: 108/468, disc_real_loss=0.338, disc_fake_loss=0.316 gan_loss=0.000\n",
            "2/2 [==============================] - 0s 7ms/step\n"
          ]
        },
        {
          "name": "stderr",
          "output_type": "stream",
          "text": [
            "WARNING:tensorflow:Compiled the loaded model, but the compiled metrics have yet to be built. `model.compile_metrics` will be empty until you train or evaluate the model.\n"
          ]
        },
        {
          "name": "stdout",
          "output_type": "stream",
          "text": [
            ">Epoch: 5,Batch: 109/468, disc_real_loss=0.376, disc_fake_loss=0.412 gan_loss=0.000\n",
            "2/2 [==============================] - 0s 10ms/step\n"
          ]
        },
        {
          "name": "stderr",
          "output_type": "stream",
          "text": [
            "WARNING:tensorflow:Compiled the loaded model, but the compiled metrics have yet to be built. `model.compile_metrics` will be empty until you train or evaluate the model.\n"
          ]
        },
        {
          "name": "stdout",
          "output_type": "stream",
          "text": [
            ">Epoch: 5,Batch: 110/468, disc_real_loss=0.246, disc_fake_loss=0.305 gan_loss=0.000\n",
            "2/2 [==============================] - 0s 7ms/step\n"
          ]
        },
        {
          "name": "stderr",
          "output_type": "stream",
          "text": [
            "WARNING:tensorflow:Compiled the loaded model, but the compiled metrics have yet to be built. `model.compile_metrics` will be empty until you train or evaluate the model.\n"
          ]
        },
        {
          "name": "stdout",
          "output_type": "stream",
          "text": [
            ">Epoch: 5,Batch: 111/468, disc_real_loss=0.268, disc_fake_loss=0.338 gan_loss=0.000\n",
            "2/2 [==============================] - 0s 8ms/step\n"
          ]
        },
        {
          "name": "stderr",
          "output_type": "stream",
          "text": [
            "WARNING:tensorflow:Compiled the loaded model, but the compiled metrics have yet to be built. `model.compile_metrics` will be empty until you train or evaluate the model.\n"
          ]
        },
        {
          "name": "stdout",
          "output_type": "stream",
          "text": [
            ">Epoch: 5,Batch: 112/468, disc_real_loss=0.341, disc_fake_loss=0.337 gan_loss=0.000\n",
            "2/2 [==============================] - 0s 9ms/step\n"
          ]
        },
        {
          "name": "stderr",
          "output_type": "stream",
          "text": [
            "WARNING:tensorflow:Compiled the loaded model, but the compiled metrics have yet to be built. `model.compile_metrics` will be empty until you train or evaluate the model.\n"
          ]
        },
        {
          "name": "stdout",
          "output_type": "stream",
          "text": [
            ">Epoch: 5,Batch: 113/468, disc_real_loss=0.318, disc_fake_loss=0.283 gan_loss=0.000\n",
            "2/2 [==============================] - 0s 7ms/step\n"
          ]
        },
        {
          "name": "stderr",
          "output_type": "stream",
          "text": [
            "WARNING:tensorflow:Compiled the loaded model, but the compiled metrics have yet to be built. `model.compile_metrics` will be empty until you train or evaluate the model.\n"
          ]
        },
        {
          "name": "stdout",
          "output_type": "stream",
          "text": [
            ">Epoch: 5,Batch: 114/468, disc_real_loss=0.396, disc_fake_loss=0.348 gan_loss=0.000\n",
            "2/2 [==============================] - 0s 9ms/step\n"
          ]
        },
        {
          "name": "stderr",
          "output_type": "stream",
          "text": [
            "WARNING:tensorflow:Compiled the loaded model, but the compiled metrics have yet to be built. `model.compile_metrics` will be empty until you train or evaluate the model.\n"
          ]
        },
        {
          "name": "stdout",
          "output_type": "stream",
          "text": [
            ">Epoch: 5,Batch: 115/468, disc_real_loss=0.389, disc_fake_loss=0.373 gan_loss=0.000\n",
            "2/2 [==============================] - 0s 11ms/step\n"
          ]
        },
        {
          "name": "stderr",
          "output_type": "stream",
          "text": [
            "WARNING:tensorflow:Compiled the loaded model, but the compiled metrics have yet to be built. `model.compile_metrics` will be empty until you train or evaluate the model.\n"
          ]
        },
        {
          "name": "stdout",
          "output_type": "stream",
          "text": [
            ">Epoch: 5,Batch: 116/468, disc_real_loss=0.324, disc_fake_loss=0.315 gan_loss=0.000\n",
            "2/2 [==============================] - 0s 8ms/step\n"
          ]
        },
        {
          "name": "stderr",
          "output_type": "stream",
          "text": [
            "WARNING:tensorflow:Compiled the loaded model, but the compiled metrics have yet to be built. `model.compile_metrics` will be empty until you train or evaluate the model.\n"
          ]
        },
        {
          "name": "stdout",
          "output_type": "stream",
          "text": [
            ">Epoch: 5,Batch: 117/468, disc_real_loss=0.291, disc_fake_loss=0.349 gan_loss=0.000\n",
            "2/2 [==============================] - 0s 10ms/step\n"
          ]
        },
        {
          "name": "stderr",
          "output_type": "stream",
          "text": [
            "WARNING:tensorflow:Compiled the loaded model, but the compiled metrics have yet to be built. `model.compile_metrics` will be empty until you train or evaluate the model.\n"
          ]
        },
        {
          "name": "stdout",
          "output_type": "stream",
          "text": [
            ">Epoch: 5,Batch: 118/468, disc_real_loss=0.353, disc_fake_loss=0.378 gan_loss=0.000\n",
            "2/2 [==============================] - 0s 10ms/step\n"
          ]
        },
        {
          "name": "stderr",
          "output_type": "stream",
          "text": [
            "WARNING:tensorflow:Compiled the loaded model, but the compiled metrics have yet to be built. `model.compile_metrics` will be empty until you train or evaluate the model.\n"
          ]
        },
        {
          "name": "stdout",
          "output_type": "stream",
          "text": [
            ">Epoch: 5,Batch: 119/468, disc_real_loss=0.370, disc_fake_loss=0.231 gan_loss=0.000\n",
            "2/2 [==============================] - 0s 6ms/step\n"
          ]
        },
        {
          "name": "stderr",
          "output_type": "stream",
          "text": [
            "WARNING:tensorflow:Compiled the loaded model, but the compiled metrics have yet to be built. `model.compile_metrics` will be empty until you train or evaluate the model.\n"
          ]
        },
        {
          "name": "stdout",
          "output_type": "stream",
          "text": [
            ">Epoch: 5,Batch: 120/468, disc_real_loss=0.355, disc_fake_loss=0.394 gan_loss=0.000\n",
            "2/2 [==============================] - 0s 5ms/step\n"
          ]
        },
        {
          "name": "stderr",
          "output_type": "stream",
          "text": [
            "WARNING:tensorflow:Compiled the loaded model, but the compiled metrics have yet to be built. `model.compile_metrics` will be empty until you train or evaluate the model.\n"
          ]
        },
        {
          "name": "stdout",
          "output_type": "stream",
          "text": [
            ">Epoch: 5,Batch: 121/468, disc_real_loss=0.244, disc_fake_loss=0.362 gan_loss=0.000\n",
            "2/2 [==============================] - 0s 9ms/step\n"
          ]
        },
        {
          "name": "stderr",
          "output_type": "stream",
          "text": [
            "WARNING:tensorflow:Compiled the loaded model, but the compiled metrics have yet to be built. `model.compile_metrics` will be empty until you train or evaluate the model.\n"
          ]
        },
        {
          "name": "stdout",
          "output_type": "stream",
          "text": [
            ">Epoch: 5,Batch: 122/468, disc_real_loss=0.325, disc_fake_loss=0.299 gan_loss=0.000\n",
            "2/2 [==============================] - 0s 9ms/step\n"
          ]
        },
        {
          "name": "stderr",
          "output_type": "stream",
          "text": [
            "WARNING:tensorflow:Compiled the loaded model, but the compiled metrics have yet to be built. `model.compile_metrics` will be empty until you train or evaluate the model.\n"
          ]
        },
        {
          "name": "stdout",
          "output_type": "stream",
          "text": [
            ">Epoch: 5,Batch: 123/468, disc_real_loss=0.340, disc_fake_loss=0.299 gan_loss=0.000\n",
            "2/2 [==============================] - 0s 10ms/step\n"
          ]
        },
        {
          "name": "stderr",
          "output_type": "stream",
          "text": [
            "WARNING:tensorflow:Compiled the loaded model, but the compiled metrics have yet to be built. `model.compile_metrics` will be empty until you train or evaluate the model.\n"
          ]
        },
        {
          "name": "stdout",
          "output_type": "stream",
          "text": [
            ">Epoch: 5,Batch: 124/468, disc_real_loss=0.307, disc_fake_loss=0.335 gan_loss=0.000\n",
            "2/2 [==============================] - 0s 5ms/step\n"
          ]
        },
        {
          "name": "stderr",
          "output_type": "stream",
          "text": [
            "WARNING:tensorflow:Compiled the loaded model, but the compiled metrics have yet to be built. `model.compile_metrics` will be empty until you train or evaluate the model.\n"
          ]
        },
        {
          "name": "stdout",
          "output_type": "stream",
          "text": [
            ">Epoch: 5,Batch: 125/468, disc_real_loss=0.354, disc_fake_loss=0.350 gan_loss=0.000\n",
            "2/2 [==============================] - 0s 7ms/step\n"
          ]
        },
        {
          "name": "stderr",
          "output_type": "stream",
          "text": [
            "WARNING:tensorflow:Compiled the loaded model, but the compiled metrics have yet to be built. `model.compile_metrics` will be empty until you train or evaluate the model.\n"
          ]
        },
        {
          "name": "stdout",
          "output_type": "stream",
          "text": [
            ">Epoch: 5,Batch: 126/468, disc_real_loss=0.318, disc_fake_loss=0.400 gan_loss=0.000\n",
            "2/2 [==============================] - 0s 8ms/step\n"
          ]
        },
        {
          "name": "stderr",
          "output_type": "stream",
          "text": [
            "WARNING:tensorflow:Compiled the loaded model, but the compiled metrics have yet to be built. `model.compile_metrics` will be empty until you train or evaluate the model.\n"
          ]
        },
        {
          "name": "stdout",
          "output_type": "stream",
          "text": [
            ">Epoch: 5,Batch: 127/468, disc_real_loss=0.371, disc_fake_loss=0.405 gan_loss=0.000\n",
            "2/2 [==============================] - 0s 7ms/step\n"
          ]
        },
        {
          "name": "stderr",
          "output_type": "stream",
          "text": [
            "WARNING:tensorflow:Compiled the loaded model, but the compiled metrics have yet to be built. `model.compile_metrics` will be empty until you train or evaluate the model.\n"
          ]
        },
        {
          "name": "stdout",
          "output_type": "stream",
          "text": [
            ">Epoch: 5,Batch: 128/468, disc_real_loss=0.385, disc_fake_loss=0.340 gan_loss=0.000\n",
            "2/2 [==============================] - 0s 10ms/step\n"
          ]
        },
        {
          "name": "stderr",
          "output_type": "stream",
          "text": [
            "WARNING:tensorflow:Compiled the loaded model, but the compiled metrics have yet to be built. `model.compile_metrics` will be empty until you train or evaluate the model.\n"
          ]
        },
        {
          "name": "stdout",
          "output_type": "stream",
          "text": [
            ">Epoch: 5,Batch: 129/468, disc_real_loss=0.368, disc_fake_loss=0.427 gan_loss=0.000\n",
            "2/2 [==============================] - 0s 6ms/step\n"
          ]
        },
        {
          "name": "stderr",
          "output_type": "stream",
          "text": [
            "WARNING:tensorflow:Compiled the loaded model, but the compiled metrics have yet to be built. `model.compile_metrics` will be empty until you train or evaluate the model.\n"
          ]
        },
        {
          "name": "stdout",
          "output_type": "stream",
          "text": [
            ">Epoch: 5,Batch: 130/468, disc_real_loss=0.269, disc_fake_loss=0.363 gan_loss=0.000\n",
            "2/2 [==============================] - 0s 5ms/step\n"
          ]
        },
        {
          "name": "stderr",
          "output_type": "stream",
          "text": [
            "WARNING:tensorflow:Compiled the loaded model, but the compiled metrics have yet to be built. `model.compile_metrics` will be empty until you train or evaluate the model.\n"
          ]
        },
        {
          "name": "stdout",
          "output_type": "stream",
          "text": [
            ">Epoch: 5,Batch: 131/468, disc_real_loss=0.382, disc_fake_loss=0.292 gan_loss=0.000\n",
            "2/2 [==============================] - 0s 9ms/step\n"
          ]
        },
        {
          "name": "stderr",
          "output_type": "stream",
          "text": [
            "WARNING:tensorflow:Compiled the loaded model, but the compiled metrics have yet to be built. `model.compile_metrics` will be empty until you train or evaluate the model.\n"
          ]
        },
        {
          "name": "stdout",
          "output_type": "stream",
          "text": [
            ">Epoch: 5,Batch: 132/468, disc_real_loss=0.336, disc_fake_loss=0.323 gan_loss=0.000\n",
            "2/2 [==============================] - 0s 9ms/step\n"
          ]
        },
        {
          "name": "stderr",
          "output_type": "stream",
          "text": [
            "WARNING:tensorflow:Compiled the loaded model, but the compiled metrics have yet to be built. `model.compile_metrics` will be empty until you train or evaluate the model.\n"
          ]
        },
        {
          "name": "stdout",
          "output_type": "stream",
          "text": [
            ">Epoch: 5,Batch: 133/468, disc_real_loss=0.270, disc_fake_loss=0.353 gan_loss=0.000\n",
            "2/2 [==============================] - 0s 9ms/step\n"
          ]
        },
        {
          "name": "stderr",
          "output_type": "stream",
          "text": [
            "WARNING:tensorflow:Compiled the loaded model, but the compiled metrics have yet to be built. `model.compile_metrics` will be empty until you train or evaluate the model.\n"
          ]
        },
        {
          "name": "stdout",
          "output_type": "stream",
          "text": [
            ">Epoch: 5,Batch: 134/468, disc_real_loss=0.264, disc_fake_loss=0.291 gan_loss=0.000\n",
            "2/2 [==============================] - 0s 5ms/step\n"
          ]
        },
        {
          "name": "stderr",
          "output_type": "stream",
          "text": [
            "WARNING:tensorflow:Compiled the loaded model, but the compiled metrics have yet to be built. `model.compile_metrics` will be empty until you train or evaluate the model.\n"
          ]
        },
        {
          "name": "stdout",
          "output_type": "stream",
          "text": [
            ">Epoch: 5,Batch: 135/468, disc_real_loss=0.481, disc_fake_loss=0.362 gan_loss=0.000\n",
            "2/2 [==============================] - 0s 11ms/step\n"
          ]
        },
        {
          "name": "stderr",
          "output_type": "stream",
          "text": [
            "WARNING:tensorflow:Compiled the loaded model, but the compiled metrics have yet to be built. `model.compile_metrics` will be empty until you train or evaluate the model.\n"
          ]
        },
        {
          "name": "stdout",
          "output_type": "stream",
          "text": [
            ">Epoch: 5,Batch: 136/468, disc_real_loss=0.326, disc_fake_loss=0.302 gan_loss=0.000\n",
            "2/2 [==============================] - 0s 6ms/step\n"
          ]
        },
        {
          "name": "stderr",
          "output_type": "stream",
          "text": [
            "WARNING:tensorflow:Compiled the loaded model, but the compiled metrics have yet to be built. `model.compile_metrics` will be empty until you train or evaluate the model.\n"
          ]
        },
        {
          "name": "stdout",
          "output_type": "stream",
          "text": [
            ">Epoch: 5,Batch: 137/468, disc_real_loss=0.332, disc_fake_loss=0.382 gan_loss=0.000\n",
            "2/2 [==============================] - 0s 6ms/step\n"
          ]
        },
        {
          "name": "stderr",
          "output_type": "stream",
          "text": [
            "WARNING:tensorflow:Compiled the loaded model, but the compiled metrics have yet to be built. `model.compile_metrics` will be empty until you train or evaluate the model.\n"
          ]
        },
        {
          "name": "stdout",
          "output_type": "stream",
          "text": [
            ">Epoch: 5,Batch: 138/468, disc_real_loss=0.351, disc_fake_loss=0.338 gan_loss=0.000\n",
            "2/2 [==============================] - 0s 9ms/step\n"
          ]
        },
        {
          "name": "stderr",
          "output_type": "stream",
          "text": [
            "WARNING:tensorflow:Compiled the loaded model, but the compiled metrics have yet to be built. `model.compile_metrics` will be empty until you train or evaluate the model.\n"
          ]
        },
        {
          "name": "stdout",
          "output_type": "stream",
          "text": [
            ">Epoch: 5,Batch: 139/468, disc_real_loss=0.325, disc_fake_loss=0.300 gan_loss=0.000\n",
            "2/2 [==============================] - 0s 4ms/step\n"
          ]
        },
        {
          "name": "stderr",
          "output_type": "stream",
          "text": [
            "WARNING:tensorflow:Compiled the loaded model, but the compiled metrics have yet to be built. `model.compile_metrics` will be empty until you train or evaluate the model.\n"
          ]
        },
        {
          "name": "stdout",
          "output_type": "stream",
          "text": [
            ">Epoch: 5,Batch: 140/468, disc_real_loss=0.342, disc_fake_loss=0.469 gan_loss=0.000\n",
            "2/2 [==============================] - 0s 6ms/step\n"
          ]
        },
        {
          "name": "stderr",
          "output_type": "stream",
          "text": [
            "WARNING:tensorflow:Compiled the loaded model, but the compiled metrics have yet to be built. `model.compile_metrics` will be empty until you train or evaluate the model.\n"
          ]
        },
        {
          "name": "stdout",
          "output_type": "stream",
          "text": [
            ">Epoch: 5,Batch: 141/468, disc_real_loss=0.268, disc_fake_loss=0.344 gan_loss=0.000\n",
            "2/2 [==============================] - 0s 5ms/step\n"
          ]
        },
        {
          "name": "stderr",
          "output_type": "stream",
          "text": [
            "WARNING:tensorflow:Compiled the loaded model, but the compiled metrics have yet to be built. `model.compile_metrics` will be empty until you train or evaluate the model.\n"
          ]
        },
        {
          "name": "stdout",
          "output_type": "stream",
          "text": [
            ">Epoch: 5,Batch: 142/468, disc_real_loss=0.312, disc_fake_loss=0.206 gan_loss=0.000\n",
            "2/2 [==============================] - 0s 9ms/step\n"
          ]
        },
        {
          "name": "stderr",
          "output_type": "stream",
          "text": [
            "WARNING:tensorflow:Compiled the loaded model, but the compiled metrics have yet to be built. `model.compile_metrics` will be empty until you train or evaluate the model.\n"
          ]
        },
        {
          "name": "stdout",
          "output_type": "stream",
          "text": [
            ">Epoch: 5,Batch: 143/468, disc_real_loss=0.342, disc_fake_loss=0.326 gan_loss=0.000\n",
            "2/2 [==============================] - 0s 9ms/step\n"
          ]
        },
        {
          "name": "stderr",
          "output_type": "stream",
          "text": [
            "WARNING:tensorflow:Compiled the loaded model, but the compiled metrics have yet to be built. `model.compile_metrics` will be empty until you train or evaluate the model.\n"
          ]
        },
        {
          "name": "stdout",
          "output_type": "stream",
          "text": [
            ">Epoch: 5,Batch: 144/468, disc_real_loss=0.308, disc_fake_loss=0.336 gan_loss=0.000\n",
            "2/2 [==============================] - 0s 7ms/step\n"
          ]
        },
        {
          "name": "stderr",
          "output_type": "stream",
          "text": [
            "WARNING:tensorflow:Compiled the loaded model, but the compiled metrics have yet to be built. `model.compile_metrics` will be empty until you train or evaluate the model.\n"
          ]
        },
        {
          "name": "stdout",
          "output_type": "stream",
          "text": [
            ">Epoch: 5,Batch: 145/468, disc_real_loss=0.295, disc_fake_loss=0.375 gan_loss=0.000\n",
            "2/2 [==============================] - 0s 7ms/step\n"
          ]
        },
        {
          "name": "stderr",
          "output_type": "stream",
          "text": [
            "WARNING:tensorflow:Compiled the loaded model, but the compiled metrics have yet to be built. `model.compile_metrics` will be empty until you train or evaluate the model.\n"
          ]
        },
        {
          "name": "stdout",
          "output_type": "stream",
          "text": [
            ">Epoch: 5,Batch: 146/468, disc_real_loss=0.371, disc_fake_loss=0.353 gan_loss=0.000\n",
            "2/2 [==============================] - 0s 7ms/step\n"
          ]
        },
        {
          "name": "stderr",
          "output_type": "stream",
          "text": [
            "WARNING:tensorflow:Compiled the loaded model, but the compiled metrics have yet to be built. `model.compile_metrics` will be empty until you train or evaluate the model.\n"
          ]
        },
        {
          "name": "stdout",
          "output_type": "stream",
          "text": [
            ">Epoch: 5,Batch: 147/468, disc_real_loss=0.302, disc_fake_loss=0.260 gan_loss=0.000\n",
            "2/2 [==============================] - 0s 5ms/step\n"
          ]
        },
        {
          "name": "stderr",
          "output_type": "stream",
          "text": [
            "WARNING:tensorflow:Compiled the loaded model, but the compiled metrics have yet to be built. `model.compile_metrics` will be empty until you train or evaluate the model.\n"
          ]
        },
        {
          "name": "stdout",
          "output_type": "stream",
          "text": [
            ">Epoch: 5,Batch: 148/468, disc_real_loss=0.302, disc_fake_loss=0.448 gan_loss=0.000\n",
            "2/2 [==============================] - 0s 8ms/step\n"
          ]
        },
        {
          "name": "stderr",
          "output_type": "stream",
          "text": [
            "WARNING:tensorflow:Compiled the loaded model, but the compiled metrics have yet to be built. `model.compile_metrics` will be empty until you train or evaluate the model.\n"
          ]
        },
        {
          "name": "stdout",
          "output_type": "stream",
          "text": [
            ">Epoch: 5,Batch: 149/468, disc_real_loss=0.258, disc_fake_loss=0.285 gan_loss=0.000\n",
            "2/2 [==============================] - 0s 8ms/step\n"
          ]
        },
        {
          "name": "stderr",
          "output_type": "stream",
          "text": [
            "WARNING:tensorflow:Compiled the loaded model, but the compiled metrics have yet to be built. `model.compile_metrics` will be empty until you train or evaluate the model.\n"
          ]
        },
        {
          "name": "stdout",
          "output_type": "stream",
          "text": [
            ">Epoch: 5,Batch: 150/468, disc_real_loss=0.474, disc_fake_loss=0.400 gan_loss=0.000\n",
            "2/2 [==============================] - 0s 8ms/step\n"
          ]
        },
        {
          "name": "stderr",
          "output_type": "stream",
          "text": [
            "WARNING:tensorflow:Compiled the loaded model, but the compiled metrics have yet to be built. `model.compile_metrics` will be empty until you train or evaluate the model.\n"
          ]
        },
        {
          "name": "stdout",
          "output_type": "stream",
          "text": [
            ">Epoch: 5,Batch: 151/468, disc_real_loss=0.318, disc_fake_loss=0.293 gan_loss=0.000\n",
            "2/2 [==============================] - 0s 10ms/step\n"
          ]
        },
        {
          "name": "stderr",
          "output_type": "stream",
          "text": [
            "WARNING:tensorflow:Compiled the loaded model, but the compiled metrics have yet to be built. `model.compile_metrics` will be empty until you train or evaluate the model.\n"
          ]
        },
        {
          "name": "stdout",
          "output_type": "stream",
          "text": [
            ">Epoch: 5,Batch: 152/468, disc_real_loss=0.305, disc_fake_loss=0.298 gan_loss=0.000\n",
            "2/2 [==============================] - 0s 9ms/step\n"
          ]
        },
        {
          "name": "stderr",
          "output_type": "stream",
          "text": [
            "WARNING:tensorflow:Compiled the loaded model, but the compiled metrics have yet to be built. `model.compile_metrics` will be empty until you train or evaluate the model.\n"
          ]
        },
        {
          "name": "stdout",
          "output_type": "stream",
          "text": [
            ">Epoch: 5,Batch: 153/468, disc_real_loss=0.339, disc_fake_loss=0.368 gan_loss=0.000\n",
            "2/2 [==============================] - 0s 8ms/step\n"
          ]
        },
        {
          "name": "stderr",
          "output_type": "stream",
          "text": [
            "WARNING:tensorflow:Compiled the loaded model, but the compiled metrics have yet to be built. `model.compile_metrics` will be empty until you train or evaluate the model.\n"
          ]
        },
        {
          "name": "stdout",
          "output_type": "stream",
          "text": [
            ">Epoch: 5,Batch: 154/468, disc_real_loss=0.334, disc_fake_loss=0.334 gan_loss=0.000\n",
            "2/2 [==============================] - 0s 8ms/step\n"
          ]
        },
        {
          "name": "stderr",
          "output_type": "stream",
          "text": [
            "WARNING:tensorflow:Compiled the loaded model, but the compiled metrics have yet to be built. `model.compile_metrics` will be empty until you train or evaluate the model.\n"
          ]
        },
        {
          "name": "stdout",
          "output_type": "stream",
          "text": [
            ">Epoch: 5,Batch: 155/468, disc_real_loss=0.272, disc_fake_loss=0.358 gan_loss=0.000\n",
            "2/2 [==============================] - 0s 12ms/step\n"
          ]
        },
        {
          "name": "stderr",
          "output_type": "stream",
          "text": [
            "WARNING:tensorflow:Compiled the loaded model, but the compiled metrics have yet to be built. `model.compile_metrics` will be empty until you train or evaluate the model.\n"
          ]
        },
        {
          "name": "stdout",
          "output_type": "stream",
          "text": [
            ">Epoch: 5,Batch: 156/468, disc_real_loss=0.468, disc_fake_loss=0.325 gan_loss=0.000\n",
            "2/2 [==============================] - 0s 9ms/step\n"
          ]
        },
        {
          "name": "stderr",
          "output_type": "stream",
          "text": [
            "WARNING:tensorflow:Compiled the loaded model, but the compiled metrics have yet to be built. `model.compile_metrics` will be empty until you train or evaluate the model.\n"
          ]
        },
        {
          "name": "stdout",
          "output_type": "stream",
          "text": [
            ">Epoch: 5,Batch: 157/468, disc_real_loss=0.334, disc_fake_loss=0.308 gan_loss=0.000\n",
            "2/2 [==============================] - 0s 7ms/step\n"
          ]
        },
        {
          "name": "stderr",
          "output_type": "stream",
          "text": [
            "WARNING:tensorflow:Compiled the loaded model, but the compiled metrics have yet to be built. `model.compile_metrics` will be empty until you train or evaluate the model.\n"
          ]
        },
        {
          "name": "stdout",
          "output_type": "stream",
          "text": [
            ">Epoch: 5,Batch: 158/468, disc_real_loss=0.280, disc_fake_loss=0.331 gan_loss=0.000\n",
            "2/2 [==============================] - 0s 10ms/step\n"
          ]
        },
        {
          "name": "stderr",
          "output_type": "stream",
          "text": [
            "WARNING:tensorflow:Compiled the loaded model, but the compiled metrics have yet to be built. `model.compile_metrics` will be empty until you train or evaluate the model.\n"
          ]
        },
        {
          "name": "stdout",
          "output_type": "stream",
          "text": [
            ">Epoch: 5,Batch: 159/468, disc_real_loss=0.323, disc_fake_loss=0.343 gan_loss=0.000\n",
            "2/2 [==============================] - 0s 10ms/step\n"
          ]
        },
        {
          "name": "stderr",
          "output_type": "stream",
          "text": [
            "WARNING:tensorflow:Compiled the loaded model, but the compiled metrics have yet to be built. `model.compile_metrics` will be empty until you train or evaluate the model.\n"
          ]
        },
        {
          "name": "stdout",
          "output_type": "stream",
          "text": [
            ">Epoch: 5,Batch: 160/468, disc_real_loss=0.367, disc_fake_loss=0.373 gan_loss=0.000\n",
            "2/2 [==============================] - 0s 10ms/step\n"
          ]
        },
        {
          "name": "stderr",
          "output_type": "stream",
          "text": [
            "WARNING:tensorflow:Compiled the loaded model, but the compiled metrics have yet to be built. `model.compile_metrics` will be empty until you train or evaluate the model.\n"
          ]
        },
        {
          "name": "stdout",
          "output_type": "stream",
          "text": [
            ">Epoch: 5,Batch: 161/468, disc_real_loss=0.277, disc_fake_loss=0.315 gan_loss=0.000\n",
            "2/2 [==============================] - 0s 10ms/step\n"
          ]
        },
        {
          "name": "stderr",
          "output_type": "stream",
          "text": [
            "WARNING:tensorflow:Compiled the loaded model, but the compiled metrics have yet to be built. `model.compile_metrics` will be empty until you train or evaluate the model.\n"
          ]
        },
        {
          "name": "stdout",
          "output_type": "stream",
          "text": [
            ">Epoch: 5,Batch: 162/468, disc_real_loss=0.274, disc_fake_loss=0.322 gan_loss=0.000\n",
            "2/2 [==============================] - 0s 10ms/step\n"
          ]
        },
        {
          "name": "stderr",
          "output_type": "stream",
          "text": [
            "WARNING:tensorflow:Compiled the loaded model, but the compiled metrics have yet to be built. `model.compile_metrics` will be empty until you train or evaluate the model.\n"
          ]
        },
        {
          "name": "stdout",
          "output_type": "stream",
          "text": [
            ">Epoch: 5,Batch: 163/468, disc_real_loss=0.343, disc_fake_loss=0.331 gan_loss=0.000\n",
            "2/2 [==============================] - 0s 9ms/step\n"
          ]
        },
        {
          "name": "stderr",
          "output_type": "stream",
          "text": [
            "WARNING:tensorflow:Compiled the loaded model, but the compiled metrics have yet to be built. `model.compile_metrics` will be empty until you train or evaluate the model.\n"
          ]
        },
        {
          "name": "stdout",
          "output_type": "stream",
          "text": [
            ">Epoch: 5,Batch: 164/468, disc_real_loss=0.393, disc_fake_loss=0.326 gan_loss=0.000\n",
            "2/2 [==============================] - 0s 11ms/step\n"
          ]
        },
        {
          "name": "stderr",
          "output_type": "stream",
          "text": [
            "WARNING:tensorflow:Compiled the loaded model, but the compiled metrics have yet to be built. `model.compile_metrics` will be empty until you train or evaluate the model.\n"
          ]
        },
        {
          "name": "stdout",
          "output_type": "stream",
          "text": [
            ">Epoch: 5,Batch: 165/468, disc_real_loss=0.347, disc_fake_loss=0.267 gan_loss=0.000\n",
            "2/2 [==============================] - 0s 10ms/step\n"
          ]
        },
        {
          "name": "stderr",
          "output_type": "stream",
          "text": [
            "WARNING:tensorflow:Compiled the loaded model, but the compiled metrics have yet to be built. `model.compile_metrics` will be empty until you train or evaluate the model.\n"
          ]
        },
        {
          "name": "stdout",
          "output_type": "stream",
          "text": [
            ">Epoch: 5,Batch: 166/468, disc_real_loss=0.345, disc_fake_loss=0.346 gan_loss=0.000\n",
            "2/2 [==============================] - 0s 6ms/step\n"
          ]
        },
        {
          "name": "stderr",
          "output_type": "stream",
          "text": [
            "WARNING:tensorflow:Compiled the loaded model, but the compiled metrics have yet to be built. `model.compile_metrics` will be empty until you train or evaluate the model.\n"
          ]
        },
        {
          "name": "stdout",
          "output_type": "stream",
          "text": [
            ">Epoch: 5,Batch: 167/468, disc_real_loss=0.295, disc_fake_loss=0.306 gan_loss=0.000\n",
            "2/2 [==============================] - 0s 7ms/step\n"
          ]
        },
        {
          "name": "stderr",
          "output_type": "stream",
          "text": [
            "WARNING:tensorflow:Compiled the loaded model, but the compiled metrics have yet to be built. `model.compile_metrics` will be empty until you train or evaluate the model.\n"
          ]
        },
        {
          "name": "stdout",
          "output_type": "stream",
          "text": [
            ">Epoch: 5,Batch: 168/468, disc_real_loss=0.328, disc_fake_loss=0.423 gan_loss=0.000\n",
            "2/2 [==============================] - 0s 7ms/step\n"
          ]
        },
        {
          "name": "stderr",
          "output_type": "stream",
          "text": [
            "WARNING:tensorflow:Compiled the loaded model, but the compiled metrics have yet to be built. `model.compile_metrics` will be empty until you train or evaluate the model.\n"
          ]
        },
        {
          "name": "stdout",
          "output_type": "stream",
          "text": [
            ">Epoch: 5,Batch: 169/468, disc_real_loss=0.374, disc_fake_loss=0.321 gan_loss=0.000\n",
            "2/2 [==============================] - 0s 9ms/step\n"
          ]
        },
        {
          "name": "stderr",
          "output_type": "stream",
          "text": [
            "WARNING:tensorflow:Compiled the loaded model, but the compiled metrics have yet to be built. `model.compile_metrics` will be empty until you train or evaluate the model.\n"
          ]
        },
        {
          "name": "stdout",
          "output_type": "stream",
          "text": [
            ">Epoch: 5,Batch: 170/468, disc_real_loss=0.367, disc_fake_loss=0.319 gan_loss=0.000\n",
            "2/2 [==============================] - 0s 9ms/step\n"
          ]
        },
        {
          "name": "stderr",
          "output_type": "stream",
          "text": [
            "WARNING:tensorflow:Compiled the loaded model, but the compiled metrics have yet to be built. `model.compile_metrics` will be empty until you train or evaluate the model.\n"
          ]
        },
        {
          "name": "stdout",
          "output_type": "stream",
          "text": [
            ">Epoch: 5,Batch: 171/468, disc_real_loss=0.364, disc_fake_loss=0.424 gan_loss=0.000\n",
            "2/2 [==============================] - 0s 7ms/step\n"
          ]
        },
        {
          "name": "stderr",
          "output_type": "stream",
          "text": [
            "WARNING:tensorflow:Compiled the loaded model, but the compiled metrics have yet to be built. `model.compile_metrics` will be empty until you train or evaluate the model.\n"
          ]
        },
        {
          "name": "stdout",
          "output_type": "stream",
          "text": [
            ">Epoch: 5,Batch: 172/468, disc_real_loss=0.305, disc_fake_loss=0.311 gan_loss=0.000\n",
            "2/2 [==============================] - 0s 6ms/step\n"
          ]
        },
        {
          "name": "stderr",
          "output_type": "stream",
          "text": [
            "WARNING:tensorflow:Compiled the loaded model, but the compiled metrics have yet to be built. `model.compile_metrics` will be empty until you train or evaluate the model.\n"
          ]
        },
        {
          "name": "stdout",
          "output_type": "stream",
          "text": [
            ">Epoch: 5,Batch: 173/468, disc_real_loss=0.296, disc_fake_loss=0.322 gan_loss=0.000\n",
            "2/2 [==============================] - 0s 11ms/step\n"
          ]
        },
        {
          "name": "stderr",
          "output_type": "stream",
          "text": [
            "WARNING:tensorflow:Compiled the loaded model, but the compiled metrics have yet to be built. `model.compile_metrics` will be empty until you train or evaluate the model.\n"
          ]
        },
        {
          "name": "stdout",
          "output_type": "stream",
          "text": [
            ">Epoch: 5,Batch: 174/468, disc_real_loss=0.391, disc_fake_loss=0.395 gan_loss=0.000\n",
            "2/2 [==============================] - 0s 5ms/step\n"
          ]
        },
        {
          "name": "stderr",
          "output_type": "stream",
          "text": [
            "WARNING:tensorflow:Compiled the loaded model, but the compiled metrics have yet to be built. `model.compile_metrics` will be empty until you train or evaluate the model.\n"
          ]
        },
        {
          "name": "stdout",
          "output_type": "stream",
          "text": [
            ">Epoch: 5,Batch: 175/468, disc_real_loss=0.268, disc_fake_loss=0.289 gan_loss=0.000\n",
            "2/2 [==============================] - 0s 10ms/step\n"
          ]
        },
        {
          "name": "stderr",
          "output_type": "stream",
          "text": [
            "WARNING:tensorflow:Compiled the loaded model, but the compiled metrics have yet to be built. `model.compile_metrics` will be empty until you train or evaluate the model.\n"
          ]
        },
        {
          "name": "stdout",
          "output_type": "stream",
          "text": [
            ">Epoch: 5,Batch: 176/468, disc_real_loss=0.296, disc_fake_loss=0.406 gan_loss=0.000\n",
            "2/2 [==============================] - 0s 7ms/step\n"
          ]
        },
        {
          "name": "stderr",
          "output_type": "stream",
          "text": [
            "WARNING:tensorflow:Compiled the loaded model, but the compiled metrics have yet to be built. `model.compile_metrics` will be empty until you train or evaluate the model.\n"
          ]
        },
        {
          "name": "stdout",
          "output_type": "stream",
          "text": [
            ">Epoch: 5,Batch: 177/468, disc_real_loss=0.361, disc_fake_loss=0.269 gan_loss=0.000\n",
            "2/2 [==============================] - 0s 8ms/step\n"
          ]
        },
        {
          "name": "stderr",
          "output_type": "stream",
          "text": [
            "WARNING:tensorflow:Compiled the loaded model, but the compiled metrics have yet to be built. `model.compile_metrics` will be empty until you train or evaluate the model.\n"
          ]
        },
        {
          "name": "stdout",
          "output_type": "stream",
          "text": [
            ">Epoch: 5,Batch: 178/468, disc_real_loss=0.362, disc_fake_loss=0.320 gan_loss=0.000\n",
            "2/2 [==============================] - 0s 9ms/step\n"
          ]
        },
        {
          "name": "stderr",
          "output_type": "stream",
          "text": [
            "WARNING:tensorflow:Compiled the loaded model, but the compiled metrics have yet to be built. `model.compile_metrics` will be empty until you train or evaluate the model.\n"
          ]
        },
        {
          "name": "stdout",
          "output_type": "stream",
          "text": [
            ">Epoch: 5,Batch: 179/468, disc_real_loss=0.280, disc_fake_loss=0.264 gan_loss=0.000\n",
            "2/2 [==============================] - 0s 5ms/step\n"
          ]
        },
        {
          "name": "stderr",
          "output_type": "stream",
          "text": [
            "WARNING:tensorflow:Compiled the loaded model, but the compiled metrics have yet to be built. `model.compile_metrics` will be empty until you train or evaluate the model.\n"
          ]
        },
        {
          "name": "stdout",
          "output_type": "stream",
          "text": [
            ">Epoch: 5,Batch: 180/468, disc_real_loss=0.252, disc_fake_loss=0.320 gan_loss=0.000\n",
            "2/2 [==============================] - 0s 10ms/step\n"
          ]
        },
        {
          "name": "stderr",
          "output_type": "stream",
          "text": [
            "WARNING:tensorflow:Compiled the loaded model, but the compiled metrics have yet to be built. `model.compile_metrics` will be empty until you train or evaluate the model.\n"
          ]
        },
        {
          "name": "stdout",
          "output_type": "stream",
          "text": [
            ">Epoch: 5,Batch: 181/468, disc_real_loss=0.448, disc_fake_loss=0.275 gan_loss=0.000\n",
            "2/2 [==============================] - 0s 6ms/step\n"
          ]
        },
        {
          "name": "stderr",
          "output_type": "stream",
          "text": [
            "WARNING:tensorflow:Compiled the loaded model, but the compiled metrics have yet to be built. `model.compile_metrics` will be empty until you train or evaluate the model.\n"
          ]
        },
        {
          "name": "stdout",
          "output_type": "stream",
          "text": [
            ">Epoch: 5,Batch: 182/468, disc_real_loss=0.265, disc_fake_loss=0.297 gan_loss=0.000\n",
            "2/2 [==============================] - 0s 8ms/step\n"
          ]
        },
        {
          "name": "stderr",
          "output_type": "stream",
          "text": [
            "WARNING:tensorflow:Compiled the loaded model, but the compiled metrics have yet to be built. `model.compile_metrics` will be empty until you train or evaluate the model.\n"
          ]
        },
        {
          "name": "stdout",
          "output_type": "stream",
          "text": [
            ">Epoch: 5,Batch: 183/468, disc_real_loss=0.246, disc_fake_loss=0.340 gan_loss=0.000\n",
            "2/2 [==============================] - 0s 9ms/step\n"
          ]
        },
        {
          "name": "stderr",
          "output_type": "stream",
          "text": [
            "WARNING:tensorflow:Compiled the loaded model, but the compiled metrics have yet to be built. `model.compile_metrics` will be empty until you train or evaluate the model.\n"
          ]
        },
        {
          "name": "stdout",
          "output_type": "stream",
          "text": [
            ">Epoch: 5,Batch: 184/468, disc_real_loss=0.247, disc_fake_loss=0.301 gan_loss=0.000\n",
            "2/2 [==============================] - 0s 7ms/step\n"
          ]
        },
        {
          "name": "stderr",
          "output_type": "stream",
          "text": [
            "WARNING:tensorflow:Compiled the loaded model, but the compiled metrics have yet to be built. `model.compile_metrics` will be empty until you train or evaluate the model.\n"
          ]
        },
        {
          "name": "stdout",
          "output_type": "stream",
          "text": [
            ">Epoch: 5,Batch: 185/468, disc_real_loss=0.327, disc_fake_loss=0.355 gan_loss=0.000\n",
            "2/2 [==============================] - 0s 9ms/step\n"
          ]
        },
        {
          "name": "stderr",
          "output_type": "stream",
          "text": [
            "WARNING:tensorflow:Compiled the loaded model, but the compiled metrics have yet to be built. `model.compile_metrics` will be empty until you train or evaluate the model.\n"
          ]
        },
        {
          "name": "stdout",
          "output_type": "stream",
          "text": [
            ">Epoch: 5,Batch: 186/468, disc_real_loss=0.311, disc_fake_loss=0.357 gan_loss=0.000\n",
            "2/2 [==============================] - 0s 8ms/step\n"
          ]
        },
        {
          "name": "stderr",
          "output_type": "stream",
          "text": [
            "WARNING:tensorflow:Compiled the loaded model, but the compiled metrics have yet to be built. `model.compile_metrics` will be empty until you train or evaluate the model.\n"
          ]
        },
        {
          "name": "stdout",
          "output_type": "stream",
          "text": [
            ">Epoch: 5,Batch: 187/468, disc_real_loss=0.340, disc_fake_loss=0.302 gan_loss=0.000\n",
            "2/2 [==============================] - 0s 9ms/step\n"
          ]
        },
        {
          "name": "stderr",
          "output_type": "stream",
          "text": [
            "WARNING:tensorflow:Compiled the loaded model, but the compiled metrics have yet to be built. `model.compile_metrics` will be empty until you train or evaluate the model.\n"
          ]
        },
        {
          "name": "stdout",
          "output_type": "stream",
          "text": [
            ">Epoch: 5,Batch: 188/468, disc_real_loss=0.330, disc_fake_loss=0.341 gan_loss=0.000\n",
            "2/2 [==============================] - 0s 10ms/step\n"
          ]
        },
        {
          "name": "stderr",
          "output_type": "stream",
          "text": [
            "WARNING:tensorflow:Compiled the loaded model, but the compiled metrics have yet to be built. `model.compile_metrics` will be empty until you train or evaluate the model.\n"
          ]
        },
        {
          "name": "stdout",
          "output_type": "stream",
          "text": [
            ">Epoch: 5,Batch: 189/468, disc_real_loss=0.336, disc_fake_loss=0.310 gan_loss=0.000\n",
            "2/2 [==============================] - 0s 7ms/step\n"
          ]
        },
        {
          "name": "stderr",
          "output_type": "stream",
          "text": [
            "WARNING:tensorflow:Compiled the loaded model, but the compiled metrics have yet to be built. `model.compile_metrics` will be empty until you train or evaluate the model.\n"
          ]
        },
        {
          "name": "stdout",
          "output_type": "stream",
          "text": [
            ">Epoch: 5,Batch: 190/468, disc_real_loss=0.417, disc_fake_loss=0.381 gan_loss=0.000\n",
            "2/2 [==============================] - 0s 6ms/step\n"
          ]
        },
        {
          "name": "stderr",
          "output_type": "stream",
          "text": [
            "WARNING:tensorflow:Compiled the loaded model, but the compiled metrics have yet to be built. `model.compile_metrics` will be empty until you train or evaluate the model.\n"
          ]
        },
        {
          "name": "stdout",
          "output_type": "stream",
          "text": [
            ">Epoch: 5,Batch: 191/468, disc_real_loss=0.230, disc_fake_loss=0.444 gan_loss=0.000\n",
            "2/2 [==============================] - 0s 9ms/step\n"
          ]
        },
        {
          "name": "stderr",
          "output_type": "stream",
          "text": [
            "WARNING:tensorflow:Compiled the loaded model, but the compiled metrics have yet to be built. `model.compile_metrics` will be empty until you train or evaluate the model.\n"
          ]
        },
        {
          "name": "stdout",
          "output_type": "stream",
          "text": [
            ">Epoch: 5,Batch: 192/468, disc_real_loss=0.397, disc_fake_loss=0.275 gan_loss=0.000\n",
            "2/2 [==============================] - 0s 6ms/step\n"
          ]
        },
        {
          "name": "stderr",
          "output_type": "stream",
          "text": [
            "WARNING:tensorflow:Compiled the loaded model, but the compiled metrics have yet to be built. `model.compile_metrics` will be empty until you train or evaluate the model.\n"
          ]
        },
        {
          "name": "stdout",
          "output_type": "stream",
          "text": [
            ">Epoch: 5,Batch: 193/468, disc_real_loss=0.339, disc_fake_loss=0.259 gan_loss=0.000\n",
            "2/2 [==============================] - 0s 9ms/step\n"
          ]
        },
        {
          "name": "stderr",
          "output_type": "stream",
          "text": [
            "WARNING:tensorflow:Compiled the loaded model, but the compiled metrics have yet to be built. `model.compile_metrics` will be empty until you train or evaluate the model.\n"
          ]
        },
        {
          "name": "stdout",
          "output_type": "stream",
          "text": [
            ">Epoch: 5,Batch: 194/468, disc_real_loss=0.305, disc_fake_loss=0.285 gan_loss=0.000\n",
            "2/2 [==============================] - 0s 9ms/step\n"
          ]
        },
        {
          "name": "stderr",
          "output_type": "stream",
          "text": [
            "WARNING:tensorflow:Compiled the loaded model, but the compiled metrics have yet to be built. `model.compile_metrics` will be empty until you train or evaluate the model.\n"
          ]
        },
        {
          "name": "stdout",
          "output_type": "stream",
          "text": [
            ">Epoch: 5,Batch: 195/468, disc_real_loss=0.362, disc_fake_loss=0.347 gan_loss=0.000\n",
            "2/2 [==============================] - 0s 5ms/step\n"
          ]
        },
        {
          "name": "stderr",
          "output_type": "stream",
          "text": [
            "WARNING:tensorflow:Compiled the loaded model, but the compiled metrics have yet to be built. `model.compile_metrics` will be empty until you train or evaluate the model.\n"
          ]
        },
        {
          "name": "stdout",
          "output_type": "stream",
          "text": [
            ">Epoch: 5,Batch: 196/468, disc_real_loss=0.364, disc_fake_loss=0.304 gan_loss=0.000\n",
            "2/2 [==============================] - 0s 10ms/step\n"
          ]
        },
        {
          "name": "stderr",
          "output_type": "stream",
          "text": [
            "WARNING:tensorflow:Compiled the loaded model, but the compiled metrics have yet to be built. `model.compile_metrics` will be empty until you train or evaluate the model.\n"
          ]
        },
        {
          "name": "stdout",
          "output_type": "stream",
          "text": [
            ">Epoch: 5,Batch: 197/468, disc_real_loss=0.258, disc_fake_loss=0.403 gan_loss=0.000\n",
            "2/2 [==============================] - 0s 10ms/step\n"
          ]
        },
        {
          "name": "stderr",
          "output_type": "stream",
          "text": [
            "WARNING:tensorflow:Compiled the loaded model, but the compiled metrics have yet to be built. `model.compile_metrics` will be empty until you train or evaluate the model.\n"
          ]
        },
        {
          "name": "stdout",
          "output_type": "stream",
          "text": [
            ">Epoch: 5,Batch: 198/468, disc_real_loss=0.249, disc_fake_loss=0.280 gan_loss=0.000\n",
            "2/2 [==============================] - 0s 6ms/step\n"
          ]
        },
        {
          "name": "stderr",
          "output_type": "stream",
          "text": [
            "WARNING:tensorflow:Compiled the loaded model, but the compiled metrics have yet to be built. `model.compile_metrics` will be empty until you train or evaluate the model.\n"
          ]
        },
        {
          "name": "stdout",
          "output_type": "stream",
          "text": [
            ">Epoch: 5,Batch: 199/468, disc_real_loss=0.304, disc_fake_loss=0.282 gan_loss=0.000\n",
            "2/2 [==============================] - 0s 8ms/step\n"
          ]
        },
        {
          "name": "stderr",
          "output_type": "stream",
          "text": [
            "WARNING:tensorflow:Compiled the loaded model, but the compiled metrics have yet to be built. `model.compile_metrics` will be empty until you train or evaluate the model.\n"
          ]
        },
        {
          "name": "stdout",
          "output_type": "stream",
          "text": [
            ">Epoch: 5,Batch: 200/468, disc_real_loss=0.227, disc_fake_loss=0.377 gan_loss=0.000\n",
            "2/2 [==============================] - 0s 8ms/step\n"
          ]
        },
        {
          "name": "stderr",
          "output_type": "stream",
          "text": [
            "WARNING:tensorflow:Compiled the loaded model, but the compiled metrics have yet to be built. `model.compile_metrics` will be empty until you train or evaluate the model.\n"
          ]
        },
        {
          "name": "stdout",
          "output_type": "stream",
          "text": [
            ">Epoch: 5,Batch: 201/468, disc_real_loss=0.429, disc_fake_loss=0.281 gan_loss=0.000\n",
            "2/2 [==============================] - 0s 7ms/step\n"
          ]
        },
        {
          "name": "stderr",
          "output_type": "stream",
          "text": [
            "WARNING:tensorflow:Compiled the loaded model, but the compiled metrics have yet to be built. `model.compile_metrics` will be empty until you train or evaluate the model.\n"
          ]
        },
        {
          "name": "stdout",
          "output_type": "stream",
          "text": [
            ">Epoch: 5,Batch: 202/468, disc_real_loss=0.327, disc_fake_loss=0.232 gan_loss=0.000\n",
            "2/2 [==============================] - 0s 7ms/step\n"
          ]
        },
        {
          "name": "stderr",
          "output_type": "stream",
          "text": [
            "WARNING:tensorflow:Compiled the loaded model, but the compiled metrics have yet to be built. `model.compile_metrics` will be empty until you train or evaluate the model.\n"
          ]
        },
        {
          "name": "stdout",
          "output_type": "stream",
          "text": [
            ">Epoch: 5,Batch: 203/468, disc_real_loss=0.357, disc_fake_loss=0.424 gan_loss=0.000\n",
            "2/2 [==============================] - 0s 8ms/step\n"
          ]
        },
        {
          "name": "stderr",
          "output_type": "stream",
          "text": [
            "WARNING:tensorflow:Compiled the loaded model, but the compiled metrics have yet to be built. `model.compile_metrics` will be empty until you train or evaluate the model.\n"
          ]
        },
        {
          "name": "stdout",
          "output_type": "stream",
          "text": [
            ">Epoch: 5,Batch: 204/468, disc_real_loss=0.376, disc_fake_loss=0.396 gan_loss=0.000\n",
            "2/2 [==============================] - 0s 10ms/step\n"
          ]
        },
        {
          "name": "stderr",
          "output_type": "stream",
          "text": [
            "WARNING:tensorflow:Compiled the loaded model, but the compiled metrics have yet to be built. `model.compile_metrics` will be empty until you train or evaluate the model.\n"
          ]
        },
        {
          "name": "stdout",
          "output_type": "stream",
          "text": [
            ">Epoch: 5,Batch: 205/468, disc_real_loss=0.252, disc_fake_loss=0.298 gan_loss=0.000\n",
            "2/2 [==============================] - 0s 10ms/step\n"
          ]
        },
        {
          "name": "stderr",
          "output_type": "stream",
          "text": [
            "WARNING:tensorflow:Compiled the loaded model, but the compiled metrics have yet to be built. `model.compile_metrics` will be empty until you train or evaluate the model.\n"
          ]
        },
        {
          "name": "stdout",
          "output_type": "stream",
          "text": [
            ">Epoch: 5,Batch: 206/468, disc_real_loss=0.335, disc_fake_loss=0.221 gan_loss=0.000\n",
            "2/2 [==============================] - 0s 9ms/step\n"
          ]
        },
        {
          "name": "stderr",
          "output_type": "stream",
          "text": [
            "WARNING:tensorflow:Compiled the loaded model, but the compiled metrics have yet to be built. `model.compile_metrics` will be empty until you train or evaluate the model.\n"
          ]
        },
        {
          "name": "stdout",
          "output_type": "stream",
          "text": [
            ">Epoch: 5,Batch: 207/468, disc_real_loss=0.298, disc_fake_loss=0.347 gan_loss=0.000\n",
            "2/2 [==============================] - 0s 11ms/step\n"
          ]
        },
        {
          "name": "stderr",
          "output_type": "stream",
          "text": [
            "WARNING:tensorflow:Compiled the loaded model, but the compiled metrics have yet to be built. `model.compile_metrics` will be empty until you train or evaluate the model.\n"
          ]
        },
        {
          "name": "stdout",
          "output_type": "stream",
          "text": [
            ">Epoch: 5,Batch: 208/468, disc_real_loss=0.341, disc_fake_loss=0.306 gan_loss=0.000\n",
            "2/2 [==============================] - 0s 8ms/step\n"
          ]
        },
        {
          "name": "stderr",
          "output_type": "stream",
          "text": [
            "WARNING:tensorflow:Compiled the loaded model, but the compiled metrics have yet to be built. `model.compile_metrics` will be empty until you train or evaluate the model.\n"
          ]
        },
        {
          "name": "stdout",
          "output_type": "stream",
          "text": [
            ">Epoch: 5,Batch: 209/468, disc_real_loss=0.341, disc_fake_loss=0.278 gan_loss=0.000\n",
            "2/2 [==============================] - 0s 5ms/step\n"
          ]
        },
        {
          "name": "stderr",
          "output_type": "stream",
          "text": [
            "WARNING:tensorflow:Compiled the loaded model, but the compiled metrics have yet to be built. `model.compile_metrics` will be empty until you train or evaluate the model.\n"
          ]
        },
        {
          "name": "stdout",
          "output_type": "stream",
          "text": [
            ">Epoch: 5,Batch: 210/468, disc_real_loss=0.297, disc_fake_loss=0.403 gan_loss=0.000\n",
            "2/2 [==============================] - 0s 9ms/step\n"
          ]
        },
        {
          "name": "stderr",
          "output_type": "stream",
          "text": [
            "WARNING:tensorflow:Compiled the loaded model, but the compiled metrics have yet to be built. `model.compile_metrics` will be empty until you train or evaluate the model.\n"
          ]
        },
        {
          "name": "stdout",
          "output_type": "stream",
          "text": [
            ">Epoch: 5,Batch: 211/468, disc_real_loss=0.327, disc_fake_loss=0.202 gan_loss=0.000\n",
            "2/2 [==============================] - 0s 8ms/step\n"
          ]
        },
        {
          "name": "stderr",
          "output_type": "stream",
          "text": [
            "WARNING:tensorflow:Compiled the loaded model, but the compiled metrics have yet to be built. `model.compile_metrics` will be empty until you train or evaluate the model.\n"
          ]
        },
        {
          "name": "stdout",
          "output_type": "stream",
          "text": [
            ">Epoch: 5,Batch: 212/468, disc_real_loss=0.292, disc_fake_loss=0.314 gan_loss=0.000\n",
            "2/2 [==============================] - 0s 7ms/step\n"
          ]
        },
        {
          "name": "stderr",
          "output_type": "stream",
          "text": [
            "WARNING:tensorflow:Compiled the loaded model, but the compiled metrics have yet to be built. `model.compile_metrics` will be empty until you train or evaluate the model.\n"
          ]
        },
        {
          "name": "stdout",
          "output_type": "stream",
          "text": [
            ">Epoch: 5,Batch: 213/468, disc_real_loss=0.255, disc_fake_loss=0.249 gan_loss=0.000\n",
            "2/2 [==============================] - 0s 6ms/step\n"
          ]
        },
        {
          "name": "stderr",
          "output_type": "stream",
          "text": [
            "WARNING:tensorflow:Compiled the loaded model, but the compiled metrics have yet to be built. `model.compile_metrics` will be empty until you train or evaluate the model.\n"
          ]
        },
        {
          "name": "stdout",
          "output_type": "stream",
          "text": [
            ">Epoch: 5,Batch: 214/468, disc_real_loss=0.317, disc_fake_loss=0.364 gan_loss=0.000\n",
            "2/2 [==============================] - 0s 7ms/step\n"
          ]
        },
        {
          "name": "stderr",
          "output_type": "stream",
          "text": [
            "WARNING:tensorflow:Compiled the loaded model, but the compiled metrics have yet to be built. `model.compile_metrics` will be empty until you train or evaluate the model.\n"
          ]
        },
        {
          "name": "stdout",
          "output_type": "stream",
          "text": [
            ">Epoch: 5,Batch: 215/468, disc_real_loss=0.396, disc_fake_loss=0.330 gan_loss=0.000\n",
            "2/2 [==============================] - 0s 5ms/step\n"
          ]
        },
        {
          "name": "stderr",
          "output_type": "stream",
          "text": [
            "WARNING:tensorflow:Compiled the loaded model, but the compiled metrics have yet to be built. `model.compile_metrics` will be empty until you train or evaluate the model.\n"
          ]
        },
        {
          "name": "stdout",
          "output_type": "stream",
          "text": [
            ">Epoch: 5,Batch: 216/468, disc_real_loss=0.281, disc_fake_loss=0.351 gan_loss=0.000\n",
            "2/2 [==============================] - 0s 10ms/step\n"
          ]
        },
        {
          "name": "stderr",
          "output_type": "stream",
          "text": [
            "WARNING:tensorflow:Compiled the loaded model, but the compiled metrics have yet to be built. `model.compile_metrics` will be empty until you train or evaluate the model.\n"
          ]
        },
        {
          "name": "stdout",
          "output_type": "stream",
          "text": [
            ">Epoch: 5,Batch: 217/468, disc_real_loss=0.385, disc_fake_loss=0.317 gan_loss=0.000\n",
            "2/2 [==============================] - 0s 9ms/step\n"
          ]
        },
        {
          "name": "stderr",
          "output_type": "stream",
          "text": [
            "WARNING:tensorflow:Compiled the loaded model, but the compiled metrics have yet to be built. `model.compile_metrics` will be empty until you train or evaluate the model.\n"
          ]
        },
        {
          "name": "stdout",
          "output_type": "stream",
          "text": [
            ">Epoch: 5,Batch: 218/468, disc_real_loss=0.298, disc_fake_loss=0.286 gan_loss=0.000\n",
            "2/2 [==============================] - 0s 6ms/step\n"
          ]
        },
        {
          "name": "stderr",
          "output_type": "stream",
          "text": [
            "WARNING:tensorflow:Compiled the loaded model, but the compiled metrics have yet to be built. `model.compile_metrics` will be empty until you train or evaluate the model.\n"
          ]
        },
        {
          "name": "stdout",
          "output_type": "stream",
          "text": [
            ">Epoch: 5,Batch: 219/468, disc_real_loss=0.273, disc_fake_loss=0.280 gan_loss=0.000\n",
            "2/2 [==============================] - 0s 7ms/step\n"
          ]
        },
        {
          "name": "stderr",
          "output_type": "stream",
          "text": [
            "WARNING:tensorflow:Compiled the loaded model, but the compiled metrics have yet to be built. `model.compile_metrics` will be empty until you train or evaluate the model.\n"
          ]
        },
        {
          "name": "stdout",
          "output_type": "stream",
          "text": [
            ">Epoch: 5,Batch: 220/468, disc_real_loss=0.294, disc_fake_loss=0.348 gan_loss=0.000\n",
            "2/2 [==============================] - 0s 9ms/step\n"
          ]
        },
        {
          "name": "stderr",
          "output_type": "stream",
          "text": [
            "WARNING:tensorflow:Compiled the loaded model, but the compiled metrics have yet to be built. `model.compile_metrics` will be empty until you train or evaluate the model.\n"
          ]
        },
        {
          "name": "stdout",
          "output_type": "stream",
          "text": [
            ">Epoch: 5,Batch: 221/468, disc_real_loss=0.226, disc_fake_loss=0.239 gan_loss=0.000\n",
            "2/2 [==============================] - 0s 11ms/step\n"
          ]
        },
        {
          "name": "stderr",
          "output_type": "stream",
          "text": [
            "WARNING:tensorflow:Compiled the loaded model, but the compiled metrics have yet to be built. `model.compile_metrics` will be empty until you train or evaluate the model.\n"
          ]
        },
        {
          "name": "stdout",
          "output_type": "stream",
          "text": [
            ">Epoch: 5,Batch: 222/468, disc_real_loss=0.297, disc_fake_loss=0.311 gan_loss=0.000\n",
            "2/2 [==============================] - 0s 10ms/step\n"
          ]
        },
        {
          "name": "stderr",
          "output_type": "stream",
          "text": [
            "WARNING:tensorflow:Compiled the loaded model, but the compiled metrics have yet to be built. `model.compile_metrics` will be empty until you train or evaluate the model.\n"
          ]
        },
        {
          "name": "stdout",
          "output_type": "stream",
          "text": [
            ">Epoch: 5,Batch: 223/468, disc_real_loss=0.343, disc_fake_loss=0.235 gan_loss=0.000\n",
            "2/2 [==============================] - 0s 5ms/step\n"
          ]
        },
        {
          "name": "stderr",
          "output_type": "stream",
          "text": [
            "WARNING:tensorflow:Compiled the loaded model, but the compiled metrics have yet to be built. `model.compile_metrics` will be empty until you train or evaluate the model.\n"
          ]
        },
        {
          "name": "stdout",
          "output_type": "stream",
          "text": [
            ">Epoch: 5,Batch: 224/468, disc_real_loss=0.333, disc_fake_loss=0.392 gan_loss=0.000\n",
            "2/2 [==============================] - 0s 5ms/step\n"
          ]
        },
        {
          "name": "stderr",
          "output_type": "stream",
          "text": [
            "WARNING:tensorflow:Compiled the loaded model, but the compiled metrics have yet to be built. `model.compile_metrics` will be empty until you train or evaluate the model.\n"
          ]
        },
        {
          "name": "stdout",
          "output_type": "stream",
          "text": [
            ">Epoch: 5,Batch: 225/468, disc_real_loss=0.283, disc_fake_loss=0.369 gan_loss=0.000\n",
            "2/2 [==============================] - 0s 9ms/step\n"
          ]
        },
        {
          "name": "stderr",
          "output_type": "stream",
          "text": [
            "WARNING:tensorflow:Compiled the loaded model, but the compiled metrics have yet to be built. `model.compile_metrics` will be empty until you train or evaluate the model.\n"
          ]
        },
        {
          "name": "stdout",
          "output_type": "stream",
          "text": [
            ">Epoch: 5,Batch: 226/468, disc_real_loss=0.352, disc_fake_loss=0.255 gan_loss=0.000\n",
            "2/2 [==============================] - 0s 6ms/step\n"
          ]
        },
        {
          "name": "stderr",
          "output_type": "stream",
          "text": [
            "WARNING:tensorflow:Compiled the loaded model, but the compiled metrics have yet to be built. `model.compile_metrics` will be empty until you train or evaluate the model.\n"
          ]
        },
        {
          "name": "stdout",
          "output_type": "stream",
          "text": [
            ">Epoch: 5,Batch: 227/468, disc_real_loss=0.305, disc_fake_loss=0.321 gan_loss=0.000\n",
            "2/2 [==============================] - 0s 6ms/step\n"
          ]
        },
        {
          "name": "stderr",
          "output_type": "stream",
          "text": [
            "WARNING:tensorflow:Compiled the loaded model, but the compiled metrics have yet to be built. `model.compile_metrics` will be empty until you train or evaluate the model.\n"
          ]
        },
        {
          "name": "stdout",
          "output_type": "stream",
          "text": [
            ">Epoch: 5,Batch: 228/468, disc_real_loss=0.363, disc_fake_loss=0.350 gan_loss=0.000\n",
            "2/2 [==============================] - 0s 5ms/step\n"
          ]
        },
        {
          "name": "stderr",
          "output_type": "stream",
          "text": [
            "WARNING:tensorflow:Compiled the loaded model, but the compiled metrics have yet to be built. `model.compile_metrics` will be empty until you train or evaluate the model.\n"
          ]
        },
        {
          "name": "stdout",
          "output_type": "stream",
          "text": [
            ">Epoch: 5,Batch: 229/468, disc_real_loss=0.258, disc_fake_loss=0.350 gan_loss=0.000\n",
            "2/2 [==============================] - 0s 7ms/step\n"
          ]
        },
        {
          "name": "stderr",
          "output_type": "stream",
          "text": [
            "WARNING:tensorflow:Compiled the loaded model, but the compiled metrics have yet to be built. `model.compile_metrics` will be empty until you train or evaluate the model.\n"
          ]
        },
        {
          "name": "stdout",
          "output_type": "stream",
          "text": [
            ">Epoch: 5,Batch: 230/468, disc_real_loss=0.358, disc_fake_loss=0.282 gan_loss=0.000\n",
            "2/2 [==============================] - 0s 9ms/step\n"
          ]
        },
        {
          "name": "stderr",
          "output_type": "stream",
          "text": [
            "WARNING:tensorflow:Compiled the loaded model, but the compiled metrics have yet to be built. `model.compile_metrics` will be empty until you train or evaluate the model.\n"
          ]
        },
        {
          "name": "stdout",
          "output_type": "stream",
          "text": [
            ">Epoch: 5,Batch: 231/468, disc_real_loss=0.263, disc_fake_loss=0.355 gan_loss=0.000\n",
            "2/2 [==============================] - 0s 9ms/step\n"
          ]
        },
        {
          "name": "stderr",
          "output_type": "stream",
          "text": [
            "WARNING:tensorflow:Compiled the loaded model, but the compiled metrics have yet to be built. `model.compile_metrics` will be empty until you train or evaluate the model.\n"
          ]
        },
        {
          "name": "stdout",
          "output_type": "stream",
          "text": [
            ">Epoch: 5,Batch: 232/468, disc_real_loss=0.350, disc_fake_loss=0.399 gan_loss=0.000\n",
            "2/2 [==============================] - 0s 5ms/step\n"
          ]
        },
        {
          "name": "stderr",
          "output_type": "stream",
          "text": [
            "WARNING:tensorflow:Compiled the loaded model, but the compiled metrics have yet to be built. `model.compile_metrics` will be empty until you train or evaluate the model.\n"
          ]
        },
        {
          "name": "stdout",
          "output_type": "stream",
          "text": [
            ">Epoch: 5,Batch: 233/468, disc_real_loss=0.321, disc_fake_loss=0.329 gan_loss=0.000\n",
            "2/2 [==============================] - 0s 10ms/step\n"
          ]
        },
        {
          "name": "stderr",
          "output_type": "stream",
          "text": [
            "WARNING:tensorflow:Compiled the loaded model, but the compiled metrics have yet to be built. `model.compile_metrics` will be empty until you train or evaluate the model.\n"
          ]
        },
        {
          "name": "stdout",
          "output_type": "stream",
          "text": [
            ">Epoch: 5,Batch: 234/468, disc_real_loss=0.334, disc_fake_loss=0.399 gan_loss=0.000\n",
            "2/2 [==============================] - 0s 5ms/step\n"
          ]
        },
        {
          "name": "stderr",
          "output_type": "stream",
          "text": [
            "WARNING:tensorflow:Compiled the loaded model, but the compiled metrics have yet to be built. `model.compile_metrics` will be empty until you train or evaluate the model.\n"
          ]
        },
        {
          "name": "stdout",
          "output_type": "stream",
          "text": [
            ">Epoch: 5,Batch: 235/468, disc_real_loss=0.354, disc_fake_loss=0.308 gan_loss=0.000\n",
            "2/2 [==============================] - 0s 8ms/step\n"
          ]
        },
        {
          "name": "stderr",
          "output_type": "stream",
          "text": [
            "WARNING:tensorflow:Compiled the loaded model, but the compiled metrics have yet to be built. `model.compile_metrics` will be empty until you train or evaluate the model.\n"
          ]
        },
        {
          "name": "stdout",
          "output_type": "stream",
          "text": [
            ">Epoch: 5,Batch: 236/468, disc_real_loss=0.346, disc_fake_loss=0.296 gan_loss=0.000\n",
            "2/2 [==============================] - 0s 10ms/step\n"
          ]
        },
        {
          "name": "stderr",
          "output_type": "stream",
          "text": [
            "WARNING:tensorflow:Compiled the loaded model, but the compiled metrics have yet to be built. `model.compile_metrics` will be empty until you train or evaluate the model.\n"
          ]
        },
        {
          "name": "stdout",
          "output_type": "stream",
          "text": [
            ">Epoch: 5,Batch: 237/468, disc_real_loss=0.303, disc_fake_loss=0.289 gan_loss=0.000\n",
            "2/2 [==============================] - 0s 10ms/step\n"
          ]
        },
        {
          "name": "stderr",
          "output_type": "stream",
          "text": [
            "WARNING:tensorflow:Compiled the loaded model, but the compiled metrics have yet to be built. `model.compile_metrics` will be empty until you train or evaluate the model.\n"
          ]
        },
        {
          "name": "stdout",
          "output_type": "stream",
          "text": [
            ">Epoch: 5,Batch: 238/468, disc_real_loss=0.401, disc_fake_loss=0.384 gan_loss=0.000\n",
            "2/2 [==============================] - 0s 9ms/step\n"
          ]
        },
        {
          "name": "stderr",
          "output_type": "stream",
          "text": [
            "WARNING:tensorflow:Compiled the loaded model, but the compiled metrics have yet to be built. `model.compile_metrics` will be empty until you train or evaluate the model.\n"
          ]
        },
        {
          "name": "stdout",
          "output_type": "stream",
          "text": [
            ">Epoch: 5,Batch: 239/468, disc_real_loss=0.439, disc_fake_loss=0.369 gan_loss=0.000\n",
            "2/2 [==============================] - 0s 6ms/step\n"
          ]
        },
        {
          "name": "stderr",
          "output_type": "stream",
          "text": [
            "WARNING:tensorflow:Compiled the loaded model, but the compiled metrics have yet to be built. `model.compile_metrics` will be empty until you train or evaluate the model.\n"
          ]
        },
        {
          "name": "stdout",
          "output_type": "stream",
          "text": [
            ">Epoch: 5,Batch: 240/468, disc_real_loss=0.294, disc_fake_loss=0.371 gan_loss=0.000\n",
            "2/2 [==============================] - 0s 10ms/step\n"
          ]
        },
        {
          "name": "stderr",
          "output_type": "stream",
          "text": [
            "WARNING:tensorflow:Compiled the loaded model, but the compiled metrics have yet to be built. `model.compile_metrics` will be empty until you train or evaluate the model.\n"
          ]
        },
        {
          "name": "stdout",
          "output_type": "stream",
          "text": [
            ">Epoch: 5,Batch: 241/468, disc_real_loss=0.386, disc_fake_loss=0.392 gan_loss=0.000\n",
            "2/2 [==============================] - 0s 7ms/step\n"
          ]
        },
        {
          "name": "stderr",
          "output_type": "stream",
          "text": [
            "WARNING:tensorflow:Compiled the loaded model, but the compiled metrics have yet to be built. `model.compile_metrics` will be empty until you train or evaluate the model.\n"
          ]
        },
        {
          "name": "stdout",
          "output_type": "stream",
          "text": [
            ">Epoch: 5,Batch: 242/468, disc_real_loss=0.340, disc_fake_loss=0.329 gan_loss=0.000\n",
            "2/2 [==============================] - 0s 7ms/step\n"
          ]
        },
        {
          "name": "stderr",
          "output_type": "stream",
          "text": [
            "WARNING:tensorflow:Compiled the loaded model, but the compiled metrics have yet to be built. `model.compile_metrics` will be empty until you train or evaluate the model.\n"
          ]
        },
        {
          "name": "stdout",
          "output_type": "stream",
          "text": [
            ">Epoch: 5,Batch: 243/468, disc_real_loss=0.370, disc_fake_loss=0.486 gan_loss=0.000\n",
            "2/2 [==============================] - 0s 10ms/step\n"
          ]
        },
        {
          "name": "stderr",
          "output_type": "stream",
          "text": [
            "WARNING:tensorflow:Compiled the loaded model, but the compiled metrics have yet to be built. `model.compile_metrics` will be empty until you train or evaluate the model.\n"
          ]
        },
        {
          "name": "stdout",
          "output_type": "stream",
          "text": [
            ">Epoch: 5,Batch: 244/468, disc_real_loss=0.368, disc_fake_loss=0.338 gan_loss=0.000\n",
            "2/2 [==============================] - 0s 5ms/step\n"
          ]
        },
        {
          "name": "stderr",
          "output_type": "stream",
          "text": [
            "WARNING:tensorflow:Compiled the loaded model, but the compiled metrics have yet to be built. `model.compile_metrics` will be empty until you train or evaluate the model.\n"
          ]
        },
        {
          "name": "stdout",
          "output_type": "stream",
          "text": [
            ">Epoch: 5,Batch: 245/468, disc_real_loss=0.248, disc_fake_loss=0.251 gan_loss=0.000\n",
            "2/2 [==============================] - 0s 5ms/step\n"
          ]
        },
        {
          "name": "stderr",
          "output_type": "stream",
          "text": [
            "WARNING:tensorflow:Compiled the loaded model, but the compiled metrics have yet to be built. `model.compile_metrics` will be empty until you train or evaluate the model.\n"
          ]
        },
        {
          "name": "stdout",
          "output_type": "stream",
          "text": [
            ">Epoch: 5,Batch: 246/468, disc_real_loss=0.276, disc_fake_loss=0.281 gan_loss=0.000\n",
            "2/2 [==============================] - 0s 10ms/step\n"
          ]
        },
        {
          "name": "stderr",
          "output_type": "stream",
          "text": [
            "WARNING:tensorflow:Compiled the loaded model, but the compiled metrics have yet to be built. `model.compile_metrics` will be empty until you train or evaluate the model.\n"
          ]
        },
        {
          "name": "stdout",
          "output_type": "stream",
          "text": [
            ">Epoch: 5,Batch: 247/468, disc_real_loss=0.256, disc_fake_loss=0.208 gan_loss=0.000\n",
            "2/2 [==============================] - 0s 5ms/step\n"
          ]
        },
        {
          "name": "stderr",
          "output_type": "stream",
          "text": [
            "WARNING:tensorflow:Compiled the loaded model, but the compiled metrics have yet to be built. `model.compile_metrics` will be empty until you train or evaluate the model.\n"
          ]
        },
        {
          "name": "stdout",
          "output_type": "stream",
          "text": [
            ">Epoch: 5,Batch: 248/468, disc_real_loss=0.292, disc_fake_loss=0.353 gan_loss=0.000\n",
            "2/2 [==============================] - 0s 8ms/step\n"
          ]
        },
        {
          "name": "stderr",
          "output_type": "stream",
          "text": [
            "WARNING:tensorflow:Compiled the loaded model, but the compiled metrics have yet to be built. `model.compile_metrics` will be empty until you train or evaluate the model.\n"
          ]
        },
        {
          "name": "stdout",
          "output_type": "stream",
          "text": [
            ">Epoch: 5,Batch: 249/468, disc_real_loss=0.369, disc_fake_loss=0.344 gan_loss=0.000\n",
            "2/2 [==============================] - 0s 10ms/step\n"
          ]
        },
        {
          "name": "stderr",
          "output_type": "stream",
          "text": [
            "WARNING:tensorflow:Compiled the loaded model, but the compiled metrics have yet to be built. `model.compile_metrics` will be empty until you train or evaluate the model.\n"
          ]
        },
        {
          "name": "stdout",
          "output_type": "stream",
          "text": [
            ">Epoch: 5,Batch: 250/468, disc_real_loss=0.235, disc_fake_loss=0.357 gan_loss=0.000\n",
            "2/2 [==============================] - 0s 9ms/step\n"
          ]
        },
        {
          "name": "stderr",
          "output_type": "stream",
          "text": [
            "WARNING:tensorflow:Compiled the loaded model, but the compiled metrics have yet to be built. `model.compile_metrics` will be empty until you train or evaluate the model.\n"
          ]
        },
        {
          "name": "stdout",
          "output_type": "stream",
          "text": [
            ">Epoch: 5,Batch: 251/468, disc_real_loss=0.337, disc_fake_loss=0.265 gan_loss=0.000\n",
            "2/2 [==============================] - 0s 10ms/step\n"
          ]
        },
        {
          "name": "stderr",
          "output_type": "stream",
          "text": [
            "WARNING:tensorflow:Compiled the loaded model, but the compiled metrics have yet to be built. `model.compile_metrics` will be empty until you train or evaluate the model.\n"
          ]
        },
        {
          "name": "stdout",
          "output_type": "stream",
          "text": [
            ">Epoch: 5,Batch: 252/468, disc_real_loss=0.274, disc_fake_loss=0.368 gan_loss=0.000\n",
            "2/2 [==============================] - 0s 7ms/step\n"
          ]
        },
        {
          "name": "stderr",
          "output_type": "stream",
          "text": [
            "WARNING:tensorflow:Compiled the loaded model, but the compiled metrics have yet to be built. `model.compile_metrics` will be empty until you train or evaluate the model.\n"
          ]
        },
        {
          "name": "stdout",
          "output_type": "stream",
          "text": [
            ">Epoch: 5,Batch: 253/468, disc_real_loss=0.397, disc_fake_loss=0.263 gan_loss=0.000\n",
            "2/2 [==============================] - 0s 10ms/step\n"
          ]
        },
        {
          "name": "stderr",
          "output_type": "stream",
          "text": [
            "WARNING:tensorflow:Compiled the loaded model, but the compiled metrics have yet to be built. `model.compile_metrics` will be empty until you train or evaluate the model.\n"
          ]
        },
        {
          "name": "stdout",
          "output_type": "stream",
          "text": [
            ">Epoch: 5,Batch: 254/468, disc_real_loss=0.252, disc_fake_loss=0.272 gan_loss=0.000\n",
            "2/2 [==============================] - 0s 6ms/step\n"
          ]
        },
        {
          "name": "stderr",
          "output_type": "stream",
          "text": [
            "WARNING:tensorflow:Compiled the loaded model, but the compiled metrics have yet to be built. `model.compile_metrics` will be empty until you train or evaluate the model.\n"
          ]
        },
        {
          "name": "stdout",
          "output_type": "stream",
          "text": [
            ">Epoch: 5,Batch: 255/468, disc_real_loss=0.379, disc_fake_loss=0.309 gan_loss=0.000\n",
            "2/2 [==============================] - 0s 9ms/step\n"
          ]
        },
        {
          "name": "stderr",
          "output_type": "stream",
          "text": [
            "WARNING:tensorflow:Compiled the loaded model, but the compiled metrics have yet to be built. `model.compile_metrics` will be empty until you train or evaluate the model.\n"
          ]
        },
        {
          "name": "stdout",
          "output_type": "stream",
          "text": [
            ">Epoch: 5,Batch: 256/468, disc_real_loss=0.306, disc_fake_loss=0.360 gan_loss=0.000\n",
            "2/2 [==============================] - 0s 10ms/step\n"
          ]
        },
        {
          "name": "stderr",
          "output_type": "stream",
          "text": [
            "WARNING:tensorflow:Compiled the loaded model, but the compiled metrics have yet to be built. `model.compile_metrics` will be empty until you train or evaluate the model.\n"
          ]
        },
        {
          "name": "stdout",
          "output_type": "stream",
          "text": [
            ">Epoch: 5,Batch: 257/468, disc_real_loss=0.370, disc_fake_loss=0.335 gan_loss=0.000\n",
            "2/2 [==============================] - 0s 7ms/step\n"
          ]
        },
        {
          "name": "stderr",
          "output_type": "stream",
          "text": [
            "WARNING:tensorflow:Compiled the loaded model, but the compiled metrics have yet to be built. `model.compile_metrics` will be empty until you train or evaluate the model.\n"
          ]
        },
        {
          "name": "stdout",
          "output_type": "stream",
          "text": [
            ">Epoch: 5,Batch: 258/468, disc_real_loss=0.333, disc_fake_loss=0.371 gan_loss=0.000\n",
            "2/2 [==============================] - 0s 11ms/step\n"
          ]
        },
        {
          "name": "stderr",
          "output_type": "stream",
          "text": [
            "WARNING:tensorflow:Compiled the loaded model, but the compiled metrics have yet to be built. `model.compile_metrics` will be empty until you train or evaluate the model.\n"
          ]
        },
        {
          "name": "stdout",
          "output_type": "stream",
          "text": [
            ">Epoch: 5,Batch: 259/468, disc_real_loss=0.349, disc_fake_loss=0.314 gan_loss=0.000\n",
            "2/2 [==============================] - 0s 10ms/step\n"
          ]
        },
        {
          "name": "stderr",
          "output_type": "stream",
          "text": [
            "WARNING:tensorflow:Compiled the loaded model, but the compiled metrics have yet to be built. `model.compile_metrics` will be empty until you train or evaluate the model.\n"
          ]
        },
        {
          "name": "stdout",
          "output_type": "stream",
          "text": [
            ">Epoch: 5,Batch: 260/468, disc_real_loss=0.285, disc_fake_loss=0.359 gan_loss=0.000\n",
            "2/2 [==============================] - 0s 10ms/step\n"
          ]
        },
        {
          "name": "stderr",
          "output_type": "stream",
          "text": [
            "WARNING:tensorflow:Compiled the loaded model, but the compiled metrics have yet to be built. `model.compile_metrics` will be empty until you train or evaluate the model.\n"
          ]
        },
        {
          "name": "stdout",
          "output_type": "stream",
          "text": [
            ">Epoch: 5,Batch: 261/468, disc_real_loss=0.288, disc_fake_loss=0.358 gan_loss=0.000\n",
            "2/2 [==============================] - 0s 7ms/step\n"
          ]
        },
        {
          "name": "stderr",
          "output_type": "stream",
          "text": [
            "WARNING:tensorflow:Compiled the loaded model, but the compiled metrics have yet to be built. `model.compile_metrics` will be empty until you train or evaluate the model.\n"
          ]
        },
        {
          "name": "stdout",
          "output_type": "stream",
          "text": [
            ">Epoch: 5,Batch: 262/468, disc_real_loss=0.313, disc_fake_loss=0.264 gan_loss=0.000\n",
            "2/2 [==============================] - 0s 6ms/step\n"
          ]
        },
        {
          "name": "stderr",
          "output_type": "stream",
          "text": [
            "WARNING:tensorflow:Compiled the loaded model, but the compiled metrics have yet to be built. `model.compile_metrics` will be empty until you train or evaluate the model.\n"
          ]
        },
        {
          "name": "stdout",
          "output_type": "stream",
          "text": [
            ">Epoch: 5,Batch: 263/468, disc_real_loss=0.261, disc_fake_loss=0.306 gan_loss=0.000\n",
            "2/2 [==============================] - 0s 10ms/step\n"
          ]
        },
        {
          "name": "stderr",
          "output_type": "stream",
          "text": [
            "WARNING:tensorflow:Compiled the loaded model, but the compiled metrics have yet to be built. `model.compile_metrics` will be empty until you train or evaluate the model.\n"
          ]
        },
        {
          "name": "stdout",
          "output_type": "stream",
          "text": [
            ">Epoch: 5,Batch: 264/468, disc_real_loss=0.288, disc_fake_loss=0.284 gan_loss=0.000\n",
            "2/2 [==============================] - 0s 5ms/step\n"
          ]
        },
        {
          "name": "stderr",
          "output_type": "stream",
          "text": [
            "WARNING:tensorflow:Compiled the loaded model, but the compiled metrics have yet to be built. `model.compile_metrics` will be empty until you train or evaluate the model.\n"
          ]
        },
        {
          "name": "stdout",
          "output_type": "stream",
          "text": [
            ">Epoch: 5,Batch: 265/468, disc_real_loss=0.302, disc_fake_loss=0.291 gan_loss=0.000\n",
            "2/2 [==============================] - 0s 10ms/step\n"
          ]
        },
        {
          "name": "stderr",
          "output_type": "stream",
          "text": [
            "WARNING:tensorflow:Compiled the loaded model, but the compiled metrics have yet to be built. `model.compile_metrics` will be empty until you train or evaluate the model.\n"
          ]
        },
        {
          "name": "stdout",
          "output_type": "stream",
          "text": [
            ">Epoch: 5,Batch: 266/468, disc_real_loss=0.399, disc_fake_loss=0.314 gan_loss=0.000\n",
            "2/2 [==============================] - 0s 7ms/step\n"
          ]
        },
        {
          "name": "stderr",
          "output_type": "stream",
          "text": [
            "WARNING:tensorflow:Compiled the loaded model, but the compiled metrics have yet to be built. `model.compile_metrics` will be empty until you train or evaluate the model.\n"
          ]
        },
        {
          "name": "stdout",
          "output_type": "stream",
          "text": [
            ">Epoch: 5,Batch: 267/468, disc_real_loss=0.236, disc_fake_loss=0.306 gan_loss=0.000\n",
            "2/2 [==============================] - 0s 11ms/step\n"
          ]
        },
        {
          "name": "stderr",
          "output_type": "stream",
          "text": [
            "WARNING:tensorflow:Compiled the loaded model, but the compiled metrics have yet to be built. `model.compile_metrics` will be empty until you train or evaluate the model.\n"
          ]
        },
        {
          "name": "stdout",
          "output_type": "stream",
          "text": [
            ">Epoch: 5,Batch: 268/468, disc_real_loss=0.296, disc_fake_loss=0.361 gan_loss=0.000\n",
            "2/2 [==============================] - 0s 9ms/step\n"
          ]
        },
        {
          "name": "stderr",
          "output_type": "stream",
          "text": [
            "WARNING:tensorflow:Compiled the loaded model, but the compiled metrics have yet to be built. `model.compile_metrics` will be empty until you train or evaluate the model.\n"
          ]
        },
        {
          "name": "stdout",
          "output_type": "stream",
          "text": [
            ">Epoch: 5,Batch: 269/468, disc_real_loss=0.322, disc_fake_loss=0.338 gan_loss=0.000\n",
            "2/2 [==============================] - 0s 9ms/step\n"
          ]
        },
        {
          "name": "stderr",
          "output_type": "stream",
          "text": [
            "WARNING:tensorflow:Compiled the loaded model, but the compiled metrics have yet to be built. `model.compile_metrics` will be empty until you train or evaluate the model.\n"
          ]
        },
        {
          "name": "stdout",
          "output_type": "stream",
          "text": [
            ">Epoch: 5,Batch: 270/468, disc_real_loss=0.329, disc_fake_loss=0.351 gan_loss=0.000\n",
            "2/2 [==============================] - 0s 6ms/step\n"
          ]
        },
        {
          "name": "stderr",
          "output_type": "stream",
          "text": [
            "WARNING:tensorflow:Compiled the loaded model, but the compiled metrics have yet to be built. `model.compile_metrics` will be empty until you train or evaluate the model.\n"
          ]
        },
        {
          "name": "stdout",
          "output_type": "stream",
          "text": [
            ">Epoch: 5,Batch: 271/468, disc_real_loss=0.372, disc_fake_loss=0.238 gan_loss=0.000\n",
            "2/2 [==============================] - 0s 10ms/step\n"
          ]
        },
        {
          "name": "stderr",
          "output_type": "stream",
          "text": [
            "WARNING:tensorflow:Compiled the loaded model, but the compiled metrics have yet to be built. `model.compile_metrics` will be empty until you train or evaluate the model.\n"
          ]
        },
        {
          "name": "stdout",
          "output_type": "stream",
          "text": [
            ">Epoch: 5,Batch: 272/468, disc_real_loss=0.362, disc_fake_loss=0.337 gan_loss=0.000\n",
            "2/2 [==============================] - 0s 10ms/step\n"
          ]
        },
        {
          "name": "stderr",
          "output_type": "stream",
          "text": [
            "WARNING:tensorflow:Compiled the loaded model, but the compiled metrics have yet to be built. `model.compile_metrics` will be empty until you train or evaluate the model.\n"
          ]
        },
        {
          "name": "stdout",
          "output_type": "stream",
          "text": [
            ">Epoch: 5,Batch: 273/468, disc_real_loss=0.291, disc_fake_loss=0.348 gan_loss=0.000\n",
            "2/2 [==============================] - 0s 8ms/step\n"
          ]
        },
        {
          "name": "stderr",
          "output_type": "stream",
          "text": [
            "WARNING:tensorflow:Compiled the loaded model, but the compiled metrics have yet to be built. `model.compile_metrics` will be empty until you train or evaluate the model.\n"
          ]
        },
        {
          "name": "stdout",
          "output_type": "stream",
          "text": [
            ">Epoch: 5,Batch: 274/468, disc_real_loss=0.340, disc_fake_loss=0.326 gan_loss=0.000\n",
            "2/2 [==============================] - 0s 8ms/step\n"
          ]
        },
        {
          "name": "stderr",
          "output_type": "stream",
          "text": [
            "WARNING:tensorflow:Compiled the loaded model, but the compiled metrics have yet to be built. `model.compile_metrics` will be empty until you train or evaluate the model.\n"
          ]
        },
        {
          "name": "stdout",
          "output_type": "stream",
          "text": [
            ">Epoch: 5,Batch: 275/468, disc_real_loss=0.337, disc_fake_loss=0.282 gan_loss=0.000\n",
            "2/2 [==============================] - 0s 6ms/step\n"
          ]
        },
        {
          "name": "stderr",
          "output_type": "stream",
          "text": [
            "WARNING:tensorflow:Compiled the loaded model, but the compiled metrics have yet to be built. `model.compile_metrics` will be empty until you train or evaluate the model.\n"
          ]
        },
        {
          "name": "stdout",
          "output_type": "stream",
          "text": [
            ">Epoch: 5,Batch: 276/468, disc_real_loss=0.382, disc_fake_loss=0.300 gan_loss=0.000\n",
            "2/2 [==============================] - 0s 10ms/step\n"
          ]
        },
        {
          "name": "stderr",
          "output_type": "stream",
          "text": [
            "WARNING:tensorflow:Compiled the loaded model, but the compiled metrics have yet to be built. `model.compile_metrics` will be empty until you train or evaluate the model.\n"
          ]
        },
        {
          "name": "stdout",
          "output_type": "stream",
          "text": [
            ">Epoch: 5,Batch: 277/468, disc_real_loss=0.372, disc_fake_loss=0.371 gan_loss=0.000\n",
            "2/2 [==============================] - 0s 11ms/step\n"
          ]
        },
        {
          "name": "stderr",
          "output_type": "stream",
          "text": [
            "WARNING:tensorflow:Compiled the loaded model, but the compiled metrics have yet to be built. `model.compile_metrics` will be empty until you train or evaluate the model.\n"
          ]
        },
        {
          "name": "stdout",
          "output_type": "stream",
          "text": [
            ">Epoch: 5,Batch: 278/468, disc_real_loss=0.230, disc_fake_loss=0.327 gan_loss=0.000\n",
            "2/2 [==============================] - 0s 9ms/step\n"
          ]
        },
        {
          "name": "stderr",
          "output_type": "stream",
          "text": [
            "WARNING:tensorflow:Compiled the loaded model, but the compiled metrics have yet to be built. `model.compile_metrics` will be empty until you train or evaluate the model.\n"
          ]
        },
        {
          "name": "stdout",
          "output_type": "stream",
          "text": [
            ">Epoch: 5,Batch: 279/468, disc_real_loss=0.301, disc_fake_loss=0.353 gan_loss=0.000\n",
            "2/2 [==============================] - 0s 8ms/step\n"
          ]
        },
        {
          "name": "stderr",
          "output_type": "stream",
          "text": [
            "WARNING:tensorflow:Compiled the loaded model, but the compiled metrics have yet to be built. `model.compile_metrics` will be empty until you train or evaluate the model.\n"
          ]
        },
        {
          "name": "stdout",
          "output_type": "stream",
          "text": [
            ">Epoch: 5,Batch: 280/468, disc_real_loss=0.330, disc_fake_loss=0.272 gan_loss=0.000\n",
            "2/2 [==============================] - 0s 11ms/step\n"
          ]
        },
        {
          "name": "stderr",
          "output_type": "stream",
          "text": [
            "WARNING:tensorflow:Compiled the loaded model, but the compiled metrics have yet to be built. `model.compile_metrics` will be empty until you train or evaluate the model.\n"
          ]
        },
        {
          "name": "stdout",
          "output_type": "stream",
          "text": [
            ">Epoch: 5,Batch: 281/468, disc_real_loss=0.324, disc_fake_loss=0.262 gan_loss=0.000\n",
            "2/2 [==============================] - 0s 10ms/step\n"
          ]
        },
        {
          "name": "stderr",
          "output_type": "stream",
          "text": [
            "WARNING:tensorflow:Compiled the loaded model, but the compiled metrics have yet to be built. `model.compile_metrics` will be empty until you train or evaluate the model.\n"
          ]
        },
        {
          "name": "stdout",
          "output_type": "stream",
          "text": [
            ">Epoch: 5,Batch: 282/468, disc_real_loss=0.280, disc_fake_loss=0.273 gan_loss=0.000\n",
            "2/2 [==============================] - 0s 7ms/step\n"
          ]
        },
        {
          "name": "stderr",
          "output_type": "stream",
          "text": [
            "WARNING:tensorflow:Compiled the loaded model, but the compiled metrics have yet to be built. `model.compile_metrics` will be empty until you train or evaluate the model.\n"
          ]
        },
        {
          "name": "stdout",
          "output_type": "stream",
          "text": [
            ">Epoch: 5,Batch: 283/468, disc_real_loss=0.349, disc_fake_loss=0.322 gan_loss=0.000\n",
            "2/2 [==============================] - 0s 10ms/step\n"
          ]
        },
        {
          "name": "stderr",
          "output_type": "stream",
          "text": [
            "WARNING:tensorflow:Compiled the loaded model, but the compiled metrics have yet to be built. `model.compile_metrics` will be empty until you train or evaluate the model.\n"
          ]
        },
        {
          "name": "stdout",
          "output_type": "stream",
          "text": [
            ">Epoch: 5,Batch: 284/468, disc_real_loss=0.212, disc_fake_loss=0.373 gan_loss=0.000\n",
            "2/2 [==============================] - 0s 10ms/step\n"
          ]
        },
        {
          "name": "stderr",
          "output_type": "stream",
          "text": [
            "WARNING:tensorflow:Compiled the loaded model, but the compiled metrics have yet to be built. `model.compile_metrics` will be empty until you train or evaluate the model.\n"
          ]
        },
        {
          "name": "stdout",
          "output_type": "stream",
          "text": [
            ">Epoch: 5,Batch: 285/468, disc_real_loss=0.262, disc_fake_loss=0.262 gan_loss=0.000\n",
            "2/2 [==============================] - 0s 10ms/step\n"
          ]
        },
        {
          "name": "stderr",
          "output_type": "stream",
          "text": [
            "WARNING:tensorflow:Compiled the loaded model, but the compiled metrics have yet to be built. `model.compile_metrics` will be empty until you train or evaluate the model.\n"
          ]
        },
        {
          "name": "stdout",
          "output_type": "stream",
          "text": [
            ">Epoch: 5,Batch: 286/468, disc_real_loss=0.308, disc_fake_loss=0.264 gan_loss=0.000\n",
            "2/2 [==============================] - 0s 5ms/step\n"
          ]
        },
        {
          "name": "stderr",
          "output_type": "stream",
          "text": [
            "WARNING:tensorflow:Compiled the loaded model, but the compiled metrics have yet to be built. `model.compile_metrics` will be empty until you train or evaluate the model.\n"
          ]
        },
        {
          "name": "stdout",
          "output_type": "stream",
          "text": [
            ">Epoch: 5,Batch: 287/468, disc_real_loss=0.291, disc_fake_loss=0.311 gan_loss=0.000\n",
            "2/2 [==============================] - 0s 7ms/step\n"
          ]
        },
        {
          "name": "stderr",
          "output_type": "stream",
          "text": [
            "WARNING:tensorflow:Compiled the loaded model, but the compiled metrics have yet to be built. `model.compile_metrics` will be empty until you train or evaluate the model.\n"
          ]
        },
        {
          "name": "stdout",
          "output_type": "stream",
          "text": [
            ">Epoch: 5,Batch: 288/468, disc_real_loss=0.416, disc_fake_loss=0.379 gan_loss=0.000\n",
            "2/2 [==============================] - 0s 10ms/step\n"
          ]
        },
        {
          "name": "stderr",
          "output_type": "stream",
          "text": [
            "WARNING:tensorflow:Compiled the loaded model, but the compiled metrics have yet to be built. `model.compile_metrics` will be empty until you train or evaluate the model.\n"
          ]
        },
        {
          "name": "stdout",
          "output_type": "stream",
          "text": [
            ">Epoch: 5,Batch: 289/468, disc_real_loss=0.329, disc_fake_loss=0.343 gan_loss=0.000\n",
            "2/2 [==============================] - 0s 10ms/step\n"
          ]
        },
        {
          "name": "stderr",
          "output_type": "stream",
          "text": [
            "WARNING:tensorflow:Compiled the loaded model, but the compiled metrics have yet to be built. `model.compile_metrics` will be empty until you train or evaluate the model.\n"
          ]
        },
        {
          "name": "stdout",
          "output_type": "stream",
          "text": [
            ">Epoch: 5,Batch: 290/468, disc_real_loss=0.389, disc_fake_loss=0.293 gan_loss=0.000\n",
            "2/2 [==============================] - 0s 8ms/step\n"
          ]
        },
        {
          "name": "stderr",
          "output_type": "stream",
          "text": [
            "WARNING:tensorflow:Compiled the loaded model, but the compiled metrics have yet to be built. `model.compile_metrics` will be empty until you train or evaluate the model.\n"
          ]
        },
        {
          "name": "stdout",
          "output_type": "stream",
          "text": [
            ">Epoch: 5,Batch: 291/468, disc_real_loss=0.305, disc_fake_loss=0.278 gan_loss=0.000\n",
            "2/2 [==============================] - 0s 12ms/step\n"
          ]
        },
        {
          "name": "stderr",
          "output_type": "stream",
          "text": [
            "WARNING:tensorflow:Compiled the loaded model, but the compiled metrics have yet to be built. `model.compile_metrics` will be empty until you train or evaluate the model.\n"
          ]
        },
        {
          "name": "stdout",
          "output_type": "stream",
          "text": [
            ">Epoch: 5,Batch: 292/468, disc_real_loss=0.313, disc_fake_loss=0.438 gan_loss=0.000\n",
            "2/2 [==============================] - 0s 6ms/step\n"
          ]
        },
        {
          "name": "stderr",
          "output_type": "stream",
          "text": [
            "WARNING:tensorflow:Compiled the loaded model, but the compiled metrics have yet to be built. `model.compile_metrics` will be empty until you train or evaluate the model.\n"
          ]
        },
        {
          "name": "stdout",
          "output_type": "stream",
          "text": [
            ">Epoch: 5,Batch: 293/468, disc_real_loss=0.319, disc_fake_loss=0.282 gan_loss=0.000\n",
            "2/2 [==============================] - 0s 9ms/step\n"
          ]
        },
        {
          "name": "stderr",
          "output_type": "stream",
          "text": [
            "WARNING:tensorflow:Compiled the loaded model, but the compiled metrics have yet to be built. `model.compile_metrics` will be empty until you train or evaluate the model.\n"
          ]
        },
        {
          "name": "stdout",
          "output_type": "stream",
          "text": [
            ">Epoch: 5,Batch: 294/468, disc_real_loss=0.347, disc_fake_loss=0.376 gan_loss=0.000\n",
            "2/2 [==============================] - 0s 6ms/step\n"
          ]
        },
        {
          "name": "stderr",
          "output_type": "stream",
          "text": [
            "WARNING:tensorflow:Compiled the loaded model, but the compiled metrics have yet to be built. `model.compile_metrics` will be empty until you train or evaluate the model.\n"
          ]
        },
        {
          "name": "stdout",
          "output_type": "stream",
          "text": [
            ">Epoch: 5,Batch: 295/468, disc_real_loss=0.374, disc_fake_loss=0.305 gan_loss=0.000\n",
            "2/2 [==============================] - 0s 8ms/step\n"
          ]
        },
        {
          "name": "stderr",
          "output_type": "stream",
          "text": [
            "WARNING:tensorflow:Compiled the loaded model, but the compiled metrics have yet to be built. `model.compile_metrics` will be empty until you train or evaluate the model.\n"
          ]
        },
        {
          "name": "stdout",
          "output_type": "stream",
          "text": [
            ">Epoch: 5,Batch: 296/468, disc_real_loss=0.323, disc_fake_loss=0.405 gan_loss=0.000\n",
            "2/2 [==============================] - 0s 5ms/step\n"
          ]
        },
        {
          "name": "stderr",
          "output_type": "stream",
          "text": [
            "WARNING:tensorflow:Compiled the loaded model, but the compiled metrics have yet to be built. `model.compile_metrics` will be empty until you train or evaluate the model.\n"
          ]
        },
        {
          "name": "stdout",
          "output_type": "stream",
          "text": [
            ">Epoch: 5,Batch: 297/468, disc_real_loss=0.363, disc_fake_loss=0.336 gan_loss=0.000\n",
            "2/2 [==============================] - 0s 11ms/step\n"
          ]
        },
        {
          "name": "stderr",
          "output_type": "stream",
          "text": [
            "WARNING:tensorflow:Compiled the loaded model, but the compiled metrics have yet to be built. `model.compile_metrics` will be empty until you train or evaluate the model.\n"
          ]
        },
        {
          "name": "stdout",
          "output_type": "stream",
          "text": [
            ">Epoch: 5,Batch: 298/468, disc_real_loss=0.343, disc_fake_loss=0.326 gan_loss=0.000\n",
            "2/2 [==============================] - 0s 6ms/step\n"
          ]
        },
        {
          "name": "stderr",
          "output_type": "stream",
          "text": [
            "WARNING:tensorflow:Compiled the loaded model, but the compiled metrics have yet to be built. `model.compile_metrics` will be empty until you train or evaluate the model.\n"
          ]
        },
        {
          "name": "stdout",
          "output_type": "stream",
          "text": [
            ">Epoch: 5,Batch: 299/468, disc_real_loss=0.320, disc_fake_loss=0.278 gan_loss=0.000\n",
            "2/2 [==============================] - 0s 10ms/step\n"
          ]
        },
        {
          "name": "stderr",
          "output_type": "stream",
          "text": [
            "WARNING:tensorflow:Compiled the loaded model, but the compiled metrics have yet to be built. `model.compile_metrics` will be empty until you train or evaluate the model.\n"
          ]
        },
        {
          "name": "stdout",
          "output_type": "stream",
          "text": [
            ">Epoch: 5,Batch: 300/468, disc_real_loss=0.364, disc_fake_loss=0.371 gan_loss=0.000\n",
            "2/2 [==============================] - 0s 10ms/step\n"
          ]
        },
        {
          "name": "stderr",
          "output_type": "stream",
          "text": [
            "WARNING:tensorflow:Compiled the loaded model, but the compiled metrics have yet to be built. `model.compile_metrics` will be empty until you train or evaluate the model.\n"
          ]
        },
        {
          "name": "stdout",
          "output_type": "stream",
          "text": [
            ">Epoch: 5,Batch: 301/468, disc_real_loss=0.355, disc_fake_loss=0.268 gan_loss=0.000\n",
            "2/2 [==============================] - 0s 6ms/step\n"
          ]
        },
        {
          "name": "stderr",
          "output_type": "stream",
          "text": [
            "WARNING:tensorflow:Compiled the loaded model, but the compiled metrics have yet to be built. `model.compile_metrics` will be empty until you train or evaluate the model.\n"
          ]
        },
        {
          "name": "stdout",
          "output_type": "stream",
          "text": [
            ">Epoch: 5,Batch: 302/468, disc_real_loss=0.293, disc_fake_loss=0.374 gan_loss=0.000\n",
            "2/2 [==============================] - 0s 10ms/step\n"
          ]
        },
        {
          "name": "stderr",
          "output_type": "stream",
          "text": [
            "WARNING:tensorflow:Compiled the loaded model, but the compiled metrics have yet to be built. `model.compile_metrics` will be empty until you train or evaluate the model.\n"
          ]
        },
        {
          "name": "stdout",
          "output_type": "stream",
          "text": [
            ">Epoch: 5,Batch: 303/468, disc_real_loss=0.288, disc_fake_loss=0.396 gan_loss=0.000\n",
            "2/2 [==============================] - 0s 6ms/step\n"
          ]
        },
        {
          "name": "stderr",
          "output_type": "stream",
          "text": [
            "WARNING:tensorflow:Compiled the loaded model, but the compiled metrics have yet to be built. `model.compile_metrics` will be empty until you train or evaluate the model.\n"
          ]
        },
        {
          "name": "stdout",
          "output_type": "stream",
          "text": [
            ">Epoch: 5,Batch: 304/468, disc_real_loss=0.305, disc_fake_loss=0.358 gan_loss=0.000\n",
            "2/2 [==============================] - 0s 9ms/step\n"
          ]
        },
        {
          "name": "stderr",
          "output_type": "stream",
          "text": [
            "WARNING:tensorflow:Compiled the loaded model, but the compiled metrics have yet to be built. `model.compile_metrics` will be empty until you train or evaluate the model.\n"
          ]
        },
        {
          "name": "stdout",
          "output_type": "stream",
          "text": [
            ">Epoch: 5,Batch: 305/468, disc_real_loss=0.302, disc_fake_loss=0.249 gan_loss=0.000\n",
            "2/2 [==============================] - 0s 6ms/step\n"
          ]
        },
        {
          "name": "stderr",
          "output_type": "stream",
          "text": [
            "WARNING:tensorflow:Compiled the loaded model, but the compiled metrics have yet to be built. `model.compile_metrics` will be empty until you train or evaluate the model.\n"
          ]
        },
        {
          "name": "stdout",
          "output_type": "stream",
          "text": [
            ">Epoch: 5,Batch: 306/468, disc_real_loss=0.275, disc_fake_loss=0.293 gan_loss=0.000\n",
            "2/2 [==============================] - 0s 6ms/step\n"
          ]
        },
        {
          "name": "stderr",
          "output_type": "stream",
          "text": [
            "WARNING:tensorflow:Compiled the loaded model, but the compiled metrics have yet to be built. `model.compile_metrics` will be empty until you train or evaluate the model.\n"
          ]
        },
        {
          "name": "stdout",
          "output_type": "stream",
          "text": [
            ">Epoch: 5,Batch: 307/468, disc_real_loss=0.425, disc_fake_loss=0.288 gan_loss=0.000\n",
            "2/2 [==============================] - 0s 10ms/step\n"
          ]
        },
        {
          "name": "stderr",
          "output_type": "stream",
          "text": [
            "WARNING:tensorflow:Compiled the loaded model, but the compiled metrics have yet to be built. `model.compile_metrics` will be empty until you train or evaluate the model.\n"
          ]
        },
        {
          "name": "stdout",
          "output_type": "stream",
          "text": [
            ">Epoch: 5,Batch: 308/468, disc_real_loss=0.227, disc_fake_loss=0.320 gan_loss=0.000\n",
            "2/2 [==============================] - 0s 6ms/step\n"
          ]
        },
        {
          "name": "stderr",
          "output_type": "stream",
          "text": [
            "WARNING:tensorflow:Compiled the loaded model, but the compiled metrics have yet to be built. `model.compile_metrics` will be empty until you train or evaluate the model.\n"
          ]
        },
        {
          "name": "stdout",
          "output_type": "stream",
          "text": [
            ">Epoch: 5,Batch: 309/468, disc_real_loss=0.317, disc_fake_loss=0.309 gan_loss=0.000\n",
            "2/2 [==============================] - 0s 12ms/step\n"
          ]
        },
        {
          "name": "stderr",
          "output_type": "stream",
          "text": [
            "WARNING:tensorflow:Compiled the loaded model, but the compiled metrics have yet to be built. `model.compile_metrics` will be empty until you train or evaluate the model.\n"
          ]
        },
        {
          "name": "stdout",
          "output_type": "stream",
          "text": [
            ">Epoch: 5,Batch: 310/468, disc_real_loss=0.218, disc_fake_loss=0.285 gan_loss=0.000\n",
            "2/2 [==============================] - 0s 8ms/step\n"
          ]
        },
        {
          "name": "stderr",
          "output_type": "stream",
          "text": [
            "WARNING:tensorflow:Compiled the loaded model, but the compiled metrics have yet to be built. `model.compile_metrics` will be empty until you train or evaluate the model.\n"
          ]
        },
        {
          "name": "stdout",
          "output_type": "stream",
          "text": [
            ">Epoch: 5,Batch: 311/468, disc_real_loss=0.258, disc_fake_loss=0.362 gan_loss=0.000\n",
            "2/2 [==============================] - 0s 9ms/step\n"
          ]
        },
        {
          "name": "stderr",
          "output_type": "stream",
          "text": [
            "WARNING:tensorflow:Compiled the loaded model, but the compiled metrics have yet to be built. `model.compile_metrics` will be empty until you train or evaluate the model.\n"
          ]
        },
        {
          "name": "stdout",
          "output_type": "stream",
          "text": [
            ">Epoch: 5,Batch: 312/468, disc_real_loss=0.303, disc_fake_loss=0.329 gan_loss=0.000\n",
            "2/2 [==============================] - 0s 6ms/step\n"
          ]
        },
        {
          "name": "stderr",
          "output_type": "stream",
          "text": [
            "WARNING:tensorflow:Compiled the loaded model, but the compiled metrics have yet to be built. `model.compile_metrics` will be empty until you train or evaluate the model.\n"
          ]
        },
        {
          "name": "stdout",
          "output_type": "stream",
          "text": [
            ">Epoch: 5,Batch: 313/468, disc_real_loss=0.384, disc_fake_loss=0.265 gan_loss=0.000\n",
            "2/2 [==============================] - 0s 5ms/step\n"
          ]
        },
        {
          "name": "stderr",
          "output_type": "stream",
          "text": [
            "WARNING:tensorflow:Compiled the loaded model, but the compiled metrics have yet to be built. `model.compile_metrics` will be empty until you train or evaluate the model.\n"
          ]
        },
        {
          "name": "stdout",
          "output_type": "stream",
          "text": [
            ">Epoch: 5,Batch: 314/468, disc_real_loss=0.277, disc_fake_loss=0.305 gan_loss=0.000\n",
            "2/2 [==============================] - 0s 7ms/step\n"
          ]
        },
        {
          "name": "stderr",
          "output_type": "stream",
          "text": [
            "WARNING:tensorflow:Compiled the loaded model, but the compiled metrics have yet to be built. `model.compile_metrics` will be empty until you train or evaluate the model.\n"
          ]
        },
        {
          "name": "stdout",
          "output_type": "stream",
          "text": [
            ">Epoch: 5,Batch: 315/468, disc_real_loss=0.270, disc_fake_loss=0.257 gan_loss=0.000\n",
            "2/2 [==============================] - 0s 10ms/step\n"
          ]
        },
        {
          "name": "stderr",
          "output_type": "stream",
          "text": [
            "WARNING:tensorflow:Compiled the loaded model, but the compiled metrics have yet to be built. `model.compile_metrics` will be empty until you train or evaluate the model.\n"
          ]
        },
        {
          "name": "stdout",
          "output_type": "stream",
          "text": [
            ">Epoch: 5,Batch: 316/468, disc_real_loss=0.362, disc_fake_loss=0.294 gan_loss=0.000\n",
            "2/2 [==============================] - 0s 9ms/step\n"
          ]
        },
        {
          "name": "stderr",
          "output_type": "stream",
          "text": [
            "WARNING:tensorflow:Compiled the loaded model, but the compiled metrics have yet to be built. `model.compile_metrics` will be empty until you train or evaluate the model.\n"
          ]
        },
        {
          "name": "stdout",
          "output_type": "stream",
          "text": [
            ">Epoch: 5,Batch: 317/468, disc_real_loss=0.231, disc_fake_loss=0.288 gan_loss=0.000\n",
            "2/2 [==============================] - 0s 10ms/step\n"
          ]
        },
        {
          "name": "stderr",
          "output_type": "stream",
          "text": [
            "WARNING:tensorflow:Compiled the loaded model, but the compiled metrics have yet to be built. `model.compile_metrics` will be empty until you train or evaluate the model.\n"
          ]
        },
        {
          "name": "stdout",
          "output_type": "stream",
          "text": [
            ">Epoch: 5,Batch: 318/468, disc_real_loss=0.238, disc_fake_loss=0.323 gan_loss=0.000\n",
            "2/2 [==============================] - 0s 6ms/step\n"
          ]
        },
        {
          "name": "stderr",
          "output_type": "stream",
          "text": [
            "WARNING:tensorflow:Compiled the loaded model, but the compiled metrics have yet to be built. `model.compile_metrics` will be empty until you train or evaluate the model.\n"
          ]
        },
        {
          "name": "stdout",
          "output_type": "stream",
          "text": [
            ">Epoch: 5,Batch: 319/468, disc_real_loss=0.385, disc_fake_loss=0.311 gan_loss=0.000\n",
            "2/2 [==============================] - 0s 5ms/step\n"
          ]
        },
        {
          "name": "stderr",
          "output_type": "stream",
          "text": [
            "WARNING:tensorflow:Compiled the loaded model, but the compiled metrics have yet to be built. `model.compile_metrics` will be empty until you train or evaluate the model.\n"
          ]
        },
        {
          "name": "stdout",
          "output_type": "stream",
          "text": [
            ">Epoch: 5,Batch: 320/468, disc_real_loss=0.304, disc_fake_loss=0.347 gan_loss=0.000\n",
            "2/2 [==============================] - 0s 10ms/step\n"
          ]
        },
        {
          "name": "stderr",
          "output_type": "stream",
          "text": [
            "WARNING:tensorflow:Compiled the loaded model, but the compiled metrics have yet to be built. `model.compile_metrics` will be empty until you train or evaluate the model.\n"
          ]
        },
        {
          "name": "stdout",
          "output_type": "stream",
          "text": [
            ">Epoch: 5,Batch: 321/468, disc_real_loss=0.249, disc_fake_loss=0.360 gan_loss=0.000\n",
            "2/2 [==============================] - 0s 4ms/step\n"
          ]
        },
        {
          "name": "stderr",
          "output_type": "stream",
          "text": [
            "WARNING:tensorflow:Compiled the loaded model, but the compiled metrics have yet to be built. `model.compile_metrics` will be empty until you train or evaluate the model.\n"
          ]
        },
        {
          "name": "stdout",
          "output_type": "stream",
          "text": [
            ">Epoch: 5,Batch: 322/468, disc_real_loss=0.294, disc_fake_loss=0.346 gan_loss=0.000\n",
            "2/2 [==============================] - 0s 7ms/step\n"
          ]
        },
        {
          "name": "stderr",
          "output_type": "stream",
          "text": [
            "WARNING:tensorflow:Compiled the loaded model, but the compiled metrics have yet to be built. `model.compile_metrics` will be empty until you train or evaluate the model.\n"
          ]
        },
        {
          "name": "stdout",
          "output_type": "stream",
          "text": [
            ">Epoch: 5,Batch: 323/468, disc_real_loss=0.406, disc_fake_loss=0.244 gan_loss=0.000\n",
            "2/2 [==============================] - 0s 11ms/step\n"
          ]
        },
        {
          "name": "stderr",
          "output_type": "stream",
          "text": [
            "WARNING:tensorflow:Compiled the loaded model, but the compiled metrics have yet to be built. `model.compile_metrics` will be empty until you train or evaluate the model.\n"
          ]
        },
        {
          "name": "stdout",
          "output_type": "stream",
          "text": [
            ">Epoch: 5,Batch: 324/468, disc_real_loss=0.323, disc_fake_loss=0.313 gan_loss=0.000\n",
            "2/2 [==============================] - 0s 6ms/step\n"
          ]
        },
        {
          "name": "stderr",
          "output_type": "stream",
          "text": [
            "WARNING:tensorflow:Compiled the loaded model, but the compiled metrics have yet to be built. `model.compile_metrics` will be empty until you train or evaluate the model.\n"
          ]
        },
        {
          "name": "stdout",
          "output_type": "stream",
          "text": [
            ">Epoch: 5,Batch: 325/468, disc_real_loss=0.233, disc_fake_loss=0.280 gan_loss=0.000\n",
            "2/2 [==============================] - 0s 10ms/step\n"
          ]
        },
        {
          "name": "stderr",
          "output_type": "stream",
          "text": [
            "WARNING:tensorflow:Compiled the loaded model, but the compiled metrics have yet to be built. `model.compile_metrics` will be empty until you train or evaluate the model.\n"
          ]
        },
        {
          "name": "stdout",
          "output_type": "stream",
          "text": [
            ">Epoch: 5,Batch: 326/468, disc_real_loss=0.344, disc_fake_loss=0.340 gan_loss=0.000\n",
            "2/2 [==============================] - 0s 6ms/step\n"
          ]
        },
        {
          "name": "stderr",
          "output_type": "stream",
          "text": [
            "WARNING:tensorflow:Compiled the loaded model, but the compiled metrics have yet to be built. `model.compile_metrics` will be empty until you train or evaluate the model.\n"
          ]
        },
        {
          "name": "stdout",
          "output_type": "stream",
          "text": [
            ">Epoch: 5,Batch: 327/468, disc_real_loss=0.339, disc_fake_loss=0.378 gan_loss=0.000\n",
            "2/2 [==============================] - 0s 10ms/step\n"
          ]
        },
        {
          "name": "stderr",
          "output_type": "stream",
          "text": [
            "WARNING:tensorflow:Compiled the loaded model, but the compiled metrics have yet to be built. `model.compile_metrics` will be empty until you train or evaluate the model.\n"
          ]
        },
        {
          "name": "stdout",
          "output_type": "stream",
          "text": [
            ">Epoch: 5,Batch: 328/468, disc_real_loss=0.351, disc_fake_loss=0.360 gan_loss=0.000\n",
            "2/2 [==============================] - 0s 7ms/step\n"
          ]
        },
        {
          "name": "stderr",
          "output_type": "stream",
          "text": [
            "WARNING:tensorflow:Compiled the loaded model, but the compiled metrics have yet to be built. `model.compile_metrics` will be empty until you train or evaluate the model.\n"
          ]
        },
        {
          "name": "stdout",
          "output_type": "stream",
          "text": [
            ">Epoch: 5,Batch: 329/468, disc_real_loss=0.357, disc_fake_loss=0.278 gan_loss=0.000\n",
            "2/2 [==============================] - 0s 10ms/step\n"
          ]
        },
        {
          "name": "stderr",
          "output_type": "stream",
          "text": [
            "WARNING:tensorflow:Compiled the loaded model, but the compiled metrics have yet to be built. `model.compile_metrics` will be empty until you train or evaluate the model.\n"
          ]
        },
        {
          "name": "stdout",
          "output_type": "stream",
          "text": [
            ">Epoch: 5,Batch: 330/468, disc_real_loss=0.278, disc_fake_loss=0.421 gan_loss=0.000\n",
            "2/2 [==============================] - 0s 5ms/step\n"
          ]
        },
        {
          "name": "stderr",
          "output_type": "stream",
          "text": [
            "WARNING:tensorflow:Compiled the loaded model, but the compiled metrics have yet to be built. `model.compile_metrics` will be empty until you train or evaluate the model.\n"
          ]
        },
        {
          "name": "stdout",
          "output_type": "stream",
          "text": [
            ">Epoch: 5,Batch: 331/468, disc_real_loss=0.266, disc_fake_loss=0.300 gan_loss=0.000\n",
            "2/2 [==============================] - 0s 9ms/step\n"
          ]
        },
        {
          "name": "stderr",
          "output_type": "stream",
          "text": [
            "WARNING:tensorflow:Compiled the loaded model, but the compiled metrics have yet to be built. `model.compile_metrics` will be empty until you train or evaluate the model.\n"
          ]
        },
        {
          "name": "stdout",
          "output_type": "stream",
          "text": [
            ">Epoch: 5,Batch: 332/468, disc_real_loss=0.379, disc_fake_loss=0.213 gan_loss=0.000\n",
            "2/2 [==============================] - 0s 11ms/step\n"
          ]
        },
        {
          "name": "stderr",
          "output_type": "stream",
          "text": [
            "WARNING:tensorflow:Compiled the loaded model, but the compiled metrics have yet to be built. `model.compile_metrics` will be empty until you train or evaluate the model.\n"
          ]
        },
        {
          "name": "stdout",
          "output_type": "stream",
          "text": [
            ">Epoch: 5,Batch: 333/468, disc_real_loss=0.330, disc_fake_loss=0.264 gan_loss=0.000\n",
            "2/2 [==============================] - 0s 5ms/step\n"
          ]
        },
        {
          "name": "stderr",
          "output_type": "stream",
          "text": [
            "WARNING:tensorflow:Compiled the loaded model, but the compiled metrics have yet to be built. `model.compile_metrics` will be empty until you train or evaluate the model.\n"
          ]
        },
        {
          "name": "stdout",
          "output_type": "stream",
          "text": [
            ">Epoch: 5,Batch: 334/468, disc_real_loss=0.226, disc_fake_loss=0.344 gan_loss=0.000\n",
            "2/2 [==============================] - 0s 5ms/step\n"
          ]
        },
        {
          "name": "stderr",
          "output_type": "stream",
          "text": [
            "WARNING:tensorflow:Compiled the loaded model, but the compiled metrics have yet to be built. `model.compile_metrics` will be empty until you train or evaluate the model.\n"
          ]
        },
        {
          "name": "stdout",
          "output_type": "stream",
          "text": [
            ">Epoch: 5,Batch: 335/468, disc_real_loss=0.263, disc_fake_loss=0.294 gan_loss=0.000\n",
            "2/2 [==============================] - 0s 6ms/step\n"
          ]
        },
        {
          "name": "stderr",
          "output_type": "stream",
          "text": [
            "WARNING:tensorflow:Compiled the loaded model, but the compiled metrics have yet to be built. `model.compile_metrics` will be empty until you train or evaluate the model.\n"
          ]
        },
        {
          "name": "stdout",
          "output_type": "stream",
          "text": [
            ">Epoch: 5,Batch: 336/468, disc_real_loss=0.333, disc_fake_loss=0.313 gan_loss=0.000\n",
            "2/2 [==============================] - 0s 10ms/step\n"
          ]
        },
        {
          "name": "stderr",
          "output_type": "stream",
          "text": [
            "WARNING:tensorflow:Compiled the loaded model, but the compiled metrics have yet to be built. `model.compile_metrics` will be empty until you train or evaluate the model.\n"
          ]
        },
        {
          "name": "stdout",
          "output_type": "stream",
          "text": [
            ">Epoch: 5,Batch: 337/468, disc_real_loss=0.321, disc_fake_loss=0.347 gan_loss=0.000\n",
            "2/2 [==============================] - 0s 10ms/step\n"
          ]
        },
        {
          "name": "stderr",
          "output_type": "stream",
          "text": [
            "WARNING:tensorflow:Compiled the loaded model, but the compiled metrics have yet to be built. `model.compile_metrics` will be empty until you train or evaluate the model.\n"
          ]
        },
        {
          "name": "stdout",
          "output_type": "stream",
          "text": [
            ">Epoch: 5,Batch: 338/468, disc_real_loss=0.279, disc_fake_loss=0.325 gan_loss=0.000\n",
            "2/2 [==============================] - 0s 13ms/step\n"
          ]
        },
        {
          "name": "stderr",
          "output_type": "stream",
          "text": [
            "WARNING:tensorflow:Compiled the loaded model, but the compiled metrics have yet to be built. `model.compile_metrics` will be empty until you train or evaluate the model.\n"
          ]
        },
        {
          "name": "stdout",
          "output_type": "stream",
          "text": [
            ">Epoch: 5,Batch: 339/468, disc_real_loss=0.372, disc_fake_loss=0.269 gan_loss=0.000\n",
            "2/2 [==============================] - 0s 10ms/step\n"
          ]
        },
        {
          "name": "stderr",
          "output_type": "stream",
          "text": [
            "WARNING:tensorflow:Compiled the loaded model, but the compiled metrics have yet to be built. `model.compile_metrics` will be empty until you train or evaluate the model.\n"
          ]
        },
        {
          "name": "stdout",
          "output_type": "stream",
          "text": [
            ">Epoch: 5,Batch: 340/468, disc_real_loss=0.350, disc_fake_loss=0.285 gan_loss=0.000\n",
            "2/2 [==============================] - 0s 11ms/step\n"
          ]
        },
        {
          "name": "stderr",
          "output_type": "stream",
          "text": [
            "WARNING:tensorflow:Compiled the loaded model, but the compiled metrics have yet to be built. `model.compile_metrics` will be empty until you train or evaluate the model.\n"
          ]
        },
        {
          "name": "stdout",
          "output_type": "stream",
          "text": [
            ">Epoch: 5,Batch: 341/468, disc_real_loss=0.321, disc_fake_loss=0.268 gan_loss=0.000\n",
            "2/2 [==============================] - 0s 6ms/step\n"
          ]
        },
        {
          "name": "stderr",
          "output_type": "stream",
          "text": [
            "WARNING:tensorflow:Compiled the loaded model, but the compiled metrics have yet to be built. `model.compile_metrics` will be empty until you train or evaluate the model.\n"
          ]
        },
        {
          "name": "stdout",
          "output_type": "stream",
          "text": [
            ">Epoch: 5,Batch: 342/468, disc_real_loss=0.230, disc_fake_loss=0.378 gan_loss=0.000\n",
            "2/2 [==============================] - 0s 11ms/step\n"
          ]
        },
        {
          "name": "stderr",
          "output_type": "stream",
          "text": [
            "WARNING:tensorflow:Compiled the loaded model, but the compiled metrics have yet to be built. `model.compile_metrics` will be empty until you train or evaluate the model.\n"
          ]
        },
        {
          "name": "stdout",
          "output_type": "stream",
          "text": [
            ">Epoch: 5,Batch: 343/468, disc_real_loss=0.352, disc_fake_loss=0.315 gan_loss=0.000\n",
            "2/2 [==============================] - 0s 10ms/step\n"
          ]
        },
        {
          "name": "stderr",
          "output_type": "stream",
          "text": [
            "WARNING:tensorflow:Compiled the loaded model, but the compiled metrics have yet to be built. `model.compile_metrics` will be empty until you train or evaluate the model.\n"
          ]
        },
        {
          "name": "stdout",
          "output_type": "stream",
          "text": [
            ">Epoch: 5,Batch: 344/468, disc_real_loss=0.393, disc_fake_loss=0.443 gan_loss=0.000\n",
            "2/2 [==============================] - 0s 9ms/step\n"
          ]
        },
        {
          "name": "stderr",
          "output_type": "stream",
          "text": [
            "WARNING:tensorflow:Compiled the loaded model, but the compiled metrics have yet to be built. `model.compile_metrics` will be empty until you train or evaluate the model.\n"
          ]
        },
        {
          "name": "stdout",
          "output_type": "stream",
          "text": [
            ">Epoch: 5,Batch: 345/468, disc_real_loss=0.275, disc_fake_loss=0.352 gan_loss=0.000\n",
            "2/2 [==============================] - 0s 6ms/step\n"
          ]
        },
        {
          "name": "stderr",
          "output_type": "stream",
          "text": [
            "WARNING:tensorflow:Compiled the loaded model, but the compiled metrics have yet to be built. `model.compile_metrics` will be empty until you train or evaluate the model.\n"
          ]
        },
        {
          "name": "stdout",
          "output_type": "stream",
          "text": [
            ">Epoch: 5,Batch: 346/468, disc_real_loss=0.417, disc_fake_loss=0.275 gan_loss=0.000\n",
            "2/2 [==============================] - 0s 7ms/step\n"
          ]
        },
        {
          "name": "stderr",
          "output_type": "stream",
          "text": [
            "WARNING:tensorflow:Compiled the loaded model, but the compiled metrics have yet to be built. `model.compile_metrics` will be empty until you train or evaluate the model.\n"
          ]
        },
        {
          "name": "stdout",
          "output_type": "stream",
          "text": [
            ">Epoch: 5,Batch: 347/468, disc_real_loss=0.380, disc_fake_loss=0.485 gan_loss=0.000\n",
            "2/2 [==============================] - 0s 7ms/step\n"
          ]
        },
        {
          "name": "stderr",
          "output_type": "stream",
          "text": [
            "WARNING:tensorflow:Compiled the loaded model, but the compiled metrics have yet to be built. `model.compile_metrics` will be empty until you train or evaluate the model.\n"
          ]
        },
        {
          "name": "stdout",
          "output_type": "stream",
          "text": [
            ">Epoch: 5,Batch: 348/468, disc_real_loss=0.298, disc_fake_loss=0.278 gan_loss=0.000\n",
            "2/2 [==============================] - 0s 12ms/step\n"
          ]
        },
        {
          "name": "stderr",
          "output_type": "stream",
          "text": [
            "WARNING:tensorflow:Compiled the loaded model, but the compiled metrics have yet to be built. `model.compile_metrics` will be empty until you train or evaluate the model.\n"
          ]
        },
        {
          "name": "stdout",
          "output_type": "stream",
          "text": [
            ">Epoch: 5,Batch: 349/468, disc_real_loss=0.334, disc_fake_loss=0.339 gan_loss=0.000\n",
            "2/2 [==============================] - 0s 5ms/step\n"
          ]
        },
        {
          "name": "stderr",
          "output_type": "stream",
          "text": [
            "WARNING:tensorflow:Compiled the loaded model, but the compiled metrics have yet to be built. `model.compile_metrics` will be empty until you train or evaluate the model.\n"
          ]
        },
        {
          "name": "stdout",
          "output_type": "stream",
          "text": [
            ">Epoch: 5,Batch: 350/468, disc_real_loss=0.318, disc_fake_loss=0.311 gan_loss=0.000\n",
            "2/2 [==============================] - 0s 5ms/step\n"
          ]
        },
        {
          "name": "stderr",
          "output_type": "stream",
          "text": [
            "WARNING:tensorflow:Compiled the loaded model, but the compiled metrics have yet to be built. `model.compile_metrics` will be empty until you train or evaluate the model.\n"
          ]
        },
        {
          "name": "stdout",
          "output_type": "stream",
          "text": [
            ">Epoch: 5,Batch: 351/468, disc_real_loss=0.247, disc_fake_loss=0.352 gan_loss=0.000\n",
            "2/2 [==============================] - 0s 6ms/step\n"
          ]
        },
        {
          "name": "stderr",
          "output_type": "stream",
          "text": [
            "WARNING:tensorflow:Compiled the loaded model, but the compiled metrics have yet to be built. `model.compile_metrics` will be empty until you train or evaluate the model.\n"
          ]
        },
        {
          "name": "stdout",
          "output_type": "stream",
          "text": [
            ">Epoch: 5,Batch: 352/468, disc_real_loss=0.350, disc_fake_loss=0.256 gan_loss=0.000\n",
            "2/2 [==============================] - 0s 13ms/step\n"
          ]
        },
        {
          "name": "stderr",
          "output_type": "stream",
          "text": [
            "WARNING:tensorflow:Compiled the loaded model, but the compiled metrics have yet to be built. `model.compile_metrics` will be empty until you train or evaluate the model.\n"
          ]
        },
        {
          "name": "stdout",
          "output_type": "stream",
          "text": [
            ">Epoch: 5,Batch: 353/468, disc_real_loss=0.278, disc_fake_loss=0.244 gan_loss=0.000\n",
            "2/2 [==============================] - 0s 9ms/step\n"
          ]
        },
        {
          "name": "stderr",
          "output_type": "stream",
          "text": [
            "WARNING:tensorflow:Compiled the loaded model, but the compiled metrics have yet to be built. `model.compile_metrics` will be empty until you train or evaluate the model.\n"
          ]
        },
        {
          "name": "stdout",
          "output_type": "stream",
          "text": [
            ">Epoch: 5,Batch: 354/468, disc_real_loss=0.329, disc_fake_loss=0.351 gan_loss=0.000\n",
            "2/2 [==============================] - 0s 6ms/step\n"
          ]
        },
        {
          "name": "stderr",
          "output_type": "stream",
          "text": [
            "WARNING:tensorflow:Compiled the loaded model, but the compiled metrics have yet to be built. `model.compile_metrics` will be empty until you train or evaluate the model.\n"
          ]
        },
        {
          "name": "stdout",
          "output_type": "stream",
          "text": [
            ">Epoch: 5,Batch: 355/468, disc_real_loss=0.265, disc_fake_loss=0.296 gan_loss=0.000\n",
            "2/2 [==============================] - 0s 5ms/step\n"
          ]
        },
        {
          "name": "stderr",
          "output_type": "stream",
          "text": [
            "WARNING:tensorflow:Compiled the loaded model, but the compiled metrics have yet to be built. `model.compile_metrics` will be empty until you train or evaluate the model.\n"
          ]
        },
        {
          "name": "stdout",
          "output_type": "stream",
          "text": [
            ">Epoch: 5,Batch: 356/468, disc_real_loss=0.336, disc_fake_loss=0.407 gan_loss=0.000\n",
            "2/2 [==============================] - 0s 5ms/step\n"
          ]
        },
        {
          "name": "stderr",
          "output_type": "stream",
          "text": [
            "WARNING:tensorflow:Compiled the loaded model, but the compiled metrics have yet to be built. `model.compile_metrics` will be empty until you train or evaluate the model.\n"
          ]
        },
        {
          "name": "stdout",
          "output_type": "stream",
          "text": [
            ">Epoch: 5,Batch: 357/468, disc_real_loss=0.273, disc_fake_loss=0.292 gan_loss=0.000\n",
            "2/2 [==============================] - 0s 10ms/step\n"
          ]
        },
        {
          "name": "stderr",
          "output_type": "stream",
          "text": [
            "WARNING:tensorflow:Compiled the loaded model, but the compiled metrics have yet to be built. `model.compile_metrics` will be empty until you train or evaluate the model.\n"
          ]
        },
        {
          "name": "stdout",
          "output_type": "stream",
          "text": [
            ">Epoch: 5,Batch: 358/468, disc_real_loss=0.348, disc_fake_loss=0.290 gan_loss=0.000\n",
            "2/2 [==============================] - 0s 8ms/step\n"
          ]
        },
        {
          "name": "stderr",
          "output_type": "stream",
          "text": [
            "WARNING:tensorflow:Compiled the loaded model, but the compiled metrics have yet to be built. `model.compile_metrics` will be empty until you train or evaluate the model.\n"
          ]
        },
        {
          "name": "stdout",
          "output_type": "stream",
          "text": [
            ">Epoch: 5,Batch: 359/468, disc_real_loss=0.454, disc_fake_loss=0.419 gan_loss=0.000\n",
            "2/2 [==============================] - 0s 14ms/step\n"
          ]
        },
        {
          "name": "stderr",
          "output_type": "stream",
          "text": [
            "WARNING:tensorflow:Compiled the loaded model, but the compiled metrics have yet to be built. `model.compile_metrics` will be empty until you train or evaluate the model.\n"
          ]
        },
        {
          "name": "stdout",
          "output_type": "stream",
          "text": [
            ">Epoch: 5,Batch: 360/468, disc_real_loss=0.308, disc_fake_loss=0.383 gan_loss=0.000\n",
            "2/2 [==============================] - 0s 6ms/step\n"
          ]
        },
        {
          "name": "stderr",
          "output_type": "stream",
          "text": [
            "WARNING:tensorflow:Compiled the loaded model, but the compiled metrics have yet to be built. `model.compile_metrics` will be empty until you train or evaluate the model.\n"
          ]
        },
        {
          "name": "stdout",
          "output_type": "stream",
          "text": [
            ">Epoch: 5,Batch: 361/468, disc_real_loss=0.314, disc_fake_loss=0.249 gan_loss=0.000\n",
            "2/2 [==============================] - 0s 8ms/step\n"
          ]
        },
        {
          "name": "stderr",
          "output_type": "stream",
          "text": [
            "WARNING:tensorflow:Compiled the loaded model, but the compiled metrics have yet to be built. `model.compile_metrics` will be empty until you train or evaluate the model.\n"
          ]
        },
        {
          "name": "stdout",
          "output_type": "stream",
          "text": [
            ">Epoch: 5,Batch: 362/468, disc_real_loss=0.241, disc_fake_loss=0.360 gan_loss=0.000\n",
            "2/2 [==============================] - 0s 6ms/step\n"
          ]
        },
        {
          "name": "stderr",
          "output_type": "stream",
          "text": [
            "WARNING:tensorflow:Compiled the loaded model, but the compiled metrics have yet to be built. `model.compile_metrics` will be empty until you train or evaluate the model.\n"
          ]
        },
        {
          "name": "stdout",
          "output_type": "stream",
          "text": [
            ">Epoch: 5,Batch: 363/468, disc_real_loss=0.303, disc_fake_loss=0.382 gan_loss=0.000\n",
            "2/2 [==============================] - 0s 8ms/step\n"
          ]
        },
        {
          "name": "stderr",
          "output_type": "stream",
          "text": [
            "WARNING:tensorflow:Compiled the loaded model, but the compiled metrics have yet to be built. `model.compile_metrics` will be empty until you train or evaluate the model.\n"
          ]
        },
        {
          "name": "stdout",
          "output_type": "stream",
          "text": [
            ">Epoch: 5,Batch: 364/468, disc_real_loss=0.270, disc_fake_loss=0.290 gan_loss=0.000\n",
            "2/2 [==============================] - 0s 6ms/step\n"
          ]
        },
        {
          "name": "stderr",
          "output_type": "stream",
          "text": [
            "WARNING:tensorflow:Compiled the loaded model, but the compiled metrics have yet to be built. `model.compile_metrics` will be empty until you train or evaluate the model.\n"
          ]
        },
        {
          "name": "stdout",
          "output_type": "stream",
          "text": [
            ">Epoch: 5,Batch: 365/468, disc_real_loss=0.464, disc_fake_loss=0.335 gan_loss=0.000\n",
            "2/2 [==============================] - 0s 11ms/step\n"
          ]
        },
        {
          "name": "stderr",
          "output_type": "stream",
          "text": [
            "WARNING:tensorflow:Compiled the loaded model, but the compiled metrics have yet to be built. `model.compile_metrics` will be empty until you train or evaluate the model.\n"
          ]
        },
        {
          "name": "stdout",
          "output_type": "stream",
          "text": [
            ">Epoch: 5,Batch: 366/468, disc_real_loss=0.431, disc_fake_loss=0.277 gan_loss=0.000\n",
            "2/2 [==============================] - 0s 11ms/step\n"
          ]
        },
        {
          "name": "stderr",
          "output_type": "stream",
          "text": [
            "WARNING:tensorflow:Compiled the loaded model, but the compiled metrics have yet to be built. `model.compile_metrics` will be empty until you train or evaluate the model.\n"
          ]
        },
        {
          "name": "stdout",
          "output_type": "stream",
          "text": [
            ">Epoch: 5,Batch: 367/468, disc_real_loss=0.235, disc_fake_loss=0.340 gan_loss=0.000\n",
            "2/2 [==============================] - 0s 10ms/step\n"
          ]
        },
        {
          "name": "stderr",
          "output_type": "stream",
          "text": [
            "WARNING:tensorflow:Compiled the loaded model, but the compiled metrics have yet to be built. `model.compile_metrics` will be empty until you train or evaluate the model.\n"
          ]
        },
        {
          "name": "stdout",
          "output_type": "stream",
          "text": [
            ">Epoch: 5,Batch: 368/468, disc_real_loss=0.201, disc_fake_loss=0.259 gan_loss=0.000\n",
            "2/2 [==============================] - 0s 6ms/step\n"
          ]
        },
        {
          "name": "stderr",
          "output_type": "stream",
          "text": [
            "WARNING:tensorflow:Compiled the loaded model, but the compiled metrics have yet to be built. `model.compile_metrics` will be empty until you train or evaluate the model.\n"
          ]
        },
        {
          "name": "stdout",
          "output_type": "stream",
          "text": [
            ">Epoch: 5,Batch: 369/468, disc_real_loss=0.271, disc_fake_loss=0.321 gan_loss=0.000\n",
            "2/2 [==============================] - 0s 10ms/step\n"
          ]
        },
        {
          "name": "stderr",
          "output_type": "stream",
          "text": [
            "WARNING:tensorflow:Compiled the loaded model, but the compiled metrics have yet to be built. `model.compile_metrics` will be empty until you train or evaluate the model.\n"
          ]
        },
        {
          "name": "stdout",
          "output_type": "stream",
          "text": [
            ">Epoch: 5,Batch: 370/468, disc_real_loss=0.307, disc_fake_loss=0.349 gan_loss=0.000\n",
            "2/2 [==============================] - 0s 11ms/step\n"
          ]
        },
        {
          "name": "stderr",
          "output_type": "stream",
          "text": [
            "WARNING:tensorflow:Compiled the loaded model, but the compiled metrics have yet to be built. `model.compile_metrics` will be empty until you train or evaluate the model.\n"
          ]
        },
        {
          "name": "stdout",
          "output_type": "stream",
          "text": [
            ">Epoch: 5,Batch: 371/468, disc_real_loss=0.340, disc_fake_loss=0.203 gan_loss=0.000\n",
            "2/2 [==============================] - 0s 7ms/step\n"
          ]
        },
        {
          "name": "stderr",
          "output_type": "stream",
          "text": [
            "WARNING:tensorflow:Compiled the loaded model, but the compiled metrics have yet to be built. `model.compile_metrics` will be empty until you train or evaluate the model.\n"
          ]
        },
        {
          "name": "stdout",
          "output_type": "stream",
          "text": [
            ">Epoch: 5,Batch: 372/468, disc_real_loss=0.471, disc_fake_loss=0.450 gan_loss=0.000\n",
            "2/2 [==============================] - 0s 12ms/step\n"
          ]
        },
        {
          "name": "stderr",
          "output_type": "stream",
          "text": [
            "WARNING:tensorflow:Compiled the loaded model, but the compiled metrics have yet to be built. `model.compile_metrics` will be empty until you train or evaluate the model.\n"
          ]
        },
        {
          "name": "stdout",
          "output_type": "stream",
          "text": [
            ">Epoch: 5,Batch: 373/468, disc_real_loss=0.320, disc_fake_loss=0.411 gan_loss=0.000\n",
            "2/2 [==============================] - 0s 8ms/step\n"
          ]
        },
        {
          "name": "stderr",
          "output_type": "stream",
          "text": [
            "WARNING:tensorflow:Compiled the loaded model, but the compiled metrics have yet to be built. `model.compile_metrics` will be empty until you train or evaluate the model.\n"
          ]
        },
        {
          "name": "stdout",
          "output_type": "stream",
          "text": [
            ">Epoch: 5,Batch: 374/468, disc_real_loss=0.308, disc_fake_loss=0.294 gan_loss=0.000\n",
            "2/2 [==============================] - 0s 5ms/step\n"
          ]
        },
        {
          "name": "stderr",
          "output_type": "stream",
          "text": [
            "WARNING:tensorflow:Compiled the loaded model, but the compiled metrics have yet to be built. `model.compile_metrics` will be empty until you train or evaluate the model.\n"
          ]
        },
        {
          "name": "stdout",
          "output_type": "stream",
          "text": [
            ">Epoch: 5,Batch: 375/468, disc_real_loss=0.311, disc_fake_loss=0.324 gan_loss=0.000\n",
            "2/2 [==============================] - 0s 11ms/step\n"
          ]
        },
        {
          "name": "stderr",
          "output_type": "stream",
          "text": [
            "WARNING:tensorflow:Compiled the loaded model, but the compiled metrics have yet to be built. `model.compile_metrics` will be empty until you train or evaluate the model.\n"
          ]
        },
        {
          "name": "stdout",
          "output_type": "stream",
          "text": [
            ">Epoch: 5,Batch: 376/468, disc_real_loss=0.287, disc_fake_loss=0.276 gan_loss=0.000\n",
            "2/2 [==============================] - 0s 7ms/step\n"
          ]
        },
        {
          "name": "stderr",
          "output_type": "stream",
          "text": [
            "WARNING:tensorflow:Compiled the loaded model, but the compiled metrics have yet to be built. `model.compile_metrics` will be empty until you train or evaluate the model.\n"
          ]
        },
        {
          "name": "stdout",
          "output_type": "stream",
          "text": [
            ">Epoch: 5,Batch: 377/468, disc_real_loss=0.335, disc_fake_loss=0.238 gan_loss=0.000\n",
            "2/2 [==============================] - 0s 8ms/step\n"
          ]
        },
        {
          "name": "stderr",
          "output_type": "stream",
          "text": [
            "WARNING:tensorflow:Compiled the loaded model, but the compiled metrics have yet to be built. `model.compile_metrics` will be empty until you train or evaluate the model.\n"
          ]
        },
        {
          "name": "stdout",
          "output_type": "stream",
          "text": [
            ">Epoch: 5,Batch: 378/468, disc_real_loss=0.339, disc_fake_loss=0.331 gan_loss=0.000\n",
            "2/2 [==============================] - 0s 10ms/step\n"
          ]
        },
        {
          "name": "stderr",
          "output_type": "stream",
          "text": [
            "WARNING:tensorflow:Compiled the loaded model, but the compiled metrics have yet to be built. `model.compile_metrics` will be empty until you train or evaluate the model.\n"
          ]
        },
        {
          "name": "stdout",
          "output_type": "stream",
          "text": [
            ">Epoch: 5,Batch: 379/468, disc_real_loss=0.372, disc_fake_loss=0.380 gan_loss=0.000\n",
            "2/2 [==============================] - 0s 9ms/step\n"
          ]
        },
        {
          "name": "stderr",
          "output_type": "stream",
          "text": [
            "WARNING:tensorflow:Compiled the loaded model, but the compiled metrics have yet to be built. `model.compile_metrics` will be empty until you train or evaluate the model.\n"
          ]
        },
        {
          "name": "stdout",
          "output_type": "stream",
          "text": [
            ">Epoch: 5,Batch: 380/468, disc_real_loss=0.283, disc_fake_loss=0.379 gan_loss=0.000\n",
            "2/2 [==============================] - 0s 10ms/step\n"
          ]
        },
        {
          "name": "stderr",
          "output_type": "stream",
          "text": [
            "WARNING:tensorflow:Compiled the loaded model, but the compiled metrics have yet to be built. `model.compile_metrics` will be empty until you train or evaluate the model.\n"
          ]
        },
        {
          "name": "stdout",
          "output_type": "stream",
          "text": [
            ">Epoch: 5,Batch: 381/468, disc_real_loss=0.249, disc_fake_loss=0.244 gan_loss=0.000\n",
            "2/2 [==============================] - 0s 5ms/step\n"
          ]
        },
        {
          "name": "stderr",
          "output_type": "stream",
          "text": [
            "WARNING:tensorflow:Compiled the loaded model, but the compiled metrics have yet to be built. `model.compile_metrics` will be empty until you train or evaluate the model.\n"
          ]
        },
        {
          "name": "stdout",
          "output_type": "stream",
          "text": [
            ">Epoch: 5,Batch: 382/468, disc_real_loss=0.362, disc_fake_loss=0.323 gan_loss=0.000\n",
            "2/2 [==============================] - 0s 6ms/step\n"
          ]
        },
        {
          "name": "stderr",
          "output_type": "stream",
          "text": [
            "WARNING:tensorflow:Compiled the loaded model, but the compiled metrics have yet to be built. `model.compile_metrics` will be empty until you train or evaluate the model.\n"
          ]
        },
        {
          "name": "stdout",
          "output_type": "stream",
          "text": [
            ">Epoch: 5,Batch: 383/468, disc_real_loss=0.366, disc_fake_loss=0.286 gan_loss=0.000\n",
            "2/2 [==============================] - 0s 9ms/step\n"
          ]
        },
        {
          "name": "stderr",
          "output_type": "stream",
          "text": [
            "WARNING:tensorflow:Compiled the loaded model, but the compiled metrics have yet to be built. `model.compile_metrics` will be empty until you train or evaluate the model.\n"
          ]
        },
        {
          "name": "stdout",
          "output_type": "stream",
          "text": [
            ">Epoch: 5,Batch: 384/468, disc_real_loss=0.269, disc_fake_loss=0.329 gan_loss=0.000\n",
            "2/2 [==============================] - 0s 12ms/step\n"
          ]
        },
        {
          "name": "stderr",
          "output_type": "stream",
          "text": [
            "WARNING:tensorflow:Compiled the loaded model, but the compiled metrics have yet to be built. `model.compile_metrics` will be empty until you train or evaluate the model.\n"
          ]
        },
        {
          "name": "stdout",
          "output_type": "stream",
          "text": [
            ">Epoch: 5,Batch: 385/468, disc_real_loss=0.287, disc_fake_loss=0.286 gan_loss=0.000\n",
            "2/2 [==============================] - 0s 11ms/step\n"
          ]
        },
        {
          "name": "stderr",
          "output_type": "stream",
          "text": [
            "WARNING:tensorflow:Compiled the loaded model, but the compiled metrics have yet to be built. `model.compile_metrics` will be empty until you train or evaluate the model.\n"
          ]
        },
        {
          "name": "stdout",
          "output_type": "stream",
          "text": [
            ">Epoch: 5,Batch: 386/468, disc_real_loss=0.258, disc_fake_loss=0.321 gan_loss=0.000\n",
            "2/2 [==============================] - 0s 13ms/step\n"
          ]
        },
        {
          "name": "stderr",
          "output_type": "stream",
          "text": [
            "WARNING:tensorflow:Compiled the loaded model, but the compiled metrics have yet to be built. `model.compile_metrics` will be empty until you train or evaluate the model.\n"
          ]
        },
        {
          "name": "stdout",
          "output_type": "stream",
          "text": [
            ">Epoch: 5,Batch: 387/468, disc_real_loss=0.346, disc_fake_loss=0.341 gan_loss=0.000\n",
            "2/2 [==============================] - 0s 5ms/step\n"
          ]
        },
        {
          "name": "stderr",
          "output_type": "stream",
          "text": [
            "WARNING:tensorflow:Compiled the loaded model, but the compiled metrics have yet to be built. `model.compile_metrics` will be empty until you train or evaluate the model.\n"
          ]
        },
        {
          "name": "stdout",
          "output_type": "stream",
          "text": [
            ">Epoch: 5,Batch: 388/468, disc_real_loss=0.242, disc_fake_loss=0.362 gan_loss=0.000\n",
            "2/2 [==============================] - 0s 11ms/step\n"
          ]
        },
        {
          "name": "stderr",
          "output_type": "stream",
          "text": [
            "WARNING:tensorflow:Compiled the loaded model, but the compiled metrics have yet to be built. `model.compile_metrics` will be empty until you train or evaluate the model.\n"
          ]
        },
        {
          "name": "stdout",
          "output_type": "stream",
          "text": [
            ">Epoch: 5,Batch: 389/468, disc_real_loss=0.365, disc_fake_loss=0.243 gan_loss=0.000\n",
            "2/2 [==============================] - 0s 8ms/step\n"
          ]
        },
        {
          "name": "stderr",
          "output_type": "stream",
          "text": [
            "WARNING:tensorflow:Compiled the loaded model, but the compiled metrics have yet to be built. `model.compile_metrics` will be empty until you train or evaluate the model.\n"
          ]
        },
        {
          "name": "stdout",
          "output_type": "stream",
          "text": [
            ">Epoch: 5,Batch: 390/468, disc_real_loss=0.315, disc_fake_loss=0.258 gan_loss=0.000\n",
            "2/2 [==============================] - 0s 6ms/step\n"
          ]
        },
        {
          "name": "stderr",
          "output_type": "stream",
          "text": [
            "WARNING:tensorflow:Compiled the loaded model, but the compiled metrics have yet to be built. `model.compile_metrics` will be empty until you train or evaluate the model.\n"
          ]
        },
        {
          "name": "stdout",
          "output_type": "stream",
          "text": [
            ">Epoch: 5,Batch: 391/468, disc_real_loss=0.312, disc_fake_loss=0.358 gan_loss=0.000\n",
            "2/2 [==============================] - 0s 11ms/step\n"
          ]
        },
        {
          "name": "stderr",
          "output_type": "stream",
          "text": [
            "WARNING:tensorflow:Compiled the loaded model, but the compiled metrics have yet to be built. `model.compile_metrics` will be empty until you train or evaluate the model.\n"
          ]
        },
        {
          "name": "stdout",
          "output_type": "stream",
          "text": [
            ">Epoch: 5,Batch: 392/468, disc_real_loss=0.246, disc_fake_loss=0.316 gan_loss=0.000\n",
            "2/2 [==============================] - 0s 11ms/step\n"
          ]
        },
        {
          "name": "stderr",
          "output_type": "stream",
          "text": [
            "WARNING:tensorflow:Compiled the loaded model, but the compiled metrics have yet to be built. `model.compile_metrics` will be empty until you train or evaluate the model.\n"
          ]
        },
        {
          "name": "stdout",
          "output_type": "stream",
          "text": [
            ">Epoch: 5,Batch: 393/468, disc_real_loss=0.228, disc_fake_loss=0.290 gan_loss=0.000\n",
            "2/2 [==============================] - 0s 6ms/step\n"
          ]
        },
        {
          "name": "stderr",
          "output_type": "stream",
          "text": [
            "WARNING:tensorflow:Compiled the loaded model, but the compiled metrics have yet to be built. `model.compile_metrics` will be empty until you train or evaluate the model.\n"
          ]
        },
        {
          "name": "stdout",
          "output_type": "stream",
          "text": [
            ">Epoch: 5,Batch: 394/468, disc_real_loss=0.316, disc_fake_loss=0.319 gan_loss=0.000\n",
            "2/2 [==============================] - 0s 13ms/step\n"
          ]
        },
        {
          "name": "stderr",
          "output_type": "stream",
          "text": [
            "WARNING:tensorflow:Compiled the loaded model, but the compiled metrics have yet to be built. `model.compile_metrics` will be empty until you train or evaluate the model.\n"
          ]
        },
        {
          "name": "stdout",
          "output_type": "stream",
          "text": [
            ">Epoch: 5,Batch: 395/468, disc_real_loss=0.262, disc_fake_loss=0.204 gan_loss=0.000\n",
            "2/2 [==============================] - 0s 8ms/step\n"
          ]
        },
        {
          "name": "stderr",
          "output_type": "stream",
          "text": [
            "WARNING:tensorflow:Compiled the loaded model, but the compiled metrics have yet to be built. `model.compile_metrics` will be empty until you train or evaluate the model.\n"
          ]
        },
        {
          "name": "stdout",
          "output_type": "stream",
          "text": [
            ">Epoch: 5,Batch: 396/468, disc_real_loss=0.295, disc_fake_loss=0.366 gan_loss=0.000\n",
            "2/2 [==============================] - 0s 9ms/step\n"
          ]
        },
        {
          "name": "stderr",
          "output_type": "stream",
          "text": [
            "WARNING:tensorflow:Compiled the loaded model, but the compiled metrics have yet to be built. `model.compile_metrics` will be empty until you train or evaluate the model.\n"
          ]
        },
        {
          "name": "stdout",
          "output_type": "stream",
          "text": [
            ">Epoch: 5,Batch: 397/468, disc_real_loss=0.298, disc_fake_loss=0.305 gan_loss=0.000\n",
            "2/2 [==============================] - 0s 7ms/step\n"
          ]
        },
        {
          "name": "stderr",
          "output_type": "stream",
          "text": [
            "WARNING:tensorflow:Compiled the loaded model, but the compiled metrics have yet to be built. `model.compile_metrics` will be empty until you train or evaluate the model.\n"
          ]
        },
        {
          "name": "stdout",
          "output_type": "stream",
          "text": [
            ">Epoch: 5,Batch: 398/468, disc_real_loss=0.273, disc_fake_loss=0.394 gan_loss=0.000\n",
            "2/2 [==============================] - 0s 6ms/step\n"
          ]
        },
        {
          "name": "stderr",
          "output_type": "stream",
          "text": [
            "WARNING:tensorflow:Compiled the loaded model, but the compiled metrics have yet to be built. `model.compile_metrics` will be empty until you train or evaluate the model.\n"
          ]
        },
        {
          "name": "stdout",
          "output_type": "stream",
          "text": [
            ">Epoch: 5,Batch: 399/468, disc_real_loss=0.368, disc_fake_loss=0.270 gan_loss=0.000\n",
            "2/2 [==============================] - 0s 13ms/step\n"
          ]
        },
        {
          "name": "stderr",
          "output_type": "stream",
          "text": [
            "WARNING:tensorflow:Compiled the loaded model, but the compiled metrics have yet to be built. `model.compile_metrics` will be empty until you train or evaluate the model.\n"
          ]
        },
        {
          "name": "stdout",
          "output_type": "stream",
          "text": [
            ">Epoch: 5,Batch: 400/468, disc_real_loss=0.256, disc_fake_loss=0.337 gan_loss=0.000\n",
            "2/2 [==============================] - 0s 5ms/step\n"
          ]
        },
        {
          "name": "stderr",
          "output_type": "stream",
          "text": [
            "WARNING:tensorflow:Compiled the loaded model, but the compiled metrics have yet to be built. `model.compile_metrics` will be empty until you train or evaluate the model.\n"
          ]
        },
        {
          "name": "stdout",
          "output_type": "stream",
          "text": [
            ">Epoch: 5,Batch: 401/468, disc_real_loss=0.316, disc_fake_loss=0.327 gan_loss=0.000\n",
            "2/2 [==============================] - 0s 6ms/step\n"
          ]
        },
        {
          "name": "stderr",
          "output_type": "stream",
          "text": [
            "WARNING:tensorflow:Compiled the loaded model, but the compiled metrics have yet to be built. `model.compile_metrics` will be empty until you train or evaluate the model.\n"
          ]
        },
        {
          "name": "stdout",
          "output_type": "stream",
          "text": [
            ">Epoch: 5,Batch: 402/468, disc_real_loss=0.379, disc_fake_loss=0.245 gan_loss=0.000\n",
            "2/2 [==============================] - 0s 6ms/step\n"
          ]
        },
        {
          "name": "stderr",
          "output_type": "stream",
          "text": [
            "WARNING:tensorflow:Compiled the loaded model, but the compiled metrics have yet to be built. `model.compile_metrics` will be empty until you train or evaluate the model.\n"
          ]
        },
        {
          "name": "stdout",
          "output_type": "stream",
          "text": [
            ">Epoch: 5,Batch: 403/468, disc_real_loss=0.293, disc_fake_loss=0.325 gan_loss=0.000\n",
            "2/2 [==============================] - 0s 11ms/step\n"
          ]
        },
        {
          "name": "stderr",
          "output_type": "stream",
          "text": [
            "WARNING:tensorflow:Compiled the loaded model, but the compiled metrics have yet to be built. `model.compile_metrics` will be empty until you train or evaluate the model.\n"
          ]
        },
        {
          "name": "stdout",
          "output_type": "stream",
          "text": [
            ">Epoch: 5,Batch: 404/468, disc_real_loss=0.269, disc_fake_loss=0.302 gan_loss=0.000\n",
            "2/2 [==============================] - 0s 12ms/step\n"
          ]
        },
        {
          "name": "stderr",
          "output_type": "stream",
          "text": [
            "WARNING:tensorflow:Compiled the loaded model, but the compiled metrics have yet to be built. `model.compile_metrics` will be empty until you train or evaluate the model.\n"
          ]
        },
        {
          "name": "stdout",
          "output_type": "stream",
          "text": [
            ">Epoch: 5,Batch: 405/468, disc_real_loss=0.307, disc_fake_loss=0.287 gan_loss=0.000\n",
            "2/2 [==============================] - 0s 10ms/step\n"
          ]
        },
        {
          "name": "stderr",
          "output_type": "stream",
          "text": [
            "WARNING:tensorflow:Compiled the loaded model, but the compiled metrics have yet to be built. `model.compile_metrics` will be empty until you train or evaluate the model.\n"
          ]
        },
        {
          "name": "stdout",
          "output_type": "stream",
          "text": [
            ">Epoch: 5,Batch: 406/468, disc_real_loss=0.291, disc_fake_loss=0.344 gan_loss=0.000\n",
            "2/2 [==============================] - 0s 10ms/step\n"
          ]
        },
        {
          "name": "stderr",
          "output_type": "stream",
          "text": [
            "WARNING:tensorflow:Compiled the loaded model, but the compiled metrics have yet to be built. `model.compile_metrics` will be empty until you train or evaluate the model.\n"
          ]
        },
        {
          "name": "stdout",
          "output_type": "stream",
          "text": [
            ">Epoch: 5,Batch: 407/468, disc_real_loss=0.331, disc_fake_loss=0.348 gan_loss=0.000\n",
            "2/2 [==============================] - 0s 6ms/step\n"
          ]
        },
        {
          "name": "stderr",
          "output_type": "stream",
          "text": [
            "WARNING:tensorflow:Compiled the loaded model, but the compiled metrics have yet to be built. `model.compile_metrics` will be empty until you train or evaluate the model.\n"
          ]
        },
        {
          "name": "stdout",
          "output_type": "stream",
          "text": [
            ">Epoch: 5,Batch: 408/468, disc_real_loss=0.325, disc_fake_loss=0.241 gan_loss=0.000\n",
            "2/2 [==============================] - 0s 11ms/step\n"
          ]
        },
        {
          "name": "stderr",
          "output_type": "stream",
          "text": [
            "WARNING:tensorflow:Compiled the loaded model, but the compiled metrics have yet to be built. `model.compile_metrics` will be empty until you train or evaluate the model.\n"
          ]
        },
        {
          "name": "stdout",
          "output_type": "stream",
          "text": [
            ">Epoch: 5,Batch: 409/468, disc_real_loss=0.282, disc_fake_loss=0.360 gan_loss=0.000\n",
            "2/2 [==============================] - 0s 7ms/step\n"
          ]
        },
        {
          "name": "stderr",
          "output_type": "stream",
          "text": [
            "WARNING:tensorflow:Compiled the loaded model, but the compiled metrics have yet to be built. `model.compile_metrics` will be empty until you train or evaluate the model.\n"
          ]
        },
        {
          "name": "stdout",
          "output_type": "stream",
          "text": [
            ">Epoch: 5,Batch: 410/468, disc_real_loss=0.200, disc_fake_loss=0.239 gan_loss=0.000\n",
            "2/2 [==============================] - 0s 12ms/step\n"
          ]
        },
        {
          "name": "stderr",
          "output_type": "stream",
          "text": [
            "WARNING:tensorflow:Compiled the loaded model, but the compiled metrics have yet to be built. `model.compile_metrics` will be empty until you train or evaluate the model.\n"
          ]
        },
        {
          "name": "stdout",
          "output_type": "stream",
          "text": [
            ">Epoch: 5,Batch: 411/468, disc_real_loss=0.262, disc_fake_loss=0.333 gan_loss=0.000\n",
            "2/2 [==============================] - 0s 7ms/step\n"
          ]
        },
        {
          "name": "stderr",
          "output_type": "stream",
          "text": [
            "WARNING:tensorflow:Compiled the loaded model, but the compiled metrics have yet to be built. `model.compile_metrics` will be empty until you train or evaluate the model.\n"
          ]
        },
        {
          "name": "stdout",
          "output_type": "stream",
          "text": [
            ">Epoch: 5,Batch: 412/468, disc_real_loss=0.385, disc_fake_loss=0.264 gan_loss=0.000\n",
            "2/2 [==============================] - 0s 12ms/step\n"
          ]
        },
        {
          "name": "stderr",
          "output_type": "stream",
          "text": [
            "WARNING:tensorflow:Compiled the loaded model, but the compiled metrics have yet to be built. `model.compile_metrics` will be empty until you train or evaluate the model.\n"
          ]
        },
        {
          "name": "stdout",
          "output_type": "stream",
          "text": [
            ">Epoch: 5,Batch: 413/468, disc_real_loss=0.399, disc_fake_loss=0.358 gan_loss=0.000\n",
            "2/2 [==============================] - 0s 12ms/step\n"
          ]
        },
        {
          "name": "stderr",
          "output_type": "stream",
          "text": [
            "WARNING:tensorflow:Compiled the loaded model, but the compiled metrics have yet to be built. `model.compile_metrics` will be empty until you train or evaluate the model.\n"
          ]
        },
        {
          "name": "stdout",
          "output_type": "stream",
          "text": [
            ">Epoch: 5,Batch: 414/468, disc_real_loss=0.301, disc_fake_loss=0.380 gan_loss=0.000\n",
            "2/2 [==============================] - 0s 11ms/step\n"
          ]
        },
        {
          "name": "stderr",
          "output_type": "stream",
          "text": [
            "WARNING:tensorflow:Compiled the loaded model, but the compiled metrics have yet to be built. `model.compile_metrics` will be empty until you train or evaluate the model.\n"
          ]
        },
        {
          "name": "stdout",
          "output_type": "stream",
          "text": [
            ">Epoch: 5,Batch: 415/468, disc_real_loss=0.289, disc_fake_loss=0.301 gan_loss=0.000\n",
            "2/2 [==============================] - 0s 5ms/step\n"
          ]
        },
        {
          "name": "stderr",
          "output_type": "stream",
          "text": [
            "WARNING:tensorflow:Compiled the loaded model, but the compiled metrics have yet to be built. `model.compile_metrics` will be empty until you train or evaluate the model.\n"
          ]
        },
        {
          "name": "stdout",
          "output_type": "stream",
          "text": [
            ">Epoch: 5,Batch: 416/468, disc_real_loss=0.399, disc_fake_loss=0.370 gan_loss=0.000\n",
            "2/2 [==============================] - 0s 11ms/step\n"
          ]
        },
        {
          "name": "stderr",
          "output_type": "stream",
          "text": [
            "WARNING:tensorflow:Compiled the loaded model, but the compiled metrics have yet to be built. `model.compile_metrics` will be empty until you train or evaluate the model.\n"
          ]
        },
        {
          "name": "stdout",
          "output_type": "stream",
          "text": [
            ">Epoch: 5,Batch: 417/468, disc_real_loss=0.258, disc_fake_loss=0.323 gan_loss=0.000\n",
            "2/2 [==============================] - 0s 10ms/step\n"
          ]
        },
        {
          "name": "stderr",
          "output_type": "stream",
          "text": [
            "WARNING:tensorflow:Compiled the loaded model, but the compiled metrics have yet to be built. `model.compile_metrics` will be empty until you train or evaluate the model.\n"
          ]
        },
        {
          "name": "stdout",
          "output_type": "stream",
          "text": [
            ">Epoch: 5,Batch: 418/468, disc_real_loss=0.329, disc_fake_loss=0.360 gan_loss=0.000\n",
            "2/2 [==============================] - 0s 6ms/step\n"
          ]
        },
        {
          "name": "stderr",
          "output_type": "stream",
          "text": [
            "WARNING:tensorflow:Compiled the loaded model, but the compiled metrics have yet to be built. `model.compile_metrics` will be empty until you train or evaluate the model.\n"
          ]
        },
        {
          "name": "stdout",
          "output_type": "stream",
          "text": [
            ">Epoch: 5,Batch: 419/468, disc_real_loss=0.287, disc_fake_loss=0.247 gan_loss=0.000\n",
            "2/2 [==============================] - 0s 12ms/step\n"
          ]
        },
        {
          "name": "stderr",
          "output_type": "stream",
          "text": [
            "WARNING:tensorflow:Compiled the loaded model, but the compiled metrics have yet to be built. `model.compile_metrics` will be empty until you train or evaluate the model.\n"
          ]
        },
        {
          "name": "stdout",
          "output_type": "stream",
          "text": [
            ">Epoch: 5,Batch: 420/468, disc_real_loss=0.350, disc_fake_loss=0.272 gan_loss=0.000\n",
            "2/2 [==============================] - 0s 11ms/step\n"
          ]
        },
        {
          "name": "stderr",
          "output_type": "stream",
          "text": [
            "WARNING:tensorflow:Compiled the loaded model, but the compiled metrics have yet to be built. `model.compile_metrics` will be empty until you train or evaluate the model.\n"
          ]
        },
        {
          "name": "stdout",
          "output_type": "stream",
          "text": [
            ">Epoch: 5,Batch: 421/468, disc_real_loss=0.298, disc_fake_loss=0.322 gan_loss=0.000\n",
            "2/2 [==============================] - 0s 8ms/step\n"
          ]
        },
        {
          "name": "stderr",
          "output_type": "stream",
          "text": [
            "WARNING:tensorflow:Compiled the loaded model, but the compiled metrics have yet to be built. `model.compile_metrics` will be empty until you train or evaluate the model.\n"
          ]
        },
        {
          "name": "stdout",
          "output_type": "stream",
          "text": [
            ">Epoch: 5,Batch: 422/468, disc_real_loss=0.211, disc_fake_loss=0.293 gan_loss=0.000\n",
            "2/2 [==============================] - 0s 7ms/step\n"
          ]
        },
        {
          "name": "stderr",
          "output_type": "stream",
          "text": [
            "WARNING:tensorflow:Compiled the loaded model, but the compiled metrics have yet to be built. `model.compile_metrics` will be empty until you train or evaluate the model.\n"
          ]
        },
        {
          "name": "stdout",
          "output_type": "stream",
          "text": [
            ">Epoch: 5,Batch: 423/468, disc_real_loss=0.355, disc_fake_loss=0.280 gan_loss=0.000\n",
            "2/2 [==============================] - 0s 12ms/step\n"
          ]
        },
        {
          "name": "stderr",
          "output_type": "stream",
          "text": [
            "WARNING:tensorflow:Compiled the loaded model, but the compiled metrics have yet to be built. `model.compile_metrics` will be empty until you train or evaluate the model.\n"
          ]
        },
        {
          "name": "stdout",
          "output_type": "stream",
          "text": [
            ">Epoch: 5,Batch: 424/468, disc_real_loss=0.254, disc_fake_loss=0.321 gan_loss=0.000\n",
            "2/2 [==============================] - 0s 6ms/step\n"
          ]
        },
        {
          "name": "stderr",
          "output_type": "stream",
          "text": [
            "WARNING:tensorflow:Compiled the loaded model, but the compiled metrics have yet to be built. `model.compile_metrics` will be empty until you train or evaluate the model.\n"
          ]
        },
        {
          "name": "stdout",
          "output_type": "stream",
          "text": [
            ">Epoch: 5,Batch: 425/468, disc_real_loss=0.256, disc_fake_loss=0.285 gan_loss=0.000\n",
            "2/2 [==============================] - 0s 8ms/step\n"
          ]
        },
        {
          "name": "stderr",
          "output_type": "stream",
          "text": [
            "WARNING:tensorflow:Compiled the loaded model, but the compiled metrics have yet to be built. `model.compile_metrics` will be empty until you train or evaluate the model.\n"
          ]
        },
        {
          "name": "stdout",
          "output_type": "stream",
          "text": [
            ">Epoch: 5,Batch: 426/468, disc_real_loss=0.328, disc_fake_loss=0.263 gan_loss=0.000\n",
            "2/2 [==============================] - 0s 9ms/step\n"
          ]
        },
        {
          "name": "stderr",
          "output_type": "stream",
          "text": [
            "WARNING:tensorflow:Compiled the loaded model, but the compiled metrics have yet to be built. `model.compile_metrics` will be empty until you train or evaluate the model.\n"
          ]
        },
        {
          "name": "stdout",
          "output_type": "stream",
          "text": [
            ">Epoch: 5,Batch: 427/468, disc_real_loss=0.247, disc_fake_loss=0.332 gan_loss=0.000\n",
            "2/2 [==============================] - 0s 11ms/step\n"
          ]
        },
        {
          "name": "stderr",
          "output_type": "stream",
          "text": [
            "WARNING:tensorflow:Compiled the loaded model, but the compiled metrics have yet to be built. `model.compile_metrics` will be empty until you train or evaluate the model.\n"
          ]
        },
        {
          "name": "stdout",
          "output_type": "stream",
          "text": [
            ">Epoch: 5,Batch: 428/468, disc_real_loss=0.330, disc_fake_loss=0.296 gan_loss=0.000\n",
            "2/2 [==============================] - 0s 13ms/step\n"
          ]
        },
        {
          "name": "stderr",
          "output_type": "stream",
          "text": [
            "WARNING:tensorflow:Compiled the loaded model, but the compiled metrics have yet to be built. `model.compile_metrics` will be empty until you train or evaluate the model.\n"
          ]
        },
        {
          "name": "stdout",
          "output_type": "stream",
          "text": [
            ">Epoch: 5,Batch: 429/468, disc_real_loss=0.305, disc_fake_loss=0.253 gan_loss=0.000\n",
            "2/2 [==============================] - 0s 6ms/step\n"
          ]
        },
        {
          "name": "stderr",
          "output_type": "stream",
          "text": [
            "WARNING:tensorflow:Compiled the loaded model, but the compiled metrics have yet to be built. `model.compile_metrics` will be empty until you train or evaluate the model.\n"
          ]
        },
        {
          "name": "stdout",
          "output_type": "stream",
          "text": [
            ">Epoch: 5,Batch: 430/468, disc_real_loss=0.280, disc_fake_loss=0.336 gan_loss=0.000\n",
            "2/2 [==============================] - 0s 13ms/step\n"
          ]
        },
        {
          "name": "stderr",
          "output_type": "stream",
          "text": [
            "WARNING:tensorflow:Compiled the loaded model, but the compiled metrics have yet to be built. `model.compile_metrics` will be empty until you train or evaluate the model.\n"
          ]
        },
        {
          "name": "stdout",
          "output_type": "stream",
          "text": [
            ">Epoch: 5,Batch: 431/468, disc_real_loss=0.281, disc_fake_loss=0.259 gan_loss=0.000\n",
            "2/2 [==============================] - 0s 6ms/step\n"
          ]
        },
        {
          "name": "stderr",
          "output_type": "stream",
          "text": [
            "WARNING:tensorflow:Compiled the loaded model, but the compiled metrics have yet to be built. `model.compile_metrics` will be empty until you train or evaluate the model.\n"
          ]
        },
        {
          "name": "stdout",
          "output_type": "stream",
          "text": [
            ">Epoch: 5,Batch: 432/468, disc_real_loss=0.323, disc_fake_loss=0.384 gan_loss=0.000\n",
            "2/2 [==============================] - 0s 9ms/step\n"
          ]
        },
        {
          "name": "stderr",
          "output_type": "stream",
          "text": [
            "WARNING:tensorflow:Compiled the loaded model, but the compiled metrics have yet to be built. `model.compile_metrics` will be empty until you train or evaluate the model.\n"
          ]
        },
        {
          "name": "stdout",
          "output_type": "stream",
          "text": [
            ">Epoch: 5,Batch: 433/468, disc_real_loss=0.317, disc_fake_loss=0.403 gan_loss=0.000\n",
            "2/2 [==============================] - 0s 14ms/step\n"
          ]
        },
        {
          "name": "stderr",
          "output_type": "stream",
          "text": [
            "WARNING:tensorflow:Compiled the loaded model, but the compiled metrics have yet to be built. `model.compile_metrics` will be empty until you train or evaluate the model.\n"
          ]
        },
        {
          "name": "stdout",
          "output_type": "stream",
          "text": [
            ">Epoch: 5,Batch: 434/468, disc_real_loss=0.353, disc_fake_loss=0.301 gan_loss=0.000\n",
            "2/2 [==============================] - 0s 5ms/step\n"
          ]
        },
        {
          "name": "stderr",
          "output_type": "stream",
          "text": [
            "WARNING:tensorflow:Compiled the loaded model, but the compiled metrics have yet to be built. `model.compile_metrics` will be empty until you train or evaluate the model.\n"
          ]
        },
        {
          "name": "stdout",
          "output_type": "stream",
          "text": [
            ">Epoch: 5,Batch: 435/468, disc_real_loss=0.252, disc_fake_loss=0.267 gan_loss=0.000\n",
            "2/2 [==============================] - 0s 5ms/step\n"
          ]
        },
        {
          "name": "stderr",
          "output_type": "stream",
          "text": [
            "WARNING:tensorflow:Compiled the loaded model, but the compiled metrics have yet to be built. `model.compile_metrics` will be empty until you train or evaluate the model.\n"
          ]
        },
        {
          "name": "stdout",
          "output_type": "stream",
          "text": [
            ">Epoch: 5,Batch: 436/468, disc_real_loss=0.385, disc_fake_loss=0.309 gan_loss=0.000\n",
            "2/2 [==============================] - 0s 8ms/step\n"
          ]
        },
        {
          "name": "stderr",
          "output_type": "stream",
          "text": [
            "WARNING:tensorflow:Compiled the loaded model, but the compiled metrics have yet to be built. `model.compile_metrics` will be empty until you train or evaluate the model.\n"
          ]
        },
        {
          "name": "stdout",
          "output_type": "stream",
          "text": [
            ">Epoch: 5,Batch: 437/468, disc_real_loss=0.334, disc_fake_loss=0.234 gan_loss=0.000\n",
            "2/2 [==============================] - 0s 7ms/step\n"
          ]
        },
        {
          "name": "stderr",
          "output_type": "stream",
          "text": [
            "WARNING:tensorflow:Compiled the loaded model, but the compiled metrics have yet to be built. `model.compile_metrics` will be empty until you train or evaluate the model.\n"
          ]
        },
        {
          "name": "stdout",
          "output_type": "stream",
          "text": [
            ">Epoch: 5,Batch: 438/468, disc_real_loss=0.225, disc_fake_loss=0.376 gan_loss=0.000\n",
            "2/2 [==============================] - 0s 7ms/step\n"
          ]
        },
        {
          "name": "stderr",
          "output_type": "stream",
          "text": [
            "WARNING:tensorflow:Compiled the loaded model, but the compiled metrics have yet to be built. `model.compile_metrics` will be empty until you train or evaluate the model.\n"
          ]
        },
        {
          "name": "stdout",
          "output_type": "stream",
          "text": [
            ">Epoch: 5,Batch: 439/468, disc_real_loss=0.290, disc_fake_loss=0.244 gan_loss=0.000\n",
            "2/2 [==============================] - 0s 10ms/step\n"
          ]
        },
        {
          "name": "stderr",
          "output_type": "stream",
          "text": [
            "WARNING:tensorflow:Compiled the loaded model, but the compiled metrics have yet to be built. `model.compile_metrics` will be empty until you train or evaluate the model.\n"
          ]
        },
        {
          "name": "stdout",
          "output_type": "stream",
          "text": [
            ">Epoch: 5,Batch: 440/468, disc_real_loss=0.295, disc_fake_loss=0.317 gan_loss=0.000\n",
            "2/2 [==============================] - 0s 7ms/step\n"
          ]
        },
        {
          "name": "stderr",
          "output_type": "stream",
          "text": [
            "WARNING:tensorflow:Compiled the loaded model, but the compiled metrics have yet to be built. `model.compile_metrics` will be empty until you train or evaluate the model.\n"
          ]
        },
        {
          "name": "stdout",
          "output_type": "stream",
          "text": [
            ">Epoch: 5,Batch: 441/468, disc_real_loss=0.254, disc_fake_loss=0.313 gan_loss=0.000\n",
            "2/2 [==============================] - 0s 6ms/step\n"
          ]
        },
        {
          "name": "stderr",
          "output_type": "stream",
          "text": [
            "WARNING:tensorflow:Compiled the loaded model, but the compiled metrics have yet to be built. `model.compile_metrics` will be empty until you train or evaluate the model.\n"
          ]
        },
        {
          "name": "stdout",
          "output_type": "stream",
          "text": [
            ">Epoch: 5,Batch: 442/468, disc_real_loss=0.311, disc_fake_loss=0.320 gan_loss=0.000\n",
            "2/2 [==============================] - 0s 7ms/step\n"
          ]
        },
        {
          "name": "stderr",
          "output_type": "stream",
          "text": [
            "WARNING:tensorflow:Compiled the loaded model, but the compiled metrics have yet to be built. `model.compile_metrics` will be empty until you train or evaluate the model.\n"
          ]
        },
        {
          "name": "stdout",
          "output_type": "stream",
          "text": [
            ">Epoch: 5,Batch: 443/468, disc_real_loss=0.322, disc_fake_loss=0.234 gan_loss=0.000\n",
            "2/2 [==============================] - 0s 10ms/step\n"
          ]
        },
        {
          "name": "stderr",
          "output_type": "stream",
          "text": [
            "WARNING:tensorflow:Compiled the loaded model, but the compiled metrics have yet to be built. `model.compile_metrics` will be empty until you train or evaluate the model.\n"
          ]
        },
        {
          "name": "stdout",
          "output_type": "stream",
          "text": [
            ">Epoch: 5,Batch: 444/468, disc_real_loss=0.397, disc_fake_loss=0.283 gan_loss=0.000\n",
            "2/2 [==============================] - 0s 10ms/step\n"
          ]
        },
        {
          "name": "stderr",
          "output_type": "stream",
          "text": [
            "WARNING:tensorflow:Compiled the loaded model, but the compiled metrics have yet to be built. `model.compile_metrics` will be empty until you train or evaluate the model.\n"
          ]
        },
        {
          "name": "stdout",
          "output_type": "stream",
          "text": [
            ">Epoch: 5,Batch: 445/468, disc_real_loss=0.225, disc_fake_loss=0.389 gan_loss=0.000\n",
            "2/2 [==============================] - 0s 13ms/step\n"
          ]
        },
        {
          "name": "stderr",
          "output_type": "stream",
          "text": [
            "WARNING:tensorflow:Compiled the loaded model, but the compiled metrics have yet to be built. `model.compile_metrics` will be empty until you train or evaluate the model.\n"
          ]
        },
        {
          "name": "stdout",
          "output_type": "stream",
          "text": [
            ">Epoch: 5,Batch: 446/468, disc_real_loss=0.301, disc_fake_loss=0.265 gan_loss=0.000\n",
            "2/2 [==============================] - 0s 14ms/step\n"
          ]
        },
        {
          "name": "stderr",
          "output_type": "stream",
          "text": [
            "WARNING:tensorflow:Compiled the loaded model, but the compiled metrics have yet to be built. `model.compile_metrics` will be empty until you train or evaluate the model.\n"
          ]
        },
        {
          "name": "stdout",
          "output_type": "stream",
          "text": [
            ">Epoch: 5,Batch: 447/468, disc_real_loss=0.284, disc_fake_loss=0.367 gan_loss=0.000\n",
            "2/2 [==============================] - 0s 9ms/step\n"
          ]
        },
        {
          "name": "stderr",
          "output_type": "stream",
          "text": [
            "WARNING:tensorflow:Compiled the loaded model, but the compiled metrics have yet to be built. `model.compile_metrics` will be empty until you train or evaluate the model.\n"
          ]
        },
        {
          "name": "stdout",
          "output_type": "stream",
          "text": [
            ">Epoch: 5,Batch: 448/468, disc_real_loss=0.363, disc_fake_loss=0.379 gan_loss=0.000\n",
            "2/2 [==============================] - 0s 10ms/step\n"
          ]
        },
        {
          "name": "stderr",
          "output_type": "stream",
          "text": [
            "WARNING:tensorflow:Compiled the loaded model, but the compiled metrics have yet to be built. `model.compile_metrics` will be empty until you train or evaluate the model.\n"
          ]
        },
        {
          "name": "stdout",
          "output_type": "stream",
          "text": [
            ">Epoch: 5,Batch: 449/468, disc_real_loss=0.300, disc_fake_loss=0.343 gan_loss=0.000\n",
            "2/2 [==============================] - 0s 8ms/step\n"
          ]
        },
        {
          "name": "stderr",
          "output_type": "stream",
          "text": [
            "WARNING:tensorflow:Compiled the loaded model, but the compiled metrics have yet to be built. `model.compile_metrics` will be empty until you train or evaluate the model.\n"
          ]
        },
        {
          "name": "stdout",
          "output_type": "stream",
          "text": [
            ">Epoch: 5,Batch: 450/468, disc_real_loss=0.368, disc_fake_loss=0.316 gan_loss=0.000\n",
            "2/2 [==============================] - 0s 8ms/step\n"
          ]
        },
        {
          "name": "stderr",
          "output_type": "stream",
          "text": [
            "WARNING:tensorflow:Compiled the loaded model, but the compiled metrics have yet to be built. `model.compile_metrics` will be empty until you train or evaluate the model.\n"
          ]
        },
        {
          "name": "stdout",
          "output_type": "stream",
          "text": [
            ">Epoch: 5,Batch: 451/468, disc_real_loss=0.392, disc_fake_loss=0.303 gan_loss=0.000\n",
            "2/2 [==============================] - 0s 8ms/step\n"
          ]
        },
        {
          "name": "stderr",
          "output_type": "stream",
          "text": [
            "WARNING:tensorflow:Compiled the loaded model, but the compiled metrics have yet to be built. `model.compile_metrics` will be empty until you train or evaluate the model.\n"
          ]
        },
        {
          "name": "stdout",
          "output_type": "stream",
          "text": [
            ">Epoch: 5,Batch: 452/468, disc_real_loss=0.297, disc_fake_loss=0.320 gan_loss=0.000\n",
            "2/2 [==============================] - 0s 12ms/step\n"
          ]
        },
        {
          "name": "stderr",
          "output_type": "stream",
          "text": [
            "WARNING:tensorflow:Compiled the loaded model, but the compiled metrics have yet to be built. `model.compile_metrics` will be empty until you train or evaluate the model.\n"
          ]
        },
        {
          "name": "stdout",
          "output_type": "stream",
          "text": [
            ">Epoch: 5,Batch: 453/468, disc_real_loss=0.267, disc_fake_loss=0.281 gan_loss=0.000\n",
            "2/2 [==============================] - 0s 6ms/step\n"
          ]
        },
        {
          "name": "stderr",
          "output_type": "stream",
          "text": [
            "WARNING:tensorflow:Compiled the loaded model, but the compiled metrics have yet to be built. `model.compile_metrics` will be empty until you train or evaluate the model.\n"
          ]
        },
        {
          "name": "stdout",
          "output_type": "stream",
          "text": [
            ">Epoch: 5,Batch: 454/468, disc_real_loss=0.246, disc_fake_loss=0.297 gan_loss=0.000\n",
            "2/2 [==============================] - 0s 6ms/step\n"
          ]
        },
        {
          "name": "stderr",
          "output_type": "stream",
          "text": [
            "WARNING:tensorflow:Compiled the loaded model, but the compiled metrics have yet to be built. `model.compile_metrics` will be empty until you train or evaluate the model.\n"
          ]
        },
        {
          "name": "stdout",
          "output_type": "stream",
          "text": [
            ">Epoch: 5,Batch: 455/468, disc_real_loss=0.360, disc_fake_loss=0.330 gan_loss=0.000\n",
            "2/2 [==============================] - 0s 6ms/step\n"
          ]
        },
        {
          "name": "stderr",
          "output_type": "stream",
          "text": [
            "WARNING:tensorflow:Compiled the loaded model, but the compiled metrics have yet to be built. `model.compile_metrics` will be empty until you train or evaluate the model.\n"
          ]
        },
        {
          "name": "stdout",
          "output_type": "stream",
          "text": [
            ">Epoch: 5,Batch: 456/468, disc_real_loss=0.356, disc_fake_loss=0.298 gan_loss=0.000\n",
            "2/2 [==============================] - 0s 6ms/step\n"
          ]
        },
        {
          "name": "stderr",
          "output_type": "stream",
          "text": [
            "WARNING:tensorflow:Compiled the loaded model, but the compiled metrics have yet to be built. `model.compile_metrics` will be empty until you train or evaluate the model.\n"
          ]
        },
        {
          "name": "stdout",
          "output_type": "stream",
          "text": [
            ">Epoch: 5,Batch: 457/468, disc_real_loss=0.237, disc_fake_loss=0.273 gan_loss=0.000\n",
            "2/2 [==============================] - 0s 13ms/step\n"
          ]
        },
        {
          "name": "stderr",
          "output_type": "stream",
          "text": [
            "WARNING:tensorflow:Compiled the loaded model, but the compiled metrics have yet to be built. `model.compile_metrics` will be empty until you train or evaluate the model.\n"
          ]
        },
        {
          "name": "stdout",
          "output_type": "stream",
          "text": [
            ">Epoch: 5,Batch: 458/468, disc_real_loss=0.261, disc_fake_loss=0.245 gan_loss=0.000\n",
            "2/2 [==============================] - 0s 7ms/step\n"
          ]
        },
        {
          "name": "stderr",
          "output_type": "stream",
          "text": [
            "WARNING:tensorflow:Compiled the loaded model, but the compiled metrics have yet to be built. `model.compile_metrics` will be empty until you train or evaluate the model.\n"
          ]
        },
        {
          "name": "stdout",
          "output_type": "stream",
          "text": [
            ">Epoch: 5,Batch: 459/468, disc_real_loss=0.347, disc_fake_loss=0.376 gan_loss=0.000\n",
            "2/2 [==============================] - 0s 5ms/step\n"
          ]
        },
        {
          "name": "stderr",
          "output_type": "stream",
          "text": [
            "WARNING:tensorflow:Compiled the loaded model, but the compiled metrics have yet to be built. `model.compile_metrics` will be empty until you train or evaluate the model.\n"
          ]
        },
        {
          "name": "stdout",
          "output_type": "stream",
          "text": [
            ">Epoch: 5,Batch: 460/468, disc_real_loss=0.316, disc_fake_loss=0.352 gan_loss=0.000\n",
            "2/2 [==============================] - 0s 11ms/step\n"
          ]
        },
        {
          "name": "stderr",
          "output_type": "stream",
          "text": [
            "WARNING:tensorflow:Compiled the loaded model, but the compiled metrics have yet to be built. `model.compile_metrics` will be empty until you train or evaluate the model.\n"
          ]
        },
        {
          "name": "stdout",
          "output_type": "stream",
          "text": [
            ">Epoch: 5,Batch: 461/468, disc_real_loss=0.345, disc_fake_loss=0.228 gan_loss=0.000\n",
            "2/2 [==============================] - 0s 13ms/step\n"
          ]
        },
        {
          "name": "stderr",
          "output_type": "stream",
          "text": [
            "WARNING:tensorflow:Compiled the loaded model, but the compiled metrics have yet to be built. `model.compile_metrics` will be empty until you train or evaluate the model.\n"
          ]
        },
        {
          "name": "stdout",
          "output_type": "stream",
          "text": [
            ">Epoch: 5,Batch: 462/468, disc_real_loss=0.333, disc_fake_loss=0.354 gan_loss=0.000\n",
            "2/2 [==============================] - 0s 9ms/step\n"
          ]
        },
        {
          "name": "stderr",
          "output_type": "stream",
          "text": [
            "WARNING:tensorflow:Compiled the loaded model, but the compiled metrics have yet to be built. `model.compile_metrics` will be empty until you train or evaluate the model.\n"
          ]
        },
        {
          "name": "stdout",
          "output_type": "stream",
          "text": [
            ">Epoch: 5,Batch: 463/468, disc_real_loss=0.403, disc_fake_loss=0.343 gan_loss=0.000\n",
            "2/2 [==============================] - 0s 15ms/step\n"
          ]
        },
        {
          "name": "stderr",
          "output_type": "stream",
          "text": [
            "WARNING:tensorflow:Compiled the loaded model, but the compiled metrics have yet to be built. `model.compile_metrics` will be empty until you train or evaluate the model.\n"
          ]
        },
        {
          "name": "stdout",
          "output_type": "stream",
          "text": [
            ">Epoch: 5,Batch: 464/468, disc_real_loss=0.270, disc_fake_loss=0.357 gan_loss=0.000\n",
            "2/2 [==============================] - 0s 5ms/step\n"
          ]
        },
        {
          "name": "stderr",
          "output_type": "stream",
          "text": [
            "WARNING:tensorflow:Compiled the loaded model, but the compiled metrics have yet to be built. `model.compile_metrics` will be empty until you train or evaluate the model.\n"
          ]
        },
        {
          "name": "stdout",
          "output_type": "stream",
          "text": [
            ">Epoch: 5,Batch: 465/468, disc_real_loss=0.341, disc_fake_loss=0.280 gan_loss=0.000\n",
            "2/2 [==============================] - 0s 8ms/step\n"
          ]
        },
        {
          "name": "stderr",
          "output_type": "stream",
          "text": [
            "WARNING:tensorflow:Compiled the loaded model, but the compiled metrics have yet to be built. `model.compile_metrics` will be empty until you train or evaluate the model.\n"
          ]
        },
        {
          "name": "stdout",
          "output_type": "stream",
          "text": [
            ">Epoch: 5,Batch: 466/468, disc_real_loss=0.252, disc_fake_loss=0.389 gan_loss=0.000\n",
            "2/2 [==============================] - 0s 10ms/step\n"
          ]
        },
        {
          "name": "stderr",
          "output_type": "stream",
          "text": [
            "WARNING:tensorflow:Compiled the loaded model, but the compiled metrics have yet to be built. `model.compile_metrics` will be empty until you train or evaluate the model.\n"
          ]
        },
        {
          "name": "stdout",
          "output_type": "stream",
          "text": [
            ">Epoch: 5,Batch: 467/468, disc_real_loss=0.433, disc_fake_loss=0.328 gan_loss=0.000\n",
            "2/2 [==============================] - 0s 12ms/step\n"
          ]
        },
        {
          "name": "stderr",
          "output_type": "stream",
          "text": [
            "WARNING:tensorflow:Compiled the loaded model, but the compiled metrics have yet to be built. `model.compile_metrics` will be empty until you train or evaluate the model.\n"
          ]
        },
        {
          "name": "stdout",
          "output_type": "stream",
          "text": [
            ">Epoch: 5,Batch: 468/468, disc_real_loss=0.269, disc_fake_loss=0.277 gan_loss=0.000\n",
            "2/2 [==============================] - 0s 10ms/step\n",
            ">Epoch: 6,Batch: 1/468, disc_real_loss=0.255, disc_fake_loss=0.317 gan_loss=0.000\n",
            "2/2 [==============================] - 0s 13ms/step\n",
            ">Epoch: 6,Batch: 2/468, disc_real_loss=0.365, disc_fake_loss=0.359 gan_loss=0.000\n",
            "2/2 [==============================] - 0s 11ms/step\n",
            ">Epoch: 6,Batch: 3/468, disc_real_loss=0.390, disc_fake_loss=0.478 gan_loss=0.000\n",
            "2/2 [==============================] - 0s 8ms/step\n",
            ">Epoch: 6,Batch: 4/468, disc_real_loss=0.336, disc_fake_loss=0.283 gan_loss=0.000\n",
            "2/2 [==============================] - 0s 5ms/step\n",
            ">Epoch: 6,Batch: 5/468, disc_real_loss=0.298, disc_fake_loss=0.404 gan_loss=0.000\n",
            "2/2 [==============================] - 0s 6ms/step\n",
            ">Epoch: 6,Batch: 6/468, disc_real_loss=0.309, disc_fake_loss=0.299 gan_loss=0.000\n",
            "2/2 [==============================] - 0s 5ms/step\n",
            ">Epoch: 6,Batch: 7/468, disc_real_loss=0.356, disc_fake_loss=0.277 gan_loss=0.000\n",
            "2/2 [==============================] - 0s 5ms/step\n",
            ">Epoch: 6,Batch: 8/468, disc_real_loss=0.254, disc_fake_loss=0.326 gan_loss=0.000\n",
            "2/2 [==============================] - 0s 5ms/step\n",
            ">Epoch: 6,Batch: 9/468, disc_real_loss=0.290, disc_fake_loss=0.359 gan_loss=0.000\n",
            "2/2 [==============================] - 0s 6ms/step\n",
            ">Epoch: 6,Batch: 10/468, disc_real_loss=0.307, disc_fake_loss=0.264 gan_loss=0.000\n",
            "2/2 [==============================] - 0s 12ms/step\n",
            ">Epoch: 6,Batch: 11/468, disc_real_loss=0.368, disc_fake_loss=0.275 gan_loss=0.000\n",
            "2/2 [==============================] - 0s 12ms/step\n",
            ">Epoch: 6,Batch: 12/468, disc_real_loss=0.341, disc_fake_loss=0.341 gan_loss=0.000\n",
            "2/2 [==============================] - 0s 5ms/step\n",
            ">Epoch: 6,Batch: 13/468, disc_real_loss=0.261, disc_fake_loss=0.370 gan_loss=0.000\n",
            "2/2 [==============================] - 0s 6ms/step\n",
            ">Epoch: 6,Batch: 14/468, disc_real_loss=0.394, disc_fake_loss=0.282 gan_loss=0.000\n",
            "2/2 [==============================] - 0s 8ms/step\n",
            ">Epoch: 6,Batch: 15/468, disc_real_loss=0.300, disc_fake_loss=0.353 gan_loss=0.000\n",
            "2/2 [==============================] - 0s 7ms/step\n",
            ">Epoch: 6,Batch: 16/468, disc_real_loss=0.319, disc_fake_loss=0.344 gan_loss=0.000\n",
            "2/2 [==============================] - 0s 11ms/step\n",
            ">Epoch: 6,Batch: 17/468, disc_real_loss=0.333, disc_fake_loss=0.357 gan_loss=0.000\n",
            "2/2 [==============================] - 0s 6ms/step\n",
            ">Epoch: 6,Batch: 18/468, disc_real_loss=0.243, disc_fake_loss=0.275 gan_loss=0.000\n",
            "2/2 [==============================] - 0s 4ms/step\n",
            ">Epoch: 6,Batch: 19/468, disc_real_loss=0.367, disc_fake_loss=0.343 gan_loss=0.000\n",
            "2/2 [==============================] - 0s 13ms/step\n",
            ">Epoch: 6,Batch: 20/468, disc_real_loss=0.381, disc_fake_loss=0.334 gan_loss=0.000\n",
            "2/2 [==============================] - 0s 4ms/step\n",
            ">Epoch: 6,Batch: 21/468, disc_real_loss=0.310, disc_fake_loss=0.260 gan_loss=0.000\n",
            "2/2 [==============================] - 0s 9ms/step\n",
            ">Epoch: 6,Batch: 22/468, disc_real_loss=0.305, disc_fake_loss=0.384 gan_loss=0.000\n",
            "2/2 [==============================] - 0s 5ms/step\n",
            ">Epoch: 6,Batch: 23/468, disc_real_loss=0.293, disc_fake_loss=0.370 gan_loss=0.000\n",
            "2/2 [==============================] - 0s 6ms/step\n",
            ">Epoch: 6,Batch: 24/468, disc_real_loss=0.388, disc_fake_loss=0.305 gan_loss=0.000\n",
            "2/2 [==============================] - 0s 4ms/step\n",
            ">Epoch: 6,Batch: 25/468, disc_real_loss=0.225, disc_fake_loss=0.334 gan_loss=0.000\n",
            "2/2 [==============================] - 0s 8ms/step\n",
            ">Epoch: 6,Batch: 26/468, disc_real_loss=0.326, disc_fake_loss=0.231 gan_loss=0.000\n",
            "2/2 [==============================] - 0s 12ms/step\n",
            ">Epoch: 6,Batch: 27/468, disc_real_loss=0.435, disc_fake_loss=0.349 gan_loss=0.000\n",
            "2/2 [==============================] - 0s 9ms/step\n",
            ">Epoch: 6,Batch: 28/468, disc_real_loss=0.280, disc_fake_loss=0.370 gan_loss=0.000\n",
            "2/2 [==============================] - 0s 8ms/step\n",
            ">Epoch: 6,Batch: 29/468, disc_real_loss=0.301, disc_fake_loss=0.343 gan_loss=0.000\n",
            "2/2 [==============================] - 0s 12ms/step\n",
            ">Epoch: 6,Batch: 30/468, disc_real_loss=0.386, disc_fake_loss=0.304 gan_loss=0.000\n",
            "2/2 [==============================] - 0s 12ms/step\n",
            ">Epoch: 6,Batch: 31/468, disc_real_loss=0.300, disc_fake_loss=0.310 gan_loss=0.000\n",
            "2/2 [==============================] - 0s 11ms/step\n",
            ">Epoch: 6,Batch: 32/468, disc_real_loss=0.269, disc_fake_loss=0.288 gan_loss=0.000\n",
            "2/2 [==============================] - 0s 6ms/step\n",
            ">Epoch: 6,Batch: 33/468, disc_real_loss=0.246, disc_fake_loss=0.320 gan_loss=0.000\n",
            "2/2 [==============================] - 0s 11ms/step\n",
            ">Epoch: 6,Batch: 34/468, disc_real_loss=0.268, disc_fake_loss=0.358 gan_loss=0.000\n",
            "2/2 [==============================] - 0s 5ms/step\n",
            ">Epoch: 6,Batch: 35/468, disc_real_loss=0.414, disc_fake_loss=0.302 gan_loss=0.000\n",
            "2/2 [==============================] - 0s 9ms/step\n",
            ">Epoch: 6,Batch: 36/468, disc_real_loss=0.375, disc_fake_loss=0.334 gan_loss=0.000\n",
            "2/2 [==============================] - 0s 6ms/step\n",
            ">Epoch: 6,Batch: 37/468, disc_real_loss=0.285, disc_fake_loss=0.289 gan_loss=0.000\n",
            "2/2 [==============================] - 0s 12ms/step\n",
            ">Epoch: 6,Batch: 38/468, disc_real_loss=0.258, disc_fake_loss=0.321 gan_loss=0.000\n",
            "2/2 [==============================] - 0s 11ms/step\n",
            ">Epoch: 6,Batch: 39/468, disc_real_loss=0.257, disc_fake_loss=0.214 gan_loss=0.000\n",
            "2/2 [==============================] - 0s 12ms/step\n",
            ">Epoch: 6,Batch: 40/468, disc_real_loss=0.356, disc_fake_loss=0.268 gan_loss=0.000\n",
            "2/2 [==============================] - 0s 11ms/step\n",
            ">Epoch: 6,Batch: 41/468, disc_real_loss=0.237, disc_fake_loss=0.270 gan_loss=0.000\n",
            "2/2 [==============================] - 0s 5ms/step\n",
            ">Epoch: 6,Batch: 42/468, disc_real_loss=0.326, disc_fake_loss=0.248 gan_loss=0.000\n",
            "2/2 [==============================] - 0s 11ms/step\n",
            ">Epoch: 6,Batch: 43/468, disc_real_loss=0.245, disc_fake_loss=0.375 gan_loss=0.000\n",
            "2/2 [==============================] - 0s 7ms/step\n",
            ">Epoch: 6,Batch: 44/468, disc_real_loss=0.278, disc_fake_loss=0.262 gan_loss=0.000\n",
            "2/2 [==============================] - 0s 6ms/step\n",
            ">Epoch: 6,Batch: 45/468, disc_real_loss=0.234, disc_fake_loss=0.205 gan_loss=0.000\n",
            "2/2 [==============================] - 0s 7ms/step\n",
            ">Epoch: 6,Batch: 46/468, disc_real_loss=0.305, disc_fake_loss=0.332 gan_loss=0.000\n",
            "2/2 [==============================] - 0s 11ms/step\n",
            ">Epoch: 6,Batch: 47/468, disc_real_loss=0.266, disc_fake_loss=0.348 gan_loss=0.000\n",
            "2/2 [==============================] - 0s 8ms/step\n",
            ">Epoch: 6,Batch: 48/468, disc_real_loss=0.226, disc_fake_loss=0.265 gan_loss=0.000\n",
            "2/2 [==============================] - 0s 6ms/step\n",
            ">Epoch: 6,Batch: 49/468, disc_real_loss=0.283, disc_fake_loss=0.302 gan_loss=0.000\n",
            "2/2 [==============================] - 0s 5ms/step\n",
            ">Epoch: 6,Batch: 50/468, disc_real_loss=0.302, disc_fake_loss=0.329 gan_loss=0.000\n",
            "2/2 [==============================] - 0s 4ms/step\n",
            ">Epoch: 6,Batch: 51/468, disc_real_loss=0.301, disc_fake_loss=0.292 gan_loss=0.000\n",
            "2/2 [==============================] - 0s 7ms/step\n",
            ">Epoch: 6,Batch: 52/468, disc_real_loss=0.314, disc_fake_loss=0.252 gan_loss=0.000\n",
            "2/2 [==============================] - 0s 4ms/step\n",
            ">Epoch: 6,Batch: 53/468, disc_real_loss=0.293, disc_fake_loss=0.265 gan_loss=0.000\n",
            "2/2 [==============================] - 0s 12ms/step\n",
            ">Epoch: 6,Batch: 54/468, disc_real_loss=0.228, disc_fake_loss=0.331 gan_loss=0.000\n",
            "2/2 [==============================] - 0s 6ms/step\n",
            ">Epoch: 6,Batch: 55/468, disc_real_loss=0.237, disc_fake_loss=0.265 gan_loss=0.000\n",
            "2/2 [==============================] - 0s 9ms/step\n",
            ">Epoch: 6,Batch: 56/468, disc_real_loss=0.355, disc_fake_loss=0.443 gan_loss=0.000\n",
            "2/2 [==============================] - 0s 6ms/step\n",
            ">Epoch: 6,Batch: 57/468, disc_real_loss=0.343, disc_fake_loss=0.283 gan_loss=0.000\n",
            "2/2 [==============================] - 0s 6ms/step\n",
            ">Epoch: 6,Batch: 58/468, disc_real_loss=0.247, disc_fake_loss=0.245 gan_loss=0.000\n",
            "2/2 [==============================] - 0s 13ms/step\n",
            ">Epoch: 6,Batch: 59/468, disc_real_loss=0.324, disc_fake_loss=0.286 gan_loss=0.000\n",
            "2/2 [==============================] - 0s 7ms/step\n",
            ">Epoch: 6,Batch: 60/468, disc_real_loss=0.322, disc_fake_loss=0.398 gan_loss=0.000\n",
            "2/2 [==============================] - 0s 4ms/step\n",
            ">Epoch: 6,Batch: 61/468, disc_real_loss=0.317, disc_fake_loss=0.313 gan_loss=0.000\n",
            "2/2 [==============================] - 0s 11ms/step\n",
            ">Epoch: 6,Batch: 62/468, disc_real_loss=0.286, disc_fake_loss=0.307 gan_loss=0.000\n",
            "2/2 [==============================] - 0s 11ms/step\n",
            ">Epoch: 6,Batch: 63/468, disc_real_loss=0.350, disc_fake_loss=0.290 gan_loss=0.000\n",
            "2/2 [==============================] - 0s 4ms/step\n",
            ">Epoch: 6,Batch: 64/468, disc_real_loss=0.331, disc_fake_loss=0.219 gan_loss=0.000\n",
            "2/2 [==============================] - 0s 4ms/step\n",
            ">Epoch: 6,Batch: 65/468, disc_real_loss=0.261, disc_fake_loss=0.401 gan_loss=0.000\n",
            "2/2 [==============================] - 0s 7ms/step\n",
            ">Epoch: 6,Batch: 66/468, disc_real_loss=0.287, disc_fake_loss=0.260 gan_loss=0.000\n",
            "2/2 [==============================] - 0s 6ms/step\n",
            ">Epoch: 6,Batch: 67/468, disc_real_loss=0.308, disc_fake_loss=0.251 gan_loss=0.000\n",
            "2/2 [==============================] - 0s 7ms/step\n",
            ">Epoch: 6,Batch: 68/468, disc_real_loss=0.252, disc_fake_loss=0.408 gan_loss=0.000\n",
            "2/2 [==============================] - 0s 7ms/step\n",
            ">Epoch: 6,Batch: 69/468, disc_real_loss=0.286, disc_fake_loss=0.288 gan_loss=0.000\n",
            "2/2 [==============================] - 0s 11ms/step\n",
            ">Epoch: 6,Batch: 70/468, disc_real_loss=0.305, disc_fake_loss=0.274 gan_loss=0.000\n",
            "2/2 [==============================] - 0s 15ms/step\n",
            ">Epoch: 6,Batch: 71/468, disc_real_loss=0.321, disc_fake_loss=0.317 gan_loss=0.000\n",
            "2/2 [==============================] - 0s 7ms/step\n",
            ">Epoch: 6,Batch: 72/468, disc_real_loss=0.271, disc_fake_loss=0.314 gan_loss=0.000\n",
            "2/2 [==============================] - 0s 4ms/step\n",
            ">Epoch: 6,Batch: 73/468, disc_real_loss=0.229, disc_fake_loss=0.312 gan_loss=0.000\n",
            "2/2 [==============================] - 0s 15ms/step\n",
            ">Epoch: 6,Batch: 74/468, disc_real_loss=0.363, disc_fake_loss=0.344 gan_loss=0.000\n",
            "2/2 [==============================] - 0s 10ms/step\n",
            ">Epoch: 6,Batch: 75/468, disc_real_loss=0.314, disc_fake_loss=0.333 gan_loss=0.000\n",
            "2/2 [==============================] - 0s 9ms/step\n",
            ">Epoch: 6,Batch: 76/468, disc_real_loss=0.306, disc_fake_loss=0.254 gan_loss=0.000\n",
            "2/2 [==============================] - 0s 10ms/step\n",
            ">Epoch: 6,Batch: 77/468, disc_real_loss=0.245, disc_fake_loss=0.231 gan_loss=0.000\n",
            "2/2 [==============================] - 0s 7ms/step\n",
            ">Epoch: 6,Batch: 78/468, disc_real_loss=0.289, disc_fake_loss=0.323 gan_loss=0.000\n",
            "2/2 [==============================] - 0s 6ms/step\n",
            ">Epoch: 6,Batch: 79/468, disc_real_loss=0.318, disc_fake_loss=0.306 gan_loss=0.000\n",
            "2/2 [==============================] - 0s 10ms/step\n",
            ">Epoch: 6,Batch: 80/468, disc_real_loss=0.218, disc_fake_loss=0.230 gan_loss=0.000\n",
            "2/2 [==============================] - 0s 12ms/step\n",
            ">Epoch: 6,Batch: 81/468, disc_real_loss=0.307, disc_fake_loss=0.313 gan_loss=0.000\n",
            "2/2 [==============================] - 0s 6ms/step\n",
            ">Epoch: 6,Batch: 82/468, disc_real_loss=0.257, disc_fake_loss=0.258 gan_loss=0.000\n",
            "2/2 [==============================] - 0s 5ms/step\n",
            ">Epoch: 6,Batch: 83/468, disc_real_loss=0.245, disc_fake_loss=0.351 gan_loss=0.000\n",
            "2/2 [==============================] - 0s 16ms/step\n",
            ">Epoch: 6,Batch: 84/468, disc_real_loss=0.340, disc_fake_loss=0.327 gan_loss=0.000\n",
            "2/2 [==============================] - 0s 9ms/step\n",
            ">Epoch: 6,Batch: 85/468, disc_real_loss=0.364, disc_fake_loss=0.281 gan_loss=0.000\n",
            "2/2 [==============================] - 0s 6ms/step\n",
            ">Epoch: 6,Batch: 86/468, disc_real_loss=0.304, disc_fake_loss=0.300 gan_loss=0.000\n",
            "2/2 [==============================] - 0s 5ms/step\n",
            ">Epoch: 6,Batch: 87/468, disc_real_loss=0.370, disc_fake_loss=0.395 gan_loss=0.000\n",
            "2/2 [==============================] - 0s 12ms/step\n",
            ">Epoch: 6,Batch: 88/468, disc_real_loss=0.280, disc_fake_loss=0.256 gan_loss=0.000\n",
            "2/2 [==============================] - 0s 6ms/step\n",
            ">Epoch: 6,Batch: 89/468, disc_real_loss=0.318, disc_fake_loss=0.427 gan_loss=0.000\n",
            "2/2 [==============================] - 0s 12ms/step\n",
            ">Epoch: 6,Batch: 90/468, disc_real_loss=0.292, disc_fake_loss=0.255 gan_loss=0.000\n",
            "2/2 [==============================] - 0s 8ms/step\n",
            ">Epoch: 6,Batch: 91/468, disc_real_loss=0.279, disc_fake_loss=0.271 gan_loss=0.000\n",
            "2/2 [==============================] - 0s 13ms/step\n",
            ">Epoch: 6,Batch: 92/468, disc_real_loss=0.392, disc_fake_loss=0.311 gan_loss=0.000\n",
            "2/2 [==============================] - 0s 10ms/step\n",
            ">Epoch: 6,Batch: 93/468, disc_real_loss=0.302, disc_fake_loss=0.233 gan_loss=0.000\n",
            "2/2 [==============================] - 0s 5ms/step\n",
            ">Epoch: 6,Batch: 94/468, disc_real_loss=0.298, disc_fake_loss=0.329 gan_loss=0.000\n",
            "2/2 [==============================] - 0s 11ms/step\n",
            ">Epoch: 6,Batch: 95/468, disc_real_loss=0.272, disc_fake_loss=0.365 gan_loss=0.000\n",
            "2/2 [==============================] - 0s 11ms/step\n",
            ">Epoch: 6,Batch: 96/468, disc_real_loss=0.211, disc_fake_loss=0.286 gan_loss=0.000\n",
            "2/2 [==============================] - 0s 10ms/step\n",
            ">Epoch: 6,Batch: 97/468, disc_real_loss=0.347, disc_fake_loss=0.343 gan_loss=0.000\n",
            "2/2 [==============================] - 0s 6ms/step\n",
            ">Epoch: 6,Batch: 98/468, disc_real_loss=0.303, disc_fake_loss=0.311 gan_loss=0.000\n",
            "2/2 [==============================] - 0s 4ms/step\n",
            ">Epoch: 6,Batch: 99/468, disc_real_loss=0.286, disc_fake_loss=0.276 gan_loss=0.000\n",
            "2/2 [==============================] - 0s 7ms/step\n",
            ">Epoch: 6,Batch: 100/468, disc_real_loss=0.333, disc_fake_loss=0.317 gan_loss=0.000\n",
            "2/2 [==============================] - 0s 9ms/step\n",
            ">Epoch: 6,Batch: 101/468, disc_real_loss=0.311, disc_fake_loss=0.268 gan_loss=0.000\n",
            "2/2 [==============================] - 0s 4ms/step\n",
            ">Epoch: 6,Batch: 102/468, disc_real_loss=0.258, disc_fake_loss=0.335 gan_loss=0.000\n",
            "2/2 [==============================] - 0s 9ms/step\n",
            ">Epoch: 6,Batch: 103/468, disc_real_loss=0.321, disc_fake_loss=0.336 gan_loss=0.000\n",
            "2/2 [==============================] - 0s 4ms/step\n",
            ">Epoch: 6,Batch: 104/468, disc_real_loss=0.333, disc_fake_loss=0.333 gan_loss=0.000\n",
            "2/2 [==============================] - 0s 4ms/step\n",
            ">Epoch: 6,Batch: 105/468, disc_real_loss=0.178, disc_fake_loss=0.395 gan_loss=0.000\n",
            "2/2 [==============================] - 0s 7ms/step\n",
            ">Epoch: 6,Batch: 106/468, disc_real_loss=0.279, disc_fake_loss=0.310 gan_loss=0.000\n",
            "2/2 [==============================] - 0s 6ms/step\n",
            ">Epoch: 6,Batch: 107/468, disc_real_loss=0.390, disc_fake_loss=0.317 gan_loss=0.000\n",
            "2/2 [==============================] - 0s 10ms/step\n",
            ">Epoch: 6,Batch: 108/468, disc_real_loss=0.322, disc_fake_loss=0.273 gan_loss=0.000\n",
            "2/2 [==============================] - 0s 12ms/step\n",
            ">Epoch: 6,Batch: 109/468, disc_real_loss=0.357, disc_fake_loss=0.327 gan_loss=0.000\n",
            "2/2 [==============================] - 0s 11ms/step\n",
            ">Epoch: 6,Batch: 110/468, disc_real_loss=0.281, disc_fake_loss=0.354 gan_loss=0.000\n",
            "2/2 [==============================] - 0s 13ms/step\n",
            ">Epoch: 6,Batch: 111/468, disc_real_loss=0.423, disc_fake_loss=0.266 gan_loss=0.000\n",
            "2/2 [==============================] - 0s 4ms/step\n",
            ">Epoch: 6,Batch: 112/468, disc_real_loss=0.208, disc_fake_loss=0.387 gan_loss=0.000\n",
            "2/2 [==============================] - 0s 4ms/step\n",
            ">Epoch: 6,Batch: 113/468, disc_real_loss=0.271, disc_fake_loss=0.247 gan_loss=0.000\n",
            "2/2 [==============================] - 0s 13ms/step\n",
            ">Epoch: 6,Batch: 114/468, disc_real_loss=0.275, disc_fake_loss=0.321 gan_loss=0.000\n",
            "2/2 [==============================] - 0s 5ms/step\n",
            ">Epoch: 6,Batch: 115/468, disc_real_loss=0.320, disc_fake_loss=0.276 gan_loss=0.000\n",
            "2/2 [==============================] - 0s 4ms/step\n",
            ">Epoch: 6,Batch: 116/468, disc_real_loss=0.291, disc_fake_loss=0.302 gan_loss=0.000\n",
            "2/2 [==============================] - 0s 8ms/step\n",
            ">Epoch: 6,Batch: 117/468, disc_real_loss=0.308, disc_fake_loss=0.309 gan_loss=0.000\n",
            "2/2 [==============================] - 0s 17ms/step\n",
            ">Epoch: 6,Batch: 118/468, disc_real_loss=0.345, disc_fake_loss=0.324 gan_loss=0.000\n",
            "2/2 [==============================] - 0s 8ms/step\n",
            ">Epoch: 6,Batch: 119/468, disc_real_loss=0.384, disc_fake_loss=0.337 gan_loss=0.000\n",
            "2/2 [==============================] - 0s 11ms/step\n",
            ">Epoch: 6,Batch: 120/468, disc_real_loss=0.389, disc_fake_loss=0.360 gan_loss=0.000\n",
            "2/2 [==============================] - 0s 13ms/step\n",
            ">Epoch: 6,Batch: 121/468, disc_real_loss=0.275, disc_fake_loss=0.281 gan_loss=0.000\n",
            "2/2 [==============================] - 0s 5ms/step\n",
            ">Epoch: 6,Batch: 122/468, disc_real_loss=0.316, disc_fake_loss=0.350 gan_loss=0.000\n",
            "2/2 [==============================] - 0s 7ms/step\n",
            ">Epoch: 6,Batch: 123/468, disc_real_loss=0.225, disc_fake_loss=0.276 gan_loss=0.000\n",
            "2/2 [==============================] - 0s 5ms/step\n",
            ">Epoch: 6,Batch: 124/468, disc_real_loss=0.367, disc_fake_loss=0.322 gan_loss=0.000\n",
            "2/2 [==============================] - 0s 10ms/step\n",
            ">Epoch: 6,Batch: 125/468, disc_real_loss=0.232, disc_fake_loss=0.210 gan_loss=0.000\n",
            "2/2 [==============================] - 0s 5ms/step\n",
            ">Epoch: 6,Batch: 126/468, disc_real_loss=0.266, disc_fake_loss=0.254 gan_loss=0.000\n",
            "2/2 [==============================] - 0s 6ms/step\n",
            ">Epoch: 6,Batch: 127/468, disc_real_loss=0.306, disc_fake_loss=0.400 gan_loss=0.000\n",
            "2/2 [==============================] - 0s 14ms/step\n",
            ">Epoch: 6,Batch: 128/468, disc_real_loss=0.214, disc_fake_loss=0.259 gan_loss=0.000\n",
            "2/2 [==============================] - 0s 5ms/step\n",
            ">Epoch: 6,Batch: 129/468, disc_real_loss=0.319, disc_fake_loss=0.225 gan_loss=0.000\n",
            "2/2 [==============================] - 0s 5ms/step\n",
            ">Epoch: 6,Batch: 130/468, disc_real_loss=0.281, disc_fake_loss=0.332 gan_loss=0.000\n",
            "2/2 [==============================] - 0s 4ms/step\n",
            ">Epoch: 6,Batch: 131/468, disc_real_loss=0.304, disc_fake_loss=0.328 gan_loss=0.000\n",
            "2/2 [==============================] - 0s 7ms/step\n",
            ">Epoch: 6,Batch: 132/468, disc_real_loss=0.274, disc_fake_loss=0.217 gan_loss=0.000\n",
            "2/2 [==============================] - 0s 14ms/step\n",
            ">Epoch: 6,Batch: 133/468, disc_real_loss=0.325, disc_fake_loss=0.262 gan_loss=0.000\n",
            "2/2 [==============================] - 0s 7ms/step\n",
            ">Epoch: 6,Batch: 134/468, disc_real_loss=0.258, disc_fake_loss=0.299 gan_loss=0.000\n",
            "2/2 [==============================] - 0s 14ms/step\n",
            ">Epoch: 6,Batch: 135/468, disc_real_loss=0.235, disc_fake_loss=0.383 gan_loss=0.000\n",
            "2/2 [==============================] - 0s 14ms/step\n",
            ">Epoch: 6,Batch: 136/468, disc_real_loss=0.360, disc_fake_loss=0.270 gan_loss=0.000\n",
            "2/2 [==============================] - 0s 4ms/step\n",
            ">Epoch: 6,Batch: 137/468, disc_real_loss=0.393, disc_fake_loss=0.286 gan_loss=0.000\n",
            "2/2 [==============================] - 0s 14ms/step\n",
            ">Epoch: 6,Batch: 138/468, disc_real_loss=0.330, disc_fake_loss=0.355 gan_loss=0.000\n",
            "2/2 [==============================] - 0s 10ms/step\n",
            ">Epoch: 6,Batch: 139/468, disc_real_loss=0.235, disc_fake_loss=0.287 gan_loss=0.000\n",
            "2/2 [==============================] - 0s 5ms/step\n",
            ">Epoch: 6,Batch: 140/468, disc_real_loss=0.252, disc_fake_loss=0.300 gan_loss=0.000\n",
            "2/2 [==============================] - 0s 7ms/step\n",
            ">Epoch: 6,Batch: 141/468, disc_real_loss=0.373, disc_fake_loss=0.313 gan_loss=0.000\n",
            "2/2 [==============================] - 0s 12ms/step\n",
            ">Epoch: 6,Batch: 142/468, disc_real_loss=0.254, disc_fake_loss=0.273 gan_loss=0.000\n",
            "2/2 [==============================] - 0s 4ms/step\n",
            ">Epoch: 6,Batch: 143/468, disc_real_loss=0.220, disc_fake_loss=0.299 gan_loss=0.000\n",
            "2/2 [==============================] - 0s 6ms/step\n",
            ">Epoch: 6,Batch: 144/468, disc_real_loss=0.362, disc_fake_loss=0.226 gan_loss=0.000\n",
            "2/2 [==============================] - 0s 10ms/step\n",
            ">Epoch: 6,Batch: 145/468, disc_real_loss=0.175, disc_fake_loss=0.371 gan_loss=0.000\n",
            "2/2 [==============================] - 0s 6ms/step\n",
            ">Epoch: 6,Batch: 146/468, disc_real_loss=0.304, disc_fake_loss=0.295 gan_loss=0.000\n",
            "2/2 [==============================] - 0s 12ms/step\n",
            ">Epoch: 6,Batch: 147/468, disc_real_loss=0.336, disc_fake_loss=0.299 gan_loss=0.000\n",
            "2/2 [==============================] - 0s 5ms/step\n",
            ">Epoch: 6,Batch: 148/468, disc_real_loss=0.272, disc_fake_loss=0.277 gan_loss=0.000\n",
            "2/2 [==============================] - 0s 13ms/step\n",
            ">Epoch: 6,Batch: 149/468, disc_real_loss=0.384, disc_fake_loss=0.225 gan_loss=0.000\n",
            "2/2 [==============================] - 0s 4ms/step\n",
            ">Epoch: 6,Batch: 150/468, disc_real_loss=0.209, disc_fake_loss=0.299 gan_loss=0.000\n",
            "2/2 [==============================] - 0s 9ms/step\n",
            ">Epoch: 6,Batch: 151/468, disc_real_loss=0.228, disc_fake_loss=0.328 gan_loss=0.000\n",
            "2/2 [==============================] - 0s 9ms/step\n",
            ">Epoch: 6,Batch: 152/468, disc_real_loss=0.247, disc_fake_loss=0.291 gan_loss=0.000\n",
            "2/2 [==============================] - 0s 4ms/step\n",
            ">Epoch: 6,Batch: 153/468, disc_real_loss=0.323, disc_fake_loss=0.260 gan_loss=0.000\n",
            "2/2 [==============================] - 0s 11ms/step\n",
            ">Epoch: 6,Batch: 154/468, disc_real_loss=0.308, disc_fake_loss=0.281 gan_loss=0.000\n",
            "2/2 [==============================] - 0s 7ms/step\n",
            ">Epoch: 6,Batch: 155/468, disc_real_loss=0.298, disc_fake_loss=0.272 gan_loss=0.000\n",
            "2/2 [==============================] - 0s 8ms/step\n",
            ">Epoch: 6,Batch: 156/468, disc_real_loss=0.205, disc_fake_loss=0.351 gan_loss=0.000\n",
            "2/2 [==============================] - 0s 4ms/step\n",
            ">Epoch: 6,Batch: 157/468, disc_real_loss=0.194, disc_fake_loss=0.258 gan_loss=0.000\n",
            "2/2 [==============================] - 0s 6ms/step\n",
            ">Epoch: 6,Batch: 158/468, disc_real_loss=0.306, disc_fake_loss=0.249 gan_loss=0.000\n",
            "2/2 [==============================] - 0s 7ms/step\n",
            ">Epoch: 6,Batch: 159/468, disc_real_loss=0.285, disc_fake_loss=0.306 gan_loss=0.000\n",
            "2/2 [==============================] - 0s 12ms/step\n",
            ">Epoch: 6,Batch: 160/468, disc_real_loss=0.275, disc_fake_loss=0.368 gan_loss=0.000\n",
            "2/2 [==============================] - 0s 7ms/step\n",
            ">Epoch: 6,Batch: 161/468, disc_real_loss=0.370, disc_fake_loss=0.248 gan_loss=0.000\n",
            "2/2 [==============================] - 0s 11ms/step\n",
            ">Epoch: 6,Batch: 162/468, disc_real_loss=0.348, disc_fake_loss=0.307 gan_loss=0.000\n",
            "2/2 [==============================] - 0s 14ms/step\n",
            ">Epoch: 6,Batch: 163/468, disc_real_loss=0.313, disc_fake_loss=0.362 gan_loss=0.000\n",
            "2/2 [==============================] - 0s 6ms/step\n",
            ">Epoch: 6,Batch: 164/468, disc_real_loss=0.336, disc_fake_loss=0.267 gan_loss=0.000\n",
            "2/2 [==============================] - 0s 5ms/step\n",
            ">Epoch: 6,Batch: 165/468, disc_real_loss=0.285, disc_fake_loss=0.331 gan_loss=0.000\n",
            "2/2 [==============================] - 0s 6ms/step\n",
            ">Epoch: 6,Batch: 166/468, disc_real_loss=0.321, disc_fake_loss=0.297 gan_loss=0.000\n",
            "2/2 [==============================] - 0s 8ms/step\n",
            ">Epoch: 6,Batch: 167/468, disc_real_loss=0.314, disc_fake_loss=0.249 gan_loss=0.000\n",
            "2/2 [==============================] - 0s 9ms/step\n",
            ">Epoch: 6,Batch: 168/468, disc_real_loss=0.268, disc_fake_loss=0.356 gan_loss=0.000\n",
            "2/2 [==============================] - 0s 7ms/step\n",
            ">Epoch: 6,Batch: 169/468, disc_real_loss=0.217, disc_fake_loss=0.262 gan_loss=0.000\n",
            "2/2 [==============================] - 0s 10ms/step\n",
            ">Epoch: 6,Batch: 170/468, disc_real_loss=0.260, disc_fake_loss=0.233 gan_loss=0.000\n",
            "2/2 [==============================] - 0s 14ms/step\n",
            ">Epoch: 6,Batch: 171/468, disc_real_loss=0.250, disc_fake_loss=0.276 gan_loss=0.000\n",
            "2/2 [==============================] - 0s 12ms/step\n",
            ">Epoch: 6,Batch: 172/468, disc_real_loss=0.253, disc_fake_loss=0.251 gan_loss=0.000\n",
            "2/2 [==============================] - 0s 4ms/step\n",
            ">Epoch: 6,Batch: 173/468, disc_real_loss=0.279, disc_fake_loss=0.236 gan_loss=0.000\n",
            "2/2 [==============================] - 0s 4ms/step\n",
            ">Epoch: 6,Batch: 174/468, disc_real_loss=0.304, disc_fake_loss=0.272 gan_loss=0.000\n",
            "2/2 [==============================] - 0s 9ms/step\n",
            ">Epoch: 6,Batch: 175/468, disc_real_loss=0.313, disc_fake_loss=0.255 gan_loss=0.000\n",
            "2/2 [==============================] - 0s 6ms/step\n",
            ">Epoch: 6,Batch: 176/468, disc_real_loss=0.307, disc_fake_loss=0.337 gan_loss=0.000\n",
            "2/2 [==============================] - 0s 8ms/step\n",
            ">Epoch: 6,Batch: 177/468, disc_real_loss=0.208, disc_fake_loss=0.365 gan_loss=0.000\n",
            "2/2 [==============================] - 0s 11ms/step\n",
            ">Epoch: 6,Batch: 178/468, disc_real_loss=0.365, disc_fake_loss=0.273 gan_loss=0.000\n",
            "2/2 [==============================] - 0s 4ms/step\n",
            ">Epoch: 6,Batch: 179/468, disc_real_loss=0.347, disc_fake_loss=0.276 gan_loss=0.000\n",
            "2/2 [==============================] - 0s 9ms/step\n",
            ">Epoch: 6,Batch: 180/468, disc_real_loss=0.248, disc_fake_loss=0.281 gan_loss=0.000\n",
            "2/2 [==============================] - 0s 10ms/step\n",
            ">Epoch: 6,Batch: 181/468, disc_real_loss=0.203, disc_fake_loss=0.240 gan_loss=0.000\n",
            "2/2 [==============================] - 0s 11ms/step\n",
            ">Epoch: 6,Batch: 182/468, disc_real_loss=0.245, disc_fake_loss=0.234 gan_loss=0.000\n",
            "2/2 [==============================] - 0s 7ms/step\n",
            ">Epoch: 6,Batch: 183/468, disc_real_loss=0.259, disc_fake_loss=0.371 gan_loss=0.000\n",
            "2/2 [==============================] - 0s 5ms/step\n",
            ">Epoch: 6,Batch: 184/468, disc_real_loss=0.278, disc_fake_loss=0.238 gan_loss=0.000\n",
            "2/2 [==============================] - 0s 7ms/step\n",
            ">Epoch: 6,Batch: 185/468, disc_real_loss=0.274, disc_fake_loss=0.285 gan_loss=0.000\n",
            "2/2 [==============================] - 0s 10ms/step\n",
            ">Epoch: 6,Batch: 186/468, disc_real_loss=0.312, disc_fake_loss=0.372 gan_loss=0.000\n",
            "2/2 [==============================] - 0s 6ms/step\n",
            ">Epoch: 6,Batch: 187/468, disc_real_loss=0.248, disc_fake_loss=0.230 gan_loss=0.000\n",
            "2/2 [==============================] - 0s 13ms/step\n",
            ">Epoch: 6,Batch: 188/468, disc_real_loss=0.190, disc_fake_loss=0.248 gan_loss=0.000\n",
            "2/2 [==============================] - 0s 5ms/step\n",
            ">Epoch: 6,Batch: 189/468, disc_real_loss=0.356, disc_fake_loss=0.353 gan_loss=0.000\n",
            "2/2 [==============================] - 0s 12ms/step\n",
            ">Epoch: 6,Batch: 190/468, disc_real_loss=0.304, disc_fake_loss=0.321 gan_loss=0.000\n",
            "2/2 [==============================] - 0s 5ms/step\n",
            ">Epoch: 6,Batch: 191/468, disc_real_loss=0.301, disc_fake_loss=0.221 gan_loss=0.000\n",
            "2/2 [==============================] - 0s 4ms/step\n",
            ">Epoch: 6,Batch: 192/468, disc_real_loss=0.242, disc_fake_loss=0.324 gan_loss=0.000\n",
            "2/2 [==============================] - 0s 4ms/step\n",
            ">Epoch: 6,Batch: 193/468, disc_real_loss=0.343, disc_fake_loss=0.303 gan_loss=0.000\n",
            "2/2 [==============================] - 0s 11ms/step\n",
            ">Epoch: 6,Batch: 194/468, disc_real_loss=0.209, disc_fake_loss=0.286 gan_loss=0.000\n",
            "2/2 [==============================] - 0s 13ms/step\n",
            ">Epoch: 6,Batch: 195/468, disc_real_loss=0.216, disc_fake_loss=0.277 gan_loss=0.000\n",
            "2/2 [==============================] - 0s 6ms/step\n",
            ">Epoch: 6,Batch: 196/468, disc_real_loss=0.274, disc_fake_loss=0.251 gan_loss=0.000\n",
            "2/2 [==============================] - 0s 12ms/step\n",
            ">Epoch: 6,Batch: 197/468, disc_real_loss=0.230, disc_fake_loss=0.295 gan_loss=0.000\n",
            "2/2 [==============================] - 0s 12ms/step\n",
            ">Epoch: 6,Batch: 198/468, disc_real_loss=0.305, disc_fake_loss=0.262 gan_loss=0.000\n",
            "2/2 [==============================] - 0s 14ms/step\n",
            ">Epoch: 6,Batch: 199/468, disc_real_loss=0.340, disc_fake_loss=0.292 gan_loss=0.000\n",
            "2/2 [==============================] - 0s 7ms/step\n",
            ">Epoch: 6,Batch: 200/468, disc_real_loss=0.197, disc_fake_loss=0.338 gan_loss=0.000\n",
            "2/2 [==============================] - 0s 4ms/step\n",
            ">Epoch: 6,Batch: 201/468, disc_real_loss=0.372, disc_fake_loss=0.340 gan_loss=0.000\n",
            "2/2 [==============================] - 0s 11ms/step\n",
            ">Epoch: 6,Batch: 202/468, disc_real_loss=0.288, disc_fake_loss=0.189 gan_loss=0.000\n",
            "2/2 [==============================] - 0s 4ms/step\n",
            ">Epoch: 6,Batch: 203/468, disc_real_loss=0.269, disc_fake_loss=0.270 gan_loss=0.000\n",
            "2/2 [==============================] - 0s 10ms/step\n",
            ">Epoch: 6,Batch: 204/468, disc_real_loss=0.284, disc_fake_loss=0.364 gan_loss=0.000\n",
            "2/2 [==============================] - 0s 13ms/step\n",
            ">Epoch: 6,Batch: 205/468, disc_real_loss=0.371, disc_fake_loss=0.325 gan_loss=0.000\n",
            "2/2 [==============================] - 0s 15ms/step\n",
            ">Epoch: 6,Batch: 206/468, disc_real_loss=0.323, disc_fake_loss=0.339 gan_loss=0.000\n",
            "2/2 [==============================] - 0s 6ms/step\n",
            ">Epoch: 6,Batch: 207/468, disc_real_loss=0.265, disc_fake_loss=0.307 gan_loss=0.000\n",
            "2/2 [==============================] - 0s 13ms/step\n",
            ">Epoch: 6,Batch: 208/468, disc_real_loss=0.340, disc_fake_loss=0.205 gan_loss=0.000\n",
            "2/2 [==============================] - 0s 6ms/step\n",
            ">Epoch: 6,Batch: 209/468, disc_real_loss=0.314, disc_fake_loss=0.306 gan_loss=0.000\n",
            "2/2 [==============================] - 0s 11ms/step\n",
            ">Epoch: 6,Batch: 210/468, disc_real_loss=0.287, disc_fake_loss=0.266 gan_loss=0.000\n",
            "2/2 [==============================] - 0s 4ms/step\n",
            ">Epoch: 6,Batch: 211/468, disc_real_loss=0.325, disc_fake_loss=0.294 gan_loss=0.000\n",
            "2/2 [==============================] - 0s 6ms/step\n",
            ">Epoch: 6,Batch: 212/468, disc_real_loss=0.235, disc_fake_loss=0.323 gan_loss=0.000\n",
            "2/2 [==============================] - 0s 6ms/step\n",
            ">Epoch: 6,Batch: 213/468, disc_real_loss=0.196, disc_fake_loss=0.362 gan_loss=0.000\n",
            "2/2 [==============================] - 0s 6ms/step\n",
            ">Epoch: 6,Batch: 214/468, disc_real_loss=0.296, disc_fake_loss=0.324 gan_loss=0.000\n",
            "2/2 [==============================] - 0s 11ms/step\n",
            ">Epoch: 6,Batch: 215/468, disc_real_loss=0.378, disc_fake_loss=0.217 gan_loss=0.000\n",
            "2/2 [==============================] - 0s 12ms/step\n",
            ">Epoch: 6,Batch: 216/468, disc_real_loss=0.311, disc_fake_loss=0.380 gan_loss=0.000\n",
            "2/2 [==============================] - 0s 6ms/step\n",
            ">Epoch: 6,Batch: 217/468, disc_real_loss=0.316, disc_fake_loss=0.386 gan_loss=0.000\n",
            "2/2 [==============================] - 0s 4ms/step\n",
            ">Epoch: 6,Batch: 218/468, disc_real_loss=0.244, disc_fake_loss=0.269 gan_loss=0.000\n",
            "2/2 [==============================] - 0s 10ms/step\n",
            ">Epoch: 6,Batch: 219/468, disc_real_loss=0.271, disc_fake_loss=0.166 gan_loss=0.000\n",
            "2/2 [==============================] - 0s 7ms/step\n",
            ">Epoch: 6,Batch: 220/468, disc_real_loss=0.221, disc_fake_loss=0.297 gan_loss=0.000\n",
            "2/2 [==============================] - 0s 7ms/step\n",
            ">Epoch: 6,Batch: 221/468, disc_real_loss=0.339, disc_fake_loss=0.236 gan_loss=0.000\n",
            "2/2 [==============================] - 0s 7ms/step\n",
            ">Epoch: 6,Batch: 222/468, disc_real_loss=0.207, disc_fake_loss=0.241 gan_loss=0.000\n",
            "2/2 [==============================] - 0s 13ms/step\n",
            ">Epoch: 6,Batch: 223/468, disc_real_loss=0.336, disc_fake_loss=0.388 gan_loss=0.000\n",
            "2/2 [==============================] - 0s 7ms/step\n",
            ">Epoch: 6,Batch: 224/468, disc_real_loss=0.294, disc_fake_loss=0.311 gan_loss=0.000\n",
            "2/2 [==============================] - 0s 7ms/step\n",
            ">Epoch: 6,Batch: 225/468, disc_real_loss=0.241, disc_fake_loss=0.317 gan_loss=0.000\n",
            "2/2 [==============================] - 0s 7ms/step\n",
            ">Epoch: 6,Batch: 226/468, disc_real_loss=0.290, disc_fake_loss=0.265 gan_loss=0.000\n",
            "2/2 [==============================] - 0s 11ms/step\n",
            ">Epoch: 6,Batch: 227/468, disc_real_loss=0.392, disc_fake_loss=0.309 gan_loss=0.000\n",
            "2/2 [==============================] - 0s 8ms/step\n",
            ">Epoch: 6,Batch: 228/468, disc_real_loss=0.275, disc_fake_loss=0.294 gan_loss=0.000\n",
            "2/2 [==============================] - 0s 6ms/step\n",
            ">Epoch: 6,Batch: 229/468, disc_real_loss=0.329, disc_fake_loss=0.376 gan_loss=0.000\n",
            "2/2 [==============================] - 0s 14ms/step\n",
            ">Epoch: 6,Batch: 230/468, disc_real_loss=0.254, disc_fake_loss=0.267 gan_loss=0.000\n",
            "2/2 [==============================] - 0s 6ms/step\n",
            ">Epoch: 6,Batch: 231/468, disc_real_loss=0.361, disc_fake_loss=0.256 gan_loss=0.000\n",
            "2/2 [==============================] - 0s 11ms/step\n",
            ">Epoch: 6,Batch: 232/468, disc_real_loss=0.259, disc_fake_loss=0.292 gan_loss=0.000\n",
            "2/2 [==============================] - 0s 9ms/step\n",
            ">Epoch: 6,Batch: 233/468, disc_real_loss=0.250, disc_fake_loss=0.402 gan_loss=0.000\n",
            "2/2 [==============================] - 0s 4ms/step\n",
            ">Epoch: 6,Batch: 234/468, disc_real_loss=0.330, disc_fake_loss=0.219 gan_loss=0.000\n",
            "2/2 [==============================] - 0s 13ms/step\n",
            ">Epoch: 6,Batch: 235/468, disc_real_loss=0.253, disc_fake_loss=0.292 gan_loss=0.000\n",
            "2/2 [==============================] - 0s 11ms/step\n",
            ">Epoch: 6,Batch: 236/468, disc_real_loss=0.333, disc_fake_loss=0.371 gan_loss=0.000\n",
            "2/2 [==============================] - 0s 11ms/step\n",
            ">Epoch: 6,Batch: 237/468, disc_real_loss=0.311, disc_fake_loss=0.370 gan_loss=0.000\n",
            "2/2 [==============================] - 0s 4ms/step\n",
            ">Epoch: 6,Batch: 238/468, disc_real_loss=0.231, disc_fake_loss=0.284 gan_loss=0.000\n",
            "2/2 [==============================] - 0s 12ms/step\n",
            ">Epoch: 6,Batch: 239/468, disc_real_loss=0.364, disc_fake_loss=0.230 gan_loss=0.000\n",
            "2/2 [==============================] - 0s 6ms/step\n",
            ">Epoch: 6,Batch: 240/468, disc_real_loss=0.276, disc_fake_loss=0.283 gan_loss=0.000\n",
            "2/2 [==============================] - 0s 4ms/step\n",
            ">Epoch: 6,Batch: 241/468, disc_real_loss=0.274, disc_fake_loss=0.240 gan_loss=0.000\n",
            "2/2 [==============================] - 0s 5ms/step\n",
            ">Epoch: 6,Batch: 242/468, disc_real_loss=0.282, disc_fake_loss=0.210 gan_loss=0.000\n",
            "2/2 [==============================] - 0s 7ms/step\n",
            ">Epoch: 6,Batch: 243/468, disc_real_loss=0.222, disc_fake_loss=0.233 gan_loss=0.000\n",
            "2/2 [==============================] - 0s 14ms/step\n",
            ">Epoch: 6,Batch: 244/468, disc_real_loss=0.242, disc_fake_loss=0.309 gan_loss=0.000\n",
            "2/2 [==============================] - 0s 6ms/step\n",
            ">Epoch: 6,Batch: 245/468, disc_real_loss=0.324, disc_fake_loss=0.284 gan_loss=0.000\n",
            "2/2 [==============================] - 0s 13ms/step\n",
            ">Epoch: 6,Batch: 246/468, disc_real_loss=0.240, disc_fake_loss=0.304 gan_loss=0.000\n",
            "2/2 [==============================] - 0s 6ms/step\n",
            ">Epoch: 6,Batch: 247/468, disc_real_loss=0.291, disc_fake_loss=0.348 gan_loss=0.000\n",
            "2/2 [==============================] - 0s 4ms/step\n",
            ">Epoch: 6,Batch: 248/468, disc_real_loss=0.231, disc_fake_loss=0.228 gan_loss=0.000\n",
            "2/2 [==============================] - 0s 10ms/step\n",
            ">Epoch: 6,Batch: 249/468, disc_real_loss=0.378, disc_fake_loss=0.211 gan_loss=0.000\n",
            "2/2 [==============================] - 0s 9ms/step\n",
            ">Epoch: 6,Batch: 250/468, disc_real_loss=0.149, disc_fake_loss=0.256 gan_loss=0.000\n",
            "2/2 [==============================] - 0s 8ms/step\n",
            ">Epoch: 6,Batch: 251/468, disc_real_loss=0.337, disc_fake_loss=0.309 gan_loss=0.000\n",
            "2/2 [==============================] - 0s 9ms/step\n",
            ">Epoch: 6,Batch: 252/468, disc_real_loss=0.295, disc_fake_loss=0.257 gan_loss=0.000\n",
            "2/2 [==============================] - 0s 7ms/step\n",
            ">Epoch: 6,Batch: 253/468, disc_real_loss=0.325, disc_fake_loss=0.251 gan_loss=0.000\n",
            "2/2 [==============================] - 0s 9ms/step\n",
            ">Epoch: 6,Batch: 254/468, disc_real_loss=0.269, disc_fake_loss=0.409 gan_loss=0.000\n",
            "2/2 [==============================] - 0s 6ms/step\n",
            ">Epoch: 6,Batch: 255/468, disc_real_loss=0.313, disc_fake_loss=0.273 gan_loss=0.000\n",
            "2/2 [==============================] - 0s 7ms/step\n",
            ">Epoch: 6,Batch: 256/468, disc_real_loss=0.253, disc_fake_loss=0.281 gan_loss=0.000\n",
            "2/2 [==============================] - 0s 7ms/step\n",
            ">Epoch: 6,Batch: 257/468, disc_real_loss=0.351, disc_fake_loss=0.301 gan_loss=0.000\n",
            "2/2 [==============================] - 0s 14ms/step\n",
            ">Epoch: 6,Batch: 258/468, disc_real_loss=0.276, disc_fake_loss=0.272 gan_loss=0.000\n",
            "2/2 [==============================] - 0s 12ms/step\n",
            ">Epoch: 6,Batch: 259/468, disc_real_loss=0.381, disc_fake_loss=0.306 gan_loss=0.000\n",
            "2/2 [==============================] - 0s 5ms/step\n",
            ">Epoch: 6,Batch: 260/468, disc_real_loss=0.210, disc_fake_loss=0.315 gan_loss=0.000\n",
            "2/2 [==============================] - 0s 6ms/step\n",
            ">Epoch: 6,Batch: 261/468, disc_real_loss=0.334, disc_fake_loss=0.253 gan_loss=0.000\n",
            "2/2 [==============================] - 0s 7ms/step\n",
            ">Epoch: 6,Batch: 262/468, disc_real_loss=0.311, disc_fake_loss=0.362 gan_loss=0.000\n",
            "2/2 [==============================] - 0s 12ms/step\n",
            ">Epoch: 6,Batch: 263/468, disc_real_loss=0.247, disc_fake_loss=0.206 gan_loss=0.000\n",
            "2/2 [==============================] - 0s 11ms/step\n",
            ">Epoch: 6,Batch: 264/468, disc_real_loss=0.321, disc_fake_loss=0.226 gan_loss=0.000\n",
            "2/2 [==============================] - 0s 13ms/step\n",
            ">Epoch: 6,Batch: 265/468, disc_real_loss=0.220, disc_fake_loss=0.290 gan_loss=0.000\n",
            "2/2 [==============================] - 0s 6ms/step\n",
            ">Epoch: 6,Batch: 266/468, disc_real_loss=0.367, disc_fake_loss=0.260 gan_loss=0.000\n",
            "2/2 [==============================] - 0s 7ms/step\n",
            ">Epoch: 6,Batch: 267/468, disc_real_loss=0.252, disc_fake_loss=0.318 gan_loss=0.000\n",
            "2/2 [==============================] - 0s 11ms/step\n",
            ">Epoch: 6,Batch: 268/468, disc_real_loss=0.245, disc_fake_loss=0.347 gan_loss=0.000\n",
            "2/2 [==============================] - 0s 11ms/step\n",
            ">Epoch: 6,Batch: 269/468, disc_real_loss=0.267, disc_fake_loss=0.277 gan_loss=0.000\n",
            "2/2 [==============================] - 0s 5ms/step\n",
            ">Epoch: 6,Batch: 270/468, disc_real_loss=0.264, disc_fake_loss=0.268 gan_loss=0.000\n",
            "2/2 [==============================] - 0s 13ms/step\n",
            ">Epoch: 6,Batch: 271/468, disc_real_loss=0.277, disc_fake_loss=0.338 gan_loss=0.000\n",
            "2/2 [==============================] - 0s 8ms/step\n",
            ">Epoch: 6,Batch: 272/468, disc_real_loss=0.305, disc_fake_loss=0.224 gan_loss=0.000\n",
            "2/2 [==============================] - 0s 10ms/step\n",
            ">Epoch: 6,Batch: 273/468, disc_real_loss=0.332, disc_fake_loss=0.359 gan_loss=0.000\n",
            "2/2 [==============================] - 0s 11ms/step\n",
            ">Epoch: 6,Batch: 274/468, disc_real_loss=0.304, disc_fake_loss=0.284 gan_loss=0.000\n",
            "2/2 [==============================] - 0s 6ms/step\n",
            ">Epoch: 6,Batch: 275/468, disc_real_loss=0.320, disc_fake_loss=0.296 gan_loss=0.000\n",
            "2/2 [==============================] - 0s 5ms/step\n",
            ">Epoch: 6,Batch: 276/468, disc_real_loss=0.231, disc_fake_loss=0.260 gan_loss=0.000\n",
            "2/2 [==============================] - 0s 17ms/step\n",
            ">Epoch: 6,Batch: 277/468, disc_real_loss=0.259, disc_fake_loss=0.282 gan_loss=0.000\n",
            "2/2 [==============================] - 0s 10ms/step\n",
            ">Epoch: 6,Batch: 278/468, disc_real_loss=0.350, disc_fake_loss=0.274 gan_loss=0.000\n",
            "2/2 [==============================] - 0s 9ms/step\n",
            ">Epoch: 6,Batch: 279/468, disc_real_loss=0.239, disc_fake_loss=0.382 gan_loss=0.000\n",
            "2/2 [==============================] - 0s 10ms/step\n",
            ">Epoch: 6,Batch: 280/468, disc_real_loss=0.332, disc_fake_loss=0.292 gan_loss=0.000\n",
            "2/2 [==============================] - 0s 9ms/step\n",
            ">Epoch: 6,Batch: 281/468, disc_real_loss=0.285, disc_fake_loss=0.191 gan_loss=0.000\n",
            "2/2 [==============================] - 0s 9ms/step\n",
            ">Epoch: 6,Batch: 282/468, disc_real_loss=0.271, disc_fake_loss=0.365 gan_loss=0.000\n",
            "2/2 [==============================] - 0s 7ms/step\n",
            ">Epoch: 6,Batch: 283/468, disc_real_loss=0.221, disc_fake_loss=0.348 gan_loss=0.000\n",
            "2/2 [==============================] - 0s 15ms/step\n",
            ">Epoch: 6,Batch: 284/468, disc_real_loss=0.336, disc_fake_loss=0.245 gan_loss=0.000\n",
            "2/2 [==============================] - 0s 6ms/step\n",
            ">Epoch: 6,Batch: 285/468, disc_real_loss=0.263, disc_fake_loss=0.272 gan_loss=0.000\n",
            "2/2 [==============================] - 0s 11ms/step\n",
            ">Epoch: 6,Batch: 286/468, disc_real_loss=0.189, disc_fake_loss=0.202 gan_loss=0.000\n",
            "2/2 [==============================] - 0s 4ms/step\n",
            ">Epoch: 6,Batch: 287/468, disc_real_loss=0.315, disc_fake_loss=0.271 gan_loss=0.000\n",
            "2/2 [==============================] - 0s 11ms/step\n",
            ">Epoch: 6,Batch: 288/468, disc_real_loss=0.258, disc_fake_loss=0.274 gan_loss=0.000\n",
            "2/2 [==============================] - 0s 9ms/step\n",
            ">Epoch: 6,Batch: 289/468, disc_real_loss=0.284, disc_fake_loss=0.392 gan_loss=0.000\n",
            "2/2 [==============================] - 0s 8ms/step\n",
            ">Epoch: 6,Batch: 290/468, disc_real_loss=0.289, disc_fake_loss=0.332 gan_loss=0.000\n",
            "2/2 [==============================] - 0s 12ms/step\n",
            ">Epoch: 6,Batch: 291/468, disc_real_loss=0.264, disc_fake_loss=0.274 gan_loss=0.000\n",
            "2/2 [==============================] - 0s 4ms/step\n",
            ">Epoch: 6,Batch: 292/468, disc_real_loss=0.358, disc_fake_loss=0.325 gan_loss=0.000\n",
            "2/2 [==============================] - 0s 4ms/step\n",
            ">Epoch: 6,Batch: 293/468, disc_real_loss=0.277, disc_fake_loss=0.259 gan_loss=0.000\n",
            "2/2 [==============================] - 0s 4ms/step\n",
            ">Epoch: 6,Batch: 294/468, disc_real_loss=0.288, disc_fake_loss=0.322 gan_loss=0.000\n",
            "2/2 [==============================] - 0s 7ms/step\n",
            ">Epoch: 6,Batch: 295/468, disc_real_loss=0.343, disc_fake_loss=0.313 gan_loss=0.000\n",
            "2/2 [==============================] - 0s 9ms/step\n",
            ">Epoch: 6,Batch: 296/468, disc_real_loss=0.266, disc_fake_loss=0.311 gan_loss=0.000\n",
            "2/2 [==============================] - 0s 9ms/step\n",
            ">Epoch: 6,Batch: 297/468, disc_real_loss=0.272, disc_fake_loss=0.232 gan_loss=0.000\n",
            "2/2 [==============================] - 0s 15ms/step\n",
            ">Epoch: 6,Batch: 298/468, disc_real_loss=0.283, disc_fake_loss=0.220 gan_loss=0.000\n",
            "2/2 [==============================] - 0s 6ms/step\n",
            ">Epoch: 6,Batch: 299/468, disc_real_loss=0.187, disc_fake_loss=0.383 gan_loss=0.000\n",
            "2/2 [==============================] - 0s 12ms/step\n",
            ">Epoch: 6,Batch: 300/468, disc_real_loss=0.321, disc_fake_loss=0.287 gan_loss=0.000\n",
            "2/2 [==============================] - 0s 5ms/step\n",
            ">Epoch: 6,Batch: 301/468, disc_real_loss=0.291, disc_fake_loss=0.284 gan_loss=0.000\n",
            "2/2 [==============================] - 0s 6ms/step\n",
            ">Epoch: 6,Batch: 302/468, disc_real_loss=0.296, disc_fake_loss=0.238 gan_loss=0.000\n",
            "2/2 [==============================] - 0s 6ms/step\n",
            ">Epoch: 6,Batch: 303/468, disc_real_loss=0.212, disc_fake_loss=0.403 gan_loss=0.000\n",
            "2/2 [==============================] - 0s 4ms/step\n",
            ">Epoch: 6,Batch: 304/468, disc_real_loss=0.228, disc_fake_loss=0.273 gan_loss=0.000\n",
            "2/2 [==============================] - 0s 8ms/step\n",
            ">Epoch: 6,Batch: 305/468, disc_real_loss=0.353, disc_fake_loss=0.287 gan_loss=0.000\n",
            "2/2 [==============================] - 0s 6ms/step\n",
            ">Epoch: 6,Batch: 306/468, disc_real_loss=0.407, disc_fake_loss=0.318 gan_loss=0.000\n",
            "2/2 [==============================] - 0s 8ms/step\n",
            ">Epoch: 6,Batch: 307/468, disc_real_loss=0.254, disc_fake_loss=0.331 gan_loss=0.000\n",
            "2/2 [==============================] - 0s 9ms/step\n",
            ">Epoch: 6,Batch: 308/468, disc_real_loss=0.361, disc_fake_loss=0.330 gan_loss=0.000\n",
            "2/2 [==============================] - 0s 5ms/step\n",
            ">Epoch: 6,Batch: 309/468, disc_real_loss=0.352, disc_fake_loss=0.237 gan_loss=0.000\n",
            "2/2 [==============================] - 0s 5ms/step\n",
            ">Epoch: 6,Batch: 310/468, disc_real_loss=0.362, disc_fake_loss=0.390 gan_loss=0.000\n",
            "2/2 [==============================] - 0s 5ms/step\n",
            ">Epoch: 6,Batch: 311/468, disc_real_loss=0.251, disc_fake_loss=0.270 gan_loss=0.000\n",
            "2/2 [==============================] - 0s 8ms/step\n",
            ">Epoch: 6,Batch: 312/468, disc_real_loss=0.200, disc_fake_loss=0.226 gan_loss=0.000\n",
            "2/2 [==============================] - 0s 6ms/step\n",
            ">Epoch: 6,Batch: 313/468, disc_real_loss=0.344, disc_fake_loss=0.229 gan_loss=0.000\n",
            "2/2 [==============================] - 0s 5ms/step\n",
            ">Epoch: 6,Batch: 314/468, disc_real_loss=0.260, disc_fake_loss=0.358 gan_loss=0.000\n",
            "2/2 [==============================] - 0s 11ms/step\n",
            ">Epoch: 6,Batch: 315/468, disc_real_loss=0.261, disc_fake_loss=0.289 gan_loss=0.000\n",
            "2/2 [==============================] - 0s 4ms/step\n",
            ">Epoch: 6,Batch: 316/468, disc_real_loss=0.259, disc_fake_loss=0.235 gan_loss=0.000\n",
            "2/2 [==============================] - 0s 10ms/step\n",
            ">Epoch: 6,Batch: 317/468, disc_real_loss=0.307, disc_fake_loss=0.332 gan_loss=0.000\n",
            "2/2 [==============================] - 0s 7ms/step\n",
            ">Epoch: 6,Batch: 318/468, disc_real_loss=0.225, disc_fake_loss=0.283 gan_loss=0.000\n",
            "2/2 [==============================] - 0s 4ms/step\n",
            ">Epoch: 6,Batch: 319/468, disc_real_loss=0.346, disc_fake_loss=0.319 gan_loss=0.000\n",
            "2/2 [==============================] - 0s 4ms/step\n",
            ">Epoch: 6,Batch: 320/468, disc_real_loss=0.241, disc_fake_loss=0.322 gan_loss=0.000\n",
            "2/2 [==============================] - 0s 8ms/step\n",
            ">Epoch: 6,Batch: 321/468, disc_real_loss=0.332, disc_fake_loss=0.361 gan_loss=0.000\n",
            "2/2 [==============================] - 0s 9ms/step\n",
            ">Epoch: 6,Batch: 322/468, disc_real_loss=0.299, disc_fake_loss=0.304 gan_loss=0.000\n",
            "2/2 [==============================] - 0s 10ms/step\n",
            ">Epoch: 6,Batch: 323/468, disc_real_loss=0.247, disc_fake_loss=0.267 gan_loss=0.000\n",
            "2/2 [==============================] - 0s 6ms/step\n",
            ">Epoch: 6,Batch: 324/468, disc_real_loss=0.300, disc_fake_loss=0.280 gan_loss=0.000\n",
            "2/2 [==============================] - 0s 10ms/step\n",
            ">Epoch: 6,Batch: 325/468, disc_real_loss=0.217, disc_fake_loss=0.252 gan_loss=0.000\n",
            "2/2 [==============================] - 0s 11ms/step\n",
            ">Epoch: 6,Batch: 326/468, disc_real_loss=0.295, disc_fake_loss=0.304 gan_loss=0.000\n",
            "2/2 [==============================] - 0s 4ms/step\n",
            ">Epoch: 6,Batch: 327/468, disc_real_loss=0.317, disc_fake_loss=0.292 gan_loss=0.000\n",
            "2/2 [==============================] - 0s 5ms/step\n",
            ">Epoch: 6,Batch: 328/468, disc_real_loss=0.209, disc_fake_loss=0.258 gan_loss=0.000\n",
            "2/2 [==============================] - 0s 5ms/step\n",
            ">Epoch: 6,Batch: 329/468, disc_real_loss=0.320, disc_fake_loss=0.261 gan_loss=0.000\n",
            "2/2 [==============================] - 0s 9ms/step\n",
            ">Epoch: 6,Batch: 330/468, disc_real_loss=0.208, disc_fake_loss=0.344 gan_loss=0.000\n",
            "2/2 [==============================] - 0s 9ms/step\n",
            ">Epoch: 6,Batch: 331/468, disc_real_loss=0.313, disc_fake_loss=0.328 gan_loss=0.000\n",
            "2/2 [==============================] - 0s 10ms/step\n",
            ">Epoch: 6,Batch: 332/468, disc_real_loss=0.290, disc_fake_loss=0.279 gan_loss=0.000\n",
            "2/2 [==============================] - 0s 14ms/step\n",
            ">Epoch: 6,Batch: 333/468, disc_real_loss=0.322, disc_fake_loss=0.235 gan_loss=0.000\n",
            "2/2 [==============================] - 0s 8ms/step\n",
            ">Epoch: 6,Batch: 334/468, disc_real_loss=0.260, disc_fake_loss=0.306 gan_loss=0.000\n",
            "2/2 [==============================] - 0s 11ms/step\n",
            ">Epoch: 6,Batch: 335/468, disc_real_loss=0.321, disc_fake_loss=0.287 gan_loss=0.000\n",
            "2/2 [==============================] - 0s 13ms/step\n",
            ">Epoch: 6,Batch: 336/468, disc_real_loss=0.177, disc_fake_loss=0.193 gan_loss=0.000\n",
            "2/2 [==============================] - 0s 6ms/step\n",
            ">Epoch: 6,Batch: 337/468, disc_real_loss=0.200, disc_fake_loss=0.231 gan_loss=0.000\n",
            "2/2 [==============================] - 0s 6ms/step\n",
            ">Epoch: 6,Batch: 338/468, disc_real_loss=0.346, disc_fake_loss=0.294 gan_loss=0.000\n",
            "2/2 [==============================] - 0s 9ms/step\n",
            ">Epoch: 6,Batch: 339/468, disc_real_loss=0.225, disc_fake_loss=0.266 gan_loss=0.000\n",
            "2/2 [==============================] - 0s 9ms/step\n",
            ">Epoch: 6,Batch: 340/468, disc_real_loss=0.162, disc_fake_loss=0.224 gan_loss=0.000\n",
            "2/2 [==============================] - 0s 12ms/step\n",
            ">Epoch: 6,Batch: 341/468, disc_real_loss=0.316, disc_fake_loss=0.294 gan_loss=0.000\n",
            "2/2 [==============================] - 0s 6ms/step\n",
            ">Epoch: 6,Batch: 342/468, disc_real_loss=0.387, disc_fake_loss=0.200 gan_loss=0.000\n",
            "2/2 [==============================] - 0s 4ms/step\n",
            ">Epoch: 6,Batch: 343/468, disc_real_loss=0.196, disc_fake_loss=0.315 gan_loss=0.000\n",
            "2/2 [==============================] - 0s 9ms/step\n",
            ">Epoch: 6,Batch: 344/468, disc_real_loss=0.281, disc_fake_loss=0.300 gan_loss=0.000\n",
            "2/2 [==============================] - 0s 5ms/step\n",
            ">Epoch: 6,Batch: 345/468, disc_real_loss=0.255, disc_fake_loss=0.314 gan_loss=0.000\n",
            "2/2 [==============================] - 0s 13ms/step\n",
            ">Epoch: 6,Batch: 346/468, disc_real_loss=0.296, disc_fake_loss=0.289 gan_loss=0.000\n",
            "2/2 [==============================] - 0s 11ms/step\n",
            ">Epoch: 6,Batch: 347/468, disc_real_loss=0.271, disc_fake_loss=0.353 gan_loss=0.000\n",
            "2/2 [==============================] - 0s 11ms/step\n",
            ">Epoch: 6,Batch: 348/468, disc_real_loss=0.271, disc_fake_loss=0.317 gan_loss=0.000\n",
            "2/2 [==============================] - 0s 6ms/step\n",
            ">Epoch: 6,Batch: 349/468, disc_real_loss=0.295, disc_fake_loss=0.243 gan_loss=0.000\n",
            "2/2 [==============================] - 0s 9ms/step\n",
            ">Epoch: 6,Batch: 350/468, disc_real_loss=0.232, disc_fake_loss=0.242 gan_loss=0.000\n",
            "2/2 [==============================] - 0s 6ms/step\n",
            ">Epoch: 6,Batch: 351/468, disc_real_loss=0.304, disc_fake_loss=0.303 gan_loss=0.000\n",
            "2/2 [==============================] - 0s 10ms/step\n",
            ">Epoch: 6,Batch: 352/468, disc_real_loss=0.224, disc_fake_loss=0.225 gan_loss=0.000\n",
            "2/2 [==============================] - 0s 13ms/step\n",
            ">Epoch: 6,Batch: 353/468, disc_real_loss=0.162, disc_fake_loss=0.342 gan_loss=0.000\n",
            "2/2 [==============================] - 0s 4ms/step\n",
            ">Epoch: 6,Batch: 354/468, disc_real_loss=0.281, disc_fake_loss=0.374 gan_loss=0.000\n",
            "2/2 [==============================] - 0s 7ms/step\n",
            ">Epoch: 6,Batch: 355/468, disc_real_loss=0.254, disc_fake_loss=0.177 gan_loss=0.000\n",
            "2/2 [==============================] - 0s 10ms/step\n",
            ">Epoch: 6,Batch: 356/468, disc_real_loss=0.452, disc_fake_loss=0.358 gan_loss=0.000\n",
            "2/2 [==============================] - 0s 6ms/step\n",
            ">Epoch: 6,Batch: 357/468, disc_real_loss=0.283, disc_fake_loss=0.272 gan_loss=0.000\n",
            "2/2 [==============================] - 0s 4ms/step\n",
            ">Epoch: 6,Batch: 358/468, disc_real_loss=0.236, disc_fake_loss=0.316 gan_loss=0.000\n",
            "2/2 [==============================] - 0s 4ms/step\n",
            ">Epoch: 6,Batch: 359/468, disc_real_loss=0.244, disc_fake_loss=0.299 gan_loss=0.000\n",
            "2/2 [==============================] - 0s 6ms/step\n",
            ">Epoch: 6,Batch: 360/468, disc_real_loss=0.300, disc_fake_loss=0.290 gan_loss=0.000\n",
            "2/2 [==============================] - 0s 13ms/step\n",
            ">Epoch: 6,Batch: 361/468, disc_real_loss=0.330, disc_fake_loss=0.222 gan_loss=0.000\n",
            "2/2 [==============================] - 0s 20ms/step\n",
            ">Epoch: 6,Batch: 362/468, disc_real_loss=0.204, disc_fake_loss=0.304 gan_loss=0.000\n",
            "2/2 [==============================] - 0s 13ms/step\n",
            ">Epoch: 6,Batch: 363/468, disc_real_loss=0.266, disc_fake_loss=0.258 gan_loss=0.000\n",
            "2/2 [==============================] - 0s 11ms/step\n",
            ">Epoch: 6,Batch: 364/468, disc_real_loss=0.238, disc_fake_loss=0.160 gan_loss=0.000\n",
            "2/2 [==============================] - 0s 8ms/step\n",
            ">Epoch: 6,Batch: 365/468, disc_real_loss=0.199, disc_fake_loss=0.270 gan_loss=0.000\n",
            "2/2 [==============================] - 0s 12ms/step\n",
            ">Epoch: 6,Batch: 366/468, disc_real_loss=0.329, disc_fake_loss=0.290 gan_loss=0.000\n",
            "2/2 [==============================] - 0s 11ms/step\n",
            ">Epoch: 6,Batch: 367/468, disc_real_loss=0.306, disc_fake_loss=0.266 gan_loss=0.000\n",
            "2/2 [==============================] - 0s 14ms/step\n",
            ">Epoch: 6,Batch: 368/468, disc_real_loss=0.313, disc_fake_loss=0.309 gan_loss=0.000\n",
            "2/2 [==============================] - 0s 6ms/step\n",
            ">Epoch: 6,Batch: 369/468, disc_real_loss=0.202, disc_fake_loss=0.355 gan_loss=0.000\n",
            "2/2 [==============================] - 0s 8ms/step\n",
            ">Epoch: 6,Batch: 370/468, disc_real_loss=0.297, disc_fake_loss=0.361 gan_loss=0.000\n",
            "2/2 [==============================] - 0s 5ms/step\n",
            ">Epoch: 6,Batch: 371/468, disc_real_loss=0.265, disc_fake_loss=0.251 gan_loss=0.000\n",
            "2/2 [==============================] - 0s 8ms/step\n",
            ">Epoch: 6,Batch: 372/468, disc_real_loss=0.314, disc_fake_loss=0.273 gan_loss=0.000\n",
            "2/2 [==============================] - 0s 9ms/step\n",
            ">Epoch: 6,Batch: 373/468, disc_real_loss=0.296, disc_fake_loss=0.299 gan_loss=0.000\n",
            "2/2 [==============================] - 0s 8ms/step\n",
            ">Epoch: 6,Batch: 374/468, disc_real_loss=0.263, disc_fake_loss=0.269 gan_loss=0.000\n",
            "2/2 [==============================] - 0s 6ms/step\n",
            ">Epoch: 6,Batch: 375/468, disc_real_loss=0.249, disc_fake_loss=0.240 gan_loss=0.000\n",
            "2/2 [==============================] - 0s 6ms/step\n",
            ">Epoch: 6,Batch: 376/468, disc_real_loss=0.206, disc_fake_loss=0.302 gan_loss=0.000\n",
            "2/2 [==============================] - 0s 5ms/step\n",
            ">Epoch: 6,Batch: 377/468, disc_real_loss=0.353, disc_fake_loss=0.298 gan_loss=0.000\n",
            "2/2 [==============================] - 0s 9ms/step\n",
            ">Epoch: 6,Batch: 378/468, disc_real_loss=0.326, disc_fake_loss=0.273 gan_loss=0.000\n",
            "2/2 [==============================] - 0s 5ms/step\n",
            ">Epoch: 6,Batch: 379/468, disc_real_loss=0.252, disc_fake_loss=0.242 gan_loss=0.000\n",
            "2/2 [==============================] - 0s 5ms/step\n",
            ">Epoch: 6,Batch: 380/468, disc_real_loss=0.259, disc_fake_loss=0.270 gan_loss=0.000\n",
            "2/2 [==============================] - 0s 15ms/step\n",
            ">Epoch: 6,Batch: 381/468, disc_real_loss=0.231, disc_fake_loss=0.435 gan_loss=0.000\n",
            "2/2 [==============================] - 0s 13ms/step\n",
            ">Epoch: 6,Batch: 382/468, disc_real_loss=0.249, disc_fake_loss=0.243 gan_loss=0.000\n",
            "2/2 [==============================] - 0s 6ms/step\n",
            ">Epoch: 6,Batch: 383/468, disc_real_loss=0.399, disc_fake_loss=0.212 gan_loss=0.000\n",
            "2/2 [==============================] - 0s 8ms/step\n",
            ">Epoch: 6,Batch: 384/468, disc_real_loss=0.247, disc_fake_loss=0.242 gan_loss=0.000\n",
            "2/2 [==============================] - 0s 13ms/step\n",
            ">Epoch: 6,Batch: 385/468, disc_real_loss=0.252, disc_fake_loss=0.351 gan_loss=0.000\n",
            "2/2 [==============================] - 0s 4ms/step\n",
            ">Epoch: 6,Batch: 386/468, disc_real_loss=0.283, disc_fake_loss=0.289 gan_loss=0.000\n",
            "2/2 [==============================] - 0s 5ms/step\n",
            ">Epoch: 6,Batch: 387/468, disc_real_loss=0.402, disc_fake_loss=0.318 gan_loss=0.000\n",
            "2/2 [==============================] - 0s 5ms/step\n",
            ">Epoch: 6,Batch: 388/468, disc_real_loss=0.288, disc_fake_loss=0.306 gan_loss=0.000\n",
            "2/2 [==============================] - 0s 7ms/step\n",
            ">Epoch: 6,Batch: 389/468, disc_real_loss=0.338, disc_fake_loss=0.308 gan_loss=0.000\n",
            "2/2 [==============================] - 0s 7ms/step\n",
            ">Epoch: 6,Batch: 390/468, disc_real_loss=0.212, disc_fake_loss=0.272 gan_loss=0.000\n",
            "2/2 [==============================] - 0s 12ms/step\n",
            ">Epoch: 6,Batch: 391/468, disc_real_loss=0.323, disc_fake_loss=0.251 gan_loss=0.000\n",
            "2/2 [==============================] - 0s 9ms/step\n",
            ">Epoch: 6,Batch: 392/468, disc_real_loss=0.242, disc_fake_loss=0.282 gan_loss=0.000\n",
            "2/2 [==============================] - 0s 7ms/step\n",
            ">Epoch: 6,Batch: 393/468, disc_real_loss=0.249, disc_fake_loss=0.303 gan_loss=0.000\n",
            "2/2 [==============================] - 0s 7ms/step\n",
            ">Epoch: 6,Batch: 394/468, disc_real_loss=0.354, disc_fake_loss=0.285 gan_loss=0.000\n",
            "2/2 [==============================] - 0s 8ms/step\n",
            ">Epoch: 6,Batch: 395/468, disc_real_loss=0.239, disc_fake_loss=0.242 gan_loss=0.000\n",
            "2/2 [==============================] - 0s 7ms/step\n",
            ">Epoch: 6,Batch: 396/468, disc_real_loss=0.275, disc_fake_loss=0.331 gan_loss=0.000\n",
            "2/2 [==============================] - 0s 5ms/step\n",
            ">Epoch: 6,Batch: 397/468, disc_real_loss=0.264, disc_fake_loss=0.269 gan_loss=0.000\n",
            "2/2 [==============================] - 0s 7ms/step\n",
            ">Epoch: 6,Batch: 398/468, disc_real_loss=0.326, disc_fake_loss=0.294 gan_loss=0.000\n",
            "2/2 [==============================] - 0s 4ms/step\n",
            ">Epoch: 6,Batch: 399/468, disc_real_loss=0.257, disc_fake_loss=0.348 gan_loss=0.000\n",
            "2/2 [==============================] - 0s 5ms/step\n",
            ">Epoch: 6,Batch: 400/468, disc_real_loss=0.362, disc_fake_loss=0.261 gan_loss=0.000\n",
            "2/2 [==============================] - 0s 7ms/step\n",
            ">Epoch: 6,Batch: 401/468, disc_real_loss=0.343, disc_fake_loss=0.375 gan_loss=0.000\n",
            "2/2 [==============================] - 0s 6ms/step\n",
            ">Epoch: 6,Batch: 402/468, disc_real_loss=0.233, disc_fake_loss=0.237 gan_loss=0.000\n",
            "2/2 [==============================] - 0s 6ms/step\n",
            ">Epoch: 6,Batch: 403/468, disc_real_loss=0.228, disc_fake_loss=0.251 gan_loss=0.000\n",
            "2/2 [==============================] - 0s 5ms/step\n",
            ">Epoch: 6,Batch: 404/468, disc_real_loss=0.265, disc_fake_loss=0.388 gan_loss=0.000\n",
            "2/2 [==============================] - 0s 9ms/step\n",
            ">Epoch: 6,Batch: 405/468, disc_real_loss=0.282, disc_fake_loss=0.212 gan_loss=0.000\n",
            "2/2 [==============================] - 0s 7ms/step\n",
            ">Epoch: 6,Batch: 406/468, disc_real_loss=0.289, disc_fake_loss=0.233 gan_loss=0.000\n",
            "2/2 [==============================] - 0s 10ms/step\n",
            ">Epoch: 6,Batch: 407/468, disc_real_loss=0.326, disc_fake_loss=0.262 gan_loss=0.000\n",
            "2/2 [==============================] - 0s 8ms/step\n",
            ">Epoch: 6,Batch: 408/468, disc_real_loss=0.191, disc_fake_loss=0.311 gan_loss=0.000\n",
            "2/2 [==============================] - 0s 5ms/step\n",
            ">Epoch: 6,Batch: 409/468, disc_real_loss=0.245, disc_fake_loss=0.270 gan_loss=0.000\n",
            "2/2 [==============================] - 0s 11ms/step\n",
            ">Epoch: 6,Batch: 410/468, disc_real_loss=0.238, disc_fake_loss=0.251 gan_loss=0.000\n",
            "2/2 [==============================] - 0s 10ms/step\n",
            ">Epoch: 6,Batch: 411/468, disc_real_loss=0.291, disc_fake_loss=0.326 gan_loss=0.000\n",
            "2/2 [==============================] - 0s 4ms/step\n",
            ">Epoch: 6,Batch: 412/468, disc_real_loss=0.332, disc_fake_loss=0.184 gan_loss=0.000\n",
            "2/2 [==============================] - 0s 11ms/step\n",
            ">Epoch: 6,Batch: 413/468, disc_real_loss=0.289, disc_fake_loss=0.290 gan_loss=0.000\n",
            "2/2 [==============================] - 0s 12ms/step\n",
            ">Epoch: 6,Batch: 414/468, disc_real_loss=0.179, disc_fake_loss=0.224 gan_loss=0.000\n",
            "2/2 [==============================] - 0s 4ms/step\n",
            ">Epoch: 6,Batch: 415/468, disc_real_loss=0.225, disc_fake_loss=0.264 gan_loss=0.000\n",
            "2/2 [==============================] - 0s 5ms/step\n",
            ">Epoch: 6,Batch: 416/468, disc_real_loss=0.262, disc_fake_loss=0.246 gan_loss=0.000\n",
            "2/2 [==============================] - 0s 5ms/step\n",
            ">Epoch: 6,Batch: 417/468, disc_real_loss=0.190, disc_fake_loss=0.224 gan_loss=0.000\n",
            "2/2 [==============================] - 0s 7ms/step\n",
            ">Epoch: 6,Batch: 418/468, disc_real_loss=0.345, disc_fake_loss=0.230 gan_loss=0.000\n",
            "2/2 [==============================] - 0s 12ms/step\n",
            ">Epoch: 6,Batch: 419/468, disc_real_loss=0.200, disc_fake_loss=0.238 gan_loss=0.000\n",
            "2/2 [==============================] - 0s 15ms/step\n",
            ">Epoch: 6,Batch: 420/468, disc_real_loss=0.215, disc_fake_loss=0.343 gan_loss=0.000\n",
            "2/2 [==============================] - 0s 5ms/step\n",
            ">Epoch: 6,Batch: 421/468, disc_real_loss=0.255, disc_fake_loss=0.313 gan_loss=0.000\n",
            "2/2 [==============================] - 0s 7ms/step\n",
            ">Epoch: 6,Batch: 422/468, disc_real_loss=0.439, disc_fake_loss=0.367 gan_loss=0.000\n",
            "2/2 [==============================] - 0s 4ms/step\n",
            ">Epoch: 6,Batch: 423/468, disc_real_loss=0.479, disc_fake_loss=0.208 gan_loss=0.000\n",
            "2/2 [==============================] - 0s 14ms/step\n",
            ">Epoch: 6,Batch: 424/468, disc_real_loss=0.181, disc_fake_loss=0.495 gan_loss=0.000\n",
            "2/2 [==============================] - 0s 6ms/step\n",
            ">Epoch: 6,Batch: 425/468, disc_real_loss=0.322, disc_fake_loss=0.312 gan_loss=0.000\n",
            "2/2 [==============================] - 0s 11ms/step\n",
            ">Epoch: 6,Batch: 426/468, disc_real_loss=0.367, disc_fake_loss=0.260 gan_loss=0.000\n",
            "2/2 [==============================] - 0s 9ms/step\n",
            ">Epoch: 6,Batch: 427/468, disc_real_loss=0.339, disc_fake_loss=0.301 gan_loss=0.000\n",
            "2/2 [==============================] - 0s 7ms/step\n",
            ">Epoch: 6,Batch: 428/468, disc_real_loss=0.337, disc_fake_loss=0.199 gan_loss=0.000\n",
            "2/2 [==============================] - 0s 8ms/step\n",
            ">Epoch: 6,Batch: 429/468, disc_real_loss=0.296, disc_fake_loss=0.375 gan_loss=0.000\n",
            "2/2 [==============================] - 0s 4ms/step\n",
            ">Epoch: 6,Batch: 430/468, disc_real_loss=0.208, disc_fake_loss=0.206 gan_loss=0.000\n",
            "2/2 [==============================] - 0s 10ms/step\n",
            ">Epoch: 6,Batch: 431/468, disc_real_loss=0.185, disc_fake_loss=0.287 gan_loss=0.000\n",
            "2/2 [==============================] - 0s 8ms/step\n",
            ">Epoch: 6,Batch: 432/468, disc_real_loss=0.323, disc_fake_loss=0.241 gan_loss=0.000\n",
            "2/2 [==============================] - 0s 4ms/step\n",
            ">Epoch: 6,Batch: 433/468, disc_real_loss=0.318, disc_fake_loss=0.369 gan_loss=0.000\n",
            "2/2 [==============================] - 0s 4ms/step\n",
            ">Epoch: 6,Batch: 434/468, disc_real_loss=0.292, disc_fake_loss=0.307 gan_loss=0.000\n",
            "2/2 [==============================] - 0s 6ms/step\n",
            ">Epoch: 6,Batch: 435/468, disc_real_loss=0.273, disc_fake_loss=0.221 gan_loss=0.000\n",
            "2/2 [==============================] - 0s 4ms/step\n",
            ">Epoch: 6,Batch: 436/468, disc_real_loss=0.370, disc_fake_loss=0.292 gan_loss=0.000\n",
            "2/2 [==============================] - 0s 7ms/step\n",
            ">Epoch: 6,Batch: 437/468, disc_real_loss=0.248, disc_fake_loss=0.328 gan_loss=0.000\n",
            "2/2 [==============================] - 0s 4ms/step\n",
            ">Epoch: 6,Batch: 438/468, disc_real_loss=0.283, disc_fake_loss=0.279 gan_loss=0.000\n",
            "2/2 [==============================] - 0s 8ms/step\n",
            ">Epoch: 6,Batch: 439/468, disc_real_loss=0.247, disc_fake_loss=0.330 gan_loss=0.000\n",
            "2/2 [==============================] - 0s 11ms/step\n",
            ">Epoch: 6,Batch: 440/468, disc_real_loss=0.251, disc_fake_loss=0.223 gan_loss=0.000\n",
            "2/2 [==============================] - 0s 6ms/step\n",
            ">Epoch: 6,Batch: 441/468, disc_real_loss=0.272, disc_fake_loss=0.282 gan_loss=0.000\n",
            "2/2 [==============================] - 0s 11ms/step\n",
            ">Epoch: 6,Batch: 442/468, disc_real_loss=0.188, disc_fake_loss=0.260 gan_loss=0.000\n",
            "2/2 [==============================] - 0s 7ms/step\n",
            ">Epoch: 6,Batch: 443/468, disc_real_loss=0.240, disc_fake_loss=0.229 gan_loss=0.000\n",
            "2/2 [==============================] - 0s 12ms/step\n",
            ">Epoch: 6,Batch: 444/468, disc_real_loss=0.290, disc_fake_loss=0.256 gan_loss=0.000\n",
            "2/2 [==============================] - 0s 4ms/step\n",
            ">Epoch: 6,Batch: 445/468, disc_real_loss=0.254, disc_fake_loss=0.248 gan_loss=0.000\n",
            "2/2 [==============================] - 0s 12ms/step\n",
            ">Epoch: 6,Batch: 446/468, disc_real_loss=0.266, disc_fake_loss=0.200 gan_loss=0.000\n",
            "2/2 [==============================] - 0s 10ms/step\n",
            ">Epoch: 6,Batch: 447/468, disc_real_loss=0.162, disc_fake_loss=0.408 gan_loss=0.000\n",
            "2/2 [==============================] - 0s 14ms/step\n",
            ">Epoch: 6,Batch: 448/468, disc_real_loss=0.233, disc_fake_loss=0.278 gan_loss=0.000\n",
            "2/2 [==============================] - 0s 5ms/step\n",
            ">Epoch: 6,Batch: 449/468, disc_real_loss=0.276, disc_fake_loss=0.250 gan_loss=0.000\n",
            "2/2 [==============================] - 0s 14ms/step\n",
            ">Epoch: 6,Batch: 450/468, disc_real_loss=0.276, disc_fake_loss=0.194 gan_loss=0.000\n",
            "2/2 [==============================] - 0s 9ms/step\n",
            ">Epoch: 6,Batch: 451/468, disc_real_loss=0.338, disc_fake_loss=0.238 gan_loss=0.000\n",
            "2/2 [==============================] - 0s 11ms/step\n",
            ">Epoch: 6,Batch: 452/468, disc_real_loss=0.323, disc_fake_loss=0.355 gan_loss=0.000\n",
            "2/2 [==============================] - 0s 15ms/step\n",
            ">Epoch: 6,Batch: 453/468, disc_real_loss=0.232, disc_fake_loss=0.415 gan_loss=0.000\n",
            "2/2 [==============================] - 0s 10ms/step\n",
            ">Epoch: 6,Batch: 454/468, disc_real_loss=0.222, disc_fake_loss=0.238 gan_loss=0.000\n",
            "2/2 [==============================] - 0s 14ms/step\n",
            ">Epoch: 6,Batch: 455/468, disc_real_loss=0.358, disc_fake_loss=0.236 gan_loss=0.000\n",
            "2/2 [==============================] - 0s 6ms/step\n",
            ">Epoch: 6,Batch: 456/468, disc_real_loss=0.279, disc_fake_loss=0.247 gan_loss=0.000\n",
            "2/2 [==============================] - 0s 6ms/step\n",
            ">Epoch: 6,Batch: 457/468, disc_real_loss=0.240, disc_fake_loss=0.349 gan_loss=0.000\n",
            "2/2 [==============================] - 0s 13ms/step\n",
            ">Epoch: 6,Batch: 458/468, disc_real_loss=0.238, disc_fake_loss=0.308 gan_loss=0.000\n",
            "2/2 [==============================] - 0s 14ms/step\n",
            ">Epoch: 6,Batch: 459/468, disc_real_loss=0.306, disc_fake_loss=0.255 gan_loss=0.000\n",
            "2/2 [==============================] - 0s 7ms/step\n",
            ">Epoch: 6,Batch: 460/468, disc_real_loss=0.272, disc_fake_loss=0.237 gan_loss=0.000\n",
            "2/2 [==============================] - 0s 7ms/step\n",
            ">Epoch: 6,Batch: 461/468, disc_real_loss=0.286, disc_fake_loss=0.260 gan_loss=0.000\n",
            "2/2 [==============================] - 0s 5ms/step\n",
            ">Epoch: 6,Batch: 462/468, disc_real_loss=0.287, disc_fake_loss=0.376 gan_loss=0.000\n",
            "2/2 [==============================] - 0s 8ms/step\n",
            ">Epoch: 6,Batch: 463/468, disc_real_loss=0.271, disc_fake_loss=0.243 gan_loss=0.000\n",
            "2/2 [==============================] - 0s 14ms/step\n",
            ">Epoch: 6,Batch: 464/468, disc_real_loss=0.310, disc_fake_loss=0.287 gan_loss=0.000\n",
            "2/2 [==============================] - 0s 5ms/step\n",
            ">Epoch: 6,Batch: 465/468, disc_real_loss=0.313, disc_fake_loss=0.306 gan_loss=0.000\n",
            "2/2 [==============================] - 0s 4ms/step\n",
            ">Epoch: 6,Batch: 466/468, disc_real_loss=0.207, disc_fake_loss=0.287 gan_loss=0.000\n",
            "2/2 [==============================] - 0s 6ms/step\n",
            ">Epoch: 6,Batch: 467/468, disc_real_loss=0.283, disc_fake_loss=0.245 gan_loss=0.000\n",
            "2/2 [==============================] - 0s 9ms/step\n",
            ">Epoch: 6,Batch: 468/468, disc_real_loss=0.238, disc_fake_loss=0.225 gan_loss=0.000\n",
            "2/2 [==============================] - 0s 6ms/step\n",
            ">Epoch: 7,Batch: 1/468, disc_real_loss=0.310, disc_fake_loss=0.288 gan_loss=0.000\n",
            "2/2 [==============================] - 0s 8ms/step\n",
            ">Epoch: 7,Batch: 2/468, disc_real_loss=0.254, disc_fake_loss=0.471 gan_loss=0.000\n",
            "2/2 [==============================] - 0s 6ms/step\n",
            ">Epoch: 7,Batch: 3/468, disc_real_loss=0.262, disc_fake_loss=0.164 gan_loss=0.000\n",
            "2/2 [==============================] - 0s 8ms/step\n",
            ">Epoch: 7,Batch: 4/468, disc_real_loss=0.284, disc_fake_loss=0.236 gan_loss=0.000\n",
            "2/2 [==============================] - 0s 10ms/step\n",
            ">Epoch: 7,Batch: 5/468, disc_real_loss=0.297, disc_fake_loss=0.205 gan_loss=0.000\n",
            "2/2 [==============================] - 0s 5ms/step\n",
            ">Epoch: 7,Batch: 6/468, disc_real_loss=0.288, disc_fake_loss=0.263 gan_loss=0.000\n",
            "2/2 [==============================] - 0s 6ms/step\n",
            ">Epoch: 7,Batch: 7/468, disc_real_loss=0.193, disc_fake_loss=0.327 gan_loss=0.000\n",
            "2/2 [==============================] - 0s 5ms/step\n",
            ">Epoch: 7,Batch: 8/468, disc_real_loss=0.184, disc_fake_loss=0.249 gan_loss=0.000\n",
            "2/2 [==============================] - 0s 8ms/step\n",
            ">Epoch: 7,Batch: 9/468, disc_real_loss=0.361, disc_fake_loss=0.245 gan_loss=0.000\n",
            "2/2 [==============================] - 0s 8ms/step\n",
            ">Epoch: 7,Batch: 10/468, disc_real_loss=0.304, disc_fake_loss=0.323 gan_loss=0.000\n",
            "2/2 [==============================] - 0s 9ms/step\n",
            ">Epoch: 7,Batch: 11/468, disc_real_loss=0.317, disc_fake_loss=0.293 gan_loss=0.000\n",
            "2/2 [==============================] - 0s 5ms/step\n",
            ">Epoch: 7,Batch: 12/468, disc_real_loss=0.263, disc_fake_loss=0.313 gan_loss=0.000\n",
            "2/2 [==============================] - 0s 7ms/step\n",
            ">Epoch: 7,Batch: 13/468, disc_real_loss=0.332, disc_fake_loss=0.172 gan_loss=0.000\n",
            "2/2 [==============================] - 0s 6ms/step\n",
            ">Epoch: 7,Batch: 14/468, disc_real_loss=0.242, disc_fake_loss=0.365 gan_loss=0.000\n",
            "2/2 [==============================] - 0s 6ms/step\n",
            ">Epoch: 7,Batch: 15/468, disc_real_loss=0.228, disc_fake_loss=0.322 gan_loss=0.000\n",
            "2/2 [==============================] - 0s 13ms/step\n",
            ">Epoch: 7,Batch: 16/468, disc_real_loss=0.250, disc_fake_loss=0.340 gan_loss=0.000\n",
            "2/2 [==============================] - 0s 8ms/step\n",
            ">Epoch: 7,Batch: 17/468, disc_real_loss=0.314, disc_fake_loss=0.251 gan_loss=0.000\n",
            "2/2 [==============================] - 0s 10ms/step\n",
            ">Epoch: 7,Batch: 18/468, disc_real_loss=0.303, disc_fake_loss=0.250 gan_loss=0.000\n",
            "2/2 [==============================] - 0s 5ms/step\n",
            ">Epoch: 7,Batch: 19/468, disc_real_loss=0.213, disc_fake_loss=0.222 gan_loss=0.000\n",
            "2/2 [==============================] - 0s 11ms/step\n",
            ">Epoch: 7,Batch: 20/468, disc_real_loss=0.211, disc_fake_loss=0.249 gan_loss=0.000\n",
            "2/2 [==============================] - 0s 5ms/step\n",
            ">Epoch: 7,Batch: 21/468, disc_real_loss=0.301, disc_fake_loss=0.346 gan_loss=0.000\n",
            "2/2 [==============================] - 0s 5ms/step\n",
            ">Epoch: 7,Batch: 22/468, disc_real_loss=0.304, disc_fake_loss=0.332 gan_loss=0.000\n",
            "2/2 [==============================] - 0s 5ms/step\n",
            ">Epoch: 7,Batch: 23/468, disc_real_loss=0.283, disc_fake_loss=0.216 gan_loss=0.000\n",
            "2/2 [==============================] - 0s 5ms/step\n",
            ">Epoch: 7,Batch: 24/468, disc_real_loss=0.289, disc_fake_loss=0.267 gan_loss=0.000\n",
            "2/2 [==============================] - 0s 6ms/step\n",
            ">Epoch: 7,Batch: 25/468, disc_real_loss=0.312, disc_fake_loss=0.347 gan_loss=0.000\n",
            "2/2 [==============================] - 0s 5ms/step\n",
            ">Epoch: 7,Batch: 26/468, disc_real_loss=0.241, disc_fake_loss=0.221 gan_loss=0.000\n",
            "2/2 [==============================] - 0s 12ms/step\n",
            ">Epoch: 7,Batch: 27/468, disc_real_loss=0.299, disc_fake_loss=0.380 gan_loss=0.000\n",
            "2/2 [==============================] - 0s 14ms/step\n",
            ">Epoch: 7,Batch: 28/468, disc_real_loss=0.185, disc_fake_loss=0.237 gan_loss=0.000\n",
            "2/2 [==============================] - 0s 13ms/step\n",
            ">Epoch: 7,Batch: 29/468, disc_real_loss=0.381, disc_fake_loss=0.187 gan_loss=0.000\n",
            "2/2 [==============================] - 0s 11ms/step\n",
            ">Epoch: 7,Batch: 30/468, disc_real_loss=0.320, disc_fake_loss=0.330 gan_loss=0.000\n",
            "2/2 [==============================] - 0s 8ms/step\n",
            ">Epoch: 7,Batch: 31/468, disc_real_loss=0.166, disc_fake_loss=0.246 gan_loss=0.000\n",
            "2/2 [==============================] - 0s 5ms/step\n",
            ">Epoch: 7,Batch: 32/468, disc_real_loss=0.249, disc_fake_loss=0.239 gan_loss=0.000\n",
            "2/2 [==============================] - 0s 5ms/step\n",
            ">Epoch: 7,Batch: 33/468, disc_real_loss=0.210, disc_fake_loss=0.247 gan_loss=0.000\n",
            "2/2 [==============================] - 0s 4ms/step\n",
            ">Epoch: 7,Batch: 34/468, disc_real_loss=0.295, disc_fake_loss=0.263 gan_loss=0.000\n",
            "2/2 [==============================] - 0s 5ms/step\n",
            ">Epoch: 7,Batch: 35/468, disc_real_loss=0.210, disc_fake_loss=0.182 gan_loss=0.000\n",
            "2/2 [==============================] - 0s 6ms/step\n",
            ">Epoch: 7,Batch: 36/468, disc_real_loss=0.285, disc_fake_loss=0.303 gan_loss=0.000\n",
            "2/2 [==============================] - 0s 6ms/step\n",
            ">Epoch: 7,Batch: 37/468, disc_real_loss=0.201, disc_fake_loss=0.278 gan_loss=0.000\n",
            "2/2 [==============================] - 0s 9ms/step\n",
            ">Epoch: 7,Batch: 38/468, disc_real_loss=0.196, disc_fake_loss=0.196 gan_loss=0.000\n",
            "2/2 [==============================] - 0s 7ms/step\n",
            ">Epoch: 7,Batch: 39/468, disc_real_loss=0.262, disc_fake_loss=0.289 gan_loss=0.000\n",
            "2/2 [==============================] - 0s 12ms/step\n",
            ">Epoch: 7,Batch: 40/468, disc_real_loss=0.335, disc_fake_loss=0.258 gan_loss=0.000\n",
            "2/2 [==============================] - 0s 6ms/step\n",
            ">Epoch: 7,Batch: 41/468, disc_real_loss=0.288, disc_fake_loss=0.270 gan_loss=0.000\n",
            "2/2 [==============================] - 0s 6ms/step\n",
            ">Epoch: 7,Batch: 42/468, disc_real_loss=0.200, disc_fake_loss=0.255 gan_loss=0.000\n",
            "2/2 [==============================] - 0s 4ms/step\n",
            ">Epoch: 7,Batch: 43/468, disc_real_loss=0.262, disc_fake_loss=0.266 gan_loss=0.000\n",
            "2/2 [==============================] - 0s 7ms/step\n",
            ">Epoch: 7,Batch: 44/468, disc_real_loss=0.290, disc_fake_loss=0.199 gan_loss=0.000\n",
            "2/2 [==============================] - 0s 17ms/step\n",
            ">Epoch: 7,Batch: 45/468, disc_real_loss=0.350, disc_fake_loss=0.344 gan_loss=0.000\n",
            "2/2 [==============================] - 0s 6ms/step\n",
            ">Epoch: 7,Batch: 46/468, disc_real_loss=0.215, disc_fake_loss=0.257 gan_loss=0.000\n",
            "2/2 [==============================] - 0s 12ms/step\n",
            ">Epoch: 7,Batch: 47/468, disc_real_loss=0.290, disc_fake_loss=0.259 gan_loss=0.000\n",
            "2/2 [==============================] - 0s 8ms/step\n",
            ">Epoch: 7,Batch: 48/468, disc_real_loss=0.259, disc_fake_loss=0.286 gan_loss=0.000\n",
            "2/2 [==============================] - 0s 9ms/step\n",
            ">Epoch: 7,Batch: 49/468, disc_real_loss=0.229, disc_fake_loss=0.290 gan_loss=0.000\n",
            "2/2 [==============================] - 0s 17ms/step\n",
            ">Epoch: 7,Batch: 50/468, disc_real_loss=0.216, disc_fake_loss=0.292 gan_loss=0.000\n",
            "2/2 [==============================] - 0s 15ms/step\n",
            ">Epoch: 7,Batch: 51/468, disc_real_loss=0.263, disc_fake_loss=0.143 gan_loss=0.000\n",
            "2/2 [==============================] - 0s 5ms/step\n",
            ">Epoch: 7,Batch: 52/468, disc_real_loss=0.254, disc_fake_loss=0.213 gan_loss=0.000\n",
            "2/2 [==============================] - 0s 8ms/step\n",
            ">Epoch: 7,Batch: 53/468, disc_real_loss=0.297, disc_fake_loss=0.307 gan_loss=0.000\n",
            "2/2 [==============================] - 0s 5ms/step\n",
            ">Epoch: 7,Batch: 54/468, disc_real_loss=0.247, disc_fake_loss=0.249 gan_loss=0.000\n",
            "2/2 [==============================] - 0s 7ms/step\n",
            ">Epoch: 7,Batch: 55/468, disc_real_loss=0.196, disc_fake_loss=0.224 gan_loss=0.000\n",
            "2/2 [==============================] - 0s 10ms/step\n",
            ">Epoch: 7,Batch: 56/468, disc_real_loss=0.236, disc_fake_loss=0.262 gan_loss=0.000\n",
            "2/2 [==============================] - 0s 15ms/step\n",
            ">Epoch: 7,Batch: 57/468, disc_real_loss=0.363, disc_fake_loss=0.205 gan_loss=0.000\n",
            "2/2 [==============================] - 0s 12ms/step\n",
            ">Epoch: 7,Batch: 58/468, disc_real_loss=0.200, disc_fake_loss=0.287 gan_loss=0.000\n",
            "2/2 [==============================] - 0s 10ms/step\n",
            ">Epoch: 7,Batch: 59/468, disc_real_loss=0.274, disc_fake_loss=0.386 gan_loss=0.000\n",
            "2/2 [==============================] - 0s 6ms/step\n",
            ">Epoch: 7,Batch: 60/468, disc_real_loss=0.355, disc_fake_loss=0.305 gan_loss=0.000\n",
            "2/2 [==============================] - 0s 6ms/step\n",
            ">Epoch: 7,Batch: 61/468, disc_real_loss=0.324, disc_fake_loss=0.293 gan_loss=0.000\n",
            "2/2 [==============================] - 0s 5ms/step\n",
            ">Epoch: 7,Batch: 62/468, disc_real_loss=0.308, disc_fake_loss=0.259 gan_loss=0.000\n",
            "2/2 [==============================] - 0s 5ms/step\n",
            ">Epoch: 7,Batch: 63/468, disc_real_loss=0.229, disc_fake_loss=0.315 gan_loss=0.000\n",
            "2/2 [==============================] - 0s 10ms/step\n",
            ">Epoch: 7,Batch: 64/468, disc_real_loss=0.275, disc_fake_loss=0.209 gan_loss=0.000\n",
            "2/2 [==============================] - 0s 7ms/step\n",
            ">Epoch: 7,Batch: 65/468, disc_real_loss=0.206, disc_fake_loss=0.328 gan_loss=0.000\n",
            "2/2 [==============================] - 0s 6ms/step\n",
            ">Epoch: 7,Batch: 66/468, disc_real_loss=0.278, disc_fake_loss=0.270 gan_loss=0.000\n",
            "2/2 [==============================] - 0s 8ms/step\n",
            ">Epoch: 7,Batch: 67/468, disc_real_loss=0.436, disc_fake_loss=0.297 gan_loss=0.000\n",
            "2/2 [==============================] - 0s 5ms/step\n",
            ">Epoch: 7,Batch: 68/468, disc_real_loss=0.248, disc_fake_loss=0.338 gan_loss=0.000\n",
            "2/2 [==============================] - 0s 4ms/step\n",
            ">Epoch: 7,Batch: 69/468, disc_real_loss=0.279, disc_fake_loss=0.237 gan_loss=0.000\n",
            "2/2 [==============================] - 0s 10ms/step\n",
            ">Epoch: 7,Batch: 70/468, disc_real_loss=0.261, disc_fake_loss=0.255 gan_loss=0.000\n",
            "2/2 [==============================] - 0s 9ms/step\n",
            ">Epoch: 7,Batch: 71/468, disc_real_loss=0.206, disc_fake_loss=0.345 gan_loss=0.000\n",
            "2/2 [==============================] - 0s 6ms/step\n",
            ">Epoch: 7,Batch: 72/468, disc_real_loss=0.230, disc_fake_loss=0.231 gan_loss=0.000\n",
            "2/2 [==============================] - 0s 11ms/step\n",
            ">Epoch: 7,Batch: 73/468, disc_real_loss=0.320, disc_fake_loss=0.209 gan_loss=0.000\n",
            "2/2 [==============================] - 0s 10ms/step\n",
            ">Epoch: 7,Batch: 74/468, disc_real_loss=0.276, disc_fake_loss=0.253 gan_loss=0.000\n",
            "2/2 [==============================] - 0s 12ms/step\n",
            ">Epoch: 7,Batch: 75/468, disc_real_loss=0.218, disc_fake_loss=0.240 gan_loss=0.000\n",
            "2/2 [==============================] - 0s 11ms/step\n",
            ">Epoch: 7,Batch: 76/468, disc_real_loss=0.264, disc_fake_loss=0.263 gan_loss=0.000\n",
            "2/2 [==============================] - 0s 10ms/step\n",
            ">Epoch: 7,Batch: 77/468, disc_real_loss=0.287, disc_fake_loss=0.235 gan_loss=0.000\n",
            "2/2 [==============================] - 0s 7ms/step\n",
            ">Epoch: 7,Batch: 78/468, disc_real_loss=0.207, disc_fake_loss=0.264 gan_loss=0.000\n",
            "2/2 [==============================] - 0s 10ms/step\n",
            ">Epoch: 7,Batch: 79/468, disc_real_loss=0.285, disc_fake_loss=0.188 gan_loss=0.000\n",
            "2/2 [==============================] - 0s 12ms/step\n",
            ">Epoch: 7,Batch: 80/468, disc_real_loss=0.197, disc_fake_loss=0.358 gan_loss=0.000\n",
            "2/2 [==============================] - 0s 8ms/step\n",
            ">Epoch: 7,Batch: 81/468, disc_real_loss=0.339, disc_fake_loss=0.194 gan_loss=0.000\n",
            "2/2 [==============================] - 0s 5ms/step\n",
            ">Epoch: 7,Batch: 82/468, disc_real_loss=0.321, disc_fake_loss=0.248 gan_loss=0.000\n",
            "2/2 [==============================] - 0s 5ms/step\n",
            ">Epoch: 7,Batch: 83/468, disc_real_loss=0.250, disc_fake_loss=0.296 gan_loss=0.000\n",
            "2/2 [==============================] - 0s 4ms/step\n",
            ">Epoch: 7,Batch: 84/468, disc_real_loss=0.297, disc_fake_loss=0.394 gan_loss=0.000\n",
            "2/2 [==============================] - 0s 7ms/step\n",
            ">Epoch: 7,Batch: 85/468, disc_real_loss=0.219, disc_fake_loss=0.230 gan_loss=0.000\n",
            "2/2 [==============================] - 0s 13ms/step\n",
            ">Epoch: 7,Batch: 86/468, disc_real_loss=0.253, disc_fake_loss=0.337 gan_loss=0.000\n",
            "2/2 [==============================] - 0s 8ms/step\n",
            ">Epoch: 7,Batch: 87/468, disc_real_loss=0.278, disc_fake_loss=0.283 gan_loss=0.000\n",
            "2/2 [==============================] - 0s 12ms/step\n",
            ">Epoch: 7,Batch: 88/468, disc_real_loss=0.249, disc_fake_loss=0.187 gan_loss=0.000\n",
            "2/2 [==============================] - 0s 9ms/step\n",
            ">Epoch: 7,Batch: 89/468, disc_real_loss=0.344, disc_fake_loss=0.288 gan_loss=0.000\n",
            "2/2 [==============================] - 0s 5ms/step\n",
            ">Epoch: 7,Batch: 90/468, disc_real_loss=0.263, disc_fake_loss=0.421 gan_loss=0.000\n",
            "2/2 [==============================] - 0s 5ms/step\n",
            ">Epoch: 7,Batch: 91/468, disc_real_loss=0.234, disc_fake_loss=0.228 gan_loss=0.000\n",
            "2/2 [==============================] - 0s 14ms/step\n",
            ">Epoch: 7,Batch: 92/468, disc_real_loss=0.354, disc_fake_loss=0.263 gan_loss=0.000\n",
            "2/2 [==============================] - 0s 9ms/step\n",
            ">Epoch: 7,Batch: 93/468, disc_real_loss=0.261, disc_fake_loss=0.236 gan_loss=0.000\n",
            "2/2 [==============================] - 0s 12ms/step\n",
            ">Epoch: 7,Batch: 94/468, disc_real_loss=0.218, disc_fake_loss=0.306 gan_loss=0.000\n",
            "2/2 [==============================] - 0s 8ms/step\n",
            ">Epoch: 7,Batch: 95/468, disc_real_loss=0.290, disc_fake_loss=0.270 gan_loss=0.000\n",
            "2/2 [==============================] - 0s 7ms/step\n",
            ">Epoch: 7,Batch: 96/468, disc_real_loss=0.436, disc_fake_loss=0.355 gan_loss=0.000\n",
            "2/2 [==============================] - 0s 5ms/step\n",
            ">Epoch: 7,Batch: 97/468, disc_real_loss=0.182, disc_fake_loss=0.331 gan_loss=0.000\n",
            "2/2 [==============================] - 0s 9ms/step\n",
            ">Epoch: 7,Batch: 98/468, disc_real_loss=0.277, disc_fake_loss=0.185 gan_loss=0.000\n",
            "2/2 [==============================] - 0s 6ms/step\n",
            ">Epoch: 7,Batch: 99/468, disc_real_loss=0.251, disc_fake_loss=0.228 gan_loss=0.000\n",
            "2/2 [==============================] - 0s 4ms/step\n",
            ">Epoch: 7,Batch: 100/468, disc_real_loss=0.315, disc_fake_loss=0.317 gan_loss=0.000\n",
            "2/2 [==============================] - 0s 6ms/step\n",
            ">Epoch: 7,Batch: 101/468, disc_real_loss=0.298, disc_fake_loss=0.202 gan_loss=0.000\n",
            "2/2 [==============================] - 0s 5ms/step\n",
            ">Epoch: 7,Batch: 102/468, disc_real_loss=0.247, disc_fake_loss=0.292 gan_loss=0.000\n",
            "2/2 [==============================] - 0s 4ms/step\n",
            ">Epoch: 7,Batch: 103/468, disc_real_loss=0.217, disc_fake_loss=0.311 gan_loss=0.000\n",
            "2/2 [==============================] - 0s 6ms/step\n",
            ">Epoch: 7,Batch: 104/468, disc_real_loss=0.289, disc_fake_loss=0.246 gan_loss=0.000\n",
            "2/2 [==============================] - 0s 15ms/step\n",
            ">Epoch: 7,Batch: 105/468, disc_real_loss=0.224, disc_fake_loss=0.312 gan_loss=0.000\n",
            "2/2 [==============================] - 0s 12ms/step\n",
            ">Epoch: 7,Batch: 106/468, disc_real_loss=0.372, disc_fake_loss=0.266 gan_loss=0.000\n",
            "2/2 [==============================] - 0s 5ms/step\n",
            ">Epoch: 7,Batch: 107/468, disc_real_loss=0.243, disc_fake_loss=0.341 gan_loss=0.000\n",
            "2/2 [==============================] - 0s 6ms/step\n",
            ">Epoch: 7,Batch: 108/468, disc_real_loss=0.273, disc_fake_loss=0.234 gan_loss=0.000\n",
            "2/2 [==============================] - 0s 4ms/step\n",
            ">Epoch: 7,Batch: 109/468, disc_real_loss=0.261, disc_fake_loss=0.300 gan_loss=0.000\n",
            "2/2 [==============================] - 0s 15ms/step\n",
            ">Epoch: 7,Batch: 110/468, disc_real_loss=0.198, disc_fake_loss=0.164 gan_loss=0.000\n",
            "2/2 [==============================] - 0s 5ms/step\n",
            ">Epoch: 7,Batch: 111/468, disc_real_loss=0.267, disc_fake_loss=0.215 gan_loss=0.000\n",
            "2/2 [==============================] - 0s 14ms/step\n",
            ">Epoch: 7,Batch: 112/468, disc_real_loss=0.226, disc_fake_loss=0.299 gan_loss=0.000\n",
            "2/2 [==============================] - 0s 10ms/step\n",
            ">Epoch: 7,Batch: 113/468, disc_real_loss=0.238, disc_fake_loss=0.261 gan_loss=0.000\n",
            "2/2 [==============================] - 0s 4ms/step\n",
            ">Epoch: 7,Batch: 114/468, disc_real_loss=0.266, disc_fake_loss=0.202 gan_loss=0.000\n",
            "2/2 [==============================] - 0s 10ms/step\n",
            ">Epoch: 7,Batch: 115/468, disc_real_loss=0.250, disc_fake_loss=0.273 gan_loss=0.000\n",
            "2/2 [==============================] - 0s 16ms/step\n",
            ">Epoch: 7,Batch: 116/468, disc_real_loss=0.192, disc_fake_loss=0.396 gan_loss=0.000\n",
            "2/2 [==============================] - 0s 5ms/step\n",
            ">Epoch: 7,Batch: 117/468, disc_real_loss=0.363, disc_fake_loss=0.234 gan_loss=0.000\n",
            "2/2 [==============================] - 0s 5ms/step\n",
            ">Epoch: 7,Batch: 118/468, disc_real_loss=0.185, disc_fake_loss=0.269 gan_loss=0.000\n",
            "2/2 [==============================] - 0s 6ms/step\n",
            ">Epoch: 7,Batch: 119/468, disc_real_loss=0.311, disc_fake_loss=0.291 gan_loss=0.000\n",
            "2/2 [==============================] - 0s 5ms/step\n",
            ">Epoch: 7,Batch: 120/468, disc_real_loss=0.178, disc_fake_loss=0.240 gan_loss=0.000\n",
            "2/2 [==============================] - 0s 8ms/step\n",
            ">Epoch: 7,Batch: 121/468, disc_real_loss=0.291, disc_fake_loss=0.235 gan_loss=0.000\n",
            "2/2 [==============================] - 0s 9ms/step\n",
            ">Epoch: 7,Batch: 122/468, disc_real_loss=0.427, disc_fake_loss=0.295 gan_loss=0.000\n",
            "2/2 [==============================] - 0s 10ms/step\n",
            ">Epoch: 7,Batch: 123/468, disc_real_loss=0.192, disc_fake_loss=0.254 gan_loss=0.000\n",
            "2/2 [==============================] - 0s 13ms/step\n",
            ">Epoch: 7,Batch: 124/468, disc_real_loss=0.204, disc_fake_loss=0.211 gan_loss=0.000\n",
            "2/2 [==============================] - 0s 8ms/step\n",
            ">Epoch: 7,Batch: 125/468, disc_real_loss=0.222, disc_fake_loss=0.290 gan_loss=0.000\n",
            "2/2 [==============================] - 0s 9ms/step\n",
            ">Epoch: 7,Batch: 126/468, disc_real_loss=0.192, disc_fake_loss=0.204 gan_loss=0.000\n",
            "2/2 [==============================] - 0s 4ms/step\n",
            ">Epoch: 7,Batch: 127/468, disc_real_loss=0.251, disc_fake_loss=0.222 gan_loss=0.000\n",
            "2/2 [==============================] - 0s 5ms/step\n",
            ">Epoch: 7,Batch: 128/468, disc_real_loss=0.255, disc_fake_loss=0.210 gan_loss=0.000\n",
            "2/2 [==============================] - 0s 5ms/step\n",
            ">Epoch: 7,Batch: 129/468, disc_real_loss=0.219, disc_fake_loss=0.292 gan_loss=0.000\n",
            "2/2 [==============================] - 0s 6ms/step\n",
            ">Epoch: 7,Batch: 130/468, disc_real_loss=0.187, disc_fake_loss=0.232 gan_loss=0.000\n",
            "2/2 [==============================] - 0s 8ms/step\n",
            ">Epoch: 7,Batch: 131/468, disc_real_loss=0.347, disc_fake_loss=0.142 gan_loss=0.000\n",
            "2/2 [==============================] - 0s 6ms/step\n",
            ">Epoch: 7,Batch: 132/468, disc_real_loss=0.200, disc_fake_loss=0.405 gan_loss=0.000\n",
            "2/2 [==============================] - 0s 14ms/step\n",
            ">Epoch: 7,Batch: 133/468, disc_real_loss=0.297, disc_fake_loss=0.219 gan_loss=0.000\n",
            "2/2 [==============================] - 0s 13ms/step\n",
            ">Epoch: 7,Batch: 134/468, disc_real_loss=0.230, disc_fake_loss=0.301 gan_loss=0.000\n",
            "2/2 [==============================] - 0s 6ms/step\n",
            ">Epoch: 7,Batch: 135/468, disc_real_loss=0.212, disc_fake_loss=0.236 gan_loss=0.000\n",
            "2/2 [==============================] - 0s 4ms/step\n",
            ">Epoch: 7,Batch: 136/468, disc_real_loss=0.395, disc_fake_loss=0.265 gan_loss=0.000\n",
            "2/2 [==============================] - 0s 11ms/step\n",
            ">Epoch: 7,Batch: 137/468, disc_real_loss=0.199, disc_fake_loss=0.229 gan_loss=0.000\n",
            "2/2 [==============================] - 0s 11ms/step\n",
            ">Epoch: 7,Batch: 138/468, disc_real_loss=0.227, disc_fake_loss=0.188 gan_loss=0.000\n",
            "2/2 [==============================] - 0s 12ms/step\n",
            ">Epoch: 7,Batch: 139/468, disc_real_loss=0.231, disc_fake_loss=0.250 gan_loss=0.000\n",
            "2/2 [==============================] - 0s 11ms/step\n",
            ">Epoch: 7,Batch: 140/468, disc_real_loss=0.277, disc_fake_loss=0.295 gan_loss=0.000\n",
            "2/2 [==============================] - 0s 8ms/step\n",
            ">Epoch: 7,Batch: 141/468, disc_real_loss=0.238, disc_fake_loss=0.217 gan_loss=0.000\n",
            "2/2 [==============================] - 0s 6ms/step\n",
            ">Epoch: 7,Batch: 142/468, disc_real_loss=0.283, disc_fake_loss=0.276 gan_loss=0.000\n",
            "2/2 [==============================] - 0s 6ms/step\n",
            ">Epoch: 7,Batch: 143/468, disc_real_loss=0.222, disc_fake_loss=0.270 gan_loss=0.000\n",
            "2/2 [==============================] - 0s 7ms/step\n",
            ">Epoch: 7,Batch: 144/468, disc_real_loss=0.311, disc_fake_loss=0.274 gan_loss=0.000\n",
            "2/2 [==============================] - 0s 6ms/step\n",
            ">Epoch: 7,Batch: 145/468, disc_real_loss=0.225, disc_fake_loss=0.295 gan_loss=0.000\n",
            "2/2 [==============================] - 0s 7ms/step\n",
            ">Epoch: 7,Batch: 146/468, disc_real_loss=0.264, disc_fake_loss=0.281 gan_loss=0.000\n",
            "2/2 [==============================] - 0s 8ms/step\n",
            ">Epoch: 7,Batch: 147/468, disc_real_loss=0.294, disc_fake_loss=0.226 gan_loss=0.000\n",
            "2/2 [==============================] - 0s 7ms/step\n",
            ">Epoch: 7,Batch: 148/468, disc_real_loss=0.353, disc_fake_loss=0.256 gan_loss=0.000\n",
            "2/2 [==============================] - 0s 6ms/step\n",
            ">Epoch: 7,Batch: 149/468, disc_real_loss=0.336, disc_fake_loss=0.279 gan_loss=0.000\n",
            "2/2 [==============================] - 0s 9ms/step\n",
            ">Epoch: 7,Batch: 150/468, disc_real_loss=0.191, disc_fake_loss=0.255 gan_loss=0.000\n",
            "2/2 [==============================] - 0s 16ms/step\n",
            ">Epoch: 7,Batch: 151/468, disc_real_loss=0.209, disc_fake_loss=0.218 gan_loss=0.000\n",
            "2/2 [==============================] - 0s 9ms/step\n",
            ">Epoch: 7,Batch: 152/468, disc_real_loss=0.272, disc_fake_loss=0.333 gan_loss=0.000\n",
            "2/2 [==============================] - 0s 10ms/step\n",
            ">Epoch: 7,Batch: 153/468, disc_real_loss=0.201, disc_fake_loss=0.199 gan_loss=0.000\n",
            "2/2 [==============================] - 0s 8ms/step\n",
            ">Epoch: 7,Batch: 154/468, disc_real_loss=0.182, disc_fake_loss=0.252 gan_loss=0.000\n",
            "2/2 [==============================] - 0s 6ms/step\n",
            ">Epoch: 7,Batch: 155/468, disc_real_loss=0.315, disc_fake_loss=0.230 gan_loss=0.000\n",
            "2/2 [==============================] - 0s 7ms/step\n",
            ">Epoch: 7,Batch: 156/468, disc_real_loss=0.278, disc_fake_loss=0.218 gan_loss=0.000\n",
            "2/2 [==============================] - 0s 10ms/step\n",
            ">Epoch: 7,Batch: 157/468, disc_real_loss=0.246, disc_fake_loss=0.253 gan_loss=0.000\n",
            "2/2 [==============================] - 0s 10ms/step\n",
            ">Epoch: 7,Batch: 158/468, disc_real_loss=0.277, disc_fake_loss=0.380 gan_loss=0.000\n",
            "2/2 [==============================] - 0s 8ms/step\n",
            ">Epoch: 7,Batch: 159/468, disc_real_loss=0.230, disc_fake_loss=0.300 gan_loss=0.000\n",
            "2/2 [==============================] - 0s 6ms/step\n",
            ">Epoch: 7,Batch: 160/468, disc_real_loss=0.155, disc_fake_loss=0.183 gan_loss=0.000\n",
            "2/2 [==============================] - 0s 5ms/step\n",
            ">Epoch: 7,Batch: 161/468, disc_real_loss=0.375, disc_fake_loss=0.166 gan_loss=0.000\n",
            "2/2 [==============================] - 0s 4ms/step\n",
            ">Epoch: 7,Batch: 162/468, disc_real_loss=0.263, disc_fake_loss=0.240 gan_loss=0.000\n",
            "2/2 [==============================] - 0s 15ms/step\n",
            ">Epoch: 7,Batch: 163/468, disc_real_loss=0.189, disc_fake_loss=0.276 gan_loss=0.000\n",
            "2/2 [==============================] - 0s 7ms/step\n",
            ">Epoch: 7,Batch: 164/468, disc_real_loss=0.157, disc_fake_loss=0.269 gan_loss=0.000\n",
            "2/2 [==============================] - 0s 6ms/step\n",
            ">Epoch: 7,Batch: 165/468, disc_real_loss=0.287, disc_fake_loss=0.241 gan_loss=0.000\n",
            "2/2 [==============================] - 0s 4ms/step\n",
            ">Epoch: 7,Batch: 166/468, disc_real_loss=0.225, disc_fake_loss=0.321 gan_loss=0.000\n",
            "2/2 [==============================] - 0s 8ms/step\n",
            ">Epoch: 7,Batch: 167/468, disc_real_loss=0.427, disc_fake_loss=0.267 gan_loss=0.000\n",
            "2/2 [==============================] - 0s 13ms/step\n",
            ">Epoch: 7,Batch: 168/468, disc_real_loss=0.207, disc_fake_loss=0.305 gan_loss=0.000\n",
            "2/2 [==============================] - 0s 8ms/step\n",
            ">Epoch: 7,Batch: 169/468, disc_real_loss=0.272, disc_fake_loss=0.241 gan_loss=0.000\n",
            "2/2 [==============================] - 0s 10ms/step\n",
            ">Epoch: 7,Batch: 170/468, disc_real_loss=0.207, disc_fake_loss=0.304 gan_loss=0.000\n",
            "2/2 [==============================] - 0s 6ms/step\n",
            ">Epoch: 7,Batch: 171/468, disc_real_loss=0.254, disc_fake_loss=0.338 gan_loss=0.000\n",
            "2/2 [==============================] - 0s 9ms/step\n",
            ">Epoch: 7,Batch: 172/468, disc_real_loss=0.322, disc_fake_loss=0.214 gan_loss=0.000\n",
            "2/2 [==============================] - 0s 8ms/step\n",
            ">Epoch: 7,Batch: 173/468, disc_real_loss=0.290, disc_fake_loss=0.354 gan_loss=0.000\n",
            "2/2 [==============================] - 0s 15ms/step\n",
            ">Epoch: 7,Batch: 174/468, disc_real_loss=0.272, disc_fake_loss=0.324 gan_loss=0.000\n",
            "2/2 [==============================] - 0s 5ms/step\n",
            ">Epoch: 7,Batch: 175/468, disc_real_loss=0.259, disc_fake_loss=0.208 gan_loss=0.000\n",
            "2/2 [==============================] - 0s 8ms/step\n",
            ">Epoch: 7,Batch: 176/468, disc_real_loss=0.246, disc_fake_loss=0.240 gan_loss=0.000\n",
            "2/2 [==============================] - 0s 5ms/step\n",
            ">Epoch: 7,Batch: 177/468, disc_real_loss=0.217, disc_fake_loss=0.261 gan_loss=0.000\n",
            "2/2 [==============================] - 0s 7ms/step\n",
            ">Epoch: 7,Batch: 178/468, disc_real_loss=0.278, disc_fake_loss=0.239 gan_loss=0.000\n",
            "2/2 [==============================] - 0s 9ms/step\n",
            ">Epoch: 7,Batch: 179/468, disc_real_loss=0.296, disc_fake_loss=0.280 gan_loss=0.000\n",
            "2/2 [==============================] - 0s 4ms/step\n",
            ">Epoch: 7,Batch: 180/468, disc_real_loss=0.289, disc_fake_loss=0.289 gan_loss=0.000\n",
            "2/2 [==============================] - 0s 7ms/step\n",
            ">Epoch: 7,Batch: 181/468, disc_real_loss=0.242, disc_fake_loss=0.257 gan_loss=0.000\n",
            "2/2 [==============================] - 0s 10ms/step\n",
            ">Epoch: 7,Batch: 182/468, disc_real_loss=0.260, disc_fake_loss=0.379 gan_loss=0.000\n",
            "2/2 [==============================] - 0s 6ms/step\n",
            ">Epoch: 7,Batch: 183/468, disc_real_loss=0.222, disc_fake_loss=0.220 gan_loss=0.000\n",
            "2/2 [==============================] - 0s 7ms/step\n",
            ">Epoch: 7,Batch: 184/468, disc_real_loss=0.282, disc_fake_loss=0.157 gan_loss=0.000\n",
            "2/2 [==============================] - 0s 6ms/step\n",
            ">Epoch: 7,Batch: 185/468, disc_real_loss=0.210, disc_fake_loss=0.324 gan_loss=0.000\n",
            "2/2 [==============================] - 0s 11ms/step\n",
            ">Epoch: 7,Batch: 186/468, disc_real_loss=0.320, disc_fake_loss=0.296 gan_loss=0.000\n",
            "2/2 [==============================] - 0s 5ms/step\n",
            ">Epoch: 7,Batch: 187/468, disc_real_loss=0.266, disc_fake_loss=0.239 gan_loss=0.000\n",
            "2/2 [==============================] - 0s 12ms/step\n",
            ">Epoch: 7,Batch: 188/468, disc_real_loss=0.329, disc_fake_loss=0.263 gan_loss=0.000\n",
            "2/2 [==============================] - 0s 13ms/step\n",
            ">Epoch: 7,Batch: 189/468, disc_real_loss=0.190, disc_fake_loss=0.232 gan_loss=0.000\n",
            "2/2 [==============================] - 0s 11ms/step\n",
            ">Epoch: 7,Batch: 190/468, disc_real_loss=0.224, disc_fake_loss=0.208 gan_loss=0.000\n",
            "2/2 [==============================] - 0s 6ms/step\n",
            ">Epoch: 7,Batch: 191/468, disc_real_loss=0.257, disc_fake_loss=0.259 gan_loss=0.000\n",
            "2/2 [==============================] - 0s 4ms/step\n",
            ">Epoch: 7,Batch: 192/468, disc_real_loss=0.284, disc_fake_loss=0.237 gan_loss=0.000\n",
            "2/2 [==============================] - 0s 4ms/step\n",
            ">Epoch: 7,Batch: 193/468, disc_real_loss=0.194, disc_fake_loss=0.381 gan_loss=0.000\n",
            "2/2 [==============================] - 0s 4ms/step\n",
            ">Epoch: 7,Batch: 194/468, disc_real_loss=0.264, disc_fake_loss=0.331 gan_loss=0.000\n",
            "2/2 [==============================] - 0s 4ms/step\n",
            ">Epoch: 7,Batch: 195/468, disc_real_loss=0.301, disc_fake_loss=0.270 gan_loss=0.000\n",
            "2/2 [==============================] - 0s 8ms/step\n",
            ">Epoch: 7,Batch: 196/468, disc_real_loss=0.342, disc_fake_loss=0.248 gan_loss=0.000\n",
            "2/2 [==============================] - 0s 4ms/step\n",
            ">Epoch: 7,Batch: 197/468, disc_real_loss=0.213, disc_fake_loss=0.281 gan_loss=0.000\n",
            "2/2 [==============================] - 0s 5ms/step\n",
            ">Epoch: 7,Batch: 198/468, disc_real_loss=0.175, disc_fake_loss=0.150 gan_loss=0.000\n",
            "2/2 [==============================] - 0s 6ms/step\n",
            ">Epoch: 7,Batch: 199/468, disc_real_loss=0.312, disc_fake_loss=0.247 gan_loss=0.000\n",
            "2/2 [==============================] - 0s 11ms/step\n",
            ">Epoch: 7,Batch: 200/468, disc_real_loss=0.174, disc_fake_loss=0.272 gan_loss=0.000\n",
            "2/2 [==============================] - 0s 7ms/step\n",
            ">Epoch: 7,Batch: 201/468, disc_real_loss=0.189, disc_fake_loss=0.293 gan_loss=0.000\n",
            "2/2 [==============================] - 0s 4ms/step\n",
            ">Epoch: 7,Batch: 202/468, disc_real_loss=0.355, disc_fake_loss=0.249 gan_loss=0.000\n",
            "2/2 [==============================] - 0s 12ms/step\n",
            ">Epoch: 7,Batch: 203/468, disc_real_loss=0.244, disc_fake_loss=0.264 gan_loss=0.000\n",
            "2/2 [==============================] - 0s 5ms/step\n",
            ">Epoch: 7,Batch: 204/468, disc_real_loss=0.205, disc_fake_loss=0.280 gan_loss=0.000\n",
            "2/2 [==============================] - 0s 6ms/step\n",
            ">Epoch: 7,Batch: 205/468, disc_real_loss=0.297, disc_fake_loss=0.269 gan_loss=0.000\n",
            "2/2 [==============================] - 0s 4ms/step\n",
            ">Epoch: 7,Batch: 206/468, disc_real_loss=0.294, disc_fake_loss=0.262 gan_loss=0.000\n",
            "2/2 [==============================] - 0s 6ms/step\n",
            ">Epoch: 7,Batch: 207/468, disc_real_loss=0.279, disc_fake_loss=0.289 gan_loss=0.000\n",
            "2/2 [==============================] - 0s 7ms/step\n",
            ">Epoch: 7,Batch: 208/468, disc_real_loss=0.219, disc_fake_loss=0.245 gan_loss=0.000\n",
            "2/2 [==============================] - 0s 7ms/step\n",
            ">Epoch: 7,Batch: 209/468, disc_real_loss=0.243, disc_fake_loss=0.212 gan_loss=0.000\n",
            "2/2 [==============================] - 0s 15ms/step\n",
            ">Epoch: 7,Batch: 210/468, disc_real_loss=0.279, disc_fake_loss=0.310 gan_loss=0.000\n",
            "2/2 [==============================] - 0s 10ms/step\n",
            ">Epoch: 7,Batch: 211/468, disc_real_loss=0.263, disc_fake_loss=0.273 gan_loss=0.000\n",
            "2/2 [==============================] - 0s 9ms/step\n",
            ">Epoch: 7,Batch: 212/468, disc_real_loss=0.301, disc_fake_loss=0.318 gan_loss=0.000\n",
            "2/2 [==============================] - 0s 9ms/step\n",
            ">Epoch: 7,Batch: 213/468, disc_real_loss=0.238, disc_fake_loss=0.263 gan_loss=0.000\n",
            "2/2 [==============================] - 0s 9ms/step\n",
            ">Epoch: 7,Batch: 214/468, disc_real_loss=0.285, disc_fake_loss=0.356 gan_loss=0.000\n",
            "2/2 [==============================] - 0s 8ms/step\n",
            ">Epoch: 7,Batch: 215/468, disc_real_loss=0.334, disc_fake_loss=0.252 gan_loss=0.000\n",
            "2/2 [==============================] - 0s 9ms/step\n",
            ">Epoch: 7,Batch: 216/468, disc_real_loss=0.186, disc_fake_loss=0.232 gan_loss=0.000\n",
            "2/2 [==============================] - 0s 4ms/step\n",
            ">Epoch: 7,Batch: 217/468, disc_real_loss=0.217, disc_fake_loss=0.259 gan_loss=0.000\n",
            "2/2 [==============================] - 0s 4ms/step\n",
            ">Epoch: 7,Batch: 218/468, disc_real_loss=0.256, disc_fake_loss=0.233 gan_loss=0.000\n",
            "2/2 [==============================] - 0s 8ms/step\n",
            ">Epoch: 7,Batch: 219/468, disc_real_loss=0.228, disc_fake_loss=0.246 gan_loss=0.000\n",
            "2/2 [==============================] - 0s 6ms/step\n",
            ">Epoch: 7,Batch: 220/468, disc_real_loss=0.323, disc_fake_loss=0.274 gan_loss=0.000\n",
            "2/2 [==============================] - 0s 9ms/step\n",
            ">Epoch: 7,Batch: 221/468, disc_real_loss=0.183, disc_fake_loss=0.296 gan_loss=0.000\n",
            "2/2 [==============================] - 0s 8ms/step\n",
            ">Epoch: 7,Batch: 222/468, disc_real_loss=0.168, disc_fake_loss=0.213 gan_loss=0.000\n",
            "2/2 [==============================] - 0s 8ms/step\n",
            ">Epoch: 7,Batch: 223/468, disc_real_loss=0.275, disc_fake_loss=0.293 gan_loss=0.000\n",
            "2/2 [==============================] - 0s 7ms/step\n",
            ">Epoch: 7,Batch: 224/468, disc_real_loss=0.250, disc_fake_loss=0.255 gan_loss=0.000\n",
            "2/2 [==============================] - 0s 5ms/step\n",
            ">Epoch: 7,Batch: 225/468, disc_real_loss=0.214, disc_fake_loss=0.309 gan_loss=0.000\n",
            "2/2 [==============================] - 0s 5ms/step\n",
            ">Epoch: 7,Batch: 226/468, disc_real_loss=0.288, disc_fake_loss=0.200 gan_loss=0.000\n",
            "2/2 [==============================] - 0s 6ms/step\n",
            ">Epoch: 7,Batch: 227/468, disc_real_loss=0.221, disc_fake_loss=0.243 gan_loss=0.000\n",
            "2/2 [==============================] - 0s 4ms/step\n",
            ">Epoch: 7,Batch: 228/468, disc_real_loss=0.305, disc_fake_loss=0.257 gan_loss=0.000\n",
            "2/2 [==============================] - 0s 5ms/step\n",
            ">Epoch: 7,Batch: 229/468, disc_real_loss=0.220, disc_fake_loss=0.282 gan_loss=0.000\n",
            "2/2 [==============================] - 0s 13ms/step\n",
            ">Epoch: 7,Batch: 230/468, disc_real_loss=0.234, disc_fake_loss=0.219 gan_loss=0.000\n",
            "2/2 [==============================] - 0s 4ms/step\n",
            ">Epoch: 7,Batch: 231/468, disc_real_loss=0.247, disc_fake_loss=0.306 gan_loss=0.000\n",
            "2/2 [==============================] - 0s 4ms/step\n",
            ">Epoch: 7,Batch: 232/468, disc_real_loss=0.218, disc_fake_loss=0.228 gan_loss=0.000\n",
            "2/2 [==============================] - 0s 10ms/step\n",
            ">Epoch: 7,Batch: 233/468, disc_real_loss=0.273, disc_fake_loss=0.298 gan_loss=0.000\n",
            "2/2 [==============================] - 0s 6ms/step\n",
            ">Epoch: 7,Batch: 234/468, disc_real_loss=0.192, disc_fake_loss=0.270 gan_loss=0.000\n",
            "2/2 [==============================] - 0s 8ms/step\n",
            ">Epoch: 7,Batch: 235/468, disc_real_loss=0.337, disc_fake_loss=0.186 gan_loss=0.000\n",
            "2/2 [==============================] - 0s 5ms/step\n",
            ">Epoch: 7,Batch: 236/468, disc_real_loss=0.252, disc_fake_loss=0.227 gan_loss=0.000\n",
            "2/2 [==============================] - 0s 6ms/step\n",
            ">Epoch: 7,Batch: 237/468, disc_real_loss=0.210, disc_fake_loss=0.281 gan_loss=0.000\n",
            "2/2 [==============================] - 0s 4ms/step\n",
            ">Epoch: 7,Batch: 238/468, disc_real_loss=0.235, disc_fake_loss=0.246 gan_loss=0.000\n",
            "2/2 [==============================] - 0s 10ms/step\n",
            ">Epoch: 7,Batch: 239/468, disc_real_loss=0.275, disc_fake_loss=0.225 gan_loss=0.000\n",
            "2/2 [==============================] - 0s 7ms/step\n",
            ">Epoch: 7,Batch: 240/468, disc_real_loss=0.309, disc_fake_loss=0.350 gan_loss=0.000\n",
            "2/2 [==============================] - 0s 11ms/step\n",
            ">Epoch: 7,Batch: 241/468, disc_real_loss=0.201, disc_fake_loss=0.361 gan_loss=0.000\n",
            "2/2 [==============================] - 0s 7ms/step\n",
            ">Epoch: 7,Batch: 242/468, disc_real_loss=0.213, disc_fake_loss=0.241 gan_loss=0.000\n",
            "2/2 [==============================] - 0s 18ms/step\n",
            ">Epoch: 7,Batch: 243/468, disc_real_loss=0.328, disc_fake_loss=0.211 gan_loss=0.000\n",
            "2/2 [==============================] - 0s 5ms/step\n",
            ">Epoch: 7,Batch: 244/468, disc_real_loss=0.276, disc_fake_loss=0.331 gan_loss=0.000\n",
            "2/2 [==============================] - 0s 7ms/step\n",
            ">Epoch: 7,Batch: 245/468, disc_real_loss=0.251, disc_fake_loss=0.328 gan_loss=0.000\n",
            "2/2 [==============================] - 0s 16ms/step\n",
            ">Epoch: 7,Batch: 246/468, disc_real_loss=0.265, disc_fake_loss=0.164 gan_loss=0.000\n",
            "2/2 [==============================] - 0s 6ms/step\n",
            ">Epoch: 7,Batch: 247/468, disc_real_loss=0.220, disc_fake_loss=0.251 gan_loss=0.000\n",
            "2/2 [==============================] - 0s 11ms/step\n",
            ">Epoch: 7,Batch: 248/468, disc_real_loss=0.197, disc_fake_loss=0.288 gan_loss=0.000\n",
            "2/2 [==============================] - 0s 4ms/step\n",
            ">Epoch: 7,Batch: 249/468, disc_real_loss=0.268, disc_fake_loss=0.237 gan_loss=0.000\n",
            "2/2 [==============================] - 0s 8ms/step\n",
            ">Epoch: 7,Batch: 250/468, disc_real_loss=0.236, disc_fake_loss=0.319 gan_loss=0.000\n",
            "2/2 [==============================] - 0s 16ms/step\n",
            ">Epoch: 7,Batch: 251/468, disc_real_loss=0.218, disc_fake_loss=0.170 gan_loss=0.000\n",
            "2/2 [==============================] - 0s 4ms/step\n",
            ">Epoch: 7,Batch: 252/468, disc_real_loss=0.231, disc_fake_loss=0.338 gan_loss=0.000\n",
            "2/2 [==============================] - 0s 11ms/step\n",
            ">Epoch: 7,Batch: 253/468, disc_real_loss=0.311, disc_fake_loss=0.235 gan_loss=0.000\n",
            "2/2 [==============================] - 0s 13ms/step\n",
            ">Epoch: 7,Batch: 254/468, disc_real_loss=0.217, disc_fake_loss=0.330 gan_loss=0.000\n",
            "2/2 [==============================] - 0s 8ms/step\n",
            ">Epoch: 7,Batch: 255/468, disc_real_loss=0.197, disc_fake_loss=0.313 gan_loss=0.000\n",
            "2/2 [==============================] - 0s 5ms/step\n",
            ">Epoch: 7,Batch: 256/468, disc_real_loss=0.327, disc_fake_loss=0.212 gan_loss=0.000\n",
            "2/2 [==============================] - 0s 6ms/step\n",
            ">Epoch: 7,Batch: 257/468, disc_real_loss=0.316, disc_fake_loss=0.206 gan_loss=0.000\n",
            "2/2 [==============================] - 0s 7ms/step\n",
            ">Epoch: 7,Batch: 258/468, disc_real_loss=0.234, disc_fake_loss=0.304 gan_loss=0.000\n",
            "2/2 [==============================] - 0s 9ms/step\n",
            ">Epoch: 7,Batch: 259/468, disc_real_loss=0.248, disc_fake_loss=0.370 gan_loss=0.000\n",
            "2/2 [==============================] - 0s 10ms/step\n",
            ">Epoch: 7,Batch: 260/468, disc_real_loss=0.251, disc_fake_loss=0.220 gan_loss=0.000\n",
            "2/2 [==============================] - 0s 7ms/step\n",
            ">Epoch: 7,Batch: 261/468, disc_real_loss=0.303, disc_fake_loss=0.251 gan_loss=0.000\n",
            "2/2 [==============================] - 0s 5ms/step\n",
            ">Epoch: 7,Batch: 262/468, disc_real_loss=0.266, disc_fake_loss=0.360 gan_loss=0.000\n",
            "2/2 [==============================] - 0s 11ms/step\n",
            ">Epoch: 7,Batch: 263/468, disc_real_loss=0.221, disc_fake_loss=0.216 gan_loss=0.000\n",
            "2/2 [==============================] - 0s 7ms/step\n",
            ">Epoch: 7,Batch: 264/468, disc_real_loss=0.302, disc_fake_loss=0.259 gan_loss=0.000\n",
            "2/2 [==============================] - 0s 6ms/step\n",
            ">Epoch: 7,Batch: 265/468, disc_real_loss=0.239, disc_fake_loss=0.174 gan_loss=0.000\n",
            "2/2 [==============================] - 0s 13ms/step\n",
            ">Epoch: 7,Batch: 266/468, disc_real_loss=0.324, disc_fake_loss=0.262 gan_loss=0.000\n",
            "2/2 [==============================] - 0s 4ms/step\n",
            ">Epoch: 7,Batch: 267/468, disc_real_loss=0.205, disc_fake_loss=0.339 gan_loss=0.000\n",
            "2/2 [==============================] - 0s 7ms/step\n",
            ">Epoch: 7,Batch: 268/468, disc_real_loss=0.213, disc_fake_loss=0.218 gan_loss=0.000\n",
            "2/2 [==============================] - 0s 10ms/step\n",
            ">Epoch: 7,Batch: 269/468, disc_real_loss=0.252, disc_fake_loss=0.204 gan_loss=0.000\n",
            "2/2 [==============================] - 0s 9ms/step\n",
            ">Epoch: 7,Batch: 270/468, disc_real_loss=0.213, disc_fake_loss=0.203 gan_loss=0.000\n",
            "2/2 [==============================] - 0s 4ms/step\n",
            ">Epoch: 7,Batch: 271/468, disc_real_loss=0.252, disc_fake_loss=0.156 gan_loss=0.000\n",
            "2/2 [==============================] - 0s 13ms/step\n",
            ">Epoch: 7,Batch: 272/468, disc_real_loss=0.211, disc_fake_loss=0.406 gan_loss=0.000\n",
            "2/2 [==============================] - 0s 5ms/step\n",
            ">Epoch: 7,Batch: 273/468, disc_real_loss=0.262, disc_fake_loss=0.273 gan_loss=0.000\n",
            "2/2 [==============================] - 0s 4ms/step\n",
            ">Epoch: 7,Batch: 274/468, disc_real_loss=0.222, disc_fake_loss=0.218 gan_loss=0.000\n",
            "2/2 [==============================] - 0s 8ms/step\n",
            ">Epoch: 7,Batch: 275/468, disc_real_loss=0.247, disc_fake_loss=0.249 gan_loss=0.000\n",
            "2/2 [==============================] - 0s 13ms/step\n",
            ">Epoch: 7,Batch: 276/468, disc_real_loss=0.245, disc_fake_loss=0.250 gan_loss=0.000\n",
            "2/2 [==============================] - 0s 6ms/step\n",
            ">Epoch: 7,Batch: 277/468, disc_real_loss=0.297, disc_fake_loss=0.172 gan_loss=0.000\n",
            "2/2 [==============================] - 0s 5ms/step\n",
            ">Epoch: 7,Batch: 278/468, disc_real_loss=0.198, disc_fake_loss=0.330 gan_loss=0.000\n",
            "2/2 [==============================] - 0s 11ms/step\n",
            ">Epoch: 7,Batch: 279/468, disc_real_loss=0.243, disc_fake_loss=0.194 gan_loss=0.000\n",
            "2/2 [==============================] - 0s 6ms/step\n",
            ">Epoch: 7,Batch: 280/468, disc_real_loss=0.273, disc_fake_loss=0.241 gan_loss=0.000\n",
            "2/2 [==============================] - 0s 7ms/step\n",
            ">Epoch: 7,Batch: 281/468, disc_real_loss=0.223, disc_fake_loss=0.381 gan_loss=0.000\n",
            "2/2 [==============================] - 0s 9ms/step\n",
            ">Epoch: 7,Batch: 282/468, disc_real_loss=0.204, disc_fake_loss=0.220 gan_loss=0.000\n",
            "2/2 [==============================] - 0s 13ms/step\n",
            ">Epoch: 7,Batch: 283/468, disc_real_loss=0.189, disc_fake_loss=0.164 gan_loss=0.000\n",
            "2/2 [==============================] - 0s 11ms/step\n",
            ">Epoch: 7,Batch: 284/468, disc_real_loss=0.275, disc_fake_loss=0.220 gan_loss=0.000\n",
            "2/2 [==============================] - 0s 14ms/step\n",
            ">Epoch: 7,Batch: 285/468, disc_real_loss=0.246, disc_fake_loss=0.279 gan_loss=0.000\n",
            "2/2 [==============================] - 0s 6ms/step\n",
            ">Epoch: 7,Batch: 286/468, disc_real_loss=0.251, disc_fake_loss=0.274 gan_loss=0.000\n",
            "2/2 [==============================] - 0s 7ms/step\n",
            ">Epoch: 7,Batch: 287/468, disc_real_loss=0.184, disc_fake_loss=0.291 gan_loss=0.000\n",
            "2/2 [==============================] - 0s 7ms/step\n",
            ">Epoch: 7,Batch: 288/468, disc_real_loss=0.265, disc_fake_loss=0.291 gan_loss=0.000\n",
            "2/2 [==============================] - 0s 8ms/step\n",
            ">Epoch: 7,Batch: 289/468, disc_real_loss=0.312, disc_fake_loss=0.194 gan_loss=0.000\n",
            "2/2 [==============================] - 0s 11ms/step\n",
            ">Epoch: 7,Batch: 290/468, disc_real_loss=0.220, disc_fake_loss=0.300 gan_loss=0.000\n",
            "2/2 [==============================] - 0s 10ms/step\n",
            ">Epoch: 7,Batch: 291/468, disc_real_loss=0.270, disc_fake_loss=0.288 gan_loss=0.000\n",
            "2/2 [==============================] - 0s 5ms/step\n",
            ">Epoch: 7,Batch: 292/468, disc_real_loss=0.242, disc_fake_loss=0.218 gan_loss=0.000\n",
            "2/2 [==============================] - 0s 8ms/step\n",
            ">Epoch: 7,Batch: 293/468, disc_real_loss=0.228, disc_fake_loss=0.211 gan_loss=0.000\n",
            "2/2 [==============================] - 0s 10ms/step\n",
            ">Epoch: 7,Batch: 294/468, disc_real_loss=0.332, disc_fake_loss=0.244 gan_loss=0.000\n",
            "2/2 [==============================] - 0s 6ms/step\n",
            ">Epoch: 7,Batch: 295/468, disc_real_loss=0.289, disc_fake_loss=0.263 gan_loss=0.000\n",
            "2/2 [==============================] - 0s 9ms/step\n",
            ">Epoch: 7,Batch: 296/468, disc_real_loss=0.196, disc_fake_loss=0.263 gan_loss=0.000\n",
            "2/2 [==============================] - 0s 6ms/step\n",
            ">Epoch: 7,Batch: 297/468, disc_real_loss=0.247, disc_fake_loss=0.215 gan_loss=0.000\n",
            "2/2 [==============================] - 0s 14ms/step\n",
            ">Epoch: 7,Batch: 298/468, disc_real_loss=0.173, disc_fake_loss=0.227 gan_loss=0.000\n",
            "2/2 [==============================] - 0s 7ms/step\n",
            ">Epoch: 7,Batch: 299/468, disc_real_loss=0.303, disc_fake_loss=0.237 gan_loss=0.000\n",
            "2/2 [==============================] - 0s 9ms/step\n",
            ">Epoch: 7,Batch: 300/468, disc_real_loss=0.265, disc_fake_loss=0.394 gan_loss=0.000\n",
            "2/2 [==============================] - 0s 5ms/step\n",
            ">Epoch: 7,Batch: 301/468, disc_real_loss=0.261, disc_fake_loss=0.204 gan_loss=0.000\n",
            "2/2 [==============================] - 0s 5ms/step\n",
            ">Epoch: 7,Batch: 302/468, disc_real_loss=0.278, disc_fake_loss=0.281 gan_loss=0.000\n",
            "2/2 [==============================] - 0s 6ms/step\n",
            ">Epoch: 7,Batch: 303/468, disc_real_loss=0.241, disc_fake_loss=0.276 gan_loss=0.000\n",
            "2/2 [==============================] - 0s 9ms/step\n",
            ">Epoch: 7,Batch: 304/468, disc_real_loss=0.323, disc_fake_loss=0.256 gan_loss=0.000\n",
            "2/2 [==============================] - 0s 4ms/step\n",
            ">Epoch: 7,Batch: 305/468, disc_real_loss=0.228, disc_fake_loss=0.252 gan_loss=0.000\n",
            "2/2 [==============================] - 0s 7ms/step\n",
            ">Epoch: 7,Batch: 306/468, disc_real_loss=0.273, disc_fake_loss=0.281 gan_loss=0.000\n",
            "2/2 [==============================] - 0s 5ms/step\n",
            ">Epoch: 7,Batch: 307/468, disc_real_loss=0.194, disc_fake_loss=0.256 gan_loss=0.000\n",
            "2/2 [==============================] - 0s 4ms/step\n",
            ">Epoch: 7,Batch: 308/468, disc_real_loss=0.274, disc_fake_loss=0.208 gan_loss=0.000\n",
            "2/2 [==============================] - 0s 7ms/step\n",
            ">Epoch: 7,Batch: 309/468, disc_real_loss=0.278, disc_fake_loss=0.321 gan_loss=0.000\n",
            "2/2 [==============================] - 0s 6ms/step\n",
            ">Epoch: 7,Batch: 310/468, disc_real_loss=0.314, disc_fake_loss=0.237 gan_loss=0.000\n",
            "2/2 [==============================] - 0s 6ms/step\n",
            ">Epoch: 7,Batch: 311/468, disc_real_loss=0.220, disc_fake_loss=0.263 gan_loss=0.000\n",
            "2/2 [==============================] - 0s 4ms/step\n",
            ">Epoch: 7,Batch: 312/468, disc_real_loss=0.324, disc_fake_loss=0.372 gan_loss=0.000\n",
            "2/2 [==============================] - 0s 13ms/step\n",
            ">Epoch: 7,Batch: 313/468, disc_real_loss=0.314, disc_fake_loss=0.305 gan_loss=0.000\n",
            "2/2 [==============================] - 0s 7ms/step\n",
            ">Epoch: 7,Batch: 314/468, disc_real_loss=0.231, disc_fake_loss=0.223 gan_loss=0.000\n",
            "2/2 [==============================] - 0s 12ms/step\n",
            ">Epoch: 7,Batch: 315/468, disc_real_loss=0.251, disc_fake_loss=0.178 gan_loss=0.000\n",
            "2/2 [==============================] - 0s 14ms/step\n",
            ">Epoch: 7,Batch: 316/468, disc_real_loss=0.209, disc_fake_loss=0.303 gan_loss=0.000\n",
            "2/2 [==============================] - 0s 4ms/step\n",
            ">Epoch: 7,Batch: 317/468, disc_real_loss=0.312, disc_fake_loss=0.176 gan_loss=0.000\n",
            "2/2 [==============================] - 0s 9ms/step\n",
            ">Epoch: 7,Batch: 318/468, disc_real_loss=0.190, disc_fake_loss=0.244 gan_loss=0.000\n",
            "2/2 [==============================] - 0s 6ms/step\n",
            ">Epoch: 7,Batch: 319/468, disc_real_loss=0.204, disc_fake_loss=0.172 gan_loss=0.000\n",
            "2/2 [==============================] - 0s 9ms/step\n",
            ">Epoch: 7,Batch: 320/468, disc_real_loss=0.259, disc_fake_loss=0.198 gan_loss=0.000\n",
            "2/2 [==============================] - 0s 5ms/step\n",
            ">Epoch: 7,Batch: 321/468, disc_real_loss=0.248, disc_fake_loss=0.235 gan_loss=0.000\n",
            "2/2 [==============================] - 0s 10ms/step\n",
            ">Epoch: 7,Batch: 322/468, disc_real_loss=0.210, disc_fake_loss=0.298 gan_loss=0.000\n",
            "2/2 [==============================] - 0s 10ms/step\n",
            ">Epoch: 7,Batch: 323/468, disc_real_loss=0.230, disc_fake_loss=0.282 gan_loss=0.000\n",
            "2/2 [==============================] - 0s 6ms/step\n",
            ">Epoch: 7,Batch: 324/468, disc_real_loss=0.192, disc_fake_loss=0.208 gan_loss=0.000\n",
            "2/2 [==============================] - 0s 8ms/step\n",
            ">Epoch: 7,Batch: 325/468, disc_real_loss=0.246, disc_fake_loss=0.185 gan_loss=0.000\n",
            "2/2 [==============================] - 0s 6ms/step\n",
            ">Epoch: 7,Batch: 326/468, disc_real_loss=0.354, disc_fake_loss=0.234 gan_loss=0.000\n",
            "2/2 [==============================] - 0s 6ms/step\n",
            ">Epoch: 7,Batch: 327/468, disc_real_loss=0.216, disc_fake_loss=0.382 gan_loss=0.000\n",
            "2/2 [==============================] - 0s 10ms/step\n",
            ">Epoch: 7,Batch: 328/468, disc_real_loss=0.225, disc_fake_loss=0.211 gan_loss=0.000\n",
            "2/2 [==============================] - 0s 5ms/step\n",
            ">Epoch: 7,Batch: 329/468, disc_real_loss=0.181, disc_fake_loss=0.267 gan_loss=0.000\n",
            "2/2 [==============================] - 0s 6ms/step\n",
            ">Epoch: 7,Batch: 330/468, disc_real_loss=0.297, disc_fake_loss=0.166 gan_loss=0.000\n",
            "2/2 [==============================] - 0s 12ms/step\n",
            ">Epoch: 7,Batch: 331/468, disc_real_loss=0.195, disc_fake_loss=0.203 gan_loss=0.000\n",
            "2/2 [==============================] - 0s 19ms/step\n",
            ">Epoch: 7,Batch: 332/468, disc_real_loss=0.306, disc_fake_loss=0.276 gan_loss=0.000\n",
            "2/2 [==============================] - 0s 6ms/step\n",
            ">Epoch: 7,Batch: 333/468, disc_real_loss=0.220, disc_fake_loss=0.356 gan_loss=0.000\n",
            "2/2 [==============================] - 0s 6ms/step\n",
            ">Epoch: 7,Batch: 334/468, disc_real_loss=0.294, disc_fake_loss=0.239 gan_loss=0.000\n",
            "2/2 [==============================] - 0s 13ms/step\n",
            ">Epoch: 7,Batch: 335/468, disc_real_loss=0.328, disc_fake_loss=0.254 gan_loss=0.000\n",
            "2/2 [==============================] - 0s 7ms/step\n",
            ">Epoch: 7,Batch: 336/468, disc_real_loss=0.209, disc_fake_loss=0.313 gan_loss=0.000\n",
            "2/2 [==============================] - 0s 6ms/step\n",
            ">Epoch: 7,Batch: 337/468, disc_real_loss=0.281, disc_fake_loss=0.368 gan_loss=0.000\n",
            "2/2 [==============================] - 0s 10ms/step\n",
            ">Epoch: 7,Batch: 338/468, disc_real_loss=0.231, disc_fake_loss=0.223 gan_loss=0.000\n",
            "2/2 [==============================] - 0s 11ms/step\n",
            ">Epoch: 7,Batch: 339/468, disc_real_loss=0.419, disc_fake_loss=0.225 gan_loss=0.000\n",
            "2/2 [==============================] - 0s 7ms/step\n",
            ">Epoch: 7,Batch: 340/468, disc_real_loss=0.229, disc_fake_loss=0.261 gan_loss=0.000\n",
            "2/2 [==============================] - 0s 16ms/step\n",
            ">Epoch: 7,Batch: 341/468, disc_real_loss=0.218, disc_fake_loss=0.328 gan_loss=0.000\n",
            "2/2 [==============================] - 0s 13ms/step\n",
            ">Epoch: 7,Batch: 342/468, disc_real_loss=0.232, disc_fake_loss=0.205 gan_loss=0.000\n",
            "2/2 [==============================] - 0s 11ms/step\n",
            ">Epoch: 7,Batch: 343/468, disc_real_loss=0.245, disc_fake_loss=0.191 gan_loss=0.000\n",
            "2/2 [==============================] - 0s 7ms/step\n",
            ">Epoch: 7,Batch: 344/468, disc_real_loss=0.189, disc_fake_loss=0.212 gan_loss=0.000\n",
            "2/2 [==============================] - 0s 7ms/step\n",
            ">Epoch: 7,Batch: 345/468, disc_real_loss=0.250, disc_fake_loss=0.301 gan_loss=0.000\n",
            "2/2 [==============================] - 0s 12ms/step\n",
            ">Epoch: 7,Batch: 346/468, disc_real_loss=0.253, disc_fake_loss=0.287 gan_loss=0.000\n",
            "2/2 [==============================] - 0s 20ms/step\n",
            ">Epoch: 7,Batch: 347/468, disc_real_loss=0.243, disc_fake_loss=0.199 gan_loss=0.000\n",
            "2/2 [==============================] - 0s 10ms/step\n",
            ">Epoch: 7,Batch: 348/468, disc_real_loss=0.160, disc_fake_loss=0.257 gan_loss=0.000\n",
            "2/2 [==============================] - 0s 6ms/step\n",
            ">Epoch: 7,Batch: 349/468, disc_real_loss=0.240, disc_fake_loss=0.271 gan_loss=0.000\n",
            "2/2 [==============================] - 0s 5ms/step\n",
            ">Epoch: 7,Batch: 350/468, disc_real_loss=0.279, disc_fake_loss=0.217 gan_loss=0.000\n",
            "2/2 [==============================] - 0s 8ms/step\n",
            ">Epoch: 7,Batch: 351/468, disc_real_loss=0.327, disc_fake_loss=0.289 gan_loss=0.000\n",
            "2/2 [==============================] - 0s 7ms/step\n",
            ">Epoch: 7,Batch: 352/468, disc_real_loss=0.215, disc_fake_loss=0.301 gan_loss=0.000\n",
            "2/2 [==============================] - 0s 13ms/step\n",
            ">Epoch: 7,Batch: 353/468, disc_real_loss=0.253, disc_fake_loss=0.168 gan_loss=0.000\n",
            "2/2 [==============================] - 0s 6ms/step\n",
            ">Epoch: 7,Batch: 354/468, disc_real_loss=0.313, disc_fake_loss=0.314 gan_loss=0.000\n",
            "2/2 [==============================] - 0s 5ms/step\n",
            ">Epoch: 7,Batch: 355/468, disc_real_loss=0.245, disc_fake_loss=0.245 gan_loss=0.000\n",
            "2/2 [==============================] - 0s 10ms/step\n",
            ">Epoch: 7,Batch: 356/468, disc_real_loss=0.240, disc_fake_loss=0.312 gan_loss=0.000\n",
            "2/2 [==============================] - 0s 10ms/step\n",
            ">Epoch: 7,Batch: 357/468, disc_real_loss=0.155, disc_fake_loss=0.173 gan_loss=0.000\n",
            "2/2 [==============================] - 0s 8ms/step\n",
            ">Epoch: 7,Batch: 358/468, disc_real_loss=0.262, disc_fake_loss=0.294 gan_loss=0.000\n",
            "2/2 [==============================] - 0s 8ms/step\n",
            ">Epoch: 7,Batch: 359/468, disc_real_loss=0.202, disc_fake_loss=0.120 gan_loss=0.000\n",
            "2/2 [==============================] - 0s 6ms/step\n",
            ">Epoch: 7,Batch: 360/468, disc_real_loss=0.258, disc_fake_loss=0.183 gan_loss=0.000\n",
            "2/2 [==============================] - 0s 7ms/step\n",
            ">Epoch: 7,Batch: 361/468, disc_real_loss=0.190, disc_fake_loss=0.225 gan_loss=0.000\n",
            "2/2 [==============================] - 0s 6ms/step\n",
            ">Epoch: 7,Batch: 362/468, disc_real_loss=0.169, disc_fake_loss=0.270 gan_loss=0.000\n",
            "2/2 [==============================] - 0s 6ms/step\n",
            ">Epoch: 7,Batch: 363/468, disc_real_loss=0.272, disc_fake_loss=0.252 gan_loss=0.000\n",
            "2/2 [==============================] - 0s 11ms/step\n",
            ">Epoch: 7,Batch: 364/468, disc_real_loss=0.282, disc_fake_loss=0.290 gan_loss=0.000\n",
            "2/2 [==============================] - 0s 5ms/step\n",
            ">Epoch: 7,Batch: 365/468, disc_real_loss=0.235, disc_fake_loss=0.258 gan_loss=0.000\n",
            "2/2 [==============================] - 0s 5ms/step\n",
            ">Epoch: 7,Batch: 366/468, disc_real_loss=0.256, disc_fake_loss=0.281 gan_loss=0.000\n",
            "2/2 [==============================] - 0s 11ms/step\n",
            ">Epoch: 7,Batch: 367/468, disc_real_loss=0.291, disc_fake_loss=0.232 gan_loss=0.000\n",
            "2/2 [==============================] - 0s 6ms/step\n",
            ">Epoch: 7,Batch: 368/468, disc_real_loss=0.202, disc_fake_loss=0.193 gan_loss=0.000\n",
            "2/2 [==============================] - 0s 7ms/step\n",
            ">Epoch: 7,Batch: 369/468, disc_real_loss=0.229, disc_fake_loss=0.247 gan_loss=0.000\n",
            "2/2 [==============================] - 0s 7ms/step\n",
            ">Epoch: 7,Batch: 370/468, disc_real_loss=0.226, disc_fake_loss=0.220 gan_loss=0.000\n",
            "2/2 [==============================] - 0s 6ms/step\n",
            ">Epoch: 7,Batch: 371/468, disc_real_loss=0.244, disc_fake_loss=0.230 gan_loss=0.000\n",
            "2/2 [==============================] - 0s 12ms/step\n",
            ">Epoch: 7,Batch: 372/468, disc_real_loss=0.205, disc_fake_loss=0.254 gan_loss=0.000\n",
            "2/2 [==============================] - 0s 11ms/step\n",
            ">Epoch: 7,Batch: 373/468, disc_real_loss=0.193, disc_fake_loss=0.257 gan_loss=0.000\n",
            "2/2 [==============================] - 0s 14ms/step\n",
            ">Epoch: 7,Batch: 374/468, disc_real_loss=0.238, disc_fake_loss=0.214 gan_loss=0.000\n",
            "2/2 [==============================] - 0s 4ms/step\n",
            ">Epoch: 7,Batch: 375/468, disc_real_loss=0.285, disc_fake_loss=0.191 gan_loss=0.000\n",
            "2/2 [==============================] - 0s 6ms/step\n",
            ">Epoch: 7,Batch: 376/468, disc_real_loss=0.213, disc_fake_loss=0.273 gan_loss=0.000\n",
            "2/2 [==============================] - 0s 9ms/step\n",
            ">Epoch: 7,Batch: 377/468, disc_real_loss=0.201, disc_fake_loss=0.307 gan_loss=0.000\n",
            "2/2 [==============================] - 0s 9ms/step\n",
            ">Epoch: 7,Batch: 378/468, disc_real_loss=0.249, disc_fake_loss=0.231 gan_loss=0.000\n",
            "2/2 [==============================] - 0s 7ms/step\n",
            ">Epoch: 7,Batch: 379/468, disc_real_loss=0.311, disc_fake_loss=0.185 gan_loss=0.000\n",
            "2/2 [==============================] - 0s 11ms/step\n",
            ">Epoch: 7,Batch: 380/468, disc_real_loss=0.195, disc_fake_loss=0.299 gan_loss=0.000\n",
            "2/2 [==============================] - 0s 8ms/step\n",
            ">Epoch: 7,Batch: 381/468, disc_real_loss=0.313, disc_fake_loss=0.254 gan_loss=0.000\n",
            "2/2 [==============================] - 0s 6ms/step\n",
            ">Epoch: 7,Batch: 382/468, disc_real_loss=0.185, disc_fake_loss=0.344 gan_loss=0.000\n",
            "2/2 [==============================] - 0s 11ms/step\n",
            ">Epoch: 7,Batch: 383/468, disc_real_loss=0.186, disc_fake_loss=0.257 gan_loss=0.000\n",
            "2/2 [==============================] - 0s 8ms/step\n",
            ">Epoch: 7,Batch: 384/468, disc_real_loss=0.313, disc_fake_loss=0.225 gan_loss=0.000\n",
            "2/2 [==============================] - 0s 5ms/step\n",
            ">Epoch: 7,Batch: 385/468, disc_real_loss=0.251, disc_fake_loss=0.274 gan_loss=0.000\n",
            "2/2 [==============================] - 0s 5ms/step\n",
            ">Epoch: 7,Batch: 386/468, disc_real_loss=0.352, disc_fake_loss=0.313 gan_loss=0.000\n",
            "2/2 [==============================] - 0s 11ms/step\n",
            ">Epoch: 7,Batch: 387/468, disc_real_loss=0.309, disc_fake_loss=0.281 gan_loss=0.000\n",
            "2/2 [==============================] - 0s 5ms/step\n",
            ">Epoch: 7,Batch: 388/468, disc_real_loss=0.162, disc_fake_loss=0.283 gan_loss=0.000\n",
            "2/2 [==============================] - 0s 7ms/step\n",
            ">Epoch: 7,Batch: 389/468, disc_real_loss=0.333, disc_fake_loss=0.234 gan_loss=0.000\n",
            "2/2 [==============================] - 0s 9ms/step\n",
            ">Epoch: 7,Batch: 390/468, disc_real_loss=0.192, disc_fake_loss=0.327 gan_loss=0.000\n",
            "2/2 [==============================] - 0s 8ms/step\n",
            ">Epoch: 7,Batch: 391/468, disc_real_loss=0.216, disc_fake_loss=0.214 gan_loss=0.000\n",
            "2/2 [==============================] - 0s 8ms/step\n",
            ">Epoch: 7,Batch: 392/468, disc_real_loss=0.331, disc_fake_loss=0.258 gan_loss=0.000\n",
            "2/2 [==============================] - 0s 9ms/step\n",
            ">Epoch: 7,Batch: 393/468, disc_real_loss=0.219, disc_fake_loss=0.303 gan_loss=0.000\n",
            "2/2 [==============================] - 0s 7ms/step\n",
            ">Epoch: 7,Batch: 394/468, disc_real_loss=0.152, disc_fake_loss=0.210 gan_loss=0.000\n",
            "2/2 [==============================] - 0s 9ms/step\n",
            ">Epoch: 7,Batch: 395/468, disc_real_loss=0.417, disc_fake_loss=0.219 gan_loss=0.000\n",
            "2/2 [==============================] - 0s 6ms/step\n",
            ">Epoch: 7,Batch: 396/468, disc_real_loss=0.230, disc_fake_loss=0.248 gan_loss=0.000\n",
            "2/2 [==============================] - 0s 8ms/step\n",
            ">Epoch: 7,Batch: 397/468, disc_real_loss=0.227, disc_fake_loss=0.244 gan_loss=0.000\n",
            "2/2 [==============================] - 0s 12ms/step\n",
            ">Epoch: 7,Batch: 398/468, disc_real_loss=0.213, disc_fake_loss=0.306 gan_loss=0.000\n",
            "2/2 [==============================] - 0s 5ms/step\n",
            ">Epoch: 7,Batch: 399/468, disc_real_loss=0.295, disc_fake_loss=0.188 gan_loss=0.000\n",
            "2/2 [==============================] - 0s 7ms/step\n",
            ">Epoch: 7,Batch: 400/468, disc_real_loss=0.265, disc_fake_loss=0.297 gan_loss=0.000\n",
            "2/2 [==============================] - 0s 5ms/step\n",
            ">Epoch: 7,Batch: 401/468, disc_real_loss=0.239, disc_fake_loss=0.241 gan_loss=0.000\n",
            "2/2 [==============================] - 0s 11ms/step\n",
            ">Epoch: 7,Batch: 402/468, disc_real_loss=0.185, disc_fake_loss=0.209 gan_loss=0.000\n",
            "2/2 [==============================] - 0s 13ms/step\n",
            ">Epoch: 7,Batch: 403/468, disc_real_loss=0.206, disc_fake_loss=0.213 gan_loss=0.000\n",
            "2/2 [==============================] - 0s 11ms/step\n",
            ">Epoch: 7,Batch: 404/468, disc_real_loss=0.225, disc_fake_loss=0.210 gan_loss=0.000\n",
            "2/2 [==============================] - 0s 5ms/step\n",
            ">Epoch: 7,Batch: 405/468, disc_real_loss=0.229, disc_fake_loss=0.218 gan_loss=0.000\n",
            "2/2 [==============================] - 0s 5ms/step\n",
            ">Epoch: 7,Batch: 406/468, disc_real_loss=0.207, disc_fake_loss=0.199 gan_loss=0.000\n",
            "2/2 [==============================] - 0s 12ms/step\n",
            ">Epoch: 7,Batch: 407/468, disc_real_loss=0.213, disc_fake_loss=0.179 gan_loss=0.000\n",
            "2/2 [==============================] - 0s 5ms/step\n",
            ">Epoch: 7,Batch: 408/468, disc_real_loss=0.167, disc_fake_loss=0.275 gan_loss=0.000\n",
            "2/2 [==============================] - 0s 7ms/step\n",
            ">Epoch: 7,Batch: 409/468, disc_real_loss=0.233, disc_fake_loss=0.240 gan_loss=0.000\n",
            "2/2 [==============================] - 0s 16ms/step\n",
            ">Epoch: 7,Batch: 410/468, disc_real_loss=0.312, disc_fake_loss=0.277 gan_loss=0.000\n",
            "2/2 [==============================] - 0s 7ms/step\n",
            ">Epoch: 7,Batch: 411/468, disc_real_loss=0.238, disc_fake_loss=0.276 gan_loss=0.000\n",
            "2/2 [==============================] - 0s 9ms/step\n",
            ">Epoch: 7,Batch: 412/468, disc_real_loss=0.252, disc_fake_loss=0.149 gan_loss=0.000\n",
            "2/2 [==============================] - 0s 14ms/step\n",
            ">Epoch: 7,Batch: 413/468, disc_real_loss=0.183, disc_fake_loss=0.223 gan_loss=0.000\n",
            "2/2 [==============================] - 0s 5ms/step\n",
            ">Epoch: 7,Batch: 414/468, disc_real_loss=0.177, disc_fake_loss=0.256 gan_loss=0.000\n",
            "2/2 [==============================] - 0s 4ms/step\n",
            ">Epoch: 7,Batch: 415/468, disc_real_loss=0.239, disc_fake_loss=0.245 gan_loss=0.000\n",
            "2/2 [==============================] - 0s 9ms/step\n",
            ">Epoch: 7,Batch: 416/468, disc_real_loss=0.217, disc_fake_loss=0.256 gan_loss=0.000\n",
            "2/2 [==============================] - 0s 5ms/step\n",
            ">Epoch: 7,Batch: 417/468, disc_real_loss=0.257, disc_fake_loss=0.204 gan_loss=0.000\n",
            "2/2 [==============================] - 0s 14ms/step\n",
            ">Epoch: 7,Batch: 418/468, disc_real_loss=0.180, disc_fake_loss=0.218 gan_loss=0.000\n",
            "2/2 [==============================] - 0s 8ms/step\n",
            ">Epoch: 7,Batch: 419/468, disc_real_loss=0.318, disc_fake_loss=0.276 gan_loss=0.000\n",
            "2/2 [==============================] - 0s 4ms/step\n",
            ">Epoch: 7,Batch: 420/468, disc_real_loss=0.164, disc_fake_loss=0.308 gan_loss=0.000\n",
            "2/2 [==============================] - 0s 5ms/step\n",
            ">Epoch: 7,Batch: 421/468, disc_real_loss=0.255, disc_fake_loss=0.256 gan_loss=0.000\n",
            "2/2 [==============================] - 0s 4ms/step\n",
            ">Epoch: 7,Batch: 422/468, disc_real_loss=0.263, disc_fake_loss=0.156 gan_loss=0.000\n",
            "2/2 [==============================] - 0s 5ms/step\n",
            ">Epoch: 7,Batch: 423/468, disc_real_loss=0.246, disc_fake_loss=0.169 gan_loss=0.000\n",
            "2/2 [==============================] - 0s 3ms/step\n",
            ">Epoch: 7,Batch: 424/468, disc_real_loss=0.316, disc_fake_loss=0.401 gan_loss=0.000\n",
            "2/2 [==============================] - 0s 12ms/step\n",
            ">Epoch: 7,Batch: 425/468, disc_real_loss=0.211, disc_fake_loss=0.417 gan_loss=0.000\n",
            "2/2 [==============================] - 0s 5ms/step\n",
            ">Epoch: 7,Batch: 426/468, disc_real_loss=0.262, disc_fake_loss=0.169 gan_loss=0.000\n",
            "2/2 [==============================] - 0s 4ms/step\n",
            ">Epoch: 7,Batch: 427/468, disc_real_loss=0.263, disc_fake_loss=0.259 gan_loss=0.000\n",
            "2/2 [==============================] - 0s 8ms/step\n",
            ">Epoch: 7,Batch: 428/468, disc_real_loss=0.247, disc_fake_loss=0.189 gan_loss=0.000\n",
            "2/2 [==============================] - 0s 6ms/step\n",
            ">Epoch: 7,Batch: 429/468, disc_real_loss=0.272, disc_fake_loss=0.226 gan_loss=0.000\n",
            "2/2 [==============================] - 0s 14ms/step\n",
            ">Epoch: 7,Batch: 430/468, disc_real_loss=0.239, disc_fake_loss=0.219 gan_loss=0.000\n",
            "2/2 [==============================] - 0s 5ms/step\n",
            ">Epoch: 7,Batch: 431/468, disc_real_loss=0.242, disc_fake_loss=0.263 gan_loss=0.000\n",
            "2/2 [==============================] - 0s 9ms/step\n",
            ">Epoch: 7,Batch: 432/468, disc_real_loss=0.188, disc_fake_loss=0.279 gan_loss=0.000\n",
            "2/2 [==============================] - 0s 6ms/step\n",
            ">Epoch: 7,Batch: 433/468, disc_real_loss=0.309, disc_fake_loss=0.269 gan_loss=0.000\n",
            "2/2 [==============================] - 0s 9ms/step\n",
            ">Epoch: 7,Batch: 434/468, disc_real_loss=0.202, disc_fake_loss=0.175 gan_loss=0.000\n",
            "2/2 [==============================] - 0s 6ms/step\n",
            ">Epoch: 7,Batch: 435/468, disc_real_loss=0.286, disc_fake_loss=0.182 gan_loss=0.000\n",
            "2/2 [==============================] - 0s 5ms/step\n",
            ">Epoch: 7,Batch: 436/468, disc_real_loss=0.195, disc_fake_loss=0.244 gan_loss=0.000\n",
            "2/2 [==============================] - 0s 8ms/step\n",
            ">Epoch: 7,Batch: 437/468, disc_real_loss=0.244, disc_fake_loss=0.263 gan_loss=0.000\n",
            "2/2 [==============================] - 0s 9ms/step\n",
            ">Epoch: 7,Batch: 438/468, disc_real_loss=0.162, disc_fake_loss=0.221 gan_loss=0.000\n",
            "2/2 [==============================] - 0s 5ms/step\n",
            ">Epoch: 7,Batch: 439/468, disc_real_loss=0.325, disc_fake_loss=0.328 gan_loss=0.000\n",
            "2/2 [==============================] - 0s 5ms/step\n",
            ">Epoch: 7,Batch: 440/468, disc_real_loss=0.286, disc_fake_loss=0.296 gan_loss=0.000\n",
            "2/2 [==============================] - 0s 5ms/step\n",
            ">Epoch: 7,Batch: 441/468, disc_real_loss=0.255, disc_fake_loss=0.280 gan_loss=0.000\n",
            "2/2 [==============================] - 0s 6ms/step\n",
            ">Epoch: 7,Batch: 442/468, disc_real_loss=0.252, disc_fake_loss=0.213 gan_loss=0.000\n",
            "2/2 [==============================] - 0s 7ms/step\n",
            ">Epoch: 7,Batch: 443/468, disc_real_loss=0.233, disc_fake_loss=0.318 gan_loss=0.000\n",
            "2/2 [==============================] - 0s 10ms/step\n",
            ">Epoch: 7,Batch: 444/468, disc_real_loss=0.199, disc_fake_loss=0.188 gan_loss=0.000\n",
            "2/2 [==============================] - 0s 5ms/step\n",
            ">Epoch: 7,Batch: 445/468, disc_real_loss=0.310, disc_fake_loss=0.225 gan_loss=0.000\n",
            "2/2 [==============================] - 0s 7ms/step\n",
            ">Epoch: 7,Batch: 446/468, disc_real_loss=0.144, disc_fake_loss=0.194 gan_loss=0.000\n",
            "2/2 [==============================] - 0s 7ms/step\n",
            ">Epoch: 7,Batch: 447/468, disc_real_loss=0.241, disc_fake_loss=0.202 gan_loss=0.000\n",
            "2/2 [==============================] - 0s 13ms/step\n",
            ">Epoch: 7,Batch: 448/468, disc_real_loss=0.176, disc_fake_loss=0.293 gan_loss=0.000\n",
            "2/2 [==============================] - 0s 8ms/step\n",
            ">Epoch: 7,Batch: 449/468, disc_real_loss=0.189, disc_fake_loss=0.292 gan_loss=0.000\n",
            "2/2 [==============================] - 0s 4ms/step\n",
            ">Epoch: 7,Batch: 450/468, disc_real_loss=0.223, disc_fake_loss=0.151 gan_loss=0.000\n",
            "2/2 [==============================] - 0s 9ms/step\n",
            ">Epoch: 7,Batch: 451/468, disc_real_loss=0.346, disc_fake_loss=0.243 gan_loss=0.000\n",
            "2/2 [==============================] - 0s 6ms/step\n",
            ">Epoch: 7,Batch: 452/468, disc_real_loss=0.334, disc_fake_loss=0.270 gan_loss=0.000\n",
            "2/2 [==============================] - 0s 11ms/step\n",
            ">Epoch: 7,Batch: 453/468, disc_real_loss=0.152, disc_fake_loss=0.319 gan_loss=0.000\n",
            "2/2 [==============================] - 0s 4ms/step\n",
            ">Epoch: 7,Batch: 454/468, disc_real_loss=0.243, disc_fake_loss=0.185 gan_loss=0.000\n",
            "2/2 [==============================] - 0s 10ms/step\n",
            ">Epoch: 7,Batch: 455/468, disc_real_loss=0.251, disc_fake_loss=0.306 gan_loss=0.000\n",
            "2/2 [==============================] - 0s 6ms/step\n",
            ">Epoch: 7,Batch: 456/468, disc_real_loss=0.340, disc_fake_loss=0.245 gan_loss=0.000\n",
            "2/2 [==============================] - 0s 6ms/step\n",
            ">Epoch: 7,Batch: 457/468, disc_real_loss=0.152, disc_fake_loss=0.251 gan_loss=0.000\n",
            "2/2 [==============================] - 0s 4ms/step\n",
            ">Epoch: 7,Batch: 458/468, disc_real_loss=0.175, disc_fake_loss=0.230 gan_loss=0.000\n",
            "2/2 [==============================] - 0s 6ms/step\n",
            ">Epoch: 7,Batch: 459/468, disc_real_loss=0.221, disc_fake_loss=0.197 gan_loss=0.000\n",
            "2/2 [==============================] - 0s 12ms/step\n",
            ">Epoch: 7,Batch: 460/468, disc_real_loss=0.233, disc_fake_loss=0.190 gan_loss=0.000\n",
            "2/2 [==============================] - 0s 4ms/step\n",
            ">Epoch: 7,Batch: 461/468, disc_real_loss=0.251, disc_fake_loss=0.190 gan_loss=0.000\n",
            "2/2 [==============================] - 0s 4ms/step\n",
            ">Epoch: 7,Batch: 462/468, disc_real_loss=0.365, disc_fake_loss=0.314 gan_loss=0.000\n",
            "2/2 [==============================] - 0s 11ms/step\n",
            ">Epoch: 7,Batch: 463/468, disc_real_loss=0.157, disc_fake_loss=0.284 gan_loss=0.000\n",
            "2/2 [==============================] - 0s 5ms/step\n",
            ">Epoch: 7,Batch: 464/468, disc_real_loss=0.142, disc_fake_loss=0.264 gan_loss=0.000\n",
            "2/2 [==============================] - 0s 6ms/step\n",
            ">Epoch: 7,Batch: 465/468, disc_real_loss=0.290, disc_fake_loss=0.289 gan_loss=0.000\n",
            "2/2 [==============================] - 0s 14ms/step\n",
            ">Epoch: 7,Batch: 466/468, disc_real_loss=0.336, disc_fake_loss=0.207 gan_loss=0.000\n",
            "2/2 [==============================] - 0s 4ms/step\n",
            ">Epoch: 7,Batch: 467/468, disc_real_loss=0.273, disc_fake_loss=0.245 gan_loss=0.000\n",
            "2/2 [==============================] - 0s 5ms/step\n",
            ">Epoch: 7,Batch: 468/468, disc_real_loss=0.229, disc_fake_loss=0.276 gan_loss=0.000\n",
            "2/2 [==============================] - 0s 4ms/step\n",
            ">Epoch: 8,Batch: 1/468, disc_real_loss=0.203, disc_fake_loss=0.189 gan_loss=0.000\n",
            "2/2 [==============================] - 0s 5ms/step\n",
            ">Epoch: 8,Batch: 2/468, disc_real_loss=0.302, disc_fake_loss=0.206 gan_loss=0.000\n",
            "2/2 [==============================] - 0s 5ms/step\n",
            ">Epoch: 8,Batch: 3/468, disc_real_loss=0.242, disc_fake_loss=0.234 gan_loss=0.000\n",
            "2/2 [==============================] - 0s 9ms/step\n",
            ">Epoch: 8,Batch: 4/468, disc_real_loss=0.236, disc_fake_loss=0.232 gan_loss=0.000\n",
            "2/2 [==============================] - 0s 12ms/step\n",
            ">Epoch: 8,Batch: 5/468, disc_real_loss=0.113, disc_fake_loss=0.233 gan_loss=0.000\n",
            "2/2 [==============================] - 0s 4ms/step\n",
            ">Epoch: 8,Batch: 6/468, disc_real_loss=0.186, disc_fake_loss=0.181 gan_loss=0.000\n",
            "2/2 [==============================] - 0s 17ms/step\n",
            ">Epoch: 8,Batch: 7/468, disc_real_loss=0.263, disc_fake_loss=0.239 gan_loss=0.000\n",
            "2/2 [==============================] - 0s 18ms/step\n",
            ">Epoch: 8,Batch: 8/468, disc_real_loss=0.193, disc_fake_loss=0.277 gan_loss=0.000\n",
            "2/2 [==============================] - 0s 11ms/step\n",
            ">Epoch: 8,Batch: 9/468, disc_real_loss=0.305, disc_fake_loss=0.254 gan_loss=0.000\n",
            "2/2 [==============================] - 0s 4ms/step\n",
            ">Epoch: 8,Batch: 10/468, disc_real_loss=0.260, disc_fake_loss=0.194 gan_loss=0.000\n",
            "2/2 [==============================] - 0s 17ms/step\n",
            ">Epoch: 8,Batch: 11/468, disc_real_loss=0.268, disc_fake_loss=0.291 gan_loss=0.000\n",
            "2/2 [==============================] - 0s 12ms/step\n",
            ">Epoch: 8,Batch: 12/468, disc_real_loss=0.246, disc_fake_loss=0.225 gan_loss=0.000\n",
            "2/2 [==============================] - 0s 8ms/step\n",
            ">Epoch: 8,Batch: 13/468, disc_real_loss=0.290, disc_fake_loss=0.197 gan_loss=0.000\n",
            "2/2 [==============================] - 0s 5ms/step\n",
            ">Epoch: 8,Batch: 14/468, disc_real_loss=0.177, disc_fake_loss=0.289 gan_loss=0.000\n",
            "2/2 [==============================] - 0s 5ms/step\n",
            ">Epoch: 8,Batch: 15/468, disc_real_loss=0.272, disc_fake_loss=0.229 gan_loss=0.000\n",
            "2/2 [==============================] - 0s 9ms/step\n",
            ">Epoch: 8,Batch: 16/468, disc_real_loss=0.239, disc_fake_loss=0.293 gan_loss=0.000\n",
            "2/2 [==============================] - 0s 5ms/step\n",
            ">Epoch: 8,Batch: 17/468, disc_real_loss=0.182, disc_fake_loss=0.248 gan_loss=0.000\n",
            "2/2 [==============================] - 0s 4ms/step\n",
            ">Epoch: 8,Batch: 18/468, disc_real_loss=0.406, disc_fake_loss=0.290 gan_loss=0.000\n",
            "2/2 [==============================] - 0s 14ms/step\n",
            ">Epoch: 8,Batch: 19/468, disc_real_loss=0.159, disc_fake_loss=0.284 gan_loss=0.000\n",
            "2/2 [==============================] - 0s 16ms/step\n",
            ">Epoch: 8,Batch: 20/468, disc_real_loss=0.197, disc_fake_loss=0.195 gan_loss=0.000\n",
            "2/2 [==============================] - 0s 12ms/step\n",
            ">Epoch: 8,Batch: 21/468, disc_real_loss=0.234, disc_fake_loss=0.173 gan_loss=0.000\n",
            "2/2 [==============================] - 0s 4ms/step\n",
            ">Epoch: 8,Batch: 22/468, disc_real_loss=0.209, disc_fake_loss=0.206 gan_loss=0.000\n",
            "2/2 [==============================] - 0s 9ms/step\n",
            ">Epoch: 8,Batch: 23/468, disc_real_loss=0.362, disc_fake_loss=0.243 gan_loss=0.000\n",
            "2/2 [==============================] - 0s 10ms/step\n",
            ">Epoch: 8,Batch: 24/468, disc_real_loss=0.231, disc_fake_loss=0.242 gan_loss=0.000\n",
            "2/2 [==============================] - 0s 7ms/step\n",
            ">Epoch: 8,Batch: 25/468, disc_real_loss=0.149, disc_fake_loss=0.297 gan_loss=0.000\n",
            "2/2 [==============================] - 0s 10ms/step\n",
            ">Epoch: 8,Batch: 26/468, disc_real_loss=0.285, disc_fake_loss=0.226 gan_loss=0.000\n",
            "2/2 [==============================] - 0s 4ms/step\n",
            ">Epoch: 8,Batch: 27/468, disc_real_loss=0.193, disc_fake_loss=0.196 gan_loss=0.000\n",
            "2/2 [==============================] - 0s 6ms/step\n",
            ">Epoch: 8,Batch: 28/468, disc_real_loss=0.290, disc_fake_loss=0.170 gan_loss=0.000\n",
            "2/2 [==============================] - 0s 4ms/step\n",
            ">Epoch: 8,Batch: 29/468, disc_real_loss=0.212, disc_fake_loss=0.283 gan_loss=0.000\n",
            "2/2 [==============================] - 0s 7ms/step\n",
            ">Epoch: 8,Batch: 30/468, disc_real_loss=0.187, disc_fake_loss=0.313 gan_loss=0.000\n",
            "2/2 [==============================] - 0s 7ms/step\n",
            ">Epoch: 8,Batch: 31/468, disc_real_loss=0.339, disc_fake_loss=0.286 gan_loss=0.000\n",
            "2/2 [==============================] - 0s 21ms/step\n",
            ">Epoch: 8,Batch: 32/468, disc_real_loss=0.160, disc_fake_loss=0.261 gan_loss=0.000\n",
            "2/2 [==============================] - 0s 7ms/step\n",
            ">Epoch: 8,Batch: 33/468, disc_real_loss=0.290, disc_fake_loss=0.204 gan_loss=0.000\n",
            "2/2 [==============================] - 0s 6ms/step\n",
            ">Epoch: 8,Batch: 34/468, disc_real_loss=0.189, disc_fake_loss=0.385 gan_loss=0.000\n",
            "2/2 [==============================] - 0s 12ms/step\n",
            ">Epoch: 8,Batch: 35/468, disc_real_loss=0.311, disc_fake_loss=0.262 gan_loss=0.000\n",
            "2/2 [==============================] - 0s 9ms/step\n",
            ">Epoch: 8,Batch: 36/468, disc_real_loss=0.233, disc_fake_loss=0.229 gan_loss=0.000\n",
            "2/2 [==============================] - 0s 7ms/step\n",
            ">Epoch: 8,Batch: 37/468, disc_real_loss=0.246, disc_fake_loss=0.160 gan_loss=0.000\n",
            "2/2 [==============================] - 0s 10ms/step\n",
            ">Epoch: 8,Batch: 38/468, disc_real_loss=0.163, disc_fake_loss=0.212 gan_loss=0.000\n",
            "2/2 [==============================] - 0s 10ms/step\n",
            ">Epoch: 8,Batch: 39/468, disc_real_loss=0.211, disc_fake_loss=0.224 gan_loss=0.000\n",
            "2/2 [==============================] - 0s 5ms/step\n",
            ">Epoch: 8,Batch: 40/468, disc_real_loss=0.225, disc_fake_loss=0.206 gan_loss=0.000\n",
            "2/2 [==============================] - 0s 19ms/step\n",
            ">Epoch: 8,Batch: 41/468, disc_real_loss=0.188, disc_fake_loss=0.171 gan_loss=0.000\n",
            "2/2 [==============================] - 0s 8ms/step\n",
            ">Epoch: 8,Batch: 42/468, disc_real_loss=0.207, disc_fake_loss=0.348 gan_loss=0.000\n",
            "2/2 [==============================] - 0s 9ms/step\n",
            ">Epoch: 8,Batch: 43/468, disc_real_loss=0.158, disc_fake_loss=0.297 gan_loss=0.000\n",
            "2/2 [==============================] - 0s 7ms/step\n",
            ">Epoch: 8,Batch: 44/468, disc_real_loss=0.229, disc_fake_loss=0.215 gan_loss=0.000\n",
            "2/2 [==============================] - 0s 10ms/step\n",
            ">Epoch: 8,Batch: 45/468, disc_real_loss=0.260, disc_fake_loss=0.268 gan_loss=0.000\n",
            "2/2 [==============================] - 0s 6ms/step\n",
            ">Epoch: 8,Batch: 46/468, disc_real_loss=0.306, disc_fake_loss=0.174 gan_loss=0.000\n",
            "2/2 [==============================] - 0s 10ms/step\n",
            ">Epoch: 8,Batch: 47/468, disc_real_loss=0.252, disc_fake_loss=0.468 gan_loss=0.000\n",
            "2/2 [==============================] - 0s 6ms/step\n",
            ">Epoch: 8,Batch: 48/468, disc_real_loss=0.158, disc_fake_loss=0.206 gan_loss=0.000\n",
            "2/2 [==============================] - 0s 9ms/step\n",
            ">Epoch: 8,Batch: 49/468, disc_real_loss=0.398, disc_fake_loss=0.268 gan_loss=0.000\n",
            "2/2 [==============================] - 0s 13ms/step\n",
            ">Epoch: 8,Batch: 50/468, disc_real_loss=0.240, disc_fake_loss=0.283 gan_loss=0.000\n",
            "2/2 [==============================] - 0s 7ms/step\n",
            ">Epoch: 8,Batch: 51/468, disc_real_loss=0.268, disc_fake_loss=0.237 gan_loss=0.000\n",
            "2/2 [==============================] - 0s 12ms/step\n",
            ">Epoch: 8,Batch: 52/468, disc_real_loss=0.182, disc_fake_loss=0.225 gan_loss=0.000\n",
            "2/2 [==============================] - 0s 10ms/step\n",
            ">Epoch: 8,Batch: 53/468, disc_real_loss=0.290, disc_fake_loss=0.278 gan_loss=0.000\n",
            "2/2 [==============================] - 0s 9ms/step\n",
            ">Epoch: 8,Batch: 54/468, disc_real_loss=0.318, disc_fake_loss=0.290 gan_loss=0.000\n",
            "2/2 [==============================] - 0s 12ms/step\n",
            ">Epoch: 8,Batch: 55/468, disc_real_loss=0.162, disc_fake_loss=0.255 gan_loss=0.000\n",
            "2/2 [==============================] - 0s 6ms/step\n",
            ">Epoch: 8,Batch: 56/468, disc_real_loss=0.230, disc_fake_loss=0.178 gan_loss=0.000\n",
            "2/2 [==============================] - 0s 11ms/step\n",
            ">Epoch: 8,Batch: 57/468, disc_real_loss=0.192, disc_fake_loss=0.277 gan_loss=0.000\n",
            "2/2 [==============================] - 0s 10ms/step\n",
            ">Epoch: 8,Batch: 58/468, disc_real_loss=0.218, disc_fake_loss=0.176 gan_loss=0.000\n",
            "2/2 [==============================] - 0s 8ms/step\n",
            ">Epoch: 8,Batch: 59/468, disc_real_loss=0.281, disc_fake_loss=0.303 gan_loss=0.000\n",
            "2/2 [==============================] - 0s 9ms/step\n",
            ">Epoch: 8,Batch: 60/468, disc_real_loss=0.214, disc_fake_loss=0.178 gan_loss=0.000\n",
            "2/2 [==============================] - 0s 6ms/step\n",
            ">Epoch: 8,Batch: 61/468, disc_real_loss=0.209, disc_fake_loss=0.235 gan_loss=0.000\n",
            "2/2 [==============================] - 0s 10ms/step\n",
            ">Epoch: 8,Batch: 62/468, disc_real_loss=0.175, disc_fake_loss=0.202 gan_loss=0.000\n",
            "2/2 [==============================] - 0s 8ms/step\n",
            ">Epoch: 8,Batch: 63/468, disc_real_loss=0.236, disc_fake_loss=0.282 gan_loss=0.000\n",
            "2/2 [==============================] - 0s 5ms/step\n",
            ">Epoch: 8,Batch: 64/468, disc_real_loss=0.272, disc_fake_loss=0.222 gan_loss=0.000\n",
            "2/2 [==============================] - 0s 7ms/step\n",
            ">Epoch: 8,Batch: 65/468, disc_real_loss=0.231, disc_fake_loss=0.272 gan_loss=0.000\n",
            "2/2 [==============================] - 0s 4ms/step\n",
            ">Epoch: 8,Batch: 66/468, disc_real_loss=0.239, disc_fake_loss=0.211 gan_loss=0.000\n",
            "2/2 [==============================] - 0s 5ms/step\n",
            ">Epoch: 8,Batch: 67/468, disc_real_loss=0.219, disc_fake_loss=0.223 gan_loss=0.000\n",
            "2/2 [==============================] - 0s 10ms/step\n",
            ">Epoch: 8,Batch: 68/468, disc_real_loss=0.194, disc_fake_loss=0.142 gan_loss=0.000\n",
            "2/2 [==============================] - 0s 6ms/step\n",
            ">Epoch: 8,Batch: 69/468, disc_real_loss=0.306, disc_fake_loss=0.226 gan_loss=0.000\n",
            "2/2 [==============================] - 0s 12ms/step\n",
            ">Epoch: 8,Batch: 70/468, disc_real_loss=0.162, disc_fake_loss=0.286 gan_loss=0.000\n",
            "2/2 [==============================] - 0s 4ms/step\n",
            ">Epoch: 8,Batch: 71/468, disc_real_loss=0.237, disc_fake_loss=0.238 gan_loss=0.000\n",
            "2/2 [==============================] - 0s 9ms/step\n",
            ">Epoch: 8,Batch: 72/468, disc_real_loss=0.246, disc_fake_loss=0.183 gan_loss=0.000\n",
            "2/2 [==============================] - 0s 4ms/step\n",
            ">Epoch: 8,Batch: 73/468, disc_real_loss=0.212, disc_fake_loss=0.234 gan_loss=0.000\n",
            "2/2 [==============================] - 0s 5ms/step\n",
            ">Epoch: 8,Batch: 74/468, disc_real_loss=0.221, disc_fake_loss=0.235 gan_loss=0.000\n",
            "2/2 [==============================] - 0s 5ms/step\n",
            ">Epoch: 8,Batch: 75/468, disc_real_loss=0.194, disc_fake_loss=0.244 gan_loss=0.000\n",
            "2/2 [==============================] - 0s 13ms/step\n",
            ">Epoch: 8,Batch: 76/468, disc_real_loss=0.242, disc_fake_loss=0.190 gan_loss=0.000\n",
            "2/2 [==============================] - 0s 4ms/step\n",
            ">Epoch: 8,Batch: 77/468, disc_real_loss=0.273, disc_fake_loss=0.221 gan_loss=0.000\n",
            "2/2 [==============================] - 0s 15ms/step\n",
            ">Epoch: 8,Batch: 78/468, disc_real_loss=0.174, disc_fake_loss=0.225 gan_loss=0.000\n",
            "2/2 [==============================] - 0s 4ms/step\n",
            ">Epoch: 8,Batch: 79/468, disc_real_loss=0.275, disc_fake_loss=0.228 gan_loss=0.000\n",
            "2/2 [==============================] - 0s 11ms/step\n",
            ">Epoch: 8,Batch: 80/468, disc_real_loss=0.181, disc_fake_loss=0.173 gan_loss=0.000\n",
            "2/2 [==============================] - 0s 7ms/step\n",
            ">Epoch: 8,Batch: 81/468, disc_real_loss=0.252, disc_fake_loss=0.209 gan_loss=0.000\n",
            "2/2 [==============================] - 0s 8ms/step\n",
            ">Epoch: 8,Batch: 82/468, disc_real_loss=0.169, disc_fake_loss=0.269 gan_loss=0.000\n",
            "2/2 [==============================] - 0s 4ms/step\n",
            ">Epoch: 8,Batch: 83/468, disc_real_loss=0.177, disc_fake_loss=0.204 gan_loss=0.000\n",
            "2/2 [==============================] - 0s 14ms/step\n",
            ">Epoch: 8,Batch: 84/468, disc_real_loss=0.346, disc_fake_loss=0.273 gan_loss=0.000\n",
            "2/2 [==============================] - 0s 6ms/step\n",
            ">Epoch: 8,Batch: 85/468, disc_real_loss=0.148, disc_fake_loss=0.243 gan_loss=0.000\n",
            "2/2 [==============================] - 0s 4ms/step\n",
            ">Epoch: 8,Batch: 86/468, disc_real_loss=0.176, disc_fake_loss=0.207 gan_loss=0.000\n",
            "2/2 [==============================] - 0s 7ms/step\n",
            ">Epoch: 8,Batch: 87/468, disc_real_loss=0.335, disc_fake_loss=0.204 gan_loss=0.000\n",
            "2/2 [==============================] - 0s 6ms/step\n",
            ">Epoch: 8,Batch: 88/468, disc_real_loss=0.267, disc_fake_loss=0.303 gan_loss=0.000\n",
            "2/2 [==============================] - 0s 11ms/step\n",
            ">Epoch: 8,Batch: 89/468, disc_real_loss=0.238, disc_fake_loss=0.174 gan_loss=0.000\n",
            "2/2 [==============================] - 0s 6ms/step\n",
            ">Epoch: 8,Batch: 90/468, disc_real_loss=0.188, disc_fake_loss=0.298 gan_loss=0.000\n",
            "2/2 [==============================] - 0s 9ms/step\n",
            ">Epoch: 8,Batch: 91/468, disc_real_loss=0.216, disc_fake_loss=0.166 gan_loss=0.000\n",
            "2/2 [==============================] - 0s 4ms/step\n",
            ">Epoch: 8,Batch: 92/468, disc_real_loss=0.183, disc_fake_loss=0.245 gan_loss=0.000\n",
            "2/2 [==============================] - 0s 5ms/step\n",
            ">Epoch: 8,Batch: 93/468, disc_real_loss=0.221, disc_fake_loss=0.276 gan_loss=0.000\n",
            "2/2 [==============================] - 0s 10ms/step\n",
            ">Epoch: 8,Batch: 94/468, disc_real_loss=0.316, disc_fake_loss=0.270 gan_loss=0.000\n",
            "2/2 [==============================] - 0s 8ms/step\n",
            ">Epoch: 8,Batch: 95/468, disc_real_loss=0.211, disc_fake_loss=0.369 gan_loss=0.000\n",
            "2/2 [==============================] - 0s 8ms/step\n",
            ">Epoch: 8,Batch: 96/468, disc_real_loss=0.351, disc_fake_loss=0.279 gan_loss=0.000\n",
            "2/2 [==============================] - 0s 5ms/step\n",
            ">Epoch: 8,Batch: 97/468, disc_real_loss=0.233, disc_fake_loss=0.270 gan_loss=0.000\n",
            "2/2 [==============================] - 0s 7ms/step\n",
            ">Epoch: 8,Batch: 98/468, disc_real_loss=0.258, disc_fake_loss=0.226 gan_loss=0.000\n",
            "2/2 [==============================] - 0s 13ms/step\n",
            ">Epoch: 8,Batch: 99/468, disc_real_loss=0.328, disc_fake_loss=0.187 gan_loss=0.000\n",
            "2/2 [==============================] - 0s 8ms/step\n",
            ">Epoch: 8,Batch: 100/468, disc_real_loss=0.142, disc_fake_loss=0.328 gan_loss=0.000\n",
            "2/2 [==============================] - 0s 11ms/step\n",
            ">Epoch: 8,Batch: 101/468, disc_real_loss=0.271, disc_fake_loss=0.188 gan_loss=0.000\n",
            "2/2 [==============================] - 0s 12ms/step\n",
            ">Epoch: 8,Batch: 102/468, disc_real_loss=0.205, disc_fake_loss=0.254 gan_loss=0.000\n",
            "2/2 [==============================] - 0s 7ms/step\n",
            ">Epoch: 8,Batch: 103/468, disc_real_loss=0.160, disc_fake_loss=0.205 gan_loss=0.000\n",
            "2/2 [==============================] - 0s 14ms/step\n",
            ">Epoch: 8,Batch: 104/468, disc_real_loss=0.383, disc_fake_loss=0.276 gan_loss=0.000\n",
            "2/2 [==============================] - 0s 18ms/step\n",
            ">Epoch: 8,Batch: 105/468, disc_real_loss=0.352, disc_fake_loss=0.260 gan_loss=0.000\n",
            "2/2 [==============================] - 0s 5ms/step\n",
            ">Epoch: 8,Batch: 106/468, disc_real_loss=0.183, disc_fake_loss=0.334 gan_loss=0.000\n",
            "2/2 [==============================] - 0s 5ms/step\n",
            ">Epoch: 8,Batch: 107/468, disc_real_loss=0.241, disc_fake_loss=0.312 gan_loss=0.000\n",
            "2/2 [==============================] - 0s 9ms/step\n",
            ">Epoch: 8,Batch: 108/468, disc_real_loss=0.309, disc_fake_loss=0.246 gan_loss=0.000\n",
            "2/2 [==============================] - 0s 5ms/step\n",
            ">Epoch: 8,Batch: 109/468, disc_real_loss=0.233, disc_fake_loss=0.245 gan_loss=0.000\n",
            "2/2 [==============================] - 0s 7ms/step\n",
            ">Epoch: 8,Batch: 110/468, disc_real_loss=0.208, disc_fake_loss=0.201 gan_loss=0.000\n",
            "2/2 [==============================] - 0s 11ms/step\n",
            ">Epoch: 8,Batch: 111/468, disc_real_loss=0.300, disc_fake_loss=0.260 gan_loss=0.000\n",
            "2/2 [==============================] - 0s 7ms/step\n",
            ">Epoch: 8,Batch: 112/468, disc_real_loss=0.167, disc_fake_loss=0.262 gan_loss=0.000\n",
            "2/2 [==============================] - 0s 8ms/step\n",
            ">Epoch: 8,Batch: 113/468, disc_real_loss=0.213, disc_fake_loss=0.266 gan_loss=0.000\n",
            "2/2 [==============================] - 0s 5ms/step\n",
            ">Epoch: 8,Batch: 114/468, disc_real_loss=0.270, disc_fake_loss=0.259 gan_loss=0.000\n",
            "2/2 [==============================] - 0s 7ms/step\n",
            ">Epoch: 8,Batch: 115/468, disc_real_loss=0.223, disc_fake_loss=0.260 gan_loss=0.000\n",
            "2/2 [==============================] - 0s 5ms/step\n",
            ">Epoch: 8,Batch: 116/468, disc_real_loss=0.229, disc_fake_loss=0.236 gan_loss=0.000\n",
            "2/2 [==============================] - 0s 5ms/step\n",
            ">Epoch: 8,Batch: 117/468, disc_real_loss=0.264, disc_fake_loss=0.229 gan_loss=0.000\n",
            "2/2 [==============================] - 0s 7ms/step\n",
            ">Epoch: 8,Batch: 118/468, disc_real_loss=0.219, disc_fake_loss=0.173 gan_loss=0.000\n",
            "2/2 [==============================] - 0s 13ms/step\n",
            ">Epoch: 8,Batch: 119/468, disc_real_loss=0.231, disc_fake_loss=0.222 gan_loss=0.000\n",
            "2/2 [==============================] - 0s 5ms/step\n",
            ">Epoch: 8,Batch: 120/468, disc_real_loss=0.196, disc_fake_loss=0.255 gan_loss=0.000\n",
            "2/2 [==============================] - 0s 6ms/step\n",
            ">Epoch: 8,Batch: 121/468, disc_real_loss=0.229, disc_fake_loss=0.270 gan_loss=0.000\n",
            "2/2 [==============================] - 0s 12ms/step\n",
            ">Epoch: 8,Batch: 122/468, disc_real_loss=0.268, disc_fake_loss=0.257 gan_loss=0.000\n",
            "2/2 [==============================] - 0s 12ms/step\n",
            ">Epoch: 8,Batch: 123/468, disc_real_loss=0.199, disc_fake_loss=0.293 gan_loss=0.000\n",
            "2/2 [==============================] - 0s 11ms/step\n",
            ">Epoch: 8,Batch: 124/468, disc_real_loss=0.215, disc_fake_loss=0.251 gan_loss=0.000\n",
            "2/2 [==============================] - 0s 7ms/step\n",
            ">Epoch: 8,Batch: 125/468, disc_real_loss=0.272, disc_fake_loss=0.174 gan_loss=0.000\n",
            "2/2 [==============================] - 0s 9ms/step\n",
            ">Epoch: 8,Batch: 126/468, disc_real_loss=0.276, disc_fake_loss=0.182 gan_loss=0.000\n",
            "2/2 [==============================] - 0s 9ms/step\n",
            ">Epoch: 8,Batch: 127/468, disc_real_loss=0.167, disc_fake_loss=0.260 gan_loss=0.000\n",
            "2/2 [==============================] - 0s 7ms/step\n",
            ">Epoch: 8,Batch: 128/468, disc_real_loss=0.196, disc_fake_loss=0.231 gan_loss=0.000\n",
            "2/2 [==============================] - 0s 5ms/step\n",
            ">Epoch: 8,Batch: 129/468, disc_real_loss=0.137, disc_fake_loss=0.238 gan_loss=0.000\n",
            "2/2 [==============================] - 0s 7ms/step\n",
            ">Epoch: 8,Batch: 130/468, disc_real_loss=0.233, disc_fake_loss=0.190 gan_loss=0.000\n",
            "2/2 [==============================] - 0s 6ms/step\n",
            ">Epoch: 8,Batch: 131/468, disc_real_loss=0.239, disc_fake_loss=0.228 gan_loss=0.000\n",
            "2/2 [==============================] - 0s 13ms/step\n",
            ">Epoch: 8,Batch: 132/468, disc_real_loss=0.287, disc_fake_loss=0.155 gan_loss=0.000\n",
            "2/2 [==============================] - 0s 16ms/step\n",
            ">Epoch: 8,Batch: 133/468, disc_real_loss=0.189, disc_fake_loss=0.369 gan_loss=0.000\n",
            "2/2 [==============================] - 0s 5ms/step\n",
            ">Epoch: 8,Batch: 134/468, disc_real_loss=0.195, disc_fake_loss=0.183 gan_loss=0.000\n",
            "2/2 [==============================] - 0s 9ms/step\n",
            ">Epoch: 8,Batch: 135/468, disc_real_loss=0.259, disc_fake_loss=0.238 gan_loss=0.000\n",
            "2/2 [==============================] - 0s 7ms/step\n",
            ">Epoch: 8,Batch: 136/468, disc_real_loss=0.259, disc_fake_loss=0.300 gan_loss=0.000\n",
            "2/2 [==============================] - 0s 10ms/step\n",
            ">Epoch: 8,Batch: 137/468, disc_real_loss=0.224, disc_fake_loss=0.244 gan_loss=0.000\n",
            "2/2 [==============================] - 0s 11ms/step\n",
            ">Epoch: 8,Batch: 138/468, disc_real_loss=0.426, disc_fake_loss=0.199 gan_loss=0.000\n",
            "2/2 [==============================] - 0s 6ms/step\n",
            ">Epoch: 8,Batch: 139/468, disc_real_loss=0.168, disc_fake_loss=0.278 gan_loss=0.000\n",
            "2/2 [==============================] - 0s 5ms/step\n",
            ">Epoch: 8,Batch: 140/468, disc_real_loss=0.273, disc_fake_loss=0.273 gan_loss=0.000\n",
            "2/2 [==============================] - 0s 5ms/step\n",
            ">Epoch: 8,Batch: 141/468, disc_real_loss=0.197, disc_fake_loss=0.332 gan_loss=0.000\n",
            "2/2 [==============================] - 0s 7ms/step\n",
            ">Epoch: 8,Batch: 142/468, disc_real_loss=0.244, disc_fake_loss=0.308 gan_loss=0.000\n",
            "2/2 [==============================] - 0s 5ms/step\n",
            ">Epoch: 8,Batch: 143/468, disc_real_loss=0.312, disc_fake_loss=0.275 gan_loss=0.000\n",
            "2/2 [==============================] - 0s 12ms/step\n",
            ">Epoch: 8,Batch: 144/468, disc_real_loss=0.176, disc_fake_loss=0.265 gan_loss=0.000\n",
            "2/2 [==============================] - 0s 9ms/step\n",
            ">Epoch: 8,Batch: 145/468, disc_real_loss=0.255, disc_fake_loss=0.247 gan_loss=0.000\n",
            "2/2 [==============================] - 0s 7ms/step\n",
            ">Epoch: 8,Batch: 146/468, disc_real_loss=0.265, disc_fake_loss=0.223 gan_loss=0.000\n",
            "2/2 [==============================] - 0s 10ms/step\n",
            ">Epoch: 8,Batch: 147/468, disc_real_loss=0.158, disc_fake_loss=0.263 gan_loss=0.000\n",
            "2/2 [==============================] - 0s 8ms/step\n",
            ">Epoch: 8,Batch: 148/468, disc_real_loss=0.176, disc_fake_loss=0.189 gan_loss=0.000\n",
            "2/2 [==============================] - 0s 6ms/step\n",
            ">Epoch: 8,Batch: 149/468, disc_real_loss=0.213, disc_fake_loss=0.261 gan_loss=0.000\n",
            "2/2 [==============================] - 0s 4ms/step\n",
            ">Epoch: 8,Batch: 150/468, disc_real_loss=0.283, disc_fake_loss=0.221 gan_loss=0.000\n",
            "2/2 [==============================] - 0s 4ms/step\n",
            ">Epoch: 8,Batch: 151/468, disc_real_loss=0.218, disc_fake_loss=0.423 gan_loss=0.000\n",
            "2/2 [==============================] - 0s 11ms/step\n",
            ">Epoch: 8,Batch: 152/468, disc_real_loss=0.242, disc_fake_loss=0.112 gan_loss=0.000\n",
            "2/2 [==============================] - 0s 7ms/step\n",
            ">Epoch: 8,Batch: 153/468, disc_real_loss=0.256, disc_fake_loss=0.276 gan_loss=0.000\n",
            "2/2 [==============================] - 0s 13ms/step\n",
            ">Epoch: 8,Batch: 154/468, disc_real_loss=0.355, disc_fake_loss=0.245 gan_loss=0.000\n",
            "2/2 [==============================] - 0s 5ms/step\n",
            ">Epoch: 8,Batch: 155/468, disc_real_loss=0.157, disc_fake_loss=0.329 gan_loss=0.000\n",
            "2/2 [==============================] - 0s 10ms/step\n",
            ">Epoch: 8,Batch: 156/468, disc_real_loss=0.203, disc_fake_loss=0.225 gan_loss=0.000\n",
            "2/2 [==============================] - 0s 9ms/step\n",
            ">Epoch: 8,Batch: 157/468, disc_real_loss=0.214, disc_fake_loss=0.194 gan_loss=0.000\n",
            "2/2 [==============================] - 0s 13ms/step\n",
            ">Epoch: 8,Batch: 158/468, disc_real_loss=0.165, disc_fake_loss=0.243 gan_loss=0.000\n",
            "2/2 [==============================] - 0s 4ms/step\n",
            ">Epoch: 8,Batch: 159/468, disc_real_loss=0.278, disc_fake_loss=0.191 gan_loss=0.000\n",
            "2/2 [==============================] - 0s 10ms/step\n",
            ">Epoch: 8,Batch: 160/468, disc_real_loss=0.262, disc_fake_loss=0.254 gan_loss=0.000\n",
            "2/2 [==============================] - 0s 5ms/step\n",
            ">Epoch: 8,Batch: 161/468, disc_real_loss=0.228, disc_fake_loss=0.308 gan_loss=0.000\n",
            "2/2 [==============================] - 0s 16ms/step\n",
            ">Epoch: 8,Batch: 162/468, disc_real_loss=0.311, disc_fake_loss=0.251 gan_loss=0.000\n",
            "2/2 [==============================] - 0s 7ms/step\n",
            ">Epoch: 8,Batch: 163/468, disc_real_loss=0.224, disc_fake_loss=0.301 gan_loss=0.000\n",
            "2/2 [==============================] - 0s 7ms/step\n",
            ">Epoch: 8,Batch: 164/468, disc_real_loss=0.187, disc_fake_loss=0.237 gan_loss=0.000\n",
            "2/2 [==============================] - 0s 12ms/step\n",
            ">Epoch: 8,Batch: 165/468, disc_real_loss=0.237, disc_fake_loss=0.172 gan_loss=0.000\n",
            "2/2 [==============================] - 0s 12ms/step\n",
            ">Epoch: 8,Batch: 166/468, disc_real_loss=0.147, disc_fake_loss=0.277 gan_loss=0.000\n",
            "2/2 [==============================] - 0s 8ms/step\n",
            ">Epoch: 8,Batch: 167/468, disc_real_loss=0.249, disc_fake_loss=0.152 gan_loss=0.000\n",
            "2/2 [==============================] - 0s 5ms/step\n",
            ">Epoch: 8,Batch: 168/468, disc_real_loss=0.176, disc_fake_loss=0.304 gan_loss=0.000\n",
            "2/2 [==============================] - 0s 6ms/step\n",
            ">Epoch: 8,Batch: 169/468, disc_real_loss=0.228, disc_fake_loss=0.214 gan_loss=0.000\n",
            "2/2 [==============================] - 0s 6ms/step\n",
            ">Epoch: 8,Batch: 170/468, disc_real_loss=0.228, disc_fake_loss=0.391 gan_loss=0.000\n",
            "2/2 [==============================] - 0s 14ms/step\n",
            ">Epoch: 8,Batch: 171/468, disc_real_loss=0.227, disc_fake_loss=0.143 gan_loss=0.000\n",
            "2/2 [==============================] - 0s 8ms/step\n",
            ">Epoch: 8,Batch: 172/468, disc_real_loss=0.268, disc_fake_loss=0.306 gan_loss=0.000\n",
            "2/2 [==============================] - 0s 11ms/step\n",
            ">Epoch: 8,Batch: 173/468, disc_real_loss=0.222, disc_fake_loss=0.171 gan_loss=0.000\n",
            "2/2 [==============================] - 0s 5ms/step\n",
            ">Epoch: 8,Batch: 174/468, disc_real_loss=0.235, disc_fake_loss=0.265 gan_loss=0.000\n",
            "2/2 [==============================] - 0s 7ms/step\n",
            ">Epoch: 8,Batch: 175/468, disc_real_loss=0.237, disc_fake_loss=0.264 gan_loss=0.000\n",
            "2/2 [==============================] - 0s 4ms/step\n",
            ">Epoch: 8,Batch: 176/468, disc_real_loss=0.188, disc_fake_loss=0.219 gan_loss=0.000\n",
            "2/2 [==============================] - 0s 6ms/step\n",
            ">Epoch: 8,Batch: 177/468, disc_real_loss=0.321, disc_fake_loss=0.195 gan_loss=0.000\n",
            "2/2 [==============================] - 0s 7ms/step\n",
            ">Epoch: 8,Batch: 178/468, disc_real_loss=0.239, disc_fake_loss=0.252 gan_loss=0.000\n",
            "2/2 [==============================] - 0s 11ms/step\n",
            ">Epoch: 8,Batch: 179/468, disc_real_loss=0.220, disc_fake_loss=0.344 gan_loss=0.000\n",
            "2/2 [==============================] - 0s 4ms/step\n",
            ">Epoch: 8,Batch: 180/468, disc_real_loss=0.261, disc_fake_loss=0.239 gan_loss=0.000\n",
            "2/2 [==============================] - 0s 6ms/step\n",
            ">Epoch: 8,Batch: 181/468, disc_real_loss=0.223, disc_fake_loss=0.224 gan_loss=0.000\n",
            "2/2 [==============================] - 0s 7ms/step\n",
            ">Epoch: 8,Batch: 182/468, disc_real_loss=0.278, disc_fake_loss=0.191 gan_loss=0.000\n",
            "2/2 [==============================] - 0s 10ms/step\n",
            ">Epoch: 8,Batch: 183/468, disc_real_loss=0.251, disc_fake_loss=0.224 gan_loss=0.000\n",
            "2/2 [==============================] - 0s 6ms/step\n",
            ">Epoch: 8,Batch: 184/468, disc_real_loss=0.211, disc_fake_loss=0.306 gan_loss=0.000\n",
            "2/2 [==============================] - 0s 12ms/step\n",
            ">Epoch: 8,Batch: 185/468, disc_real_loss=0.176, disc_fake_loss=0.220 gan_loss=0.000\n",
            "2/2 [==============================] - 0s 8ms/step\n",
            ">Epoch: 8,Batch: 186/468, disc_real_loss=0.205, disc_fake_loss=0.212 gan_loss=0.000\n",
            "2/2 [==============================] - 0s 6ms/step\n",
            ">Epoch: 8,Batch: 187/468, disc_real_loss=0.285, disc_fake_loss=0.251 gan_loss=0.000\n",
            "2/2 [==============================] - 0s 11ms/step\n",
            ">Epoch: 8,Batch: 188/468, disc_real_loss=0.246, disc_fake_loss=0.224 gan_loss=0.000\n",
            "2/2 [==============================] - 0s 14ms/step\n",
            ">Epoch: 8,Batch: 189/468, disc_real_loss=0.220, disc_fake_loss=0.207 gan_loss=0.000\n",
            "2/2 [==============================] - 0s 11ms/step\n",
            ">Epoch: 8,Batch: 190/468, disc_real_loss=0.243, disc_fake_loss=0.244 gan_loss=0.000\n",
            "2/2 [==============================] - 0s 10ms/step\n",
            ">Epoch: 8,Batch: 191/468, disc_real_loss=0.230, disc_fake_loss=0.203 gan_loss=0.000\n",
            "2/2 [==============================] - 0s 8ms/step\n",
            ">Epoch: 8,Batch: 192/468, disc_real_loss=0.266, disc_fake_loss=0.164 gan_loss=0.000\n",
            "2/2 [==============================] - 0s 5ms/step\n",
            ">Epoch: 8,Batch: 193/468, disc_real_loss=0.141, disc_fake_loss=0.171 gan_loss=0.000\n",
            "2/2 [==============================] - 0s 6ms/step\n",
            ">Epoch: 8,Batch: 194/468, disc_real_loss=0.195, disc_fake_loss=0.272 gan_loss=0.000\n",
            "2/2 [==============================] - 0s 10ms/step\n",
            ">Epoch: 8,Batch: 195/468, disc_real_loss=0.155, disc_fake_loss=0.302 gan_loss=0.000\n",
            "2/2 [==============================] - 0s 11ms/step\n",
            ">Epoch: 8,Batch: 196/468, disc_real_loss=0.276, disc_fake_loss=0.207 gan_loss=0.000\n",
            "2/2 [==============================] - 0s 6ms/step\n",
            ">Epoch: 8,Batch: 197/468, disc_real_loss=0.234, disc_fake_loss=0.202 gan_loss=0.000\n",
            "2/2 [==============================] - 0s 7ms/step\n",
            ">Epoch: 8,Batch: 198/468, disc_real_loss=0.217, disc_fake_loss=0.287 gan_loss=0.000\n",
            "2/2 [==============================] - 0s 11ms/step\n",
            ">Epoch: 8,Batch: 199/468, disc_real_loss=0.271, disc_fake_loss=0.213 gan_loss=0.000\n",
            "2/2 [==============================] - 0s 7ms/step\n",
            ">Epoch: 8,Batch: 200/468, disc_real_loss=0.292, disc_fake_loss=0.213 gan_loss=0.000\n",
            "2/2 [==============================] - 0s 12ms/step\n",
            ">Epoch: 8,Batch: 201/468, disc_real_loss=0.193, disc_fake_loss=0.288 gan_loss=0.000\n",
            "2/2 [==============================] - 0s 13ms/step\n",
            ">Epoch: 8,Batch: 202/468, disc_real_loss=0.192, disc_fake_loss=0.217 gan_loss=0.000\n",
            "2/2 [==============================] - 0s 11ms/step\n",
            ">Epoch: 8,Batch: 203/468, disc_real_loss=0.259, disc_fake_loss=0.202 gan_loss=0.000\n",
            "2/2 [==============================] - 0s 8ms/step\n",
            ">Epoch: 8,Batch: 204/468, disc_real_loss=0.241, disc_fake_loss=0.255 gan_loss=0.000\n",
            "2/2 [==============================] - 0s 5ms/step\n",
            ">Epoch: 8,Batch: 205/468, disc_real_loss=0.304, disc_fake_loss=0.203 gan_loss=0.000\n",
            "2/2 [==============================] - 0s 5ms/step\n",
            ">Epoch: 8,Batch: 206/468, disc_real_loss=0.174, disc_fake_loss=0.251 gan_loss=0.000\n",
            "2/2 [==============================] - 0s 4ms/step\n",
            ">Epoch: 8,Batch: 207/468, disc_real_loss=0.128, disc_fake_loss=0.220 gan_loss=0.000\n",
            "2/2 [==============================] - 0s 18ms/step\n",
            ">Epoch: 8,Batch: 208/468, disc_real_loss=0.265, disc_fake_loss=0.228 gan_loss=0.000\n",
            "2/2 [==============================] - 0s 5ms/step\n",
            ">Epoch: 8,Batch: 209/468, disc_real_loss=0.325, disc_fake_loss=0.171 gan_loss=0.000\n",
            "2/2 [==============================] - 0s 6ms/step\n",
            ">Epoch: 8,Batch: 210/468, disc_real_loss=0.340, disc_fake_loss=0.246 gan_loss=0.000\n",
            "2/2 [==============================] - 0s 9ms/step\n",
            ">Epoch: 8,Batch: 211/468, disc_real_loss=0.145, disc_fake_loss=0.249 gan_loss=0.000\n",
            "2/2 [==============================] - 0s 5ms/step\n",
            ">Epoch: 8,Batch: 212/468, disc_real_loss=0.152, disc_fake_loss=0.319 gan_loss=0.000\n",
            "2/2 [==============================] - 0s 13ms/step\n",
            ">Epoch: 8,Batch: 213/468, disc_real_loss=0.290, disc_fake_loss=0.214 gan_loss=0.000\n",
            "2/2 [==============================] - 0s 7ms/step\n",
            ">Epoch: 8,Batch: 214/468, disc_real_loss=0.262, disc_fake_loss=0.221 gan_loss=0.000\n",
            "2/2 [==============================] - 0s 5ms/step\n",
            ">Epoch: 8,Batch: 215/468, disc_real_loss=0.272, disc_fake_loss=0.233 gan_loss=0.000\n",
            "2/2 [==============================] - 0s 7ms/step\n",
            ">Epoch: 8,Batch: 216/468, disc_real_loss=0.223, disc_fake_loss=0.298 gan_loss=0.000\n",
            "2/2 [==============================] - 0s 7ms/step\n",
            ">Epoch: 8,Batch: 217/468, disc_real_loss=0.179, disc_fake_loss=0.145 gan_loss=0.000\n",
            "2/2 [==============================] - 0s 5ms/step\n",
            ">Epoch: 8,Batch: 218/468, disc_real_loss=0.220, disc_fake_loss=0.200 gan_loss=0.000\n",
            "2/2 [==============================] - 0s 7ms/step\n",
            ">Epoch: 8,Batch: 219/468, disc_real_loss=0.225, disc_fake_loss=0.239 gan_loss=0.000\n",
            "2/2 [==============================] - 0s 6ms/step\n",
            ">Epoch: 8,Batch: 220/468, disc_real_loss=0.144, disc_fake_loss=0.290 gan_loss=0.000\n",
            "2/2 [==============================] - 0s 14ms/step\n",
            ">Epoch: 8,Batch: 221/468, disc_real_loss=0.272, disc_fake_loss=0.331 gan_loss=0.000\n",
            "2/2 [==============================] - 0s 8ms/step\n",
            ">Epoch: 8,Batch: 222/468, disc_real_loss=0.210, disc_fake_loss=0.306 gan_loss=0.000\n",
            "2/2 [==============================] - 0s 12ms/step\n",
            ">Epoch: 8,Batch: 223/468, disc_real_loss=0.255, disc_fake_loss=0.266 gan_loss=0.000\n",
            "2/2 [==============================] - 0s 9ms/step\n",
            ">Epoch: 8,Batch: 224/468, disc_real_loss=0.296, disc_fake_loss=0.186 gan_loss=0.000\n",
            "2/2 [==============================] - 0s 7ms/step\n",
            ">Epoch: 8,Batch: 225/468, disc_real_loss=0.179, disc_fake_loss=0.273 gan_loss=0.000\n",
            "2/2 [==============================] - 0s 4ms/step\n",
            ">Epoch: 8,Batch: 226/468, disc_real_loss=0.291, disc_fake_loss=0.295 gan_loss=0.000\n",
            "2/2 [==============================] - 0s 4ms/step\n",
            ">Epoch: 8,Batch: 227/468, disc_real_loss=0.190, disc_fake_loss=0.161 gan_loss=0.000\n",
            "2/2 [==============================] - 0s 5ms/step\n",
            ">Epoch: 8,Batch: 228/468, disc_real_loss=0.181, disc_fake_loss=0.201 gan_loss=0.000\n",
            "2/2 [==============================] - 0s 4ms/step\n",
            ">Epoch: 8,Batch: 229/468, disc_real_loss=0.304, disc_fake_loss=0.324 gan_loss=0.000\n",
            "2/2 [==============================] - 0s 6ms/step\n",
            ">Epoch: 8,Batch: 230/468, disc_real_loss=0.242, disc_fake_loss=0.216 gan_loss=0.000\n",
            "2/2 [==============================] - 0s 12ms/step\n",
            ">Epoch: 8,Batch: 231/468, disc_real_loss=0.175, disc_fake_loss=0.290 gan_loss=0.000\n",
            "2/2 [==============================] - 0s 12ms/step\n",
            ">Epoch: 8,Batch: 232/468, disc_real_loss=0.208, disc_fake_loss=0.227 gan_loss=0.000\n",
            "2/2 [==============================] - 0s 9ms/step\n",
            ">Epoch: 8,Batch: 233/468, disc_real_loss=0.339, disc_fake_loss=0.234 gan_loss=0.000\n",
            "2/2 [==============================] - 0s 6ms/step\n",
            ">Epoch: 8,Batch: 234/468, disc_real_loss=0.196, disc_fake_loss=0.230 gan_loss=0.000\n",
            "2/2 [==============================] - 0s 13ms/step\n",
            ">Epoch: 8,Batch: 235/468, disc_real_loss=0.272, disc_fake_loss=0.252 gan_loss=0.000\n",
            "2/2 [==============================] - 0s 7ms/step\n",
            ">Epoch: 8,Batch: 236/468, disc_real_loss=0.245, disc_fake_loss=0.215 gan_loss=0.000\n",
            "2/2 [==============================] - 0s 8ms/step\n",
            ">Epoch: 8,Batch: 237/468, disc_real_loss=0.236, disc_fake_loss=0.321 gan_loss=0.000\n",
            "2/2 [==============================] - 0s 6ms/step\n",
            ">Epoch: 8,Batch: 238/468, disc_real_loss=0.221, disc_fake_loss=0.181 gan_loss=0.000\n",
            "2/2 [==============================] - 0s 6ms/step\n",
            ">Epoch: 8,Batch: 239/468, disc_real_loss=0.225, disc_fake_loss=0.194 gan_loss=0.000\n",
            "2/2 [==============================] - 0s 7ms/step\n",
            ">Epoch: 8,Batch: 240/468, disc_real_loss=0.223, disc_fake_loss=0.195 gan_loss=0.000\n",
            "2/2 [==============================] - 0s 11ms/step\n",
            ">Epoch: 8,Batch: 241/468, disc_real_loss=0.215, disc_fake_loss=0.210 gan_loss=0.000\n",
            "2/2 [==============================] - 0s 11ms/step\n",
            ">Epoch: 8,Batch: 242/468, disc_real_loss=0.135, disc_fake_loss=0.179 gan_loss=0.000\n",
            "2/2 [==============================] - 0s 13ms/step\n",
            ">Epoch: 8,Batch: 243/468, disc_real_loss=0.263, disc_fake_loss=0.347 gan_loss=0.000\n",
            "2/2 [==============================] - 0s 11ms/step\n",
            ">Epoch: 8,Batch: 244/468, disc_real_loss=0.263, disc_fake_loss=0.225 gan_loss=0.000\n",
            "2/2 [==============================] - 0s 9ms/step\n",
            ">Epoch: 8,Batch: 245/468, disc_real_loss=0.229, disc_fake_loss=0.242 gan_loss=0.000\n",
            "2/2 [==============================] - 0s 6ms/step\n",
            ">Epoch: 8,Batch: 246/468, disc_real_loss=0.286, disc_fake_loss=0.199 gan_loss=0.000\n",
            "2/2 [==============================] - 0s 12ms/step\n",
            ">Epoch: 8,Batch: 247/468, disc_real_loss=0.172, disc_fake_loss=0.300 gan_loss=0.000\n",
            "2/2 [==============================] - 0s 10ms/step\n",
            ">Epoch: 8,Batch: 248/468, disc_real_loss=0.408, disc_fake_loss=0.217 gan_loss=0.000\n",
            "2/2 [==============================] - 0s 7ms/step\n",
            ">Epoch: 8,Batch: 249/468, disc_real_loss=0.277, disc_fake_loss=0.228 gan_loss=0.000\n",
            "2/2 [==============================] - 0s 6ms/step\n",
            ">Epoch: 8,Batch: 250/468, disc_real_loss=0.164, disc_fake_loss=0.248 gan_loss=0.000\n",
            "2/2 [==============================] - 0s 6ms/step\n",
            ">Epoch: 8,Batch: 251/468, disc_real_loss=0.212, disc_fake_loss=0.255 gan_loss=0.000\n",
            "2/2 [==============================] - 0s 6ms/step\n",
            ">Epoch: 8,Batch: 252/468, disc_real_loss=0.191, disc_fake_loss=0.223 gan_loss=0.000\n",
            "2/2 [==============================] - 0s 5ms/step\n",
            ">Epoch: 8,Batch: 253/468, disc_real_loss=0.315, disc_fake_loss=0.191 gan_loss=0.000\n",
            "2/2 [==============================] - 0s 6ms/step\n",
            ">Epoch: 8,Batch: 254/468, disc_real_loss=0.229, disc_fake_loss=0.294 gan_loss=0.000\n",
            "2/2 [==============================] - 0s 5ms/step\n",
            ">Epoch: 8,Batch: 255/468, disc_real_loss=0.144, disc_fake_loss=0.191 gan_loss=0.000\n",
            "2/2 [==============================] - 0s 5ms/step\n",
            ">Epoch: 8,Batch: 256/468, disc_real_loss=0.244, disc_fake_loss=0.212 gan_loss=0.000\n",
            "2/2 [==============================] - 0s 13ms/step\n",
            ">Epoch: 8,Batch: 257/468, disc_real_loss=0.113, disc_fake_loss=0.167 gan_loss=0.000\n",
            "2/2 [==============================] - 0s 4ms/step\n",
            ">Epoch: 8,Batch: 258/468, disc_real_loss=0.228, disc_fake_loss=0.224 gan_loss=0.000\n",
            "2/2 [==============================] - 0s 9ms/step\n",
            ">Epoch: 8,Batch: 259/468, disc_real_loss=0.282, disc_fake_loss=0.260 gan_loss=0.000\n",
            "2/2 [==============================] - 0s 14ms/step\n",
            ">Epoch: 8,Batch: 260/468, disc_real_loss=0.199, disc_fake_loss=0.184 gan_loss=0.000\n",
            "2/2 [==============================] - 0s 6ms/step\n",
            ">Epoch: 8,Batch: 261/468, disc_real_loss=0.242, disc_fake_loss=0.290 gan_loss=0.000\n",
            "2/2 [==============================] - 0s 5ms/step\n",
            ">Epoch: 8,Batch: 262/468, disc_real_loss=0.251, disc_fake_loss=0.199 gan_loss=0.000\n",
            "2/2 [==============================] - 0s 9ms/step\n",
            ">Epoch: 8,Batch: 263/468, disc_real_loss=0.199, disc_fake_loss=0.350 gan_loss=0.000\n",
            "2/2 [==============================] - 0s 8ms/step\n",
            ">Epoch: 8,Batch: 264/468, disc_real_loss=0.273, disc_fake_loss=0.174 gan_loss=0.000\n",
            "2/2 [==============================] - 0s 5ms/step\n",
            ">Epoch: 8,Batch: 265/468, disc_real_loss=0.227, disc_fake_loss=0.181 gan_loss=0.000\n",
            "2/2 [==============================] - 0s 7ms/step\n",
            ">Epoch: 8,Batch: 266/468, disc_real_loss=0.220, disc_fake_loss=0.260 gan_loss=0.000\n",
            "2/2 [==============================] - 0s 4ms/step\n",
            ">Epoch: 8,Batch: 267/468, disc_real_loss=0.213, disc_fake_loss=0.221 gan_loss=0.000\n",
            "2/2 [==============================] - 0s 5ms/step\n",
            ">Epoch: 8,Batch: 268/468, disc_real_loss=0.180, disc_fake_loss=0.276 gan_loss=0.000\n",
            "2/2 [==============================] - 0s 11ms/step\n",
            ">Epoch: 8,Batch: 269/468, disc_real_loss=0.270, disc_fake_loss=0.247 gan_loss=0.000\n",
            "2/2 [==============================] - 0s 6ms/step\n",
            ">Epoch: 8,Batch: 270/468, disc_real_loss=0.197, disc_fake_loss=0.208 gan_loss=0.000\n",
            "2/2 [==============================] - 0s 10ms/step\n",
            ">Epoch: 8,Batch: 271/468, disc_real_loss=0.329, disc_fake_loss=0.193 gan_loss=0.000\n",
            "2/2 [==============================] - 0s 5ms/step\n",
            ">Epoch: 8,Batch: 272/468, disc_real_loss=0.221, disc_fake_loss=0.272 gan_loss=0.000\n",
            "2/2 [==============================] - 0s 13ms/step\n",
            ">Epoch: 8,Batch: 273/468, disc_real_loss=0.235, disc_fake_loss=0.302 gan_loss=0.000\n",
            "2/2 [==============================] - 0s 13ms/step\n",
            ">Epoch: 8,Batch: 274/468, disc_real_loss=0.233, disc_fake_loss=0.194 gan_loss=0.000\n",
            "2/2 [==============================] - 0s 7ms/step\n",
            ">Epoch: 8,Batch: 275/468, disc_real_loss=0.188, disc_fake_loss=0.177 gan_loss=0.000\n",
            "2/2 [==============================] - 0s 11ms/step\n",
            ">Epoch: 8,Batch: 276/468, disc_real_loss=0.291, disc_fake_loss=0.326 gan_loss=0.000\n",
            "2/2 [==============================] - 0s 8ms/step\n",
            ">Epoch: 8,Batch: 277/468, disc_real_loss=0.310, disc_fake_loss=0.222 gan_loss=0.000\n",
            "2/2 [==============================] - 0s 12ms/step\n",
            ">Epoch: 8,Batch: 278/468, disc_real_loss=0.255, disc_fake_loss=0.183 gan_loss=0.000\n",
            "2/2 [==============================] - 0s 9ms/step\n",
            ">Epoch: 8,Batch: 279/468, disc_real_loss=0.175, disc_fake_loss=0.370 gan_loss=0.000\n",
            "2/2 [==============================] - 0s 5ms/step\n",
            ">Epoch: 8,Batch: 280/468, disc_real_loss=0.310, disc_fake_loss=0.213 gan_loss=0.000\n",
            "2/2 [==============================] - 0s 14ms/step\n",
            ">Epoch: 8,Batch: 281/468, disc_real_loss=0.204, disc_fake_loss=0.218 gan_loss=0.000\n",
            "2/2 [==============================] - 0s 4ms/step\n",
            ">Epoch: 8,Batch: 282/468, disc_real_loss=0.267, disc_fake_loss=0.270 gan_loss=0.000\n",
            "2/2 [==============================] - 0s 9ms/step\n",
            ">Epoch: 8,Batch: 283/468, disc_real_loss=0.164, disc_fake_loss=0.214 gan_loss=0.000\n",
            "2/2 [==============================] - 0s 14ms/step\n",
            ">Epoch: 8,Batch: 284/468, disc_real_loss=0.252, disc_fake_loss=0.118 gan_loss=0.000\n",
            "2/2 [==============================] - 0s 16ms/step\n",
            ">Epoch: 8,Batch: 285/468, disc_real_loss=0.283, disc_fake_loss=0.183 gan_loss=0.000\n",
            "2/2 [==============================] - 0s 8ms/step\n",
            ">Epoch: 8,Batch: 286/468, disc_real_loss=0.209, disc_fake_loss=0.281 gan_loss=0.000\n",
            "2/2 [==============================] - 0s 7ms/step\n",
            ">Epoch: 8,Batch: 287/468, disc_real_loss=0.145, disc_fake_loss=0.188 gan_loss=0.000\n",
            "2/2 [==============================] - 0s 4ms/step\n",
            ">Epoch: 8,Batch: 288/468, disc_real_loss=0.210, disc_fake_loss=0.209 gan_loss=0.000\n",
            "2/2 [==============================] - 0s 4ms/step\n",
            ">Epoch: 8,Batch: 289/468, disc_real_loss=0.241, disc_fake_loss=0.222 gan_loss=0.000\n",
            "2/2 [==============================] - 0s 7ms/step\n",
            ">Epoch: 8,Batch: 290/468, disc_real_loss=0.161, disc_fake_loss=0.176 gan_loss=0.000\n",
            "2/2 [==============================] - 0s 8ms/step\n",
            ">Epoch: 8,Batch: 291/468, disc_real_loss=0.189, disc_fake_loss=0.224 gan_loss=0.000\n",
            "2/2 [==============================] - 0s 5ms/step\n",
            ">Epoch: 8,Batch: 292/468, disc_real_loss=0.279, disc_fake_loss=0.204 gan_loss=0.000\n",
            "2/2 [==============================] - 0s 9ms/step\n",
            ">Epoch: 8,Batch: 293/468, disc_real_loss=0.226, disc_fake_loss=0.225 gan_loss=0.000\n",
            "2/2 [==============================] - 0s 7ms/step\n",
            ">Epoch: 8,Batch: 294/468, disc_real_loss=0.264, disc_fake_loss=0.349 gan_loss=0.000\n",
            "2/2 [==============================] - 0s 6ms/step\n",
            ">Epoch: 8,Batch: 295/468, disc_real_loss=0.171, disc_fake_loss=0.216 gan_loss=0.000\n",
            "2/2 [==============================] - 0s 12ms/step\n",
            ">Epoch: 8,Batch: 296/468, disc_real_loss=0.167, disc_fake_loss=0.251 gan_loss=0.000\n",
            "2/2 [==============================] - 0s 7ms/step\n",
            ">Epoch: 8,Batch: 297/468, disc_real_loss=0.230, disc_fake_loss=0.165 gan_loss=0.000\n",
            "2/2 [==============================] - 0s 15ms/step\n",
            ">Epoch: 8,Batch: 298/468, disc_real_loss=0.372, disc_fake_loss=0.202 gan_loss=0.000\n",
            "2/2 [==============================] - 0s 10ms/step\n",
            ">Epoch: 8,Batch: 299/468, disc_real_loss=0.116, disc_fake_loss=0.311 gan_loss=0.000\n",
            "2/2 [==============================] - 0s 7ms/step\n",
            ">Epoch: 8,Batch: 300/468, disc_real_loss=0.210, disc_fake_loss=0.153 gan_loss=0.000\n",
            "2/2 [==============================] - 0s 5ms/step\n",
            ">Epoch: 8,Batch: 301/468, disc_real_loss=0.302, disc_fake_loss=0.197 gan_loss=0.000\n",
            "2/2 [==============================] - 0s 8ms/step\n",
            ">Epoch: 8,Batch: 302/468, disc_real_loss=0.186, disc_fake_loss=0.255 gan_loss=0.000\n",
            "2/2 [==============================] - 0s 7ms/step\n",
            ">Epoch: 8,Batch: 303/468, disc_real_loss=0.252, disc_fake_loss=0.381 gan_loss=0.000\n",
            "2/2 [==============================] - 0s 13ms/step\n",
            ">Epoch: 8,Batch: 304/468, disc_real_loss=0.272, disc_fake_loss=0.249 gan_loss=0.000\n",
            "2/2 [==============================] - 0s 5ms/step\n",
            ">Epoch: 8,Batch: 305/468, disc_real_loss=0.271, disc_fake_loss=0.233 gan_loss=0.000\n",
            "2/2 [==============================] - 0s 6ms/step\n",
            ">Epoch: 8,Batch: 306/468, disc_real_loss=0.225, disc_fake_loss=0.164 gan_loss=0.000\n",
            "2/2 [==============================] - 0s 9ms/step\n",
            ">Epoch: 8,Batch: 307/468, disc_real_loss=0.290, disc_fake_loss=0.257 gan_loss=0.000\n",
            "2/2 [==============================] - 0s 14ms/step\n",
            ">Epoch: 8,Batch: 308/468, disc_real_loss=0.188, disc_fake_loss=0.338 gan_loss=0.000\n",
            "2/2 [==============================] - 0s 13ms/step\n",
            ">Epoch: 8,Batch: 309/468, disc_real_loss=0.239, disc_fake_loss=0.205 gan_loss=0.000\n",
            "2/2 [==============================] - 0s 7ms/step\n",
            ">Epoch: 8,Batch: 310/468, disc_real_loss=0.256, disc_fake_loss=0.234 gan_loss=0.000\n",
            "2/2 [==============================] - 0s 16ms/step\n",
            ">Epoch: 8,Batch: 311/468, disc_real_loss=0.245, disc_fake_loss=0.254 gan_loss=0.000\n",
            "2/2 [==============================] - 0s 12ms/step\n",
            ">Epoch: 8,Batch: 312/468, disc_real_loss=0.258, disc_fake_loss=0.216 gan_loss=0.000\n",
            "2/2 [==============================] - 0s 8ms/step\n",
            ">Epoch: 8,Batch: 313/468, disc_real_loss=0.216, disc_fake_loss=0.228 gan_loss=0.000\n",
            "2/2 [==============================] - 0s 6ms/step\n",
            ">Epoch: 8,Batch: 314/468, disc_real_loss=0.266, disc_fake_loss=0.218 gan_loss=0.000\n",
            "2/2 [==============================] - 0s 5ms/step\n",
            ">Epoch: 8,Batch: 315/468, disc_real_loss=0.266, disc_fake_loss=0.230 gan_loss=0.000\n",
            "2/2 [==============================] - 0s 5ms/step\n",
            ">Epoch: 8,Batch: 316/468, disc_real_loss=0.116, disc_fake_loss=0.191 gan_loss=0.000\n",
            "2/2 [==============================] - 0s 5ms/step\n",
            ">Epoch: 8,Batch: 317/468, disc_real_loss=0.310, disc_fake_loss=0.176 gan_loss=0.000\n",
            "2/2 [==============================] - 0s 6ms/step\n",
            ">Epoch: 8,Batch: 318/468, disc_real_loss=0.175, disc_fake_loss=0.320 gan_loss=0.000\n",
            "2/2 [==============================] - 0s 5ms/step\n",
            ">Epoch: 8,Batch: 319/468, disc_real_loss=0.247, disc_fake_loss=0.168 gan_loss=0.000\n",
            "2/2 [==============================] - 0s 10ms/step\n",
            ">Epoch: 8,Batch: 320/468, disc_real_loss=0.170, disc_fake_loss=0.248 gan_loss=0.000\n",
            "2/2 [==============================] - 0s 4ms/step\n",
            ">Epoch: 8,Batch: 321/468, disc_real_loss=0.225, disc_fake_loss=0.207 gan_loss=0.000\n",
            "2/2 [==============================] - 0s 5ms/step\n",
            ">Epoch: 8,Batch: 322/468, disc_real_loss=0.313, disc_fake_loss=0.347 gan_loss=0.000\n",
            "2/2 [==============================] - 0s 4ms/step\n",
            ">Epoch: 8,Batch: 323/468, disc_real_loss=0.229, disc_fake_loss=0.187 gan_loss=0.000\n",
            "2/2 [==============================] - 0s 9ms/step\n",
            ">Epoch: 8,Batch: 324/468, disc_real_loss=0.221, disc_fake_loss=0.195 gan_loss=0.000\n",
            "2/2 [==============================] - 0s 12ms/step\n",
            ">Epoch: 8,Batch: 325/468, disc_real_loss=0.168, disc_fake_loss=0.203 gan_loss=0.000\n",
            "2/2 [==============================] - 0s 6ms/step\n",
            ">Epoch: 8,Batch: 326/468, disc_real_loss=0.214, disc_fake_loss=0.193 gan_loss=0.000\n",
            "2/2 [==============================] - 0s 7ms/step\n",
            ">Epoch: 8,Batch: 327/468, disc_real_loss=0.281, disc_fake_loss=0.274 gan_loss=0.000\n",
            "2/2 [==============================] - 0s 5ms/step\n",
            ">Epoch: 8,Batch: 328/468, disc_real_loss=0.160, disc_fake_loss=0.160 gan_loss=0.000\n",
            "2/2 [==============================] - 0s 9ms/step\n",
            ">Epoch: 8,Batch: 329/468, disc_real_loss=0.221, disc_fake_loss=0.276 gan_loss=0.000\n",
            "2/2 [==============================] - 0s 4ms/step\n",
            ">Epoch: 8,Batch: 330/468, disc_real_loss=0.186, disc_fake_loss=0.136 gan_loss=0.000\n",
            "2/2 [==============================] - 0s 11ms/step\n",
            ">Epoch: 8,Batch: 331/468, disc_real_loss=0.149, disc_fake_loss=0.175 gan_loss=0.000\n",
            "2/2 [==============================] - 0s 8ms/step\n",
            ">Epoch: 8,Batch: 332/468, disc_real_loss=0.243, disc_fake_loss=0.212 gan_loss=0.000\n",
            "2/2 [==============================] - 0s 5ms/step\n",
            ">Epoch: 8,Batch: 333/468, disc_real_loss=0.244, disc_fake_loss=0.264 gan_loss=0.000\n",
            "2/2 [==============================] - 0s 6ms/step\n",
            ">Epoch: 8,Batch: 334/468, disc_real_loss=0.190, disc_fake_loss=0.181 gan_loss=0.000\n",
            "2/2 [==============================] - 0s 7ms/step\n",
            ">Epoch: 8,Batch: 335/468, disc_real_loss=0.292, disc_fake_loss=0.232 gan_loss=0.000\n",
            "2/2 [==============================] - 0s 5ms/step\n",
            ">Epoch: 8,Batch: 336/468, disc_real_loss=0.159, disc_fake_loss=0.244 gan_loss=0.000\n",
            "2/2 [==============================] - 0s 7ms/step\n",
            ">Epoch: 8,Batch: 337/468, disc_real_loss=0.145, disc_fake_loss=0.290 gan_loss=0.000\n",
            "2/2 [==============================] - 0s 5ms/step\n",
            ">Epoch: 8,Batch: 338/468, disc_real_loss=0.234, disc_fake_loss=0.101 gan_loss=0.000\n",
            "2/2 [==============================] - 0s 9ms/step\n",
            ">Epoch: 8,Batch: 339/468, disc_real_loss=0.161, disc_fake_loss=0.165 gan_loss=0.000\n",
            "2/2 [==============================] - 0s 11ms/step\n",
            ">Epoch: 8,Batch: 340/468, disc_real_loss=0.317, disc_fake_loss=0.343 gan_loss=0.000\n",
            "2/2 [==============================] - 0s 4ms/step\n",
            ">Epoch: 8,Batch: 341/468, disc_real_loss=0.276, disc_fake_loss=0.318 gan_loss=0.000\n",
            "2/2 [==============================] - 0s 6ms/step\n",
            ">Epoch: 8,Batch: 342/468, disc_real_loss=0.245, disc_fake_loss=0.206 gan_loss=0.000\n",
            "2/2 [==============================] - 0s 6ms/step\n",
            ">Epoch: 8,Batch: 343/468, disc_real_loss=0.158, disc_fake_loss=0.231 gan_loss=0.000\n",
            "2/2 [==============================] - 0s 10ms/step\n",
            ">Epoch: 8,Batch: 344/468, disc_real_loss=0.244, disc_fake_loss=0.192 gan_loss=0.000\n",
            "2/2 [==============================] - 0s 5ms/step\n",
            ">Epoch: 8,Batch: 345/468, disc_real_loss=0.231, disc_fake_loss=0.206 gan_loss=0.000\n",
            "2/2 [==============================] - 0s 6ms/step\n",
            ">Epoch: 8,Batch: 346/468, disc_real_loss=0.226, disc_fake_loss=0.252 gan_loss=0.000\n",
            "2/2 [==============================] - 0s 15ms/step\n",
            ">Epoch: 8,Batch: 347/468, disc_real_loss=0.150, disc_fake_loss=0.154 gan_loss=0.000\n",
            "2/2 [==============================] - 0s 7ms/step\n",
            ">Epoch: 8,Batch: 348/468, disc_real_loss=0.265, disc_fake_loss=0.232 gan_loss=0.000\n",
            "2/2 [==============================] - 0s 6ms/step\n",
            ">Epoch: 8,Batch: 349/468, disc_real_loss=0.178, disc_fake_loss=0.273 gan_loss=0.000\n",
            "2/2 [==============================] - 0s 9ms/step\n",
            ">Epoch: 8,Batch: 350/468, disc_real_loss=0.278, disc_fake_loss=0.213 gan_loss=0.000\n",
            "2/2 [==============================] - 0s 5ms/step\n",
            ">Epoch: 8,Batch: 351/468, disc_real_loss=0.205, disc_fake_loss=0.205 gan_loss=0.000\n",
            "2/2 [==============================] - 0s 14ms/step\n",
            ">Epoch: 8,Batch: 352/468, disc_real_loss=0.243, disc_fake_loss=0.196 gan_loss=0.000\n",
            "2/2 [==============================] - 0s 4ms/step\n",
            ">Epoch: 8,Batch: 353/468, disc_real_loss=0.163, disc_fake_loss=0.189 gan_loss=0.000\n",
            "2/2 [==============================] - 0s 6ms/step\n",
            ">Epoch: 8,Batch: 354/468, disc_real_loss=0.172, disc_fake_loss=0.235 gan_loss=0.000\n",
            "2/2 [==============================] - 0s 11ms/step\n",
            ">Epoch: 8,Batch: 355/468, disc_real_loss=0.371, disc_fake_loss=0.223 gan_loss=0.000\n",
            "2/2 [==============================] - 0s 20ms/step\n",
            ">Epoch: 8,Batch: 356/468, disc_real_loss=0.207, disc_fake_loss=0.292 gan_loss=0.000\n",
            "2/2 [==============================] - 0s 8ms/step\n",
            ">Epoch: 8,Batch: 357/468, disc_real_loss=0.213, disc_fake_loss=0.286 gan_loss=0.000\n",
            "2/2 [==============================] - 0s 10ms/step\n",
            ">Epoch: 8,Batch: 358/468, disc_real_loss=0.263, disc_fake_loss=0.207 gan_loss=0.000\n",
            "2/2 [==============================] - 0s 8ms/step\n",
            ">Epoch: 8,Batch: 359/468, disc_real_loss=0.233, disc_fake_loss=0.186 gan_loss=0.000\n",
            "2/2 [==============================] - 0s 7ms/step\n",
            ">Epoch: 8,Batch: 360/468, disc_real_loss=0.161, disc_fake_loss=0.191 gan_loss=0.000\n",
            "2/2 [==============================] - 0s 5ms/step\n",
            ">Epoch: 8,Batch: 361/468, disc_real_loss=0.176, disc_fake_loss=0.233 gan_loss=0.000\n",
            "2/2 [==============================] - 0s 8ms/step\n",
            ">Epoch: 8,Batch: 362/468, disc_real_loss=0.279, disc_fake_loss=0.233 gan_loss=0.000\n",
            "2/2 [==============================] - 0s 6ms/step\n",
            ">Epoch: 8,Batch: 363/468, disc_real_loss=0.173, disc_fake_loss=0.237 gan_loss=0.000\n",
            "2/2 [==============================] - 0s 5ms/step\n",
            ">Epoch: 8,Batch: 364/468, disc_real_loss=0.218, disc_fake_loss=0.202 gan_loss=0.000\n",
            "2/2 [==============================] - 0s 9ms/step\n",
            ">Epoch: 8,Batch: 365/468, disc_real_loss=0.294, disc_fake_loss=0.260 gan_loss=0.000\n",
            "2/2 [==============================] - 0s 8ms/step\n",
            ">Epoch: 8,Batch: 366/468, disc_real_loss=0.258, disc_fake_loss=0.184 gan_loss=0.000\n",
            "2/2 [==============================] - 0s 6ms/step\n",
            ">Epoch: 8,Batch: 367/468, disc_real_loss=0.218, disc_fake_loss=0.192 gan_loss=0.000\n",
            "2/2 [==============================] - 0s 10ms/step\n",
            ">Epoch: 8,Batch: 368/468, disc_real_loss=0.189, disc_fake_loss=0.262 gan_loss=0.000\n",
            "2/2 [==============================] - 0s 7ms/step\n",
            ">Epoch: 8,Batch: 369/468, disc_real_loss=0.187, disc_fake_loss=0.251 gan_loss=0.000\n",
            "2/2 [==============================] - 0s 12ms/step\n",
            ">Epoch: 8,Batch: 370/468, disc_real_loss=0.269, disc_fake_loss=0.199 gan_loss=0.000\n",
            "2/2 [==============================] - 0s 6ms/step\n",
            ">Epoch: 8,Batch: 371/468, disc_real_loss=0.157, disc_fake_loss=0.230 gan_loss=0.000\n",
            "2/2 [==============================] - 0s 11ms/step\n",
            ">Epoch: 8,Batch: 372/468, disc_real_loss=0.350, disc_fake_loss=0.215 gan_loss=0.000\n",
            "2/2 [==============================] - 0s 9ms/step\n",
            ">Epoch: 8,Batch: 373/468, disc_real_loss=0.192, disc_fake_loss=0.257 gan_loss=0.000\n",
            "2/2 [==============================] - 0s 7ms/step\n",
            ">Epoch: 8,Batch: 374/468, disc_real_loss=0.221, disc_fake_loss=0.162 gan_loss=0.000\n",
            "2/2 [==============================] - 0s 9ms/step\n",
            ">Epoch: 8,Batch: 375/468, disc_real_loss=0.228, disc_fake_loss=0.307 gan_loss=0.000\n",
            "2/2 [==============================] - 0s 9ms/step\n",
            ">Epoch: 8,Batch: 376/468, disc_real_loss=0.222, disc_fake_loss=0.162 gan_loss=0.000\n",
            "2/2 [==============================] - 0s 11ms/step\n",
            ">Epoch: 8,Batch: 377/468, disc_real_loss=0.254, disc_fake_loss=0.289 gan_loss=0.000\n",
            "2/2 [==============================] - 0s 4ms/step\n",
            ">Epoch: 8,Batch: 378/468, disc_real_loss=0.184, disc_fake_loss=0.260 gan_loss=0.000\n",
            "2/2 [==============================] - 0s 14ms/step\n",
            ">Epoch: 8,Batch: 379/468, disc_real_loss=0.182, disc_fake_loss=0.283 gan_loss=0.000\n",
            "2/2 [==============================] - 0s 10ms/step\n",
            ">Epoch: 8,Batch: 380/468, disc_real_loss=0.280, disc_fake_loss=0.176 gan_loss=0.000\n",
            "2/2 [==============================] - 0s 12ms/step\n",
            ">Epoch: 8,Batch: 381/468, disc_real_loss=0.177, disc_fake_loss=0.148 gan_loss=0.000\n",
            "2/2 [==============================] - 0s 6ms/step\n",
            ">Epoch: 8,Batch: 382/468, disc_real_loss=0.222, disc_fake_loss=0.284 gan_loss=0.000\n",
            "2/2 [==============================] - 0s 7ms/step\n",
            ">Epoch: 8,Batch: 383/468, disc_real_loss=0.213, disc_fake_loss=0.300 gan_loss=0.000\n",
            "2/2 [==============================] - 0s 7ms/step\n",
            ">Epoch: 8,Batch: 384/468, disc_real_loss=0.162, disc_fake_loss=0.179 gan_loss=0.000\n",
            "2/2 [==============================] - 0s 10ms/step\n",
            ">Epoch: 8,Batch: 385/468, disc_real_loss=0.229, disc_fake_loss=0.138 gan_loss=0.000\n",
            "2/2 [==============================] - 0s 6ms/step\n",
            ">Epoch: 8,Batch: 386/468, disc_real_loss=0.152, disc_fake_loss=0.188 gan_loss=0.000\n",
            "2/2 [==============================] - 0s 4ms/step\n",
            ">Epoch: 8,Batch: 387/468, disc_real_loss=0.205, disc_fake_loss=0.216 gan_loss=0.000\n",
            "2/2 [==============================] - 0s 17ms/step\n",
            ">Epoch: 8,Batch: 388/468, disc_real_loss=0.197, disc_fake_loss=0.159 gan_loss=0.000\n",
            "2/2 [==============================] - 0s 4ms/step\n",
            ">Epoch: 8,Batch: 389/468, disc_real_loss=0.295, disc_fake_loss=0.286 gan_loss=0.000\n",
            "2/2 [==============================] - 0s 4ms/step\n",
            ">Epoch: 8,Batch: 390/468, disc_real_loss=0.200, disc_fake_loss=0.233 gan_loss=0.000\n",
            "2/2 [==============================] - 0s 10ms/step\n",
            ">Epoch: 8,Batch: 391/468, disc_real_loss=0.311, disc_fake_loss=0.277 gan_loss=0.000\n",
            "2/2 [==============================] - 0s 12ms/step\n",
            ">Epoch: 8,Batch: 392/468, disc_real_loss=0.169, disc_fake_loss=0.278 gan_loss=0.000\n",
            "2/2 [==============================] - 0s 5ms/step\n",
            ">Epoch: 8,Batch: 393/468, disc_real_loss=0.316, disc_fake_loss=0.155 gan_loss=0.000\n",
            "2/2 [==============================] - 0s 11ms/step\n",
            ">Epoch: 8,Batch: 394/468, disc_real_loss=0.131, disc_fake_loss=0.189 gan_loss=0.000\n",
            "2/2 [==============================] - 0s 6ms/step\n",
            ">Epoch: 8,Batch: 395/468, disc_real_loss=0.218, disc_fake_loss=0.211 gan_loss=0.000\n",
            "2/2 [==============================] - 0s 7ms/step\n",
            ">Epoch: 8,Batch: 396/468, disc_real_loss=0.219, disc_fake_loss=0.167 gan_loss=0.000\n",
            "2/2 [==============================] - 0s 15ms/step\n",
            ">Epoch: 8,Batch: 397/468, disc_real_loss=0.213, disc_fake_loss=0.265 gan_loss=0.000\n",
            "2/2 [==============================] - 0s 11ms/step\n",
            ">Epoch: 8,Batch: 398/468, disc_real_loss=0.152, disc_fake_loss=0.197 gan_loss=0.000\n",
            "2/2 [==============================] - 0s 8ms/step\n",
            ">Epoch: 8,Batch: 399/468, disc_real_loss=0.172, disc_fake_loss=0.125 gan_loss=0.000\n",
            "2/2 [==============================] - 0s 8ms/step\n",
            ">Epoch: 8,Batch: 400/468, disc_real_loss=0.200, disc_fake_loss=0.212 gan_loss=0.000\n",
            "2/2 [==============================] - 0s 5ms/step\n",
            ">Epoch: 8,Batch: 401/468, disc_real_loss=0.164, disc_fake_loss=0.213 gan_loss=0.000\n",
            "2/2 [==============================] - 0s 10ms/step\n",
            ">Epoch: 8,Batch: 402/468, disc_real_loss=0.139, disc_fake_loss=0.186 gan_loss=0.000\n",
            "2/2 [==============================] - 0s 9ms/step\n",
            ">Epoch: 8,Batch: 403/468, disc_real_loss=0.197, disc_fake_loss=0.159 gan_loss=0.000\n",
            "2/2 [==============================] - 0s 5ms/step\n",
            ">Epoch: 8,Batch: 404/468, disc_real_loss=0.319, disc_fake_loss=0.294 gan_loss=0.000\n",
            "2/2 [==============================] - 0s 9ms/step\n",
            ">Epoch: 8,Batch: 405/468, disc_real_loss=0.205, disc_fake_loss=0.261 gan_loss=0.000\n",
            "2/2 [==============================] - 0s 5ms/step\n",
            ">Epoch: 8,Batch: 406/468, disc_real_loss=0.183, disc_fake_loss=0.277 gan_loss=0.000\n",
            "2/2 [==============================] - 0s 5ms/step\n",
            ">Epoch: 8,Batch: 407/468, disc_real_loss=0.278, disc_fake_loss=0.151 gan_loss=0.000\n",
            "2/2 [==============================] - 0s 5ms/step\n",
            ">Epoch: 8,Batch: 408/468, disc_real_loss=0.222, disc_fake_loss=0.242 gan_loss=0.000\n",
            "2/2 [==============================] - 0s 6ms/step\n",
            ">Epoch: 8,Batch: 409/468, disc_real_loss=0.174, disc_fake_loss=0.353 gan_loss=0.000\n",
            "2/2 [==============================] - 0s 7ms/step\n",
            ">Epoch: 8,Batch: 410/468, disc_real_loss=0.242, disc_fake_loss=0.209 gan_loss=0.000\n",
            "2/2 [==============================] - 0s 12ms/step\n",
            ">Epoch: 8,Batch: 411/468, disc_real_loss=0.220, disc_fake_loss=0.163 gan_loss=0.000\n",
            "2/2 [==============================] - 0s 7ms/step\n",
            ">Epoch: 8,Batch: 412/468, disc_real_loss=0.238, disc_fake_loss=0.175 gan_loss=0.000\n",
            "2/2 [==============================] - 0s 7ms/step\n",
            ">Epoch: 8,Batch: 413/468, disc_real_loss=0.288, disc_fake_loss=0.261 gan_loss=0.000\n",
            "2/2 [==============================] - 0s 4ms/step\n",
            ">Epoch: 8,Batch: 414/468, disc_real_loss=0.204, disc_fake_loss=0.342 gan_loss=0.000\n",
            "2/2 [==============================] - 0s 5ms/step\n",
            ">Epoch: 8,Batch: 415/468, disc_real_loss=0.175, disc_fake_loss=0.198 gan_loss=0.000\n",
            "2/2 [==============================] - 0s 11ms/step\n",
            ">Epoch: 8,Batch: 416/468, disc_real_loss=0.205, disc_fake_loss=0.179 gan_loss=0.000\n",
            "2/2 [==============================] - 0s 10ms/step\n",
            ">Epoch: 8,Batch: 417/468, disc_real_loss=0.190, disc_fake_loss=0.221 gan_loss=0.000\n",
            "2/2 [==============================] - 0s 6ms/step\n",
            ">Epoch: 8,Batch: 418/468, disc_real_loss=0.217, disc_fake_loss=0.200 gan_loss=0.000\n",
            "2/2 [==============================] - 0s 6ms/step\n",
            ">Epoch: 8,Batch: 419/468, disc_real_loss=0.214, disc_fake_loss=0.141 gan_loss=0.000\n",
            "2/2 [==============================] - 0s 10ms/step\n",
            ">Epoch: 8,Batch: 420/468, disc_real_loss=0.168, disc_fake_loss=0.219 gan_loss=0.000\n",
            "2/2 [==============================] - 0s 13ms/step\n",
            ">Epoch: 8,Batch: 421/468, disc_real_loss=0.232, disc_fake_loss=0.258 gan_loss=0.000\n",
            "2/2 [==============================] - 0s 4ms/step\n",
            ">Epoch: 8,Batch: 422/468, disc_real_loss=0.232, disc_fake_loss=0.238 gan_loss=0.000\n",
            "2/2 [==============================] - 0s 4ms/step\n",
            ">Epoch: 8,Batch: 423/468, disc_real_loss=0.246, disc_fake_loss=0.304 gan_loss=0.000\n",
            "2/2 [==============================] - 0s 12ms/step\n",
            ">Epoch: 8,Batch: 424/468, disc_real_loss=0.186, disc_fake_loss=0.157 gan_loss=0.000\n",
            "2/2 [==============================] - 0s 5ms/step\n",
            ">Epoch: 8,Batch: 425/468, disc_real_loss=0.270, disc_fake_loss=0.272 gan_loss=0.000\n",
            "2/2 [==============================] - 0s 4ms/step\n",
            ">Epoch: 8,Batch: 426/468, disc_real_loss=0.203, disc_fake_loss=0.173 gan_loss=0.000\n",
            "2/2 [==============================] - 0s 8ms/step\n",
            ">Epoch: 8,Batch: 427/468, disc_real_loss=0.352, disc_fake_loss=0.253 gan_loss=0.000\n",
            "2/2 [==============================] - 0s 7ms/step\n",
            ">Epoch: 8,Batch: 428/468, disc_real_loss=0.164, disc_fake_loss=0.246 gan_loss=0.000\n",
            "2/2 [==============================] - 0s 4ms/step\n",
            ">Epoch: 8,Batch: 429/468, disc_real_loss=0.210, disc_fake_loss=0.178 gan_loss=0.000\n",
            "2/2 [==============================] - 0s 4ms/step\n",
            ">Epoch: 8,Batch: 430/468, disc_real_loss=0.282, disc_fake_loss=0.277 gan_loss=0.000\n",
            "2/2 [==============================] - 0s 8ms/step\n",
            ">Epoch: 8,Batch: 431/468, disc_real_loss=0.180, disc_fake_loss=0.198 gan_loss=0.000\n",
            "2/2 [==============================] - 0s 5ms/step\n",
            ">Epoch: 8,Batch: 432/468, disc_real_loss=0.288, disc_fake_loss=0.220 gan_loss=0.000\n",
            "2/2 [==============================] - 0s 4ms/step\n",
            ">Epoch: 8,Batch: 433/468, disc_real_loss=0.121, disc_fake_loss=0.308 gan_loss=0.000\n",
            "2/2 [==============================] - 0s 5ms/step\n",
            ">Epoch: 8,Batch: 434/468, disc_real_loss=0.155, disc_fake_loss=0.118 gan_loss=0.000\n",
            "2/2 [==============================] - 0s 4ms/step\n",
            ">Epoch: 8,Batch: 435/468, disc_real_loss=0.303, disc_fake_loss=0.185 gan_loss=0.000\n",
            "2/2 [==============================] - 0s 7ms/step\n",
            ">Epoch: 8,Batch: 436/468, disc_real_loss=0.181, disc_fake_loss=0.290 gan_loss=0.000\n",
            "2/2 [==============================] - 0s 4ms/step\n",
            ">Epoch: 8,Batch: 437/468, disc_real_loss=0.229, disc_fake_loss=0.174 gan_loss=0.000\n",
            "2/2 [==============================] - 0s 5ms/step\n",
            ">Epoch: 8,Batch: 438/468, disc_real_loss=0.177, disc_fake_loss=0.211 gan_loss=0.000\n",
            "2/2 [==============================] - 0s 6ms/step\n",
            ">Epoch: 8,Batch: 439/468, disc_real_loss=0.199, disc_fake_loss=0.248 gan_loss=0.000\n",
            "2/2 [==============================] - 0s 8ms/step\n",
            ">Epoch: 8,Batch: 440/468, disc_real_loss=0.254, disc_fake_loss=0.142 gan_loss=0.000\n",
            "2/2 [==============================] - 0s 5ms/step\n",
            ">Epoch: 8,Batch: 441/468, disc_real_loss=0.217, disc_fake_loss=0.267 gan_loss=0.000\n",
            "2/2 [==============================] - 0s 5ms/step\n",
            ">Epoch: 8,Batch: 442/468, disc_real_loss=0.200, disc_fake_loss=0.233 gan_loss=0.000\n",
            "2/2 [==============================] - 0s 10ms/step\n",
            ">Epoch: 8,Batch: 443/468, disc_real_loss=0.124, disc_fake_loss=0.333 gan_loss=0.000\n",
            "2/2 [==============================] - 0s 14ms/step\n",
            ">Epoch: 8,Batch: 444/468, disc_real_loss=0.296, disc_fake_loss=0.142 gan_loss=0.000\n",
            "2/2 [==============================] - 0s 8ms/step\n",
            ">Epoch: 8,Batch: 445/468, disc_real_loss=0.239, disc_fake_loss=0.277 gan_loss=0.000\n",
            "2/2 [==============================] - 0s 13ms/step\n",
            ">Epoch: 8,Batch: 446/468, disc_real_loss=0.220, disc_fake_loss=0.252 gan_loss=0.000\n",
            "2/2 [==============================] - 0s 5ms/step\n",
            ">Epoch: 8,Batch: 447/468, disc_real_loss=0.244, disc_fake_loss=0.177 gan_loss=0.000\n",
            "2/2 [==============================] - 0s 9ms/step\n",
            ">Epoch: 8,Batch: 448/468, disc_real_loss=0.259, disc_fake_loss=0.287 gan_loss=0.000\n",
            "2/2 [==============================] - 0s 6ms/step\n",
            ">Epoch: 8,Batch: 449/468, disc_real_loss=0.190, disc_fake_loss=0.204 gan_loss=0.000\n",
            "2/2 [==============================] - 0s 4ms/step\n",
            ">Epoch: 8,Batch: 450/468, disc_real_loss=0.267, disc_fake_loss=0.158 gan_loss=0.000\n",
            "2/2 [==============================] - 0s 11ms/step\n",
            ">Epoch: 8,Batch: 451/468, disc_real_loss=0.247, disc_fake_loss=0.224 gan_loss=0.000\n",
            "2/2 [==============================] - 0s 11ms/step\n",
            ">Epoch: 8,Batch: 452/468, disc_real_loss=0.179, disc_fake_loss=0.316 gan_loss=0.000\n",
            "2/2 [==============================] - 0s 18ms/step\n",
            ">Epoch: 8,Batch: 453/468, disc_real_loss=0.262, disc_fake_loss=0.193 gan_loss=0.000\n",
            "2/2 [==============================] - 0s 16ms/step\n",
            ">Epoch: 8,Batch: 454/468, disc_real_loss=0.283, disc_fake_loss=0.168 gan_loss=0.000\n",
            "2/2 [==============================] - 0s 13ms/step\n",
            ">Epoch: 8,Batch: 455/468, disc_real_loss=0.190, disc_fake_loss=0.360 gan_loss=0.000\n",
            "2/2 [==============================] - 0s 15ms/step\n",
            ">Epoch: 8,Batch: 456/468, disc_real_loss=0.175, disc_fake_loss=0.134 gan_loss=0.000\n",
            "2/2 [==============================] - 0s 13ms/step\n",
            ">Epoch: 8,Batch: 457/468, disc_real_loss=0.242, disc_fake_loss=0.202 gan_loss=0.000\n",
            "2/2 [==============================] - 0s 4ms/step\n",
            ">Epoch: 8,Batch: 458/468, disc_real_loss=0.197, disc_fake_loss=0.268 gan_loss=0.000\n",
            "2/2 [==============================] - 0s 13ms/step\n",
            ">Epoch: 8,Batch: 459/468, disc_real_loss=0.108, disc_fake_loss=0.198 gan_loss=0.000\n",
            "2/2 [==============================] - 0s 5ms/step\n",
            ">Epoch: 8,Batch: 460/468, disc_real_loss=0.256, disc_fake_loss=0.232 gan_loss=0.000\n",
            "2/2 [==============================] - 0s 4ms/step\n",
            ">Epoch: 8,Batch: 461/468, disc_real_loss=0.209, disc_fake_loss=0.156 gan_loss=0.000\n",
            "2/2 [==============================] - 0s 15ms/step\n",
            ">Epoch: 8,Batch: 462/468, disc_real_loss=0.194, disc_fake_loss=0.175 gan_loss=0.000\n",
            "2/2 [==============================] - 0s 5ms/step\n",
            ">Epoch: 8,Batch: 463/468, disc_real_loss=0.160, disc_fake_loss=0.227 gan_loss=0.000\n",
            "2/2 [==============================] - 0s 13ms/step\n",
            ">Epoch: 8,Batch: 464/468, disc_real_loss=0.258, disc_fake_loss=0.193 gan_loss=0.000\n",
            "2/2 [==============================] - 0s 5ms/step\n",
            ">Epoch: 8,Batch: 465/468, disc_real_loss=0.162, disc_fake_loss=0.188 gan_loss=0.000\n",
            "2/2 [==============================] - 0s 4ms/step\n",
            ">Epoch: 8,Batch: 466/468, disc_real_loss=0.161, disc_fake_loss=0.196 gan_loss=0.000\n",
            "2/2 [==============================] - 0s 9ms/step\n",
            ">Epoch: 8,Batch: 467/468, disc_real_loss=0.246, disc_fake_loss=0.284 gan_loss=0.000\n",
            "2/2 [==============================] - 0s 8ms/step\n",
            ">Epoch: 8,Batch: 468/468, disc_real_loss=0.151, disc_fake_loss=0.157 gan_loss=0.000\n",
            "2/2 [==============================] - 0s 5ms/step\n",
            ">Epoch: 9,Batch: 1/468, disc_real_loss=0.179, disc_fake_loss=0.148 gan_loss=0.000\n",
            "2/2 [==============================] - 0s 13ms/step\n",
            ">Epoch: 9,Batch: 2/468, disc_real_loss=0.314, disc_fake_loss=0.291 gan_loss=0.000\n",
            "2/2 [==============================] - 0s 13ms/step\n",
            ">Epoch: 9,Batch: 3/468, disc_real_loss=0.197, disc_fake_loss=0.263 gan_loss=0.000\n",
            "2/2 [==============================] - 0s 11ms/step\n",
            ">Epoch: 9,Batch: 4/468, disc_real_loss=0.251, disc_fake_loss=0.251 gan_loss=0.000\n",
            "2/2 [==============================] - 0s 9ms/step\n",
            ">Epoch: 9,Batch: 5/468, disc_real_loss=0.198, disc_fake_loss=0.154 gan_loss=0.000\n",
            "2/2 [==============================] - 0s 9ms/step\n",
            ">Epoch: 9,Batch: 6/468, disc_real_loss=0.234, disc_fake_loss=0.159 gan_loss=0.000\n",
            "2/2 [==============================] - 0s 4ms/step\n",
            ">Epoch: 9,Batch: 7/468, disc_real_loss=0.189, disc_fake_loss=0.233 gan_loss=0.000\n",
            "2/2 [==============================] - 0s 7ms/step\n",
            ">Epoch: 9,Batch: 8/468, disc_real_loss=0.190, disc_fake_loss=0.334 gan_loss=0.000\n",
            "2/2 [==============================] - 0s 8ms/step\n",
            ">Epoch: 9,Batch: 9/468, disc_real_loss=0.232, disc_fake_loss=0.260 gan_loss=0.000\n",
            "2/2 [==============================] - 0s 8ms/step\n",
            ">Epoch: 9,Batch: 10/468, disc_real_loss=0.207, disc_fake_loss=0.185 gan_loss=0.000\n",
            "2/2 [==============================] - 0s 10ms/step\n",
            ">Epoch: 9,Batch: 11/468, disc_real_loss=0.194, disc_fake_loss=0.180 gan_loss=0.000\n",
            "2/2 [==============================] - 0s 10ms/step\n",
            ">Epoch: 9,Batch: 12/468, disc_real_loss=0.184, disc_fake_loss=0.269 gan_loss=0.000\n",
            "2/2 [==============================] - 0s 4ms/step\n",
            ">Epoch: 9,Batch: 13/468, disc_real_loss=0.185, disc_fake_loss=0.199 gan_loss=0.000\n",
            "2/2 [==============================] - 0s 4ms/step\n",
            ">Epoch: 9,Batch: 14/468, disc_real_loss=0.289, disc_fake_loss=0.183 gan_loss=0.000\n",
            "2/2 [==============================] - 0s 12ms/step\n",
            ">Epoch: 9,Batch: 15/468, disc_real_loss=0.201, disc_fake_loss=0.237 gan_loss=0.000\n",
            "2/2 [==============================] - 0s 11ms/step\n",
            ">Epoch: 9,Batch: 16/468, disc_real_loss=0.230, disc_fake_loss=0.280 gan_loss=0.000\n",
            "2/2 [==============================] - 0s 6ms/step\n",
            ">Epoch: 9,Batch: 17/468, disc_real_loss=0.244, disc_fake_loss=0.203 gan_loss=0.000\n",
            "2/2 [==============================] - 0s 6ms/step\n",
            ">Epoch: 9,Batch: 18/468, disc_real_loss=0.213, disc_fake_loss=0.256 gan_loss=0.000\n",
            "2/2 [==============================] - 0s 4ms/step\n",
            ">Epoch: 9,Batch: 19/468, disc_real_loss=0.338, disc_fake_loss=0.133 gan_loss=0.000\n",
            "2/2 [==============================] - 0s 10ms/step\n",
            ">Epoch: 9,Batch: 20/468, disc_real_loss=0.138, disc_fake_loss=0.250 gan_loss=0.000\n",
            "2/2 [==============================] - 0s 12ms/step\n",
            ">Epoch: 9,Batch: 21/468, disc_real_loss=0.213, disc_fake_loss=0.281 gan_loss=0.000\n",
            "2/2 [==============================] - 0s 5ms/step\n",
            ">Epoch: 9,Batch: 22/468, disc_real_loss=0.138, disc_fake_loss=0.110 gan_loss=0.000\n",
            "2/2 [==============================] - 0s 17ms/step\n",
            ">Epoch: 9,Batch: 23/468, disc_real_loss=0.292, disc_fake_loss=0.220 gan_loss=0.000\n",
            "2/2 [==============================] - 0s 6ms/step\n",
            ">Epoch: 9,Batch: 24/468, disc_real_loss=0.212, disc_fake_loss=0.204 gan_loss=0.000\n",
            "2/2 [==============================] - 0s 6ms/step\n",
            ">Epoch: 9,Batch: 25/468, disc_real_loss=0.113, disc_fake_loss=0.300 gan_loss=0.000\n",
            "2/2 [==============================] - 0s 14ms/step\n",
            ">Epoch: 9,Batch: 26/468, disc_real_loss=0.280, disc_fake_loss=0.178 gan_loss=0.000\n",
            "2/2 [==============================] - 0s 4ms/step\n",
            ">Epoch: 9,Batch: 27/468, disc_real_loss=0.240, disc_fake_loss=0.318 gan_loss=0.000\n",
            "2/2 [==============================] - 0s 4ms/step\n",
            ">Epoch: 9,Batch: 28/468, disc_real_loss=0.191, disc_fake_loss=0.108 gan_loss=0.000\n",
            "2/2 [==============================] - 0s 8ms/step\n",
            ">Epoch: 9,Batch: 29/468, disc_real_loss=0.232, disc_fake_loss=0.197 gan_loss=0.000\n",
            "2/2 [==============================] - 0s 14ms/step\n",
            ">Epoch: 9,Batch: 30/468, disc_real_loss=0.153, disc_fake_loss=0.297 gan_loss=0.000\n",
            "2/2 [==============================] - 0s 7ms/step\n",
            ">Epoch: 9,Batch: 31/468, disc_real_loss=0.221, disc_fake_loss=0.174 gan_loss=0.000\n",
            "2/2 [==============================] - 0s 6ms/step\n",
            ">Epoch: 9,Batch: 32/468, disc_real_loss=0.227, disc_fake_loss=0.206 gan_loss=0.000\n",
            "2/2 [==============================] - 0s 5ms/step\n",
            ">Epoch: 9,Batch: 33/468, disc_real_loss=0.158, disc_fake_loss=0.201 gan_loss=0.000\n",
            "2/2 [==============================] - 0s 9ms/step\n",
            ">Epoch: 9,Batch: 34/468, disc_real_loss=0.313, disc_fake_loss=0.225 gan_loss=0.000\n",
            "2/2 [==============================] - 0s 12ms/step\n",
            ">Epoch: 9,Batch: 35/468, disc_real_loss=0.182, disc_fake_loss=0.223 gan_loss=0.000\n",
            "2/2 [==============================] - 0s 4ms/step\n",
            ">Epoch: 9,Batch: 36/468, disc_real_loss=0.191, disc_fake_loss=0.187 gan_loss=0.000\n",
            "2/2 [==============================] - 0s 6ms/step\n",
            ">Epoch: 9,Batch: 37/468, disc_real_loss=0.290, disc_fake_loss=0.287 gan_loss=0.000\n",
            "2/2 [==============================] - 0s 4ms/step\n",
            ">Epoch: 9,Batch: 38/468, disc_real_loss=0.153, disc_fake_loss=0.184 gan_loss=0.000\n",
            "2/2 [==============================] - 0s 6ms/step\n",
            ">Epoch: 9,Batch: 39/468, disc_real_loss=0.225, disc_fake_loss=0.176 gan_loss=0.000\n",
            "2/2 [==============================] - 0s 6ms/step\n",
            ">Epoch: 9,Batch: 40/468, disc_real_loss=0.163, disc_fake_loss=0.192 gan_loss=0.000\n",
            "2/2 [==============================] - 0s 4ms/step\n",
            ">Epoch: 9,Batch: 41/468, disc_real_loss=0.222, disc_fake_loss=0.278 gan_loss=0.000\n",
            "2/2 [==============================] - 0s 7ms/step\n",
            ">Epoch: 9,Batch: 42/468, disc_real_loss=0.223, disc_fake_loss=0.248 gan_loss=0.000\n",
            "2/2 [==============================] - 0s 13ms/step\n",
            ">Epoch: 9,Batch: 43/468, disc_real_loss=0.219, disc_fake_loss=0.149 gan_loss=0.000\n",
            "2/2 [==============================] - 0s 15ms/step\n",
            ">Epoch: 9,Batch: 44/468, disc_real_loss=0.157, disc_fake_loss=0.238 gan_loss=0.000\n",
            "2/2 [==============================] - 0s 11ms/step\n",
            ">Epoch: 9,Batch: 45/468, disc_real_loss=0.194, disc_fake_loss=0.233 gan_loss=0.000\n",
            "2/2 [==============================] - 0s 13ms/step\n",
            ">Epoch: 9,Batch: 46/468, disc_real_loss=0.235, disc_fake_loss=0.188 gan_loss=0.000\n",
            "2/2 [==============================] - 0s 13ms/step\n",
            ">Epoch: 9,Batch: 47/468, disc_real_loss=0.197, disc_fake_loss=0.232 gan_loss=0.000\n",
            "2/2 [==============================] - 0s 5ms/step\n",
            ">Epoch: 9,Batch: 48/468, disc_real_loss=0.149, disc_fake_loss=0.176 gan_loss=0.000\n",
            "2/2 [==============================] - 0s 10ms/step\n",
            ">Epoch: 9,Batch: 49/468, disc_real_loss=0.234, disc_fake_loss=0.169 gan_loss=0.000\n",
            "2/2 [==============================] - 0s 7ms/step\n",
            ">Epoch: 9,Batch: 50/468, disc_real_loss=0.144, disc_fake_loss=0.221 gan_loss=0.000\n",
            "2/2 [==============================] - 0s 5ms/step\n",
            ">Epoch: 9,Batch: 51/468, disc_real_loss=0.202, disc_fake_loss=0.163 gan_loss=0.000\n",
            "2/2 [==============================] - 0s 4ms/step\n",
            ">Epoch: 9,Batch: 52/468, disc_real_loss=0.200, disc_fake_loss=0.206 gan_loss=0.000\n",
            "2/2 [==============================] - 0s 9ms/step\n",
            ">Epoch: 9,Batch: 53/468, disc_real_loss=0.188, disc_fake_loss=0.250 gan_loss=0.000\n",
            "2/2 [==============================] - 0s 10ms/step\n",
            ">Epoch: 9,Batch: 54/468, disc_real_loss=0.224, disc_fake_loss=0.189 gan_loss=0.000\n",
            "2/2 [==============================] - 0s 9ms/step\n",
            ">Epoch: 9,Batch: 55/468, disc_real_loss=0.194, disc_fake_loss=0.146 gan_loss=0.000\n",
            "2/2 [==============================] - 0s 10ms/step\n",
            ">Epoch: 9,Batch: 56/468, disc_real_loss=0.183, disc_fake_loss=0.216 gan_loss=0.000\n",
            "2/2 [==============================] - 0s 6ms/step\n",
            ">Epoch: 9,Batch: 57/468, disc_real_loss=0.174, disc_fake_loss=0.177 gan_loss=0.000\n",
            "2/2 [==============================] - 0s 6ms/step\n",
            ">Epoch: 9,Batch: 58/468, disc_real_loss=0.166, disc_fake_loss=0.299 gan_loss=0.000\n",
            "2/2 [==============================] - 0s 5ms/step\n",
            ">Epoch: 9,Batch: 59/468, disc_real_loss=0.295, disc_fake_loss=0.160 gan_loss=0.000\n",
            "2/2 [==============================] - 0s 12ms/step\n",
            ">Epoch: 9,Batch: 60/468, disc_real_loss=0.173, disc_fake_loss=0.188 gan_loss=0.000\n",
            "2/2 [==============================] - 0s 11ms/step\n",
            ">Epoch: 9,Batch: 61/468, disc_real_loss=0.196, disc_fake_loss=0.194 gan_loss=0.000\n",
            "2/2 [==============================] - 0s 4ms/step\n",
            ">Epoch: 9,Batch: 62/468, disc_real_loss=0.184, disc_fake_loss=0.268 gan_loss=0.000\n",
            "2/2 [==============================] - 0s 13ms/step\n",
            ">Epoch: 9,Batch: 63/468, disc_real_loss=0.296, disc_fake_loss=0.337 gan_loss=0.000\n",
            "2/2 [==============================] - 0s 10ms/step\n",
            ">Epoch: 9,Batch: 64/468, disc_real_loss=0.193, disc_fake_loss=0.208 gan_loss=0.000\n",
            "2/2 [==============================] - 0s 9ms/step\n",
            ">Epoch: 9,Batch: 65/468, disc_real_loss=0.288, disc_fake_loss=0.205 gan_loss=0.000\n",
            "2/2 [==============================] - 0s 5ms/step\n",
            ">Epoch: 9,Batch: 66/468, disc_real_loss=0.174, disc_fake_loss=0.196 gan_loss=0.000\n",
            "2/2 [==============================] - 0s 12ms/step\n",
            ">Epoch: 9,Batch: 67/468, disc_real_loss=0.255, disc_fake_loss=0.167 gan_loss=0.000\n",
            "2/2 [==============================] - 0s 5ms/step\n",
            ">Epoch: 9,Batch: 68/468, disc_real_loss=0.208, disc_fake_loss=0.213 gan_loss=0.000\n",
            "2/2 [==============================] - 0s 6ms/step\n",
            ">Epoch: 9,Batch: 69/468, disc_real_loss=0.177, disc_fake_loss=0.209 gan_loss=0.000\n",
            "2/2 [==============================] - 0s 6ms/step\n",
            ">Epoch: 9,Batch: 70/468, disc_real_loss=0.158, disc_fake_loss=0.219 gan_loss=0.000\n",
            "2/2 [==============================] - 0s 11ms/step\n",
            ">Epoch: 9,Batch: 71/468, disc_real_loss=0.197, disc_fake_loss=0.191 gan_loss=0.000\n",
            "2/2 [==============================] - 0s 8ms/step\n",
            ">Epoch: 9,Batch: 72/468, disc_real_loss=0.247, disc_fake_loss=0.300 gan_loss=0.000\n",
            "2/2 [==============================] - 0s 4ms/step\n",
            ">Epoch: 9,Batch: 73/468, disc_real_loss=0.263, disc_fake_loss=0.195 gan_loss=0.000\n",
            "2/2 [==============================] - 0s 12ms/step\n",
            ">Epoch: 9,Batch: 74/468, disc_real_loss=0.284, disc_fake_loss=0.252 gan_loss=0.000\n",
            "2/2 [==============================] - 0s 5ms/step\n",
            ">Epoch: 9,Batch: 75/468, disc_real_loss=0.142, disc_fake_loss=0.231 gan_loss=0.000\n",
            "2/2 [==============================] - 0s 9ms/step\n",
            ">Epoch: 9,Batch: 76/468, disc_real_loss=0.250, disc_fake_loss=0.169 gan_loss=0.000\n",
            "2/2 [==============================] - 0s 5ms/step\n",
            ">Epoch: 9,Batch: 77/468, disc_real_loss=0.205, disc_fake_loss=0.140 gan_loss=0.000\n",
            "2/2 [==============================] - 0s 6ms/step\n",
            ">Epoch: 9,Batch: 78/468, disc_real_loss=0.199, disc_fake_loss=0.304 gan_loss=0.000\n",
            "2/2 [==============================] - 0s 6ms/step\n",
            ">Epoch: 9,Batch: 79/468, disc_real_loss=0.173, disc_fake_loss=0.151 gan_loss=0.000\n",
            "2/2 [==============================] - 0s 4ms/step\n",
            ">Epoch: 9,Batch: 80/468, disc_real_loss=0.164, disc_fake_loss=0.217 gan_loss=0.000\n",
            "2/2 [==============================] - 0s 4ms/step\n"
          ]
        },
        {
          "ename": "KeyboardInterrupt",
          "evalue": "ignored",
          "output_type": "error",
          "traceback": [
            "\u001b[0;31m---------------------------------------------------------------------------\u001b[0m",
            "\u001b[0;31mKeyboardInterrupt\u001b[0m                         Traceback (most recent call last)",
            "\u001b[0;32m<ipython-input-402-54a02414b68e>\u001b[0m in \u001b[0;36m<cell line: 8>\u001b[0;34m()\u001b[0m\n\u001b[1;32m      6\u001b[0m \u001b[0;31m# dataset=load_real_samples()\u001b[0m\u001b[0;34m\u001b[0m\u001b[0;34m\u001b[0m\u001b[0m\n\u001b[1;32m      7\u001b[0m \u001b[0;31m# train model\u001b[0m\u001b[0;34m\u001b[0m\u001b[0;34m\u001b[0m\u001b[0m\n\u001b[0;32m----> 8\u001b[0;31m \u001b[0mtrain\u001b[0m\u001b[0;34m(\u001b[0m\u001b[0mmodel\u001b[0m\u001b[0;34m,\u001b[0m \u001b[0mdisc_model\u001b[0m\u001b[0;34m,\u001b[0m \u001b[0mgan_model\u001b[0m\u001b[0;34m,\u001b[0m \u001b[0mdataset\u001b[0m\u001b[0;34m,\u001b[0m \u001b[0mlatent_dim\u001b[0m\u001b[0;34m)\u001b[0m\u001b[0;34m\u001b[0m\u001b[0;34m\u001b[0m\u001b[0m\n\u001b[0m",
            "\u001b[0;32m<ipython-input-389-cdd726b9de28>\u001b[0m in \u001b[0;36mtrain\u001b[0;34m(g_model, d_model, gan_model, dataset, latent_dim, n_epochs, n_batch)\u001b[0m\n\u001b[1;32m     17\u001b[0m \u001b[0;34m\u001b[0m\u001b[0m\n\u001b[1;32m     18\u001b[0m             \u001b[0;31m# Update discriminator model weights\u001b[0m\u001b[0;34m\u001b[0m\u001b[0;34m\u001b[0m\u001b[0m\n\u001b[0;32m---> 19\u001b[0;31m             \u001b[0md_loss2\u001b[0m\u001b[0;34m,\u001b[0m \u001b[0m_\u001b[0m \u001b[0;34m=\u001b[0m \u001b[0md_model\u001b[0m\u001b[0;34m.\u001b[0m\u001b[0mtrain_on_batch\u001b[0m\u001b[0;34m(\u001b[0m\u001b[0;34m[\u001b[0m\u001b[0mX_fake\u001b[0m\u001b[0;34m,\u001b[0m \u001b[0mlabels\u001b[0m\u001b[0;34m]\u001b[0m\u001b[0;34m,\u001b[0m \u001b[0my_fake\u001b[0m\u001b[0;34m)\u001b[0m\u001b[0;34m\u001b[0m\u001b[0;34m\u001b[0m\u001b[0m\n\u001b[0m\u001b[1;32m     20\u001b[0m \u001b[0;34m\u001b[0m\u001b[0m\n\u001b[1;32m     21\u001b[0m             \u001b[0;31m# Prepare points in latent space as input for the generator\u001b[0m\u001b[0;34m\u001b[0m\u001b[0;34m\u001b[0m\u001b[0m\n",
            "\u001b[0;32m/usr/local/lib/python3.10/dist-packages/keras/engine/training.py\u001b[0m in \u001b[0;36mtrain_on_batch\u001b[0;34m(self, x, y, sample_weight, class_weight, reset_metrics, return_dict)\u001b[0m\n\u001b[1;32m   2504\u001b[0m             \u001b[0mself\u001b[0m\u001b[0;34m\u001b[0m\u001b[0;34m\u001b[0m\u001b[0m\n\u001b[1;32m   2505\u001b[0m         ):\n\u001b[0;32m-> 2506\u001b[0;31m             iterator = data_adapter.single_batch_iterator(\n\u001b[0m\u001b[1;32m   2507\u001b[0m                 \u001b[0mself\u001b[0m\u001b[0;34m.\u001b[0m\u001b[0mdistribute_strategy\u001b[0m\u001b[0;34m,\u001b[0m \u001b[0mx\u001b[0m\u001b[0;34m,\u001b[0m \u001b[0my\u001b[0m\u001b[0;34m,\u001b[0m \u001b[0msample_weight\u001b[0m\u001b[0;34m,\u001b[0m \u001b[0mclass_weight\u001b[0m\u001b[0;34m\u001b[0m\u001b[0;34m\u001b[0m\u001b[0m\n\u001b[1;32m   2508\u001b[0m             )\n",
            "\u001b[0;32m/usr/local/lib/python3.10/dist-packages/keras/engine/data_adapter.py\u001b[0m in \u001b[0;36msingle_batch_iterator\u001b[0;34m(strategy, x, y, sample_weight, class_weight)\u001b[0m\n\u001b[1;32m   1835\u001b[0m         \u001b[0mdataset\u001b[0m \u001b[0;34m=\u001b[0m \u001b[0mdataset\u001b[0m\u001b[0;34m.\u001b[0m\u001b[0mmap\u001b[0m\u001b[0;34m(\u001b[0m\u001b[0m_make_class_weight_map_fn\u001b[0m\u001b[0;34m(\u001b[0m\u001b[0mclass_weight\u001b[0m\u001b[0;34m)\u001b[0m\u001b[0;34m)\u001b[0m\u001b[0;34m\u001b[0m\u001b[0;34m\u001b[0m\u001b[0m\n\u001b[1;32m   1836\u001b[0m     \u001b[0mdataset\u001b[0m \u001b[0;34m=\u001b[0m \u001b[0mstrategy\u001b[0m\u001b[0;34m.\u001b[0m\u001b[0mexperimental_distribute_dataset\u001b[0m\u001b[0;34m(\u001b[0m\u001b[0mdataset\u001b[0m\u001b[0;34m)\u001b[0m\u001b[0;34m\u001b[0m\u001b[0;34m\u001b[0m\u001b[0m\n\u001b[0;32m-> 1837\u001b[0;31m     \u001b[0;32mreturn\u001b[0m \u001b[0miter\u001b[0m\u001b[0;34m(\u001b[0m\u001b[0mdataset\u001b[0m\u001b[0;34m)\u001b[0m\u001b[0;34m\u001b[0m\u001b[0;34m\u001b[0m\u001b[0m\n\u001b[0m\u001b[1;32m   1838\u001b[0m \u001b[0;34m\u001b[0m\u001b[0m\n\u001b[1;32m   1839\u001b[0m \u001b[0;34m\u001b[0m\u001b[0m\n",
            "\u001b[0;32m/usr/local/lib/python3.10/dist-packages/tensorflow/python/data/ops/dataset_ops.py\u001b[0m in \u001b[0;36m__iter__\u001b[0;34m(self)\u001b[0m\n\u001b[1;32m    503\u001b[0m     \u001b[0;32mif\u001b[0m \u001b[0mcontext\u001b[0m\u001b[0;34m.\u001b[0m\u001b[0mexecuting_eagerly\u001b[0m\u001b[0;34m(\u001b[0m\u001b[0;34m)\u001b[0m \u001b[0;32mor\u001b[0m \u001b[0mops\u001b[0m\u001b[0;34m.\u001b[0m\u001b[0minside_function\u001b[0m\u001b[0;34m(\u001b[0m\u001b[0;34m)\u001b[0m\u001b[0;34m:\u001b[0m\u001b[0;34m\u001b[0m\u001b[0;34m\u001b[0m\u001b[0m\n\u001b[1;32m    504\u001b[0m       \u001b[0;32mwith\u001b[0m \u001b[0mops\u001b[0m\u001b[0;34m.\u001b[0m\u001b[0mcolocate_with\u001b[0m\u001b[0;34m(\u001b[0m\u001b[0mself\u001b[0m\u001b[0;34m.\u001b[0m\u001b[0m_variant_tensor\u001b[0m\u001b[0;34m)\u001b[0m\u001b[0;34m:\u001b[0m\u001b[0;34m\u001b[0m\u001b[0;34m\u001b[0m\u001b[0m\n\u001b[0;32m--> 505\u001b[0;31m         \u001b[0;32mreturn\u001b[0m \u001b[0miterator_ops\u001b[0m\u001b[0;34m.\u001b[0m\u001b[0mOwnedIterator\u001b[0m\u001b[0;34m(\u001b[0m\u001b[0mself\u001b[0m\u001b[0;34m)\u001b[0m\u001b[0;34m\u001b[0m\u001b[0;34m\u001b[0m\u001b[0m\n\u001b[0m\u001b[1;32m    506\u001b[0m     \u001b[0;32melse\u001b[0m\u001b[0;34m:\u001b[0m\u001b[0;34m\u001b[0m\u001b[0;34m\u001b[0m\u001b[0m\n\u001b[1;32m    507\u001b[0m       raise RuntimeError(\"`tf.data.Dataset` only supports Python-style \"\n",
            "\u001b[0;32m/usr/local/lib/python3.10/dist-packages/tensorflow/python/data/ops/iterator_ops.py\u001b[0m in \u001b[0;36m__init__\u001b[0;34m(self, dataset, components, element_spec)\u001b[0m\n\u001b[1;32m    711\u001b[0m             \u001b[0;34m\"When `dataset` is provided, `element_spec` and `components` must \"\u001b[0m\u001b[0;34m\u001b[0m\u001b[0;34m\u001b[0m\u001b[0m\n\u001b[1;32m    712\u001b[0m             \"not be specified.\")\n\u001b[0;32m--> 713\u001b[0;31m       \u001b[0mself\u001b[0m\u001b[0;34m.\u001b[0m\u001b[0m_create_iterator\u001b[0m\u001b[0;34m(\u001b[0m\u001b[0mdataset\u001b[0m\u001b[0;34m)\u001b[0m\u001b[0;34m\u001b[0m\u001b[0;34m\u001b[0m\u001b[0m\n\u001b[0m\u001b[1;32m    714\u001b[0m \u001b[0;34m\u001b[0m\u001b[0m\n\u001b[1;32m    715\u001b[0m     \u001b[0mself\u001b[0m\u001b[0;34m.\u001b[0m\u001b[0m_get_next_call_count\u001b[0m \u001b[0;34m=\u001b[0m \u001b[0;36m0\u001b[0m\u001b[0;34m\u001b[0m\u001b[0;34m\u001b[0m\u001b[0m\n",
            "\u001b[0;32m/usr/local/lib/python3.10/dist-packages/tensorflow/python/data/ops/iterator_ops.py\u001b[0m in \u001b[0;36m_create_iterator\u001b[0;34m(self, dataset)\u001b[0m\n\u001b[1;32m    750\u001b[0m             self._flat_output_types)\n\u001b[1;32m    751\u001b[0m         \u001b[0mself\u001b[0m\u001b[0;34m.\u001b[0m\u001b[0m_iterator_resource\u001b[0m\u001b[0;34m.\u001b[0m\u001b[0mop\u001b[0m\u001b[0;34m.\u001b[0m\u001b[0mexperimental_set_type\u001b[0m\u001b[0;34m(\u001b[0m\u001b[0mfulltype\u001b[0m\u001b[0;34m)\u001b[0m\u001b[0;34m\u001b[0m\u001b[0;34m\u001b[0m\u001b[0m\n\u001b[0;32m--> 752\u001b[0;31m       \u001b[0mgen_dataset_ops\u001b[0m\u001b[0;34m.\u001b[0m\u001b[0mmake_iterator\u001b[0m\u001b[0;34m(\u001b[0m\u001b[0mds_variant\u001b[0m\u001b[0;34m,\u001b[0m \u001b[0mself\u001b[0m\u001b[0;34m.\u001b[0m\u001b[0m_iterator_resource\u001b[0m\u001b[0;34m)\u001b[0m\u001b[0;34m\u001b[0m\u001b[0;34m\u001b[0m\u001b[0m\n\u001b[0m\u001b[1;32m    753\u001b[0m \u001b[0;34m\u001b[0m\u001b[0m\n\u001b[1;32m    754\u001b[0m   \u001b[0;32mdef\u001b[0m \u001b[0m__iter__\u001b[0m\u001b[0;34m(\u001b[0m\u001b[0mself\u001b[0m\u001b[0;34m)\u001b[0m\u001b[0;34m:\u001b[0m\u001b[0;34m\u001b[0m\u001b[0;34m\u001b[0m\u001b[0m\n",
            "\u001b[0;32m/usr/local/lib/python3.10/dist-packages/tensorflow/python/ops/gen_dataset_ops.py\u001b[0m in \u001b[0;36mmake_iterator\u001b[0;34m(dataset, iterator, name)\u001b[0m\n\u001b[1;32m   3406\u001b[0m   \u001b[0;32mif\u001b[0m \u001b[0mtld\u001b[0m\u001b[0;34m.\u001b[0m\u001b[0mis_eager\u001b[0m\u001b[0;34m:\u001b[0m\u001b[0;34m\u001b[0m\u001b[0;34m\u001b[0m\u001b[0m\n\u001b[1;32m   3407\u001b[0m     \u001b[0;32mtry\u001b[0m\u001b[0;34m:\u001b[0m\u001b[0;34m\u001b[0m\u001b[0;34m\u001b[0m\u001b[0m\n\u001b[0;32m-> 3408\u001b[0;31m       _result = pywrap_tfe.TFE_Py_FastPathExecute(\n\u001b[0m\u001b[1;32m   3409\u001b[0m         _ctx, \"MakeIterator\", name, dataset, iterator)\n\u001b[1;32m   3410\u001b[0m       \u001b[0;32mreturn\u001b[0m \u001b[0m_result\u001b[0m\u001b[0;34m\u001b[0m\u001b[0;34m\u001b[0m\u001b[0m\n",
            "\u001b[0;31mKeyboardInterrupt\u001b[0m: "
          ]
        }
      ],
      "source": [
        "latent_dim=100\n",
        "gen_model = generator(latent_dimension=latent_dim)\n",
        "gan_model = gan(gen_model, disc_model)\n",
        "dataset = prepare_dataset(x,y)\n",
        "train(model, disc_model, gan_model, dataset, latent_dim)"
      ]
    },
    {
      "cell_type": "markdown",
      "source": [
        "## Helper Functions from machine learning mastery"
      ],
      "metadata": {
        "id": "eI__V0g3fUj7"
      }
    },
    {
      "cell_type": "code",
      "execution_count": null,
      "metadata": {
        "id": "7dMoizIu7Mgd"
      },
      "outputs": [],
      "source": [
        "import matplotlib.pyplot as plt\n",
        "def save_plot(examples, n):\n",
        " # plot images\n",
        " for i in range(n * n):\n",
        " # define subplot\n",
        "  plt.subplot(n, n, 1 + i)\n",
        "  # turn off axis\n",
        "  plt.axis('off')\n",
        "  # plot raw pixel data\n",
        "  plt.imshow(examples[i, :, :, 0], cmap='gray_r')\n",
        "  plt.show()"
      ]
    },
    {
      "cell_type": "markdown",
      "source": [
        "## Generating new samples and plotting them"
      ],
      "metadata": {
        "id": "3nJioIjhfZkx"
      }
    },
    {
      "cell_type": "code",
      "execution_count": null,
      "metadata": {
        "colab": {
          "background_save": true
        },
        "id": "6xTd42vUHpwH",
        "outputId": "a75b52a5-1635-414e-dd10-d8b69de8d285"
      },
      "outputs": [
        {
          "name": "stderr",
          "output_type": "stream",
          "text": [
            "WARNING:tensorflow:No training configuration found in the save file, so the model was *not* compiled. Compile it manually.\n",
            "WARNING:tensorflow:5 out of the last 7654 calls to <function Model.make_predict_function.<locals>.predict_function at 0x7f75f8c43400> triggered tf.function retracing. Tracing is expensive and the excessive number of tracings could be due to (1) creating @tf.function repeatedly in a loop, (2) passing tensors with different shapes, (3) passing Python objects instead of tensors. For (1), please define your @tf.function outside of the loop. For (2), @tf.function has reduce_retracing=True option that can avoid unnecessary retracing. For (3), please refer to https://www.tensorflow.org/guide/function#controlling_retracing and https://www.tensorflow.org/api_docs/python/tf/function for  more details.\n"
          ]
        },
        {
          "name": "stdout",
          "output_type": "stream",
          "text": [
            "1/1 [==============================] - 0s 173ms/step\n"
          ]
        },
        {
          "data": {
            "image/png": "[encoded data removed]",
            "text/plain": [
              "<Figure size 640x480 with 1 Axes>"
            ]
          },
          "metadata": {},
          "output_type": "display_data"
        },
        {
          "data": {
            "image/png": "[encoded data removed]",
            "text/plain": [
              "<Figure size 640x480 with 1 Axes>"
            ]
          },
          "metadata": {},
          "output_type": "display_data"
        },
        {
          "data": {
            "image/png": "[encoded data removed]",
            "text/plain": [
              "<Figure size 640x480 with 1 Axes>"
            ]
          },
          "metadata": {},
          "output_type": "display_data"
        },
        {
          "data": {
            "image/png": "[encoded data removed]",
            "text/plain": [
              "<Figure size 640x480 with 1 Axes>"
            ]
          },
          "metadata": {},
          "output_type": "display_data"
        }
      ],
      "source": [
        "model = keras.models.load_model('cgan_generator.h5')\n",
        "# generate images\n",
        "latent_points, labels = get_latent_vector(10, 100)\n",
        "# specify labels\n",
        "labels = np.asarray([x for x in range(10)])\n",
        "# generate images\n",
        "X  = model.predict([latent_points, labels])\n",
        "# scale from [-1,1] to [0,1]\n",
        "X = (X + 1) / 2.0\n",
        "# plot the result\n",
        "save_plot(X, 2)"
      ]
    },
    {
      "cell_type": "code",
      "execution_count": null,
      "metadata": {
        "id": "GU2CHwxvDzR2"
      },
      "outputs": [],
      "source": []
    },
    {
      "cell_type": "markdown",
      "source": [
        "### Remarks:  This model is trained on just 20 epochs and we can see the result. we can get the better result by training it on more epochs but as the loss is BCE so there is great chance of Mode collapse on high epoch number , there will be fidelity but not diversity so its better to use the Wasserstein Loss with gradient penality or with gradient clipping"
      ],
      "metadata": {
        "id": "anrWOnT3feyj"
      }
    },
    {
      "cell_type": "code",
      "source": [],
      "metadata": {
        "id": "kyf16KvGf87k"
      },
      "execution_count": null,
      "outputs": []
    }
  ],
  "metadata": {
    "accelerator": "GPU",
    "colab": {
      "provenance": []
    },
    "kernelspec": {
      "display_name": "Python 3",
      "name": "python3"
    },
    "language_info": {
      "name": "python"
    }
  },
  "nbformat": 4,
  "nbformat_minor": 0
}